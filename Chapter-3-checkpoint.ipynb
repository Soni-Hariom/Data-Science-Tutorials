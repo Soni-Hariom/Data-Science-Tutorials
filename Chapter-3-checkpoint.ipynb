{
 "cells": [
  {
   "cell_type": "markdown",
   "id": "04bcf50e",
   "metadata": {},
   "source": [
    "# Conditional Statements And Loops In Python"
   ]
  },
  {
   "cell_type": "markdown",
   "id": "b6e43ee3",
   "metadata": {},
   "source": [
    "> Content:"
   ]
  },
  {
   "cell_type": "markdown",
   "id": "8f3cfac5",
   "metadata": {},
   "source": [
    "* Branching with `if`, `else` and `elif`\n",
    "* Nested conditions and `if` expressions\n",
    "* Iteration with `while` loops\n",
    "* Iterating over containers with `for` loops\n",
    "* Nested loops, `break` and `continue` statements"
   ]
  },
  {
   "cell_type": "markdown",
   "id": "dee1acef",
   "metadata": {},
   "source": [
    "## Branching using conditional statements and loops in Python"
   ]
  },
  {
   "cell_type": "markdown",
   "id": "cc98b2e6",
   "metadata": {},
   "source": [
    "![](https://i.imgur.com/7RfcHV0.png)"
   ]
  },
  {
   "cell_type": "markdown",
   "id": "f409f80e",
   "metadata": {},
   "source": [
    "## 1. Branching With `if`, `else` and  `elif`"
   ]
  },
  {
   "cell_type": "markdown",
   "id": "8770190d",
   "metadata": {},
   "source": [
    "One of the most powerful features of programming language is *branching*: the ability to make decisions and execute a different set of statements based on whether one or more conditions are true."
   ]
  },
  {
   "cell_type": "markdown",
   "id": "d706e0cc",
   "metadata": {},
   "source": [
    "### The `if` statement:"
   ]
  },
  {
   "cell_type": "markdown",
   "id": "c59a8b9a",
   "metadata": {},
   "source": [
    "In Python, branching is implemented using the `if` statement, which is written as follows:  "
   ]
  },
  {
   "cell_type": "markdown",
   "id": "7e989dab",
   "metadata": {},
   "source": [
    "    if condition:\n",
    "        statement1\n",
    "        statement2"
   ]
  },
  {
   "cell_type": "markdown",
   "id": "275c8406",
   "metadata": {},
   "source": [
    "The `condition` can be a *value, variable or expression*. If the condition evaluates to `True`, then the statements within the `if` block are executed. Notice the four spaces before `statement1`, `statement2`, etc. The spaces inform Python that these statements are associated with the `if` statement above. This technique of structuring code by adding spaces is called indentation."
   ]
  },
  {
   "cell_type": "markdown",
   "id": "5fb994e3",
   "metadata": {},
   "source": [
    "> **Indentation:-** Python relies heavily on indentation (white space before a statement) to define code structure. This makes Python code easy to read and understand. You can run into problems if you don't use indentation properly. Indent your code by placing the cursor at the start of the line and pressing the `Tab` key once to add 4-spaces. Pressing `Tab` again will indent the code further by 4 more spaces, and press `sift+Tab` will reduce the indentation by 4-spaces."
   ]
  },
  {
   "cell_type": "markdown",
   "id": "30cdca1e",
   "metadata": {},
   "source": [
    "> **For Example:-** Let's write some code to check and print a message if a given number is even."
   ]
  },
  {
   "cell_type": "code",
   "execution_count": 1,
   "id": "2449c976",
   "metadata": {},
   "outputs": [],
   "source": [
    "a_number=98"
   ]
  },
  {
   "cell_type": "code",
   "execution_count": 3,
   "id": "a6709043",
   "metadata": {},
   "outputs": [
    {
     "name": "stdout",
     "output_type": "stream",
     "text": [
      "We are inside an if block\n",
      "The given number 98 is even.\n"
     ]
    }
   ],
   "source": [
    "if a_number %2 == 0:                      # `%` gives the remider, Here if a number is divided by 2 and `== 0` means comparing remider is zero then we say the number is Even.\n",
    "    print('We are inside an if block')\n",
    "    print('The given number {} is even.'.format(a_number))"
   ]
  },
  {
   "cell_type": "markdown",
   "id": "1ec321ab",
   "metadata": {},
   "source": [
    "> **Conclusion:-** We use the modulus operator `%` to calculate the reminder from the divisor of `a_number` by `2`. Then we use the comparison operator `==` check if the reminder is `0`, which tells us whether the number is even, i.e., divisible by 2.  "
   ]
  },
  {
   "cell_type": "markdown",
   "id": "09e86f00",
   "metadata": {},
   "source": [
    "> Since `98` is divisible by `2`, the expression `a_number % 2 == 0` evaluates to `True`. So, the `print` statement under the `if` statement is executed also, note that we are using the string `.formate()` method to include the number within the message. "
   ]
  },
  {
   "cell_type": "markdown",
   "id": "8e329b4f",
   "metadata": {},
   "source": [
    "* Let's try the above again with an odd number."
   ]
  },
  {
   "cell_type": "code",
   "execution_count": null,
   "id": "6e685c3e",
   "metadata": {},
   "outputs": [],
   "source": [
    "another_number = 99"
   ]
  },
  {
   "cell_type": "code",
   "execution_count": null,
   "id": "9a8a61e2",
   "metadata": {},
   "outputs": [],
   "source": [
    "if another_number % 2 == 0:\n",
    "    print('We are in the if statement')\n",
    "    print('The given number {} is even.'.formate(another_number))"
   ]
  },
  {
   "cell_type": "markdown",
   "id": "c8b40a46",
   "metadata": {},
   "source": [
    "> **Conclusion :-** As expected, since the condition `another_number % 2 == 0`. Evaluates to `False`, no message is printed."
   ]
  },
  {
   "cell_type": "markdown",
   "id": "0c911452",
   "metadata": {},
   "source": [
    "### The `else` statement"
   ]
  },
  {
   "cell_type": "markdown",
   "id": "1781ce0f",
   "metadata": {},
   "source": [
    "We may want to print a different message if the number is not even in the above example.  \n",
    "This can be done by adding the `else` statement. It is written as follows:"
   ]
  },
  {
   "cell_type": "markdown",
   "id": "02c28f03",
   "metadata": {},
   "source": [
    "    if condition:\n",
    "        statement1\n",
    "        statement2\n",
    "    else:\n",
    "         statement3\n",
    "         statement4"
   ]
  },
  {
   "cell_type": "markdown",
   "id": "11e95094",
   "metadata": {},
   "source": [
    "If `condition` evaluates to `True`. The statetments in the `if` block are executed. If it evaluates to `False`, the statement in the `else` block are executed."
   ]
  },
  {
   "cell_type": "code",
   "execution_count": 1,
   "id": "5034f89a",
   "metadata": {},
   "outputs": [],
   "source": [
    "a_number = 98"
   ]
  },
  {
   "cell_type": "code",
   "execution_count": 2,
   "id": "64b2ec94",
   "metadata": {},
   "outputs": [
    {
     "name": "stdout",
     "output_type": "stream",
     "text": [
      "The given number 98 is even.\n"
     ]
    }
   ],
   "source": [
    "if a_number % 2 ==0:\n",
    "    print('The given number {} is even.'.format(a_number))\n",
    "else:\n",
    "    print('The given number {} is odd.'.format(a_number))"
   ]
  },
  {
   "cell_type": "code",
   "execution_count": 3,
   "id": "a26f347c",
   "metadata": {},
   "outputs": [],
   "source": [
    "another_number = 99"
   ]
  },
  {
   "cell_type": "code",
   "execution_count": 4,
   "id": "4292ceee",
   "metadata": {},
   "outputs": [
    {
     "name": "stdout",
     "output_type": "stream",
     "text": [
      "The given number 99 is odd.\n"
     ]
    }
   ],
   "source": [
    "if another_number % 2 ==0:\n",
    "    print('The given number {} is even.'.format(another_number))\n",
    "else:\n",
    "    print('The given number {} is odd.'.format(another_number))"
   ]
  },
  {
   "cell_type": "markdown",
   "id": "78287968",
   "metadata": {},
   "source": [
    "**Here is another example, which used the `in` operator to check membership within a tuple.**"
   ]
  },
  {
   "cell_type": "code",
   "execution_count": 5,
   "id": "a455d232",
   "metadata": {},
   "outputs": [],
   "source": [
    "the_3_musketeers = ('Athos','Porthos','Aramis')"
   ]
  },
  {
   "cell_type": "code",
   "execution_count": 6,
   "id": "86c5cd4a",
   "metadata": {},
   "outputs": [],
   "source": [
    "a_candidate = \"D'Artaganm\""
   ]
  },
  {
   "cell_type": "code",
   "execution_count": 7,
   "id": "723447c5",
   "metadata": {},
   "outputs": [
    {
     "name": "stdout",
     "output_type": "stream",
     "text": [
      "D'Artaganm is not a musketeer.\n"
     ]
    }
   ],
   "source": [
    "if a_candidate in the_3_musketeers:\n",
    "    print('{} is a musketeer.'.format(a_candidate))\n",
    "else:\n",
    "    print('{} is not a musketeer.'.format(a_candidate))"
   ]
  },
  {
   "cell_type": "markdown",
   "id": "3c27b33c",
   "metadata": {},
   "source": [
    "### The  `elif` Statement"
   ]
  },
  {
   "cell_type": "markdown",
   "id": "80662b98",
   "metadata": {},
   "source": [
    "Python also provides an `elif` statement (short for \"else if\") to chain a sereies of canditional blocks. The conditions are evaluated one by one. For the first condition that evaluates to `True`, the block of statements below it is executed. the remaining conditions and statements are not evaluated. So, in an `if`, `elif`, `elif`...chain, at most one block of statements is executed, the one corresponding to the first condition that evaluates to `True`. "
   ]
  },
  {
   "cell_type": "code",
   "execution_count": 8,
   "id": "f4c8aa6a",
   "metadata": {},
   "outputs": [
    {
     "name": "stdout",
     "output_type": "stream",
     "text": [
      "Give the today's day name to know more about:Wednesday\n"
     ]
    }
   ],
   "source": [
    "today = input(\"Give the today's day name to know more about:\" )"
   ]
  },
  {
   "cell_type": "code",
   "execution_count": 9,
   "id": "ae19d6b0",
   "metadata": {},
   "outputs": [
    {
     "name": "stdout",
     "output_type": "stream",
     "text": [
      "Today is the day of Odin, the supreme diety.\n"
     ]
    }
   ],
   "source": [
    "if today == 'Sunday':\n",
    "    print('Today is the day of the Sun.')\n",
    "elif today == 'Monday':\n",
    "    print('Today is the day of the Moon.')\n",
    "elif today == 'Tuesday':\n",
    "    print('Today is the day of Try, the God of war.')\n",
    "elif today == 'Wednesday':\n",
    "    print('Today is the day of Odin, the supreme diety.')\n",
    "elif today == 'Thursday':\n",
    "    print('Today is the day of Thor, the God of thunder.')\n",
    "elif today == 'Friday':\n",
    "    print('Today is the day of Frigga, the Goddess of beauty.')\n",
    "elif today == 'Saturday':\n",
    "    print('Today is the day of Saturn, the God of fun and feasting.')"
   ]
  },
  {
   "cell_type": "markdown",
   "id": "c80b9b7d",
   "metadata": {},
   "source": [
    "* In the above exxample, the first 3 conditions evaluate to `False`, so none of the first 3 messages are printed. The fourth condition evaluates to `True`. So, the corresponding message is printed. The remaining conditions are skipped. try changing the value of `today` above and re-executing the cell to print all the different messages."
   ]
  },
  {
   "cell_type": "markdown",
   "id": "2db392a7",
   "metadata": {},
   "source": [
    "**To verify that the  remaining conditions are skipped, let us try another example:**"
   ]
  },
  {
   "cell_type": "code",
   "execution_count": 18,
   "id": "630aabcb",
   "metadata": {},
   "outputs": [
    {
     "name": "stdout",
     "output_type": "stream",
     "text": [
      "Give an integer: 15\n"
     ]
    }
   ],
   "source": [
    "new_number = int(input('Give an integer: '))"
   ]
  },
  {
   "cell_type": "code",
   "execution_count": 19,
   "id": "818c29c8",
   "metadata": {},
   "outputs": [
    {
     "name": "stdout",
     "output_type": "stream",
     "text": [
      "15 is divisible by 3.\n"
     ]
    }
   ],
   "source": [
    "if new_number % 2 == 0:\n",
    "    print('{} is divisible by 2.'.format(new_number))\n",
    "elif new_number % 3 == 0:\n",
    "    print('{} is divisible by 3.'.format(new_number))\n",
    "elif new_number % 5 == 0:\n",
    "    print('{} is divisible by 5.'.format(new_number))\n",
    "elif new_number % 7 == 0:\n",
    "    print ('{} is divisible by 7.'.format(new_number))"
   ]
  },
  {
   "cell_type": "markdown",
   "id": "536f42c5",
   "metadata": {},
   "source": [
    "* Note that the message `15 is divisible by 5` is not printed because the condition `new_number % 5 == 0` isn't evaluated, since the previous condition `new_number % 3 == 0` evaluates to `True`. This is the key difference between using a chain of `if`, `elif`, `elif`,... statements vs a chain of `if` statements, where each condition is evaluated independently."
   ]
  },
  {
   "cell_type": "code",
   "execution_count": 21,
   "id": "f13db924",
   "metadata": {},
   "outputs": [
    {
     "name": "stdout",
     "output_type": "stream",
     "text": [
      "15 is divisible by 3.\n",
      "15 is divisible by 5.\n"
     ]
    }
   ],
   "source": [
    "# See the differences\n",
    "\n",
    "if new_number % 2 == 0:\n",
    "    print('{} is divisible by 2.'.format(new_number))\n",
    "if new_number % 3 == 0:\n",
    "    print('{} is divisible by 3.'.format(new_number))\n",
    "if new_number % 5 == 0:\n",
    "    print('{} is divisible by 5.'.format(new_number))\n",
    "if new_number % 7 == 0:\n",
    "    print('{} is divisible by 7.'.format(new_number))"
   ]
  },
  {
   "cell_type": "markdown",
   "id": "87866fb9",
   "metadata": {},
   "source": [
    "* Note the key differences between `if`, `if`, `if`, ... and `if`, `elif`, `elif`, ..."
   ]
  },
  {
   "cell_type": "markdown",
   "id": "fbcfddef",
   "metadata": {},
   "source": [
    "### Using `if`, `elif`,  and, `else` together"
   ]
  },
  {
   "cell_type": "markdown",
   "id": "90d03e63",
   "metadata": {},
   "source": [
    "You can also include an `else` statement at the end of a chain of `if`, `elif`, `elif`, ... statements. This code within the `else` block is evaluated when none of the condition hold true."
   ]
  },
  {
   "cell_type": "code",
   "execution_count": 22,
   "id": "b16cfd36",
   "metadata": {},
   "outputs": [
    {
     "name": "stdout",
     "output_type": "stream",
     "text": [
      "Enter an integer: 49\n"
     ]
    }
   ],
   "source": [
    "number=int(input('Enter an integer: '))"
   ]
  },
  {
   "cell_type": "code",
   "execution_count": 24,
   "id": "5bd70584",
   "metadata": {},
   "outputs": [
    {
     "name": "stdout",
     "output_type": "stream",
     "text": [
      "All checks failed!\n",
      "49 is not divisible by 2,3,or 5.\n"
     ]
    }
   ],
   "source": [
    "if number % 2 == 0:\n",
    "    print('{} is divisible by 2.'.format(number))\n",
    "elif number % 3 == 0:\n",
    "    print('{} is divisible by 3.'.foramt(number))\n",
    "elif number % 5 == 0:\n",
    "    print('{} is divisible by 5.'.format(number))\n",
    "else:\n",
    "    print('All checks failed!')\n",
    "    print('{} is not divisible by 2,3,or "
   ]
  },
  {
   "cell_type": "markdown",
   "id": "8792e6bb",
   "metadata": {},
   "source": [
    "**Condition can also be combined using the logical operators `and`, `or`, and `not`. Logical operators are explained in details in the [Chapter-1](https://jovian.ai/sonihariom555/chapter-1)**"
   ]
  },
  {
   "cell_type": "code",
   "execution_count": 52,
   "id": "b006fd67",
   "metadata": {},
   "outputs": [
    {
     "name": "stdout",
     "output_type": "stream",
     "text": [
      "Enter a number : 15\n"
     ]
    }
   ],
   "source": [
    "A_number = float(input('Enter a number : '))"
   ]
  },
  {
   "cell_type": "code",
   "execution_count": 53,
   "id": "72380f5a",
   "metadata": {},
   "outputs": [
    {
     "name": "stdout",
     "output_type": "stream",
     "text": [
      "The number 15.0 is divisible by 3 and 5.\n"
     ]
    }
   ],
   "source": [
    "if A_number % 3 == 0 and A_number % 5 == 0 :\n",
    "    print('The number {} is divisible by 3 and 5.'.format(A_number))\n",
    "elif not A_number % 3 == 0:\n",
    "    print('The number {} is not divisible by 3'.format(A_number))\n",
    "elif not A_number % 5 == 0:\n",
    "    print('The number {} is not divisible by 5'.format(A_number))\n",
    "else:\n",
    "    print('The number {} is not divisible by 3 and 5 both.'.format(A_number))"
   ]
  },
  {
   "cell_type": "markdown",
   "id": "77702dcb",
   "metadata": {},
   "source": [
    "### Non-Boolean Conditions"
   ]
  },
  {
   "cell_type": "markdown",
   "id": "f695e50d",
   "metadata": {},
   "source": [
    "Note that conditions do not necessarily have to be booleans. In fact, a condition can be any value. The value is converted into a boolean autometically using the `bool` operator. This means that falsy values like `0`, `''`, `{}`, `[]`, etc... evaluate to `False` and all other values evaluate to `True`."
   ]
  },
  {
   "cell_type": "code",
   "execution_count": 54,
   "id": "0084cc72",
   "metadata": {},
   "outputs": [
    {
     "name": "stdout",
     "output_type": "stream",
     "text": [
      "The condition evaluated to False\n"
     ]
    }
   ],
   "source": [
    "if '':\n",
    "    print('The condition evaluated to True')\n",
    "else:\n",
    "    print('The condition evaluated to False')"
   ]
  },
  {
   "cell_type": "code",
   "execution_count": 55,
   "id": "1066cab1",
   "metadata": {},
   "outputs": [
    {
     "name": "stdout",
     "output_type": "stream",
     "text": [
      "The condition evaluated to True\n"
     ]
    }
   ],
   "source": [
    "if 'Hello':\n",
    "    print('The condition evaluated to True')\n",
    "else:\n",
    "    print('The condition evaluated to False')"
   ]
  },
  {
   "cell_type": "code",
   "execution_count": 57,
   "id": "4955b100",
   "metadata": {},
   "outputs": [
    {
     "name": "stdout",
     "output_type": "stream",
     "text": [
      "The condition is True\n"
     ]
    }
   ],
   "source": [
    "if {'a':2}:\n",
    "    print('The condition is True')\n",
    "else:\n",
    "    print('The condition is False')"
   ]
  },
  {
   "cell_type": "code",
   "execution_count": 58,
   "id": "d1e60720",
   "metadata": {},
   "outputs": [
    {
     "name": "stdout",
     "output_type": "stream",
     "text": [
      "The condition evaluated to False\n"
     ]
    }
   ],
   "source": [
    "if None:\n",
    "    print('The condition evaluated to True')\n",
    "else:\n",
    "    print('The condition evaluated to False')"
   ]
  },
  {
   "cell_type": "markdown",
   "id": "fa65f497",
   "metadata": {},
   "source": [
    "### 2. Nested Conditional Statements"
   ]
  },
  {
   "cell_type": "markdown",
   "id": "34b419b9",
   "metadata": {},
   "source": [
    "The code inside an `if` block can also include an `if` statement inside it. This pattern is called *nesting* and is used to check for another condtion after a particular condition holds true."
   ]
  },
  {
   "cell_type": "code",
   "execution_count": 63,
   "id": "532dcde8",
   "metadata": {},
   "outputs": [
    {
     "name": "stdout",
     "output_type": "stream",
     "text": [
      "Enter an number : 3\n"
     ]
    }
   ],
   "source": [
    "one_number = float(input('Enter an number : '))"
   ]
  },
  {
   "cell_type": "code",
   "execution_count": 64,
   "id": "9cc6440d",
   "metadata": {},
   "outputs": [
    {
     "name": "stdout",
     "output_type": "stream",
     "text": [
      "3.0 is odd number.\n",
      "3.0 is not divisible by 5.\n"
     ]
    }
   ],
   "source": [
    "if one_number % 2 == 0:\n",
    "    print('{} is even number.'.format(one_number))\n",
    "    if one_number % 3 == 0:\n",
    "        print('{} is also divisible by 3.'.format(one_number))\n",
    "    else:\n",
    "        print('{} is not divisible by 3.'.format(one_number))\n",
    "else:\n",
    "    print('{} is odd number.'.format(one_number))\n",
    "    if one_number % 5 == 0:\n",
    "        print('{} is also divisible by 5.'.format(one_number))\n",
    "    else:\n",
    "        print('{} is not divisible by 5.'.format(one_number))"
   ]
  },
  {
   "cell_type": "code",
   "execution_count": 84,
   "id": "9e299d69",
   "metadata": {},
   "outputs": [
    {
     "name": "stdout",
     "output_type": "stream",
     "text": [
      "Enter a number : 17\n"
     ]
    }
   ],
   "source": [
    "A_number = int(input('Enter a number : '))"
   ]
  },
  {
   "cell_type": "code",
   "execution_count": 85,
   "id": "f12b3d8d",
   "metadata": {},
   "outputs": [
    {
     "name": "stdout",
     "output_type": "stream",
     "text": [
      "The number 17 is not divisible by both 3 and 5.\n"
     ]
    }
   ],
   "source": [
    "if A_number % 3 == 0 :\n",
    "    if A_number % 5 == 0 :\n",
    "        print('The number {} is divisible by 3 and 5.'.format(A_number))\n",
    "    else:\n",
    "        print('The number {} is divisible by 3 but not by 5.'.format(A_number))\n",
    "elif A_number % 5 == 0 :\n",
    "        print('The number {} is divisible by 5 but not by 3.'.format(A_number))\n",
    "else:\n",
    "    print('The number {} is not divisible by both 3 and 5.'.format(A_number))"
   ]
  },
  {
   "cell_type": "markdown",
   "id": "1b9b1b5d",
   "metadata": {},
   "source": [
    "* Notice how the `print` statements are indented by 8 spaces to indicate that they are part of the inner `if` / `else` blocks."
   ]
  },
  {
   "cell_type": "markdown",
   "id": "bce577c8",
   "metadata": {},
   "source": [
    "> Nested `if`, `else` statements are often confusing to read and prone to human error. It's good to avoid nesting whenever possible, or limit the nesting to 1 or 2 levels."
   ]
  },
  {
   "cell_type": "markdown",
   "id": "537b1b65",
   "metadata": {},
   "source": [
    "### Shorthand `if` conditional expression"
   ]
  },
  {
   "cell_type": "markdown",
   "id": "9192210a",
   "metadata": {},
   "source": [
    "A frequent use case of the `if` statement involves testing a condition and setting a variable's value based on the condition."
   ]
  },
  {
   "cell_type": "code",
   "execution_count": 86,
   "id": "949d7b97",
   "metadata": {},
   "outputs": [
    {
     "name": "stdout",
     "output_type": "stream",
     "text": [
      "Enter a number : 13\n",
      "The number 13 is Odd.\n"
     ]
    }
   ],
   "source": [
    "a_num = int(input('Enter a number : '))\n",
    "\n",
    "if a_num % 2 == 0 :\n",
    "    parity = \"Even\"\n",
    "else:\n",
    "    parity = \"Odd\"\n",
    "print('The number {} is {}.'.format(a_num, parity))"
   ]
  },
  {
   "cell_type": "markdown",
   "id": "d07c7606",
   "metadata": {},
   "source": [
    "* Python provides a shorter syntax, which allow writing such conditions in a single line of code. It is known as a *conditional expression*, sometimes also referred to as a *ternary operator*. It has the following syntax:  \n",
    "\n",
    "``` \n",
    "x = True_value if condition else False_value  \n",
    "\n",
    "``` \n",
    "\n",
    "It has the same behavior as the following `if`- `else` block:  \n",
    "\n",
    "```\n",
    "if condition;\n",
    "    x = True_value\n",
    "else:\n",
    "    x = False_value \n",
    "```\n",
    "\n",
    "Let's try it out for the example above:\n",
    "        "
   ]
  },
  {
   "cell_type": "code",
   "execution_count": 87,
   "id": "411622ea",
   "metadata": {},
   "outputs": [],
   "source": [
    "parity = \"Even\" if a_num % 2 == 0 else 'Odd'"
   ]
  },
  {
   "cell_type": "code",
   "execution_count": 88,
   "id": "6d91f998",
   "metadata": {},
   "outputs": [
    {
     "name": "stdout",
     "output_type": "stream",
     "text": [
      "The number 13 is Odd.\n"
     ]
    }
   ],
   "source": [
    "print('The number {} is {}.'.format(a_num, parity))"
   ]
  },
  {
   "cell_type": "markdown",
   "id": "973a02bb",
   "metadata": {},
   "source": [
    "### Statements and Expressions"
   ]
  },
  {
   "cell_type": "markdown",
   "id": "45d8e7b5",
   "metadata": {},
   "source": [
    "The conditional expression highlights an essential distinction between statements and expressions in Python."
   ]
  },
  {
   "cell_type": "markdown",
   "id": "4c83c94e",
   "metadata": {},
   "source": [
    "> **Statement:-** A statement is an instruction that can be executed. Every line of code we have written so far is a statement e.g. assigning a variable, calling a function, conditiional statements using `if`, `else`, and `elif`, loops using `for` and `while` etc..."
   ]
  },
  {
   "cell_type": "markdown",
   "id": "b4bda90d",
   "metadata": {},
   "source": [
    "> **Expressions:-** An expression is some code that evaluates to a value. Examples include values of different data types, arithmetic expressions, conditions, variables, fuction cells, conditional expression, etc..."
   ]
  },
  {
   "cell_type": "markdown",
   "id": "ffee229c",
   "metadata": {},
   "source": [
    "Most expressions can be executed as statements but not all statements are expressions. For example, the regular `if` statement is not an expression since it does not evaluate to a value. It merely performs some branching in the code. Similarly, loops and function definitions are not expressions (we'll learn more about these in later sections). "
   ]
  },
  {
   "cell_type": "markdown",
   "id": "ac615010",
   "metadata": {},
   "source": [
    "As a rule of thumb, an expression is anything that can appear on the right side of the assignment operator `=`. You can use this as a test for checking whether something is an expression or not. You'll get a syntax error if you try to assign something that is not an expression."
   ]
  },
  {
   "cell_type": "code",
   "execution_count": 89,
   "id": "05c0aa8e",
   "metadata": {},
   "outputs": [
    {
     "ename": "SyntaxError",
     "evalue": "invalid syntax (3283657509.py, line 3)",
     "output_type": "error",
     "traceback": [
      "\u001b[0;36m  File \u001b[0;32m\"/tmp/ipykernel_44/3283657509.py\"\u001b[0;36m, line \u001b[0;32m3\u001b[0m\n\u001b[0;31m    result = if a_num % 2 == 0:\u001b[0m\n\u001b[0m             ^\u001b[0m\n\u001b[0;31mSyntaxError\u001b[0m\u001b[0;31m:\u001b[0m invalid syntax\n"
     ]
    }
   ],
   "source": [
    "# if statement\n",
    "\n",
    "result = if a_num % 2 == 0:           # Here not an expression\n",
    "    \"Even\"\n",
    "else:\n",
    "    \"Odd\""
   ]
  },
  {
   "cell_type": "code",
   "execution_count": 90,
   "id": "7ce80d91",
   "metadata": {},
   "outputs": [],
   "source": [
    "# if expression\n",
    "\n",
    "result = \"Even\" if a_num % 2 == 0 else \"Odd\"     # Here is an expression"
   ]
  },
  {
   "cell_type": "markdown",
   "id": "1f0ad0d1",
   "metadata": {},
   "source": [
    "### The `pass` statement"
   ]
  },
  {
   "cell_type": "markdown",
   "id": "6bd06d49",
   "metadata": {},
   "source": [
    "`if` statements can not be empty, there must be at least one statement in every `if` and `elif` block. You can use the `pass` statement to do nothing and avoid getting error."
   ]
  },
  {
   "cell_type": "code",
   "execution_count": 97,
   "id": "7d834cad",
   "metadata": {},
   "outputs": [],
   "source": [
    "a_number = 15"
   ]
  },
  {
   "cell_type": "code",
   "execution_count": 98,
   "id": "89b3d5df",
   "metadata": {},
   "outputs": [
    {
     "ename": "IndentationError",
     "evalue": "expected an indented block (2916593066.py, line 2)",
     "output_type": "error",
     "traceback": [
      "\u001b[0;36m  File \u001b[0;32m\"/tmp/ipykernel_44/2916593066.py\"\u001b[0;36m, line \u001b[0;32m2\u001b[0m\n\u001b[0;31m    elif a_number % 3 ==0:\u001b[0m\n\u001b[0m    ^\u001b[0m\n\u001b[0;31mIndentationError\u001b[0m\u001b[0;31m:\u001b[0m expected an indented block\n"
     ]
    }
   ],
   "source": [
    "if a_number % 2 == 0:\n",
    "elif a_number % 3 ==0:\n",
    "    print('{} is divisible by 3 but not divisible by 2')"
   ]
  },
  {
   "cell_type": "code",
   "execution_count": 99,
   "id": "ef694739",
   "metadata": {},
   "outputs": [
    {
     "name": "stdout",
     "output_type": "stream",
     "text": [
      "15 is divisible by 3 but not divisible by 2.\n"
     ]
    }
   ],
   "source": [
    "if a_number % 2 == 0:\n",
    "    pass\n",
    "elif a_number % 3 ==0:\n",
    "    print('{} is divisible by 3 but not divisible by 2.'.format(a_number))"
   ]
  },
  {
   "cell_type": "markdown",
   "id": "aa08f593",
   "metadata": {},
   "source": [
    "## 3. Iteration with `while` loops"
   ]
  },
  {
   "cell_type": "markdown",
   "id": "721b383a",
   "metadata": {},
   "source": [
    "Another powerful feature of programmming languages, closely related to branching, is running one or more statements multiple times. This feature is often referred to as *iteration* on *looping*, and there are two ways to do this in Python: using `while` loops and `for` loops.  \n",
    "\n",
    "`while` loops syntax:\n",
    "\n",
    "```\n",
    "while condition:\n",
    "    statement(s)\n",
    "```\n",
    "Statements in the code block under `while` are executed repeatedly as long as the `condition` evaluates to `True`. Generally, one of the statements under `while` makes some change to a variable that causes the condition to evaluate to `False` after a certain number of iterations.  \n",
    "\n",
    "Let's try to calculate the factorial of `100` using a `while` loop. The factorial of a number `n` is the product (multiplication) of all the numbers from `1` to `n`, e.g.:- `1*2*3*.....*(n-2)*(n-1)*n`. "
   ]
  },
  {
   "cell_type": "code",
   "execution_count": 102,
   "id": "e4fe8aa5",
   "metadata": {},
   "outputs": [
    {
     "name": "stdout",
     "output_type": "stream",
     "text": [
      "The factorial of 100 is : 93326215443944152681699238856266700490715968264381621468592963895217599993229915608941463976156518286253697920827223758251185210916864000000000000000000000000.\n"
     ]
    }
   ],
   "source": [
    "result = 1\n",
    "i = 1\n",
    "\n",
    "while i <= 100:\n",
    "    result = result * i\n",
    "    i = i + 1\n",
    "print('The factorial of 100 is : {}.'.format(result))"
   ]
  },
  {
   "cell_type": "markdown",
   "id": "9cf6e413",
   "metadata": {},
   "source": [
    "Here is how the above code workes:"
   ]
  },
  {
   "cell_type": "markdown",
   "id": "71e781b0",
   "metadata": {},
   "source": [
    "* We initialize two variables, `result` and , `i`. `result` will contain the final outcome. And `i` is used to keep track of the next number to be multiplied with `result`. Both are initialized to `1` (explaning why? - factorial goes upto 1.)\n",
    "* The condition `i <= 100` holds true (since `i` is initially `1`), so the `while`block is executed.\n",
    "* The `result` is updated to `result * i`, `i` is increased by `1` and it now has the value `2`.\n",
    "* At this point, the conditiion `i <= 100` is evaluated again. Since it continues to hold true, `result` is again updated to `result * i` and  `i` is inceased to `3`.\n",
    "* This process is repeated till the condition evaluates to `False`, the execution of the loop ends and the `print` statement below it is executed. "
   ]
  },
  {
   "cell_type": "markdown",
   "id": "3df48328",
   "metadata": {},
   "source": [
    "Can you see why `result` contains the value of the factorial of 100 at the end? If not, try adding `print` statements inside the `while` block to print and `i` in each  iteration."
   ]
  },
  {
   "cell_type": "markdown",
   "id": "cd95b281",
   "metadata": {},
   "source": [
    "> **Note:-** Iteration is a powerful technique because it gives computers a massive advantage over human beings in performing thousands or even millions of repeatitive operations really fast. With just 4-5 line code, we were able to mmultiply 100 numbers almost instantly. The same code can be used to multiply a thousand number (just change the condition to `i<=1000`) in few seconds."
   ]
  },
  {
   "cell_type": "markdown",
   "id": "1861ab78",
   "metadata": {},
   "source": [
    "**You can check how long a cell takes time to execute by adding the *magic command* `%%time` at the top of the cell. Try checking how long it takes to compute the factorials of `100`, `1000`, `10000`, etc...**"
   ]
  },
  {
   "cell_type": "code",
   "execution_count": 107,
   "id": "ad4163ab",
   "metadata": {},
   "outputs": [
    {
     "name": "stdout",
     "output_type": "stream",
     "text": [
      "The factorial value  of 1000 is 402387260077093773543702433923003985719374864210714632543799910429938512398629020592044208486969404800479988610197196058631666872994808558901323829669944590997424504087073759918823627727188732519779505950995276120874975462497043601418278094646496291056393887437886487337119181045825783647849977012476632889835955735432513185323958463075557409114262417474349347553428646576611667797396668820291207379143853719588249808126867838374559731746136085379534524221586593201928090878297308431392844403281231558611036976801357304216168747609675871348312025478589320767169132448426236131412508780208000261683151027341827977704784635868170164365024153691398281264810213092761244896359928705114964975419909342221566832572080821333186116811553615836546984046708975602900950537616475847728421889679646244945160765353408198901385442487984959953319101723355556602139450399736280750137837615307127761926849034352625200015888535147331611702103968175921510907788019393178114194545257223865541461062892187960223838971476088506276862967146674697562911234082439208160153780889893964518263243671616762179168909779911903754031274622289988005195444414282012187361745992642956581746628302955570299024324153181617210465832036786906117260158783520751516284225540265170483304226143974286933061690897968482590125458327168226458066526769958652682272807075781391858178889652208164348344825993266043367660176999612831860788386150279465955131156552036093988180612138558600301435694527224206344631797460594682573103790084024432438465657245014402821885252470935190620929023136493273497565513958720559654228749774011413346962715422845862377387538230483865688976461927383814900140767310446640259899490222221765904339901886018566526485061799702356193897017860040811889729918311021171229845901641921068884387121855646124960798722908519296819372388642614839657382291123125024186649353143970137428531926649875337218940694281434118520158014123344828015051399694290153483077644569099073152433278288269864602789864321139083506217095002597389863554277196742822248757586765752344220207573630569498825087968928162753848863396909959826280956121450994871701244516461260379029309120889086942028510640182154399457156805941872748998094254742173582401063677404595741785160829230135358081840096996372524230560855903700624271243416909004153690105933983835777939410970027753472000000000000000000000000000000000000000000000000000000000000000000000000000000000000000000000000000000000000000000000000000000000000000000000000000000000000000000000000000000000000000000000000000000000000000000000000000000000000000000000000000000000:\n",
      "CPU times: user 435 µs, sys: 1.13 ms, total: 1.57 ms\n",
      "Wall time: 1.58 ms\n"
     ]
    }
   ],
   "source": [
    "%%time    \n",
    "# magic command to check how long this cell takes time to execute the code\n",
    "\n",
    "result = 1\n",
    "i = 1\n",
    "\n",
    "while i<=1000:\n",
    "    result *= i     # same as (result = result * i)\n",
    "    i += 1          #same as (i = i + 1)\n",
    "print('The factorial value  of 1000 is {}:'.format(result))"
   ]
  },
  {
   "cell_type": "markdown",
   "id": "b63336f1",
   "metadata": {},
   "source": [
    "**Here is another example that uses two `while` loops to create an interesting pattern.**"
   ]
  },
  {
   "cell_type": "code",
   "execution_count": 109,
   "id": "6a1e1d53",
   "metadata": {},
   "outputs": [
    {
     "name": "stdout",
     "output_type": "stream",
     "text": [
      "*\n",
      "**\n",
      "***\n",
      "****\n",
      "*****\n",
      "******\n",
      "*******\n",
      "********\n",
      "*********\n",
      "**********\n",
      "*********\n",
      "********\n",
      "*******\n",
      "******\n",
      "*****\n",
      "****\n",
      "***\n",
      "**\n",
      "*\n"
     ]
    }
   ],
   "source": [
    "line =\"*\"\n",
    "max_length = 10\n",
    "\n",
    "while len(line) < max_length:\n",
    "    print(line)\n",
    "    line += \"*\"\n",
    "\n",
    "while len(line)>0:\n",
    "    print(line)\n",
    "    line= line[:-1]"
   ]
  },
  {
   "cell_type": "markdown",
   "id": "23ddf075",
   "metadata": {},
   "source": [
    "* See how its work? and find some interesting patters using `while` loop"
   ]
  },
  {
   "cell_type": "markdown",
   "id": "c7655750",
   "metadata": {},
   "source": [
    "**An exercise:-** Try printing the following pattern using a while loop (Hint: use string concatenation):\n",
    "\n",
    "```\n",
    "          *\n",
    "         **\n",
    "        ***\n",
    "       ****\n",
    "      *****\n",
    "     ******\n",
    "      *****\n",
    "       ****\n",
    "        ***\n",
    "         **\n",
    "          *\n",
    "```\n",
    "\n",
    "Here's another one, putting the two together:\n",
    "\n",
    "\n",
    "```\n",
    "          *\n",
    "         ***\n",
    "        *****\n",
    "       *******\n",
    "      *********\n",
    "     ***********\n",
    "      *********\n",
    "       *******\n",
    "        *****\n",
    "         ***\n",
    "          *\n",
    "```"
   ]
  },
  {
   "cell_type": "markdown",
   "id": "72acea13",
   "metadata": {},
   "source": [
    "**Solution-1:-**"
   ]
  },
  {
   "cell_type": "code",
   "execution_count": 11,
   "id": "7dfe79a4",
   "metadata": {},
   "outputs": [
    {
     "name": "stdout",
     "output_type": "stream",
     "text": [
      "     *\n",
      "    **\n",
      "   ***\n",
      "  ****\n",
      " *****\n",
      "******\n",
      " *****\n",
      "  ****\n",
      "   ***\n",
      "    **\n",
      "     *\n"
     ]
    }
   ],
   "source": [
    "line = \"*\"\n",
    "max_length = 6\n",
    "\n",
    "while len(line)< max_length :\n",
    "    print(\" \"*(max_length-len(line)) + line)\n",
    "    line +=\"*\"\n",
    "while len(line)>0 :\n",
    "    print(\" \"*(max_length-len(line)) + line)\n",
    "    line=line[:-1]"
   ]
  },
  {
   "cell_type": "markdown",
   "id": "c7bf5dc5",
   "metadata": {},
   "source": [
    "**Solution-2:-**"
   ]
  },
  {
   "cell_type": "code",
   "execution_count": 16,
   "id": "d76481fb",
   "metadata": {},
   "outputs": [
    {
     "name": "stdout",
     "output_type": "stream",
     "text": [
      "     *\n",
      "    ***\n",
      "   *****\n",
      "  *******\n",
      " *********\n",
      "***********\n",
      " *********\n",
      "  *******\n",
      "   *****\n",
      "    ***\n",
      "     *\n"
     ]
    }
   ],
   "source": [
    "line = \"*\"\n",
    "max_length = 11\n",
    "\n",
    "while len(line)<max_length :\n",
    "    print(\" \"*int((max_length-len(line))/2) + line)\n",
    "    line += \"**\"\n",
    "while len(line)>0:\n",
    "    print(\" \"*int((max_length-len(line))/2) + line)\n",
    "    line = line[:-2]"
   ]
  },
  {
   "cell_type": "markdown",
   "id": "663bfefb",
   "metadata": {},
   "source": [
    "**A New One:-**"
   ]
  },
  {
   "cell_type": "code",
   "execution_count": 22,
   "id": "e0a3d170",
   "metadata": {},
   "outputs": [
    {
     "name": "stdout",
     "output_type": "stream",
     "text": [
      "     *\n",
      "    * *\n",
      "   * * *\n",
      "  * * * *\n",
      " * * * * *\n",
      "* * * * * *\n",
      " * * * * *\n",
      "  * * * *\n",
      "   * * *\n",
      "    * *\n",
      "     *\n"
     ]
    }
   ],
   "source": [
    "line = \"*\"\n",
    "max_length = 11\n",
    "\n",
    "while len(line)<max_length :\n",
    "    print(\" \"*int((max_length-len(line))/2) + line)\n",
    "    line = line + \" \" + \"*\"\n",
    "while len(line)>0:\n",
    "    print(\" \"*int((max_length-len(line))/2) + line)\n",
    "    line = line[:-2]"
   ]
  },
  {
   "cell_type": "markdown",
   "id": "83e210a2",
   "metadata": {},
   "source": [
    "### Infinite Loops"
   ]
  },
  {
   "cell_type": "markdown",
   "id": "5d4a022e",
   "metadata": {},
   "source": [
    "Suppose the condition in a `while` loop always holds true. In that case, Python repeatedly executes the code within the loop forever, and the execution of the code never completes. This situation is called an infinite loop. It generally indicates that you've made a mistake in your code. For example, you may have provided the wrong condition or forgotten to update a variable within the loop, eventually falsifying the condition.  \n",
    "If your code is *stuck* in an infinite loop during execution, just press the **\"Stop\"** button on the tool bar (next to **\"Run\"**) or select **\"Kernel > Interrupt\"** from the menu bar. This will *interrupt* the execution of the code. The following two cell both lead to infinite loops and need to be interrupted."
   ]
  },
  {
   "cell_type": "code",
   "execution_count": 1,
   "id": "bdd18335",
   "metadata": {},
   "outputs": [
    {
     "ename": "KeyboardInterrupt",
     "evalue": "",
     "output_type": "error",
     "traceback": [
      "\u001b[0;31m---------------------------------------------------------------------------\u001b[0m",
      "\u001b[0;31mKeyboardInterrupt\u001b[0m                         Traceback (most recent call last)",
      "\u001b[0;32m/tmp/ipykernel_37/606127263.py\u001b[0m in \u001b[0;36m<module>\u001b[0;34m\u001b[0m\n\u001b[1;32m      5\u001b[0m \u001b[0;34m\u001b[0m\u001b[0m\n\u001b[1;32m      6\u001b[0m \u001b[0;32mwhile\u001b[0m \u001b[0mi\u001b[0m\u001b[0;34m<=\u001b[0m\u001b[0;36m100\u001b[0m\u001b[0;34m:\u001b[0m\u001b[0;34m\u001b[0m\u001b[0;34m\u001b[0m\u001b[0m\n\u001b[0;32m----> 7\u001b[0;31m     \u001b[0mresult\u001b[0m \u001b[0;34m*=\u001b[0m \u001b[0mi\u001b[0m\u001b[0;34m\u001b[0m\u001b[0;34m\u001b[0m\u001b[0m\n\u001b[0m\u001b[1;32m      8\u001b[0m \u001b[0;34m\u001b[0m\u001b[0m\n\u001b[1;32m      9\u001b[0m \u001b[0;31m# Here we forgot to increment i\u001b[0m\u001b[0;34m\u001b[0m\u001b[0;34m\u001b[0m\u001b[0;34m\u001b[0m\u001b[0m\n",
      "\u001b[0;31mKeyboardInterrupt\u001b[0m: "
     ]
    }
   ],
   "source": [
    "# Infinite loop -> Interrupt this cell\n",
    "\n",
    "result = 1\n",
    "i=1\n",
    "\n",
    "while i<=100:\n",
    "    result *= i\n",
    "    \n",
    "# Here we forgot to increment i "
   ]
  },
  {
   "cell_type": "markdown",
   "id": "bb473d78",
   "metadata": {},
   "source": [
    "### 4. `break` and `continue` statements"
   ]
  },
  {
   "cell_type": "markdown",
   "id": "906c2fd4",
   "metadata": {},
   "source": [
    "You can use the `break` statement within the loop's body to immediately stop the execution and *break* out the loop (even if the condition provided to `while` still holds true)"
   ]
  },
  {
   "cell_type": "code",
   "execution_count": 2,
   "id": "9e6f31a9",
   "metadata": {},
   "outputs": [
    {
     "name": "stdout",
     "output_type": "stream",
     "text": [
      "Magic number 42 reached! Stopping execution...\n",
      "i: 42\n",
      "result: 1405006117752879898543142606244511569936384000000000\n"
     ]
    }
   ],
   "source": [
    "i = 1\n",
    "result = 1\n",
    "\n",
    "while i<= 100:\n",
    "    result *= i\n",
    "    if i== 42:\n",
    "        print('Magic number 42 reached! Stopping execution...')\n",
    "        break\n",
    "    i += 1\n",
    "print('i:', i)\n",
    "print('result:', result)"
   ]
  },
  {
   "cell_type": "markdown",
   "id": "8bd5916a",
   "metadata": {},
   "source": [
    "**Conclusion:-** As you can see above, the value of `i` at the end of execution is 42. This example also shows how you can use an `if` statement within a `while` loop.\n",
    "\n",
    "Sometimes you may not want to end the loop entirely, but simply skip the remaining statements in the loop and *continue* to the next loop. You can do this using the `continue` statement."
   ]
  },
  {
   "cell_type": "code",
   "execution_count": 4,
   "id": "e18a40eb",
   "metadata": {},
   "outputs": [
    {
     "name": "stdout",
     "output_type": "stream",
     "text": [
      "Skipping 2\n",
      "Multiplying with 3\n",
      "Skipping 4\n",
      "Multiplying with 5\n",
      "Skipping 6\n",
      "Multiplying with 7\n",
      "Skipping 8\n",
      "Multiplying with 9\n",
      "Skipping 10\n",
      "Multiplying with 11\n",
      "Skipping 12\n",
      "Multiplying with 13\n",
      "Skipping 14\n",
      "Multiplying with 15\n",
      "Skipping 16\n",
      "Multiplying with 17\n",
      "Skipping 18\n",
      "Multiplying with 19\n",
      "Skipping 20\n",
      "i:  20\n",
      "result:  654729075\n"
     ]
    }
   ],
   "source": [
    "i = 1\n",
    "result = 1\n",
    " \n",
    "while i < 20:\n",
    "    i += 1\n",
    "    if i % 2 ==0:\n",
    "        print('Skipping {}'.format(i))\n",
    "        continue\n",
    "    print('Multiplying with {}'.format(i))\n",
    "    result = result * i\n",
    "    \n",
    "print('i: ', i)\n",
    "print('result: ', result)"
   ]
  },
  {
   "cell_type": "markdown",
   "id": "6ccb37ca",
   "metadata": {},
   "source": [
    "**Conclusion:-** In the example above, the statement `result = result * i` inside the loop is skipped when `i` is even, as indicated by the messages printed during execution."
   ]
  },
  {
   "cell_type": "markdown",
   "id": "902c6f4f",
   "metadata": {},
   "source": [
    "> **Logging:-** The process of adding `print` statements at different point in the code (often within loops and conditional statements) for inspecting the values of variables at various stages of execution is called logging. As our programs get larger, they naturally become prone to human errors. Logging can help in many cases, `print` statements are added while writing and testing some code and are removed later."
   ]
  },
  {
   "cell_type": "markdown",
   "id": "fbe9bf9f",
   "metadata": {},
   "source": [
    "* Let us record a snapshot of our work before continuing using `jovian.commit()`"
   ]
  },
  {
   "cell_type": "markdown",
   "id": "7c63ece5",
   "metadata": {},
   "source": [
    "### 5. Iteration with `for` loops"
   ]
  },
  {
   "cell_type": "markdown",
   "id": "607640f0",
   "metadata": {},
   "source": [
    "A `for` loop is used for iterating or looping over sequences, i.e., `list`, `tuples`, `dictionaries`, `string`, and, `ranges`. For loops have the following syntax:\n",
    "```\n",
    "    for value in sequence:\n",
    "        statements(s)\n",
    "```\n",
    "The statements within the loop are executed once for each element in `sequence`. Here's an example that prints all the element of a list."
   ]
  },
  {
   "cell_type": "code",
   "execution_count": 6,
   "id": "2ceddf88",
   "metadata": {},
   "outputs": [
    {
     "name": "stdout",
     "output_type": "stream",
     "text": [
      "Monday\n",
      "Tuesday\n",
      "Wednesday\n",
      "Thursday\n",
      "Friday\n",
      "Sunday\n"
     ]
    }
   ],
   "source": [
    "days = ['Monday', 'Tuesday', 'Wednesday', 'Thursday', 'Friday', 'Sunday']\n",
    "\n",
    "for day in days:\n",
    "    print(day)"
   ]
  },
  {
   "cell_type": "markdown",
   "id": "cda8d7ea",
   "metadata": {},
   "source": [
    "* Let's try using `for` loops with some other data types."
   ]
  },
  {
   "cell_type": "code",
   "execution_count": 7,
   "id": "5d4c1c58",
   "metadata": {},
   "outputs": [
    {
     "name": "stdout",
     "output_type": "stream",
     "text": [
      "M\n",
      "o\n",
      "n\n",
      "d\n",
      "a\n",
      "y\n"
     ]
    }
   ],
   "source": [
    "# Looing over a string\n",
    "\n",
    "for char in 'Monday':\n",
    "    print(char)"
   ]
  },
  {
   "cell_type": "code",
   "execution_count": 8,
   "id": "3d79bf79",
   "metadata": {},
   "outputs": [
    {
     "name": "stdout",
     "output_type": "stream",
     "text": [
      "Here's a fruit:  Apple\n",
      "Here's a fruit:  Banana\n",
      "Here's a fruit:  Guava\n"
     ]
    }
   ],
   "source": [
    "# Looping over a tuple\n",
    "\n",
    "for fruit in ('Apple', 'Banana', 'Guava'):\n",
    "    print(\"Here's a fruit: \", fruit)"
   ]
  },
  {
   "cell_type": "code",
   "execution_count": 9,
   "id": "41092b0e",
   "metadata": {},
   "outputs": [
    {
     "name": "stdout",
     "output_type": "stream",
     "text": [
      "Key: name , Value: Hariom\n",
      "Key: sex , Value: male\n",
      "Key: age , Value: 23\n",
      "Key: married status , Value: False\n"
     ]
    }
   ],
   "source": [
    "# Looping over a dictionary\n",
    "\n",
    "person = {\n",
    "    'name':'Hariom',\n",
    "    'sex':'male',\n",
    "    'age':23,\n",
    "    'married status':False\n",
    "}\n",
    "\n",
    "for key in person:\n",
    "    print(\"Key:\", key , \",\",\"Value:\", person[key])"
   ]
  },
  {
   "cell_type": "markdown",
   "id": "51f03985",
   "metadata": {},
   "source": [
    "* Note that while using a dictionary with a `for` loop, the iteration happens over the dictionary's keys. The key can be used within the loop to access the value. You can also iterate directly over the values using the `.values` method over the key-value pair using the `.items` method. "
   ]
  },
  {
   "cell_type": "code",
   "execution_count": 10,
   "id": "b7818148",
   "metadata": {},
   "outputs": [
    {
     "name": "stdout",
     "output_type": "stream",
     "text": [
      "Hariom\n",
      "male\n",
      "23\n",
      "False\n"
     ]
    }
   ],
   "source": [
    "for value in person.values():\n",
    "    print(value)"
   ]
  },
  {
   "cell_type": "code",
   "execution_count": 11,
   "id": "a33696e6",
   "metadata": {},
   "outputs": [
    {
     "name": "stdout",
     "output_type": "stream",
     "text": [
      "('name', 'Hariom')\n",
      "('sex', 'male')\n",
      "('age', 23)\n",
      "('married status', False)\n"
     ]
    }
   ],
   "source": [
    "for key_value_pair in person.items():\n",
    "    print(key_value_pair)"
   ]
  },
  {
   "cell_type": "markdown",
   "id": "5e31521d",
   "metadata": {},
   "source": [
    "* Since a key-value pair is a tuple, we can also extract the key and value into separate variables. "
   ]
  },
  {
   "cell_type": "code",
   "execution_count": 24,
   "id": "39beb230",
   "metadata": {},
   "outputs": [
    {
     "name": "stdout",
     "output_type": "stream",
     "text": [
      "  Key: name \n",
      " Value: Hariom \n",
      "\n",
      "  Key: sex \n",
      " Value: male \n",
      "\n",
      "  Key: age \n",
      " Value: 23 \n",
      "\n",
      "  Key: married status \n",
      " Value: False \n",
      "\n"
     ]
    }
   ],
   "source": [
    "for key, value in person.items():\n",
    "    print(\"  Key:\",key,\"\\n\",\"Value:\",value ,\"\\n\"  )"
   ]
  },
  {
   "cell_type": "markdown",
   "id": "3e1495b8",
   "metadata": {},
   "source": [
    "### 6. Iterating using `range` and `enumerate`"
   ]
  },
  {
   "cell_type": "markdown",
   "id": "3223238b",
   "metadata": {},
   "source": [
    "The `range` function is used to create a sequence of numbers that can be iterated over using a `for` loop. It can be used in 3 ways:  "
   ]
  },
  {
   "cell_type": "markdown",
   "id": "d8ed782d",
   "metadata": {},
   "source": [
    "*  `range(n)`- Creates a sequence of numbers from `0` to `n-1`.\n",
    "* `range(a,b)`- Creates a sequence of numbers from `a` to `b-1`.\n",
    "* `range(a,b,step)`- Creates a sequence of numbers from `a` to `b-1` with increment of `step`"
   ]
  },
  {
   "cell_type": "code",
   "execution_count": 25,
   "id": "0caad45e",
   "metadata": {},
   "outputs": [
    {
     "name": "stdout",
     "output_type": "stream",
     "text": [
      "0\n",
      "1\n",
      "2\n",
      "3\n",
      "4\n",
      "5\n",
      "6\n",
      "7\n",
      "8\n",
      "9\n"
     ]
    }
   ],
   "source": [
    "# First- Sequence in range(), i.e.: 0 to n-1\n",
    "\n",
    "for i in range (10):\n",
    "    print(i)"
   ]
  },
  {
   "cell_type": "code",
   "execution_count": 26,
   "id": "54ea6882",
   "metadata": {},
   "outputs": [
    {
     "name": "stdout",
     "output_type": "stream",
     "text": [
      "5\n",
      "6\n",
      "7\n",
      "8\n",
      "9\n",
      "10\n",
      "11\n",
      "12\n",
      "13\n",
      "14\n"
     ]
    }
   ],
   "source": [
    "# Second - Sequence with starting and ending point note that end point is not included. range(a,b), i.e.: a to b-1\n",
    "\n",
    "for i in range(5,15):\n",
    "    print(i)"
   ]
  },
  {
   "cell_type": "code",
   "execution_count": 27,
   "id": "426068c9",
   "metadata": {},
   "outputs": [
    {
     "name": "stdout",
     "output_type": "stream",
     "text": [
      "3\n",
      "7\n",
      "11\n"
     ]
    }
   ],
   "source": [
    "# Third - Sequence with starting, ending, and step size. Note that end point is not included. range(a,b,s), i.e.: a to b-1 with s-gap\n",
    "\n",
    "for i in range(3,14,4):\n",
    "    print(i)\n",
    " "
   ]
  },
  {
   "cell_type": "markdown",
   "id": "7b69b93e",
   "metadata": {},
   "source": [
    "* Range are used for iterating over lists when you need to track the index of elements while iterating."
   ]
  },
  {
   "cell_type": "code",
   "execution_count": 28,
   "id": "fd5eff93",
   "metadata": {},
   "outputs": [
    {
     "name": "stdout",
     "output_type": "stream",
     "text": [
      "The value at position 0 is Monday.\n",
      "The value at position 1 is Tuesday.\n",
      "The value at position 2 is Wednesday.\n",
      "The value at position 3 is Thursday.\n",
      "The value at position 4 is Friday.\n",
      "The value at position 5 is Saturday.\n",
      "The value at position 6 is Sunday.\n"
     ]
    }
   ],
   "source": [
    "a_list = ['Monday', 'Tuesday', 'Wednesday', 'Thursday', 'Friday','Saturday', 'Sunday']\n",
    "\n",
    "for i in range(len(a_list)):\n",
    "    print('The value at position {} is {}.'.format(i,a_list[i]))"
   ]
  },
  {
   "cell_type": "markdown",
   "id": "690b53e7",
   "metadata": {},
   "source": [
    "* Another way to achieve the same result is by using the `enumerate` function with `a_list` as an input, which returns a tuple containing the index and the corresponding element."
   ]
  },
  {
   "cell_type": "code",
   "execution_count": 29,
   "id": "8e934e30",
   "metadata": {},
   "outputs": [
    {
     "name": "stdout",
     "output_type": "stream",
     "text": [
      "The value at position 0 is Monday.\n",
      "The value at position 1 is Tuesday.\n",
      "The value at position 2 is Wednesday.\n",
      "The value at position 3 is Thursday.\n",
      "The value at position 4 is Friday.\n",
      "The value at position 5 is Saturday.\n",
      "The value at position 6 is Sunday.\n"
     ]
    }
   ],
   "source": [
    "for i, value in enumerate(a_list):\n",
    "    print('The value at position {} is {}.'.format(i,value))"
   ]
  },
  {
   "cell_type": "markdown",
   "id": "f9997663",
   "metadata": {},
   "source": [
    "### `break`, `continue` and `pass` statements"
   ]
  },
  {
   "cell_type": "markdown",
   "id": "4f41d94e",
   "metadata": {},
   "source": [
    "* Similar to `while` loop, `for` loop also support the `break` and `continue` statements. `break` is used for breaking out of the loop and `continue` is used for skipping ahead to the next iteration."
   ]
  },
  {
   "cell_type": "code",
   "execution_count": 30,
   "id": "a3a4c24d",
   "metadata": {},
   "outputs": [],
   "source": [
    "weekends = ['Monday','Tuesday','Wednesday','Thursday','Friday','Saturday','Sunday']"
   ]
  },
  {
   "cell_type": "code",
   "execution_count": 31,
   "id": "8814a008",
   "metadata": {},
   "outputs": [
    {
     "name": "stdout",
     "output_type": "stream",
     "text": [
      "Today is Monday\n",
      "Today is Tuesday\n",
      "Today is Wednesday\n",
      "I don't work beyond Wednesday!\n"
     ]
    }
   ],
   "source": [
    "# break\n",
    "\n",
    "for day in weekends:\n",
    "    print('Today is {}'.format(day))\n",
    "    if (day == \"Wednesday\"):\n",
    "        print(\"I don't work beyond Wednesday!\")\n",
    "        break"
   ]
  },
  {
   "cell_type": "code",
   "execution_count": 41,
   "id": "043babd7",
   "metadata": {},
   "outputs": [
    {
     "name": "stdout",
     "output_type": "stream",
     "text": [
      "Today is Monday\n",
      "Today is Tuesday\n",
      "I don't work on Wednesday!\n",
      "Today is Thursday\n",
      "Today is Friday\n",
      "Today is Saturday\n",
      "Today is Sunday\n"
     ]
    }
   ],
   "source": [
    "# continue\n",
    "\n",
    "for day in weekends:\n",
    "    if (day == 'Wednesday'):\n",
    "        print(\"I don't work on Wednesday!\")\n",
    "        continue\n",
    "    print(\"Today is {}\".format(day))"
   ]
  },
  {
   "cell_type": "markdown",
   "id": "949a20e3",
   "metadata": {},
   "source": [
    "* like `if` statements, `for` loops cannot be empty, so we can use a `pass` statement if you don't want to execute any statements inside the loop."
   ]
  },
  {
   "cell_type": "code",
   "execution_count": 42,
   "id": "c78145bf",
   "metadata": {},
   "outputs": [],
   "source": [
    "# pass - all value will pass nothing will pe printed.\n",
    "for day in weekends:\n",
    "    pass"
   ]
  },
  {
   "cell_type": "markdown",
   "id": "c214179e",
   "metadata": {},
   "source": [
    "### 7. Nested `for` and  `while` loops"
   ]
  },
  {
   "cell_type": "markdown",
   "id": "e7d3c22e",
   "metadata": {},
   "source": [
    "Similar to conditional statements, loops can be nested inside other loops. This is useful for looping lists of lists, dictionaries etc."
   ]
  },
  {
   "cell_type": "code",
   "execution_count": 43,
   "id": "04bda220",
   "metadata": {},
   "outputs": [
    {
     "name": "stdout",
     "output_type": "stream",
     "text": [
      "Name : Hariom\n",
      "Age : 23\n",
      "Sex : Male\n",
      " \n",
      "Name : Sonia\n",
      "Age : 33\n",
      "Sex : Female\n",
      " \n",
      "Name : Champa\n",
      "Age : 29\n",
      "Sex : Transgender\n",
      " \n"
     ]
    }
   ],
   "source": [
    "persons = [{'Name':\"Hariom\",'Age': 23, 'Sex':'Male'},{'Name':\"Sonia\",'Age':33,'Sex':\"Female\"},{'Name':\"Champa\", 'Age':29,'Sex':\"Transgender\"}]\n",
    "\n",
    "for person in persons:\n",
    "    for key in person:\n",
    "        print(key,\":\", person[key])\n",
    "    print(\" \")"
   ]
  },
  {
   "cell_type": "code",
   "execution_count": 51,
   "id": "acaac5e8",
   "metadata": {},
   "outputs": [
    {
     "name": "stdout",
     "output_type": "stream",
     "text": [
      "Monday Should wear the cloth of color:  White\n",
      "Monday Should wear the cloth of color:  Red\n",
      "Monday Should wear the cloth of color:  Green\n",
      "Monday Should wear the cloth of color:  Yellow\n",
      "Monday Should wear the cloth of color:  Blue\n",
      "Monday Should wear the cloth of color:  Black or Purpule\n",
      "Monday Should wear the cloth of color:  Pink or Maroon\n",
      "Tuesday Should wear the cloth of color:  White\n",
      "Tuesday Should wear the cloth of color:  Red\n",
      "Tuesday Should wear the cloth of color:  Green\n",
      "Tuesday Should wear the cloth of color:  Yellow\n",
      "Tuesday Should wear the cloth of color:  Blue\n",
      "Tuesday Should wear the cloth of color:  Black or Purpule\n",
      "Tuesday Should wear the cloth of color:  Pink or Maroon\n",
      "Wednesday Should wear the cloth of color:  White\n",
      "Wednesday Should wear the cloth of color:  Red\n",
      "Wednesday Should wear the cloth of color:  Green\n",
      "Wednesday Should wear the cloth of color:  Yellow\n",
      "Wednesday Should wear the cloth of color:  Blue\n",
      "Wednesday Should wear the cloth of color:  Black or Purpule\n",
      "Wednesday Should wear the cloth of color:  Pink or Maroon\n",
      "Thursday Should wear the cloth of color:  White\n",
      "Thursday Should wear the cloth of color:  Red\n",
      "Thursday Should wear the cloth of color:  Green\n",
      "Thursday Should wear the cloth of color:  Yellow\n",
      "Thursday Should wear the cloth of color:  Blue\n",
      "Thursday Should wear the cloth of color:  Black or Purpule\n",
      "Thursday Should wear the cloth of color:  Pink or Maroon\n",
      "Frinday Should wear the cloth of color:  White\n",
      "Frinday Should wear the cloth of color:  Red\n",
      "Frinday Should wear the cloth of color:  Green\n",
      "Frinday Should wear the cloth of color:  Yellow\n",
      "Frinday Should wear the cloth of color:  Blue\n",
      "Frinday Should wear the cloth of color:  Black or Purpule\n",
      "Frinday Should wear the cloth of color:  Pink or Maroon\n",
      "Saturday Should wear the cloth of color:  White\n",
      "Saturday Should wear the cloth of color:  Red\n",
      "Saturday Should wear the cloth of color:  Green\n",
      "Saturday Should wear the cloth of color:  Yellow\n",
      "Saturday Should wear the cloth of color:  Blue\n",
      "Saturday Should wear the cloth of color:  Black or Purpule\n",
      "Saturday Should wear the cloth of color:  Pink or Maroon\n",
      "Sunday Should wear the cloth of color:  White\n",
      "Sunday Should wear the cloth of color:  Red\n",
      "Sunday Should wear the cloth of color:  Green\n",
      "Sunday Should wear the cloth of color:  Yellow\n",
      "Sunday Should wear the cloth of color:  Blue\n",
      "Sunday Should wear the cloth of color:  Black or Purpule\n",
      "Sunday Should wear the cloth of color:  Pink or Maroon\n"
     ]
    }
   ],
   "source": [
    "days = ['Monday','Tuesday','Wednesday','Thursday','Frinday','Saturday','Sunday']\n",
    "color_of_dress = ['White','Red','Green','Yellow','Blue','Black or Purpule','Pink or Maroon']\n",
    "\n",
    "for day in days:\n",
    "    for color in color_of_dress:\n",
    "        print(day,\"Should wear the cloth of color: \",color)"
   ]
  },
  {
   "cell_type": "markdown",
   "id": "25b1d874",
   "metadata": {},
   "source": [
    "## Further Reading and References\n",
    "\n",
    "We've covered a lot of ground in just 3 tutorials. \n",
    "\n",
    "Following are some resources to learn about more about conditional statements and loops in Python:\n",
    "\n",
    "* Python Tutorial at W3Schools: https://www.w3schools.com/python/\n",
    "* Practical Python Programming: https://dabeaz-course.github.io/practical-python/Notes/Contents.html\n",
    "* Python official documentation: https://docs.python.org/3/tutorial/index.html\n",
    "\n",
    "You are now ready to move on to the next tutorial: [Writing Reusable Code Using Functions in Python](https://jovian.ai/aakashns/python-functions-and-scope)\n",
    "\n",
    "Let's save a snapshot of our notebook one final time using `jovian.commit`."
   ]
  },
  {
   "cell_type": "markdown",
   "id": "2fa8857c",
   "metadata": {},
   "source": [
    "## Questions and answer for Revision\n",
    "\n",
    "Try answering the following questions to test your understanding of the topics covered in this notebook:\n",
    "\n",
    "1. What is branching in programming languages?\n",
    "2. What is the purpose of the `if` statement in Python?\n",
    "3. What is the syntax of the `if` statement? Give an example.\n",
    "4. What is indentation? Why is it used?\n",
    "5. What is an indented block of statements?\n",
    "6. How do you perform indentation in Python?\n",
    "7. What happens if some code is not indented correctly?\n",
    "8. What happens when the condition within the `if` statement evaluates to `True`? What happens if the condition evaluates for `false`?\n",
    "9. How do you check if a number is even?\n",
    "10. What is the purpose of the `else` statement in Python?\n",
    "11. What is the syntax of the `else` statement? Give an example.\n",
    "12. Write a program that prints different messages based on whether a number is positive or negative.\n",
    "13. Can the `else` statement be used without an `if` statement?\n",
    "14. What is the purpose of the `elif` statement in Python?\n",
    "15. What is the syntax of the `elif` statement? Give an example.\n",
    "16. Write a program that prints different messages for different months of the year.\n",
    "17. Write a program that uses `if`, `elif`, and `else` statements together.\n",
    "18. Can the `elif` statement be used without an `if` statement?\n",
    "19. Can the `elif` statement be used without an `else` statement?\n",
    "20. What is the difference between a chain of `if`, `elif`, `elif`… statements and a chain of `if`, `if`, `if`… statements? Give an example.\n",
    "21. Can non-boolean conditions be used with `if` statements? Give some examples.\n",
    "22. What are nested conditional statements? How are they useful?\n",
    "23. Give an example of nested conditional statements.\n",
    "24. Why is it advisable to avoid nested conditional statements?\n",
    "25. What is the shorthand `if` conditional expression? \n",
    "26. What is the syntax of the shorthand `if` conditional expression? Give an example.\n",
    "27. What is the difference between the shorthand `if` expression and the regular `if` statement?\n",
    "28. What is a statement in Python?\n",
    "29. What is an expression in Python?\n",
    "30. What is the difference between statements and expressions?\n",
    "31. Is every statement an expression? Give an example or counterexample.\n",
    "32. Is every expression a statement? Give an example or counterexample.\n",
    "33. What is the purpose of the pass statement in `if` blocks?\n",
    "34. What is iteration or looping in programming languages? Why is it useful?\n",
    "35. What are the two ways for performing iteration in Python?\n",
    "36. What is the purpose of the `while` statement in Python?\n",
    "37. What is the syntax of the `white` statement in Python? Give an example.\n",
    "38. Write a program to compute the sum of the numbers 1 to 100 using a while loop. \n",
    "39. Repeat the above program for numbers up to 1000, 10000, and 100000. How long does it take each loop to complete?\n",
    "40. What is an infinite loop?\n",
    "41. What causes a program to enter an infinite loop?\n",
    "42. How do you interrupt an infinite loop within Jupyter?\n",
    "43. What is the purpose of the `break` statement in Python? \n",
    "44. Give an example of using a `break` statement within a while loop.\n",
    "45. What is the purpose of the `continue` statement in Python?\n",
    "46. Give an example of using the `continue` statement within a while loop.\n",
    "47. What is logging? How is it useful?\n",
    "48. What is the purpose of the `for` statement in Python?\n",
    "49. What is the syntax of `for` loops? Give an example.\n",
    "50. How are for loops and while loops different?\n",
    "51. How do you loop over a string? Give an example.\n",
    "52. How do you loop over a list? Give an example.\n",
    "53. How do you loop over a tuple? Give an example.\n",
    "54. How do you loop over a dictionary? Give an example.\n",
    "55. What is the purpose of the `range` statement? Give an example.\n",
    "56. What is the purpose of the `enumerate` statement? Give an example.\n",
    "57. How are the `break`, `continue`, and `pass` statements used in for loops? Give examples.\n",
    "58. Can loops be nested within other loops? How is nesting useful?\n",
    "59. Give an example of a for loop nested within another for loop.\n",
    "60. Give an example of a while loop nested within another while loop.\n",
    "61. Give an example of a for loop nested within a while loop.\n",
    "62. Give an example of a while loop nested within a for loop.\n",
    "\n"
   ]
  },
  {
   "cell_type": "code",
   "execution_count": null,
   "id": "a0b4cba3",
   "metadata": {},
   "outputs": [],
   "source": []
  }
 ],
 "metadata": {
  "kernelspec": {
   "display_name": "Python 3 (ipykernel)",
   "language": "python",
   "name": "python3"
  },
  "language_info": {
   "codemirror_mode": {
    "name": "ipython",
    "version": 3
   },
   "file_extension": ".py",
   "mimetype": "text/x-python",
   "name": "python",
   "nbconvert_exporter": "python",
   "pygments_lexer": "ipython3",
   "version": "3.9.12"
  }
 },
 "nbformat": 4,
 "nbformat_minor": 5
}
