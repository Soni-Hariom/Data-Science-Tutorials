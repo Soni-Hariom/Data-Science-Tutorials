{
 "cells": [
  {
   "cell_type": "markdown",
   "id": "397351db",
   "metadata": {},
   "source": [
    "# Working With OS & (Files-Handling)"
   ]
  },
  {
   "cell_type": "markdown",
   "id": "4fd6461f",
   "metadata": {},
   "source": [
    "> CONTENTS:\n",
    ">\n",
    "> * Interacting With The File-system Using The `OS` Module\n",
    "> * Downloading File From The Internet Using The `urllib` Module\n",
    "> * Reading And Processing Data From Text Files\n",
    "> * Parsing Data From CSV Files Into Dictionaries And Lists\n",
    "> * Writing Formatted Data Back To Text Files"
   ]
  },
  {
   "cell_type": "markdown",
   "id": "c46f544b",
   "metadata": {},
   "source": [
    "> ## Interacting With The OS And Files-System:\n",
    ">\n",
    "> The `OS` module in Python provides many functions for interacting with the OS and the file-system. Let's import it and try out some examples."
   ]
  },
  {
   "cell_type": "code",
   "execution_count": 73,
   "id": "606c004b",
   "metadata": {},
   "outputs": [],
   "source": [
    "import os"
   ]
  },
  {
   "cell_type": "markdown",
   "id": "ff9795e9",
   "metadata": {},
   "source": [
    "> * **We can check the present working directory using the `os.getcwd` function.**"
   ]
  },
  {
   "cell_type": "code",
   "execution_count": 74,
   "id": "339c4c59",
   "metadata": {},
   "outputs": [
    {
     "data": {
      "text/plain": [
       "'/home/jovyan'"
      ]
     },
     "execution_count": 74,
     "metadata": {},
     "output_type": "execute_result"
    }
   ],
   "source": [
    "os.getcwd()"
   ]
  },
  {
   "cell_type": "markdown",
   "id": "aa4934db",
   "metadata": {},
   "source": [
    "> * **To get the list of files in a  directory, use `os.listdir`. You pass an absolute or relative path of a directory as the argument to the function.**"
   ]
  },
  {
   "cell_type": "code",
   "execution_count": 75,
   "id": "886f8e0d",
   "metadata": {},
   "outputs": [
    {
     "name": "stdout",
     "output_type": "stream",
     "text": [
      "Help on built-in function listdir in module posix:\n",
      "\n",
      "listdir(path=None)\n",
      "    Return a list containing the names of the files in the directory.\n",
      "    \n",
      "    path can be specified as either str, bytes, or a path-like object.  If path is bytes,\n",
      "      the filenames returned will also be bytes; in all other circumstances\n",
      "      the filenames returned will be str.\n",
      "    If path is None, uses the path='.'.\n",
      "    On some platforms, path may also be specified as an open file descriptor;\\\n",
      "      the file descriptor must refer to a directory.\n",
      "      If this functionality is unavailable, using it raises NotImplementedError.\n",
      "    \n",
      "    The list is in arbitrary order.  It does not include the special\n",
      "    entries '.' and '..' even if they are present in the directory.\n",
      "\n"
     ]
    }
   ],
   "source": [
    "help(os.listdir)"
   ]
  },
  {
   "cell_type": "code",
   "execution_count": 76,
   "id": "a8f63208",
   "metadata": {},
   "outputs": [
    {
     "data": {
      "text/plain": [
       "['.bash_logout',\n",
       " '.bashrc',\n",
       " '.profile',\n",
       " '.local',\n",
       " '.ipython',\n",
       " '.jovianrc',\n",
       " 'Chapter-6.ipynb',\n",
       " '.cache',\n",
       " 'data',\n",
       " '.jupyter',\n",
       " '.jovian',\n",
       " '.ipynb_checkpoints',\n",
       " 'work',\n",
       " '.git',\n",
       " '.wget-hsts',\n",
       " '~',\n",
       " '.config',\n",
       " '.conda']"
      ]
     },
     "execution_count": 76,
     "metadata": {},
     "output_type": "execute_result"
    }
   ],
   "source": [
    "os.listdir('.') # reltive path"
   ]
  },
  {
   "cell_type": "code",
   "execution_count": 77,
   "id": "2b56011e",
   "metadata": {},
   "outputs": [
    {
     "data": {
      "text/plain": [
       "['lib32',\n",
       " 'sbin',\n",
       " 'games',\n",
       " 'lib64',\n",
       " 'lib',\n",
       " 'bin',\n",
       " 'include',\n",
       " 'libx32',\n",
       " 'local',\n",
       " 'share',\n",
       " 'src']"
      ]
     },
     "execution_count": 77,
     "metadata": {},
     "output_type": "execute_result"
    }
   ],
   "source": [
    "os.listdir('/usr') # absolute path"
   ]
  },
  {
   "cell_type": "markdown",
   "id": "5da117a5",
   "metadata": {},
   "source": [
    "> * **You can create a new directory using `os.makedirs`. Let's create a new directory called `data`, where we'll later download some files.**"
   ]
  },
  {
   "cell_type": "code",
   "execution_count": 78,
   "id": "fd1d5282",
   "metadata": {},
   "outputs": [],
   "source": [
    "os.makedirs('./data', exist_ok = True)"
   ]
  },
  {
   "cell_type": "markdown",
   "id": "9dd30d95",
   "metadata": {},
   "source": [
    "> * **Can you figure out what the argument `exist_ok` does? Try using the `help` function :** [Read Documentation](https://docs.python.org/3/library/os.html#os.makedirs).\n",
    ">\n",
    "> * **Let's verify that verify that the directory was created and is currently empty.**"
   ]
  },
  {
   "cell_type": "code",
   "execution_count": 79,
   "id": "1eeb9c27",
   "metadata": {},
   "outputs": [
    {
     "data": {
      "text/plain": [
       "True"
      ]
     },
     "execution_count": 79,
     "metadata": {},
     "output_type": "execute_result"
    }
   ],
   "source": [
    "'data' in os.listdir('.')"
   ]
  },
  {
   "cell_type": "code",
   "execution_count": 80,
   "id": "71efae92",
   "metadata": {},
   "outputs": [
    {
     "data": {
      "text/plain": [
       "['emis2.txt', 'loans2.txt', 'movies.csv', 'loans1.txt', 'loans3.txt']"
      ]
     },
     "execution_count": 80,
     "metadata": {},
     "output_type": "execute_result"
    }
   ],
   "source": [
    "os.listdir('./data')"
   ]
  },
  {
   "cell_type": "markdown",
   "id": "7c5849fa",
   "metadata": {},
   "source": [
    "> **Let us download some files into the `data` dictionary using the `urllib` module.**"
   ]
  },
  {
   "cell_type": "code",
   "execution_count": 81,
   "id": "b092b208",
   "metadata": {},
   "outputs": [],
   "source": [
    "url1 = 'https://gist.githubusercontent.com/aakashns/257f6e6c8719c17d0e498ea287d1a386/raw/7def9ef4234ddf0bc82f855ad67dac8b971852ef/loans1.txt'\n",
    "url2 = 'https://gist.githubusercontent.com/aakashns/257f6e6c8719c17d0e498ea287d1a386/raw/7def9ef4234ddf0bc82f855ad67dac8b971852ef/loans2.txt'\n",
    "url3 = 'https://gist.githubusercontent.com/aakashns/257f6e6c8719c17d0e498ea287d1a386/raw/7def9ef4234ddf0bc82f855ad67dac8b971852ef/loans3.txt'"
   ]
  },
  {
   "cell_type": "code",
   "execution_count": 82,
   "id": "15e83c81",
   "metadata": {},
   "outputs": [],
   "source": [
    "from urllib.request import urlretrieve"
   ]
  },
  {
   "cell_type": "code",
   "execution_count": 83,
   "id": "7df7b0c1",
   "metadata": {},
   "outputs": [
    {
     "data": {
      "text/plain": [
       "('./data/loans1.txt', <http.client.HTTPMessage at 0x7fbd752b6f40>)"
      ]
     },
     "execution_count": 83,
     "metadata": {},
     "output_type": "execute_result"
    }
   ],
   "source": [
    "urlretrieve(url1, './data/loans1.txt')"
   ]
  },
  {
   "cell_type": "code",
   "execution_count": 84,
   "id": "15e47b28",
   "metadata": {},
   "outputs": [
    {
     "data": {
      "text/plain": [
       "('./data/loans2.txt', <http.client.HTTPMessage at 0x7fbd752b6c70>)"
      ]
     },
     "execution_count": 84,
     "metadata": {},
     "output_type": "execute_result"
    }
   ],
   "source": [
    "urlretrieve(url2, './data/loans2.txt')"
   ]
  },
  {
   "cell_type": "code",
   "execution_count": 85,
   "id": "84c987c0",
   "metadata": {},
   "outputs": [
    {
     "data": {
      "text/plain": [
       "('./data/loans3.txt', <http.client.HTTPMessage at 0x7fbd752b6af0>)"
      ]
     },
     "execution_count": 85,
     "metadata": {},
     "output_type": "execute_result"
    }
   ],
   "source": [
    "urlretrieve(url3, './data/loans3.txt')"
   ]
  },
  {
   "cell_type": "markdown",
   "id": "d23a4906",
   "metadata": {},
   "source": [
    ">* **Let's verify that the files were downloaded.**"
   ]
  },
  {
   "cell_type": "code",
   "execution_count": 86,
   "id": "0fb70362",
   "metadata": {},
   "outputs": [
    {
     "data": {
      "text/plain": [
       "['emis2.txt', 'loans2.txt', 'movies.csv', 'loans1.txt', 'loans3.txt']"
      ]
     },
     "execution_count": 86,
     "metadata": {},
     "output_type": "execute_result"
    }
   ],
   "source": [
    "os.listdir('./data')"
   ]
  },
  {
   "cell_type": "markdown",
   "id": "6417a59b",
   "metadata": {},
   "source": [
    "> * **You can also use the `requests` library to download URLs, although you'll need to [write some additional code](https://stackoverflow.com/questions/44699682/how-to-save-a-file-downloaded-from-requests-to-another-directory) to save the contents of the page to a file**"
   ]
  },
  {
   "cell_type": "markdown",
   "id": "af6f8079",
   "metadata": {},
   "source": [
    "> ## Reading From A File:\n",
    ">\n",
    ">To read the contents of a file, we first need to open the file using the built-in `open` function. The `open` function returns a file object and provides several methods for interacting with the file's contents."
   ]
  },
  {
   "cell_type": "code",
   "execution_count": 87,
   "id": "cdb9ca48",
   "metadata": {},
   "outputs": [],
   "source": [
    "file1 = open('./data/loans1.txt', mode='r')"
   ]
  },
  {
   "cell_type": "markdown",
   "id": "205e5cc5",
   "metadata": {},
   "source": [
    "> * **The `open` function also accepts a `mode` argument to specifies how we can interact with the file. The following options are supported:**\n",
    ">\n",
    ">--------------------------------------------------------------\n",
    ">--------------------------------------------------------------\n",
    ">                 CHARACTER MEANING\n",
    ">--------------------------------------------------------------\n",
    ">--------------------------------------------------------------\n",
    ">      'r'       open for reading (default)\n",
    ">      'w'       open for writing, truncating the file first\n",
    ">      'x'       create a new file and open it for writing\n",
    ">      'a'       open for writing, appending to the end of the file if it exists\n",
    ">      'b'       binary mode\n",
    ">      't'       text mode (default)\n",
    ">      '+'       open a disk file for updating (reading and writing)\n",
    ">      'U'       universal newline mode (deprecated)\n",
    ">--------------------------------------------------------------\n",
    ">--------------------------------------------------------------\n",
    ">\n",
    "> * **To view the contents of the files, we can use the `read` method of the file object.**\n"
   ]
  },
  {
   "cell_type": "code",
   "execution_count": 88,
   "id": "282b7c9c",
   "metadata": {},
   "outputs": [],
   "source": [
    "file1_contents = file1.read()"
   ]
  },
  {
   "cell_type": "code",
   "execution_count": 89,
   "id": "ad85ef02",
   "metadata": {},
   "outputs": [
    {
     "name": "stdout",
     "output_type": "stream",
     "text": [
      "amount,duration,rate,down_payment\n",
      "100000,36,0.08,20000\n",
      "200000,12,0.1,\n",
      "628400,120,0.12,100000\n",
      "4637400,240,0.06,\n",
      "42900,90,0.07,8900\n",
      "916000,16,0.13,\n",
      "45230,48,0.08,4300\n",
      "991360,99,0.08,\n",
      "423000,27,0.09,47200\n"
     ]
    }
   ],
   "source": [
    "print(file1_contents)"
   ]
  },
  {
   "cell_type": "markdown",
   "id": "ace220f5",
   "metadata": {},
   "source": [
    "> * **The file contains information about loans. It is a set of comma-separated values(CSV).**\n",
    ">*     **CSVs:-** A comma-separated values (CSV) file is a delimited text file that uses a comma to separated values. Each line of the file is a data record. Each record consists of one or more fields, separated by commas. A CSV file typically stores tabular data (numbers and text) in plain text, in which case each line will have the same number of fields. (Wikipedia).\n",
    ">* **The first line of the file is the heder, indicating what each of the numbers on the remaining lines provides information about a loan. Thus, the second line `100000, 36, 0.08, 20000` represents a loan with:**\n",
    "> \n",
    ">               An amount of `$100000`,\n",
    ">               Duration of `36` months,\n",
    ">               Rate of the interest of `8%` per annum, and\n",
    ">               A down payment of `$2000`\n",
    "> \n",
    ">  **The CSV is a standard file formate used for sharing data for analysis and visualization. Over the course of this tutorial, we will read the data from these CSV files, process it, and write the results back to files. Before we continue, let's close the file using the `close` method method (otherwise, Python will continue to hold the entire file in the RAM)**\n"
   ]
  },
  {
   "cell_type": "code",
   "execution_count": 90,
   "id": "fe2d946c",
   "metadata": {},
   "outputs": [],
   "source": [
    "file1.close()"
   ]
  },
  {
   "cell_type": "markdown",
   "id": "1d3773a9",
   "metadata": {},
   "source": [
    ">* **Once a file is closed, you can no longer read from it.**"
   ]
  },
  {
   "cell_type": "code",
   "execution_count": 91,
   "id": "c254f381",
   "metadata": {},
   "outputs": [
    {
     "ename": "ValueError",
     "evalue": "I/O operation on closed file.",
     "output_type": "error",
     "traceback": [
      "\u001b[0;31m---------------------------------------------------------------------------\u001b[0m",
      "\u001b[0;31mValueError\u001b[0m                                Traceback (most recent call last)",
      "\u001b[0;32m/tmp/ipykernel_68/391184240.py\u001b[0m in \u001b[0;36m<module>\u001b[0;34m\u001b[0m\n\u001b[0;32m----> 1\u001b[0;31m \u001b[0mfile1\u001b[0m\u001b[0;34m.\u001b[0m\u001b[0mread\u001b[0m\u001b[0;34m(\u001b[0m\u001b[0;34m)\u001b[0m\u001b[0;34m\u001b[0m\u001b[0;34m\u001b[0m\u001b[0m\n\u001b[0m",
      "\u001b[0;31mValueError\u001b[0m: I/O operation on closed file."
     ]
    }
   ],
   "source": [
    "file1.read()"
   ]
  },
  {
   "cell_type": "markdown",
   "id": "a36352bb",
   "metadata": {},
   "source": [
    "> ## Closing Files Automatically Using `with`:\n",
    "> \n",
    "> To close a file autometically after you've processed it, you can open it using the with statement."
   ]
  },
  {
   "cell_type": "code",
   "execution_count": 93,
   "id": "1d0920a0",
   "metadata": {},
   "outputs": [
    {
     "name": "stdout",
     "output_type": "stream",
     "text": [
      "amount,duration,rate,down_payment\n",
      "828400,120,0.11,100000\n",
      "4633400,240,0.06,\n",
      "42900,90,0.08,8900\n",
      "983000,16,0.14,\n",
      "15230,48,0.07,4300\n"
     ]
    }
   ],
   "source": [
    "with open('./data/loans2.txt') as file2:\n",
    "    file2_contents = file2.read()\n",
    "    print(file2_contents)"
   ]
  },
  {
   "cell_type": "markdown",
   "id": "3cd942e5",
   "metadata": {},
   "source": [
    "> * **Once the statements within the with block are executed, the `.close` method on `file2` is autometically invoked. Let's verify this by trying to read from the file object again.**"
   ]
  },
  {
   "cell_type": "code",
   "execution_count": 94,
   "id": "517dfaf9",
   "metadata": {},
   "outputs": [
    {
     "ename": "ValueError",
     "evalue": "I/O operation on closed file.",
     "output_type": "error",
     "traceback": [
      "\u001b[0;31m---------------------------------------------------------------------------\u001b[0m",
      "\u001b[0;31mValueError\u001b[0m                                Traceback (most recent call last)",
      "\u001b[0;32m/tmp/ipykernel_68/3036511092.py\u001b[0m in \u001b[0;36m<module>\u001b[0;34m\u001b[0m\n\u001b[0;32m----> 1\u001b[0;31m \u001b[0mfile2\u001b[0m\u001b[0;34m.\u001b[0m\u001b[0mread\u001b[0m\u001b[0;34m(\u001b[0m\u001b[0;34m)\u001b[0m\u001b[0;34m\u001b[0m\u001b[0;34m\u001b[0m\u001b[0m\n\u001b[0m",
      "\u001b[0;31mValueError\u001b[0m: I/O operation on closed file."
     ]
    }
   ],
   "source": [
    "file2.read()"
   ]
  },
  {
   "cell_type": "markdown",
   "id": "7f1d7dbd",
   "metadata": {},
   "source": [
    "> ## Reading A File Line by Line:\n",
    ">\n",
    ">File object provide a `.readlines` method to read file line-by-line."
   ]
  },
  {
   "cell_type": "code",
   "execution_count": 95,
   "id": "ef3b7c91",
   "metadata": {},
   "outputs": [],
   "source": [
    "with open('./data/loans3.txt', 'r') as file3:\n",
    "    file3_lines = file3.readlines()"
   ]
  },
  {
   "cell_type": "code",
   "execution_count": 96,
   "id": "68ced348",
   "metadata": {},
   "outputs": [
    {
     "data": {
      "text/plain": [
       "['amount,duration,rate,down_payment\\n',\n",
       " '45230,48,0.07,4300\\n',\n",
       " '883000,16,0.14,\\n',\n",
       " '100000,12,0.1,\\n',\n",
       " '728400,120,0.12,100000\\n',\n",
       " '3637400,240,0.06,\\n',\n",
       " '82900,90,0.07,8900\\n',\n",
       " '316000,16,0.13,\\n',\n",
       " '15230,48,0.08,4300\\n',\n",
       " '991360,99,0.08,\\n',\n",
       " '323000,27,0.09,4720010000,36,0.08,20000\\n',\n",
       " '528400,120,0.11,100000\\n',\n",
       " '8633400,240,0.06,\\n',\n",
       " '12900,90,0.08,8900']"
      ]
     },
     "execution_count": 96,
     "metadata": {},
     "output_type": "execute_result"
    }
   ],
   "source": [
    "file3_lines"
   ]
  },
  {
   "cell_type": "markdown",
   "id": "a0896553",
   "metadata": {},
   "source": [
    "> ## Processing Data From Files:\n",
    ">\n",
    "> Before performing any operations on the data stored in a file, we need to convert the file's contents from one large string into Python data types. For the file `loans1.txt` containing information about loans in a CSV formate, we can do the following:\n",
    ">    \n",
    "    >* Read the file line by line\n",
    "    >* Parse the first line to get a list of the column names or headers\n",
    "    >* Split each remaining line and convert each value into a float\n",
    "    >* Create a dictionary for each loans using the headers as keys\n",
    "    >* Create a list of dictionaries to keep track of all the loans\n",
    ">\n",
    "> Since we will perform the same operations for multiple files, if would be useful to define a function `read_csv`. We will also define some helper functions to build up the functionality step by step.\n",
    ">\n",
    ">* **Let's start by defining a function `parse_header` that takes a line as input and returns a list of column headers.**"
   ]
  },
  {
   "cell_type": "code",
   "execution_count": 97,
   "id": "722abe08",
   "metadata": {},
   "outputs": [],
   "source": [
    "def parse_headers(header_line):\n",
    "    return header_line.strip().split(',')"
   ]
  },
  {
   "cell_type": "markdown",
   "id": "2dbe9e2e",
   "metadata": {},
   "source": [
    "> * **The `.strip()` method removes any extra spaces and the newline character `\\n`.**\n",
    "> * **The `.split()` method breaks a string into a list using the given separator `,` (in this case).**"
   ]
  },
  {
   "cell_type": "code",
   "execution_count": 98,
   "id": "848c5908",
   "metadata": {},
   "outputs": [
    {
     "data": {
      "text/plain": [
       "'amount,duration,rate,down_payment\\n'"
      ]
     },
     "execution_count": 98,
     "metadata": {},
     "output_type": "execute_result"
    }
   ],
   "source": [
    "file3_lines[0]"
   ]
  },
  {
   "cell_type": "code",
   "execution_count": 99,
   "id": "742ac830",
   "metadata": {},
   "outputs": [],
   "source": [
    "headers = parse_headers(file3_lines[0])"
   ]
  },
  {
   "cell_type": "code",
   "execution_count": 100,
   "id": "22a1c0cd",
   "metadata": {},
   "outputs": [
    {
     "data": {
      "text/plain": [
       "['amount', 'duration', 'rate', 'down_payment']"
      ]
     },
     "execution_count": 100,
     "metadata": {},
     "output_type": "execute_result"
    }
   ],
   "source": [
    "headers"
   ]
  },
  {
   "cell_type": "markdown",
   "id": "a7a6ed26",
   "metadata": {},
   "source": [
    "> * **Next, let's define a function `parse_values` that takes line containing some data and returns a list of floating-point numbers.**"
   ]
  },
  {
   "cell_type": "code",
   "execution_count": 101,
   "id": "62520aca",
   "metadata": {},
   "outputs": [],
   "source": [
    "def parse_values(data_line):\n",
    "    values = []\n",
    "    for item in data_line.strip().split(','):\n",
    "        values.append(float(item))\n",
    "    return values"
   ]
  },
  {
   "cell_type": "code",
   "execution_count": 102,
   "id": "d7537c51",
   "metadata": {},
   "outputs": [
    {
     "data": {
      "text/plain": [
       "'45230,48,0.07,4300\\n'"
      ]
     },
     "execution_count": 102,
     "metadata": {},
     "output_type": "execute_result"
    }
   ],
   "source": [
    "file3_lines[1]"
   ]
  },
  {
   "cell_type": "code",
   "execution_count": 103,
   "id": "f347060c",
   "metadata": {},
   "outputs": [
    {
     "data": {
      "text/plain": [
       "[45230.0, 48.0, 0.07, 4300.0]"
      ]
     },
     "execution_count": 103,
     "metadata": {},
     "output_type": "execute_result"
    }
   ],
   "source": [
    "parse_values(file3_lines[1])"
   ]
  },
  {
   "cell_type": "markdown",
   "id": "6071c71f",
   "metadata": {},
   "source": [
    "> * **The values were parssed and converted to floating point numbers, as expected. Let's try it for another line from the file, which does not contain a value for the down payment.**"
   ]
  },
  {
   "cell_type": "code",
   "execution_count": 104,
   "id": "8be5b29a",
   "metadata": {},
   "outputs": [
    {
     "data": {
      "text/plain": [
       "'883000,16,0.14,\\n'"
      ]
     },
     "execution_count": 104,
     "metadata": {},
     "output_type": "execute_result"
    }
   ],
   "source": [
    "file3_lines[2]"
   ]
  },
  {
   "cell_type": "code",
   "execution_count": 105,
   "id": "1f602f12",
   "metadata": {},
   "outputs": [
    {
     "ename": "ValueError",
     "evalue": "could not convert string to float: ''",
     "output_type": "error",
     "traceback": [
      "\u001b[0;31m---------------------------------------------------------------------------\u001b[0m",
      "\u001b[0;31mValueError\u001b[0m                                Traceback (most recent call last)",
      "\u001b[0;32m/tmp/ipykernel_68/757119364.py\u001b[0m in \u001b[0;36m<module>\u001b[0;34m\u001b[0m\n\u001b[0;32m----> 1\u001b[0;31m \u001b[0mparse_values\u001b[0m\u001b[0;34m(\u001b[0m\u001b[0mfile3_lines\u001b[0m\u001b[0;34m[\u001b[0m\u001b[0;36m2\u001b[0m\u001b[0;34m]\u001b[0m\u001b[0;34m)\u001b[0m\u001b[0;34m\u001b[0m\u001b[0;34m\u001b[0m\u001b[0m\n\u001b[0m",
      "\u001b[0;32m/tmp/ipykernel_68/1166133095.py\u001b[0m in \u001b[0;36mparse_values\u001b[0;34m(data_line)\u001b[0m\n\u001b[1;32m      2\u001b[0m     \u001b[0mvalues\u001b[0m \u001b[0;34m=\u001b[0m \u001b[0;34m[\u001b[0m\u001b[0;34m]\u001b[0m\u001b[0;34m\u001b[0m\u001b[0;34m\u001b[0m\u001b[0m\n\u001b[1;32m      3\u001b[0m     \u001b[0;32mfor\u001b[0m \u001b[0mitem\u001b[0m \u001b[0;32min\u001b[0m \u001b[0mdata_line\u001b[0m\u001b[0;34m.\u001b[0m\u001b[0mstrip\u001b[0m\u001b[0;34m(\u001b[0m\u001b[0;34m)\u001b[0m\u001b[0;34m.\u001b[0m\u001b[0msplit\u001b[0m\u001b[0;34m(\u001b[0m\u001b[0;34m','\u001b[0m\u001b[0;34m)\u001b[0m\u001b[0;34m:\u001b[0m\u001b[0;34m\u001b[0m\u001b[0;34m\u001b[0m\u001b[0m\n\u001b[0;32m----> 4\u001b[0;31m         \u001b[0mvalues\u001b[0m\u001b[0;34m.\u001b[0m\u001b[0mappend\u001b[0m\u001b[0;34m(\u001b[0m\u001b[0mfloat\u001b[0m\u001b[0;34m(\u001b[0m\u001b[0mitem\u001b[0m\u001b[0;34m)\u001b[0m\u001b[0;34m)\u001b[0m\u001b[0;34m\u001b[0m\u001b[0;34m\u001b[0m\u001b[0m\n\u001b[0m\u001b[1;32m      5\u001b[0m     \u001b[0;32mreturn\u001b[0m \u001b[0mvalues\u001b[0m\u001b[0;34m\u001b[0m\u001b[0;34m\u001b[0m\u001b[0m\n",
      "\u001b[0;31mValueError\u001b[0m: could not convert string to float: ''"
     ]
    }
   ],
   "source": [
    "parse_values(file3_lines[2])"
   ]
  },
  {
   "cell_type": "markdown",
   "id": "dd73b4ca",
   "metadata": {},
   "source": [
    "> * **The code above leads to a `ValueError` because the empty string `''` cannot be converted to a float. We can enhance the `parse_values` function to handle this *edge case*. We will alsi handle the case where the value is not a float.**"
   ]
  },
  {
   "cell_type": "code",
   "execution_count": 106,
   "id": "c0b7ad64",
   "metadata": {},
   "outputs": [],
   "source": [
    "def parse_values(data_line):\n",
    "    values = []\n",
    "    for item in data_line.strip().split(','):\n",
    "        if item == '':\n",
    "            values.append(0.0)\n",
    "        else:\n",
    "            try:\n",
    "                values.append(float(item))\n",
    "            except ValueError:\n",
    "                values.append(item)\n",
    "    return values"
   ]
  },
  {
   "cell_type": "code",
   "execution_count": 107,
   "id": "e1328d19",
   "metadata": {},
   "outputs": [
    {
     "data": {
      "text/plain": [
       "'883000,16,0.14,\\n'"
      ]
     },
     "execution_count": 107,
     "metadata": {},
     "output_type": "execute_result"
    }
   ],
   "source": [
    "file3_lines[2]"
   ]
  },
  {
   "cell_type": "code",
   "execution_count": 108,
   "id": "0391f12c",
   "metadata": {},
   "outputs": [
    {
     "data": {
      "text/plain": [
       "[883000.0, 16.0, 0.14, 0.0]"
      ]
     },
     "execution_count": 108,
     "metadata": {},
     "output_type": "execute_result"
    }
   ],
   "source": [
    "parse_values(file3_lines[2])"
   ]
  },
  {
   "cell_type": "markdown",
   "id": "1f5979da",
   "metadata": {},
   "source": [
    "> * **Next, let's define a function `create_item_dict` that takes a list of values and a list of headers as inputs and return a dictionary with the values associated with their respective headers as keys.**"
   ]
  },
  {
   "cell_type": "code",
   "execution_count": 109,
   "id": "1001ffe5",
   "metadata": {},
   "outputs": [],
   "source": [
    "def create_item_dict(values, headers):\n",
    "    result = {}\n",
    "    for value, header in zip(values, headers):\n",
    "        result[header] = value\n",
    "    return result"
   ]
  },
  {
   "cell_type": "markdown",
   "id": "1c85ac58",
   "metadata": {},
   "source": [
    "> * **Now just figure out what the Python built-in function `zip` does? Try out an example using this [Document](https://docs.python.org/3.3/library/functions.html#zip).**\n"
   ]
  },
  {
   "cell_type": "code",
   "execution_count": 110,
   "id": "7b6cc533",
   "metadata": {},
   "outputs": [
    {
     "name": "stdout",
     "output_type": "stream",
     "text": [
      "(1, 'a')\n",
      "(2, 'b')\n",
      "(3, 'c')\n"
     ]
    }
   ],
   "source": [
    "# Example-1\n",
    "\n",
    "for item in zip([1,2,3],['a','b','c']):\n",
    "    print(item)"
   ]
  },
  {
   "cell_type": "code",
   "execution_count": 111,
   "id": "fcbf1a4e",
   "metadata": {},
   "outputs": [
    {
     "data": {
      "text/plain": [
       "[('Monday', 'White/Yellow'),\n",
       " ('Tuesday', 'Red'),\n",
       " ('Wednesday', 'Green'),\n",
       " ('Thursday', 'Ornge/yellow'),\n",
       " ('Friday', 'Blue/White'),\n",
       " ('Saturday', 'Gray/Purple/Blue/Black'),\n",
       " ('Sunday', 'Red')]"
      ]
     },
     "execution_count": 111,
     "metadata": {},
     "output_type": "execute_result"
    }
   ],
   "source": [
    "# Example-2\n",
    "\n",
    "x = ['Monday', 'Tuesday', 'Wednesday', 'Thursday', 'Friday', 'Saturday', 'Sunday']\n",
    "y = ['White/Yellow', 'Red', 'Green','Ornge/yellow', 'Blue/White', 'Gray/Purple/Blue/Black','Red' ]\n",
    "zipped = zip(x,y)\n",
    "list(zipped)"
   ]
  },
  {
   "cell_type": "code",
   "execution_count": 112,
   "id": "36ca840c",
   "metadata": {},
   "outputs": [
    {
     "data": {
      "text/plain": [
       "True"
      ]
     },
     "execution_count": 112,
     "metadata": {},
     "output_type": "execute_result"
    }
   ],
   "source": [
    "x1,y1 = zip(*zip(x,y))\n",
    "x == list(x1) and y==list(y1)"
   ]
  },
  {
   "cell_type": "markdown",
   "id": "7ffb701f",
   "metadata": {},
   "source": [
    "> * **Let's try out `create_item_dict` with a couple of examples.**"
   ]
  },
  {
   "cell_type": "code",
   "execution_count": 113,
   "id": "e1f5a974",
   "metadata": {},
   "outputs": [
    {
     "data": {
      "text/plain": [
       "'45230,48,0.07,4300\\n'"
      ]
     },
     "execution_count": 113,
     "metadata": {},
     "output_type": "execute_result"
    }
   ],
   "source": [
    "file3_lines[1]"
   ]
  },
  {
   "cell_type": "code",
   "execution_count": 114,
   "id": "51391745",
   "metadata": {},
   "outputs": [
    {
     "data": {
      "text/plain": [
       "{'amount': 45230.0, 'duration': 48.0, 'rate': 0.07, 'down_payment': 4300.0}"
      ]
     },
     "execution_count": 114,
     "metadata": {},
     "output_type": "execute_result"
    }
   ],
   "source": [
    "values1 = parse_values(file3_lines[1])\n",
    "create_item_dict(values1, headers)"
   ]
  },
  {
   "cell_type": "code",
   "execution_count": 115,
   "id": "e51e681c",
   "metadata": {},
   "outputs": [
    {
     "data": {
      "text/plain": [
       "'883000,16,0.14,\\n'"
      ]
     },
     "execution_count": 115,
     "metadata": {},
     "output_type": "execute_result"
    }
   ],
   "source": [
    "file3_lines[2]"
   ]
  },
  {
   "cell_type": "code",
   "execution_count": 116,
   "id": "30db100e",
   "metadata": {},
   "outputs": [
    {
     "data": {
      "text/plain": [
       "{'amount': 883000.0, 'duration': 16.0, 'rate': 0.14, 'down_payment': 0.0}"
      ]
     },
     "execution_count": 116,
     "metadata": {},
     "output_type": "execute_result"
    }
   ],
   "source": [
    "values2= parse_values(file3_lines[2])\n",
    "create_item_dict(values2,headers)"
   ]
  },
  {
   "cell_type": "markdown",
   "id": "64c91fb5",
   "metadata": {},
   "source": [
    "> * **As expected, the values and header are combined to create a dictionary with the appropriate key-value pairs.**\n",
    ">\n",
    "> * **We are now ready to put it all together and define the `read_csv` function.**"
   ]
  },
  {
   "cell_type": "code",
   "execution_count": 118,
   "id": "70f7afaa",
   "metadata": {},
   "outputs": [],
   "source": [
    "def read_csv(path):\n",
    "    result = []\n",
    "    # Open the file in read mode\n",
    "    with open(path, 'r') as f:\n",
    "        # Get a list of lines\n",
    "        lines = f.readlines()\n",
    "        # Parse the header\n",
    "        headers = parse_headers(lines[0])\n",
    "        # Loop over the remaining lines\n",
    "        for data_line in lines[1:]:\n",
    "            # Parse the values\n",
    "            values = parse_values(data_line)\n",
    "            # Create a dictionary using values and headers\n",
    "            item_dict = create_item_dict(values,headers)\n",
    "            # Add the dictionary to the result\n",
    "            result.append(item_dict)\n",
    "    return result"
   ]
  },
  {
   "cell_type": "markdown",
   "id": "816a90c7",
   "metadata": {},
   "source": [
    ">* **Let's try it out!**"
   ]
  },
  {
   "cell_type": "code",
   "execution_count": 119,
   "id": "22c29d15",
   "metadata": {},
   "outputs": [
    {
     "name": "stdout",
     "output_type": "stream",
     "text": [
      "amount,duration,rate,down_payment\n",
      "828400,120,0.11,100000\n",
      "4633400,240,0.06,\n",
      "42900,90,0.08,8900\n",
      "983000,16,0.14,\n",
      "15230,48,0.07,4300\n"
     ]
    }
   ],
   "source": [
    "with open('./data/loans2.txt') as file2:\n",
    "    print(file2.read())"
   ]
  },
  {
   "cell_type": "code",
   "execution_count": 120,
   "id": "86143280",
   "metadata": {},
   "outputs": [
    {
     "data": {
      "text/plain": [
       "[{'amount': 828400.0,\n",
       "  'duration': 120.0,\n",
       "  'rate': 0.11,\n",
       "  'down_payment': 100000.0},\n",
       " {'amount': 4633400.0, 'duration': 240.0, 'rate': 0.06, 'down_payment': 0.0},\n",
       " {'amount': 42900.0, 'duration': 90.0, 'rate': 0.08, 'down_payment': 8900.0},\n",
       " {'amount': 983000.0, 'duration': 16.0, 'rate': 0.14, 'down_payment': 0.0},\n",
       " {'amount': 15230.0, 'duration': 48.0, 'rate': 0.07, 'down_payment': 4300.0}]"
      ]
     },
     "execution_count": 120,
     "metadata": {},
     "output_type": "execute_result"
    }
   ],
   "source": [
    "read_csv('./data/loans2.txt')"
   ]
  },
  {
   "cell_type": "markdown",
   "id": "7f4c7702",
   "metadata": {},
   "source": [
    "> * **The file is read and converted to a list of dictionaries, as expected. The `read_csv` file is genetic enough that it can parse any file in the CSV formate, with any number of rows or columns. Here's the full code for `read_csv` along with the helper functions:**"
   ]
  },
  {
   "cell_type": "code",
   "execution_count": 121,
   "id": "78c3a9a5",
   "metadata": {},
   "outputs": [],
   "source": [
    "def parse_headers(header_line):\n",
    "    return header_line.strip().split(',')\n",
    "    \n",
    "def parse_values(data_line):\n",
    "    values = []\n",
    "    for item in data_line.strip().split(','):\n",
    "        if item == '':\n",
    "            values.append(0.0)\n",
    "        else:\n",
    "            try:\n",
    "                values.append(float(item))\n",
    "            except ValueError:\n",
    "                values.append(item)\n",
    "    return values\n",
    "\n",
    "def create_item_dict(values,headers):\n",
    "    result = {}\n",
    "    for value, header in zip(values,headers):\n",
    "        result[header] = value\n",
    "    return result\n",
    "    \n",
    "def read_csv(path):\n",
    "    result = []\n",
    "    # Open the file in read mode\n",
    "    with open(path,'r') as f:\n",
    "        # Get a list of lines\n",
    "        lines = f.readlines()\n",
    "        # Parse the header\n",
    "        headers = parse_headers(lines[0])\n",
    "        # Loop over the remaining lines\n",
    "        for data_line in lines[1:]:\n",
    "            # Parse the values\n",
    "            values = parse_values(data_line)\n",
    "            # Create a dictionary using values and headers\n",
    "            item_dict = create_item_dict(values,headers)\n",
    "            # Add the dictionary to the result\n",
    "            result.append(item_dict)\n",
    "    return result"
   ]
  },
  {
   "cell_type": "markdown",
   "id": "0d8fc809",
   "metadata": {},
   "source": [
    ">* **Try to create small, generic, and reusable functions whatever possible. They will likely be useful beyond just the problem at hand and save you significant effort in the future.**\n",
    ">\n",
    ">* **In the [previous tutorial](https://jovian.ai/sonihariom555/chapter-4), we define a function to calculate the equal monthly installments for a loan. Here's what it looked like:**"
   ]
  },
  {
   "cell_type": "code",
   "execution_count": 122,
   "id": "90413528",
   "metadata": {},
   "outputs": [],
   "source": [
    "import math\n",
    "\n",
    "def loan_emi(amount,duration,rate,down_payment=0):\n",
    "        \"\"\"\n",
    "        Calculate the equal monthly installment (EMI) for a loan.\n",
    "        Arguments:\n",
    "            amount = Total amount to be spent (loan + down_payment)\n",
    "            duration = Duration of the loan (in months)\n",
    "            rate = Rate of interest (monthly)\n",
    "            down_payment (optional) = Optional initial payment (deducted from amount)\n",
    "        \"\"\"\n",
    "        loan_amount = amount - down_payment\n",
    "        try:\n",
    "            emi = loan_amount * rate * ((1+rate)**duration)/(((1+rate)**duration)-1)\n",
    "        except ZeroDivisorError:\n",
    "            emi = loan_amount / duration\n",
    "        emi= math.ceil(emi)\n",
    "        return emi\n"
   ]
  },
  {
   "cell_type": "markdown",
   "id": "5e2832ec",
   "metadata": {},
   "source": [
    "> * **We can use this function to calculate EMI's for all the loans in a file.**"
   ]
  },
  {
   "cell_type": "code",
   "execution_count": 123,
   "id": "02756a41",
   "metadata": {},
   "outputs": [],
   "source": [
    "loans2 = read_csv('./data/loans2.txt')"
   ]
  },
  {
   "cell_type": "code",
   "execution_count": 124,
   "id": "1f5b4e27",
   "metadata": {},
   "outputs": [
    {
     "data": {
      "text/plain": [
       "[{'amount': 828400.0,\n",
       "  'duration': 120.0,\n",
       "  'rate': 0.11,\n",
       "  'down_payment': 100000.0},\n",
       " {'amount': 4633400.0, 'duration': 240.0, 'rate': 0.06, 'down_payment': 0.0},\n",
       " {'amount': 42900.0, 'duration': 90.0, 'rate': 0.08, 'down_payment': 8900.0},\n",
       " {'amount': 983000.0, 'duration': 16.0, 'rate': 0.14, 'down_payment': 0.0},\n",
       " {'amount': 15230.0, 'duration': 48.0, 'rate': 0.07, 'down_payment': 4300.0}]"
      ]
     },
     "execution_count": 124,
     "metadata": {},
     "output_type": "execute_result"
    }
   ],
   "source": [
    "loans2"
   ]
  },
  {
   "cell_type": "code",
   "execution_count": 125,
   "id": "52da14e4",
   "metadata": {},
   "outputs": [
    {
     "data": {
      "application/javascript": [
       "window.require && require([\"base/js/namespace\"],function(Jupyter){Jupyter.notebook.save_checkpoint()})"
      ],
      "text/plain": [
       "<IPython.core.display.Javascript object>"
      ]
     },
     "metadata": {},
     "output_type": "display_data"
    },
    {
     "name": "stdout",
     "output_type": "stream",
     "text": [
      "[jovian] Updating notebook \"sonihariom555/file-handle\" on https://jovian.ai\u001b[0m\n",
      "[jovian] Committed successfully! https://jovian.ai/sonihariom555/file-handle\u001b[0m\n"
     ]
    },
    {
     "data": {
      "text/plain": [
       "'https://jovian.ai/sonihariom555/file-handle'"
      ]
     },
     "execution_count": 125,
     "metadata": {},
     "output_type": "execute_result"
    }
   ],
   "source": [
    "jovian.commit(project='File Handle')"
   ]
  },
  {
   "cell_type": "code",
   "execution_count": 126,
   "id": "494cce83",
   "metadata": {},
   "outputs": [],
   "source": [
    "for loan in loans2:\n",
    "    loan['emi'] = loan_emi(loan['amount'],\n",
    "                           loan['duration'],\n",
    "                           loan['rate']/12,\n",
    "                           # The CSV contains yearly rates\n",
    "                           loan['down_payment'])"
   ]
  },
  {
   "cell_type": "code",
   "execution_count": 127,
   "id": "8a0e1f44",
   "metadata": {},
   "outputs": [
    {
     "data": {
      "text/plain": [
       "[{'amount': 828400.0,\n",
       "  'duration': 120.0,\n",
       "  'rate': 0.11,\n",
       "  'down_payment': 100000.0,\n",
       "  'emi': 10034},\n",
       " {'amount': 4633400.0,\n",
       "  'duration': 240.0,\n",
       "  'rate': 0.06,\n",
       "  'down_payment': 0.0,\n",
       "  'emi': 33196},\n",
       " {'amount': 42900.0,\n",
       "  'duration': 90.0,\n",
       "  'rate': 0.08,\n",
       "  'down_payment': 8900.0,\n",
       "  'emi': 504},\n",
       " {'amount': 983000.0,\n",
       "  'duration': 16.0,\n",
       "  'rate': 0.14,\n",
       "  'down_payment': 0.0,\n",
       "  'emi': 67707},\n",
       " {'amount': 15230.0,\n",
       "  'duration': 48.0,\n",
       "  'rate': 0.07,\n",
       "  'down_payment': 4300.0,\n",
       "  'emi': 262}]"
      ]
     },
     "execution_count": 127,
     "metadata": {},
     "output_type": "execute_result"
    }
   ],
   "source": [
    "loans2"
   ]
  },
  {
   "cell_type": "markdown",
   "id": "33440aef",
   "metadata": {},
   "source": [
    ">* **You can see that each loan now has a new key `emi`, which provides the EMI for loan. We can extract this logic into a function so that we can use it for other files too.**"
   ]
  },
  {
   "cell_type": "code",
   "execution_count": 128,
   "id": "7f7c4b4c",
   "metadata": {},
   "outputs": [],
   "source": [
    "def compute_emis(loans):\n",
    "    for loan in loans:\n",
    "        loan['emi'] = loan_emi(loan['amount'],\n",
    "                               loan['duration'],\n",
    "                               loan['rate']/12,\n",
    "                              # The CSV contains yearly rates\n",
    "                               loan['down_payment'])"
   ]
  },
  {
   "cell_type": "markdown",
   "id": "adfa4f64",
   "metadata": {},
   "source": [
    "> ## Writing To Files:\n",
    ">\n",
    "> Now that we have performed some processing on the data, it would be good to write the result back to a CSV file. We can create/open a file in `w` mode using `open` and write to it using the `.write` method. The string `format` method will come in handy here."
   ]
  },
  {
   "cell_type": "code",
   "execution_count": 129,
   "id": "0ceccfbc",
   "metadata": {},
   "outputs": [],
   "source": [
    "loans2 = read_csv('./data/loans2.txt')"
   ]
  },
  {
   "cell_type": "code",
   "execution_count": 130,
   "id": "1621d272",
   "metadata": {},
   "outputs": [],
   "source": [
    "compute_emis(loans2)"
   ]
  },
  {
   "cell_type": "code",
   "execution_count": 131,
   "id": "4282a2a5",
   "metadata": {},
   "outputs": [
    {
     "data": {
      "text/plain": [
       "[{'amount': 828400.0,\n",
       "  'duration': 120.0,\n",
       "  'rate': 0.11,\n",
       "  'down_payment': 100000.0,\n",
       "  'emi': 10034},\n",
       " {'amount': 4633400.0,\n",
       "  'duration': 240.0,\n",
       "  'rate': 0.06,\n",
       "  'down_payment': 0.0,\n",
       "  'emi': 33196},\n",
       " {'amount': 42900.0,\n",
       "  'duration': 90.0,\n",
       "  'rate': 0.08,\n",
       "  'down_payment': 8900.0,\n",
       "  'emi': 504},\n",
       " {'amount': 983000.0,\n",
       "  'duration': 16.0,\n",
       "  'rate': 0.14,\n",
       "  'down_payment': 0.0,\n",
       "  'emi': 67707},\n",
       " {'amount': 15230.0,\n",
       "  'duration': 48.0,\n",
       "  'rate': 0.07,\n",
       "  'down_payment': 4300.0,\n",
       "  'emi': 262}]"
      ]
     },
     "execution_count": 131,
     "metadata": {},
     "output_type": "execute_result"
    }
   ],
   "source": [
    "loans2"
   ]
  },
  {
   "cell_type": "code",
   "execution_count": 132,
   "id": "731439cd",
   "metadata": {},
   "outputs": [],
   "source": [
    "with open('./data/emis2.txt','w') as f:\n",
    "    for loan in loans2:\n",
    "        f.write('{},{},{},{},{}\\n'.format(loan['amount'],\n",
    "                                          loan['duration'],\n",
    "                                          loan['rate'],\n",
    "                                          loan['down_payment'],\n",
    "                                          loan['emi']))"
   ]
  },
  {
   "cell_type": "markdown",
   "id": "344e9ef3",
   "metadata": {},
   "source": [
    ">* **Let's verify that the file was created and written to as expected.**"
   ]
  },
  {
   "cell_type": "code",
   "execution_count": 133,
   "id": "913505e8",
   "metadata": {},
   "outputs": [
    {
     "data": {
      "text/plain": [
       "['emis2.txt', 'loans2.txt', 'movies.csv', 'loans1.txt', 'loans3.txt']"
      ]
     },
     "execution_count": 133,
     "metadata": {},
     "output_type": "execute_result"
    }
   ],
   "source": [
    "os.listdir('data')"
   ]
  },
  {
   "cell_type": "code",
   "execution_count": 134,
   "id": "7a69730d",
   "metadata": {},
   "outputs": [
    {
     "name": "stdout",
     "output_type": "stream",
     "text": [
      "828400.0,120.0,0.11,100000.0,10034\n",
      "4633400.0,240.0,0.06,0.0,33196\n",
      "42900.0,90.0,0.08,8900.0,504\n",
      "983000.0,16.0,0.14,0.0,67707\n",
      "15230.0,48.0,0.07,4300.0,262\n",
      "\n"
     ]
    }
   ],
   "source": [
    "with open('./data/emis2.txt', 'r') as f:\n",
    "    print(f.read())"
   ]
  },
  {
   "cell_type": "markdown",
   "id": "7a92389b",
   "metadata": {},
   "source": [
    "> * **Great, looks like the loan details (along with the computed EMIs) were written into the file.**\n",
    ">\n",
    "> * **Let's define a generic function `write_csv` which takes a list of dictionaries and write it to file in CSV format. We will also include the column headers in the first line.**"
   ]
  },
  {
   "cell_type": "code",
   "execution_count": 135,
   "id": "d80ba209",
   "metadata": {},
   "outputs": [],
   "source": [
    "def write_csv(items,path):\n",
    "    # Open the file in the write mode\n",
    "    with open(path,'w') as f:\n",
    "        # Return if there is nothing to write\n",
    "        if len(items)==0:\n",
    "            return\n",
    "        \n",
    "        #Write the header in the first line\n",
    "        headers = list(items[0].keys())\n",
    "        f.write(','.join(headers) + '\\n')\n",
    "        \n",
    "        # Write one item per line\n",
    "        for item in items:\n",
    "            values = []\n",
    "            for header in headers:\n",
    "                values.append(str(item.get(header,\"\")))\n",
    "            f.write(','.join(values) + '\\n')"
   ]
  },
  {
   "cell_type": "markdown",
   "id": "955f25d7",
   "metadata": {},
   "source": [
    "> * **Do you understand how the function works? If no, try executing each statement line by line or a different cell to figure out how it works.**\n",
    ">\n",
    ">* **Let's try it out!**"
   ]
  },
  {
   "cell_type": "code",
   "execution_count": 136,
   "id": "156dacbc",
   "metadata": {},
   "outputs": [],
   "source": [
    "loans3 = read_csv('./data/loans3.txt')"
   ]
  },
  {
   "cell_type": "code",
   "execution_count": 137,
   "id": "512ad1e9",
   "metadata": {},
   "outputs": [],
   "source": [
    "compute_emis(loans3)"
   ]
  },
  {
   "cell_type": "code",
   "execution_count": 138,
   "id": "f3625727",
   "metadata": {},
   "outputs": [],
   "source": [
    "write_csv(loans3,'./data/emis3.txt')"
   ]
  },
  {
   "cell_type": "code",
   "execution_count": 139,
   "id": "5d88e8f0",
   "metadata": {},
   "outputs": [
    {
     "name": "stdout",
     "output_type": "stream",
     "text": [
      "amount,duration,rate,down_payment,emi\n",
      "45230.0,48.0,0.07,4300.0,981\n",
      "883000.0,16.0,0.14,0.0,60819\n",
      "100000.0,12.0,0.1,0.0,8792\n",
      "728400.0,120.0,0.12,100000.0,9016\n",
      "3637400.0,240.0,0.06,0.0,26060\n",
      "82900.0,90.0,0.07,8900.0,1060\n",
      "316000.0,16.0,0.13,0.0,21618\n",
      "15230.0,48.0,0.08,4300.0,267\n",
      "991360.0,99.0,0.08,0.0,13712\n",
      "323000.0,27.0,0.09,4720010000.0,-193751447\n",
      "528400.0,120.0,0.11,100000.0,5902\n",
      "8633400.0,240.0,0.06,0.0,61853\n",
      "12900.0,90.0,0.08,8900.0,60\n",
      "\n"
     ]
    }
   ],
   "source": [
    "with open('./data/emis3.txt','r') as f:\n",
    "    print(f.read())"
   ]
  },
  {
   "cell_type": "markdown",
   "id": "ec9d2599",
   "metadata": {},
   "source": [
    "> * **With just four lines of code, we can now read each downloaded file, calculate the EMI's, and write the result back to new files:**"
   ]
  },
  {
   "cell_type": "code",
   "execution_count": 140,
   "id": "9cf3d4df",
   "metadata": {},
   "outputs": [],
   "source": [
    "for i in range(1,4):\n",
    "    loans = read_csv('./data/loans{}.txt'.format(i))\n",
    "    compute_emis(loans)\n",
    "    write_csv(loans,'./data/emis{}.txt'.format(i))"
   ]
  },
  {
   "cell_type": "code",
   "execution_count": 141,
   "id": "73f9f83c",
   "metadata": {},
   "outputs": [
    {
     "data": {
      "text/plain": [
       "['emis2.txt',\n",
       " 'loans2.txt',\n",
       " 'movies.csv',\n",
       " 'emis1.txt',\n",
       " 'loans1.txt',\n",
       " 'emis3.txt',\n",
       " 'loans3.txt']"
      ]
     },
     "execution_count": 141,
     "metadata": {},
     "output_type": "execute_result"
    }
   ],
   "source": [
    "os.listdir('./data')"
   ]
  },
  {
   "cell_type": "markdown",
   "id": "c760df29",
   "metadata": {},
   "source": [
    "> * **Isn't that wonderful? Once all the function are defined, we can calculate EMIs for thousands or even millions of loans across many files in seconds with just a few lines of code. Now we're starting too see the real power of using a programming language like Python for processing data!**"
   ]
  },
  {
   "cell_type": "markdown",
   "id": "c6a70126",
   "metadata": {},
   "source": [
    "> ## Using Pandas To Read And Write CSVs:\n",
    ">\n",
    "> There are some limitation to the `read_csv` and `write_csv` functions we have defined above:\n",
    "> * The `read_csv` function fails to create a proper dictionary if any of the values in the CSV files contains commas\n",
    "> * The `write_csv` function fails to create  proper CSV if any of the values to be written contains commas\n",
    ">\n",
    ">When a value in a CSV  file contains a comma (`,`), the value is generally placed within double quotes (`\"\"`). Here is an example:\n",
    "> ```\n",
    "                > title, description\n",
    "                > Fast & Furious,\"A movie, a race, a franchise\"\n",
    "                > The Dark Knight,\"Gotham, the \"\"Batman\"\", and Joker\"\n",
    "                > Memento,\"A guy forgets everything every 15 minutes\"\n",
    ">```\n",
    ">\n",
    "> * **Let's try it out.**"
   ]
  },
  {
   "cell_type": "code",
   "execution_count": 143,
   "id": "0c9e3c0e",
   "metadata": {},
   "outputs": [],
   "source": [
    "movies_url = \"https://gist.githubusercontent.com/aakashns/afee0a407d44bbc02321993548021af9/raw/6d7473f0ac4c54aca65fc4b06ed831b8a4840190/movies.csv\""
   ]
  },
  {
   "cell_type": "code",
   "execution_count": 144,
   "id": "d73510c9",
   "metadata": {},
   "outputs": [
    {
     "data": {
      "text/plain": [
       "('data/movies.csv', <http.client.HTTPMessage at 0x7fbd75264760>)"
      ]
     },
     "execution_count": 144,
     "metadata": {},
     "output_type": "execute_result"
    }
   ],
   "source": [
    "urlretrieve(movies_url,'data/movies.csv')"
   ]
  },
  {
   "cell_type": "code",
   "execution_count": 145,
   "id": "82fe4482",
   "metadata": {},
   "outputs": [],
   "source": [
    "movies = read_csv('data/movies.csv')"
   ]
  },
  {
   "cell_type": "code",
   "execution_count": 146,
   "id": "5a1db82b",
   "metadata": {},
   "outputs": [
    {
     "data": {
      "text/plain": [
       "[{'title': 'Fast & Furious', 'description': '\"A movie'},\n",
       " {'title': 'The Dark Knight', 'description': '\"Gotham'},\n",
       " {'title': 'Memento',\n",
       "  'description': 'A guy forgets everything every 15 minutes'}]"
      ]
     },
     "execution_count": 146,
     "metadata": {},
     "output_type": "execute_result"
    }
   ],
   "source": [
    "movies"
   ]
  },
  {
   "cell_type": "markdown",
   "id": "28396f12",
   "metadata": {},
   "source": [
    "> * **As you can seen above, the movie descriptions weren't parsed properly.**\n",
    ">\n",
    "> * **To read this CSV properly, we can use the `pandas` library.**"
   ]
  },
  {
   "cell_type": "code",
   "execution_count": 147,
   "id": "34b1e42e",
   "metadata": {},
   "outputs": [
    {
     "name": "stdout",
     "output_type": "stream",
     "text": [
      "\r\n",
      "Usage:   \r\n",
      "  pip install [options] <requirement specifier> [package-index-options] ...\r\n",
      "  pip install [options] -r <requirements file> [package-index-options] ...\r\n",
      "  pip install [options] [-e] <vcs project url> ...\r\n",
      "  pip install [options] [-e] <local project path> ...\r\n",
      "  pip install [options] <archive url/path> ...\r\n",
      "\r\n",
      "no such option: --upgrde\r\n"
     ]
    }
   ],
   "source": [
    "!pip install pandas --upgrde --quiet"
   ]
  },
  {
   "cell_type": "code",
   "execution_count": 148,
   "id": "6b97f28b",
   "metadata": {},
   "outputs": [],
   "source": [
    "import pandas as pd"
   ]
  },
  {
   "cell_type": "markdown",
   "id": "c8fa7576",
   "metadata": {},
   "source": [
    "> * **The `pd.read_csv` function can be used to read the CSV file into a pandas data frame: a spreadsheet-like object for analyzing and processing data. We will learn more about data frames in a future lession.**"
   ]
  },
  {
   "cell_type": "code",
   "execution_count": 149,
   "id": "c0d0d35f",
   "metadata": {},
   "outputs": [],
   "source": [
    "movies_df = pd.read_csv('data/movies.csv')"
   ]
  },
  {
   "cell_type": "code",
   "execution_count": 150,
   "id": "45b38fda",
   "metadata": {},
   "outputs": [
    {
     "data": {
      "text/html": [
       "<div>\n",
       "<style scoped>\n",
       "    .dataframe tbody tr th:only-of-type {\n",
       "        vertical-align: middle;\n",
       "    }\n",
       "\n",
       "    .dataframe tbody tr th {\n",
       "        vertical-align: top;\n",
       "    }\n",
       "\n",
       "    .dataframe thead th {\n",
       "        text-align: right;\n",
       "    }\n",
       "</style>\n",
       "<table border=\"1\" class=\"dataframe\">\n",
       "  <thead>\n",
       "    <tr style=\"text-align: right;\">\n",
       "      <th></th>\n",
       "      <th>title</th>\n",
       "      <th>description</th>\n",
       "    </tr>\n",
       "  </thead>\n",
       "  <tbody>\n",
       "    <tr>\n",
       "      <th>0</th>\n",
       "      <td>Fast &amp; Furious</td>\n",
       "      <td>A movie, a race, a franchise</td>\n",
       "    </tr>\n",
       "    <tr>\n",
       "      <th>1</th>\n",
       "      <td>The Dark Knight</td>\n",
       "      <td>Gotham, the \"Batman\", and the Joker</td>\n",
       "    </tr>\n",
       "    <tr>\n",
       "      <th>2</th>\n",
       "      <td>Memento</td>\n",
       "      <td>A guy forgets everything every 15 minutes</td>\n",
       "    </tr>\n",
       "  </tbody>\n",
       "</table>\n",
       "</div>"
      ],
      "text/plain": [
       "             title                                description\n",
       "0   Fast & Furious               A movie, a race, a franchise\n",
       "1  The Dark Knight        Gotham, the \"Batman\", and the Joker\n",
       "2          Memento  A guy forgets everything every 15 minutes"
      ]
     },
     "execution_count": 150,
     "metadata": {},
     "output_type": "execute_result"
    }
   ],
   "source": [
    "movies_df"
   ]
  },
  {
   "cell_type": "markdown",
   "id": "0054b658",
   "metadata": {},
   "source": [
    "> * **A data frame can be converted into a list of dictionaries using the `to_dict` method.**"
   ]
  },
  {
   "cell_type": "code",
   "execution_count": 151,
   "id": "91182960",
   "metadata": {},
   "outputs": [],
   "source": [
    "movies = movies_df.to_dict('records')"
   ]
  },
  {
   "cell_type": "code",
   "execution_count": 152,
   "id": "22a04f45",
   "metadata": {},
   "outputs": [
    {
     "data": {
      "text/plain": [
       "[{'title': 'Fast & Furious', 'description': 'A movie, a race, a franchise'},\n",
       " {'title': 'The Dark Knight',\n",
       "  'description': 'Gotham, the \"Batman\", and the Joker'},\n",
       " {'title': 'Memento',\n",
       "  'description': 'A guy forgets everything every 15 minutes'}]"
      ]
     },
     "execution_count": 152,
     "metadata": {},
     "output_type": "execute_result"
    }
   ],
   "source": [
    "movies"
   ]
  },
  {
   "cell_type": "markdown",
   "id": "e4e5bd40",
   "metadata": {},
   "source": [
    "> * **If you don't pass the arguments `records`, you get a dictionary of lists instead.**"
   ]
  },
  {
   "cell_type": "code",
   "execution_count": 153,
   "id": "c2ae8515",
   "metadata": {},
   "outputs": [],
   "source": [
    "movies_dict = movies_df.to_dict()"
   ]
  },
  {
   "cell_type": "code",
   "execution_count": 154,
   "id": "65e87bfa",
   "metadata": {},
   "outputs": [
    {
     "data": {
      "text/plain": [
       "{'title': {0: 'Fast & Furious', 1: 'The Dark Knight', 2: 'Memento'},\n",
       " 'description': {0: 'A movie, a race, a franchise',\n",
       "  1: 'Gotham, the \"Batman\", and the Joker',\n",
       "  2: 'A guy forgets everything every 15 minutes'}}"
      ]
     },
     "execution_count": 154,
     "metadata": {},
     "output_type": "execute_result"
    }
   ],
   "source": [
    "movies_dict"
   ]
  },
  {
   "cell_type": "markdown",
   "id": "107b2848",
   "metadata": {},
   "source": [
    "> * **Let's try using the `write_csv` function to write the data in `movies` back to a CSV file.**"
   ]
  },
  {
   "cell_type": "code",
   "execution_count": 155,
   "id": "1a5833b0",
   "metadata": {},
   "outputs": [],
   "source": [
    "write_csv(movies,'movies2.csv')"
   ]
  },
  {
   "cell_type": "code",
   "execution_count": 156,
   "id": "09b5014a",
   "metadata": {},
   "outputs": [
    {
     "name": "stdout",
     "output_type": "stream",
     "text": [
      "title,description\r\n",
      "Fast & Furious,A movie, a race, a franchise\r\n",
      "The Dark Knight,Gotham, the \"Batman\", and the Joker\r\n",
      "Memento,A guy forgets everything every 15 minutes\r\n"
     ]
    }
   ],
   "source": [
    "!head movies2.csv"
   ]
  },
  {
   "cell_type": "markdown",
   "id": "1ea12fb6",
   "metadata": {},
   "source": [
    "> * **As you can see above, the CSV file is not formatted properly. This can be verified by attempting to read the file using `pd.read_csv`.**"
   ]
  },
  {
   "cell_type": "code",
   "execution_count": 157,
   "id": "7cccdcbf",
   "metadata": {},
   "outputs": [
    {
     "data": {
      "text/html": [
       "<div>\n",
       "<style scoped>\n",
       "    .dataframe tbody tr th:only-of-type {\n",
       "        vertical-align: middle;\n",
       "    }\n",
       "\n",
       "    .dataframe tbody tr th {\n",
       "        vertical-align: top;\n",
       "    }\n",
       "\n",
       "    .dataframe thead th {\n",
       "        text-align: right;\n",
       "    }\n",
       "</style>\n",
       "<table border=\"1\" class=\"dataframe\">\n",
       "  <thead>\n",
       "    <tr style=\"text-align: right;\">\n",
       "      <th></th>\n",
       "      <th></th>\n",
       "      <th>title</th>\n",
       "      <th>description</th>\n",
       "    </tr>\n",
       "  </thead>\n",
       "  <tbody>\n",
       "    <tr>\n",
       "      <th>Fast &amp; Furious</th>\n",
       "      <th>A movie</th>\n",
       "      <td>a race</td>\n",
       "      <td>a franchise</td>\n",
       "    </tr>\n",
       "    <tr>\n",
       "      <th>The Dark Knight</th>\n",
       "      <th>Gotham</th>\n",
       "      <td>the \"Batman\"</td>\n",
       "      <td>and the Joker</td>\n",
       "    </tr>\n",
       "    <tr>\n",
       "      <th>Memento</th>\n",
       "      <th>A guy forgets everything every 15 minutes</th>\n",
       "      <td>NaN</td>\n",
       "      <td>NaN</td>\n",
       "    </tr>\n",
       "  </tbody>\n",
       "</table>\n",
       "</div>"
      ],
      "text/plain": [
       "                                                                   title  \\\n",
       "Fast & Furious  A movie                                           a race   \n",
       "The Dark Knight Gotham                                      the \"Batman\"   \n",
       "Memento         A guy forgets everything every 15 minutes            NaN   \n",
       "\n",
       "                                                              description  \n",
       "Fast & Furious  A movie                                       a franchise  \n",
       "The Dark Knight Gotham                                      and the Joker  \n",
       "Memento         A guy forgets everything every 15 minutes             NaN  "
      ]
     },
     "execution_count": 157,
     "metadata": {},
     "output_type": "execute_result"
    }
   ],
   "source": [
    "pd.read_csv('movies2.csv')"
   ]
  },
  {
   "cell_type": "markdown",
   "id": "28c58106",
   "metadata": {},
   "source": [
    "> * **To convert a list of dictionaries into a dataframe, you can use the `pd.DataFrame` constructor.**"
   ]
  },
  {
   "cell_type": "code",
   "execution_count": 158,
   "id": "fd5c3172",
   "metadata": {},
   "outputs": [],
   "source": [
    "df2 = pd.DataFrame(movies)"
   ]
  },
  {
   "cell_type": "code",
   "execution_count": 159,
   "id": "cb0b530a",
   "metadata": {},
   "outputs": [
    {
     "data": {
      "text/html": [
       "<div>\n",
       "<style scoped>\n",
       "    .dataframe tbody tr th:only-of-type {\n",
       "        vertical-align: middle;\n",
       "    }\n",
       "\n",
       "    .dataframe tbody tr th {\n",
       "        vertical-align: top;\n",
       "    }\n",
       "\n",
       "    .dataframe thead th {\n",
       "        text-align: right;\n",
       "    }\n",
       "</style>\n",
       "<table border=\"1\" class=\"dataframe\">\n",
       "  <thead>\n",
       "    <tr style=\"text-align: right;\">\n",
       "      <th></th>\n",
       "      <th>title</th>\n",
       "      <th>description</th>\n",
       "    </tr>\n",
       "  </thead>\n",
       "  <tbody>\n",
       "    <tr>\n",
       "      <th>0</th>\n",
       "      <td>Fast &amp; Furious</td>\n",
       "      <td>A movie, a race, a franchise</td>\n",
       "    </tr>\n",
       "    <tr>\n",
       "      <th>1</th>\n",
       "      <td>The Dark Knight</td>\n",
       "      <td>Gotham, the \"Batman\", and the Joker</td>\n",
       "    </tr>\n",
       "    <tr>\n",
       "      <th>2</th>\n",
       "      <td>Memento</td>\n",
       "      <td>A guy forgets everything every 15 minutes</td>\n",
       "    </tr>\n",
       "  </tbody>\n",
       "</table>\n",
       "</div>"
      ],
      "text/plain": [
       "             title                                description\n",
       "0   Fast & Furious               A movie, a race, a franchise\n",
       "1  The Dark Knight        Gotham, the \"Batman\", and the Joker\n",
       "2          Memento  A guy forgets everything every 15 minutes"
      ]
     },
     "execution_count": 159,
     "metadata": {},
     "output_type": "execute_result"
    }
   ],
   "source": [
    "df2"
   ]
  },
  {
   "cell_type": "markdown",
   "id": "641aa458",
   "metadata": {},
   "source": [
    "> * **It can now be written to a CSV file using the `.to_csv` method of a dataframe.**"
   ]
  },
  {
   "cell_type": "code",
   "execution_count": 160,
   "id": "efbfeb67",
   "metadata": {},
   "outputs": [],
   "source": [
    "df2.to_csv('movies3.csv', index=None)"
   ]
  },
  {
   "cell_type": "markdown",
   "id": "8ece826b",
   "metadata": {},
   "source": [
    "> * **Can you guess what the argument `index=None` does? Try removing it and observing the difference in output.**"
   ]
  },
  {
   "cell_type": "code",
   "execution_count": 161,
   "id": "bbebd2c1",
   "metadata": {},
   "outputs": [
    {
     "name": "stdout",
     "output_type": "stream",
     "text": [
      "title,description\r\n",
      "Fast & Furious,A movie, a race, a franchise\r\n",
      "The Dark Knight,Gotham, the \"Batman\", and the Joker\r\n",
      "Memento,A guy forgets everything every 15 minutes\r\n"
     ]
    }
   ],
   "source": [
    "!head movies2.csv"
   ]
  },
  {
   "cell_type": "markdown",
   "id": "697e057c",
   "metadata": {},
   "source": [
    "> * **The CSV file is formatted properly. We can verify this by trying to read it back.**"
   ]
  },
  {
   "cell_type": "code",
   "execution_count": 162,
   "id": "b042d1e3",
   "metadata": {},
   "outputs": [
    {
     "data": {
      "text/html": [
       "<div>\n",
       "<style scoped>\n",
       "    .dataframe tbody tr th:only-of-type {\n",
       "        vertical-align: middle;\n",
       "    }\n",
       "\n",
       "    .dataframe tbody tr th {\n",
       "        vertical-align: top;\n",
       "    }\n",
       "\n",
       "    .dataframe thead th {\n",
       "        text-align: right;\n",
       "    }\n",
       "</style>\n",
       "<table border=\"1\" class=\"dataframe\">\n",
       "  <thead>\n",
       "    <tr style=\"text-align: right;\">\n",
       "      <th></th>\n",
       "      <th>title</th>\n",
       "      <th>description</th>\n",
       "    </tr>\n",
       "  </thead>\n",
       "  <tbody>\n",
       "    <tr>\n",
       "      <th>0</th>\n",
       "      <td>Fast &amp; Furious</td>\n",
       "      <td>A movie, a race, a franchise</td>\n",
       "    </tr>\n",
       "    <tr>\n",
       "      <th>1</th>\n",
       "      <td>The Dark Knight</td>\n",
       "      <td>Gotham, the \"Batman\", and the Joker</td>\n",
       "    </tr>\n",
       "    <tr>\n",
       "      <th>2</th>\n",
       "      <td>Memento</td>\n",
       "      <td>A guy forgets everything every 15 minutes</td>\n",
       "    </tr>\n",
       "  </tbody>\n",
       "</table>\n",
       "</div>"
      ],
      "text/plain": [
       "             title                                description\n",
       "0   Fast & Furious               A movie, a race, a franchise\n",
       "1  The Dark Knight        Gotham, the \"Batman\", and the Joker\n",
       "2          Memento  A guy forgets everything every 15 minutes"
      ]
     },
     "execution_count": 162,
     "metadata": {},
     "output_type": "execute_result"
    }
   ],
   "source": [
    "pd.read_csv('movies3.csv')"
   ]
  },
  {
   "cell_type": "markdown",
   "id": "3626aee1",
   "metadata": {},
   "source": [
    "> * **We are able to write and read the file properly with `pandas`.**\n",
    ">\n",
    ">\n",
    "> * **In general, it is always a better idea to use libraries like Pandas for reading and writing CSV files.**"
   ]
  },
  {
   "cell_type": "markdown",
   "id": "86e488fa",
   "metadata": {},
   "source": [
    "> ## Exercise- Processing CSV files using a dictionary of lists:\n",
    ">\n",
    ">We defined the functions `read_csv` and `write_csv` above to convert a CSV file into a list of dictionaries and vice versa. In this exercise, you'll transform the CSV data into a dictionary of lists instead, with one list for each column in the file.\n",
    ">\n",
    ">For example, consider the following CSV file:\n",
    ">\n",
    ">```\n",
    ">amount,duration,rate,down_payment\n",
    ">828400,120,0.11,100000\n",
    ">4633400,240,0.06,\n",
    ">42900,90,0.08,8900\n",
    ">983000,16,0.14,\n",
    ">15230,48,0.07,4300\n",
    ">```\n",
    ">\n",
    ">We'll convert it into the following dictionary of lists:\n",
    ">\n",
    ">```\n",
    ">{\n",
    ">  amount: [828400, 4633400, 42900, 983000, 15230],\n",
    ">  duration: []120, 240, 90, 16, 48],\n",
    ">  rate: [0.11, 0.06, 0.08, 0.14, 0.07],\n",
    ">  down_payment: [100000, 0, 8900, 0, 4300]\n",
    ">}\n",
    ">```\n",
    ">\n",
    ">Complete the following tasks using the empty cells below:\n",
    ">\n",
    ">1. Download three CSV files to the folder `data2` using the URLs >listed in the code cell below, and verify the downloaded files.\n",
    ">2. Define a function `read_csv_columnar` that reads a CSV file and returns a dictionary of lists in the format shown above. \n",
    ">3. Define a function `compute_emis` that adds another key `emi` into the dictionary with a list of EMIs computed for each row of data.\n",
    ">4. Define a function `write_csv_columnar` that writes the data from the dictionary of lists into a correctly formatted CSV file.\n",
    ">5. Process all three downloaded files and write the results by creating new files in the directory `data2`.\n",
    ">\n",
    ">Define helper functions wherever required."
   ]
  },
  {
   "cell_type": "code",
   "execution_count": 164,
   "id": "edc9c363",
   "metadata": {},
   "outputs": [],
   "source": [
    "url1 = 'https://gist.githubusercontent.com/aakashns/257f6e6c8719c17d0e498ea287d1a386/raw/7def9ef4234ddf0bc82f855ad67dac8b971852ef/loans1.txt'\n",
    "url2 = 'https://gist.githubusercontent.com/aakashns/257f6e6c8719c17d0e498ea287d1a386/raw/7def9ef4234ddf0bc82f855ad67dac8b971852ef/loans2.txt'\n",
    "url3 = 'https://gist.githubusercontent.com/aakashns/257f6e6c8719c17d0e498ea287d1a386/raw/7def9ef4234ddf0bc82f855ad67dac8b971852ef/loans3.txt'"
   ]
  },
  {
   "cell_type": "code",
   "execution_count": null,
   "id": "612a8acf",
   "metadata": {},
   "outputs": [],
   "source": []
  },
  {
   "cell_type": "markdown",
   "id": "7e3ac8d8",
   "metadata": {},
   "source": [
    ">## Summary and Further Reading\n",
    ">\n",
    ">With this, we complete our discussion of reading from and writing to files in Python. We've covered the following topics in this tutorial:\n",
    ">\n",
    ">* Interacting with the file system using the `os` module\n",
    ">* Downloading files from URLs using the `urllib` module\n",
    ">* Opening files using the `open` built-in function\n",
    ">* Reading the contents of a file using `.read`\n",
    ">* Closing a file automatically using `with`\n",
    ">* Reading a file line by line using `readlines`\n",
    ">* Processing data from a CSV file by defining functions\n",
    ">* Using helper functions to build more complex functions\n",
    ">* Writing data to a file using `.write`\n",
    ">\n",
    ">This tutorial on working with files in Python is by no means exhaustive. Following are some more resources you should check out:\n",
    ">\n",
    ">* Python Tutorial at W3Schools:[Click Here](https://www.w3schools.com/python/)\n",
    ">* Practical Python Programming: [Click Here](https://dabeaz-course.github.io/practical-python/Notes/Contents.html)\n",
    ">* Python official documentation: [Click Here](https://docs.python.org/3/tutorial/index.html)\n",
    ">."
   ]
  },
  {
   "cell_type": "markdown",
   "id": "7a2eb353",
   "metadata": {},
   "source": [
    "## Questions for Revision\n",
    "\n",
    "Try answering the following questions to test your understanding of the topics covered in this notebook:\n",
    "\n",
    "1. What is the purpose of the `os` module in Python?\n",
    "2. How do you identify the current working directory in a Jupyter notebook?\n",
    "3. How do you retrieve the list of files within a directory using Python?\n",
    "4. How do you create a directory using Python?\n",
    "5. How do you check whether a file or directory exists on the filesystem? Hint: `os.path.exists`.\n",
    "6. Where can you find the full list of functions contained in the `os` module?\n",
    "7. Give examples of 5 useful functions from the `os` and `os.path` modules.\n",
    "8. How do you download a file from a URL using Python?\n",
    "9. How do you open a file using Python? Give an example?\n",
    "10. What are the different modes for opening a file in Python?\n",
    "11. Can you open a file in multiple modes? Illustrate with an example.\n",
    "12. What is the file object? How is it useful?\n",
    "13. How do you read the contents of a file into a string?\n",
    "14. What is a CSV file? Give an example.\n",
    "15. How do you close an open file?\n",
    "16. Why is it essential to close a file after processing it?\n",
    "17. How do you ensure that files are closed automatically after processing? Give an example.\n",
    "18. How is the `with` statement useful for working with files?\n",
    "19. What happens if you try to read from a closed file?\n",
    "20. How do you read the contents of a file line by line?\n",
    "21. Write a function to convert the contents of a CSV file into a list of dictionaries (one dictionary for each row of the file).\n",
    "22. Write a function to convert the contents of a CSV file into a dictionary of lists (one dictionary for each column of the file).\n",
    "23. How do you write to a file using Python?\n",
    "24. How is the string `.format` method for writing data to a file in CSV format?\n",
    "25. Write a function to write data from a list of dictionaries into a CSV file.\n",
    "26. Write a function to write data from a dictionary of lists into a CSV file.\n",
    "27. Where can you learn about the methods supported by the file object in Python?\n",
    "28. How can you read from and write to CSV files using Pandas?"
   ]
  },
  {
   "cell_type": "code",
   "execution_count": null,
   "id": "d3db3e23",
   "metadata": {},
   "outputs": [],
   "source": []
  }
 ],
 "metadata": {
  "kernelspec": {
   "display_name": "Python 3 (ipykernel)",
   "language": "python",
   "name": "python3"
  },
  "language_info": {
   "codemirror_mode": {
    "name": "ipython",
    "version": 3
   },
   "file_extension": ".py",
   "mimetype": "text/x-python",
   "name": "python",
   "nbconvert_exporter": "python",
   "pygments_lexer": "ipython3",
   "version": "3.9.12"
  }
 },
 "nbformat": 4,
 "nbformat_minor": 5
}
