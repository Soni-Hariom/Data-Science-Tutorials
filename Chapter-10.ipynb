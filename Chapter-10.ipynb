{
 "cells": [
  {
   "cell_type": "markdown",
   "id": "847d7640",
   "metadata": {},
   "source": [
    "# Exploratory Data Analysis using Python: A Case Study"
   ]
  },
  {
   "cell_type": "markdown",
   "id": "15336bcf",
   "metadata": {},
   "source": [
    " ## CONTENT:\n",
    "* Selecting and downloading a dataset\n",
    "* Data preparation and cleaning\n",
    "* Exploratory analysis and visualization\n",
    "* Asking and answering interesting questions\n",
    "* Summarizing inferences and drawing conclusions"
   ]
  },
  {
   "cell_type": "markdown",
   "id": "54c3ffa0",
   "metadata": {},
   "source": [
    "## About:\n",
    "Analyzing responses from the Stack Overflow Annual Developer Survey 2020.\n",
    "![](https://i.imgur.com/qXhHKqv.png)"
   ]
  },
  {
   "cell_type": "markdown",
   "id": "b8d27025",
   "metadata": {},
   "source": [
    "## Introduction:\n",
    "In this tutorial, we'll analyze the Stack Overflow developer survey dataset. The dataset contains responses to an annual survey conducted by StackOverflow. You can find the raw data and official analysis [Here](https://insights.stackoverflow.com/survey).  \n",
    "\n",
    "There are several options for getting the dataset into Jupyter.  \n",
    "\n",
    "* Download the CSV manually and upload it via Jupyter's GUI\n",
    "* Use the `urlretrieve` function from the `urllib.requsest` to download CSV files from a raw URL\n",
    "* Use a helper library, e.g., `opendatasets`, which contains a collection of curated datasets and provides a helper function for direct download.  \n",
    "\n",
    "We will use the `opendatasets` helper library to download the files."
   ]
  },
  {
   "cell_type": "code",
   "execution_count": 1,
   "id": "60eb8331",
   "metadata": {},
   "outputs": [
    {
     "name": "stdout",
     "output_type": "stream",
     "text": [
      "Requirement already satisfied: opendatasets in c:\\users\\hp\\anaconda3\\lib\\site-packages (0.1.22)\n",
      "Requirement already satisfied: click in c:\\users\\hp\\anaconda3\\lib\\site-packages (from opendatasets) (8.0.4)\n",
      "Requirement already satisfied: kaggle in c:\\users\\hp\\anaconda3\\lib\\site-packages (from opendatasets) (1.5.12)\n",
      "Requirement already satisfied: tqdm in c:\\users\\hp\\anaconda3\\lib\\site-packages (from opendatasets) (4.64.0)\n",
      "Requirement already satisfied: colorama in c:\\users\\hp\\anaconda3\\lib\\site-packages (from click->opendatasets) (0.4.4)\n",
      "Requirement already satisfied: requests in c:\\users\\hp\\anaconda3\\lib\\site-packages (from kaggle->opendatasets) (2.27.1)\n",
      "Requirement already satisfied: six>=1.10 in c:\\users\\hp\\anaconda3\\lib\\site-packages (from kaggle->opendatasets) (1.16.0)\n",
      "Requirement already satisfied: urllib3 in c:\\users\\hp\\anaconda3\\lib\\site-packages (from kaggle->opendatasets) (1.26.9)\n",
      "Requirement already satisfied: python-dateutil in c:\\users\\hp\\anaconda3\\lib\\site-packages (from kaggle->opendatasets) (2.8.2)\n",
      "Requirement already satisfied: python-slugify in c:\\users\\hp\\anaconda3\\lib\\site-packages (from kaggle->opendatasets) (5.0.2)\n",
      "Requirement already satisfied: certifi in c:\\users\\hp\\anaconda3\\lib\\site-packages (from kaggle->opendatasets) (2021.10.8)\n",
      "Requirement already satisfied: text-unidecode>=1.3 in c:\\users\\hp\\anaconda3\\lib\\site-packages (from python-slugify->kaggle->opendatasets) (1.3)\n",
      "Requirement already satisfied: idna<4,>=2.5 in c:\\users\\hp\\anaconda3\\lib\\site-packages (from requests->kaggle->opendatasets) (3.3)\n",
      "Requirement already satisfied: charset-normalizer~=2.0.0 in c:\\users\\hp\\anaconda3\\lib\\site-packages (from requests->kaggle->opendatasets) (2.0.4)\n"
     ]
    }
   ],
   "source": [
    "# Let's install the opendatasets library\n",
    "!pip install opendatasets"
   ]
  },
  {
   "cell_type": "code",
   "execution_count": 2,
   "id": "2783fd23",
   "metadata": {},
   "outputs": [],
   "source": [
    "# importing the opendatasets library to use\n",
    "import opendatasets as ods"
   ]
  },
  {
   "cell_type": "code",
   "execution_count": 3,
   "id": "fe816309",
   "metadata": {},
   "outputs": [
    {
     "name": "stdout",
     "output_type": "stream",
     "text": [
      "Downloading https://raw.githubusercontent.com/JovianML/opendatasets/master/data/stackoverflow-developer-survey-2020/survey_results_public.csv to .\\stackoverflow-developer-survey-2020\\survey_results_public.csv\n"
     ]
    },
    {
     "name": "stderr",
     "output_type": "stream",
     "text": [
      "94609408it [04:28, 352058.52it/s]                                                                                      \n"
     ]
    },
    {
     "name": "stdout",
     "output_type": "stream",
     "text": [
      "Downloading https://raw.githubusercontent.com/JovianML/opendatasets/master/data/stackoverflow-developer-survey-2020/survey_results_schema.csv to .\\stackoverflow-developer-survey-2020\\survey_results_schema.csv\n"
     ]
    },
    {
     "name": "stderr",
     "output_type": "stream",
     "text": [
      "16384it [00:01, 15691.38it/s]                                                                                          \n"
     ]
    },
    {
     "name": "stdout",
     "output_type": "stream",
     "text": [
      "Downloading https://raw.githubusercontent.com/JovianML/opendatasets/master/data/stackoverflow-developer-survey-2020/README.txt to .\\stackoverflow-developer-survey-2020\\README.txt\n"
     ]
    },
    {
     "name": "stderr",
     "output_type": "stream",
     "text": [
      "8192it [00:00, 8307.61it/s]                                                                                            \n"
     ]
    }
   ],
   "source": [
    "# Download the CSV file\n",
    "ods.download('stackoverflow-developer-survey-2020')"
   ]
  },
  {
   "cell_type": "markdown",
   "id": "1b3bab9f",
   "metadata": {},
   "source": [
    "* **Let's verify the data set was downloaded into the directory `stackoverflow-developer-survey-2020` and retrieve the list of files in the dataset.**"
   ]
  },
  {
   "cell_type": "code",
   "execution_count": 4,
   "id": "46775e97",
   "metadata": {},
   "outputs": [],
   "source": [
    "import os"
   ]
  },
  {
   "cell_type": "code",
   "execution_count": 5,
   "id": "21e05882",
   "metadata": {},
   "outputs": [
    {
     "data": {
      "text/plain": [
       "['README.txt', 'survey_results_public.csv', 'survey_results_schema.csv']"
      ]
     },
     "execution_count": 5,
     "metadata": {},
     "output_type": "execute_result"
    }
   ],
   "source": [
    "os.listdir('stackoverflow-developer-survey-2020')"
   ]
  },
  {
   "cell_type": "markdown",
   "id": "50403765",
   "metadata": {},
   "source": [
    "**You can through the downloaded files using the 'File' > 'Open' menu option in Jupyter. It seems like the dataset contains three files:**  \n",
    "* `README.txt`:- Information about the dataset\n",
    "* `survey_result_public.csv`:- The list of questions, and shortcodes for each question  \n",
    "* `survey_result_schema.csv`:- The full list of responses to the questions  \n",
    "\n",
    "Let's load the CSV file using the Pandas library. We'll use the name `survey_raw_df` for the data frame to indicate this is unprocessed data that we might clean, filter, and modify to prepare a data frame ready for analysis."
   ]
  },
  {
   "cell_type": "code",
   "execution_count": 6,
   "id": "20464756",
   "metadata": {},
   "outputs": [],
   "source": [
    "import pandas as pd"
   ]
  },
  {
   "cell_type": "code",
   "execution_count": 7,
   "id": "082169e2",
   "metadata": {},
   "outputs": [],
   "source": [
    "survey_raw_df=pd.read_csv('stackoverflow-developer-survey-2020/survey_results_public.csv')"
   ]
  },
  {
   "cell_type": "code",
   "execution_count": 8,
   "id": "8c6e8ebf",
   "metadata": {},
   "outputs": [
    {
     "data": {
      "text/html": [
       "<div>\n",
       "<style scoped>\n",
       "    .dataframe tbody tr th:only-of-type {\n",
       "        vertical-align: middle;\n",
       "    }\n",
       "\n",
       "    .dataframe tbody tr th {\n",
       "        vertical-align: top;\n",
       "    }\n",
       "\n",
       "    .dataframe thead th {\n",
       "        text-align: right;\n",
       "    }\n",
       "</style>\n",
       "<table border=\"1\" class=\"dataframe\">\n",
       "  <thead>\n",
       "    <tr style=\"text-align: right;\">\n",
       "      <th></th>\n",
       "      <th>Respondent</th>\n",
       "      <th>MainBranch</th>\n",
       "      <th>Hobbyist</th>\n",
       "      <th>Age</th>\n",
       "      <th>Age1stCode</th>\n",
       "      <th>CompFreq</th>\n",
       "      <th>CompTotal</th>\n",
       "      <th>ConvertedComp</th>\n",
       "      <th>Country</th>\n",
       "      <th>CurrencyDesc</th>\n",
       "      <th>...</th>\n",
       "      <th>SurveyEase</th>\n",
       "      <th>SurveyLength</th>\n",
       "      <th>Trans</th>\n",
       "      <th>UndergradMajor</th>\n",
       "      <th>WebframeDesireNextYear</th>\n",
       "      <th>WebframeWorkedWith</th>\n",
       "      <th>WelcomeChange</th>\n",
       "      <th>WorkWeekHrs</th>\n",
       "      <th>YearsCode</th>\n",
       "      <th>YearsCodePro</th>\n",
       "    </tr>\n",
       "  </thead>\n",
       "  <tbody>\n",
       "    <tr>\n",
       "      <th>0</th>\n",
       "      <td>1</td>\n",
       "      <td>I am a developer by profession</td>\n",
       "      <td>Yes</td>\n",
       "      <td>NaN</td>\n",
       "      <td>13</td>\n",
       "      <td>Monthly</td>\n",
       "      <td>NaN</td>\n",
       "      <td>NaN</td>\n",
       "      <td>Germany</td>\n",
       "      <td>European Euro</td>\n",
       "      <td>...</td>\n",
       "      <td>Neither easy nor difficult</td>\n",
       "      <td>Appropriate in length</td>\n",
       "      <td>No</td>\n",
       "      <td>Computer science, computer engineering, or sof...</td>\n",
       "      <td>ASP.NET Core</td>\n",
       "      <td>ASP.NET;ASP.NET Core</td>\n",
       "      <td>Just as welcome now as I felt last year</td>\n",
       "      <td>50.0</td>\n",
       "      <td>36</td>\n",
       "      <td>27</td>\n",
       "    </tr>\n",
       "    <tr>\n",
       "      <th>1</th>\n",
       "      <td>2</td>\n",
       "      <td>I am a developer by profession</td>\n",
       "      <td>No</td>\n",
       "      <td>NaN</td>\n",
       "      <td>19</td>\n",
       "      <td>NaN</td>\n",
       "      <td>NaN</td>\n",
       "      <td>NaN</td>\n",
       "      <td>United Kingdom</td>\n",
       "      <td>Pound sterling</td>\n",
       "      <td>...</td>\n",
       "      <td>NaN</td>\n",
       "      <td>NaN</td>\n",
       "      <td>NaN</td>\n",
       "      <td>Computer science, computer engineering, or sof...</td>\n",
       "      <td>NaN</td>\n",
       "      <td>NaN</td>\n",
       "      <td>Somewhat more welcome now than last year</td>\n",
       "      <td>NaN</td>\n",
       "      <td>7</td>\n",
       "      <td>4</td>\n",
       "    </tr>\n",
       "    <tr>\n",
       "      <th>2</th>\n",
       "      <td>3</td>\n",
       "      <td>I code primarily as a hobby</td>\n",
       "      <td>Yes</td>\n",
       "      <td>NaN</td>\n",
       "      <td>15</td>\n",
       "      <td>NaN</td>\n",
       "      <td>NaN</td>\n",
       "      <td>NaN</td>\n",
       "      <td>Russian Federation</td>\n",
       "      <td>NaN</td>\n",
       "      <td>...</td>\n",
       "      <td>Neither easy nor difficult</td>\n",
       "      <td>Appropriate in length</td>\n",
       "      <td>NaN</td>\n",
       "      <td>NaN</td>\n",
       "      <td>NaN</td>\n",
       "      <td>NaN</td>\n",
       "      <td>Somewhat more welcome now than last year</td>\n",
       "      <td>NaN</td>\n",
       "      <td>4</td>\n",
       "      <td>NaN</td>\n",
       "    </tr>\n",
       "    <tr>\n",
       "      <th>3</th>\n",
       "      <td>4</td>\n",
       "      <td>I am a developer by profession</td>\n",
       "      <td>Yes</td>\n",
       "      <td>25.0</td>\n",
       "      <td>18</td>\n",
       "      <td>NaN</td>\n",
       "      <td>NaN</td>\n",
       "      <td>NaN</td>\n",
       "      <td>Albania</td>\n",
       "      <td>Albanian lek</td>\n",
       "      <td>...</td>\n",
       "      <td>NaN</td>\n",
       "      <td>NaN</td>\n",
       "      <td>No</td>\n",
       "      <td>Computer science, computer engineering, or sof...</td>\n",
       "      <td>NaN</td>\n",
       "      <td>NaN</td>\n",
       "      <td>Somewhat less welcome now than last year</td>\n",
       "      <td>40.0</td>\n",
       "      <td>7</td>\n",
       "      <td>4</td>\n",
       "    </tr>\n",
       "    <tr>\n",
       "      <th>4</th>\n",
       "      <td>5</td>\n",
       "      <td>I used to be a developer by profession, but no...</td>\n",
       "      <td>Yes</td>\n",
       "      <td>31.0</td>\n",
       "      <td>16</td>\n",
       "      <td>NaN</td>\n",
       "      <td>NaN</td>\n",
       "      <td>NaN</td>\n",
       "      <td>United States</td>\n",
       "      <td>NaN</td>\n",
       "      <td>...</td>\n",
       "      <td>Easy</td>\n",
       "      <td>Too short</td>\n",
       "      <td>No</td>\n",
       "      <td>Computer science, computer engineering, or sof...</td>\n",
       "      <td>Django;Ruby on Rails</td>\n",
       "      <td>Ruby on Rails</td>\n",
       "      <td>Just as welcome now as I felt last year</td>\n",
       "      <td>NaN</td>\n",
       "      <td>15</td>\n",
       "      <td>8</td>\n",
       "    </tr>\n",
       "    <tr>\n",
       "      <th>...</th>\n",
       "      <td>...</td>\n",
       "      <td>...</td>\n",
       "      <td>...</td>\n",
       "      <td>...</td>\n",
       "      <td>...</td>\n",
       "      <td>...</td>\n",
       "      <td>...</td>\n",
       "      <td>...</td>\n",
       "      <td>...</td>\n",
       "      <td>...</td>\n",
       "      <td>...</td>\n",
       "      <td>...</td>\n",
       "      <td>...</td>\n",
       "      <td>...</td>\n",
       "      <td>...</td>\n",
       "      <td>...</td>\n",
       "      <td>...</td>\n",
       "      <td>...</td>\n",
       "      <td>...</td>\n",
       "      <td>...</td>\n",
       "      <td>...</td>\n",
       "    </tr>\n",
       "    <tr>\n",
       "      <th>64456</th>\n",
       "      <td>64858</td>\n",
       "      <td>NaN</td>\n",
       "      <td>Yes</td>\n",
       "      <td>NaN</td>\n",
       "      <td>16</td>\n",
       "      <td>NaN</td>\n",
       "      <td>NaN</td>\n",
       "      <td>NaN</td>\n",
       "      <td>United States</td>\n",
       "      <td>NaN</td>\n",
       "      <td>...</td>\n",
       "      <td>NaN</td>\n",
       "      <td>NaN</td>\n",
       "      <td>NaN</td>\n",
       "      <td>Computer science, computer engineering, or sof...</td>\n",
       "      <td>NaN</td>\n",
       "      <td>NaN</td>\n",
       "      <td>NaN</td>\n",
       "      <td>NaN</td>\n",
       "      <td>10</td>\n",
       "      <td>Less than 1 year</td>\n",
       "    </tr>\n",
       "    <tr>\n",
       "      <th>64457</th>\n",
       "      <td>64867</td>\n",
       "      <td>NaN</td>\n",
       "      <td>Yes</td>\n",
       "      <td>NaN</td>\n",
       "      <td>NaN</td>\n",
       "      <td>NaN</td>\n",
       "      <td>NaN</td>\n",
       "      <td>NaN</td>\n",
       "      <td>Morocco</td>\n",
       "      <td>NaN</td>\n",
       "      <td>...</td>\n",
       "      <td>NaN</td>\n",
       "      <td>NaN</td>\n",
       "      <td>NaN</td>\n",
       "      <td>NaN</td>\n",
       "      <td>NaN</td>\n",
       "      <td>NaN</td>\n",
       "      <td>NaN</td>\n",
       "      <td>NaN</td>\n",
       "      <td>NaN</td>\n",
       "      <td>NaN</td>\n",
       "    </tr>\n",
       "    <tr>\n",
       "      <th>64458</th>\n",
       "      <td>64898</td>\n",
       "      <td>NaN</td>\n",
       "      <td>Yes</td>\n",
       "      <td>NaN</td>\n",
       "      <td>NaN</td>\n",
       "      <td>NaN</td>\n",
       "      <td>NaN</td>\n",
       "      <td>NaN</td>\n",
       "      <td>Viet Nam</td>\n",
       "      <td>NaN</td>\n",
       "      <td>...</td>\n",
       "      <td>NaN</td>\n",
       "      <td>NaN</td>\n",
       "      <td>NaN</td>\n",
       "      <td>NaN</td>\n",
       "      <td>NaN</td>\n",
       "      <td>NaN</td>\n",
       "      <td>NaN</td>\n",
       "      <td>NaN</td>\n",
       "      <td>NaN</td>\n",
       "      <td>NaN</td>\n",
       "    </tr>\n",
       "    <tr>\n",
       "      <th>64459</th>\n",
       "      <td>64925</td>\n",
       "      <td>NaN</td>\n",
       "      <td>Yes</td>\n",
       "      <td>NaN</td>\n",
       "      <td>NaN</td>\n",
       "      <td>NaN</td>\n",
       "      <td>NaN</td>\n",
       "      <td>NaN</td>\n",
       "      <td>Poland</td>\n",
       "      <td>NaN</td>\n",
       "      <td>...</td>\n",
       "      <td>NaN</td>\n",
       "      <td>NaN</td>\n",
       "      <td>NaN</td>\n",
       "      <td>NaN</td>\n",
       "      <td>Angular;Angular.js;React.js</td>\n",
       "      <td>NaN</td>\n",
       "      <td>NaN</td>\n",
       "      <td>NaN</td>\n",
       "      <td>NaN</td>\n",
       "      <td>NaN</td>\n",
       "    </tr>\n",
       "    <tr>\n",
       "      <th>64460</th>\n",
       "      <td>65112</td>\n",
       "      <td>NaN</td>\n",
       "      <td>Yes</td>\n",
       "      <td>NaN</td>\n",
       "      <td>NaN</td>\n",
       "      <td>NaN</td>\n",
       "      <td>NaN</td>\n",
       "      <td>NaN</td>\n",
       "      <td>Spain</td>\n",
       "      <td>NaN</td>\n",
       "      <td>...</td>\n",
       "      <td>NaN</td>\n",
       "      <td>NaN</td>\n",
       "      <td>NaN</td>\n",
       "      <td>Computer science, computer engineering, or sof...</td>\n",
       "      <td>ASP.NET Core;jQuery</td>\n",
       "      <td>Angular;Angular.js;ASP.NET Core;jQuery</td>\n",
       "      <td>NaN</td>\n",
       "      <td>NaN</td>\n",
       "      <td>NaN</td>\n",
       "      <td>NaN</td>\n",
       "    </tr>\n",
       "  </tbody>\n",
       "</table>\n",
       "<p>64461 rows × 61 columns</p>\n",
       "</div>"
      ],
      "text/plain": [
       "       Respondent                                         MainBranch Hobbyist  \\\n",
       "0               1                     I am a developer by profession      Yes   \n",
       "1               2                     I am a developer by profession       No   \n",
       "2               3                        I code primarily as a hobby      Yes   \n",
       "3               4                     I am a developer by profession      Yes   \n",
       "4               5  I used to be a developer by profession, but no...      Yes   \n",
       "...           ...                                                ...      ...   \n",
       "64456       64858                                                NaN      Yes   \n",
       "64457       64867                                                NaN      Yes   \n",
       "64458       64898                                                NaN      Yes   \n",
       "64459       64925                                                NaN      Yes   \n",
       "64460       65112                                                NaN      Yes   \n",
       "\n",
       "        Age Age1stCode CompFreq  CompTotal  ConvertedComp             Country  \\\n",
       "0       NaN         13  Monthly        NaN            NaN             Germany   \n",
       "1       NaN         19      NaN        NaN            NaN      United Kingdom   \n",
       "2       NaN         15      NaN        NaN            NaN  Russian Federation   \n",
       "3      25.0         18      NaN        NaN            NaN             Albania   \n",
       "4      31.0         16      NaN        NaN            NaN       United States   \n",
       "...     ...        ...      ...        ...            ...                 ...   \n",
       "64456   NaN         16      NaN        NaN            NaN       United States   \n",
       "64457   NaN        NaN      NaN        NaN            NaN             Morocco   \n",
       "64458   NaN        NaN      NaN        NaN            NaN            Viet Nam   \n",
       "64459   NaN        NaN      NaN        NaN            NaN              Poland   \n",
       "64460   NaN        NaN      NaN        NaN            NaN               Spain   \n",
       "\n",
       "         CurrencyDesc  ...                  SurveyEase           SurveyLength  \\\n",
       "0       European Euro  ...  Neither easy nor difficult  Appropriate in length   \n",
       "1      Pound sterling  ...                         NaN                    NaN   \n",
       "2                 NaN  ...  Neither easy nor difficult  Appropriate in length   \n",
       "3        Albanian lek  ...                         NaN                    NaN   \n",
       "4                 NaN  ...                        Easy              Too short   \n",
       "...               ...  ...                         ...                    ...   \n",
       "64456             NaN  ...                         NaN                    NaN   \n",
       "64457             NaN  ...                         NaN                    NaN   \n",
       "64458             NaN  ...                         NaN                    NaN   \n",
       "64459             NaN  ...                         NaN                    NaN   \n",
       "64460             NaN  ...                         NaN                    NaN   \n",
       "\n",
       "      Trans                                     UndergradMajor  \\\n",
       "0        No  Computer science, computer engineering, or sof...   \n",
       "1       NaN  Computer science, computer engineering, or sof...   \n",
       "2       NaN                                                NaN   \n",
       "3        No  Computer science, computer engineering, or sof...   \n",
       "4        No  Computer science, computer engineering, or sof...   \n",
       "...     ...                                                ...   \n",
       "64456   NaN  Computer science, computer engineering, or sof...   \n",
       "64457   NaN                                                NaN   \n",
       "64458   NaN                                                NaN   \n",
       "64459   NaN                                                NaN   \n",
       "64460   NaN  Computer science, computer engineering, or sof...   \n",
       "\n",
       "            WebframeDesireNextYear                      WebframeWorkedWith  \\\n",
       "0                     ASP.NET Core                    ASP.NET;ASP.NET Core   \n",
       "1                              NaN                                     NaN   \n",
       "2                              NaN                                     NaN   \n",
       "3                              NaN                                     NaN   \n",
       "4             Django;Ruby on Rails                           Ruby on Rails   \n",
       "...                            ...                                     ...   \n",
       "64456                          NaN                                     NaN   \n",
       "64457                          NaN                                     NaN   \n",
       "64458                          NaN                                     NaN   \n",
       "64459  Angular;Angular.js;React.js                                     NaN   \n",
       "64460          ASP.NET Core;jQuery  Angular;Angular.js;ASP.NET Core;jQuery   \n",
       "\n",
       "                                  WelcomeChange WorkWeekHrs YearsCode  \\\n",
       "0       Just as welcome now as I felt last year        50.0        36   \n",
       "1      Somewhat more welcome now than last year         NaN         7   \n",
       "2      Somewhat more welcome now than last year         NaN         4   \n",
       "3      Somewhat less welcome now than last year        40.0         7   \n",
       "4       Just as welcome now as I felt last year         NaN        15   \n",
       "...                                         ...         ...       ...   \n",
       "64456                                       NaN         NaN        10   \n",
       "64457                                       NaN         NaN       NaN   \n",
       "64458                                       NaN         NaN       NaN   \n",
       "64459                                       NaN         NaN       NaN   \n",
       "64460                                       NaN         NaN       NaN   \n",
       "\n",
       "           YearsCodePro  \n",
       "0                    27  \n",
       "1                     4  \n",
       "2                   NaN  \n",
       "3                     4  \n",
       "4                     8  \n",
       "...                 ...  \n",
       "64456  Less than 1 year  \n",
       "64457               NaN  \n",
       "64458               NaN  \n",
       "64459               NaN  \n",
       "64460               NaN  \n",
       "\n",
       "[64461 rows x 61 columns]"
      ]
     },
     "execution_count": 8,
     "metadata": {},
     "output_type": "execute_result"
    }
   ],
   "source": [
    "survey_raw_df"
   ]
  },
  {
   "cell_type": "markdown",
   "id": "7e8f6173",
   "metadata": {},
   "source": [
    "* **The dataset contains over 64,000 responses to 60 questions (although many questions are optional). The responses have been analyzed to remove personally identifiable, information, and each respondent has been assigned a randomized respondent ID.**    \n",
    "  \n",
    "  \n",
    "* **Let's view the list of columns in the data frame:**\n"
   ]
  },
  {
   "cell_type": "code",
   "execution_count": 9,
   "id": "0c8ae8c4",
   "metadata": {},
   "outputs": [
    {
     "data": {
      "text/plain": [
       "Index(['Respondent', 'MainBranch', 'Hobbyist', 'Age', 'Age1stCode', 'CompFreq',\n",
       "       'CompTotal', 'ConvertedComp', 'Country', 'CurrencyDesc',\n",
       "       'CurrencySymbol', 'DatabaseDesireNextYear', 'DatabaseWorkedWith',\n",
       "       'DevType', 'EdLevel', 'Employment', 'Ethnicity', 'Gender', 'JobFactors',\n",
       "       'JobSat', 'JobSeek', 'LanguageDesireNextYear', 'LanguageWorkedWith',\n",
       "       'MiscTechDesireNextYear', 'MiscTechWorkedWith',\n",
       "       'NEWCollabToolsDesireNextYear', 'NEWCollabToolsWorkedWith', 'NEWDevOps',\n",
       "       'NEWDevOpsImpt', 'NEWEdImpt', 'NEWJobHunt', 'NEWJobHuntResearch',\n",
       "       'NEWLearn', 'NEWOffTopic', 'NEWOnboardGood', 'NEWOtherComms',\n",
       "       'NEWOvertime', 'NEWPurchaseResearch', 'NEWPurpleLink', 'NEWSOSites',\n",
       "       'NEWStuck', 'OpSys', 'OrgSize', 'PlatformDesireNextYear',\n",
       "       'PlatformWorkedWith', 'PurchaseWhat', 'Sexuality', 'SOAccount',\n",
       "       'SOComm', 'SOPartFreq', 'SOVisitFreq', 'SurveyEase', 'SurveyLength',\n",
       "       'Trans', 'UndergradMajor', 'WebframeDesireNextYear',\n",
       "       'WebframeWorkedWith', 'WelcomeChange', 'WorkWeekHrs', 'YearsCode',\n",
       "       'YearsCodePro'],\n",
       "      dtype='object')"
      ]
     },
     "execution_count": 9,
     "metadata": {},
     "output_type": "execute_result"
    }
   ],
   "source": [
    "survey_raw_df.columns"
   ]
  },
  {
   "cell_type": "code",
   "execution_count": 10,
   "id": "d36ff4e8",
   "metadata": {},
   "outputs": [
    {
     "data": {
      "text/plain": [
       "61"
      ]
     },
     "execution_count": 10,
     "metadata": {},
     "output_type": "execute_result"
    }
   ],
   "source": [
    "# Calculating total number of columns\n",
    "len(survey_raw_df.columns)"
   ]
  },
  {
   "cell_type": "markdown",
   "id": "e55bc8f4",
   "metadata": {},
   "source": [
    "* **It appears that short codes for questions have been used as column names.**  \n",
    "\n",
    "* **We can refer to the schema file to see the full text of each question. The schema file contains only two columns: `Column` and `QuestionText`. We can load it as Pandas Series with `Column` as the index and the `QuestionText` as the value.**"
   ]
  },
  {
   "cell_type": "code",
   "execution_count": 11,
   "id": "fb5a889b",
   "metadata": {},
   "outputs": [],
   "source": [
    "schema_fname = 'stackoverflow-developer-survey-2020/survey_results_schema.csv'\n",
    "schema_raw = pd.read_csv(schema_fname, index_col='Column').QuestionText"
   ]
  },
  {
   "cell_type": "code",
   "execution_count": 12,
   "id": "42078517",
   "metadata": {},
   "outputs": [
    {
     "data": {
      "text/plain": [
       "Column\n",
       "Respondent            Randomized respondent ID number (not in order ...\n",
       "MainBranch            Which of the following options best describes ...\n",
       "Hobbyist                                        Do you code as a hobby?\n",
       "Age                   What is your age (in years)? If you prefer not...\n",
       "Age1stCode            At what age did you write your first line of c...\n",
       "                                            ...                        \n",
       "WebframeWorkedWith    Which web frameworks have you done extensive d...\n",
       "WelcomeChange         Compared to last year, how welcome do you feel...\n",
       "WorkWeekHrs           On average, how many hours per week do you wor...\n",
       "YearsCode             Including any education, how many years have y...\n",
       "YearsCodePro          NOT including education, how many years have y...\n",
       "Name: QuestionText, Length: 61, dtype: object"
      ]
     },
     "execution_count": 12,
     "metadata": {},
     "output_type": "execute_result"
    }
   ],
   "source": [
    "schema_raw"
   ]
  },
  {
   "cell_type": "markdown",
   "id": "42c71086",
   "metadata": {},
   "source": [
    "* **We can now use `schema_raw` to retrieve the full question text for any column in `survey_raw_df`.**"
   ]
  },
  {
   "cell_type": "code",
   "execution_count": 13,
   "id": "e3cb05f1",
   "metadata": {},
   "outputs": [
    {
     "data": {
      "text/plain": [
       "'NOT including education, how many years have you coded professionally (as a part of your work)?'"
      ]
     },
     "execution_count": 13,
     "metadata": {},
     "output_type": "execute_result"
    }
   ],
   "source": [
    "schema_raw['YearsCodePro']"
   ]
  },
  {
   "cell_type": "markdown",
   "id": "aa57c398",
   "metadata": {},
   "source": [
    "* **We have now loaded the dataset. We are ready to move to the next step of preprocessing & cleaning the data for our analysis.**"
   ]
  },
  {
   "cell_type": "markdown",
   "id": "1e104440",
   "metadata": {},
   "source": [
    "## Data Preparation & Cleaning:\n",
    "While the survey responses contain a wealth of information, we'll limit our analysis to the following areas:\n",
    "\n",
    "* Demographics of the survey respondents and the global programming community\n",
    "* Distribution of programming skills, experiences, and preferences\n",
    "* Employment-related information, preferences, and opinions  \n",
    "\n",
    "Let's select a subset of columns with relevant data for our analysis:"
   ]
  },
  {
   "cell_type": "code",
   "execution_count": 14,
   "id": "07048420",
   "metadata": {},
   "outputs": [],
   "source": [
    "selected_columns = [\n",
    "    # Demographics\n",
    "    'Country',\n",
    "    'Age',\n",
    "    'Gender',\n",
    "    'EdLevel',\n",
    "    'UndergradMajor',\n",
    "    # Programming experience\n",
    "    'Hobbyist',\n",
    "    'Age1stCode',\n",
    "    'YearsCode',\n",
    "    'YearsCodePro',\n",
    "    'LanguageWorkedWith',\n",
    "    'LanguageDesireNextYear',\n",
    "    'NEWLearn',\n",
    "    'NEWStuck',\n",
    "    # Employment\n",
    "    'Employment',\n",
    "    'DevType',\n",
    "    'WorkWeekHrs',\n",
    "    'JobSat',\n",
    "    'JobFactors',\n",
    "    'NEWOvertime',\n",
    "    'NEWEdImpt'\n",
    "]"
   ]
  },
  {
   "cell_type": "code",
   "execution_count": 15,
   "id": "4fbf6b55",
   "metadata": {},
   "outputs": [
    {
     "data": {
      "text/plain": [
       "20"
      ]
     },
     "execution_count": 15,
     "metadata": {},
     "output_type": "execute_result"
    }
   ],
   "source": [
    "len(selected_columns)"
   ]
  },
  {
   "cell_type": "markdown",
   "id": "fc423139",
   "metadata": {},
   "source": [
    "* **Let's extract a copy of the data from these columns into a new data frame `survey_df`. We can continue to modify further without affecting the original data frame.**"
   ]
  },
  {
   "cell_type": "code",
   "execution_count": 16,
   "id": "7240d4fe",
   "metadata": {},
   "outputs": [],
   "source": [
    "survey_df = survey_raw_df[selected_columns].copy()"
   ]
  },
  {
   "cell_type": "code",
   "execution_count": 17,
   "id": "b31980cb",
   "metadata": {},
   "outputs": [],
   "source": [
    "schema = schema_raw[selected_columns]"
   ]
  },
  {
   "cell_type": "markdown",
   "id": "c8129ca4",
   "metadata": {},
   "source": [
    "* **Let's view some basic information about the data frame.**"
   ]
  },
  {
   "cell_type": "code",
   "execution_count": 18,
   "id": "c741eed3",
   "metadata": {},
   "outputs": [
    {
     "data": {
      "text/plain": [
       "(64461, 20)"
      ]
     },
     "execution_count": 18,
     "metadata": {},
     "output_type": "execute_result"
    }
   ],
   "source": [
    "survey_df.shape"
   ]
  },
  {
   "cell_type": "code",
   "execution_count": 19,
   "id": "9893731b",
   "metadata": {},
   "outputs": [
    {
     "name": "stdout",
     "output_type": "stream",
     "text": [
      "<class 'pandas.core.frame.DataFrame'>\n",
      "RangeIndex: 64461 entries, 0 to 64460\n",
      "Data columns (total 20 columns):\n",
      " #   Column                  Non-Null Count  Dtype  \n",
      "---  ------                  --------------  -----  \n",
      " 0   Country                 64072 non-null  object \n",
      " 1   Age                     45446 non-null  float64\n",
      " 2   Gender                  50557 non-null  object \n",
      " 3   EdLevel                 57431 non-null  object \n",
      " 4   UndergradMajor          50995 non-null  object \n",
      " 5   Hobbyist                64416 non-null  object \n",
      " 6   Age1stCode              57900 non-null  object \n",
      " 7   YearsCode               57684 non-null  object \n",
      " 8   YearsCodePro            46349 non-null  object \n",
      " 9   LanguageWorkedWith      57378 non-null  object \n",
      " 10  LanguageDesireNextYear  54113 non-null  object \n",
      " 11  NEWLearn                56156 non-null  object \n",
      " 12  NEWStuck                54983 non-null  object \n",
      " 13  Employment              63854 non-null  object \n",
      " 14  DevType                 49370 non-null  object \n",
      " 15  WorkWeekHrs             41151 non-null  float64\n",
      " 16  JobSat                  45194 non-null  object \n",
      " 17  JobFactors              49349 non-null  object \n",
      " 18  NEWOvertime             43231 non-null  object \n",
      " 19  NEWEdImpt               48465 non-null  object \n",
      "dtypes: float64(2), object(18)\n",
      "memory usage: 9.8+ MB\n"
     ]
    }
   ],
   "source": [
    "survey_df.info()"
   ]
  },
  {
   "cell_type": "markdown",
   "id": "8f58c48c",
   "metadata": {},
   "source": [
    "* **Most columns have the data type `object`, either because they contain values of different types or contain empty values `(NaN)`. It appears that every column contains some empty values since the Non-Null count for every column is lower than the total number of rows (i.e.,64461). We'll need to deal with empty values and manually adjust the data types for each column on a case-by-case basis.**  \n",
    "\n",
    "\n",
    "* **Only two of the columns were detected as numeric columns *(i.e., Age and WorkWeekHrs)*, even through a few other columns have mostly numeric values. To make our analysis easier, let's convert some other columns into numeric data types while ignoring any non-numeric values. The non-numeric are converted to `NaN`.** "
   ]
  },
  {
   "cell_type": "code",
   "execution_count": 20,
   "id": "ca3d1fb1",
   "metadata": {},
   "outputs": [],
   "source": [
    "survey_df['Age1stCode'] = pd.to_numeric(survey_df.Age1stCode, errors='coerce')\n",
    "survey_df['YearsCode'] = pd.to_numeric(survey_df.YearsCode, errors='coerce')\n",
    "survey_df['YearsCodePro'] = pd.to_numeric(survey_df.YearsCodePro, errors='coerce')"
   ]
  },
  {
   "cell_type": "markdown",
   "id": "39723ab8",
   "metadata": {},
   "source": [
    "* **Let's now view some basic statistics about numeric columns.**"
   ]
  },
  {
   "cell_type": "code",
   "execution_count": 21,
   "id": "4f2ec949",
   "metadata": {},
   "outputs": [
    {
     "data": {
      "text/html": [
       "<div>\n",
       "<style scoped>\n",
       "    .dataframe tbody tr th:only-of-type {\n",
       "        vertical-align: middle;\n",
       "    }\n",
       "\n",
       "    .dataframe tbody tr th {\n",
       "        vertical-align: top;\n",
       "    }\n",
       "\n",
       "    .dataframe thead th {\n",
       "        text-align: right;\n",
       "    }\n",
       "</style>\n",
       "<table border=\"1\" class=\"dataframe\">\n",
       "  <thead>\n",
       "    <tr style=\"text-align: right;\">\n",
       "      <th></th>\n",
       "      <th>Age</th>\n",
       "      <th>Age1stCode</th>\n",
       "      <th>YearsCode</th>\n",
       "      <th>YearsCodePro</th>\n",
       "      <th>WorkWeekHrs</th>\n",
       "    </tr>\n",
       "  </thead>\n",
       "  <tbody>\n",
       "    <tr>\n",
       "      <th>count</th>\n",
       "      <td>45446.000000</td>\n",
       "      <td>57473.000000</td>\n",
       "      <td>56784.000000</td>\n",
       "      <td>44133.000000</td>\n",
       "      <td>41151.000000</td>\n",
       "    </tr>\n",
       "    <tr>\n",
       "      <th>mean</th>\n",
       "      <td>30.834111</td>\n",
       "      <td>15.476572</td>\n",
       "      <td>12.782051</td>\n",
       "      <td>8.869667</td>\n",
       "      <td>40.782174</td>\n",
       "    </tr>\n",
       "    <tr>\n",
       "      <th>std</th>\n",
       "      <td>9.585392</td>\n",
       "      <td>5.114081</td>\n",
       "      <td>9.490657</td>\n",
       "      <td>7.759961</td>\n",
       "      <td>17.816383</td>\n",
       "    </tr>\n",
       "    <tr>\n",
       "      <th>min</th>\n",
       "      <td>1.000000</td>\n",
       "      <td>5.000000</td>\n",
       "      <td>1.000000</td>\n",
       "      <td>1.000000</td>\n",
       "      <td>1.000000</td>\n",
       "    </tr>\n",
       "    <tr>\n",
       "      <th>25%</th>\n",
       "      <td>24.000000</td>\n",
       "      <td>12.000000</td>\n",
       "      <td>6.000000</td>\n",
       "      <td>3.000000</td>\n",
       "      <td>40.000000</td>\n",
       "    </tr>\n",
       "    <tr>\n",
       "      <th>50%</th>\n",
       "      <td>29.000000</td>\n",
       "      <td>15.000000</td>\n",
       "      <td>10.000000</td>\n",
       "      <td>6.000000</td>\n",
       "      <td>40.000000</td>\n",
       "    </tr>\n",
       "    <tr>\n",
       "      <th>75%</th>\n",
       "      <td>35.000000</td>\n",
       "      <td>18.000000</td>\n",
       "      <td>17.000000</td>\n",
       "      <td>12.000000</td>\n",
       "      <td>44.000000</td>\n",
       "    </tr>\n",
       "    <tr>\n",
       "      <th>max</th>\n",
       "      <td>279.000000</td>\n",
       "      <td>85.000000</td>\n",
       "      <td>50.000000</td>\n",
       "      <td>50.000000</td>\n",
       "      <td>475.000000</td>\n",
       "    </tr>\n",
       "  </tbody>\n",
       "</table>\n",
       "</div>"
      ],
      "text/plain": [
       "                Age    Age1stCode     YearsCode  YearsCodePro   WorkWeekHrs\n",
       "count  45446.000000  57473.000000  56784.000000  44133.000000  41151.000000\n",
       "mean      30.834111     15.476572     12.782051      8.869667     40.782174\n",
       "std        9.585392      5.114081      9.490657      7.759961     17.816383\n",
       "min        1.000000      5.000000      1.000000      1.000000      1.000000\n",
       "25%       24.000000     12.000000      6.000000      3.000000     40.000000\n",
       "50%       29.000000     15.000000     10.000000      6.000000     40.000000\n",
       "75%       35.000000     18.000000     17.000000     12.000000     44.000000\n",
       "max      279.000000     85.000000     50.000000     50.000000    475.000000"
      ]
     },
     "execution_count": 21,
     "metadata": {},
     "output_type": "execute_result"
    }
   ],
   "source": [
    "survey_df.describe()"
   ]
  },
  {
   "cell_type": "markdown",
   "id": "acc73c1d",
   "metadata": {},
   "source": [
    "* **There  seems to be a problem with the age column, as the minimum value is 1 and the maximum is 279. This is a common issue with surveys: responses my contain invalid values due to accidental or intentional errors while responding. A simple fix would be to ignore the rows where the age is higher than 100 years or lower than 10 years as invalid survey responses. We can do this using the `.drop` method, [See Here](https://www.geeksforgeeks.org/drop-rows-from-the-dataframe-based-on-certain-condition-applied-on-a-column/).**"
   ]
  },
  {
   "cell_type": "code",
   "execution_count": 22,
   "id": "20d3113c",
   "metadata": {},
   "outputs": [],
   "source": [
    "survey_df.drop(survey_df[survey_df.Age < 10].index, inplace=True)\n",
    "survey_df.drop(survey_df[survey_df.Age > 100].index, inplace=True)"
   ]
  },
  {
   "cell_type": "markdown",
   "id": "cf25d498",
   "metadata": {},
   "source": [
    "* **The same holds for `WorkWeekHrs`. Let's ignore entries where th value for the column is higher than 140 hours. (~20 Hrs per day).**"
   ]
  },
  {
   "cell_type": "code",
   "execution_count": 23,
   "id": "9751185d",
   "metadata": {},
   "outputs": [],
   "source": [
    "survey_df.drop(survey_df[survey_df.WorkWeekHrs > 140].index, inplace=True)"
   ]
  },
  {
   "cell_type": "markdown",
   "id": "24ce0633",
   "metadata": {},
   "source": [
    "* **The gender column also allows for picking multiple operations. We'll remove values containing more than one option to simplify our analysis.**"
   ]
  },
  {
   "cell_type": "code",
   "execution_count": 24,
   "id": "24e42abc",
   "metadata": {},
   "outputs": [
    {
     "data": {
      "text/plain": [
       "Man                                                            45895\n",
       "Woman                                                           3835\n",
       "Non-binary, genderqueer, or gender non-conforming                385\n",
       "Man;Non-binary, genderqueer, or gender non-conforming            121\n",
       "Woman;Non-binary, genderqueer, or gender non-conforming           92\n",
       "Woman;Man                                                         73\n",
       "Woman;Man;Non-binary, genderqueer, or gender non-conforming       25\n",
       "Name: Gender, dtype: int64"
      ]
     },
     "execution_count": 24,
     "metadata": {},
     "output_type": "execute_result"
    }
   ],
   "source": [
    "survey_df['Gender'].value_counts()"
   ]
  },
  {
   "cell_type": "code",
   "execution_count": 25,
   "id": "0d78ccfd",
   "metadata": {},
   "outputs": [],
   "source": [
    "import numpy as np"
   ]
  },
  {
   "cell_type": "code",
   "execution_count": 26,
   "id": "99d7ad07",
   "metadata": {},
   "outputs": [],
   "source": [
    "survey_df.where(~(survey_df.Gender.str.contains(';', na=False)), np.nan, inplace=True)"
   ]
  },
  {
   "cell_type": "markdown",
   "id": "6116ba74",
   "metadata": {},
   "source": [
    "* **We've now cleaned up and prepared the dataset for analysis. Let's take a look at a sample of rows from the data frame.**"
   ]
  },
  {
   "cell_type": "code",
   "execution_count": 27,
   "id": "355ffb05",
   "metadata": {},
   "outputs": [
    {
     "data": {
      "text/html": [
       "<div>\n",
       "<style scoped>\n",
       "    .dataframe tbody tr th:only-of-type {\n",
       "        vertical-align: middle;\n",
       "    }\n",
       "\n",
       "    .dataframe tbody tr th {\n",
       "        vertical-align: top;\n",
       "    }\n",
       "\n",
       "    .dataframe thead th {\n",
       "        text-align: right;\n",
       "    }\n",
       "</style>\n",
       "<table border=\"1\" class=\"dataframe\">\n",
       "  <thead>\n",
       "    <tr style=\"text-align: right;\">\n",
       "      <th></th>\n",
       "      <th>Country</th>\n",
       "      <th>Age</th>\n",
       "      <th>Gender</th>\n",
       "      <th>EdLevel</th>\n",
       "      <th>UndergradMajor</th>\n",
       "      <th>Hobbyist</th>\n",
       "      <th>Age1stCode</th>\n",
       "      <th>YearsCode</th>\n",
       "      <th>YearsCodePro</th>\n",
       "      <th>LanguageWorkedWith</th>\n",
       "      <th>LanguageDesireNextYear</th>\n",
       "      <th>NEWLearn</th>\n",
       "      <th>NEWStuck</th>\n",
       "      <th>Employment</th>\n",
       "      <th>DevType</th>\n",
       "      <th>WorkWeekHrs</th>\n",
       "      <th>JobSat</th>\n",
       "      <th>JobFactors</th>\n",
       "      <th>NEWOvertime</th>\n",
       "      <th>NEWEdImpt</th>\n",
       "    </tr>\n",
       "  </thead>\n",
       "  <tbody>\n",
       "    <tr>\n",
       "      <th>14317</th>\n",
       "      <td>India</td>\n",
       "      <td>29.0</td>\n",
       "      <td>Man</td>\n",
       "      <td>Master’s degree (M.A., M.S., M.Eng., MBA, etc.)</td>\n",
       "      <td>Computer science, computer engineering, or sof...</td>\n",
       "      <td>Yes</td>\n",
       "      <td>17.0</td>\n",
       "      <td>14.0</td>\n",
       "      <td>6.0</td>\n",
       "      <td>C;C++;Python</td>\n",
       "      <td>C;C++;Python;Rust</td>\n",
       "      <td>Once a decade</td>\n",
       "      <td>Go for a walk or other physical activity;Do ot...</td>\n",
       "      <td>Employed full-time</td>\n",
       "      <td>Academic researcher;Developer, mobile</td>\n",
       "      <td>50.0</td>\n",
       "      <td>Slightly dissatisfied</td>\n",
       "      <td>Specific department or team I’d be working on;...</td>\n",
       "      <td>Often: 1-2 days per week or more</td>\n",
       "      <td>Critically important</td>\n",
       "    </tr>\n",
       "    <tr>\n",
       "      <th>57149</th>\n",
       "      <td>Spain</td>\n",
       "      <td>23.0</td>\n",
       "      <td>Man</td>\n",
       "      <td>I never completed any formal education</td>\n",
       "      <td>NaN</td>\n",
       "      <td>Yes</td>\n",
       "      <td>12.0</td>\n",
       "      <td>NaN</td>\n",
       "      <td>NaN</td>\n",
       "      <td>C#;C++;Dart;HTML/CSS;JavaScript;PHP;Python</td>\n",
       "      <td>C#;Java;Python</td>\n",
       "      <td>Once a year</td>\n",
       "      <td>Meditate;Play games;Visit Stack Overflow;Panic...</td>\n",
       "      <td>Student</td>\n",
       "      <td>NaN</td>\n",
       "      <td>NaN</td>\n",
       "      <td>NaN</td>\n",
       "      <td>Diversity of the company or organization;Flex ...</td>\n",
       "      <td>NaN</td>\n",
       "      <td>NaN</td>\n",
       "    </tr>\n",
       "    <tr>\n",
       "      <th>51681</th>\n",
       "      <td>Spain</td>\n",
       "      <td>24.0</td>\n",
       "      <td>Man</td>\n",
       "      <td>Bachelor’s degree (B.A., B.S., B.Eng., etc.)</td>\n",
       "      <td>Another engineering discipline (such as civil,...</td>\n",
       "      <td>Yes</td>\n",
       "      <td>23.0</td>\n",
       "      <td>2.0</td>\n",
       "      <td>1.0</td>\n",
       "      <td>C++;Go;JavaScript;PHP;Rust</td>\n",
       "      <td>C++;Go;Rust</td>\n",
       "      <td>Every few months</td>\n",
       "      <td>Call a coworker or friend;Visit Stack Overflow...</td>\n",
       "      <td>Employed full-time</td>\n",
       "      <td>Developer, back-end</td>\n",
       "      <td>45.0</td>\n",
       "      <td>Slightly dissatisfied</td>\n",
       "      <td>Languages, frameworks, and other technologies ...</td>\n",
       "      <td>Often: 1-2 days per week or more</td>\n",
       "      <td>Somewhat important</td>\n",
       "    </tr>\n",
       "    <tr>\n",
       "      <th>23233</th>\n",
       "      <td>China</td>\n",
       "      <td>NaN</td>\n",
       "      <td>NaN</td>\n",
       "      <td>Bachelor’s degree (B.A., B.S., B.Eng., etc.)</td>\n",
       "      <td>Web development or web design</td>\n",
       "      <td>No</td>\n",
       "      <td>19.0</td>\n",
       "      <td>3.0</td>\n",
       "      <td>NaN</td>\n",
       "      <td>C#;Go;Rust;TypeScript</td>\n",
       "      <td>C#;Rust;TypeScript</td>\n",
       "      <td>Every few months</td>\n",
       "      <td>Play games;Visit Stack Overflow</td>\n",
       "      <td>Not employed, but looking for work</td>\n",
       "      <td>Developer, full-stack</td>\n",
       "      <td>NaN</td>\n",
       "      <td>NaN</td>\n",
       "      <td>Remote work options</td>\n",
       "      <td>NaN</td>\n",
       "      <td>Fairly important</td>\n",
       "    </tr>\n",
       "    <tr>\n",
       "      <th>40024</th>\n",
       "      <td>Canada</td>\n",
       "      <td>NaN</td>\n",
       "      <td>NaN</td>\n",
       "      <td>Bachelor’s degree (B.A., B.S., B.Eng., etc.)</td>\n",
       "      <td>Computer science, computer engineering, or sof...</td>\n",
       "      <td>Yes</td>\n",
       "      <td>19.0</td>\n",
       "      <td>7.0</td>\n",
       "      <td>3.0</td>\n",
       "      <td>NaN</td>\n",
       "      <td>NaN</td>\n",
       "      <td>NaN</td>\n",
       "      <td>NaN</td>\n",
       "      <td>Employed full-time</td>\n",
       "      <td>Developer, back-end;Developer, front-end;Devel...</td>\n",
       "      <td>50.0</td>\n",
       "      <td>Slightly satisfied</td>\n",
       "      <td>NaN</td>\n",
       "      <td>Often: 1-2 days per week or more</td>\n",
       "      <td>Fairly important</td>\n",
       "    </tr>\n",
       "    <tr>\n",
       "      <th>25833</th>\n",
       "      <td>Egypt</td>\n",
       "      <td>21.0</td>\n",
       "      <td>Man</td>\n",
       "      <td>Some college/university study without earning ...</td>\n",
       "      <td>Computer science, computer engineering, or sof...</td>\n",
       "      <td>Yes</td>\n",
       "      <td>18.0</td>\n",
       "      <td>4.0</td>\n",
       "      <td>NaN</td>\n",
       "      <td>C;Go;HTML/CSS;Python;Rust</td>\n",
       "      <td>Bash/Shell/PowerShell;C;Go;Haskell;Perl;Rust;T...</td>\n",
       "      <td>Every few months</td>\n",
       "      <td>Play games;Visit Stack Overflow;Panic;Watch he...</td>\n",
       "      <td>Student</td>\n",
       "      <td>NaN</td>\n",
       "      <td>NaN</td>\n",
       "      <td>NaN</td>\n",
       "      <td>Office environment or company culture;Opportun...</td>\n",
       "      <td>NaN</td>\n",
       "      <td>NaN</td>\n",
       "    </tr>\n",
       "    <tr>\n",
       "      <th>13443</th>\n",
       "      <td>India</td>\n",
       "      <td>31.0</td>\n",
       "      <td>Man</td>\n",
       "      <td>NaN</td>\n",
       "      <td>Computer science, computer engineering, or sof...</td>\n",
       "      <td>No</td>\n",
       "      <td>18.0</td>\n",
       "      <td>6.0</td>\n",
       "      <td>3.0</td>\n",
       "      <td>C++;HTML/CSS;Java</td>\n",
       "      <td>HTML/CSS;Java;JavaScript;Julia;Python;Ruby;SQL</td>\n",
       "      <td>Once every few years</td>\n",
       "      <td>Call a coworker or friend;Visit Stack Overflow...</td>\n",
       "      <td>Employed full-time</td>\n",
       "      <td>Developer, QA or test</td>\n",
       "      <td>40.0</td>\n",
       "      <td>Neither satisfied nor dissatisfied</td>\n",
       "      <td>Financial performance or funding status of the...</td>\n",
       "      <td>Never</td>\n",
       "      <td>Very important</td>\n",
       "    </tr>\n",
       "    <tr>\n",
       "      <th>2271</th>\n",
       "      <td>Brazil</td>\n",
       "      <td>30.0</td>\n",
       "      <td>Man</td>\n",
       "      <td>Master’s degree (M.A., M.S., M.Eng., MBA, etc.)</td>\n",
       "      <td>Another engineering discipline (such as civil,...</td>\n",
       "      <td>No</td>\n",
       "      <td>12.0</td>\n",
       "      <td>11.0</td>\n",
       "      <td>6.0</td>\n",
       "      <td>Bash/Shell/PowerShell;C;Python;Ruby</td>\n",
       "      <td>Bash/Shell/PowerShell;C;C++;Python;Ruby</td>\n",
       "      <td>Once every few years</td>\n",
       "      <td>Call a coworker or friend;Visit Stack Overflow...</td>\n",
       "      <td>Employed full-time</td>\n",
       "      <td>Academic researcher;Developer, embedded applic...</td>\n",
       "      <td>40.0</td>\n",
       "      <td>Slightly dissatisfied</td>\n",
       "      <td>Languages, frameworks, and other technologies ...</td>\n",
       "      <td>Rarely: 1-2 days per year or less</td>\n",
       "      <td>Very important</td>\n",
       "    </tr>\n",
       "    <tr>\n",
       "      <th>2594</th>\n",
       "      <td>Pakistan</td>\n",
       "      <td>27.0</td>\n",
       "      <td>Man</td>\n",
       "      <td>Bachelor’s degree (B.A., B.S., B.Eng., etc.)</td>\n",
       "      <td>Computer science, computer engineering, or sof...</td>\n",
       "      <td>Yes</td>\n",
       "      <td>18.0</td>\n",
       "      <td>9.0</td>\n",
       "      <td>2.0</td>\n",
       "      <td>Bash/Shell/PowerShell;HTML/CSS;JavaScript;Ruby...</td>\n",
       "      <td>C++;Go;JavaScript;Python;Ruby;SQL</td>\n",
       "      <td>Every few months</td>\n",
       "      <td>Call a coworker or friend;Visit Stack Overflow...</td>\n",
       "      <td>Employed full-time</td>\n",
       "      <td>Designer;Developer, back-end;Developer, front-...</td>\n",
       "      <td>40.0</td>\n",
       "      <td>Slightly dissatisfied</td>\n",
       "      <td>Office environment or company culture;Opportun...</td>\n",
       "      <td>Sometimes: 1-2 days per month but less than we...</td>\n",
       "      <td>Fairly important</td>\n",
       "    </tr>\n",
       "    <tr>\n",
       "      <th>35102</th>\n",
       "      <td>United States</td>\n",
       "      <td>42.0</td>\n",
       "      <td>Man</td>\n",
       "      <td>Other doctoral degree (Ph.D., Ed.D., etc.)</td>\n",
       "      <td>A natural science (such as biology, chemistry,...</td>\n",
       "      <td>Yes</td>\n",
       "      <td>8.0</td>\n",
       "      <td>30.0</td>\n",
       "      <td>20.0</td>\n",
       "      <td>Python</td>\n",
       "      <td>Python</td>\n",
       "      <td>Once a year</td>\n",
       "      <td>Call a coworker or friend;Visit Stack Overflow...</td>\n",
       "      <td>Employed full-time</td>\n",
       "      <td>Data scientist or machine learning specialist</td>\n",
       "      <td>40.0</td>\n",
       "      <td>Very satisfied</td>\n",
       "      <td>Remote work options;Opportunities for professi...</td>\n",
       "      <td>Sometimes: 1-2 days per month but less than we...</td>\n",
       "      <td>Very important</td>\n",
       "    </tr>\n",
       "    <tr>\n",
       "      <th>28282</th>\n",
       "      <td>United Kingdom</td>\n",
       "      <td>43.0</td>\n",
       "      <td>Man</td>\n",
       "      <td>Bachelor’s degree (B.A., B.S., B.Eng., etc.)</td>\n",
       "      <td>Computer science, computer engineering, or sof...</td>\n",
       "      <td>Yes</td>\n",
       "      <td>12.0</td>\n",
       "      <td>26.0</td>\n",
       "      <td>19.0</td>\n",
       "      <td>Bash/Shell/PowerShell;HTML/CSS;Java;JavaScript...</td>\n",
       "      <td>Rust</td>\n",
       "      <td>Once a year</td>\n",
       "      <td>Call a coworker or friend;Visit Stack Overflow...</td>\n",
       "      <td>Employed full-time</td>\n",
       "      <td>Database administrator;Developer, back-end;Dev...</td>\n",
       "      <td>38.0</td>\n",
       "      <td>Neither satisfied nor dissatisfied</td>\n",
       "      <td>Flex time or a flexible schedule;Opportunities...</td>\n",
       "      <td>Rarely: 1-2 days per year or less</td>\n",
       "      <td>Somewhat important</td>\n",
       "    </tr>\n",
       "    <tr>\n",
       "      <th>4531</th>\n",
       "      <td>United States</td>\n",
       "      <td>48.0</td>\n",
       "      <td>Man</td>\n",
       "      <td>Bachelor’s degree (B.A., B.S., B.Eng., etc.)</td>\n",
       "      <td>A humanities discipline (such as literature, h...</td>\n",
       "      <td>No</td>\n",
       "      <td>9.0</td>\n",
       "      <td>39.0</td>\n",
       "      <td>25.0</td>\n",
       "      <td>Bash/Shell/PowerShell;C#;JavaScript;Perl;PHP;P...</td>\n",
       "      <td>Bash/Shell/PowerShell;C#;JavaScript;Perl;Python</td>\n",
       "      <td>Once every few years</td>\n",
       "      <td>Visit Stack Overflow;Go for a walk or other ph...</td>\n",
       "      <td>Employed full-time</td>\n",
       "      <td>DevOps specialist;System administrator</td>\n",
       "      <td>40.0</td>\n",
       "      <td>Very satisfied</td>\n",
       "      <td>Industry that I’d be working in;Languages, fra...</td>\n",
       "      <td>Occasionally: 1-2 days per quarter but less th...</td>\n",
       "      <td>Somewhat important</td>\n",
       "    </tr>\n",
       "    <tr>\n",
       "      <th>63489</th>\n",
       "      <td>United States</td>\n",
       "      <td>NaN</td>\n",
       "      <td>NaN</td>\n",
       "      <td>NaN</td>\n",
       "      <td>Web development or web design</td>\n",
       "      <td>No</td>\n",
       "      <td>17.0</td>\n",
       "      <td>8.0</td>\n",
       "      <td>NaN</td>\n",
       "      <td>Bash/Shell/PowerShell;Go;HTML/CSS;Java;JavaScr...</td>\n",
       "      <td>Rust;Scala</td>\n",
       "      <td>Every few months</td>\n",
       "      <td>Call a coworker or friend;Visit Stack Overflow...</td>\n",
       "      <td>Employed part-time</td>\n",
       "      <td>Developer, back-end</td>\n",
       "      <td>NaN</td>\n",
       "      <td>NaN</td>\n",
       "      <td>Diversity of the company or organization;Speci...</td>\n",
       "      <td>NaN</td>\n",
       "      <td>NaN</td>\n",
       "    </tr>\n",
       "    <tr>\n",
       "      <th>13934</th>\n",
       "      <td>India</td>\n",
       "      <td>NaN</td>\n",
       "      <td>Man</td>\n",
       "      <td>Bachelor’s degree (B.A., B.S., B.Eng., etc.)</td>\n",
       "      <td>Another engineering discipline (such as civil,...</td>\n",
       "      <td>No</td>\n",
       "      <td>17.0</td>\n",
       "      <td>2.0</td>\n",
       "      <td>NaN</td>\n",
       "      <td>C;C++;HTML/CSS;Java;JavaScript;Python;SQL</td>\n",
       "      <td>Bash/Shell/PowerShell;HTML/CSS;Java;JavaScript...</td>\n",
       "      <td>Every few months</td>\n",
       "      <td>Visit Stack Overflow;Watch help / tutorial videos</td>\n",
       "      <td>Employed full-time</td>\n",
       "      <td>Engineer, site reliability;System administrator</td>\n",
       "      <td>40.0</td>\n",
       "      <td>Slightly dissatisfied</td>\n",
       "      <td>Flex time or a flexible schedule;Languages, fr...</td>\n",
       "      <td>Occasionally: 1-2 days per quarter but less th...</td>\n",
       "      <td>Fairly important</td>\n",
       "    </tr>\n",
       "    <tr>\n",
       "      <th>396</th>\n",
       "      <td>Germany</td>\n",
       "      <td>53.0</td>\n",
       "      <td>Woman</td>\n",
       "      <td>NaN</td>\n",
       "      <td>Computer science, computer engineering, or sof...</td>\n",
       "      <td>Yes</td>\n",
       "      <td>14.0</td>\n",
       "      <td>39.0</td>\n",
       "      <td>NaN</td>\n",
       "      <td>JavaScript</td>\n",
       "      <td>JavaScript</td>\n",
       "      <td>Once every few years</td>\n",
       "      <td>Visit Stack Overflow;Go for a walk or other ph...</td>\n",
       "      <td>Retired</td>\n",
       "      <td>NaN</td>\n",
       "      <td>NaN</td>\n",
       "      <td>NaN</td>\n",
       "      <td>NaN</td>\n",
       "      <td>NaN</td>\n",
       "      <td>Very important</td>\n",
       "    </tr>\n",
       "  </tbody>\n",
       "</table>\n",
       "</div>"
      ],
      "text/plain": [
       "              Country   Age Gender  \\\n",
       "14317           India  29.0    Man   \n",
       "57149           Spain  23.0    Man   \n",
       "51681           Spain  24.0    Man   \n",
       "23233           China   NaN    NaN   \n",
       "40024          Canada   NaN    NaN   \n",
       "25833           Egypt  21.0    Man   \n",
       "13443           India  31.0    Man   \n",
       "2271           Brazil  30.0    Man   \n",
       "2594         Pakistan  27.0    Man   \n",
       "35102   United States  42.0    Man   \n",
       "28282  United Kingdom  43.0    Man   \n",
       "4531    United States  48.0    Man   \n",
       "63489   United States   NaN    NaN   \n",
       "13934           India   NaN    Man   \n",
       "396           Germany  53.0  Woman   \n",
       "\n",
       "                                                 EdLevel  \\\n",
       "14317    Master’s degree (M.A., M.S., M.Eng., MBA, etc.)   \n",
       "57149             I never completed any formal education   \n",
       "51681       Bachelor’s degree (B.A., B.S., B.Eng., etc.)   \n",
       "23233       Bachelor’s degree (B.A., B.S., B.Eng., etc.)   \n",
       "40024       Bachelor’s degree (B.A., B.S., B.Eng., etc.)   \n",
       "25833  Some college/university study without earning ...   \n",
       "13443                                                NaN   \n",
       "2271     Master’s degree (M.A., M.S., M.Eng., MBA, etc.)   \n",
       "2594        Bachelor’s degree (B.A., B.S., B.Eng., etc.)   \n",
       "35102         Other doctoral degree (Ph.D., Ed.D., etc.)   \n",
       "28282       Bachelor’s degree (B.A., B.S., B.Eng., etc.)   \n",
       "4531        Bachelor’s degree (B.A., B.S., B.Eng., etc.)   \n",
       "63489                                                NaN   \n",
       "13934       Bachelor’s degree (B.A., B.S., B.Eng., etc.)   \n",
       "396                                                  NaN   \n",
       "\n",
       "                                          UndergradMajor Hobbyist  Age1stCode  \\\n",
       "14317  Computer science, computer engineering, or sof...      Yes        17.0   \n",
       "57149                                                NaN      Yes        12.0   \n",
       "51681  Another engineering discipline (such as civil,...      Yes        23.0   \n",
       "23233                      Web development or web design       No        19.0   \n",
       "40024  Computer science, computer engineering, or sof...      Yes        19.0   \n",
       "25833  Computer science, computer engineering, or sof...      Yes        18.0   \n",
       "13443  Computer science, computer engineering, or sof...       No        18.0   \n",
       "2271   Another engineering discipline (such as civil,...       No        12.0   \n",
       "2594   Computer science, computer engineering, or sof...      Yes        18.0   \n",
       "35102  A natural science (such as biology, chemistry,...      Yes         8.0   \n",
       "28282  Computer science, computer engineering, or sof...      Yes        12.0   \n",
       "4531   A humanities discipline (such as literature, h...       No         9.0   \n",
       "63489                      Web development or web design       No        17.0   \n",
       "13934  Another engineering discipline (such as civil,...       No        17.0   \n",
       "396    Computer science, computer engineering, or sof...      Yes        14.0   \n",
       "\n",
       "       YearsCode  YearsCodePro  \\\n",
       "14317       14.0           6.0   \n",
       "57149        NaN           NaN   \n",
       "51681        2.0           1.0   \n",
       "23233        3.0           NaN   \n",
       "40024        7.0           3.0   \n",
       "25833        4.0           NaN   \n",
       "13443        6.0           3.0   \n",
       "2271        11.0           6.0   \n",
       "2594         9.0           2.0   \n",
       "35102       30.0          20.0   \n",
       "28282       26.0          19.0   \n",
       "4531        39.0          25.0   \n",
       "63489        8.0           NaN   \n",
       "13934        2.0           NaN   \n",
       "396         39.0           NaN   \n",
       "\n",
       "                                      LanguageWorkedWith  \\\n",
       "14317                                       C;C++;Python   \n",
       "57149         C#;C++;Dart;HTML/CSS;JavaScript;PHP;Python   \n",
       "51681                         C++;Go;JavaScript;PHP;Rust   \n",
       "23233                              C#;Go;Rust;TypeScript   \n",
       "40024                                                NaN   \n",
       "25833                          C;Go;HTML/CSS;Python;Rust   \n",
       "13443                                  C++;HTML/CSS;Java   \n",
       "2271                 Bash/Shell/PowerShell;C;Python;Ruby   \n",
       "2594   Bash/Shell/PowerShell;HTML/CSS;JavaScript;Ruby...   \n",
       "35102                                             Python   \n",
       "28282  Bash/Shell/PowerShell;HTML/CSS;Java;JavaScript...   \n",
       "4531   Bash/Shell/PowerShell;C#;JavaScript;Perl;PHP;P...   \n",
       "63489  Bash/Shell/PowerShell;Go;HTML/CSS;Java;JavaScr...   \n",
       "13934          C;C++;HTML/CSS;Java;JavaScript;Python;SQL   \n",
       "396                                           JavaScript   \n",
       "\n",
       "                                  LanguageDesireNextYear  \\\n",
       "14317                                  C;C++;Python;Rust   \n",
       "57149                                     C#;Java;Python   \n",
       "51681                                        C++;Go;Rust   \n",
       "23233                                 C#;Rust;TypeScript   \n",
       "40024                                                NaN   \n",
       "25833  Bash/Shell/PowerShell;C;Go;Haskell;Perl;Rust;T...   \n",
       "13443     HTML/CSS;Java;JavaScript;Julia;Python;Ruby;SQL   \n",
       "2271             Bash/Shell/PowerShell;C;C++;Python;Ruby   \n",
       "2594                   C++;Go;JavaScript;Python;Ruby;SQL   \n",
       "35102                                             Python   \n",
       "28282                                               Rust   \n",
       "4531     Bash/Shell/PowerShell;C#;JavaScript;Perl;Python   \n",
       "63489                                         Rust;Scala   \n",
       "13934  Bash/Shell/PowerShell;HTML/CSS;Java;JavaScript...   \n",
       "396                                           JavaScript   \n",
       "\n",
       "                   NEWLearn  \\\n",
       "14317         Once a decade   \n",
       "57149           Once a year   \n",
       "51681      Every few months   \n",
       "23233      Every few months   \n",
       "40024                   NaN   \n",
       "25833      Every few months   \n",
       "13443  Once every few years   \n",
       "2271   Once every few years   \n",
       "2594       Every few months   \n",
       "35102           Once a year   \n",
       "28282           Once a year   \n",
       "4531   Once every few years   \n",
       "63489      Every few months   \n",
       "13934      Every few months   \n",
       "396    Once every few years   \n",
       "\n",
       "                                                NEWStuck  \\\n",
       "14317  Go for a walk or other physical activity;Do ot...   \n",
       "57149  Meditate;Play games;Visit Stack Overflow;Panic...   \n",
       "51681  Call a coworker or friend;Visit Stack Overflow...   \n",
       "23233                    Play games;Visit Stack Overflow   \n",
       "40024                                                NaN   \n",
       "25833  Play games;Visit Stack Overflow;Panic;Watch he...   \n",
       "13443  Call a coworker or friend;Visit Stack Overflow...   \n",
       "2271   Call a coworker or friend;Visit Stack Overflow...   \n",
       "2594   Call a coworker or friend;Visit Stack Overflow...   \n",
       "35102  Call a coworker or friend;Visit Stack Overflow...   \n",
       "28282  Call a coworker or friend;Visit Stack Overflow...   \n",
       "4531   Visit Stack Overflow;Go for a walk or other ph...   \n",
       "63489  Call a coworker or friend;Visit Stack Overflow...   \n",
       "13934  Visit Stack Overflow;Watch help / tutorial videos   \n",
       "396    Visit Stack Overflow;Go for a walk or other ph...   \n",
       "\n",
       "                               Employment  \\\n",
       "14317                  Employed full-time   \n",
       "57149                             Student   \n",
       "51681                  Employed full-time   \n",
       "23233  Not employed, but looking for work   \n",
       "40024                  Employed full-time   \n",
       "25833                             Student   \n",
       "13443                  Employed full-time   \n",
       "2271                   Employed full-time   \n",
       "2594                   Employed full-time   \n",
       "35102                  Employed full-time   \n",
       "28282                  Employed full-time   \n",
       "4531                   Employed full-time   \n",
       "63489                  Employed part-time   \n",
       "13934                  Employed full-time   \n",
       "396                               Retired   \n",
       "\n",
       "                                                 DevType  WorkWeekHrs  \\\n",
       "14317              Academic researcher;Developer, mobile         50.0   \n",
       "57149                                                NaN          NaN   \n",
       "51681                                Developer, back-end         45.0   \n",
       "23233                              Developer, full-stack          NaN   \n",
       "40024  Developer, back-end;Developer, front-end;Devel...         50.0   \n",
       "25833                                                NaN          NaN   \n",
       "13443                              Developer, QA or test         40.0   \n",
       "2271   Academic researcher;Developer, embedded applic...         40.0   \n",
       "2594   Designer;Developer, back-end;Developer, front-...         40.0   \n",
       "35102      Data scientist or machine learning specialist         40.0   \n",
       "28282  Database administrator;Developer, back-end;Dev...         38.0   \n",
       "4531              DevOps specialist;System administrator         40.0   \n",
       "63489                                Developer, back-end          NaN   \n",
       "13934    Engineer, site reliability;System administrator         40.0   \n",
       "396                                                  NaN          NaN   \n",
       "\n",
       "                                   JobSat  \\\n",
       "14317               Slightly dissatisfied   \n",
       "57149                                 NaN   \n",
       "51681               Slightly dissatisfied   \n",
       "23233                                 NaN   \n",
       "40024                  Slightly satisfied   \n",
       "25833                                 NaN   \n",
       "13443  Neither satisfied nor dissatisfied   \n",
       "2271                Slightly dissatisfied   \n",
       "2594                Slightly dissatisfied   \n",
       "35102                      Very satisfied   \n",
       "28282  Neither satisfied nor dissatisfied   \n",
       "4531                       Very satisfied   \n",
       "63489                                 NaN   \n",
       "13934               Slightly dissatisfied   \n",
       "396                                   NaN   \n",
       "\n",
       "                                              JobFactors  \\\n",
       "14317  Specific department or team I’d be working on;...   \n",
       "57149  Diversity of the company or organization;Flex ...   \n",
       "51681  Languages, frameworks, and other technologies ...   \n",
       "23233                                Remote work options   \n",
       "40024                                                NaN   \n",
       "25833  Office environment or company culture;Opportun...   \n",
       "13443  Financial performance or funding status of the...   \n",
       "2271   Languages, frameworks, and other technologies ...   \n",
       "2594   Office environment or company culture;Opportun...   \n",
       "35102  Remote work options;Opportunities for professi...   \n",
       "28282  Flex time or a flexible schedule;Opportunities...   \n",
       "4531   Industry that I’d be working in;Languages, fra...   \n",
       "63489  Diversity of the company or organization;Speci...   \n",
       "13934  Flex time or a flexible schedule;Languages, fr...   \n",
       "396                                                  NaN   \n",
       "\n",
       "                                             NEWOvertime             NEWEdImpt  \n",
       "14317                   Often: 1-2 days per week or more  Critically important  \n",
       "57149                                                NaN                   NaN  \n",
       "51681                   Often: 1-2 days per week or more    Somewhat important  \n",
       "23233                                                NaN      Fairly important  \n",
       "40024                   Often: 1-2 days per week or more      Fairly important  \n",
       "25833                                                NaN                   NaN  \n",
       "13443                                              Never        Very important  \n",
       "2271                   Rarely: 1-2 days per year or less        Very important  \n",
       "2594   Sometimes: 1-2 days per month but less than we...      Fairly important  \n",
       "35102  Sometimes: 1-2 days per month but less than we...        Very important  \n",
       "28282                  Rarely: 1-2 days per year or less    Somewhat important  \n",
       "4531   Occasionally: 1-2 days per quarter but less th...    Somewhat important  \n",
       "63489                                                NaN                   NaN  \n",
       "13934  Occasionally: 1-2 days per quarter but less th...      Fairly important  \n",
       "396                                                  NaN        Very important  "
      ]
     },
     "execution_count": 27,
     "metadata": {},
     "output_type": "execute_result"
    }
   ],
   "source": [
    "survey_df.sample(15)"
   ]
  },
  {
   "cell_type": "markdown",
   "id": "bd986f73",
   "metadata": {},
   "source": [
    "* **Let's save and commit our work before continuing.**"
   ]
  },
  {
   "cell_type": "markdown",
   "id": "3373d8dd",
   "metadata": {},
   "source": [
    "## Exploratory Analysis and Visualization:\n",
    "Before we ask questions about the survey the survey responses, it would help to understand the respondents' demographics,  i.e., country, age, gender, education level, employment level, etc. It's essential to explore these variables to understand how representative the survey is of the worldwide programming community. A survey of this scale generally tend to have some selection bias: [See Here](https://en.wikipedia.org/wiki/Selection_bias).\n",
    "\n",
    "Let's begin by importing `matplotlib.pyplot` and `seaborn`."
   ]
  },
  {
   "cell_type": "code",
   "execution_count": 28,
   "id": "7962caae",
   "metadata": {},
   "outputs": [],
   "source": [
    "import seaborn as sns \n",
    "import matplotlib\n",
    "import matplotlib.pyplot as plt\n",
    "%matplotlib inline\n",
    "\n",
    "sns.set_style('darkgrid')\n",
    "matplotlib.rcParams['font.size'] = 14\n",
    "matplotlib.rcParams['figure.figsize'] = (9,5)\n",
    "matplotlib.rcParams['figure.facecolor'] = '#F0F8FF'"
   ]
  },
  {
   "cell_type": "markdown",
   "id": "f768db22",
   "metadata": {},
   "source": [
    "## Country:\n",
    "Let's look at the number of countries from which there are responses in the survey and plot the ten countries with the highest number of responses."
   ]
  },
  {
   "cell_type": "code",
   "execution_count": 29,
   "id": "07b429e3",
   "metadata": {},
   "outputs": [
    {
     "data": {
      "text/plain": [
       "'Where do you live?'"
      ]
     },
     "execution_count": 29,
     "metadata": {},
     "output_type": "execute_result"
    }
   ],
   "source": [
    "schema.Country"
   ]
  },
  {
   "cell_type": "code",
   "execution_count": 30,
   "id": "7cf802b9",
   "metadata": {},
   "outputs": [
    {
     "data": {
      "text/plain": [
       "183"
      ]
     },
     "execution_count": 30,
     "metadata": {},
     "output_type": "execute_result"
    }
   ],
   "source": [
    "survey_df.Country.nunique()"
   ]
  },
  {
   "cell_type": "markdown",
   "id": "e092c9eb",
   "metadata": {},
   "source": [
    "* **We can  identify the countries with the highest number of respondents using the `value_counts` method.**"
   ]
  },
  {
   "cell_type": "code",
   "execution_count": 31,
   "id": "2da1feef",
   "metadata": {},
   "outputs": [
    {
     "data": {
      "text/plain": [
       "United States     12371\n",
       "India              8364\n",
       "United Kingdom     3881\n",
       "Germany            3864\n",
       "Canada             2175\n",
       "France             1884\n",
       "Brazil             1804\n",
       "Netherlands        1332\n",
       "Poland             1259\n",
       "Australia          1199\n",
       "Name: Country, dtype: int64"
      ]
     },
     "execution_count": 31,
     "metadata": {},
     "output_type": "execute_result"
    }
   ],
   "source": [
    "top_countries = survey_df.Country.value_counts().head(10)\n",
    "top_countries"
   ]
  },
  {
   "cell_type": "markdown",
   "id": "54aa7844",
   "metadata": {},
   "source": [
    "* **We can visualize this information using a bar chart.**"
   ]
  },
  {
   "cell_type": "code",
   "execution_count": 32,
   "id": "8b4cf0ec",
   "metadata": {},
   "outputs": [
    {
     "data": {
      "image/png": "[encoded data removed]",
      "text/plain": [
       "<Figure size 864x432 with 1 Axes>"
      ]
     },
     "metadata": {},
     "output_type": "display_data"
    }
   ],
   "source": [
    "plt.figure(figsize=(12,6))\n",
    "plt.xticks(rotation=75)\n",
    "plt.title(schema.Country)\n",
    "sns.barplot(x=top_countries.index, y=top_countries);"
   ]
  },
  {
   "cell_type": "markdown",
   "id": "6edb97d9",
   "metadata": {},
   "source": [
    "* **It appears that a disproportionately high number of respondents are from the US and India, probably because the survey is in the English, and these counties have the highest English-speaking populations. We can already see that the survey may not be representative of the global programming community-especially from non-English speaking counties. Programmers from non-English speaking counties are almost certainly underrepresented.**  \n",
    "\n",
    "**Exercise:-** Try finding the percentage of the responses from English-speaking vs non English-speaking counties. You can use this list of languages spoken in different countries: [Click Here](https://github.com/JovianML/opendatasets/blob/master/data/countries-languages-spoken/countries-languages.csv)"
   ]
  },
  {
   "cell_type": "markdown",
   "id": "2ffce631",
   "metadata": {},
   "source": [
    "## Age:\n",
    "The distribution of respondents' age is another crucial factor to look at. We can use a histogram to visualize it."
   ]
  },
  {
   "cell_type": "code",
   "execution_count": 33,
   "id": "9066082e",
   "metadata": {},
   "outputs": [
    {
     "data": {
      "image/png": "[encoded data removed]",
      "text/plain": [
       "<Figure size 1008x504 with 1 Axes>"
      ]
     },
     "metadata": {},
     "output_type": "display_data"
    }
   ],
   "source": [
    "plt.figure(figsize=(14,7))\n",
    "plt.title(schema.Age)\n",
    "plt.xlabel('Age')\n",
    "plt.ylabel('Number of respondents')\n",
    "\n",
    "plt.hist(survey_df.Age, bins=np.arange(10,80,5), color='green');"
   ]
  },
  {
   "cell_type": "markdown",
   "id": "ad438bb7",
   "metadata": {},
   "source": [
    "* **It appears that a large percentage of respondents are 20-45 years old. It's some what representative of the programming community in general. Many young people have taken up computer science as their field of study or profession in the last 20 years.**  \n",
    "\n",
    "**Exercise:-** You may want to filter out responses by age (or age group) if you'd like to analyze and compare the survey results for different age groups. Create a new column called AgeGroup containing values like `Less than 10 years, 10-18 years, 18-30 years, 30-45 years, 45-60 years`and `Older than 60 years`. then, repeat the analysis in the rest of the notebook for each age group."
   ]
  },
  {
   "cell_type": "markdown",
   "id": "b15a8428",
   "metadata": {},
   "source": [
    "## Gender:\n",
    "Let's look at the distribution of responses for the Gender. It's a well-known fact that women and non-binary genders are underrepresented in the the programming community, so we might expect to see a skewed distribution here."
   ]
  },
  {
   "cell_type": "code",
   "execution_count": 34,
   "id": "843d258d",
   "metadata": {},
   "outputs": [
    {
     "data": {
      "text/plain": [
       "'Which of the following describe you, if any? Please check all that apply. If you prefer not to answer, you may leave this question blank.'"
      ]
     },
     "execution_count": 34,
     "metadata": {},
     "output_type": "execute_result"
    }
   ],
   "source": [
    "schema.Gender"
   ]
  },
  {
   "cell_type": "code",
   "execution_count": 35,
   "id": "dce0c9ea",
   "metadata": {},
   "outputs": [
    {
     "data": {
      "text/plain": [
       "Man                                                  45895\n",
       "Woman                                                 3835\n",
       "Non-binary, genderqueer, or gender non-conforming      385\n",
       "Name: Gender, dtype: int64"
      ]
     },
     "execution_count": 35,
     "metadata": {},
     "output_type": "execute_result"
    }
   ],
   "source": [
    "gender_counts = survey_df.Gender.value_counts()\n",
    "gender_counts"
   ]
  },
  {
   "cell_type": "markdown",
   "id": "2925b080",
   "metadata": {},
   "source": [
    "* **A pie chart would be a grate way to visualize the distribution.**"
   ]
  },
  {
   "cell_type": "code",
   "execution_count": 36,
   "id": "34fae592",
   "metadata": {},
   "outputs": [
    {
     "data": {
      "image/png": "[encoded data removed]",
      "text/plain": [
       "<Figure size 1296x648 with 1 Axes>"
      ]
     },
     "metadata": {},
     "output_type": "display_data"
    }
   ],
   "source": [
    "plt.figure(figsize= (18,9))\n",
    "plt.title(schema.Gender)\n",
    "plt.pie(gender_counts, labels=gender_counts.index, autopct = '%1.1f%%', startangle=180);"
   ]
  },
  {
   "cell_type": "markdown",
   "id": "c19a3017",
   "metadata": {},
   "source": [
    "* **Conclusion:-** Only about 8% of survey respondents who have answered the question identify as women or non-binary. This number is lower than the overall percentage of women & non-binary genders in the programming community- which is estimated to be around 12%.\n",
    "\n",
    "**Exercise:-** It would be interested to compare the survey responses and preferences across genders. Repeat this analysis with these breakdowns. How do the relative education levels differ across genders? How do the salaries vary? you may find this analysis on the Gender Divide in Data Science: [Click Here](https://medium.com/datadriveninvestor/exploratory-data-analysis-eda-understanding-the-gender-divide-in-data-science-roles-9faa5da44f5b)."
   ]
  },
  {
   "cell_type": "markdown",
   "id": "c596578a",
   "metadata": {},
   "source": [
    "## Education Level:\n",
    "Formal education in computer science is often considered an essential requirement for becoming a programmer. However, there are many free resources & tutorials available online to learn programming. Let's compare the education levels of respondents to gain some insight into this. We'll use a horizontal bar plot here."
   ]
  },
  {
   "cell_type": "code",
   "execution_count": 37,
   "id": "93e34c57",
   "metadata": {},
   "outputs": [
    {
     "data": {
      "image/png": "[encoded data removed]",
      "text/plain": [
       "<Figure size 648x360 with 1 Axes>"
      ]
     },
     "metadata": {},
     "output_type": "display_data"
    }
   ],
   "source": [
    "sns.countplot(y=survey_df.EdLevel)\n",
    "plt.xticks(rotation=75);\n",
    "plt.title(schema['EdLevel'])\n",
    "plt.ylabel(None);"
   ]
  },
  {
   "cell_type": "markdown",
   "id": "4eefc8e2",
   "metadata": {},
   "source": [
    "* **Conclusion:-** It appears that well over half of the respondents hold a bachelor's or master's degree, so most programmers seem to have some college education.  \n",
    "    However, it's not clear from this graph alone if they hold a degree in computer science.  \n",
    "    \n",
    "**Exercise:-** The graph currently show the number of respondents for each option. Can you modify it to show the percentage instead? Further, try  comparing the percentage for each degree for men vs women.  \n",
    "\n",
    "* **Let's also plot undergraduate majors, but this time we'll convert the numbers into percentages and sort the values to make it easier to visualize the order.**"
   ]
  },
  {
   "cell_type": "code",
   "execution_count": 38,
   "id": "0d96e8d8",
   "metadata": {},
   "outputs": [
    {
     "data": {
      "text/plain": [
       "'What was your primary field of study?'"
      ]
     },
     "execution_count": 38,
     "metadata": {},
     "output_type": "execute_result"
    }
   ],
   "source": [
    "schema.UndergradMajor"
   ]
  },
  {
   "cell_type": "code",
   "execution_count": 39,
   "id": "127a0f24",
   "metadata": {},
   "outputs": [
    {
     "data": {
      "image/png": "[encoded data removed]",
      "text/plain": [
       "<Figure size 648x360 with 1 Axes>"
      ]
     },
     "metadata": {},
     "output_type": "display_data"
    }
   ],
   "source": [
    "undergrad_pct = survey_df.UndergradMajor.value_counts() * 100 / survey_df.UndergradMajor.count()\n",
    "\n",
    "sns.barplot(x=undergrad_pct, y=undergrad_pct.index)\n",
    "\n",
    "plt.title(schema.UndergradMajor)\n",
    "plt.ylabel(None);\n",
    "plt.xlabel('Percentage');"
   ]
  },
  {
   "cell_type": "markdown",
   "id": "38dffe5d",
   "metadata": {},
   "source": [
    "* **Conclusion:-** It turns out that 40% of programmers holding a college degree have a field of study other than computer science - which is very encouraging. It seems to suggest that while a college education is helpful in general, you do not need to pursue pursue a major in computer science to become a successful programmer.  \n",
    "\n",
    "**Exercise:-** Analyze the `NEWEdImp` column for respondents who hold some college degree vs those who don't. Do you notice any difference in opinion?  \n",
    "\n",
    "## Employment:\n",
    "Freelancing or contract work is a common choice among programmers, so it would be interesting to compare the breakdown between full-time, part-time, and freelance work. Let's visualize the data from the `Employment` column."
   ]
  },
  {
   "cell_type": "code",
   "execution_count": 40,
   "id": "2b2e95b5",
   "metadata": {},
   "outputs": [
    {
     "data": {
      "text/plain": [
       "'Which of the following best describes your current employment status?'"
      ]
     },
     "execution_count": 40,
     "metadata": {},
     "output_type": "execute_result"
    }
   ],
   "source": [
    "schema.Employment"
   ]
  },
  {
   "cell_type": "code",
   "execution_count": 41,
   "id": "36006817",
   "metadata": {},
   "outputs": [
    {
     "data": {
      "image/png": "[encoded data removed]",
      "text/plain": [
       "<Figure size 648x360 with 1 Axes>"
      ]
     },
     "metadata": {},
     "output_type": "display_data"
    }
   ],
   "source": [
    "(survey_df.Employment.value_counts(normalize=True, ascending=True)*100).plot(kind='barh', color='g')\n",
    "plt.title(schema.Employment)\n",
    "plt.xlabel('Percentage');"
   ]
  },
  {
   "cell_type": "markdown",
   "id": "5deb112d",
   "metadata": {},
   "source": [
    "* **Conclusion:-** It appears that close to 10% of respondents are employed part time or as freelancers.  \n",
    "\n",
    "**Exercise:-** Add a new column `EmploymentType` containing the values `Enthusiast` (student or not employed but looking for work), `Professional` (employed full-time, part-time or freelancing), and `Other` (not employed or retired). For each of the graph that follow, show a comparison between `Enthusiast` and `Professional`.  \n",
    "\n",
    "The `DevType` field contains information about the roles held by respondents. Since the question allows multiple answers, the column contains lists of values separated by a semi-colon `(;)`, making it a bit harder to analyze directly."
   ]
  },
  {
   "cell_type": "code",
   "execution_count": 42,
   "id": "d387e9d2",
   "metadata": {},
   "outputs": [
    {
     "data": {
      "text/plain": [
       "'Which of the following describe you? Please select all that apply.'"
      ]
     },
     "execution_count": 42,
     "metadata": {},
     "output_type": "execute_result"
    }
   ],
   "source": [
    "schema.DevType"
   ]
  },
  {
   "cell_type": "code",
   "execution_count": 43,
   "id": "df4fce9b",
   "metadata": {},
   "outputs": [
    {
     "data": {
      "text/plain": [
       "Developer, full-stack                                                                                                                                                           4396\n",
       "Developer, back-end                                                                                                                                                             3056\n",
       "Developer, back-end;Developer, front-end;Developer, full-stack                                                                                                                  2214\n",
       "Developer, back-end;Developer, full-stack                                                                                                                                       1465\n",
       "Developer, front-end                                                                                                                                                            1390\n",
       "                                                                                                                                                                                ... \n",
       "Database administrator;Developer, back-end;Developer, front-end;Developer, full-stack;Developer, QA or test;Senior executive/VP                                                    1\n",
       "Database administrator;Developer, back-end;Developer, front-end;Developer, full-stack;Product manager;Senior executive/VP                                                          1\n",
       "Developer, back-end;Developer, full-stack;Developer, mobile;DevOps specialist;Educator;System administrator                                                                        1\n",
       "Data or business analyst;Database administrator;Developer, back-end;Developer, desktop or enterprise applications;Developer, front-end;Developer, mobile;Engineering manager       1\n",
       "Data or business analyst;Developer, mobile;Senior executive/VP;System administrator                                                                                                1\n",
       "Name: DevType, Length: 8213, dtype: int64"
      ]
     },
     "execution_count": 43,
     "metadata": {},
     "output_type": "execute_result"
    }
   ],
   "source": [
    "survey_df.DevType.value_counts()"
   ]
  },
  {
   "cell_type": "markdown",
   "id": "699d8c8f",
   "metadata": {},
   "source": [
    "* **Let's define a helper function that turns a column containing lists of values (like `survey_df.DevType`) into a data frame with one column for each possible option.**"
   ]
  },
  {
   "cell_type": "code",
   "execution_count": 44,
   "id": "0d0ba607",
   "metadata": {},
   "outputs": [],
   "source": [
    "def split_multicolumn(col_series):\n",
    "    result_df = col_series.to_frame()\n",
    "    options = []\n",
    "    # Iterate over the column\n",
    "    for idx, value in col_series[col_series.notnull()].iteritems():\n",
    "        # Break each value into list of options\n",
    "        for option in value.split(';'):\n",
    "            # Add the option as a column to result\n",
    "            if not option in result_df.columns:\n",
    "                options.append(option)\n",
    "                result_df[option] = False\n",
    "                # Mark the value in the option column as True\n",
    "                result_df.at[idx, option] = True\n",
    "    return result_df[options]"
   ]
  },
  {
   "cell_type": "code",
   "execution_count": 45,
   "id": "bb1062bd",
   "metadata": {},
   "outputs": [],
   "source": [
    "dev_type_df = split_multicolumn(survey_df.DevType)"
   ]
  },
  {
   "cell_type": "code",
   "execution_count": 46,
   "id": "06140faa",
   "metadata": {},
   "outputs": [
    {
     "data": {
      "text/html": [
       "<div>\n",
       "<style scoped>\n",
       "    .dataframe tbody tr th:only-of-type {\n",
       "        vertical-align: middle;\n",
       "    }\n",
       "\n",
       "    .dataframe tbody tr th {\n",
       "        vertical-align: top;\n",
       "    }\n",
       "\n",
       "    .dataframe thead th {\n",
       "        text-align: right;\n",
       "    }\n",
       "</style>\n",
       "<table border=\"1\" class=\"dataframe\">\n",
       "  <thead>\n",
       "    <tr style=\"text-align: right;\">\n",
       "      <th></th>\n",
       "      <th>Developer, desktop or enterprise applications</th>\n",
       "      <th>Developer, full-stack</th>\n",
       "      <th>Developer, mobile</th>\n",
       "      <th>Designer</th>\n",
       "      <th>Developer, front-end</th>\n",
       "      <th>Developer, back-end</th>\n",
       "      <th>Developer, QA or test</th>\n",
       "      <th>DevOps specialist</th>\n",
       "      <th>Developer, game or graphics</th>\n",
       "      <th>Database administrator</th>\n",
       "      <th>...</th>\n",
       "      <th>System administrator</th>\n",
       "      <th>Engineering manager</th>\n",
       "      <th>Product manager</th>\n",
       "      <th>Data or business analyst</th>\n",
       "      <th>Academic researcher</th>\n",
       "      <th>Data scientist or machine learning specialist</th>\n",
       "      <th>Scientist</th>\n",
       "      <th>Senior executive/VP</th>\n",
       "      <th>Engineer, site reliability</th>\n",
       "      <th>Marketing or sales professional</th>\n",
       "    </tr>\n",
       "  </thead>\n",
       "  <tbody>\n",
       "    <tr>\n",
       "      <th>0</th>\n",
       "      <td>True</td>\n",
       "      <td>True</td>\n",
       "      <td>False</td>\n",
       "      <td>False</td>\n",
       "      <td>False</td>\n",
       "      <td>False</td>\n",
       "      <td>False</td>\n",
       "      <td>False</td>\n",
       "      <td>False</td>\n",
       "      <td>False</td>\n",
       "      <td>...</td>\n",
       "      <td>False</td>\n",
       "      <td>False</td>\n",
       "      <td>False</td>\n",
       "      <td>False</td>\n",
       "      <td>False</td>\n",
       "      <td>False</td>\n",
       "      <td>False</td>\n",
       "      <td>False</td>\n",
       "      <td>False</td>\n",
       "      <td>False</td>\n",
       "    </tr>\n",
       "    <tr>\n",
       "      <th>1</th>\n",
       "      <td>False</td>\n",
       "      <td>False</td>\n",
       "      <td>True</td>\n",
       "      <td>False</td>\n",
       "      <td>False</td>\n",
       "      <td>False</td>\n",
       "      <td>False</td>\n",
       "      <td>False</td>\n",
       "      <td>False</td>\n",
       "      <td>False</td>\n",
       "      <td>...</td>\n",
       "      <td>False</td>\n",
       "      <td>False</td>\n",
       "      <td>False</td>\n",
       "      <td>False</td>\n",
       "      <td>False</td>\n",
       "      <td>False</td>\n",
       "      <td>False</td>\n",
       "      <td>False</td>\n",
       "      <td>False</td>\n",
       "      <td>False</td>\n",
       "    </tr>\n",
       "    <tr>\n",
       "      <th>2</th>\n",
       "      <td>False</td>\n",
       "      <td>False</td>\n",
       "      <td>False</td>\n",
       "      <td>False</td>\n",
       "      <td>False</td>\n",
       "      <td>False</td>\n",
       "      <td>False</td>\n",
       "      <td>False</td>\n",
       "      <td>False</td>\n",
       "      <td>False</td>\n",
       "      <td>...</td>\n",
       "      <td>False</td>\n",
       "      <td>False</td>\n",
       "      <td>False</td>\n",
       "      <td>False</td>\n",
       "      <td>False</td>\n",
       "      <td>False</td>\n",
       "      <td>False</td>\n",
       "      <td>False</td>\n",
       "      <td>False</td>\n",
       "      <td>False</td>\n",
       "    </tr>\n",
       "    <tr>\n",
       "      <th>3</th>\n",
       "      <td>False</td>\n",
       "      <td>False</td>\n",
       "      <td>False</td>\n",
       "      <td>False</td>\n",
       "      <td>False</td>\n",
       "      <td>False</td>\n",
       "      <td>False</td>\n",
       "      <td>False</td>\n",
       "      <td>False</td>\n",
       "      <td>False</td>\n",
       "      <td>...</td>\n",
       "      <td>False</td>\n",
       "      <td>False</td>\n",
       "      <td>False</td>\n",
       "      <td>False</td>\n",
       "      <td>False</td>\n",
       "      <td>False</td>\n",
       "      <td>False</td>\n",
       "      <td>False</td>\n",
       "      <td>False</td>\n",
       "      <td>False</td>\n",
       "    </tr>\n",
       "    <tr>\n",
       "      <th>4</th>\n",
       "      <td>False</td>\n",
       "      <td>False</td>\n",
       "      <td>False</td>\n",
       "      <td>False</td>\n",
       "      <td>False</td>\n",
       "      <td>False</td>\n",
       "      <td>False</td>\n",
       "      <td>False</td>\n",
       "      <td>False</td>\n",
       "      <td>False</td>\n",
       "      <td>...</td>\n",
       "      <td>False</td>\n",
       "      <td>False</td>\n",
       "      <td>False</td>\n",
       "      <td>False</td>\n",
       "      <td>False</td>\n",
       "      <td>False</td>\n",
       "      <td>False</td>\n",
       "      <td>False</td>\n",
       "      <td>False</td>\n",
       "      <td>False</td>\n",
       "    </tr>\n",
       "    <tr>\n",
       "      <th>...</th>\n",
       "      <td>...</td>\n",
       "      <td>...</td>\n",
       "      <td>...</td>\n",
       "      <td>...</td>\n",
       "      <td>...</td>\n",
       "      <td>...</td>\n",
       "      <td>...</td>\n",
       "      <td>...</td>\n",
       "      <td>...</td>\n",
       "      <td>...</td>\n",
       "      <td>...</td>\n",
       "      <td>...</td>\n",
       "      <td>...</td>\n",
       "      <td>...</td>\n",
       "      <td>...</td>\n",
       "      <td>...</td>\n",
       "      <td>...</td>\n",
       "      <td>...</td>\n",
       "      <td>...</td>\n",
       "      <td>...</td>\n",
       "      <td>...</td>\n",
       "    </tr>\n",
       "    <tr>\n",
       "      <th>64456</th>\n",
       "      <td>False</td>\n",
       "      <td>False</td>\n",
       "      <td>False</td>\n",
       "      <td>False</td>\n",
       "      <td>False</td>\n",
       "      <td>False</td>\n",
       "      <td>False</td>\n",
       "      <td>False</td>\n",
       "      <td>False</td>\n",
       "      <td>False</td>\n",
       "      <td>...</td>\n",
       "      <td>False</td>\n",
       "      <td>False</td>\n",
       "      <td>False</td>\n",
       "      <td>False</td>\n",
       "      <td>False</td>\n",
       "      <td>False</td>\n",
       "      <td>False</td>\n",
       "      <td>False</td>\n",
       "      <td>False</td>\n",
       "      <td>False</td>\n",
       "    </tr>\n",
       "    <tr>\n",
       "      <th>64457</th>\n",
       "      <td>False</td>\n",
       "      <td>False</td>\n",
       "      <td>False</td>\n",
       "      <td>False</td>\n",
       "      <td>False</td>\n",
       "      <td>False</td>\n",
       "      <td>False</td>\n",
       "      <td>False</td>\n",
       "      <td>False</td>\n",
       "      <td>False</td>\n",
       "      <td>...</td>\n",
       "      <td>False</td>\n",
       "      <td>False</td>\n",
       "      <td>False</td>\n",
       "      <td>False</td>\n",
       "      <td>False</td>\n",
       "      <td>False</td>\n",
       "      <td>False</td>\n",
       "      <td>False</td>\n",
       "      <td>False</td>\n",
       "      <td>False</td>\n",
       "    </tr>\n",
       "    <tr>\n",
       "      <th>64458</th>\n",
       "      <td>False</td>\n",
       "      <td>False</td>\n",
       "      <td>False</td>\n",
       "      <td>False</td>\n",
       "      <td>False</td>\n",
       "      <td>False</td>\n",
       "      <td>False</td>\n",
       "      <td>False</td>\n",
       "      <td>False</td>\n",
       "      <td>False</td>\n",
       "      <td>...</td>\n",
       "      <td>False</td>\n",
       "      <td>False</td>\n",
       "      <td>False</td>\n",
       "      <td>False</td>\n",
       "      <td>False</td>\n",
       "      <td>False</td>\n",
       "      <td>False</td>\n",
       "      <td>False</td>\n",
       "      <td>False</td>\n",
       "      <td>False</td>\n",
       "    </tr>\n",
       "    <tr>\n",
       "      <th>64459</th>\n",
       "      <td>False</td>\n",
       "      <td>False</td>\n",
       "      <td>False</td>\n",
       "      <td>False</td>\n",
       "      <td>False</td>\n",
       "      <td>False</td>\n",
       "      <td>False</td>\n",
       "      <td>False</td>\n",
       "      <td>False</td>\n",
       "      <td>False</td>\n",
       "      <td>...</td>\n",
       "      <td>False</td>\n",
       "      <td>False</td>\n",
       "      <td>False</td>\n",
       "      <td>False</td>\n",
       "      <td>False</td>\n",
       "      <td>False</td>\n",
       "      <td>False</td>\n",
       "      <td>False</td>\n",
       "      <td>False</td>\n",
       "      <td>False</td>\n",
       "    </tr>\n",
       "    <tr>\n",
       "      <th>64460</th>\n",
       "      <td>False</td>\n",
       "      <td>False</td>\n",
       "      <td>False</td>\n",
       "      <td>False</td>\n",
       "      <td>False</td>\n",
       "      <td>False</td>\n",
       "      <td>False</td>\n",
       "      <td>False</td>\n",
       "      <td>False</td>\n",
       "      <td>False</td>\n",
       "      <td>...</td>\n",
       "      <td>False</td>\n",
       "      <td>False</td>\n",
       "      <td>False</td>\n",
       "      <td>False</td>\n",
       "      <td>False</td>\n",
       "      <td>False</td>\n",
       "      <td>False</td>\n",
       "      <td>False</td>\n",
       "      <td>False</td>\n",
       "      <td>False</td>\n",
       "    </tr>\n",
       "  </tbody>\n",
       "</table>\n",
       "<p>64306 rows × 23 columns</p>\n",
       "</div>"
      ],
      "text/plain": [
       "       Developer, desktop or enterprise applications  Developer, full-stack  \\\n",
       "0                                               True                   True   \n",
       "1                                              False                  False   \n",
       "2                                              False                  False   \n",
       "3                                              False                  False   \n",
       "4                                              False                  False   \n",
       "...                                              ...                    ...   \n",
       "64456                                          False                  False   \n",
       "64457                                          False                  False   \n",
       "64458                                          False                  False   \n",
       "64459                                          False                  False   \n",
       "64460                                          False                  False   \n",
       "\n",
       "       Developer, mobile  Designer  Developer, front-end  Developer, back-end  \\\n",
       "0                  False     False                 False                False   \n",
       "1                   True     False                 False                False   \n",
       "2                  False     False                 False                False   \n",
       "3                  False     False                 False                False   \n",
       "4                  False     False                 False                False   \n",
       "...                  ...       ...                   ...                  ...   \n",
       "64456              False     False                 False                False   \n",
       "64457              False     False                 False                False   \n",
       "64458              False     False                 False                False   \n",
       "64459              False     False                 False                False   \n",
       "64460              False     False                 False                False   \n",
       "\n",
       "       Developer, QA or test  DevOps specialist  Developer, game or graphics  \\\n",
       "0                      False              False                        False   \n",
       "1                      False              False                        False   \n",
       "2                      False              False                        False   \n",
       "3                      False              False                        False   \n",
       "4                      False              False                        False   \n",
       "...                      ...                ...                          ...   \n",
       "64456                  False              False                        False   \n",
       "64457                  False              False                        False   \n",
       "64458                  False              False                        False   \n",
       "64459                  False              False                        False   \n",
       "64460                  False              False                        False   \n",
       "\n",
       "       Database administrator  ...  System administrator  Engineering manager  \\\n",
       "0                       False  ...                 False                False   \n",
       "1                       False  ...                 False                False   \n",
       "2                       False  ...                 False                False   \n",
       "3                       False  ...                 False                False   \n",
       "4                       False  ...                 False                False   \n",
       "...                       ...  ...                   ...                  ...   \n",
       "64456                   False  ...                 False                False   \n",
       "64457                   False  ...                 False                False   \n",
       "64458                   False  ...                 False                False   \n",
       "64459                   False  ...                 False                False   \n",
       "64460                   False  ...                 False                False   \n",
       "\n",
       "       Product manager  Data or business analyst  Academic researcher  \\\n",
       "0                False                     False                False   \n",
       "1                False                     False                False   \n",
       "2                False                     False                False   \n",
       "3                False                     False                False   \n",
       "4                False                     False                False   \n",
       "...                ...                       ...                  ...   \n",
       "64456            False                     False                False   \n",
       "64457            False                     False                False   \n",
       "64458            False                     False                False   \n",
       "64459            False                     False                False   \n",
       "64460            False                     False                False   \n",
       "\n",
       "       Data scientist or machine learning specialist  Scientist  \\\n",
       "0                                              False      False   \n",
       "1                                              False      False   \n",
       "2                                              False      False   \n",
       "3                                              False      False   \n",
       "4                                              False      False   \n",
       "...                                              ...        ...   \n",
       "64456                                          False      False   \n",
       "64457                                          False      False   \n",
       "64458                                          False      False   \n",
       "64459                                          False      False   \n",
       "64460                                          False      False   \n",
       "\n",
       "       Senior executive/VP  Engineer, site reliability  \\\n",
       "0                    False                       False   \n",
       "1                    False                       False   \n",
       "2                    False                       False   \n",
       "3                    False                       False   \n",
       "4                    False                       False   \n",
       "...                    ...                         ...   \n",
       "64456                False                       False   \n",
       "64457                False                       False   \n",
       "64458                False                       False   \n",
       "64459                False                       False   \n",
       "64460                False                       False   \n",
       "\n",
       "       Marketing or sales professional  \n",
       "0                                False  \n",
       "1                                False  \n",
       "2                                False  \n",
       "3                                False  \n",
       "4                                False  \n",
       "...                                ...  \n",
       "64456                            False  \n",
       "64457                            False  \n",
       "64458                            False  \n",
       "64459                            False  \n",
       "64460                            False  \n",
       "\n",
       "[64306 rows x 23 columns]"
      ]
     },
     "execution_count": 46,
     "metadata": {},
     "output_type": "execute_result"
    }
   ],
   "source": [
    "dev_type_df"
   ]
  },
  {
   "cell_type": "markdown",
   "id": "8e6792c5",
   "metadata": {},
   "source": [
    "* **The `dev_type_df` has one column for each option that can be selected as a response. If a respondent has chosen an option, the corresponding column's value is `True`. Otherwise, it is `False`.**  \n",
    "\n",
    "\n",
    "* **We can now use the column-wise totals to identify the most common roles.** "
   ]
  },
  {
   "cell_type": "code",
   "execution_count": null,
   "id": "108b6887",
   "metadata": {},
   "outputs": [],
   "source": []
  },
  {
   "cell_type": "code",
   "execution_count": 47,
   "id": "3dd0de00",
   "metadata": {},
   "outputs": [],
   "source": [
    "dev_type_totals = dev_type_df.sum().sort_values(ascending=False)"
   ]
  },
  {
   "cell_type": "code",
   "execution_count": 48,
   "id": "fe272d4c",
   "metadata": {},
   "outputs": [
    {
     "data": {
      "text/plain": [
       "Developer, desktop or enterprise applications    1\n",
       "Educator                                         1\n",
       "Engineer, site reliability                       1\n",
       "Senior executive/VP                              1\n",
       "Scientist                                        1\n",
       "Data scientist or machine learning specialist    1\n",
       "Academic researcher                              1\n",
       "Data or business analyst                         1\n",
       "Product manager                                  1\n",
       "Engineering manager                              1\n",
       "System administrator                             1\n",
       "Engineer, data                                   1\n",
       "Developer, full-stack                            1\n",
       "Developer, embedded applications or devices      1\n",
       "Database administrator                           1\n",
       "Developer, game or graphics                      1\n",
       "DevOps specialist                                1\n",
       "Developer, QA or test                            1\n",
       "Developer, back-end                              1\n",
       "Developer, front-end                             1\n",
       "Designer                                         1\n",
       "Developer, mobile                                1\n",
       "Marketing or sales professional                  1\n",
       "dtype: int64"
      ]
     },
     "execution_count": 48,
     "metadata": {},
     "output_type": "execute_result"
    }
   ],
   "source": [
    "dev_type_totals"
   ]
  },
  {
   "cell_type": "markdown",
   "id": "d96cc9a0",
   "metadata": {},
   "source": [
    "* **As one might expect, the most common roles include \"Developer\" in the name.**"
   ]
  },
  {
   "cell_type": "markdown",
   "id": "93fdad49",
   "metadata": {},
   "source": [
    "**Exercises:**\n",
    "* Can you figure out what percentage of respondents work in roles related to data science?\n",
    "* Which positions have the highest percentage f women?"
   ]
  },
  {
   "cell_type": "markdown",
   "id": "36636bf7",
   "metadata": {},
   "source": [
    " * **We've only explored a handful of columns from the 20 columns that we selected. Explore and visualize he remaining columns using the empty cells below.**"
   ]
  },
  {
   "cell_type": "code",
   "execution_count": null,
   "id": "2a09917c",
   "metadata": {},
   "outputs": [],
   "source": []
  },
  {
   "cell_type": "code",
   "execution_count": null,
   "id": "c11e1f3c",
   "metadata": {},
   "outputs": [],
   "source": []
  },
  {
   "cell_type": "code",
   "execution_count": null,
   "id": "a0b7b456",
   "metadata": {},
   "outputs": [],
   "source": []
  },
  {
   "cell_type": "markdown",
   "id": "e46c7b00",
   "metadata": {},
   "source": [
    "## Asking and Answering Questions:\n",
    "We've already gained several insights about the respondents and the programming community by exploring individual columns of the dataset. Let's ask some specific questions and try to answer them using data frame operations and visualizations. "
   ]
  },
  {
   "cell_type": "markdown",
   "id": "f1eb1070",
   "metadata": {},
   "source": [
    "**Question:- What are the most popular programming languages in 2020?**"
   ]
  },
  {
   "cell_type": "markdown",
   "id": "659af51b",
   "metadata": {},
   "source": [
    "**Answer:-** TO answer, this we can use the `LanguageWorkedWith` column. Similarly to `DevType`, respondents were allowed to choose multiple options here."
   ]
  },
  {
   "cell_type": "code",
   "execution_count": 49,
   "id": "b4140d01",
   "metadata": {},
   "outputs": [
    {
     "data": {
      "text/plain": [
       "0                                   C#;HTML/CSS;JavaScript\n",
       "1                                         JavaScript;Swift\n",
       "2                                 Objective-C;Python;Swift\n",
       "3                                                      NaN\n",
       "4                                        HTML/CSS;Ruby;SQL\n",
       "                               ...                        \n",
       "64456                                                  NaN\n",
       "64457    Assembly;Bash/Shell/PowerShell;C;C#;C++;Dart;G...\n",
       "64458                                                  NaN\n",
       "64459                                             HTML/CSS\n",
       "64460                      C#;HTML/CSS;Java;JavaScript;SQL\n",
       "Name: LanguageWorkedWith, Length: 64306, dtype: object"
      ]
     },
     "execution_count": 49,
     "metadata": {},
     "output_type": "execute_result"
    }
   ],
   "source": [
    "survey_df.LanguageWorkedWith"
   ]
  },
  {
   "cell_type": "markdown",
   "id": "5486ff83",
   "metadata": {},
   "source": [
    "* **First, we'll split this column into a data frame containing a column of each language listed in the options.**"
   ]
  },
  {
   "cell_type": "code",
   "execution_count": 50,
   "id": "d06d40a7",
   "metadata": {},
   "outputs": [],
   "source": [
    "languages_worked_df = split_multicolumn(survey_df.LanguageWorkedWith)"
   ]
  },
  {
   "cell_type": "code",
   "execution_count": 51,
   "id": "2b90a68c",
   "metadata": {},
   "outputs": [
    {
     "data": {
      "text/html": [
       "<div>\n",
       "<style scoped>\n",
       "    .dataframe tbody tr th:only-of-type {\n",
       "        vertical-align: middle;\n",
       "    }\n",
       "\n",
       "    .dataframe tbody tr th {\n",
       "        vertical-align: top;\n",
       "    }\n",
       "\n",
       "    .dataframe thead th {\n",
       "        text-align: right;\n",
       "    }\n",
       "</style>\n",
       "<table border=\"1\" class=\"dataframe\">\n",
       "  <thead>\n",
       "    <tr style=\"text-align: right;\">\n",
       "      <th></th>\n",
       "      <th>C#</th>\n",
       "      <th>HTML/CSS</th>\n",
       "      <th>JavaScript</th>\n",
       "      <th>Swift</th>\n",
       "      <th>Objective-C</th>\n",
       "      <th>Python</th>\n",
       "      <th>Ruby</th>\n",
       "      <th>SQL</th>\n",
       "      <th>Java</th>\n",
       "      <th>PHP</th>\n",
       "      <th>...</th>\n",
       "      <th>VBA</th>\n",
       "      <th>Perl</th>\n",
       "      <th>Scala</th>\n",
       "      <th>C++</th>\n",
       "      <th>Go</th>\n",
       "      <th>Haskell</th>\n",
       "      <th>Rust</th>\n",
       "      <th>Dart</th>\n",
       "      <th>Julia</th>\n",
       "      <th>Assembly</th>\n",
       "    </tr>\n",
       "  </thead>\n",
       "  <tbody>\n",
       "    <tr>\n",
       "      <th>0</th>\n",
       "      <td>True</td>\n",
       "      <td>True</td>\n",
       "      <td>True</td>\n",
       "      <td>False</td>\n",
       "      <td>False</td>\n",
       "      <td>False</td>\n",
       "      <td>False</td>\n",
       "      <td>False</td>\n",
       "      <td>False</td>\n",
       "      <td>False</td>\n",
       "      <td>...</td>\n",
       "      <td>False</td>\n",
       "      <td>False</td>\n",
       "      <td>False</td>\n",
       "      <td>False</td>\n",
       "      <td>False</td>\n",
       "      <td>False</td>\n",
       "      <td>False</td>\n",
       "      <td>False</td>\n",
       "      <td>False</td>\n",
       "      <td>False</td>\n",
       "    </tr>\n",
       "    <tr>\n",
       "      <th>1</th>\n",
       "      <td>False</td>\n",
       "      <td>False</td>\n",
       "      <td>False</td>\n",
       "      <td>True</td>\n",
       "      <td>False</td>\n",
       "      <td>False</td>\n",
       "      <td>False</td>\n",
       "      <td>False</td>\n",
       "      <td>False</td>\n",
       "      <td>False</td>\n",
       "      <td>...</td>\n",
       "      <td>False</td>\n",
       "      <td>False</td>\n",
       "      <td>False</td>\n",
       "      <td>False</td>\n",
       "      <td>False</td>\n",
       "      <td>False</td>\n",
       "      <td>False</td>\n",
       "      <td>False</td>\n",
       "      <td>False</td>\n",
       "      <td>False</td>\n",
       "    </tr>\n",
       "    <tr>\n",
       "      <th>2</th>\n",
       "      <td>False</td>\n",
       "      <td>False</td>\n",
       "      <td>False</td>\n",
       "      <td>False</td>\n",
       "      <td>True</td>\n",
       "      <td>True</td>\n",
       "      <td>False</td>\n",
       "      <td>False</td>\n",
       "      <td>False</td>\n",
       "      <td>False</td>\n",
       "      <td>...</td>\n",
       "      <td>False</td>\n",
       "      <td>False</td>\n",
       "      <td>False</td>\n",
       "      <td>False</td>\n",
       "      <td>False</td>\n",
       "      <td>False</td>\n",
       "      <td>False</td>\n",
       "      <td>False</td>\n",
       "      <td>False</td>\n",
       "      <td>False</td>\n",
       "    </tr>\n",
       "    <tr>\n",
       "      <th>3</th>\n",
       "      <td>False</td>\n",
       "      <td>False</td>\n",
       "      <td>False</td>\n",
       "      <td>False</td>\n",
       "      <td>False</td>\n",
       "      <td>False</td>\n",
       "      <td>False</td>\n",
       "      <td>False</td>\n",
       "      <td>False</td>\n",
       "      <td>False</td>\n",
       "      <td>...</td>\n",
       "      <td>False</td>\n",
       "      <td>False</td>\n",
       "      <td>False</td>\n",
       "      <td>False</td>\n",
       "      <td>False</td>\n",
       "      <td>False</td>\n",
       "      <td>False</td>\n",
       "      <td>False</td>\n",
       "      <td>False</td>\n",
       "      <td>False</td>\n",
       "    </tr>\n",
       "    <tr>\n",
       "      <th>4</th>\n",
       "      <td>False</td>\n",
       "      <td>False</td>\n",
       "      <td>False</td>\n",
       "      <td>False</td>\n",
       "      <td>False</td>\n",
       "      <td>False</td>\n",
       "      <td>True</td>\n",
       "      <td>True</td>\n",
       "      <td>False</td>\n",
       "      <td>False</td>\n",
       "      <td>...</td>\n",
       "      <td>False</td>\n",
       "      <td>False</td>\n",
       "      <td>False</td>\n",
       "      <td>False</td>\n",
       "      <td>False</td>\n",
       "      <td>False</td>\n",
       "      <td>False</td>\n",
       "      <td>False</td>\n",
       "      <td>False</td>\n",
       "      <td>False</td>\n",
       "    </tr>\n",
       "    <tr>\n",
       "      <th>...</th>\n",
       "      <td>...</td>\n",
       "      <td>...</td>\n",
       "      <td>...</td>\n",
       "      <td>...</td>\n",
       "      <td>...</td>\n",
       "      <td>...</td>\n",
       "      <td>...</td>\n",
       "      <td>...</td>\n",
       "      <td>...</td>\n",
       "      <td>...</td>\n",
       "      <td>...</td>\n",
       "      <td>...</td>\n",
       "      <td>...</td>\n",
       "      <td>...</td>\n",
       "      <td>...</td>\n",
       "      <td>...</td>\n",
       "      <td>...</td>\n",
       "      <td>...</td>\n",
       "      <td>...</td>\n",
       "      <td>...</td>\n",
       "      <td>...</td>\n",
       "    </tr>\n",
       "    <tr>\n",
       "      <th>64456</th>\n",
       "      <td>False</td>\n",
       "      <td>False</td>\n",
       "      <td>False</td>\n",
       "      <td>False</td>\n",
       "      <td>False</td>\n",
       "      <td>False</td>\n",
       "      <td>False</td>\n",
       "      <td>False</td>\n",
       "      <td>False</td>\n",
       "      <td>False</td>\n",
       "      <td>...</td>\n",
       "      <td>False</td>\n",
       "      <td>False</td>\n",
       "      <td>False</td>\n",
       "      <td>False</td>\n",
       "      <td>False</td>\n",
       "      <td>False</td>\n",
       "      <td>False</td>\n",
       "      <td>False</td>\n",
       "      <td>False</td>\n",
       "      <td>False</td>\n",
       "    </tr>\n",
       "    <tr>\n",
       "      <th>64457</th>\n",
       "      <td>False</td>\n",
       "      <td>False</td>\n",
       "      <td>False</td>\n",
       "      <td>False</td>\n",
       "      <td>False</td>\n",
       "      <td>False</td>\n",
       "      <td>False</td>\n",
       "      <td>False</td>\n",
       "      <td>False</td>\n",
       "      <td>False</td>\n",
       "      <td>...</td>\n",
       "      <td>False</td>\n",
       "      <td>False</td>\n",
       "      <td>False</td>\n",
       "      <td>False</td>\n",
       "      <td>False</td>\n",
       "      <td>False</td>\n",
       "      <td>False</td>\n",
       "      <td>False</td>\n",
       "      <td>False</td>\n",
       "      <td>False</td>\n",
       "    </tr>\n",
       "    <tr>\n",
       "      <th>64458</th>\n",
       "      <td>False</td>\n",
       "      <td>False</td>\n",
       "      <td>False</td>\n",
       "      <td>False</td>\n",
       "      <td>False</td>\n",
       "      <td>False</td>\n",
       "      <td>False</td>\n",
       "      <td>False</td>\n",
       "      <td>False</td>\n",
       "      <td>False</td>\n",
       "      <td>...</td>\n",
       "      <td>False</td>\n",
       "      <td>False</td>\n",
       "      <td>False</td>\n",
       "      <td>False</td>\n",
       "      <td>False</td>\n",
       "      <td>False</td>\n",
       "      <td>False</td>\n",
       "      <td>False</td>\n",
       "      <td>False</td>\n",
       "      <td>False</td>\n",
       "    </tr>\n",
       "    <tr>\n",
       "      <th>64459</th>\n",
       "      <td>False</td>\n",
       "      <td>False</td>\n",
       "      <td>False</td>\n",
       "      <td>False</td>\n",
       "      <td>False</td>\n",
       "      <td>False</td>\n",
       "      <td>False</td>\n",
       "      <td>False</td>\n",
       "      <td>False</td>\n",
       "      <td>False</td>\n",
       "      <td>...</td>\n",
       "      <td>False</td>\n",
       "      <td>False</td>\n",
       "      <td>False</td>\n",
       "      <td>False</td>\n",
       "      <td>False</td>\n",
       "      <td>False</td>\n",
       "      <td>False</td>\n",
       "      <td>False</td>\n",
       "      <td>False</td>\n",
       "      <td>False</td>\n",
       "    </tr>\n",
       "    <tr>\n",
       "      <th>64460</th>\n",
       "      <td>False</td>\n",
       "      <td>False</td>\n",
       "      <td>False</td>\n",
       "      <td>False</td>\n",
       "      <td>False</td>\n",
       "      <td>False</td>\n",
       "      <td>False</td>\n",
       "      <td>False</td>\n",
       "      <td>False</td>\n",
       "      <td>False</td>\n",
       "      <td>...</td>\n",
       "      <td>False</td>\n",
       "      <td>False</td>\n",
       "      <td>False</td>\n",
       "      <td>False</td>\n",
       "      <td>False</td>\n",
       "      <td>False</td>\n",
       "      <td>False</td>\n",
       "      <td>False</td>\n",
       "      <td>False</td>\n",
       "      <td>False</td>\n",
       "    </tr>\n",
       "  </tbody>\n",
       "</table>\n",
       "<p>64306 rows × 25 columns</p>\n",
       "</div>"
      ],
      "text/plain": [
       "          C#  HTML/CSS  JavaScript  Swift  Objective-C  Python   Ruby    SQL  \\\n",
       "0       True      True        True  False        False   False  False  False   \n",
       "1      False     False       False   True        False   False  False  False   \n",
       "2      False     False       False  False         True    True  False  False   \n",
       "3      False     False       False  False        False   False  False  False   \n",
       "4      False     False       False  False        False   False   True   True   \n",
       "...      ...       ...         ...    ...          ...     ...    ...    ...   \n",
       "64456  False     False       False  False        False   False  False  False   \n",
       "64457  False     False       False  False        False   False  False  False   \n",
       "64458  False     False       False  False        False   False  False  False   \n",
       "64459  False     False       False  False        False   False  False  False   \n",
       "64460  False     False       False  False        False   False  False  False   \n",
       "\n",
       "        Java    PHP  ...    VBA   Perl  Scala    C++     Go  Haskell   Rust  \\\n",
       "0      False  False  ...  False  False  False  False  False    False  False   \n",
       "1      False  False  ...  False  False  False  False  False    False  False   \n",
       "2      False  False  ...  False  False  False  False  False    False  False   \n",
       "3      False  False  ...  False  False  False  False  False    False  False   \n",
       "4      False  False  ...  False  False  False  False  False    False  False   \n",
       "...      ...    ...  ...    ...    ...    ...    ...    ...      ...    ...   \n",
       "64456  False  False  ...  False  False  False  False  False    False  False   \n",
       "64457  False  False  ...  False  False  False  False  False    False  False   \n",
       "64458  False  False  ...  False  False  False  False  False    False  False   \n",
       "64459  False  False  ...  False  False  False  False  False    False  False   \n",
       "64460  False  False  ...  False  False  False  False  False    False  False   \n",
       "\n",
       "        Dart  Julia  Assembly  \n",
       "0      False  False     False  \n",
       "1      False  False     False  \n",
       "2      False  False     False  \n",
       "3      False  False     False  \n",
       "4      False  False     False  \n",
       "...      ...    ...       ...  \n",
       "64456  False  False     False  \n",
       "64457  False  False     False  \n",
       "64458  False  False     False  \n",
       "64459  False  False     False  \n",
       "64460  False  False     False  \n",
       "\n",
       "[64306 rows x 25 columns]"
      ]
     },
     "execution_count": 51,
     "metadata": {},
     "output_type": "execute_result"
    }
   ],
   "source": [
    "languages_worked_df"
   ]
  },
  {
   "cell_type": "markdown",
   "id": "ad3933d4",
   "metadata": {},
   "source": [
    "* **It appears that a total of 25 languages were included among the options. Let's aggregate these to identify the percentage of respondents who selected each language.**"
   ]
  },
  {
   "cell_type": "code",
   "execution_count": 52,
   "id": "519b96bb",
   "metadata": {},
   "outputs": [
    {
     "data": {
      "text/plain": [
       "C#                       0.001555\n",
       "Kotlin                   0.001555\n",
       "Julia                    0.001555\n",
       "Dart                     0.001555\n",
       "Rust                     0.001555\n",
       "Haskell                  0.001555\n",
       "Go                       0.001555\n",
       "C++                      0.001555\n",
       "Scala                    0.001555\n",
       "Perl                     0.001555\n",
       "VBA                      0.001555\n",
       "R                        0.001555\n",
       "Bash/Shell/PowerShell    0.001555\n",
       "HTML/CSS                 0.001555\n",
       "TypeScript               0.001555\n",
       "C                        0.001555\n",
       "PHP                      0.001555\n",
       "Java                     0.001555\n",
       "SQL                      0.001555\n",
       "Ruby                     0.001555\n",
       "Python                   0.001555\n",
       "Objective-C              0.001555\n",
       "Swift                    0.001555\n",
       "JavaScript               0.001555\n",
       "Assembly                 0.001555\n",
       "dtype: float64"
      ]
     },
     "execution_count": 52,
     "metadata": {},
     "output_type": "execute_result"
    }
   ],
   "source": [
    "languages_worked_percentages = languages_worked_df.mean().sort_values(ascending=False) * 100\n",
    "languages_worked_percentages"
   ]
  },
  {
   "cell_type": "markdown",
   "id": "dfb205be",
   "metadata": {},
   "source": [
    "* **We can plot this information using a horizontal bar chart.**"
   ]
  },
  {
   "cell_type": "code",
   "execution_count": 53,
   "id": "be4c4de2",
   "metadata": {},
   "outputs": [
    {
     "data": {
      "image/png": "[encoded data removed]",
      "text/plain": [
       "<Figure size 864x864 with 1 Axes>"
      ]
     },
     "metadata": {},
     "output_type": "display_data"
    }
   ],
   "source": [
    "plt.figure(figsize=(12,12))\n",
    "sns.barplot(x=languages_worked_percentages, y=languages_worked_percentages.index)\n",
    "plt.title('Languages used in the past year');\n",
    "plt.xlabel('count');"
   ]
  },
  {
   "cell_type": "markdown",
   "id": "b9c6aada",
   "metadata": {},
   "source": [
    "**Conclusion:-** Perhaps unsurprisingly, Javascript and HTML/CSS comes out at the top as web development is one of today's most sought skills. It also happens to be one of the easiest to get started. SQL is necessary for working with relational database, so it's no surprise that most programmers work with SQL regularly. Python seems to be the popular choice for the other forms of development, beating out Java, which was the industry standard for sever and application development for over two decades."
   ]
  },
  {
   "cell_type": "markdown",
   "id": "5ba15116",
   "metadata": {},
   "source": [
    "**Exercises:**"
   ]
  },
  {
   "cell_type": "markdown",
   "id": "f3f3b9c6",
   "metadata": {},
   "source": [
    "* What are the most common languages used by students? How does the list compare with the most common languages used by professional developers?\n",
    "* What are the most common languages among respondents who do not describe themselves as \"Developer, front-end\"?\n",
    "* What are the most common languages among respondents who work in fields related to data science?\n",
    "* What are the most common languages used by developers older than 35 years of age?\n",
    "* What are the most common languages used by developers in your home countery?"
   ]
  },
  {
   "cell_type": "markdown",
   "id": "29be9ca6",
   "metadata": {},
   "source": [
    "**Question:- Which language are the most people interested to learn over the next year?**  \n",
    "\n",
    "**Answer:-** For this, we can use the `LanguageDesireNextYear` column with similar processing as the previous one."
   ]
  },
  {
   "cell_type": "code",
   "execution_count": 54,
   "id": "f7d53ae2",
   "metadata": {},
   "outputs": [
    {
     "data": {
      "text/plain": [
       "C#                       0.001555\n",
       "Go                       0.001555\n",
       "Dart                     0.001555\n",
       "Kotlin                   0.001555\n",
       "Julia                    0.001555\n",
       "C++                      0.001555\n",
       "Perl                     0.001555\n",
       "Haskell                  0.001555\n",
       "C                        0.001555\n",
       "Bash/Shell/PowerShell    0.001555\n",
       "Assembly                 0.001555\n",
       "TypeScript               0.001555\n",
       "SQL                      0.001555\n",
       "HTML/CSS                 0.001555\n",
       "R                        0.001555\n",
       "Rust                     0.001555\n",
       "PHP                      0.001555\n",
       "Scala                    0.001555\n",
       "Ruby                     0.001555\n",
       "Java                     0.001555\n",
       "Objective-C              0.001555\n",
       "Swift                    0.001555\n",
       "Python                   0.001555\n",
       "JavaScript               0.001555\n",
       "VBA                      0.001555\n",
       "dtype: float64"
      ]
     },
     "execution_count": 54,
     "metadata": {},
     "output_type": "execute_result"
    }
   ],
   "source": [
    "languages_interested_df = split_multicolumn(survey_df.LanguageDesireNextYear)\n",
    "languages_interested_percentages = languages_interested_df.mean().sort_values(ascending=False)* 100\n",
    "languages_interested_percentages"
   ]
  },
  {
   "cell_type": "code",
   "execution_count": null,
   "id": "1a35f4a6",
   "metadata": {},
   "outputs": [],
   "source": []
  }
 ],
 "metadata": {
  "kernelspec": {
   "display_name": "Python 3 (ipykernel)",
   "language": "python",
   "name": "python3"
  },
  "language_info": {
   "codemirror_mode": {
    "name": "ipython",
    "version": 3
   },
   "file_extension": ".py",
   "mimetype": "text/x-python",
   "name": "python",
   "nbconvert_exporter": "python",
   "pygments_lexer": "ipython3",
   "version": "3.9.12"
  }
 },
 "nbformat": 4,
 "nbformat_minor": 5
}
