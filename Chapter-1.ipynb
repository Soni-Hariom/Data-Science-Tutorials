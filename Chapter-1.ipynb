{
 "cells": [
  {
   "cell_type": "markdown",
   "id": "070465a5",
   "metadata": {},
   "source": [
    "## First Step With Python and Jupyter Notebook"
   ]
  },
  {
   "cell_type": "markdown",
   "id": "9a180f8a",
   "metadata": {},
   "source": [
    "> Content"
   ]
  },
  {
   "cell_type": "markdown",
   "id": "03b3c40b",
   "metadata": {},
   "source": [
    "1. Performing arithmetic operations using Python\n",
    "2. Solving multi-step problems using variables\n",
    "3. Evaluating conditions with logical operators\n",
    "4. Adding text styles using Markdon"
   ]
  },
  {
   "cell_type": "markdown",
   "id": "98de31b3",
   "metadata": {},
   "source": [
    "### 1. Performing Arithmetic Operations Using python"
   ]
  },
  {
   "cell_type": "markdown",
   "id": "c18ebaa7",
   "metadata": {},
   "source": [
    "![](https://i.imgur.com/gvSnw4A.png)"
   ]
  },
  {
   "cell_type": "markdown",
   "id": "ab715982",
   "metadata": {},
   "source": [
    "#### Python As Calculator"
   ]
  },
  {
   "cell_type": "code",
   "execution_count": 19,
   "id": "b4061e76",
   "metadata": {},
   "outputs": [
    {
     "data": {
      "text/plain": [
       "21"
      ]
     },
     "execution_count": 19,
     "metadata": {},
     "output_type": "execute_result"
    }
   ],
   "source": [
    "# Addition\n",
    "\n",
    "2+3+9+7"
   ]
  },
  {
   "cell_type": "code",
   "execution_count": 20,
   "id": "de7d593a",
   "metadata": {},
   "outputs": [
    {
     "data": {
      "text/plain": [
       "23.3"
      ]
     },
     "execution_count": 20,
     "metadata": {},
     "output_type": "execute_result"
    }
   ],
   "source": [
    "# Substaction\n",
    "\n",
    "23.5-.2"
   ]
  },
  {
   "cell_type": "code",
   "execution_count": 21,
   "id": "3f2f2eb0",
   "metadata": {},
   "outputs": [
    {
     "data": {
      "text/plain": [
       "1000"
      ]
     },
     "execution_count": 21,
     "metadata": {},
     "output_type": "execute_result"
    }
   ],
   "source": [
    "# Multiplication\n",
    "\n",
    "100*10"
   ]
  },
  {
   "cell_type": "code",
   "execution_count": 23,
   "id": "d626c8ee",
   "metadata": {},
   "outputs": [
    {
     "data": {
      "text/plain": [
       "3.3333333333333335"
      ]
     },
     "execution_count": 23,
     "metadata": {},
     "output_type": "execute_result"
    }
   ],
   "source": [
    "# Division\n",
    "\n",
    "10/3"
   ]
  },
  {
   "cell_type": "code",
   "execution_count": 24,
   "id": "3f5d9d59",
   "metadata": {},
   "outputs": [
    {
     "data": {
      "text/plain": [
       "3"
      ]
     },
     "execution_count": 24,
     "metadata": {},
     "output_type": "execute_result"
    }
   ],
   "source": [
    "# Only Integer Part Of Division\n",
    "\n",
    "10//3"
   ]
  },
  {
   "cell_type": "code",
   "execution_count": 25,
   "id": "e1a351a0",
   "metadata": {},
   "outputs": [
    {
     "data": {
      "text/plain": [
       "1"
      ]
     },
     "execution_count": 25,
     "metadata": {},
     "output_type": "execute_result"
    }
   ],
   "source": [
    "# Only Reminder\n",
    "\n",
    "10%3"
   ]
  },
  {
   "cell_type": "code",
   "execution_count": 27,
   "id": "d513b876",
   "metadata": {},
   "outputs": [
    {
     "data": {
      "text/plain": [
       "125"
      ]
     },
     "execution_count": 27,
     "metadata": {},
     "output_type": "execute_result"
    }
   ],
   "source": [
    "# Power Form\n",
    "\n",
    "5**3"
   ]
  },
  {
   "cell_type": "code",
   "execution_count": 28,
   "id": "40efc6db",
   "metadata": {},
   "outputs": [
    {
     "data": {
      "text/plain": [
       "2.0"
      ]
     },
     "execution_count": 28,
     "metadata": {},
     "output_type": "execute_result"
    }
   ],
   "source": [
    "# Combinations\n",
    "\n",
    "2+2-2*2/2"
   ]
  },
  {
   "cell_type": "code",
   "execution_count": 30,
   "id": "31547cc3",
   "metadata": {},
   "outputs": [
    {
     "data": {
      "text/plain": [
       "3.0"
      ]
     },
     "execution_count": 30,
     "metadata": {},
     "output_type": "execute_result"
    }
   ],
   "source": [
    "(2+2)-(2*2)/(2*2)"
   ]
  },
  {
   "cell_type": "code",
   "execution_count": 32,
   "id": "ef61abec",
   "metadata": {},
   "outputs": [
    {
     "data": {
      "text/plain": [
       "1.53125"
      ]
     },
     "execution_count": 32,
     "metadata": {},
     "output_type": "execute_result"
    }
   ],
   "source": [
    "((2+5)*(17-3)/4**3)"
   ]
  },
  {
   "cell_type": "markdown",
   "id": "3b83b79a",
   "metadata": {},
   "source": [
    "#### Python supports the following arithmetic operators:"
   ]
  },
  {
   "cell_type": "markdown",
   "id": "e3a12fc5",
   "metadata": {},
   "source": [
    "| Operator   | Purpose           | Example     | Result    |\n",
    "|------------|-------------------|-------------|-----------|\n",
    "| `+`        | Addition          | `2 + 3`     | `5`       |\n",
    "| `-`        | Subtraction       | `3 - 2`     | `1`       |\n",
    "| `*`        | Multiplication    | `8 * 12`    | `96`      |\n",
    "| `/`        | Division          | `100 / 7`   | `14.28..` |\n",
    "| `//`       | Floor Division    | `100 // 7`  | `14`      |    \n",
    "| `%`        | Modulus/Remainder | `100 % 7`   | `2`       |\n",
    "| `**`       | Exponent          | `5 ** 3`    | `125`     |"
   ]
  },
  {
   "cell_type": "markdown",
   "id": "f721962a",
   "metadata": {},
   "source": [
    "### 2. Solving Multi-Level Problems Using Variables"
   ]
  },
  {
   "cell_type": "markdown",
   "id": "3c63cc5d",
   "metadata": {},
   "source": [
    "##### Important definition and commands used in this chapter"
   ]
  },
  {
   "cell_type": "markdown",
   "id": "4d200eae",
   "metadata": {},
   "source": [
    "> **Variables:-** Variables are used to store the informations. We can think of variables as container for storing data.    \n",
    "*Example:-*  x, Men, Women, Total_amount etc...  \n",
    " *(Note:- Usually left-side of  \"=\"  operator is called the variable name)* \n",
    "\n"
   ]
  },
  {
   "cell_type": "markdown",
   "id": "d07d1794",
   "metadata": {},
   "source": [
    "> **value:-** The data stored within the variable is  called value.  \n",
    "*Example:-*  20, 45312, 35678, Total_Population-Men-Women etc...  \n",
    " *(Note:- Usually Right-side of  \"=\"  operator is called the variable name)*"
   ]
  },
  {
   "cell_type": "markdown",
   "id": "e7974250",
   "metadata": {},
   "source": [
    "> **Functions:-** A function is a reusable set of instructions. It takes one or more inputs to perform certain operations, and often returns an output.  \n",
    "*Note:-*  Python provides many in-built functions like `print` and also allow us to define our own functions."
   ]
  },
  {
   "cell_type": "markdown",
   "id": "d4fe28fb",
   "metadata": {},
   "source": [
    "> **`print`** :- `print` is a function to print or display the quoted information. It takes one or more inputs, which can be text (within quotes, e.g.- `'Hello World'`, `\"This is some text\"`), numbers, variables, mathematical expressions etc..."
   ]
  },
  {
   "cell_type": "markdown",
   "id": "b05f79ac",
   "metadata": {},
   "source": [
    "> **Comments:-** Comments and blank lines are ignored during execution, but they are useful for providing information to humans (including yourself) about what the code does. Comments can be `inline`- `#_ _ _` (at the end of same code), on a separate line, or even  span `multiple lines`- `'''_ _ _'''`."
   ]
  },
  {
   "cell_type": "markdown",
   "id": "44d064e2",
   "metadata": {},
   "source": [
    "> *' # '* :- Use for line comment    \n",
    "*Example:-* # Solution Of Question no.1"
   ]
  },
  {
   "cell_type": "markdown",
   "id": "505366ee",
   "metadata": {},
   "source": [
    ">  '''_____''' :- Use for Multi-Line comments or text  \n",
    "*Example:-*   \n",
    "'''\n",
    "Question No. 1- The population of a town is 198568. Out of them 45312 are men and 35678 are women. \n",
    "Find the number of children in the town.\n",
    "'''"
   ]
  },
  {
   "cell_type": "markdown",
   "id": "152de64f",
   "metadata": {},
   "source": [
    "> Solution Of Given Problem Sets:\n",
    "* https://www.math-only-math.com/worksheet-on-word-problems-on-four-operations.html ."
   ]
  },
  {
   "cell_type": "code",
   "execution_count": 34,
   "id": "f1f0ca2f",
   "metadata": {},
   "outputs": [
    {
     "name": "stdout",
     "output_type": "stream",
     "text": [
      "The Number Of Children In The Town:  117578\n"
     ]
    }
   ],
   "source": [
    "'''\n",
    "Question No. 1- The population of a town is 198568. Out of them 45312 are men and 35678 are women. \n",
    "Find the number of children in the town.\n",
    "\n",
    "'''\n",
    "# Solution Of Question no.1\n",
    "\n",
    "Total_Population = 198568\n",
    "Men = 45312\n",
    "Women = 35678\n",
    "Children = Total_Population-Men-Women\n",
    "print(\"The Number Of Children In The Town: \", Children)\n",
    "\n",
    "# Note:- Here we use print function to print the quoted text with the required outcomes\n"
   ]
  },
  {
   "cell_type": "code",
   "execution_count": 36,
   "id": "aa11f87b",
   "metadata": {},
   "outputs": [
    {
     "name": "stdout",
     "output_type": "stream",
     "text": [
      "Total Pencils in all the boxes:  58200\n"
     ]
    }
   ],
   "source": [
    "''' \n",
    "Question No.2- A shopkeeper has 2425 boxes of 24 pencils each. How many pencils do all the boxes have in all?\n",
    "\n",
    "'''\n",
    "# Solution Of Question No.2\n",
    "Boxes = 2425\n",
    "Pencils_In_One_Box = 24\n",
    "Total_Pencils = Boxes*Pencils_In_One_Box\n",
    "print(\"Total Pencils in all the boxes: \", Total_Pencils)"
   ]
  },
  {
   "cell_type": "code",
   "execution_count": 40,
   "id": "a5157d70",
   "metadata": {},
   "outputs": [
    {
     "name": "stdout",
     "output_type": "stream",
     "text": [
      "Shopkeeper returned the money to Linda ($): 585\n"
     ]
    }
   ],
   "source": [
    "''' \n",
    "Question No.3- Linda bought a coat for $2265 and a saree for $2150. She gave $5000 to the shopkeeper. \n",
    "How much money did the shopkeeper return to her? \n",
    "\n",
    "'''\n",
    "# Solution Of Question No.3\n",
    "\n",
    "Cost_of_a_coat = 2265\n",
    "Cost_of_a_saree = 2150\n",
    "Amount_given = 5000\n",
    "Return_money = Amount_given - Cost_of_a_coat - Cost_of_a_saree\n",
    "print(\"Shopkeeper returned the money to Linda ($):\", Return_money)"
   ]
  },
  {
   "cell_type": "code",
   "execution_count": 45,
   "id": "1bb1b9f8",
   "metadata": {},
   "outputs": [
    {
     "name": "stdout",
     "output_type": "stream",
     "text": [
      "Cost Of one TV ($): 4564.0\n"
     ]
    }
   ],
   "source": [
    "''' \n",
    "Question No.4- The cost of 21 TV sets is $95844. Find the cost of one TV set.\n",
    "\n",
    "'''\n",
    "# Solution Of Question no.4\n",
    "\n",
    "Number_of_tv = 21\n",
    "Total_cost_of_tv = 95844\n",
    "Cost_Of_One_tv = Total_cost_of_tv / Number_of_tv\n",
    "print(\"Cost Of one TV ($):\",Cost_Of_One_tv)"
   ]
  },
  {
   "cell_type": "code",
   "execution_count": 46,
   "id": "5cce8124",
   "metadata": {},
   "outputs": [
    {
     "name": "stdout",
     "output_type": "stream",
     "text": [
      "Annual production of bulbs in factory:  294384\n"
     ]
    }
   ],
   "source": [
    "'''\n",
    "Question No.5- A factory produces 24532 bulbs in a month. What is its annual production\n",
    "\n",
    "'''\n",
    "# Solution Of Question No.5\n",
    "\n",
    "Numbers_of_bulbs_in_a_month = 24532\n",
    "Annual_production_of_bulbs = 12*Numbers_of_bulbs_in_a_month\n",
    "print(\"Annual production of bulbs in factory: \",Annual_production_of_bulbs)"
   ]
  },
  {
   "cell_type": "code",
   "execution_count": 51,
   "id": "bbce56de",
   "metadata": {},
   "outputs": [
    {
     "name": "stdout",
     "output_type": "stream",
     "text": [
      "Total number of Rice bags: 67545\n"
     ]
    }
   ],
   "source": [
    "''' \n",
    "Question No.6- There are 145968 bags of sugar, 236487 bags of wheat and some bags of rice in a godown. \n",
    "It the total number of bags in the godown is 450000, find the number of bags of rice.\n",
    "\n",
    "'''\n",
    "# Solution Of Question No.6\n",
    "\n",
    "Sugar_bags = 145968\n",
    "Wheat_bags = 236487\n",
    "Total_number_of_bags = 450000\n",
    "Rice_bags= Total_number_of_bags - Sugar_bags - Wheat_bags\n",
    "print(\"Total number of Rice bags:\",Rice_bags )"
   ]
  },
  {
   "cell_type": "code",
   "execution_count": 52,
   "id": "2c2d9002",
   "metadata": {},
   "outputs": [
    {
     "name": "stdout",
     "output_type": "stream",
     "text": [
      "Production of toys in third week: 199188\n"
     ]
    }
   ],
   "source": [
    "''' \n",
    "Question No.7- A factory manufactured 483685 toys in three weeks. The production in first week was 146345 toys and \n",
    "in second week 138152 toys. Find the production in the third week?\n",
    "\n",
    "'''\n",
    "# Solution Of Question No.7\n",
    "\n",
    "Toys_in_three_weeks = 483685\n",
    "Toys_in_first_week = 146345\n",
    "Toys_in_second_week = 138152\n",
    "Toys_in_third_week = Toys_in_three_weeks - Toys_in_first_week -Toys_in_second_week\n",
    "print(\"Production of toys in third week:\", Toys_in_third_week)"
   ]
  },
  {
   "cell_type": "code",
   "execution_count": 53,
   "id": "f9861bc5",
   "metadata": {},
   "outputs": [
    {
     "name": "stdout",
     "output_type": "stream",
     "text": [
      "Total cost of 124 Sofa-Sets ($): 1162128\n"
     ]
    }
   ],
   "source": [
    "'''\n",
    "Question No.8- The cost of a sofa set is $9372. How much will 124 such sofa sets cost?\n",
    "\n",
    "'''\n",
    "# Solution Of Question No.8\n",
    "\n",
    "Cost_of_a_sofaset = 9372\n",
    "Total_cost = 124*Cost_of_a_sofaset\n",
    "print(\"Total cost of 124 Sofa-Sets ($):\",Total_cost)"
   ]
  },
  {
   "cell_type": "code",
   "execution_count": 55,
   "id": "09a77892",
   "metadata": {},
   "outputs": [
    {
     "name": "stdout",
     "output_type": "stream",
     "text": [
      "The equal number of sudents sits in each room: 50\n"
     ]
    }
   ],
   "source": [
    "''' \n",
    "Question No.9-  There are 86 rooms in a school. 4356 students study there. Equal number of students sits in each room?\n",
    "\n",
    "'''\n",
    "# Solution Of Question No.9\n",
    "\n",
    "total_rooms_in_school = 86\n",
    "total_student = 4356\n",
    "equal_number_of_students_in_each_rooms = total_student//total_rooms_in_school\n",
    "print(\"The equal number of sudents sits in each room:\",equal_number_of_students_in_each_rooms)"
   ]
  },
  {
   "cell_type": "code",
   "execution_count": 61,
   "id": "eb6449d5",
   "metadata": {},
   "outputs": [
    {
     "name": "stdout",
     "output_type": "stream",
     "text": [
      "Total number of buses required:  21\n"
     ]
    }
   ],
   "source": [
    "''' \n",
    "Question No.10- 1575 students of a school want to go Agra by bus. If one bus can carry 75 students, \n",
    "how many buses are required to carry all the students? \n",
    "\n",
    "'''\n",
    "# Solution Of Question No.10\n",
    "\n",
    "total_students = 1575\n",
    "one_bus_carry_students = 75\n",
    "total_bus_required = total_students/one_bus_carry_students\n",
    "print(\"Total number of buses required: \",int(total_bus_required))"
   ]
  },
  {
   "cell_type": "code",
   "execution_count": 64,
   "id": "8e518cc1",
   "metadata": {},
   "outputs": [
    {
     "name": "stdout",
     "output_type": "stream",
     "text": [
      "Cost of 35 radio sets ($): 51625\n"
     ]
    }
   ],
   "source": [
    "''' \n",
    "Question No.11- The cost of a radio set is 1475. What is the cost of 35 such radio sets?\n",
    "\n",
    "'''\n",
    "# Solution Of Question No.11\n",
    "\n",
    "cost_of_a_radio_set = 1475\n",
    "cost_of_35_radio_sets = 35*cost_of_a_radio_set\n",
    "print(\"Cost of 35 radio sets ($):\",cost_of_35_radio_sets)"
   ]
  },
  {
   "cell_type": "code",
   "execution_count": 65,
   "id": "e0f284e0",
   "metadata": {},
   "outputs": [
    {
     "name": "stdout",
     "output_type": "stream",
     "text": [
      "Total numbers of voters in Town: 134249\n"
     ]
    }
   ],
   "source": [
    "''' \n",
    "Qurestion No.12- In an election, 52496 people voted for Ron, 44929 people for Jhon and 36824 people for Mike in a town. \n",
    "If everyone voted in the town, what is the total number of voters? \n",
    "\n",
    "'''\n",
    "# Solution Of Question No.12\n",
    "\n",
    "Voted_for_Ron = 52496\n",
    "Voted_for_Jhon = 44929\n",
    "Voted_for_Mike = 36824\n",
    "Total_voters = Voted_for_Ron + Voted_for_Jhon + Voted_for_Mike\n",
    "print(\"Total numbers of voters in Town:\",Total_voters)"
   ]
  },
  {
   "cell_type": "code",
   "execution_count": 88,
   "id": "d40d804f",
   "metadata": {},
   "outputs": [
    {
     "name": "stdout",
     "output_type": "stream",
     "text": [
      "Cost of each toy ($): 135.0 \n",
      "Total amount Maria had ($): 13975\n"
     ]
    }
   ],
   "source": [
    "'''\n",
    "Question No.13-  Maria bought 96 toys priced equally for $12960. The amount of $1015 is still left with her. \n",
    "Find the cost of each toy and the amount she had.\n",
    "\n",
    "'''\n",
    "# Solution Of Question No.13\n",
    "\n",
    "Total_toys = 96\n",
    "Total_equally_priced = 12960\n",
    "Remaining_amount = 1015\n",
    "Cost_of_each_toy = Total_equally_priced/Total_toys\n",
    "Total_amount = Total_equally_priced + Remaining_amount\n",
    "print(\"Cost of each toy ($):\",Cost_of_each_toy ,'\\n' \"Total amount Maria had ($):\",Total_amount)\n"
   ]
  },
  {
   "cell_type": "code",
   "execution_count": 96,
   "id": "1707674c",
   "metadata": {},
   "outputs": [
    {
     "name": "stdout",
     "output_type": "stream",
     "text": [
      "Profit made by the company ($): 800\n"
     ]
    }
   ],
   "source": [
    "''' \n",
    "Exercise:- A travel company wants to fly a plane to the Bahamas. Flying the plane costs 5000 dollars. \n",
    "So far, 29 people have signed up for the trip. If the company charges 200 dollars per ticket, \n",
    "what is the profit made by the company? Create variables for each numeric quantity and use appropriate arithmetic operations.\n",
    "\n",
    "'''\n",
    "# Solution\n",
    "\n",
    "Flying_cost = 5000\n",
    "Number_of_people_signed = 29\n",
    "Cost_of_per_ticket = 200\n",
    "Revenue_of_company = Number_of_people_signed*Cost_of_per_ticket\n",
    "Profit_made_by_the_company = Revenue_of_company - Flying_cost\n",
    "print(\"Profit made by the company ($):\", Profit_made_by_the_company)"
   ]
  },
  {
   "cell_type": "markdown",
   "id": "6f52292d",
   "metadata": {},
   "source": [
    "### 3. Evaluating Conditions Using Python"
   ]
  },
  {
   "cell_type": "markdown",
   "id": "3b279d96",
   "metadata": {},
   "source": [
    "Apart from arithmetic operations, Python also provides several operations for comparing numbers and variables."
   ]
  },
  {
   "cell_type": "markdown",
   "id": "e097194e",
   "metadata": {},
   "source": [
    "| Operator    | Description                                                     |\n",
    "|-------------|-----------------------------------------------------------------|\n",
    "| `==`        | Check if operands are equal                                     |\n",
    "| `!=`        | Check if operands are not equal                                 |\n",
    "| `>`         | Check if left operand is greater than right operand             |\n",
    "| `<`         | Check if left operand is less than right operand                |\n",
    "| `>=`        | Check if left operand is greater than or equal to right operand |\n",
    "| `<=`        | Check if left operand is less than or equal to right operand    |\n",
    "\n",
    "The result of a comparison operation is either `True` or `False` (note the uppercase `T` and `F`). These are special keywords in Python. Let's try out some experiments with comparison operators."
   ]
  },
  {
   "cell_type": "code",
   "execution_count": 1,
   "id": "d5ea9a88",
   "metadata": {},
   "outputs": [],
   "source": [
    "Odd_number = 1\n",
    "Even_number=2\n",
    "Even_odd=0\n"
   ]
  },
  {
   "cell_type": "code",
   "execution_count": 2,
   "id": "d005c059",
   "metadata": {},
   "outputs": [
    {
     "data": {
      "text/plain": [
       "True"
      ]
     },
     "execution_count": 2,
     "metadata": {},
     "output_type": "execute_result"
    }
   ],
   "source": [
    "# Equality Check- True\n",
    "Odd_number == 1"
   ]
  },
  {
   "cell_type": "code",
   "execution_count": 3,
   "id": "75b0b7fa",
   "metadata": {},
   "outputs": [
    {
     "data": {
      "text/plain": [
       "False"
      ]
     },
     "execution_count": 3,
     "metadata": {},
     "output_type": "execute_result"
    }
   ],
   "source": [
    "# Equality check- False\n",
    "Odd_number == Even_number"
   ]
  },
  {
   "cell_type": "code",
   "execution_count": 4,
   "id": "017e78da",
   "metadata": {},
   "outputs": [
    {
     "data": {
      "text/plain": [
       "True"
      ]
     },
     "execution_count": 4,
     "metadata": {},
     "output_type": "execute_result"
    }
   ],
   "source": [
    "# Not equal check- True\n",
    "Odd_number !=2  "
   ]
  },
  {
   "cell_type": "code",
   "execution_count": 5,
   "id": "72d7b858",
   "metadata": {},
   "outputs": [
    {
     "data": {
      "text/plain": [
       "False"
      ]
     },
     "execution_count": 5,
     "metadata": {},
     "output_type": "execute_result"
    }
   ],
   "source": [
    "# Not equal check- False\n",
    "Odd_number != 1"
   ]
  },
  {
   "cell_type": "code",
   "execution_count": 6,
   "id": "f4ff2360",
   "metadata": {},
   "outputs": [
    {
     "data": {
      "text/plain": [
       "True"
      ]
     },
     "execution_count": 6,
     "metadata": {},
     "output_type": "execute_result"
    }
   ],
   "source": [
    "# Grater then check- True\n",
    "Even_number>Odd_number"
   ]
  },
  {
   "cell_type": "code",
   "execution_count": 7,
   "id": "de4ab1f8",
   "metadata": {},
   "outputs": [
    {
     "data": {
      "text/plain": [
       "False"
      ]
     },
     "execution_count": 7,
     "metadata": {},
     "output_type": "execute_result"
    }
   ],
   "source": [
    "# Grater then check- False\n",
    "Odd_number>1"
   ]
  },
  {
   "cell_type": "code",
   "execution_count": 8,
   "id": "e17d1f63",
   "metadata": {},
   "outputs": [
    {
     "data": {
      "text/plain": [
       "True"
      ]
     },
     "execution_count": 8,
     "metadata": {},
     "output_type": "execute_result"
    }
   ],
   "source": [
    "# less than check- True\n",
    "1<Even_number"
   ]
  },
  {
   "cell_type": "code",
   "execution_count": 9,
   "id": "db5c69cc",
   "metadata": {},
   "outputs": [
    {
     "data": {
      "text/plain": [
       "False"
      ]
     },
     "execution_count": 9,
     "metadata": {},
     "output_type": "execute_result"
    }
   ],
   "source": [
    "# Less than check- False\n",
    "Odd_number<1"
   ]
  },
  {
   "cell_type": "code",
   "execution_count": 10,
   "id": "4e97000b",
   "metadata": {},
   "outputs": [
    {
     "data": {
      "text/plain": [
       "True"
      ]
     },
     "execution_count": 10,
     "metadata": {},
     "output_type": "execute_result"
    }
   ],
   "source": [
    "# Grater than or equal check- True\n",
    "Odd_number>=1"
   ]
  },
  {
   "cell_type": "code",
   "execution_count": 11,
   "id": "f0fff854",
   "metadata": {},
   "outputs": [
    {
     "data": {
      "text/plain": [
       "False"
      ]
     },
     "execution_count": 11,
     "metadata": {},
     "output_type": "execute_result"
    }
   ],
   "source": [
    "# Grater than or equal check- False\n",
    "Even_number>=3"
   ]
  },
  {
   "cell_type": "code",
   "execution_count": 13,
   "id": "f2c4b0b5",
   "metadata": {},
   "outputs": [
    {
     "data": {
      "text/plain": [
       "True"
      ]
     },
     "execution_count": 13,
     "metadata": {},
     "output_type": "execute_result"
    }
   ],
   "source": [
    "# Less than or equal check- True\n",
    "1<=Odd_number"
   ]
  },
  {
   "cell_type": "code",
   "execution_count": 14,
   "id": "0a3eb729",
   "metadata": {},
   "outputs": [
    {
     "data": {
      "text/plain": [
       "False"
      ]
     },
     "execution_count": 14,
     "metadata": {},
     "output_type": "execute_result"
    }
   ],
   "source": [
    "# Less than or equal check- False\n",
    "Even_number<=1"
   ]
  },
  {
   "cell_type": "markdown",
   "id": "99fa7532",
   "metadata": {},
   "source": [
    "##### **Note ;-**  Just like arithmetic operations, the result of a comparison operation can also be stored in a variable."
   ]
  },
  {
   "cell_type": "code",
   "execution_count": 15,
   "id": "bc92bdfc",
   "metadata": {},
   "outputs": [
    {
     "name": "stdout",
     "output_type": "stream",
     "text": [
      "Is travelling expensive? -  False\n"
     ]
    }
   ],
   "source": [
    "Cost_of_per_ticket=200\n",
    "is_travelling_expensive=Cost_of_per_ticket>=250\n",
    "print(\"Is travelling expensive? - \", is_travelling_expensive)"
   ]
  },
  {
   "cell_type": "markdown",
   "id": "95231f80",
   "metadata": {},
   "source": [
    "### 4. Combining Conditions With Logical Operators"
   ]
  },
  {
   "cell_type": "markdown",
   "id": "51aee3aa",
   "metadata": {},
   "source": [
    "The logical operators `and`, `or`, and `not` operate upon conditions and `True` and `False` values (also known as *booleans*). `and` and `or` operate on two conditions, whereas `not` operates on single condition.  \n"
   ]
  },
  {
   "cell_type": "markdown",
   "id": "02f5db3e",
   "metadata": {},
   "source": [
    "#### And operator :-  \n",
    "The `and` operator returns `True` when both the conditions evaluate to `True`. Otherwise, it returns `False` see the following table-\n",
    "\n",
    "|   `a`   |    `b`   | `a and b` |\n",
    "|- - - - -| - - - - -| - - - - - |\n",
    "|  `True  |  `True`  |   `True`  |\n",
    "| `True`  |  `False` |  `False`  |\n",
    "|  `False`|  `True`  |  `False`  |\n",
    "|  `False`|  `False` |  `False`  |"
   ]
  },
  {
   "cell_type": "code",
   "execution_count": 17,
   "id": "f4bd88da",
   "metadata": {},
   "outputs": [
    {
     "data": {
      "text/plain": [
       "1"
      ]
     },
     "execution_count": 17,
     "metadata": {},
     "output_type": "execute_result"
    }
   ],
   "source": [
    "Odd_number"
   ]
  },
  {
   "cell_type": "code",
   "execution_count": 18,
   "id": "26b76fd1",
   "metadata": {},
   "outputs": [
    {
     "data": {
      "text/plain": [
       "2"
      ]
     },
     "execution_count": 18,
     "metadata": {},
     "output_type": "execute_result"
    }
   ],
   "source": [
    "Even_number"
   ]
  },
  {
   "cell_type": "code",
   "execution_count": 21,
   "id": "31e1af94",
   "metadata": {},
   "outputs": [
    {
     "data": {
      "text/plain": [
       "0"
      ]
     },
     "execution_count": 21,
     "metadata": {},
     "output_type": "execute_result"
    }
   ],
   "source": [
    "Even_odd\n"
   ]
  },
  {
   "cell_type": "code",
   "execution_count": 24,
   "id": "b4b23d9d",
   "metadata": {},
   "outputs": [
    {
     "data": {
      "text/plain": [
       "True"
      ]
     },
     "execution_count": 24,
     "metadata": {},
     "output_type": "execute_result"
    }
   ],
   "source": [
    "# True `and` True = True\n",
    "Even_odd < Odd_number and Odd_number <= Even_number"
   ]
  },
  {
   "cell_type": "code",
   "execution_count": 26,
   "id": "518fd148",
   "metadata": {},
   "outputs": [
    {
     "data": {
      "text/plain": [
       "False"
      ]
     },
     "execution_count": 26,
     "metadata": {},
     "output_type": "execute_result"
    }
   ],
   "source": [
    "# True `and` False = False\n",
    "Odd_number>=1 and Odd_number>=Even_number\n"
   ]
  },
  {
   "cell_type": "code",
   "execution_count": 27,
   "id": "a744eb4b",
   "metadata": {},
   "outputs": [
    {
     "data": {
      "text/plain": [
       "False"
      ]
     },
     "execution_count": 27,
     "metadata": {},
     "output_type": "execute_result"
    }
   ],
   "source": [
    "# False `and` True = False\n",
    "Even_number<1 and Even_number>=1"
   ]
  },
  {
   "cell_type": "code",
   "execution_count": 28,
   "id": "4b4cac17",
   "metadata": {},
   "outputs": [
    {
     "data": {
      "text/plain": [
       "False"
      ]
     },
     "execution_count": 28,
     "metadata": {},
     "output_type": "execute_result"
    }
   ],
   "source": [
    "# False `and` False = False\n",
    "Even_number<= Odd_number and Odd_number<=Even_Odd"
   ]
  },
  {
   "cell_type": "markdown",
   "id": "65899817",
   "metadata": {},
   "source": [
    "#### Or Operator ;-  \n",
    "The `or` operator returns `True` if at least one of the conditions evaluate to `True`. It returns `False` only if both conditions are `False`.\n",
    "\n",
    "|   `a`   |   `b`   |  `a or b`  |\n",
    "| - - - - |- - - - -|- - - - - - |\n",
    "| `True`  | `True`  |   `True`   |\n",
    "| `True`  | `False` |  `True`    |\n",
    "| `False  |  `True` |  `True`    |\n",
    "| `False` | `False` | `False`    |"
   ]
  },
  {
   "cell_type": "code",
   "execution_count": 29,
   "id": "2985ade9",
   "metadata": {},
   "outputs": [],
   "source": [
    "Odd_number= 5\n",
    "Even_number= 10\n",
    "Odd_Even= 0"
   ]
  },
  {
   "cell_type": "code",
   "execution_count": 30,
   "id": "d50f8ba7",
   "metadata": {},
   "outputs": [
    {
     "data": {
      "text/plain": [
       "True"
      ]
     },
     "execution_count": 30,
     "metadata": {},
     "output_type": "execute_result"
    }
   ],
   "source": [
    "# True `or` True = True\n",
    "Odd_number<Even_number or Odd_Even<Even_number"
   ]
  },
  {
   "cell_type": "code",
   "execution_count": 31,
   "id": "0858a11c",
   "metadata": {},
   "outputs": [
    {
     "data": {
      "text/plain": [
       "True"
      ]
     },
     "execution_count": 31,
     "metadata": {},
     "output_type": "execute_result"
    }
   ],
   "source": [
    "# True `or` False = True\n",
    "Even_number<=100 or Odd_number>=Even_number"
   ]
  },
  {
   "cell_type": "code",
   "execution_count": 32,
   "id": "cb76b271",
   "metadata": {},
   "outputs": [
    {
     "data": {
      "text/plain": [
       "True"
      ]
     },
     "execution_count": 32,
     "metadata": {},
     "output_type": "execute_result"
    }
   ],
   "source": [
    "# False `or` True = True\n",
    "Odd_Even>=Odd_number or Odd_number>Odd_Even"
   ]
  },
  {
   "cell_type": "code",
   "execution_count": 33,
   "id": "3cc0016f",
   "metadata": {},
   "outputs": [
    {
     "data": {
      "text/plain": [
       "False"
      ]
     },
     "execution_count": 33,
     "metadata": {},
     "output_type": "execute_result"
    }
   ],
   "source": [
    "# False `or` False = False\n",
    "Even_number<=Odd_number or Odd_Even>=Even_number"
   ]
  },
  {
   "cell_type": "markdown",
   "id": "d4d1f339",
   "metadata": {},
   "source": [
    "#### Not Operator :-  \n",
    "The `not` operator returns `False` if a condition is `True` and `True` if the condition is `False`.\n",
    "\n",
    "|  `a`  | `not a` |\n",
    "|- - - -|- - - - -|\n",
    "|`True` | `False` |\n",
    "|`False`| `True`  |"
   ]
  },
  {
   "cell_type": "code",
   "execution_count": 34,
   "id": "bd6bb3f9",
   "metadata": {},
   "outputs": [],
   "source": [
    "Odd_number=3\n",
    "Even_number=6\n",
    "Odd_Even=0"
   ]
  },
  {
   "cell_type": "code",
   "execution_count": 35,
   "id": "f167df6c",
   "metadata": {},
   "outputs": [
    {
     "data": {
      "text/plain": [
       "False"
      ]
     },
     "execution_count": 35,
     "metadata": {},
     "output_type": "execute_result"
    }
   ],
   "source": [
    "# True `not` True = False \n",
    "not Odd_number==3"
   ]
  },
  {
   "cell_type": "code",
   "execution_count": 36,
   "id": "8075e9a0",
   "metadata": {},
   "outputs": [
    {
     "data": {
      "text/plain": [
       "True"
      ]
     },
     "execution_count": 36,
     "metadata": {},
     "output_type": "execute_result"
    }
   ],
   "source": [
    "# False `not` False = True\n",
    "not Odd_number==6"
   ]
  },
  {
   "cell_type": "code",
   "execution_count": 37,
   "id": "14bd4d00",
   "metadata": {},
   "outputs": [
    {
     "data": {
      "text/plain": [
       "False"
      ]
     },
     "execution_count": 37,
     "metadata": {},
     "output_type": "execute_result"
    }
   ],
   "source": [
    "# Direct Operator- `not` True = False\n",
    "not True"
   ]
  },
  {
   "cell_type": "code",
   "execution_count": 38,
   "id": "65bf4d10",
   "metadata": {},
   "outputs": [
    {
     "data": {
      "text/plain": [
       "True"
      ]
     },
     "execution_count": 38,
     "metadata": {},
     "output_type": "execute_result"
    }
   ],
   "source": [
    "# Direct Operator- `not` False = True\n",
    "\n",
    "not False"
   ]
  },
  {
   "cell_type": "markdown",
   "id": "edc1fa33",
   "metadata": {},
   "source": [
    "#### Combination Of Logical Operators"
   ]
  },
  {
   "cell_type": "markdown",
   "id": "92ee837b",
   "metadata": {},
   "source": [
    "Logical operators can be combined to form complex conditions. Use round brackets or parentheses `(` and `)` to indicate the order in which logical operators should be applied."
   ]
  },
  {
   "cell_type": "code",
   "execution_count": 39,
   "id": "e4fe28b8",
   "metadata": {},
   "outputs": [
    {
     "data": {
      "text/plain": [
       "True"
      ]
     },
     "execution_count": 39,
     "metadata": {},
     "output_type": "execute_result"
    }
   ],
   "source": [
    "(5<10 and 10>1) or not(Odd_number>=Odd_Even and Odd_Even>Even_number)"
   ]
  },
  {
   "cell_type": "code",
   "execution_count": 40,
   "id": "f776d3a0",
   "metadata": {},
   "outputs": [
    {
     "data": {
      "text/plain": [
       "False"
      ]
     },
     "execution_count": 40,
     "metadata": {},
     "output_type": "execute_result"
    }
   ],
   "source": [
    "not(True and 0>1) and (False or 1<0)"
   ]
  },
  {
   "cell_type": "code",
   "execution_count": 44,
   "id": "e083578b",
   "metadata": {},
   "outputs": [
    {
     "data": {
      "text/plain": [
       "True"
      ]
     },
     "execution_count": 44,
     "metadata": {},
     "output_type": "execute_result"
    }
   ],
   "source": [
    "not (True and False) and (not False or True)"
   ]
  },
  {
   "cell_type": "markdown",
   "id": "996aa083",
   "metadata": {},
   "source": [
    "### 5. Adding Text Style using Markdown"
   ]
  },
  {
   "cell_type": "markdown",
   "id": "236c0fbe",
   "metadata": {},
   "source": [
    "Adding explanation using text cells (like this one) is a great way to make your notebook informative for the readers. It also useful if you need to refer back to it in the future. You can *Double Click* on the text cell within *Jupyter* to edit it. In the edit mode, you'll notice that the text looks slightly different (for instance, the heading has `##` prefix). This text is written using `Markdown`, a simple way to add styles to your text. Execute this cell to see the output without the special characters. You can switch back and forth between the source and the output to apply a specific style."
   ]
  },
  {
   "cell_type": "markdown",
   "id": "ad1fcfb4",
   "metadata": {},
   "source": [
    "**1. For instance, you can use one or more `#` characters at the stat of line to create headers of different sizes:**"
   ]
  },
  {
   "cell_type": "markdown",
   "id": "cacce54b",
   "metadata": {},
   "source": [
    "# Header 1"
   ]
  },
  {
   "cell_type": "markdown",
   "id": "e6abadf0",
   "metadata": {},
   "source": [
    "## Header 2"
   ]
  },
  {
   "cell_type": "markdown",
   "id": "255d6912",
   "metadata": {},
   "source": [
    "### Header 3"
   ]
  },
  {
   "cell_type": "markdown",
   "id": "c02db298",
   "metadata": {},
   "source": [
    "#### Header 4"
   ]
  },
  {
   "cell_type": "markdown",
   "id": "7b6847b8",
   "metadata": {},
   "source": [
    "**2. To create a bulleted `.` or numbered list `1,2,3...`, simply start a line with `*` or `1.` .**"
   ]
  },
  {
   "cell_type": "markdown",
   "id": "613b3b5f",
   "metadata": {},
   "source": [
    "A bulleted list:"
   ]
  },
  {
   "cell_type": "markdown",
   "id": "a6db0c6a",
   "metadata": {},
   "source": [
    "* Item 1\n",
    "* Item 2\n",
    "* Item 3"
   ]
  },
  {
   "cell_type": "markdown",
   "id": "ce921f32",
   "metadata": {},
   "source": [
    "A numbered list:"
   ]
  },
  {
   "cell_type": "markdown",
   "id": "13731327",
   "metadata": {},
   "source": [
    "1. Item A\n",
    "2. Item B\n",
    "3. Item C"
   ]
  },
  {
   "cell_type": "markdown",
   "id": "4f7316f8",
   "metadata": {},
   "source": [
    "**3. You can make some text bold using `**`**"
   ]
  },
  {
   "cell_type": "markdown",
   "id": "a03b9ddf",
   "metadata": {},
   "source": [
    "**Example :-  Some bold texts.**"
   ]
  },
  {
   "cell_type": "markdown",
   "id": "612bd57f",
   "metadata": {},
   "source": [
    "**4. You can make texts italic using `*`**"
   ]
  },
  {
   "cell_type": "markdown",
   "id": "c0067842",
   "metadata": {},
   "source": [
    "*Example :-  Some italic text.*"
   ]
  },
  {
   "cell_type": "markdown",
   "id": "d24d3d69",
   "metadata": {},
   "source": [
    "**5. You can also create links using this sample**"
   ]
  },
  {
   "cell_type": "markdown",
   "id": "24e272f1",
   "metadata": {},
   "source": [
    "e.g.:- \n",
    "    [Brainwork - The Monkey Mind](https://www.youtube.com/watch?v=blwB2DLnjEs)"
   ]
  },
  {
   "cell_type": "markdown",
   "id": "e173ada0",
   "metadata": {},
   "source": [
    "**6. You can easily embedded *Image* too**"
   ]
  },
  {
   "cell_type": "markdown",
   "id": "cbc0566a",
   "metadata": {},
   "source": [
    "![](http://codeskulptor-demos.commondatastorage.googleapis.com/GalaxyInvaders/back07.jpg)"
   ]
  },
  {
   "cell_type": "markdown",
   "id": "f4881961",
   "metadata": {},
   "source": [
    "**7. Another really nice feature of *Markdown* is the ability to include blocks of code. Note that code blocks inside *Markdown* cells cannot be executed.**"
   ]
  },
  {
   "cell_type": "markdown",
   "id": "d2e032fb",
   "metadata": {},
   "source": [
    "```\n",
    "# Perform the required calculations\n",
    "profit_per_bag = cost_of_ice_bag * profit_margin\n",
    "total_profit = number_of_bags * profit_per_bag\n",
    "\n",
    "# Display the result\n",
    "print(\"The grocery store makes a total profit of $\", total_profit)\n",
    "\n",
    "```\n",
    "\n",
    "You can learn the full syntax of Markdown here: https://learnxinyminutes.com/docs/markdown/"
   ]
  },
  {
   "cell_type": "markdown",
   "id": "a90e0fcf",
   "metadata": {},
   "source": [
    "### Save and Upload your notebook"
   ]
  },
  {
   "cell_type": "markdown",
   "id": "a39e39fd",
   "metadata": {},
   "source": [
    "Whether you're running Jupyter notebook online or on computer, it's essential to save your work from time to time. You can continue working on a saved notebook later or share it with friends and colleagues to let them execute your code. Jovion Offers an easy way of saving and sharing your Jupyter notebooks online with following steps-"
   ]
  },
  {
   "cell_type": "markdown",
   "id": "79f5d248",
   "metadata": {},
   "source": [
    "**Step-1**"
   ]
  },
  {
   "cell_type": "markdown",
   "id": "0b6b7fa7",
   "metadata": {},
   "source": [
    "You need to install the Jovian python library if it isn't already installed"
   ]
  },
  {
   "cell_type": "code",
   "execution_count": 51,
   "id": "1ab872f7",
   "metadata": {},
   "outputs": [],
   "source": [
    "!pip install jovian --upgrade --quiet"
   ]
  },
  {
   "cell_type": "markdown",
   "id": "48ccc694",
   "metadata": {},
   "source": [
    "**Step-2**"
   ]
  },
  {
   "cell_type": "markdown",
   "id": "c9b1d5ea",
   "metadata": {},
   "source": [
    "The library needs to be imported"
   ]
  },
  {
   "cell_type": "code",
   "execution_count": 53,
   "id": "0120cbee",
   "metadata": {},
   "outputs": [],
   "source": [
    "import jovian"
   ]
  },
  {
   "cell_type": "markdown",
   "id": "e9705238",
   "metadata": {},
   "source": [
    "**Step-3**"
   ]
  },
  {
   "cell_type": "markdown",
   "id": "2d148dfa",
   "metadata": {},
   "source": [
    "Finally, you can run jovian.commit to capture and upload snapshot of the notebook."
   ]
  },
  {
   "cell_type": "code",
   "execution_count": null,
   "id": "cf34240f",
   "metadata": {},
   "outputs": [
    {
     "data": {
      "application/javascript": [
       "window.require && require([\"base/js/namespace\"],function(Jupyter){Jupyter.notebook.save_checkpoint()})"
      ],
      "text/plain": [
       "<IPython.core.display.Javascript object>"
      ]
     },
     "metadata": {},
     "output_type": "display_data"
    }
   ],
   "source": [
    "jovian.commit(project='Chapter-1')"
   ]
  },
  {
   "cell_type": "markdown",
   "id": "d01fb0d9",
   "metadata": {},
   "source": [
    "**Step-4**"
   ]
  },
  {
   "cell_type": "markdown",
   "id": "2dc1309c",
   "metadata": {},
   "source": [
    "The first time you run `jovian.commit`, you'll be asked to provide an _API Key_ to securely upload the notebook to your Jovian account. You can get the API key from your [Jovian profile page](https://jovian.ai) after logging in / signing up.\n",
    "\n",
    "<img src=\"https://i.imgur.com/taLLUVd.png\" width=\"480\">\n",
    "\n",
    "`jovian.commit` uploads the notebook to your Jovian account, captures the Python environment, and creates a shareable link for your notebook, as shown above. You can use this link to share your work and let anyone (including you) run your notebooks and reproduce your work. Jovian also includes a powerful commenting interface, so you can discuss & comment on specific parts of your notebook:\n",
    "\n",
    "![https://jovian.ai/docs/user-guide/upload.html](https://i.imgur.com/kxx3pqM.png)\n",
    "\n",
    "You can do a lot more with the `jovian` Python library. Visit the documentation site to learn more: https://jovian.ai/docs/index.html"
   ]
  },
  {
   "cell_type": "markdown",
   "id": "52d8abc0",
   "metadata": {},
   "source": [
    "## Further Reading and References\n",
    "\n",
    "Following are some resources where you can learn about more arithmetic, conditional and logical operations in Python:\n",
    "\n",
    "* Python Tutorial at W3Schools: https://www.w3schools.com/python/\n",
    "* Practical Python Programming: https://dabeaz-course.github.io/practical-python/Notes/Contents.html\n",
    "* Python official documentation: https://docs.python.org/3/tutorial/index.html\n",
    "\n",
    "Now that you have taken your first steps with Python, you are ready to move on to the next tutorial: [\"A Quick Tour of Variables and Data Types in Python\"](https://jovian.ml/aakashns/python-variables-and-data-types)."
   ]
  },
  {
   "cell_type": "markdown",
   "id": "dfaa0090",
   "metadata": {},
   "source": [
    "## Question and Answer for Revision\n",
    "\n",
    "Try answering the following questions to test your understanding of the topics covered in this notebook:\n",
    "\n",
    "**1. What is a Jupyter notebook?**   \n",
    "**Ans :-**  Jupyter notebook is a text editor for python. It fulfills all the needs of Python coders.\n",
    "\n",
    "**2. How do you add a new code cell below an existing cell?**  \n",
    "**Ans :-** `Esc+B`  or click on `Insert` then choose `insert cell below`\n",
    "\n",
    "**3. How do you add a new Markdown cell below an existing cell?**  \n",
    "**Ans :-** `Esc+B` and `Esc+M` or click on `insert` then choose `insert heading below`  \n",
    "\n",
    "**4. How do you convert a code cell to a Markdown cell or vice versa?**  \n",
    "**Ans :-** Code cell to Markdown- `Esc+M` & Markdown to code cell `Esc+C`  \n",
    "\n",
    "**5. How do you execute a code cell within Jupyter?**  \n",
    "**Ans :-** `Shift + Enter` or click on `Run`  \n",
    "\n",
    "**6. What the different arithmetic operations supported in Python?**  \n",
    "**Ans :-** Arithmetic operations - `+,-,*,/,%`(reminder),`//`(interger part), `**`(power form)\n",
    "\n",
    "**7. How do you perform arithmetic operations using Python?**  \n",
    "**Ans :-** We directlly perform the arithmetic operations in code cells.  \n",
    "\n",
    "**8. What is the difference between the `/` and the `//` operators?**  \n",
    "**Ans :-** `/`- used for division & `//`- used for only integer part of a division.  \n",
    "\n",
    "**9. What is the difference between the `*` and the `**` operators?**  \n",
    "**Ans :-**  `*` -used for multiplications & `**` -used for exponent form or power form  \n",
    "\n",
    "**10. What is the order of precedence for arithmetic operators in Python?**  \n",
    "**Ans :-** Python Operators Precedence Rule – **PEMDAS**  \n",
    "You might have heard about the BODMAS rule in your school’s mathematics class. Python also uses a similar type of rule known as PEMDAS.\n",
    "\n",
    "**P – Parentheses  \n",
    "E – Exponentiation  \n",
    "M – Multiplication  \n",
    "D – Division  \n",
    "A – Addition  \n",
    "S – Subtraction**\n",
    "\n",
    "The precedence of operators is listed from High to low. To remember the abbreviations, we have a funny mnemonic  *“Please Excuse My Dear Aunt Sally”*.  \n",
    "\n",
    "**11. How do you specify the order in which arithmetic operations are performed in an expression involving multiple operators?**  \n",
    "**Ans :-** Using **PEMDAS** method.  \n",
    "\n",
    "**12. How do you solve a multi-step arithmetic word problem using Python?**  \n",
    "**Ans :-** We use variables to solve the multi-level arithmetic word problem in Python.  \n",
    "\n",
    "**13. What are variables? Why are they useful?**\n",
    "**Ans :-** variables are like container in which we store data. It's use because we can use it multiple times once it defined.  \n",
    "\n",
    "**14. How do you create a variable in Python?**  \n",
    "**Ans :-** We create variables using `alphabets` (Upper & Lower both case), `_`, and `numbers` in a fixed manner.  \n",
    "\n",
    "**15. What is the assignment operator in Python?**  \n",
    "**Ans :-** `=` is said to be assignment operator because it assign the value to the variables.  \n",
    "\n",
    "**16. What are the rules for naming a variable in Python?**  \n",
    "**Ans :-** We create variables using `alphabets` (Upper & Lower both case), `_`, and `numbers` in required combinations. Variables are case sensitive so be careful. Don't use `Special characters, Spaces, predefined variables` etc..  \n",
    "\n",
    "**17. How do you view the value of a variable?**  \n",
    "**Ans :-** Just type the name of variable or use `print` function.  \n",
    "\n",
    "**18. How do you store the result of an arithmetic expression in a variable?**  \n",
    "**Ans :-** We just define a variable name with assignment operator to store the value of an arithmetic expression.  \n",
    "\n",
    "**19. What happens if you try to access a variable that has not been defined?**  \n",
    "**Ans :-** It'll show the `name error` ie.variable is not define.  \n",
    "\n",
    "**20. How do you display messages in Python?**  \n",
    "**Ans :-** using Markdown form or comments command (`#` or `'''_ _ _'''`).  \n",
    "\n",
    "**21. What type of inputs can the print function accept?** \n",
    "**Ans :-** The `print` function takes only text, variables,and expressions types inputs.  \n",
    "\n",
    "**22. What are code comments? How are they useful?**  \n",
    "**Ans :-** Code comments are define by single line- `#` or multi-line- `'''_ _ _'''`. It's useful for the readers and yourself to understand the code.  \n",
    "\n",
    "**23. What are the different ways of creating comments in Python code?**  \n",
    "**Ans :-** There are two way to create comments. First- single line comment using `#` before the comment text and Second- multi-line comment using `'''` before and after the comment texts.  \n",
    "\n",
    "**24. What are the different comparison operations supported in Python?**  \n",
    "**Ans :-** The different comparison operators in Python are - `<,>,==,<=,>=`.  \n",
    "\n",
    "**25. What is the result of a comparison operation?**\n",
    "**Ans :-** There is only two results either `True` or `False`.  \n",
    "\n",
    "**26. What is the difference between `=` and `==` in Python?**  \n",
    "**Ans :-** `=` is an assignment operator (to assign a value) where as `==` is a comparison operator (to compare the value).  \n",
    "\n",
    "**27. What are the logical operators supported in Python?**  \n",
    "**Ans :-** Mainly three logical operators exits in python - `and, or, not`.  \n",
    "\n",
    "**28. What is the difference between the `and` and `or` operators?**  \n",
    "**Ans :-** when both the conditions are True then`and`operator gives- `True` Otherwise it gives `False`.  \n",
    "When any of one condition is `True` then `or` gives -`True`. It gives `False` iff both condition are `False`.  \n",
    "\n",
    "**29. Can you use comparison and logical operators in the same expression?**  \n",
    "**Ans :-** yes, we can use as many different operations as we want in a prescribed manner.  \n",
    "\n",
    "**30. What is the purpose of using parentheses in arithmetic or logical expressions?**  \n",
    "**Ans :-** Parentheses are used to define the sequence of operations as we want to perform. It's very useful for long expressions.  \n",
    "\n",
    "**31. What is Markdown? Why is it useful?**  \n",
    "**Ans :-** Markdown is a environment in which we write, edit and describe the text formate or code formate. It's very useful for coders to understand the program .  \n",
    "\n",
    "**32. How do you create headings of different sizes using Markdown?**  \n",
    "**Ans :-** We use `# + Space`to create the heading. We increase the number of `#'s` to decrease th size of heading.  \n",
    "\n",
    "**33. How do you create bulleted and numbered lists using Markdown?**  \n",
    "**Ans :-** We use `*` to create bulleted list and `1., 2., 3.` to create numbered lists.  \n",
    "\n",
    "**34. How do you create bold or italic text using Markdown?**  \n",
    "**Ans :-** We use `**` for **bold Text** whereas `*` for *italic text*.  \n",
    "\n",
    "**35. How do you include links & images within Markdown cells?**  \n",
    "**Ans :-** To include link we use- `[link_name](link)`.  \n",
    "To include images we use- `![](link_of_image)`.  \n",
    "\n",
    "**36. How do you include code blocks within Markdown cells?**  \n",
    "**Ans :-** We just use `''' and #` to include code blocks but it doesn't executed.  \n",
    "\n",
    "**37. Is it possible to execute the code blocks within Markdown cells?**  \n",
    "**Ans :-** No.  \n",
    "\n",
    "**38. How do you upload and share your Jupyter notebook online using Jovian?**  \n",
    "**Ans :-** First we install the Jovian python library - then we import the Jovian Library- then we run the command `jovion.commit(name_of_notebool)` to upload or share - then we need to enter the API's key for the first time after that no need.  \n",
    "\n",
    "**39. What is the purpose of the API key requested by jovian.commit ? Where can you find the API key?**  \n",
    "**Ans :-** The purpose of API key is to secure and save the notebook at `jovian.ai`. We can find the API key click on the link we get when we use the `jovian.commit` command ie. in aakashns profile.  \n",
    "\n",
    "**40. Where can you learn about arithmetic, conditional and logical operations in Python?**  \n",
    "**Ans :-** There are many but mainly-  \n",
    "* Python tutorial of W3school\n",
    "* Python documentation\n",
    "* practical python programming"
   ]
  },
  {
   "cell_type": "code",
   "execution_count": null,
   "id": "42331d5f",
   "metadata": {},
   "outputs": [],
   "source": []
  }
 ],
 "metadata": {
  "kernelspec": {
   "display_name": "Python 3 (ipykernel)",
   "language": "python",
   "name": "python3"
  },
  "language_info": {
   "codemirror_mode": {
    "name": "ipython",
    "version": 3
   },
   "file_extension": ".py",
   "mimetype": "text/x-python",
   "name": "python",
   "nbconvert_exporter": "python",
   "pygments_lexer": "ipython3",
   "version": "3.9.7"
  }
 },
 "nbformat": 4,
 "nbformat_minor": 5
}
