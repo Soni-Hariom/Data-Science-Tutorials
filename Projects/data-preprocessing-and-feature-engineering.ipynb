{
 "cells": [
  {
   "cell_type": "markdown",
   "metadata": {},
   "source": [
    "# Data Preprocessing & Feature Engineering"
   ]
  },
  {
   "cell_type": "markdown",
   "metadata": {},
   "source": [
    "<img src='https://miro.medium.com/max/1200/0*uoJhp9fB0xlgfLN7.png' width='700' height='600'>"
   ]
  },
  {
   "cell_type": "markdown",
   "metadata": {},
   "source": [
    "# CHAPTER 1: Data Preprocessing"
   ]
  },
  {
   "cell_type": "markdown",
   "metadata": {},
   "source": [
    "## CONTENTS:\n",
    "* What is data preprocessing?\n",
    "* Why is data preprocessing important?\n",
    "* Techniques?\n",
    "* Data Cleaning\n",
    "* Data Integration\n",
    "* Data Reduction\n",
    "* Data Transformation\n",
    "* Data Discretization"
   ]
  },
  {
   "cell_type": "markdown",
   "metadata": {},
   "source": [
    "## What is data preprocessing?\n",
    "Data preprocessing is made with two words: Data & Preprocessing. Let's see it,\n",
    "* **Data:**\n",
    "    * Text\n",
    "    * Image\n",
    "    * Video\n",
    "    * Audio\n",
    "Now these are the different forms of data. Generally, data are not clean so we need to process these data to clean them.  \n",
    "  \n",
    "  \n",
    "* **Data Preprocessing:** It is a process to convert the raw data into meaningful data using different techniques.\n"
   ]
  },
  {
   "cell_type": "markdown",
   "metadata": {},
   "source": [
    "## Why is data preprocessing important?\n",
    "* Data in the real world is dirty. Let's see the types of dirtiness in data\n",
    "    * Incomplete\n",
    "    * Noisy\n",
    "    * Inconsistent\n",
    "    * Duplicate\n",
    "\n",
    "\n",
    "* Now see what are some features of quality data:\n",
    "    * Accuracy\n",
    "    * Completeness\n",
    "    * Believability\n",
    "    * Interpretability\n",
    "     \n",
    "* Machine Learning algorithm follow the rules (*learn like kids*):  \n",
    "    **GIGO** = Garbage in Garbage Out"
   ]
  },
  {
   "cell_type": "markdown",
   "metadata": {},
   "source": [
    "## Techniques in data preprocessing:\n",
    "* Major steps in data preprocessing are:  \n",
    "    1. Data Cleaning  \n",
    "    2. Data Integration  \n",
    "    3. Data Reduction  \n",
    "    4. Data Transformation  \n",
    "    5. Data Discretization  "
   ]
  },
  {
   "cell_type": "markdown",
   "metadata": {},
   "source": [
    "### 1. Data Cleaning:\n",
    "It means fill in missing values, smooth out noise while identifying outliers, and correct inconsistencies in the data.\n",
    "\n",
    "<img src = 'https://startwithdata.co.uk/wp-content/uploads/2021/07/Screenshot-2021-07-28-at-10.08.54-1024x872.png' width=\"200\" height=\"200\">"
   ]
  },
  {
   "cell_type": "markdown",
   "metadata": {},
   "source": [
    "### 2. Data Integration:\n",
    "It is a technique to merges data from multiple sources into a coherent data store, such as a data warehouse.\n",
    "\n",
    "<img src = 'https://lh3.googleusercontent.com/kr1G5oTGXBGVCtKWy1oFduVs0eTlzG1US4vZdPaJOiyTZ_ltkgxXJVki6dg06odv_j3Hkj9U1iIHw6biURmcQbARduJXTpH42S8nPMk2uvETQV_qFSnbHdNbtxEazYcN63prNz6h=s0' width=\"300\" height=\"300\">"
   ]
  },
  {
   "cell_type": "markdown",
   "metadata": {},
   "source": [
    "### 3. Data Reduction:\n",
    "It is a technique use to reduce the data size by aggregating, eliminating redundant features, or clustering   \n",
    "\n",
    "\n",
    "<img src = 'https://www.cohesity.com/wp-content/new_media/2020/09/datareduction_banner-1.png' width=\"500\" height=\"500\">"
   ]
  },
  {
   "cell_type": "markdown",
   "metadata": {},
   "source": [
    "### 4. Data Transformation:\n",
    "It means data are transformed or consolidated into forms appropriate for ML model training, such as normalization, may be applied where data are scaled to fall within a smaller range like 0.0 to 1.0 or we have do any of the following:\n",
    "* Aggregation\n",
    "* Feature type conversion\n",
    "* Normalization\n",
    "* Attribute/feature construction\n",
    "\n",
    "<img src = 'https://www.tibco.com/sites/tibco/files/media_entity/2022-04/data-transformation-diagram.svg' width=\"500\" height=\"500\">"
   ]
  },
  {
   "cell_type": "markdown",
   "metadata": {},
   "source": [
    "### 5. Data Discretization:\n",
    "It is a technique t transforms numeric data by mapping values to interval or concept labels.\n",
    "* It can be used to reduce the number of values for a given continuous attribute by dividing the range of the attribute into intervals.\n",
    "* Discretization technique includes:\n",
    "    * Binning\n",
    "    * Histogram Analysis\n",
    "    * Cluster Analysis\n",
    "    * Decision-Tree Analysis\n",
    "    * Correlation Analysis\n",
    "    \n",
    "<img src='https://revolution-computing.typepad.com/.a/6a010534b1db25970b017c3755470d970b-500wi' width=\"450\" height=\"450\">"
   ]
  },
  {
   "cell_type": "markdown",
   "metadata": {},
   "source": [
    "# CHAPTER 2: Feature Engineering"
   ]
  },
  {
   "cell_type": "markdown",
   "metadata": {},
   "source": [
    "## CONTENTS:\n",
    "* What is data feature engineering?\n",
    "* What is the importance of feature engineering?\n",
    "* Process"
   ]
  },
  {
   "cell_type": "markdown",
   "metadata": {},
   "source": [
    "## What is feature engineering?\n",
    "Firstly, let's see what is meaning of the both words:\n",
    "* **Feature:** It is an attribute or property shared by all the independent units on which analysis or prediction is to be done.\n",
    "<img src='https://d2slcw3kip6qmk.cloudfront.net/marketing/blog/2019Q4/feature-driven-development/feature-driven-development-header.png' width='300' height='300'>\n",
    "  \n",
    "  \n",
    "* **Engineering:** Invention to solve the problems called engineering.\n",
    "<img src = 'https://www.creativefabrica.com/wp-content/uploads/2020/12/01/computer-engineering-concept-Graphics-6940051-1-1-580x386.jpg' width='300' height='300'>\n",
    "  \n",
    "\n",
    "* **Feature Engineering:** It is process to create feature/extract the feature from existing features by domain knowledge to increase the performance of machine learning model.\n",
    "<img src='https://cdn.analyticsvidhya.com/wp-content/uploads/2021/05/64590automated-feature-engineering.png' width='300' height='300'>"
   ]
  },
  {
   "cell_type": "markdown",
   "metadata": {},
   "source": [
    "## Why is Feature Engineering Important?\n",
    "* Quality data always help to improve the accuracy and performance of machine learning model.\n",
    "* Machine learning algorithm follow the rule (learn like kids)\n",
    "    * **Rule:**  ```GIGO = Garbage in Garbage out```"
   ]
  },
  {
   "cell_type": "markdown",
   "metadata": {},
   "source": [
    "## What are the process of Feature Engineering?\n",
    "Major process of Feature Engineering are as follow:\n",
    "* Brainstorming or testing features\n",
    "* Deciding what features to create\n",
    "* Creating features\n",
    "* Checking how the features work with your model\n",
    "* Improving your features if needed\n",
    "* Go back to brainstorming/creating more features until the work is done"
   ]
  },
  {
   "cell_type": "markdown",
   "metadata": {},
   "source": [
    "### Example:\n",
    "\n",
    "| **DateTime**             | *Hour* | *Day* | *Month* | *Year* | *Day of week* |\n",
    "|--------------------------|--------|-------|---------|--------|---------------|\n",
    "| **07-Apr-2020 12.00.00** | 12     |   7   |   4     |   2020 |    2          | \n",
    "| **10-Apr-2020 23.00.00** | 23     |   10  |   4     |   2020 |    5          |\n",
    "| **15-Apr-2020 02.00.00** | 02     |   15  |   4     |   2020 |    4          |\n",
    "| **25-Apr-2020 11.00.00** | 11     |   25  |   4     |   2020 |    2          |\n",
    "| **28-Apr-2020 05.00.00** | 05     |   28  |   4     |   2020 |    5          |"
   ]
  },
  {
   "cell_type": "markdown",
   "metadata": {},
   "source": [
    " * **Here the \"DateTime\" is the data and remaining columns are the features of data we extracted.**"
   ]
  },
  {
   "cell_type": "markdown",
   "metadata": {},
   "source": [
    "### Note:\n",
    "Feature engineering is just the *data transformation* as we mentioned in the last chapter. That's why the prerequisites are same for both."
   ]
  },
  {
   "cell_type": "markdown",
   "metadata": {
    "heading_collapsed": true
   },
   "source": [
    "# Prerequisites:"
   ]
  },
  {
   "cell_type": "markdown",
   "metadata": {
    "hidden": true
   },
   "source": [
    " Prerequisites for Data Preprocessing & Feature Engineering:\n",
    "* **Python Libraries:**\n",
    "\n",
    "    * Numpy\n",
    "    * Pandas\n",
    "    * Matplotlib\n",
    "    * Seaborn\n",
    "    * Scikit Learn\n",
    "* **Mathematics:**\n",
    "\n",
    "    * Statistics\n",
    "    * Probability\n",
    "    * Calculus\n",
    "    * Linear Algebra\n",
    "* **Software:**\n",
    "\n",
    "    * Anaconda\n",
    "    * Jupyter Notebook\n",
    "    * Spyder"
   ]
  },
  {
   "cell_type": "markdown",
   "metadata": {
    "hidden": true
   },
   "source": [
    "## Learning Platforms:\n",
    "* YouTube\n",
    "* Websites"
   ]
  },
  {
   "cell_type": "markdown",
   "metadata": {
    "heading_collapsed": true
   },
   "source": [
    "# Save your work:"
   ]
  },
  {
   "cell_type": "code",
   "execution_count": 1,
   "metadata": {
    "hidden": true
   },
   "outputs": [],
   "source": [
    "!pip install jovian --upgrade --quiet"
   ]
  },
  {
   "cell_type": "code",
   "execution_count": 2,
   "metadata": {
    "hidden": true
   },
   "outputs": [],
   "source": [
    "import jovian"
   ]
  },
  {
   "cell_type": "code",
   "execution_count": 3,
   "metadata": {
    "hidden": true
   },
   "outputs": [
    {
     "data": {
      "application/javascript": [
       "window.require && require([\"base/js/namespace\"],function(Jupyter){Jupyter.notebook.save_checkpoint()})"
      ],
      "text/plain": [
       "<IPython.core.display.Javascript object>"
      ]
     },
     "metadata": {},
     "output_type": "display_data"
    },
    {
     "name": "stdout",
     "output_type": "stream",
     "text": [
      "[jovian] Updating notebook \"sonihariom555/data-preprocessing-and-feature-engineering\" on https://jovian.ai\u001b[0m\n",
      "[jovian] Committed successfully! https://jovian.ai/sonihariom555/data-preprocessing-and-feature-engineering\u001b[0m\n"
     ]
    },
    {
     "data": {
      "text/plain": [
       "'https://jovian.ai/sonihariom555/data-preprocessing-and-feature-engineering'"
      ]
     },
     "execution_count": 3,
     "metadata": {},
     "output_type": "execute_result"
    }
   ],
   "source": [
    "jovian.commit(project = 'Data Preprocessing and Feature Engineering')"
   ]
  },
  {
   "cell_type": "code",
   "execution_count": null,
   "metadata": {
    "hidden": true
   },
   "outputs": [],
   "source": []
  }
 ],
 "metadata": {
  "language_info": {
   "codemirror_mode": {
    "name": "ipython",
    "version": 3
   },
   "file_extension": ".py",
   "mimetype": "text/x-python",
   "name": "python",
   "nbconvert_exporter": "python",
   "pygments_lexer": "ipython3",
   "version": "3.9.7"
  }
 },
 "nbformat": 4,
 "nbformat_minor": 2
}