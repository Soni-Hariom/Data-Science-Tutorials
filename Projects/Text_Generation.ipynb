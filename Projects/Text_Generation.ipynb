{
 "cells": [
  {
   "cell_type": "markdown",
   "id": "b3b87178",
   "metadata": {},
   "source": [
    "## Task : Text Generation\n",
    "\n",
    "**Description:** You are given a dataset of tweets from a particular user. Your task is to build a machine learning model to generate new tweets based on the user's existing tweets.\n",
    "\n",
    "**Dataset:** \"Sentiment140 dataset\" available on [Kaggle](https://www.kaggle.com/kazanova/sentiment140)\n",
    "\n",
    "**Requirements:**\n",
    "* Use Python programming language to build your model\n",
    "* Use natural language processing techniques to preprocess the data (e.g. remove stop words, punctuation, and perform stemming/lemmatization)\n",
    "* Use a machine learning algorithm of your choice to train the model\n",
    "* Implement a text generation algorithm that takes a seed sentence as input and generates a new tweet based on the patterns learned from the existing tweets\n",
    "* Evaluate the performance of the text generation algorithm using human evaluation and/or automatic evaluation metrics (e.g. perplexity, BLEU score, or ROUGE score)\n",
    "\n",
    "**Deliverables:**\n",
    "* A Jupyter notebook with your Python code and the results of your analysis\n",
    "* A brief report explaining your approach and discussing the results\n",
    "\n"
   ]
  },
  {
   "cell_type": "markdown",
   "id": "8828e157",
   "metadata": {},
   "source": [
    "## Step-0: Installing The Required Libraries"
   ]
  },
  {
   "cell_type": "code",
   "execution_count": 1,
   "id": "8c87e670",
   "metadata": {},
   "outputs": [
    {
     "name": "stdout",
     "output_type": "stream",
     "text": [
      "Requirement already satisfied: nltk in /opt/conda/lib/python3.9/site-packages (3.8.1)\n",
      "Requirement already satisfied: joblib in /opt/conda/lib/python3.9/site-packages (from nltk) (1.1.0)\n",
      "Requirement already satisfied: tqdm in /opt/conda/lib/python3.9/site-packages (from nltk) (4.62.3)\n",
      "Requirement already satisfied: click in /opt/conda/lib/python3.9/site-packages (from nltk) (8.0.3)\n",
      "Requirement already satisfied: regex>=2021.8.3 in /opt/conda/lib/python3.9/site-packages (from nltk) (2023.5.5)\n",
      "Requirement already satisfied: opendatasets in /opt/conda/lib/python3.9/site-packages (0.1.22)\n",
      "Requirement already satisfied: tqdm in /opt/conda/lib/python3.9/site-packages (from opendatasets) (4.62.3)\n",
      "Requirement already satisfied: kaggle in /opt/conda/lib/python3.9/site-packages (from opendatasets) (1.5.13)\n",
      "Requirement already satisfied: click in /opt/conda/lib/python3.9/site-packages (from opendatasets) (8.0.3)\n",
      "Requirement already satisfied: python-dateutil in /opt/conda/lib/python3.9/site-packages (from kaggle->opendatasets) (2.8.2)\n",
      "Requirement already satisfied: python-slugify in /opt/conda/lib/python3.9/site-packages (from kaggle->opendatasets) (8.0.1)\n",
      "Requirement already satisfied: six>=1.10 in /opt/conda/lib/python3.9/site-packages (from kaggle->opendatasets) (1.16.0)\n",
      "Requirement already satisfied: urllib3 in /opt/conda/lib/python3.9/site-packages (from kaggle->opendatasets) (1.26.7)\n",
      "Requirement already satisfied: certifi in /opt/conda/lib/python3.9/site-packages (from kaggle->opendatasets) (2021.10.8)\n",
      "Requirement already satisfied: requests in /opt/conda/lib/python3.9/site-packages (from kaggle->opendatasets) (2.26.0)\n",
      "Requirement already satisfied: text-unidecode>=1.3 in /opt/conda/lib/python3.9/site-packages (from python-slugify->kaggle->opendatasets) (1.3)\n",
      "Requirement already satisfied: idna<4,>=2.5 in /opt/conda/lib/python3.9/site-packages (from requests->kaggle->opendatasets) (3.1)\n",
      "Requirement already satisfied: charset-normalizer~=2.0.0 in /opt/conda/lib/python3.9/site-packages (from requests->kaggle->opendatasets) (2.0.0)\n"
     ]
    }
   ],
   "source": [
    "!pip install nltk;\n",
    "!pip install opendatasets;"
   ]
  },
  {
   "cell_type": "markdown",
   "id": "33b1a991",
   "metadata": {},
   "source": [
    "## Step-1: Importing Libraries"
   ]
  },
  {
   "cell_type": "code",
   "execution_count": 2,
   "id": "63b536fe",
   "metadata": {},
   "outputs": [],
   "source": [
    "# Importing Libraries\n",
    "import numpy as np \n",
    "import pandas as pd\n",
    "import matplotlib.pyplot as plt\n",
    "import sklearn\n",
    "import nltk\n",
    "from nltk.corpus import stopwords\n",
    "from nltk.tokenize import word_tokenize\n",
    "from nltk.stem import PorterStemmer, WordNetLemmatizer\n",
    "import re\n",
    "import opendatasets as od\n",
    "import os"
   ]
  },
  {
   "cell_type": "code",
   "execution_count": 3,
   "id": "eb48924c",
   "metadata": {},
   "outputs": [
    {
     "name": "stderr",
     "output_type": "stream",
     "text": [
      "[nltk_data] Downloading package stopwords to /home/jovyan/nltk_data...\n",
      "[nltk_data]   Package stopwords is already up-to-date!\n",
      "[nltk_data] Downloading package punkt to /home/jovyan/nltk_data...\n",
      "[nltk_data]   Package punkt is already up-to-date!\n",
      "[nltk_data] Downloading package wordnet to /home/jovyan/nltk_data...\n",
      "[nltk_data]   Package wordnet is already up-to-date!\n"
     ]
    },
    {
     "data": {
      "text/plain": [
       "True"
      ]
     },
     "execution_count": 3,
     "metadata": {},
     "output_type": "execute_result"
    }
   ],
   "source": [
    "# Download the necessary NLTK data (only needs to be done once)\n",
    "nltk.download('stopwords')\n",
    "nltk.download('punkt')\n",
    "nltk.download('wordnet')"
   ]
  },
  {
   "cell_type": "markdown",
   "id": "1eccf871",
   "metadata": {},
   "source": [
    "## Step-2: Loding The Dataset"
   ]
  },
  {
   "cell_type": "code",
   "execution_count": 4,
   "id": "4bdf668a",
   "metadata": {},
   "outputs": [
    {
     "name": "stdout",
     "output_type": "stream",
     "text": [
      "Skipping, found downloaded files in \"./sentiment140\" (use force=True to force download)\n"
     ]
    }
   ],
   "source": [
    "# Downloding the dataset:\n",
    "data=od.download('https://www.kaggle.com/datasets/kazanova/sentiment140')"
   ]
  },
  {
   "cell_type": "code",
   "execution_count": 5,
   "id": "0c742dc9",
   "metadata": {},
   "outputs": [],
   "source": [
    "#Loading the datasets\n",
    "df=pd.read_csv('sentiment140/training.1600000.processed.noemoticon.csv', header=None, names=['target', 'ids', 'datetime', 'flag', 'user','tweet'], encoding='latin-1')"
   ]
  },
  {
   "cell_type": "markdown",
   "id": "88c6207c",
   "metadata": {},
   "source": [
    "## Step-3: Viewing The Dataset"
   ]
  },
  {
   "cell_type": "code",
   "execution_count": 6,
   "id": "4c5abae2",
   "metadata": {},
   "outputs": [
    {
     "data": {
      "text/html": [
       "<div>\n",
       "<style scoped>\n",
       "    .dataframe tbody tr th:only-of-type {\n",
       "        vertical-align: middle;\n",
       "    }\n",
       "\n",
       "    .dataframe tbody tr th {\n",
       "        vertical-align: top;\n",
       "    }\n",
       "\n",
       "    .dataframe thead th {\n",
       "        text-align: right;\n",
       "    }\n",
       "</style>\n",
       "<table border=\"1\" class=\"dataframe\">\n",
       "  <thead>\n",
       "    <tr style=\"text-align: right;\">\n",
       "      <th></th>\n",
       "      <th>target</th>\n",
       "      <th>ids</th>\n",
       "      <th>datetime</th>\n",
       "      <th>flag</th>\n",
       "      <th>user</th>\n",
       "      <th>tweet</th>\n",
       "    </tr>\n",
       "  </thead>\n",
       "  <tbody>\n",
       "    <tr>\n",
       "      <th>0</th>\n",
       "      <td>0</td>\n",
       "      <td>1467810369</td>\n",
       "      <td>Mon Apr 06 22:19:45 PDT 2009</td>\n",
       "      <td>NO_QUERY</td>\n",
       "      <td>_TheSpecialOne_</td>\n",
       "      <td>@switchfoot http://twitpic.com/2y1zl - Awww, t...</td>\n",
       "    </tr>\n",
       "    <tr>\n",
       "      <th>1</th>\n",
       "      <td>0</td>\n",
       "      <td>1467810672</td>\n",
       "      <td>Mon Apr 06 22:19:49 PDT 2009</td>\n",
       "      <td>NO_QUERY</td>\n",
       "      <td>scotthamilton</td>\n",
       "      <td>is upset that he can't update his Facebook by ...</td>\n",
       "    </tr>\n",
       "    <tr>\n",
       "      <th>2</th>\n",
       "      <td>0</td>\n",
       "      <td>1467810917</td>\n",
       "      <td>Mon Apr 06 22:19:53 PDT 2009</td>\n",
       "      <td>NO_QUERY</td>\n",
       "      <td>mattycus</td>\n",
       "      <td>@Kenichan I dived many times for the ball. Man...</td>\n",
       "    </tr>\n",
       "    <tr>\n",
       "      <th>3</th>\n",
       "      <td>0</td>\n",
       "      <td>1467811184</td>\n",
       "      <td>Mon Apr 06 22:19:57 PDT 2009</td>\n",
       "      <td>NO_QUERY</td>\n",
       "      <td>ElleCTF</td>\n",
       "      <td>my whole body feels itchy and like its on fire</td>\n",
       "    </tr>\n",
       "    <tr>\n",
       "      <th>4</th>\n",
       "      <td>0</td>\n",
       "      <td>1467811193</td>\n",
       "      <td>Mon Apr 06 22:19:57 PDT 2009</td>\n",
       "      <td>NO_QUERY</td>\n",
       "      <td>Karoli</td>\n",
       "      <td>@nationwideclass no, it's not behaving at all....</td>\n",
       "    </tr>\n",
       "  </tbody>\n",
       "</table>\n",
       "</div>"
      ],
      "text/plain": [
       "   target         ids                      datetime      flag  \\\n",
       "0       0  1467810369  Mon Apr 06 22:19:45 PDT 2009  NO_QUERY   \n",
       "1       0  1467810672  Mon Apr 06 22:19:49 PDT 2009  NO_QUERY   \n",
       "2       0  1467810917  Mon Apr 06 22:19:53 PDT 2009  NO_QUERY   \n",
       "3       0  1467811184  Mon Apr 06 22:19:57 PDT 2009  NO_QUERY   \n",
       "4       0  1467811193  Mon Apr 06 22:19:57 PDT 2009  NO_QUERY   \n",
       "\n",
       "              user                                              tweet  \n",
       "0  _TheSpecialOne_  @switchfoot http://twitpic.com/2y1zl - Awww, t...  \n",
       "1    scotthamilton  is upset that he can't update his Facebook by ...  \n",
       "2         mattycus  @Kenichan I dived many times for the ball. Man...  \n",
       "3          ElleCTF    my whole body feels itchy and like its on fire   \n",
       "4           Karoli  @nationwideclass no, it's not behaving at all....  "
      ]
     },
     "execution_count": 6,
     "metadata": {},
     "output_type": "execute_result"
    }
   ],
   "source": [
    "df.head(5)"
   ]
  },
  {
   "cell_type": "code",
   "execution_count": 7,
   "id": "4c4fa024",
   "metadata": {},
   "outputs": [
    {
     "data": {
      "text/plain": [
       "0"
      ]
     },
     "execution_count": 7,
     "metadata": {},
     "output_type": "execute_result"
    }
   ],
   "source": [
    "# Let's see the missing values\n",
    "df.isnull().sum().sum()"
   ]
  },
  {
   "cell_type": "code",
   "execution_count": 8,
   "id": "625913d2",
   "metadata": {},
   "outputs": [],
   "source": [
    "# Let's count the positive and negative tweets\n",
    "df['target']=df['target'].replace({4:1})"
   ]
  },
  {
   "cell_type": "code",
   "execution_count": 9,
   "id": "8b25cb89",
   "metadata": {},
   "outputs": [
    {
     "data": {
      "text/plain": [
       "0    800000\n",
       "1    800000\n",
       "Name: target, dtype: int64"
      ]
     },
     "execution_count": 9,
     "metadata": {},
     "output_type": "execute_result"
    }
   ],
   "source": [
    "df.target.value_counts()"
   ]
  },
  {
   "cell_type": "markdown",
   "id": "369a80b4",
   "metadata": {},
   "source": [
    "### Conclusion: \n",
    "* Here we can see the tweets are balanced.\n",
    "* 80k tweets are positive (1) and 80k tweets are negative (0).\n",
    "\n",
    "### Decisions:\n",
    "* Since our task is to build a *Text Generation Model*. So I'm Just going to take the tweets column.\n",
    "* Now in the tweet column there is texts so I need to preprocess them.\n",
    "* But it's 1.6 Million tweets so I am going to build a function to do all the needed steps."
   ]
  },
  {
   "cell_type": "markdown",
   "id": "f499c266",
   "metadata": {},
   "source": [
    "## Step-4: Tweets Preprocess function"
   ]
  },
  {
   "cell_type": "code",
   "execution_count": 10,
   "id": "e7e683da",
   "metadata": {},
   "outputs": [],
   "source": [
    "# Define the set of stop words\n",
    "stop_words = set(stopwords.words('english'))\n"
   ]
  },
  {
   "cell_type": "code",
   "execution_count": 11,
   "id": "69d39fad",
   "metadata": {},
   "outputs": [],
   "source": [
    "# Create a stemmer and lemmatizer object\n",
    "stemmer = PorterStemmer()\n",
    "lemmatizer = WordNetLemmatizer()"
   ]
  },
  {
   "cell_type": "code",
   "execution_count": 12,
   "id": "4eb0fb88",
   "metadata": {},
   "outputs": [],
   "source": [
    "# Define a function to preprocess a single tweet\n",
    "def preprocess_tweet(tweet):\n",
    "    # Remove URLs, user mentions, and special characters from the tweet\n",
    "    tweet = re.sub(r\"http\\S+|www\\S+|https\\S+|@\\S+|[^\\w\\s]\", '', tweet)\n",
    "    # Tokenize the tweet into words\n",
    "    words = word_tokenize(tweet)\n",
    "    # Remove stop words and punctuation\n",
    "    words = [word.lower() for word in words if word.lower() not in stop_words and word.isalpha()]\n",
    "    # Perform stemming or lemmatization\n",
    "    words = [stemmer.stem(word) for word in words]  # or lemmatizer.lemmatize(word) for word in words]\n",
    "    # Join the words back into a single string\n",
    "    tweet = ' '.join(words)\n",
    "    return tweet"
   ]
  },
  {
   "cell_type": "code",
   "execution_count": 13,
   "id": "87362ebe",
   "metadata": {},
   "outputs": [],
   "source": [
    "# Apply the preprocessing function to each tweet\n",
    "df['processed_tweet'] = df['tweet'].apply(preprocess_tweet)"
   ]
  },
  {
   "cell_type": "code",
   "execution_count": 14,
   "id": "d54c3cc1",
   "metadata": {},
   "outputs": [
    {
     "data": {
      "text/html": [
       "<div>\n",
       "<style scoped>\n",
       "    .dataframe tbody tr th:only-of-type {\n",
       "        vertical-align: middle;\n",
       "    }\n",
       "\n",
       "    .dataframe tbody tr th {\n",
       "        vertical-align: top;\n",
       "    }\n",
       "\n",
       "    .dataframe thead th {\n",
       "        text-align: right;\n",
       "    }\n",
       "</style>\n",
       "<table border=\"1\" class=\"dataframe\">\n",
       "  <thead>\n",
       "    <tr style=\"text-align: right;\">\n",
       "      <th></th>\n",
       "      <th>target</th>\n",
       "      <th>ids</th>\n",
       "      <th>datetime</th>\n",
       "      <th>flag</th>\n",
       "      <th>user</th>\n",
       "      <th>tweet</th>\n",
       "      <th>processed_tweet</th>\n",
       "    </tr>\n",
       "  </thead>\n",
       "  <tbody>\n",
       "    <tr>\n",
       "      <th>0</th>\n",
       "      <td>0</td>\n",
       "      <td>1467810369</td>\n",
       "      <td>Mon Apr 06 22:19:45 PDT 2009</td>\n",
       "      <td>NO_QUERY</td>\n",
       "      <td>_TheSpecialOne_</td>\n",
       "      <td>@switchfoot http://twitpic.com/2y1zl - Awww, t...</td>\n",
       "      <td>that bummer shoulda got david carr third day</td>\n",
       "    </tr>\n",
       "    <tr>\n",
       "      <th>1</th>\n",
       "      <td>0</td>\n",
       "      <td>1467810672</td>\n",
       "      <td>Mon Apr 06 22:19:49 PDT 2009</td>\n",
       "      <td>NO_QUERY</td>\n",
       "      <td>scotthamilton</td>\n",
       "      <td>is upset that he can't update his Facebook by ...</td>\n",
       "      <td>upset cant updat facebook text might cri resul...</td>\n",
       "    </tr>\n",
       "    <tr>\n",
       "      <th>2</th>\n",
       "      <td>0</td>\n",
       "      <td>1467810917</td>\n",
       "      <td>Mon Apr 06 22:19:53 PDT 2009</td>\n",
       "      <td>NO_QUERY</td>\n",
       "      <td>mattycus</td>\n",
       "      <td>@Kenichan I dived many times for the ball. Man...</td>\n",
       "      <td>dive mani time ball manag save rest go bound</td>\n",
       "    </tr>\n",
       "    <tr>\n",
       "      <th>3</th>\n",
       "      <td>0</td>\n",
       "      <td>1467811184</td>\n",
       "      <td>Mon Apr 06 22:19:57 PDT 2009</td>\n",
       "      <td>NO_QUERY</td>\n",
       "      <td>ElleCTF</td>\n",
       "      <td>my whole body feels itchy and like its on fire</td>\n",
       "      <td>whole bodi feel itchi like fire</td>\n",
       "    </tr>\n",
       "    <tr>\n",
       "      <th>4</th>\n",
       "      <td>0</td>\n",
       "      <td>1467811193</td>\n",
       "      <td>Mon Apr 06 22:19:57 PDT 2009</td>\n",
       "      <td>NO_QUERY</td>\n",
       "      <td>Karoli</td>\n",
       "      <td>@nationwideclass no, it's not behaving at all....</td>\n",
       "      <td>behav im mad cant see</td>\n",
       "    </tr>\n",
       "  </tbody>\n",
       "</table>\n",
       "</div>"
      ],
      "text/plain": [
       "   target         ids                      datetime      flag  \\\n",
       "0       0  1467810369  Mon Apr 06 22:19:45 PDT 2009  NO_QUERY   \n",
       "1       0  1467810672  Mon Apr 06 22:19:49 PDT 2009  NO_QUERY   \n",
       "2       0  1467810917  Mon Apr 06 22:19:53 PDT 2009  NO_QUERY   \n",
       "3       0  1467811184  Mon Apr 06 22:19:57 PDT 2009  NO_QUERY   \n",
       "4       0  1467811193  Mon Apr 06 22:19:57 PDT 2009  NO_QUERY   \n",
       "\n",
       "              user                                              tweet  \\\n",
       "0  _TheSpecialOne_  @switchfoot http://twitpic.com/2y1zl - Awww, t...   \n",
       "1    scotthamilton  is upset that he can't update his Facebook by ...   \n",
       "2         mattycus  @Kenichan I dived many times for the ball. Man...   \n",
       "3          ElleCTF    my whole body feels itchy and like its on fire    \n",
       "4           Karoli  @nationwideclass no, it's not behaving at all....   \n",
       "\n",
       "                                     processed_tweet  \n",
       "0       that bummer shoulda got david carr third day  \n",
       "1  upset cant updat facebook text might cri resul...  \n",
       "2       dive mani time ball manag save rest go bound  \n",
       "3                    whole bodi feel itchi like fire  \n",
       "4                              behav im mad cant see  "
      ]
     },
     "execution_count": 14,
     "metadata": {},
     "output_type": "execute_result"
    }
   ],
   "source": [
    "# Display the preprocessed dataset\n",
    "df.head()"
   ]
  },
  {
   "cell_type": "markdown",
   "id": "92a7b50d",
   "metadata": {},
   "source": [
    "## Step-5: Data Exploration and Visualization\n",
    "After pre-processing your tweet dataset, you can use various data exploration and visualization techniques to gain insights into the data."
   ]
  },
  {
   "cell_type": "markdown",
   "id": "74489466",
   "metadata": {},
   "source": [
    "#### 1. Frequency Analysis:\n",
    "Let's analyze the frequency of individual words or phrases in the dataset using Python's Counter object from the collections module. "
   ]
  },
  {
   "cell_type": "code",
   "execution_count": 15,
   "id": "ad61c825",
   "metadata": {},
   "outputs": [],
   "source": [
    "# Let's import the module\n",
    "from collections import Counter"
   ]
  },
  {
   "cell_type": "code",
   "execution_count": 16,
   "id": "6a18bc54",
   "metadata": {},
   "outputs": [],
   "source": [
    "# Create a Counter object to count the frequency of each word\n",
    "word_freq = Counter()\n",
    "for tweet in df['processed_tweet']:\n",
    "    word_freq.update(tweet.split())"
   ]
  },
  {
   "cell_type": "code",
   "execution_count": 17,
   "id": "6f0b641c",
   "metadata": {},
   "outputs": [
    {
     "name": "stdout",
     "output_type": "stream",
     "text": [
      "[('im', 177512), ('go', 137040), ('get', 109956), ('day', 101292), ('good', 90551), ('work', 85194), ('like', 82962), ('love', 81080), ('got', 70036), ('dont', 66932)]\n"
     ]
    }
   ],
   "source": [
    "# Print the 10 most common words\n",
    "print(word_freq.most_common(10))"
   ]
  },
  {
   "cell_type": "code",
   "execution_count": 18,
   "id": "d0efe758",
   "metadata": {},
   "outputs": [
    {
     "data": {
      "image/png": "[encoded data removed]",
      "text/plain": [
       "<Figure size 432x288 with 1 Axes>"
      ]
     },
     "metadata": {
      "needs_background": "light"
     },
     "output_type": "display_data"
    }
   ],
   "source": [
    "# Plot a histogram of the word frequencies\n",
    "plt.hist(word_freq.values(), bins=20)\n",
    "plt.show()"
   ]
  },
  {
   "cell_type": "markdown",
   "id": "7e5b70b6",
   "metadata": {},
   "source": [
    "#### 2. Topic Modeling:\n",
    "Let's use topic modeling techniques such as Latent Dirichlet Allocation (LDA) to identify the main topics in the dataset. "
   ]
  },
  {
   "cell_type": "code",
   "execution_count": 19,
   "id": "67da612c",
   "metadata": {},
   "outputs": [],
   "source": [
    "# Importing the required libraries\n",
    "# import sklearn\n",
    "# from sklearn.feature_extraction.text import CountVectorizer\n",
    "# from sklearn.decomposition import LatentDirichletAllocation"
   ]
  },
  {
   "cell_type": "code",
   "execution_count": 20,
   "id": "8d336603",
   "metadata": {},
   "outputs": [],
   "source": [
    "# Vectorize the preprocessed tweets using a CountVectorizer\n",
    "# vectorizer = CountVectorizer(max_df=0.95, min_df=2, stop_words='english')\n",
    "# tweet_vectors = vectorizer.fit_transform(df['processed_tweet'])\n"
   ]
  },
  {
   "cell_type": "code",
   "execution_count": 21,
   "id": "391946c3",
   "metadata": {},
   "outputs": [],
   "source": [
    "# Create an LDA model and fit it to the tweet vectors\n",
    "# lda_model = LatentDirichletAllocation(n_components=5, random_state=42)\n",
    "# lda_model.fit(tweet_vectors)"
   ]
  },
  {
   "cell_type": "code",
   "execution_count": 22,
   "id": "8c1910cf",
   "metadata": {},
   "outputs": [],
   "source": [
    "# Print the top 10 words for each topic\n",
    "# for i, topic in enumerate(lda_model.components_):\n",
    "#     print(f\"Topic {i+1}:\")\n",
    "#     print([vectorizer.get_feature_names()[index] for index in topic.argsort()[-10:]])\n",
    "#     print()"
   ]
  },
  {
   "cell_type": "code",
   "execution_count": 8,
   "id": "6551df1f",
   "metadata": {},
   "outputs": [
    {
     "name": "stdout",
     "output_type": "stream",
     "text": [
      "Collecting tensorflow\n",
      "  Downloading tensorflow-2.12.0-cp39-cp39-manylinux_2_17_x86_64.manylinux2014_x86_64.whl (585.9 MB)\n",
      "     |████████████████████████████████| 585.9 MB 3.7 MB/s eta 0:00:01  ██                   | 236.3 MB 56.6 MB/s eta 0:00:07 "
     ]
    }
   ],
   "source": [
    "!pip install tensorflow"
   ]
  },
  {
   "cell_type": "code",
   "execution_count": 6,
   "id": "219a59a9",
   "metadata": {},
   "outputs": [
    {
     "ename": "ModuleNotFoundError",
     "evalue": "No module named 'tensorflow'",
     "output_type": "error",
     "traceback": [
      "\u001b[0;31m---------------------------------------------------------------------------\u001b[0m",
      "\u001b[0;31mModuleNotFoundError\u001b[0m                       Traceback (most recent call last)",
      "\u001b[0;32m/tmp/ipykernel_270/535381913.py\u001b[0m in \u001b[0;36m<module>\u001b[0;34m\u001b[0m\n\u001b[1;32m      1\u001b[0m \u001b[0;32mimport\u001b[0m \u001b[0mnumpy\u001b[0m \u001b[0;32mas\u001b[0m \u001b[0mnp\u001b[0m\u001b[0;34m\u001b[0m\u001b[0;34m\u001b[0m\u001b[0m\n\u001b[1;32m      2\u001b[0m \u001b[0;32mimport\u001b[0m \u001b[0mpandas\u001b[0m \u001b[0;32mas\u001b[0m \u001b[0mpd\u001b[0m\u001b[0;34m\u001b[0m\u001b[0;34m\u001b[0m\u001b[0m\n\u001b[0;32m----> 3\u001b[0;31m \u001b[0;32mfrom\u001b[0m \u001b[0mtensorflow\u001b[0m\u001b[0;34m.\u001b[0m\u001b[0mkeras\u001b[0m\u001b[0;34m.\u001b[0m\u001b[0mpreprocessing\u001b[0m\u001b[0;34m.\u001b[0m\u001b[0mtext\u001b[0m \u001b[0;32mimport\u001b[0m \u001b[0mTokenizer\u001b[0m\u001b[0;34m\u001b[0m\u001b[0;34m\u001b[0m\u001b[0m\n\u001b[0m\u001b[1;32m      4\u001b[0m \u001b[0;32mfrom\u001b[0m \u001b[0mtensorflow\u001b[0m\u001b[0;34m.\u001b[0m\u001b[0mkeras\u001b[0m\u001b[0;34m.\u001b[0m\u001b[0mpreprocessing\u001b[0m\u001b[0;34m.\u001b[0m\u001b[0msequence\u001b[0m \u001b[0;32mimport\u001b[0m \u001b[0mpad_sequences\u001b[0m\u001b[0;34m\u001b[0m\u001b[0;34m\u001b[0m\u001b[0m\n\u001b[1;32m      5\u001b[0m \u001b[0;32mfrom\u001b[0m \u001b[0mtensorflow\u001b[0m\u001b[0;34m.\u001b[0m\u001b[0mkeras\u001b[0m\u001b[0;34m.\u001b[0m\u001b[0mmodels\u001b[0m \u001b[0;32mimport\u001b[0m \u001b[0mSequential\u001b[0m\u001b[0;34m\u001b[0m\u001b[0;34m\u001b[0m\u001b[0m\n",
      "\u001b[0;31mModuleNotFoundError\u001b[0m: No module named 'tensorflow'"
     ]
    }
   ],
   "source": [
    "import numpy as np\n",
    "import pandas as pd\n",
    "from tensorflow.keras.preprocessing.text import Tokenizer\n",
    "from tensorflow.keras.preprocessing.sequence import pad_sequences\n",
    "from tensorflow.keras.models import Sequential\n",
    "from tensorflow.keras.layers import Dense, LSTM, Embedding"
   ]
  },
  {
   "cell_type": "code",
   "execution_count": null,
   "id": "2f3be4e4",
   "metadata": {},
   "outputs": [],
   "source": [
    "# Preprocess the data\n",
    "tokenizer = Tokenizer()\n",
    "tokenizer.fit_on_texts(df['tweet'])\n",
    "total_words = len(tokenizer.word_index) + 1"
   ]
  },
  {
   "cell_type": "code",
   "execution_count": null,
   "id": "738b26c1",
   "metadata": {},
   "outputs": [],
   "source": [
    "# Convert text to sequences\n",
    "input_sequences = []\n",
    "for line in df['tweet']:\n",
    "    token_list = tokenizer.texts_to_sequences([line])[0]\n",
    "    for i in range(1, len(token_list)):\n",
    "        n_gram_sequence = token_list[:i+1]\n",
    "        input_sequences.append(n_gram_sequence)"
   ]
  },
  {
   "cell_type": "code",
   "execution_count": null,
   "id": "44524d40",
   "metadata": {},
   "outputs": [],
   "source": [
    "# Pad sequences\n",
    "max_sequence_len = max([len(x) for x in input_sequences])\n",
    "input_sequences = np.array(pad_sequences(input_sequences, maxlen=max_sequence_len, padding='pre'))"
   ]
  },
  {
   "cell_type": "code",
   "execution_count": null,
   "id": "6e0c33f1",
   "metadata": {},
   "outputs": [],
   "source": [
    "# Split input and output\n",
    "xs = input_sequences[:, :-1]\n",
    "labels = input_sequences[:, -1]"
   ]
  },
  {
   "cell_type": "code",
   "execution_count": null,
   "id": "00f14e88",
   "metadata": {},
   "outputs": [],
   "source": [
    "# Convert labels to categorical\n",
    "ys = pd.get_dummies(labels).values"
   ]
  },
  {
   "cell_type": "code",
   "execution_count": null,
   "id": "ee496999",
   "metadata": {},
   "outputs": [],
   "source": [
    "# Build the model\n",
    "model = Sequential()\n",
    "model.add(Embedding(total_words, 100, input_length=max_sequence_len-1))\n",
    "model.add(LSTM(150))\n",
    "model.add(Dense(total_words, activation='softmax'))\n",
    "model.compile(loss='categorical_crossentropy', optimizer='adam')\n"
   ]
  },
  {
   "cell_type": "code",
   "execution_count": null,
   "id": "5bb19af0",
   "metadata": {},
   "outputs": [],
   "source": [
    "# Train the model\n",
    "model.fit(xs, ys, epochs=10, verbose=1)"
   ]
  },
  {
   "cell_type": "code",
   "execution_count": null,
   "id": "c5631488",
   "metadata": {},
   "outputs": [],
   "source": [
    "# Generate new tweets\n",
    "seed_text = \"I love\"\n",
    "next_words = 10\n",
    "for _ in range(next_words):\n",
    "    token_list = tokenizer.texts_to_sequences([seed_text])[0]\n",
    "    token_list = pad_sequences([token_list], maxlen=max_sequence_len-1, padding='pre')\n",
    "    predicted = model.predict_classes(token_list, verbose=0)\n",
    "    output_word = \"\"\n",
    "    for word, index in tokenizer.word_index.items():\n",
    "        if index == predicted:\n",
    "            output_word = word\n",
    "            break\n",
    "    seed_text += \" \" + output_word\n",
    "\n",
    "print(seed_text)"
   ]
  },
  {
   "cell_type": "code",
   "execution_count": null,
   "id": "9438249b",
   "metadata": {},
   "outputs": [],
   "source": []
  }
 ],
 "metadata": {
  "language_info": {
   "codemirror_mode": {
    "name": "ipython",
    "version": 3
   },
   "file_extension": ".py",
   "mimetype": "text/x-python",
   "name": "python",
   "nbconvert_exporter": "python",
   "pygments_lexer": "ipython3",
   "version": "3.9.7"
  }
 },
 "nbformat": 4,
 "nbformat_minor": 5
}