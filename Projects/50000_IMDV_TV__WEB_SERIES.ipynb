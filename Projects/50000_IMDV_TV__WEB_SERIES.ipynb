{
 "cells": [
  {
   "cell_type": "markdown",
   "metadata": {},
   "source": [
    "# 50,000 IMDV TV & WEB SERIES :"
   ]
  },
  {
   "cell_type": "markdown",
   "metadata": {},
   "source": [
    "![](https://myhackingworld.com/wp-content/uploads/2019/12/imdb-tv-free-movie-download_compressed.jpg)"
   ]
  },
  {
   "cell_type": "markdown",
   "metadata": {},
   "source": [
    "* It is a collection of 50,000 IMDV's TV shows and WEB Series.\n",
    "* The dataset is prepared by scraping the IMDb's website but is not endorsed by IMDb. \n",
    "* One of the most popular use of this dataset can be to create recommendation systems. \n",
    "* The series can be categorized based on cast of your choice, rating and the type of genre you are into among others.\n",
    "So, Let's explore the dataset."
   ]
  },
  {
   "cell_type": "markdown",
   "metadata": {},
   "source": [
    "# Problems to Solve Using This Dataset:"
   ]
  },
  {
   "cell_type": "markdown",
   "metadata": {},
   "source": [
    "1. Explore the data and delete the rows with null values.\n",
    "2. List the total unique Genre and calculate the number of series in each Genre.\n",
    "3. List the total unique Casts and calculate the number of series done by each Cast.\n",
    "4. Sort the dataset with respect to years and calculate the number of series in each year.\n",
    "5. Calculate the Average Runtime.\n",
    "6. Build a function to filter the Dataset with respect to \n",
    "    I. Genre\n",
    "    II. Cast\n",
    "    III. Series Title\n",
    "7. Count the total number of series w.r.t. Rating \n",
    "8. Fill the Numeric null values with mean value if required.\n",
    "9. Calculate the percentage of the dataset with each exploration.\n",
    "10. Use Barplot, Boxplot, Heatmap,etc. at appropriate places."
   ]
  },
  {
   "cell_type": "markdown",
   "metadata": {},
   "source": [
    "## Step 1: Installing and Importing The Libraries:"
   ]
  },
  {
   "cell_type": "code",
   "execution_count": 1,
   "metadata": {},
   "outputs": [
    {
     "name": "stdout",
     "output_type": "stream",
     "text": [
      "Requirement already satisfied: opendatasets in /opt/conda/lib/python3.9/site-packages (0.1.22)\n",
      "Requirement already satisfied: click in /opt/conda/lib/python3.9/site-packages (from opendatasets) (8.0.3)\n",
      "Requirement already satisfied: kaggle in /opt/conda/lib/python3.9/site-packages (from opendatasets) (1.5.12)\n",
      "Requirement already satisfied: tqdm in /opt/conda/lib/python3.9/site-packages (from opendatasets) (4.62.3)\n",
      "Requirement already satisfied: certifi in /opt/conda/lib/python3.9/site-packages (from kaggle->opendatasets) (2021.10.8)\n",
      "Requirement already satisfied: python-dateutil in /opt/conda/lib/python3.9/site-packages (from kaggle->opendatasets) (2.8.2)\n",
      "Requirement already satisfied: urllib3 in /opt/conda/lib/python3.9/site-packages (from kaggle->opendatasets) (1.26.7)\n",
      "Requirement already satisfied: python-slugify in /opt/conda/lib/python3.9/site-packages (from kaggle->opendatasets) (8.0.0)\n",
      "Requirement already satisfied: six>=1.10 in /opt/conda/lib/python3.9/site-packages (from kaggle->opendatasets) (1.16.0)\n",
      "Requirement already satisfied: requests in /opt/conda/lib/python3.9/site-packages (from kaggle->opendatasets) (2.26.0)\n",
      "Requirement already satisfied: text-unidecode>=1.3 in /opt/conda/lib/python3.9/site-packages (from python-slugify->kaggle->opendatasets) (1.3)\n",
      "Requirement already satisfied: charset-normalizer~=2.0.0 in /opt/conda/lib/python3.9/site-packages (from requests->kaggle->opendatasets) (2.0.0)\n",
      "Requirement already satisfied: idna<4,>=2.5 in /opt/conda/lib/python3.9/site-packages (from requests->kaggle->opendatasets) (3.1)\n"
     ]
    }
   ],
   "source": [
    "# Installing the required libraries:\n",
    "!pip install opendatasets;"
   ]
  },
  {
   "cell_type": "code",
   "execution_count": 2,
   "metadata": {},
   "outputs": [],
   "source": [
    "# Importing The Libraries:\n",
    "import numpy as np\n",
    "import pandas as pd\n",
    "import matplotlib.pyplot as plt\n",
    "import seaborn as sns\n",
    "import opendatasets as od\n",
    "import os"
   ]
  },
  {
   "cell_type": "markdown",
   "metadata": {},
   "source": [
    "## Step 2: Downloading The Dataset:"
   ]
  },
  {
   "cell_type": "code",
   "execution_count": 3,
   "metadata": {},
   "outputs": [
    {
     "name": "stdout",
     "output_type": "stream",
     "text": [
      "Skipping, found downloaded files in \"./50000-imdb-tv-and-web-series\" (use force=True to force download)\n"
     ]
    }
   ],
   "source": [
    "# Downloding the dataset:\n",
    "data=od.download('https://www.kaggle.com/datasets/muralidharbhusal/50000-imdb-tv-and-web-series')"
   ]
  },
  {
   "cell_type": "markdown",
   "metadata": {},
   "source": [
    "## Step 3: Loading The Dataset:"
   ]
  },
  {
   "cell_type": "code",
   "execution_count": 4,
   "metadata": {},
   "outputs": [],
   "source": [
    "# Loading the dataset:\n",
    "df=pd.read_csv('50000-imdb-tv-and-web-series/TV Series.csv')"
   ]
  },
  {
   "cell_type": "markdown",
   "metadata": {},
   "source": [
    "## Step 4: Viewing The Dataset:"
   ]
  },
  {
   "cell_type": "code",
   "execution_count": 5,
   "metadata": {},
   "outputs": [
    {
     "data": {
      "text/html": [
       "<div>\n",
       "<style scoped>\n",
       "    .dataframe tbody tr th:only-of-type {\n",
       "        vertical-align: middle;\n",
       "    }\n",
       "\n",
       "    .dataframe tbody tr th {\n",
       "        vertical-align: top;\n",
       "    }\n",
       "\n",
       "    .dataframe thead th {\n",
       "        text-align: right;\n",
       "    }\n",
       "</style>\n",
       "<table border=\"1\" class=\"dataframe\">\n",
       "  <thead>\n",
       "    <tr style=\"text-align: right;\">\n",
       "      <th></th>\n",
       "      <th>Series Title</th>\n",
       "      <th>Release Year</th>\n",
       "      <th>Runtime</th>\n",
       "      <th>Genre</th>\n",
       "      <th>Rating</th>\n",
       "      <th>Cast</th>\n",
       "      <th>Synopsis</th>\n",
       "    </tr>\n",
       "  </thead>\n",
       "  <tbody>\n",
       "    <tr>\n",
       "      <th>0</th>\n",
       "      <td>Wednesday</td>\n",
       "      <td>(2022– )</td>\n",
       "      <td>45 min</td>\n",
       "      <td>Comedy, Crime, Fantasy</td>\n",
       "      <td>8.2</td>\n",
       "      <td>Jenna Ortega, Hunter Doohan, Percy Hynes White...</td>\n",
       "      <td>Follows Wednesday Addams' years as a student, ...</td>\n",
       "    </tr>\n",
       "    <tr>\n",
       "      <th>1</th>\n",
       "      <td>Yellowstone</td>\n",
       "      <td>(2018– )</td>\n",
       "      <td>60 min</td>\n",
       "      <td>Drama, Western</td>\n",
       "      <td>8.7</td>\n",
       "      <td>Kevin Costner, Luke Grimes, Kelly Reilly, Wes ...</td>\n",
       "      <td>A ranching family in Montana faces off against...</td>\n",
       "    </tr>\n",
       "    <tr>\n",
       "      <th>2</th>\n",
       "      <td>The White Lotus</td>\n",
       "      <td>(2021–2023)</td>\n",
       "      <td>60 min</td>\n",
       "      <td>Comedy, Drama</td>\n",
       "      <td>7.9</td>\n",
       "      <td>Jennifer Coolidge, Jon Gries, F. Murray Abraha...</td>\n",
       "      <td>Set in a tropical resort, it follows the explo...</td>\n",
       "    </tr>\n",
       "    <tr>\n",
       "      <th>3</th>\n",
       "      <td>1923</td>\n",
       "      <td>(2022–2023)</td>\n",
       "      <td>60 min</td>\n",
       "      <td>Drama, Western</td>\n",
       "      <td>8.6</td>\n",
       "      <td>Harrison Ford, Helen Mirren, Brandon Sklenar, ...</td>\n",
       "      <td>The Duttons face a new set of challenges in th...</td>\n",
       "    </tr>\n",
       "    <tr>\n",
       "      <th>4</th>\n",
       "      <td>Jack Ryan</td>\n",
       "      <td>(2018– )</td>\n",
       "      <td>60 min</td>\n",
       "      <td>Action, Drama, Thriller</td>\n",
       "      <td>8.0</td>\n",
       "      <td>John Krasinski, Wendell Pierce, Michael Kelly,...</td>\n",
       "      <td>Up-and-coming CIA analyst, Jack Ryan, is thrus...</td>\n",
       "    </tr>\n",
       "  </tbody>\n",
       "</table>\n",
       "</div>"
      ],
      "text/plain": [
       "      Series Title Release Year Runtime                    Genre Rating  \\\n",
       "0        Wednesday     (2022– )  45 min   Comedy, Crime, Fantasy    8.2   \n",
       "1      Yellowstone     (2018– )  60 min           Drama, Western    8.7   \n",
       "2  The White Lotus  (2021–2023)  60 min            Comedy, Drama    7.9   \n",
       "3             1923  (2022–2023)  60 min           Drama, Western    8.6   \n",
       "4        Jack Ryan     (2018– )  60 min  Action, Drama, Thriller    8.0   \n",
       "\n",
       "                                                Cast  \\\n",
       "0  Jenna Ortega, Hunter Doohan, Percy Hynes White...   \n",
       "1  Kevin Costner, Luke Grimes, Kelly Reilly, Wes ...   \n",
       "2  Jennifer Coolidge, Jon Gries, F. Murray Abraha...   \n",
       "3  Harrison Ford, Helen Mirren, Brandon Sklenar, ...   \n",
       "4  John Krasinski, Wendell Pierce, Michael Kelly,...   \n",
       "\n",
       "                                            Synopsis  \n",
       "0  Follows Wednesday Addams' years as a student, ...  \n",
       "1  A ranching family in Montana faces off against...  \n",
       "2  Set in a tropical resort, it follows the explo...  \n",
       "3  The Duttons face a new set of challenges in th...  \n",
       "4  Up-and-coming CIA analyst, Jack Ryan, is thrus...  "
      ]
     },
     "execution_count": 5,
     "metadata": {},
     "output_type": "execute_result"
    }
   ],
   "source": [
    "# Viewing the data:\n",
    "df.head(5)"
   ]
  },
  {
   "cell_type": "code",
   "execution_count": 6,
   "metadata": {},
   "outputs": [
    {
     "data": {
      "text/html": [
       "<div>\n",
       "<style scoped>\n",
       "    .dataframe tbody tr th:only-of-type {\n",
       "        vertical-align: middle;\n",
       "    }\n",
       "\n",
       "    .dataframe tbody tr th {\n",
       "        vertical-align: top;\n",
       "    }\n",
       "\n",
       "    .dataframe thead th {\n",
       "        text-align: right;\n",
       "    }\n",
       "</style>\n",
       "<table border=\"1\" class=\"dataframe\">\n",
       "  <thead>\n",
       "    <tr style=\"text-align: right;\">\n",
       "      <th></th>\n",
       "      <th>Series Title</th>\n",
       "      <th>Release Year</th>\n",
       "      <th>Runtime</th>\n",
       "      <th>Genre</th>\n",
       "      <th>Rating</th>\n",
       "      <th>Cast</th>\n",
       "      <th>Synopsis</th>\n",
       "    </tr>\n",
       "  </thead>\n",
       "  <tbody>\n",
       "    <tr>\n",
       "      <th>49997</th>\n",
       "      <td>The Lord of the Rings: The Rings of Power</td>\n",
       "      <td>(2022– )</td>\n",
       "      <td>****</td>\n",
       "      <td>Action, Adventure, Drama</td>\n",
       "      <td>6.9</td>\n",
       "      <td>Morfydd Clark, Ismael Cruz Cordova, Charlie Vi...</td>\n",
       "      <td>Epic drama set thousands of years before the e...</td>\n",
       "    </tr>\n",
       "    <tr>\n",
       "      <th>49998</th>\n",
       "      <td>The Bear</td>\n",
       "      <td>(2022– )</td>\n",
       "      <td>30 min</td>\n",
       "      <td>Comedy, Drama</td>\n",
       "      <td>8.4</td>\n",
       "      <td>Jeremy Allen White, Ebon Moss-Bachrach, Ayo Ed...</td>\n",
       "      <td>A young chef from the fine dining world return...</td>\n",
       "    </tr>\n",
       "    <tr>\n",
       "      <th>49999</th>\n",
       "      <td>Supernatural</td>\n",
       "      <td>(2005–2020)</td>\n",
       "      <td>44 min</td>\n",
       "      <td>Drama, Fantasy, Horror</td>\n",
       "      <td>8.4</td>\n",
       "      <td>Jared Padalecki, Jensen Ackles, Jim Beaver, Mi...</td>\n",
       "      <td>Two brothers follow their father's footsteps a...</td>\n",
       "    </tr>\n",
       "  </tbody>\n",
       "</table>\n",
       "</div>"
      ],
      "text/plain": [
       "                                    Series Title Release Year Runtime  \\\n",
       "49997  The Lord of the Rings: The Rings of Power     (2022– )    ****   \n",
       "49998                                   The Bear     (2022– )  30 min   \n",
       "49999                               Supernatural  (2005–2020)  44 min   \n",
       "\n",
       "                          Genre Rating  \\\n",
       "49997  Action, Adventure, Drama    6.9   \n",
       "49998             Comedy, Drama    8.4   \n",
       "49999    Drama, Fantasy, Horror    8.4   \n",
       "\n",
       "                                                    Cast  \\\n",
       "49997  Morfydd Clark, Ismael Cruz Cordova, Charlie Vi...   \n",
       "49998  Jeremy Allen White, Ebon Moss-Bachrach, Ayo Ed...   \n",
       "49999  Jared Padalecki, Jensen Ackles, Jim Beaver, Mi...   \n",
       "\n",
       "                                                Synopsis  \n",
       "49997  Epic drama set thousands of years before the e...  \n",
       "49998  A young chef from the fine dining world return...  \n",
       "49999  Two brothers follow their father's footsteps a...  "
      ]
     },
     "execution_count": 6,
     "metadata": {},
     "output_type": "execute_result"
    }
   ],
   "source": [
    "df.tail(3)"
   ]
  },
  {
   "cell_type": "markdown",
   "metadata": {},
   "source": [
    "## Step 3: Basic Information of The Dataset:"
   ]
  },
  {
   "cell_type": "code",
   "execution_count": 7,
   "metadata": {},
   "outputs": [
    {
     "data": {
      "text/plain": [
       "(50000, 7)"
      ]
     },
     "execution_count": 7,
     "metadata": {},
     "output_type": "execute_result"
    }
   ],
   "source": [
    "# Shape of the dataset:\n",
    "df.shape"
   ]
  },
  {
   "cell_type": "code",
   "execution_count": 8,
   "metadata": {},
   "outputs": [
    {
     "data": {
      "text/plain": [
       "Index(['Series Title', 'Release Year', 'Runtime', 'Genre', 'Rating', 'Cast',\n",
       "       'Synopsis'],\n",
       "      dtype='object')"
      ]
     },
     "execution_count": 8,
     "metadata": {},
     "output_type": "execute_result"
    }
   ],
   "source": [
    "# All the columns name:\n",
    "df.columns"
   ]
  },
  {
   "cell_type": "code",
   "execution_count": 9,
   "metadata": {},
   "outputs": [
    {
     "name": "stdout",
     "output_type": "stream",
     "text": [
      "<class 'pandas.core.frame.DataFrame'>\n",
      "RangeIndex: 50000 entries, 0 to 49999\n",
      "Data columns (total 7 columns):\n",
      " #   Column        Non-Null Count  Dtype \n",
      "---  ------        --------------  ----- \n",
      " 0   Series Title  50000 non-null  object\n",
      " 1   Release Year  49800 non-null  object\n",
      " 2   Runtime       50000 non-null  object\n",
      " 3   Genre         50000 non-null  object\n",
      " 4   Rating        50000 non-null  object\n",
      " 5   Cast          49909 non-null  object\n",
      " 6   Synopsis      50000 non-null  object\n",
      "dtypes: object(7)\n",
      "memory usage: 2.7+ MB\n"
     ]
    }
   ],
   "source": [
    "# Information of each columns:\n",
    "df.info()"
   ]
  },
  {
   "cell_type": "markdown",
   "metadata": {},
   "source": [
    "## Step 6: Checking For Missing Values:"
   ]
  },
  {
   "cell_type": "code",
   "execution_count": 10,
   "metadata": {},
   "outputs": [
    {
     "data": {
      "text/plain": [
       "Series Title      0\n",
       "Release Year    200\n",
       "Runtime           0\n",
       "Genre             0\n",
       "Rating            0\n",
       "Cast             91\n",
       "Synopsis          0\n",
       "dtype: int64"
      ]
     },
     "execution_count": 10,
     "metadata": {},
     "output_type": "execute_result"
    }
   ],
   "source": [
    "# Checking the missing values:\n",
    "df.isnull().sum()"
   ]
  },
  {
   "cell_type": "code",
   "execution_count": 11,
   "metadata": {},
   "outputs": [
    {
     "data": {
      "text/plain": [
       "291"
      ]
     },
     "execution_count": 11,
     "metadata": {},
     "output_type": "execute_result"
    }
   ],
   "source": [
    "# Total null values:\n",
    "df.isnull().sum().sum()"
   ]
  },
  {
   "cell_type": "markdown",
   "metadata": {},
   "source": [
    "### Note:\n",
    "* Total Number of missing values in the dataset = 291"
   ]
  },
  {
   "cell_type": "code",
   "execution_count": 12,
   "metadata": {},
   "outputs": [
    {
     "data": {
      "text/html": [
       "<div>\n",
       "<style scoped>\n",
       "    .dataframe tbody tr th:only-of-type {\n",
       "        vertical-align: middle;\n",
       "    }\n",
       "\n",
       "    .dataframe tbody tr th {\n",
       "        vertical-align: top;\n",
       "    }\n",
       "\n",
       "    .dataframe thead th {\n",
       "        text-align: right;\n",
       "    }\n",
       "</style>\n",
       "<table border=\"1\" class=\"dataframe\">\n",
       "  <thead>\n",
       "    <tr style=\"text-align: right;\">\n",
       "      <th></th>\n",
       "      <th>Series Title</th>\n",
       "      <th>Release Year</th>\n",
       "      <th>Runtime</th>\n",
       "      <th>Genre</th>\n",
       "      <th>Rating</th>\n",
       "      <th>Cast</th>\n",
       "      <th>Synopsis</th>\n",
       "    </tr>\n",
       "  </thead>\n",
       "  <tbody>\n",
       "    <tr>\n",
       "      <th>550</th>\n",
       "      <td>The Idol</td>\n",
       "      <td>NaN</td>\n",
       "      <td>****</td>\n",
       "      <td>Drama</td>\n",
       "      <td>****</td>\n",
       "      <td>Lily-Rose Depp, The Weeknd, Suzanna Son, Troye...</td>\n",
       "      <td>A self-help guru and leader of a modern-day cu...</td>\n",
       "    </tr>\n",
       "    <tr>\n",
       "      <th>636</th>\n",
       "      <td>Yellowstone Spinoff, 6666</td>\n",
       "      <td>NaN</td>\n",
       "      <td>****</td>\n",
       "      <td>Drama, Western</td>\n",
       "      <td>****</td>\n",
       "      <td>NaN</td>\n",
       "      <td>Founded when Comanches still ruled West Texas,...</td>\n",
       "    </tr>\n",
       "    <tr>\n",
       "      <th>756</th>\n",
       "      <td>A Court of Thorns and Roses</td>\n",
       "      <td>NaN</td>\n",
       "      <td>****</td>\n",
       "      <td>Fantasy</td>\n",
       "      <td>****</td>\n",
       "      <td>NaN</td>\n",
       "      <td>A huntress agrees to travel to a magical realm...</td>\n",
       "    </tr>\n",
       "    <tr>\n",
       "      <th>794</th>\n",
       "      <td>Avatar: The Last Airbender</td>\n",
       "      <td>NaN</td>\n",
       "      <td>****</td>\n",
       "      <td>Action, Adventure, Comedy</td>\n",
       "      <td>****</td>\n",
       "      <td>Tamlyn Tomita, Daniel Dae Kim, Ken Leung, Paul...</td>\n",
       "      <td>Live-action adaptation of the animated series ...</td>\n",
       "    </tr>\n",
       "    <tr>\n",
       "      <th>937</th>\n",
       "      <td>History of the World: Part II</td>\n",
       "      <td>NaN</td>\n",
       "      <td>****</td>\n",
       "      <td>Comedy, History</td>\n",
       "      <td>****</td>\n",
       "      <td>Gary Nguyen, David Stassen, Dove Cameron, Pame...</td>\n",
       "      <td>Sequel to the 1981 film, History of the World:...</td>\n",
       "    </tr>\n",
       "    <tr>\n",
       "      <th>...</th>\n",
       "      <td>...</td>\n",
       "      <td>...</td>\n",
       "      <td>...</td>\n",
       "      <td>...</td>\n",
       "      <td>...</td>\n",
       "      <td>...</td>\n",
       "      <td>...</td>\n",
       "    </tr>\n",
       "    <tr>\n",
       "      <th>9950</th>\n",
       "      <td>Hellraiser</td>\n",
       "      <td>NaN</td>\n",
       "      <td>****</td>\n",
       "      <td>Horror</td>\n",
       "      <td>****</td>\n",
       "      <td>NaN</td>\n",
       "      <td>TV series based on Clive Barker's horror film,...</td>\n",
       "    </tr>\n",
       "    <tr>\n",
       "      <th>9953</th>\n",
       "      <td>Escobar by Escobar</td>\n",
       "      <td>(2022– )</td>\n",
       "      <td>****</td>\n",
       "      <td>Documentary, Biography, Crime</td>\n",
       "      <td>6.6</td>\n",
       "      <td>NaN</td>\n",
       "      <td>A documentary about the most notorious drug ba...</td>\n",
       "    </tr>\n",
       "    <tr>\n",
       "      <th>9954</th>\n",
       "      <td>The Gone</td>\n",
       "      <td>NaN</td>\n",
       "      <td>****</td>\n",
       "      <td>Drama, Mystery</td>\n",
       "      <td>****</td>\n",
       "      <td>Richard Flood, Acushla-Tara Kupe, Carolyn Brac...</td>\n",
       "      <td>An Irish detective teams up with a Kiwi cop to...</td>\n",
       "    </tr>\n",
       "    <tr>\n",
       "      <th>9962</th>\n",
       "      <td>The Most Dangerous Man in America</td>\n",
       "      <td>NaN</td>\n",
       "      <td>****</td>\n",
       "      <td>Crime</td>\n",
       "      <td>****</td>\n",
       "      <td>Star:Woody Harrelson</td>\n",
       "      <td>The Most Dangerous Man In America follows Lear...</td>\n",
       "    </tr>\n",
       "    <tr>\n",
       "      <th>9966</th>\n",
       "      <td>Better</td>\n",
       "      <td>NaN</td>\n",
       "      <td>****</td>\n",
       "      <td>Thriller</td>\n",
       "      <td>****</td>\n",
       "      <td>Leila Farzad, Carolin Stoltz, Joseph Steyne, Z...</td>\n",
       "      <td>After a family tragedy is narrowly averted, a ...</td>\n",
       "    </tr>\n",
       "  </tbody>\n",
       "</table>\n",
       "<p>256 rows × 7 columns</p>\n",
       "</div>"
      ],
      "text/plain": [
       "                           Series Title Release Year Runtime  \\\n",
       "550                            The Idol          NaN    ****   \n",
       "636           Yellowstone Spinoff, 6666          NaN    ****   \n",
       "756         A Court of Thorns and Roses          NaN    ****   \n",
       "794          Avatar: The Last Airbender          NaN    ****   \n",
       "937       History of the World: Part II          NaN    ****   \n",
       "...                                 ...          ...     ...   \n",
       "9950                         Hellraiser          NaN    ****   \n",
       "9953                 Escobar by Escobar     (2022– )    ****   \n",
       "9954                           The Gone          NaN    ****   \n",
       "9962  The Most Dangerous Man in America          NaN    ****   \n",
       "9966                             Better          NaN    ****   \n",
       "\n",
       "                              Genre Rating  \\\n",
       "550                           Drama   ****   \n",
       "636                  Drama, Western   ****   \n",
       "756                         Fantasy   ****   \n",
       "794       Action, Adventure, Comedy   ****   \n",
       "937                 Comedy, History   ****   \n",
       "...                             ...    ...   \n",
       "9950                         Horror   ****   \n",
       "9953  Documentary, Biography, Crime    6.6   \n",
       "9954                 Drama, Mystery   ****   \n",
       "9962                          Crime   ****   \n",
       "9966                       Thriller   ****   \n",
       "\n",
       "                                                   Cast  \\\n",
       "550   Lily-Rose Depp, The Weeknd, Suzanna Son, Troye...   \n",
       "636                                                 NaN   \n",
       "756                                                 NaN   \n",
       "794   Tamlyn Tomita, Daniel Dae Kim, Ken Leung, Paul...   \n",
       "937   Gary Nguyen, David Stassen, Dove Cameron, Pame...   \n",
       "...                                                 ...   \n",
       "9950                                                NaN   \n",
       "9953                                                NaN   \n",
       "9954  Richard Flood, Acushla-Tara Kupe, Carolyn Brac...   \n",
       "9962                               Star:Woody Harrelson   \n",
       "9966  Leila Farzad, Carolin Stoltz, Joseph Steyne, Z...   \n",
       "\n",
       "                                               Synopsis  \n",
       "550   A self-help guru and leader of a modern-day cu...  \n",
       "636   Founded when Comanches still ruled West Texas,...  \n",
       "756   A huntress agrees to travel to a magical realm...  \n",
       "794   Live-action adaptation of the animated series ...  \n",
       "937   Sequel to the 1981 film, History of the World:...  \n",
       "...                                                 ...  \n",
       "9950  TV series based on Clive Barker's horror film,...  \n",
       "9953  A documentary about the most notorious drug ba...  \n",
       "9954  An Irish detective teams up with a Kiwi cop to...  \n",
       "9962  The Most Dangerous Man In America follows Lear...  \n",
       "9966  After a family tragedy is narrowly averted, a ...  \n",
       "\n",
       "[256 rows x 7 columns]"
      ]
     },
     "execution_count": 12,
     "metadata": {},
     "output_type": "execute_result"
    }
   ],
   "source": [
    "# seprating the data which contains null values\n",
    "null_rows=df[df.isnull().any(axis=1)]\n",
    "null_rows"
   ]
  },
  {
   "cell_type": "code",
   "execution_count": 13,
   "metadata": {},
   "outputs": [
    {
     "data": {
      "text/plain": [
       "Series Title    0.000\n",
       "Release Year    0.400\n",
       "Runtime         0.000\n",
       "Genre           0.000\n",
       "Rating          0.000\n",
       "Cast            0.182\n",
       "Synopsis        0.000\n",
       "dtype: float64"
      ]
     },
     "execution_count": 13,
     "metadata": {},
     "output_type": "execute_result"
    }
   ],
   "source": [
    "# Calculating the percentage of missing value:\n",
    "missing_value_per=df.isnull().sum()/df.shape[0]*100\n",
    "missing_value_per"
   ]
  },
  {
   "cell_type": "code",
   "execution_count": 14,
   "metadata": {},
   "outputs": [
    {
     "data": {
      "text/plain": [
       "<AxesSubplot:>"
      ]
     },
     "execution_count": 14,
     "metadata": {},
     "output_type": "execute_result"
    },
    {
     "data": {
      "image/png": "[encoded data removed]",
      "text/plain": [
       "<Figure size 432x288 with 2 Axes>"
      ]
     },
     "metadata": {
      "needs_background": "light"
     },
     "output_type": "display_data"
    }
   ],
   "source": [
    "# Visulalizing Null values:\n",
    "sns.heatmap(df.isnull())"
   ]
  },
  {
   "cell_type": "markdown",
   "metadata": {},
   "source": [
    "### Note:\n",
    "* The white parts shows the null values in the dataset."
   ]
  },
  {
   "cell_type": "markdown",
   "metadata": {},
   "source": [
    "## Step 7: Removing The Missing Values:"
   ]
  },
  {
   "cell_type": "code",
   "execution_count": 15,
   "metadata": {},
   "outputs": [],
   "source": [
    "# Droping the missing rows:\n",
    "df2 = df.dropna(how='any',axis=0) "
   ]
  },
  {
   "cell_type": "code",
   "execution_count": 16,
   "metadata": {},
   "outputs": [
    {
     "data": {
      "text/plain": [
       "Series Title    0\n",
       "Release Year    0\n",
       "Runtime         0\n",
       "Genre           0\n",
       "Rating          0\n",
       "Cast            0\n",
       "Synopsis        0\n",
       "dtype: int64"
      ]
     },
     "execution_count": 16,
     "metadata": {},
     "output_type": "execute_result"
    }
   ],
   "source": [
    "# Verifing for missing values:\n",
    "df2.isnull().sum()"
   ]
  },
  {
   "cell_type": "code",
   "execution_count": 17,
   "metadata": {},
   "outputs": [
    {
     "data": {
      "text/plain": [
       "<AxesSubplot:>"
      ]
     },
     "execution_count": 17,
     "metadata": {},
     "output_type": "execute_result"
    },
    {
     "data": {
      "image/png": "[encoded data removed]",
      "text/plain": [
       "<Figure size 432x288 with 2 Axes>"
      ]
     },
     "metadata": {
      "needs_background": "light"
     },
     "output_type": "display_data"
    }
   ],
   "source": [
    "# Now visulalizing the dataset:\n",
    "sns.heatmap(df2.isnull())"
   ]
  },
  {
   "cell_type": "markdown",
   "metadata": {},
   "source": [
    "## Step 8: Exploring The Clean Dataset:"
   ]
  },
  {
   "cell_type": "code",
   "execution_count": 18,
   "metadata": {},
   "outputs": [
    {
     "data": {
      "text/html": [
       "<div>\n",
       "<style scoped>\n",
       "    .dataframe tbody tr th:only-of-type {\n",
       "        vertical-align: middle;\n",
       "    }\n",
       "\n",
       "    .dataframe tbody tr th {\n",
       "        vertical-align: top;\n",
       "    }\n",
       "\n",
       "    .dataframe thead th {\n",
       "        text-align: right;\n",
       "    }\n",
       "</style>\n",
       "<table border=\"1\" class=\"dataframe\">\n",
       "  <thead>\n",
       "    <tr style=\"text-align: right;\">\n",
       "      <th></th>\n",
       "      <th>Series Title</th>\n",
       "      <th>Release Year</th>\n",
       "      <th>Runtime</th>\n",
       "      <th>Genre</th>\n",
       "      <th>Rating</th>\n",
       "      <th>Cast</th>\n",
       "      <th>Synopsis</th>\n",
       "    </tr>\n",
       "  </thead>\n",
       "  <tbody>\n",
       "    <tr>\n",
       "      <th>count</th>\n",
       "      <td>49744</td>\n",
       "      <td>49744</td>\n",
       "      <td>49744</td>\n",
       "      <td>49744</td>\n",
       "      <td>49744</td>\n",
       "      <td>49744</td>\n",
       "      <td>49744</td>\n",
       "    </tr>\n",
       "    <tr>\n",
       "      <th>unique</th>\n",
       "      <td>9406</td>\n",
       "      <td>1063</td>\n",
       "      <td>236</td>\n",
       "      <td>653</td>\n",
       "      <td>86</td>\n",
       "      <td>9733</td>\n",
       "      <td>9665</td>\n",
       "    </tr>\n",
       "    <tr>\n",
       "      <th>top</th>\n",
       "      <td>The Office</td>\n",
       "      <td>(2022– )</td>\n",
       "      <td>60 min</td>\n",
       "      <td>Action, Adventure, Drama</td>\n",
       "      <td>8.1</td>\n",
       "      <td>Jenna Ortega, Hunter Doohan, Percy Hynes White...</td>\n",
       "      <td>Follows Wednesday Addams' years as a student, ...</td>\n",
       "    </tr>\n",
       "    <tr>\n",
       "      <th>freq</th>\n",
       "      <td>804</td>\n",
       "      <td>12925</td>\n",
       "      <td>10458</td>\n",
       "      <td>5721</td>\n",
       "      <td>4345</td>\n",
       "      <td>801</td>\n",
       "      <td>801</td>\n",
       "    </tr>\n",
       "  </tbody>\n",
       "</table>\n",
       "</div>"
      ],
      "text/plain": [
       "       Series Title Release Year Runtime                     Genre Rating  \\\n",
       "count         49744        49744   49744                     49744  49744   \n",
       "unique         9406         1063     236                       653     86   \n",
       "top      The Office     (2022– )  60 min  Action, Adventure, Drama    8.1   \n",
       "freq            804        12925   10458                      5721   4345   \n",
       "\n",
       "                                                     Cast  \\\n",
       "count                                               49744   \n",
       "unique                                               9733   \n",
       "top     Jenna Ortega, Hunter Doohan, Percy Hynes White...   \n",
       "freq                                                  801   \n",
       "\n",
       "                                                 Synopsis  \n",
       "count                                               49744  \n",
       "unique                                               9665  \n",
       "top     Follows Wednesday Addams' years as a student, ...  \n",
       "freq                                                  801  "
      ]
     },
     "execution_count": 18,
     "metadata": {},
     "output_type": "execute_result"
    }
   ],
   "source": [
    "# Seeing the basic properties:\n",
    "df2.describe()"
   ]
  },
  {
   "cell_type": "code",
   "execution_count": 19,
   "metadata": {},
   "outputs": [
    {
     "data": {
      "text/html": [
       "<div>\n",
       "<style scoped>\n",
       "    .dataframe tbody tr th:only-of-type {\n",
       "        vertical-align: middle;\n",
       "    }\n",
       "\n",
       "    .dataframe tbody tr th {\n",
       "        vertical-align: top;\n",
       "    }\n",
       "\n",
       "    .dataframe thead th {\n",
       "        text-align: right;\n",
       "    }\n",
       "</style>\n",
       "<table border=\"1\" class=\"dataframe\">\n",
       "  <thead>\n",
       "    <tr style=\"text-align: right;\">\n",
       "      <th></th>\n",
       "      <th>Series Title</th>\n",
       "      <th>Release Year</th>\n",
       "      <th>Runtime</th>\n",
       "      <th>Genre</th>\n",
       "      <th>Rating</th>\n",
       "      <th>Cast</th>\n",
       "      <th>Synopsis</th>\n",
       "    </tr>\n",
       "  </thead>\n",
       "  <tbody>\n",
       "    <tr>\n",
       "      <th>0</th>\n",
       "      <td>Wednesday</td>\n",
       "      <td>(2022– )</td>\n",
       "      <td>45 min</td>\n",
       "      <td>Comedy, Crime, Fantasy</td>\n",
       "      <td>8.2</td>\n",
       "      <td>Jenna Ortega, Hunter Doohan, Percy Hynes White...</td>\n",
       "      <td>Follows Wednesday Addams' years as a student, ...</td>\n",
       "    </tr>\n",
       "    <tr>\n",
       "      <th>1</th>\n",
       "      <td>Yellowstone</td>\n",
       "      <td>(2018– )</td>\n",
       "      <td>60 min</td>\n",
       "      <td>Drama, Western</td>\n",
       "      <td>8.7</td>\n",
       "      <td>Kevin Costner, Luke Grimes, Kelly Reilly, Wes ...</td>\n",
       "      <td>A ranching family in Montana faces off against...</td>\n",
       "    </tr>\n",
       "    <tr>\n",
       "      <th>2</th>\n",
       "      <td>The White Lotus</td>\n",
       "      <td>(2021–2023)</td>\n",
       "      <td>60 min</td>\n",
       "      <td>Comedy, Drama</td>\n",
       "      <td>7.9</td>\n",
       "      <td>Jennifer Coolidge, Jon Gries, F. Murray Abraha...</td>\n",
       "      <td>Set in a tropical resort, it follows the explo...</td>\n",
       "    </tr>\n",
       "    <tr>\n",
       "      <th>3</th>\n",
       "      <td>1923</td>\n",
       "      <td>(2022–2023)</td>\n",
       "      <td>60 min</td>\n",
       "      <td>Drama, Western</td>\n",
       "      <td>8.6</td>\n",
       "      <td>Harrison Ford, Helen Mirren, Brandon Sklenar, ...</td>\n",
       "      <td>The Duttons face a new set of challenges in th...</td>\n",
       "    </tr>\n",
       "    <tr>\n",
       "      <th>4</th>\n",
       "      <td>Jack Ryan</td>\n",
       "      <td>(2018– )</td>\n",
       "      <td>60 min</td>\n",
       "      <td>Action, Drama, Thriller</td>\n",
       "      <td>8.0</td>\n",
       "      <td>John Krasinski, Wendell Pierce, Michael Kelly,...</td>\n",
       "      <td>Up-and-coming CIA analyst, Jack Ryan, is thrus...</td>\n",
       "    </tr>\n",
       "  </tbody>\n",
       "</table>\n",
       "</div>"
      ],
      "text/plain": [
       "      Series Title Release Year Runtime                    Genre Rating  \\\n",
       "0        Wednesday     (2022– )  45 min   Comedy, Crime, Fantasy    8.2   \n",
       "1      Yellowstone     (2018– )  60 min           Drama, Western    8.7   \n",
       "2  The White Lotus  (2021–2023)  60 min            Comedy, Drama    7.9   \n",
       "3             1923  (2022–2023)  60 min           Drama, Western    8.6   \n",
       "4        Jack Ryan     (2018– )  60 min  Action, Drama, Thriller    8.0   \n",
       "\n",
       "                                                Cast  \\\n",
       "0  Jenna Ortega, Hunter Doohan, Percy Hynes White...   \n",
       "1  Kevin Costner, Luke Grimes, Kelly Reilly, Wes ...   \n",
       "2  Jennifer Coolidge, Jon Gries, F. Murray Abraha...   \n",
       "3  Harrison Ford, Helen Mirren, Brandon Sklenar, ...   \n",
       "4  John Krasinski, Wendell Pierce, Michael Kelly,...   \n",
       "\n",
       "                                            Synopsis  \n",
       "0  Follows Wednesday Addams' years as a student, ...  \n",
       "1  A ranching family in Montana faces off against...  \n",
       "2  Set in a tropical resort, it follows the explo...  \n",
       "3  The Duttons face a new set of challenges in th...  \n",
       "4  Up-and-coming CIA analyst, Jack Ryan, is thrus...  "
      ]
     },
     "execution_count": 19,
     "metadata": {},
     "output_type": "execute_result"
    }
   ],
   "source": [
    "# Viewing top 5 rows\n",
    "df2.head(5)"
   ]
  },
  {
   "cell_type": "code",
   "execution_count": 20,
   "metadata": {},
   "outputs": [
    {
     "data": {
      "text/plain": [
       "array(['Comedy, Crime, Fantasy', 'Drama, Western', 'Comedy, Drama',\n",
       "       'Action, Drama, Thriller', 'Crime, Drama',\n",
       "       'Action, Drama, Mystery', 'Action, Adventure, Crime',\n",
       "       'Action, Adventure, Drama', 'Drama, Horror, Thriller',\n",
       "       'Comedy, Drama, Romance', 'Drama, Thriller',\n",
       "       'Adventure, Drama, Family', 'Fantasy, Horror', 'Drama, Mystery',\n",
       "       'Crime, Drama, Thriller', 'Drama, Fantasy, Horror',\n",
       "       'Biography, Drama, History', 'Crime, Drama, Mystery',\n",
       "       'Drama, Mystery, Sci-Fi', 'Crime', 'Drama, Mystery, Thriller',\n",
       "       'Action, Comedy, Crime', 'Action, Adventure, Mystery', 'Drama',\n",
       "       'Comedy', 'Drama, Romance', 'Documentary, Drama, History',\n",
       "       'Comedy, Drama, Sport', 'Adventure, Drama, Sci-Fi',\n",
       "       'Comedy, Romance', 'Animation, Action, Adventure',\n",
       "       'Action, Crime, Drama', 'Animation, Adventure, Comedy',\n",
       "       'Action, Adventure, Comedy', 'Drama, Horror, Sci-Fi',\n",
       "       'Comedy, Crime, Drama', 'Drama, Sci-Fi, Thriller',\n",
       "       'Comedy, Fantasy', 'Action, Adventure, Fantasy',\n",
       "       'Biography, Comedy, Drama', 'Crime, Drama, Romance',\n",
       "       'Animation, Comedy', 'Drama, Horror, Mystery',\n",
       "       'Action, Drama, History', 'Comedy, Family, Romance',\n",
       "       'Drama, Fantasy, Romance', 'Comedy, Drama, Thriller',\n",
       "       'Comedy, Crime', 'Drama, History', 'Crime, Drama, Fantasy',\n",
       "       'Comedy, Drama, Music', 'Action, Adventure, Biography',\n",
       "       'Adventure, Drama, Fantasy', 'Drama, Romance, Sport',\n",
       "       'Action, Drama', 'Mystery', 'Drama, Fantasy, Mystery',\n",
       "       'Reality-TV', 'Action, Adventure, Sci-Fi',\n",
       "       'Drama, History, Romance', 'Action, Drama, Fantasy',\n",
       "       'Action, Comedy, Drama', 'Adventure, Drama, Thriller',\n",
       "       'Action, Drama, War', 'Drama, Sci-Fi', 'Adventure, Comedy, Drama',\n",
       "       'Comedy, Fantasy, Horror', 'Animation, Family', 'Thriller',\n",
       "       'Adventure, Fantasy, Romance', 'Comedy, Crime, Mystery',\n",
       "       'Animation, Short, Action', 'Animation, Comedy, Drama',\n",
       "       'Action, Drama, Sci-Fi', 'Comedy, Family, Horror',\n",
       "       'Crime, Mystery, Thriller', 'Biography, Crime, Drama',\n",
       "       'Comedy, Drama, War', 'Animation, Crime, Drama',\n",
       "       'Drama, Mystery, Romance', 'Western', 'Comedy, Drama, Fantasy',\n",
       "       'Drama, Sport', 'Drama, Family', 'Documentary', 'Comedy, Family',\n",
       "       'Comedy, Drama, Family', 'Crime, Drama, History',\n",
       "       'Animation, Action, Comedy', 'Comedy, Drama, Mystery',\n",
       "       'Comedy, Sci-Fi', 'Action, Comedy, Fantasy', 'Comedy, Game-Show',\n",
       "       'Action, Crime, Horror', 'Animation, Comedy, Romance',\n",
       "       'Action, Crime, Mystery', 'Crime, Drama, Horror',\n",
       "       'Action, Drama, Romance', 'Game-Show, Reality-TV',\n",
       "       'Animation, Comedy, Fantasy', 'Documentary, Comedy',\n",
       "       'Game-Show, Reality-TV, Romance', 'Animation, Comedy, Family',\n",
       "       'Drama, Family, Romance', 'Horror, Thriller', 'Comedy, Music',\n",
       "       'Drama, Fantasy, Sci-Fi', 'Drama, Horror',\n",
       "       'Animation, Action, Sport', 'Adventure, Comedy, Crime',\n",
       "       'Horror, Sci-Fi, Thriller', 'Comedy, Drama, Western',\n",
       "       'Documentary, Adventure', 'Comedy, Mystery, Sci-Fi',\n",
       "       'Documentary, Sport', 'Drama, Comedy, Crime',\n",
       "       'Action, Adventure, Family', 'Crime, Mystery',\n",
       "       'Adventure, Drama, Horror', 'Comedy, Mystery, Thriller',\n",
       "       'Adventure, Comedy, History', 'Biography, Drama, Sport',\n",
       "       'Drama, Fantasy, History', 'Drama, Fantasy', 'Action',\n",
       "       'Comedy, Sport, Talk-Show', 'Comedy, Horror',\n",
       "       'Documentary, Reality-TV', 'Drama, Music, Romance',\n",
       "       'Comedy, Family, Music', 'Comedy, Family, Fantasy',\n",
       "       'Action, Drama, Horror', 'Adventure, Comedy, Romance',\n",
       "       'Drama, Family, Western', 'Biography, Drama',\n",
       "       'Adventure, Game-Show, Reality-TV', 'Comedy, War',\n",
       "       'Adventure, Comedy, Reality-TV', 'Short, Comedy, Romance',\n",
       "       'Action, Horror, Sci-Fi', 'Short, Action, Thriller',\n",
       "       'Animation, Comedy, Sci-Fi', 'Action, Comedy, Family',\n",
       "       'Drama, Reality-TV', 'Comedy, Family, Sci-Fi',\n",
       "       'Adventure, Drama, Mystery', 'Documentary, Comedy, Reality-TV',\n",
       "       'Crime, Thriller', 'History, Thriller', 'Comedy, Sport',\n",
       "       'Animation, Action, Drama', 'Documentary, History',\n",
       "       'Short, Comedy, Drama', 'Adventure, Biography, Drama',\n",
       "       'Drama, Music', 'Adventure, Family, Fantasy', 'Adventure, Drama',\n",
       "       'Animation, Short, Adventure', 'Sci-Fi', 'Action, Adventure',\n",
       "       'Adventure, Comedy, Family', 'Action, Comedy',\n",
       "       'Drama, History, Western', 'Horror, Mystery', 'Comedy, Musical',\n",
       "       'Comedy, Horror, Mystery', 'Crime, Mystery, Romance',\n",
       "       'Comedy, History, War', 'Animation, Comedy, Music',\n",
       "       'Action, Crime, Thriller', 'Animation, Comedy, Horror',\n",
       "       'Drama, Romance, Sci-Fi', 'Documentary, Biography, Drama',\n",
       "       'Action, Adventure, Western', 'Comedy, History',\n",
       "       'Documentary, Crime', 'Documentary, Game-Show, Reality-TV',\n",
       "       'Comedy, Fantasy, Musical', 'Animation, Short, Comedy',\n",
       "       'Biography, Crime', 'Adventure, Drama, History',\n",
       "       'Action, History, War', 'Comedy, Drama, Musical',\n",
       "       'Animation, Action, Crime', 'Drama, War', '****',\n",
       "       'Family, Western', 'Documentary, Crime, Drama',\n",
       "       'Documentary, Crime, Mystery', 'Drama, Romance, Mystery',\n",
       "       'Drama, Family, Fantasy', 'Adventure, Game-Show, Mystery',\n",
       "       'Action, Comedy, Romance', 'Animation, Comedy, Crime',\n",
       "       'Family, Game-Show, Reality-TV', 'Fantasy, Horror, Mystery',\n",
       "       'Comedy, Music, Musical', 'Short, Comedy, Family',\n",
       "       'Drama, History, Thriller', 'Comedy, Drama, Sci-Fi',\n",
       "       'Romance, Thriller', 'Adventure, Fantasy', 'Sport',\n",
       "       'Adventure, Fantasy, Sci-Fi', 'Horror, Mystery, Thriller',\n",
       "       'Drama, Family, Reality-TV', 'Adventure, Drama, Western',\n",
       "       'Documentary, Fantasy, History', 'Animation, Adventure, Drama',\n",
       "       'Animation, Comedy, Musical', 'Game-Show',\n",
       "       'Documentary, History, Reality-TV', 'Adventure, Game-Show, Horror',\n",
       "       'Comedy, Reality-TV', 'Talk-Show', 'Comedy, Thriller',\n",
       "       'Short, Drama, Horror', 'Animation, Drama, Fantasy',\n",
       "       'Action, Sci-Fi', 'Adventure, Crime, Drama',\n",
       "       'Action, Crime, Fantasy', 'Documentary, History, War',\n",
       "       'Comedy, History, News', 'Documentary, Biography, History',\n",
       "       'Comedy, Reality-TV, Talk-Show', 'Horror, Reality-TV',\n",
       "       'Horror, Mystery, Reality-TV', 'Comedy, Mystery',\n",
       "       'Animation, Drama, Horror', 'Drama, History, War',\n",
       "       'Drama, Romance, War', 'Drama, Horror, Romance', 'Family',\n",
       "       'Action, Sci-Fi, Thriller', 'Comedy, Drama, Horror',\n",
       "       'Adventure, History, Horror', 'Comedy, Crime, Thriller',\n",
       "       'Documentary, News', 'Mystery, Thriller',\n",
       "       'Documentary, Adventure, Comedy', 'Comedy, Family, Musical',\n",
       "       'Adventure, Family, Game-Show', 'Animation, Drama, Thriller',\n",
       "       'Crime, Drama, Family', 'Action, Fantasy, Horror',\n",
       "       'Comedy, Drama, Reality-TV', 'Comedy, Fantasy, Romance',\n",
       "       'Comedy, Drama, History', 'Documentary, Mystery, Reality-TV',\n",
       "       'Fantasy, Horror, Sci-Fi', 'Short, Comedy',\n",
       "       'Fantasy, Mystery, Adventure', 'Reality-TV, Romance',\n",
       "       'Crime, Drama, Reality-TV', 'Reality-TV, Thriller',\n",
       "       'Comedy, Music, Talk-Show', 'Crime, Mystery, Drama',\n",
       "       'Comedy, Western', 'Fantasy, Mystery, Romance', 'Family, Fantasy',\n",
       "       'Comedy, Mystery, Romance', 'Action, Biography, Crime',\n",
       "       'Action, Comedy, Thriller', 'Game-Show, Music, Reality-TV',\n",
       "       'Comedy, Family, History', 'Comedy, Musical, Romance',\n",
       "       'Animation, Adventure, Fantasy', 'Action, Mystery, Thriller',\n",
       "       'Crime, Drama, Sci-Fi', 'Drama, Music, Musical', 'Family, Mystery',\n",
       "       'Comedy, Game-Show, Reality-TV', 'Adventure', 'Romance',\n",
       "       'Adventure, Comedy, Fantasy', 'Adventure, Comedy',\n",
       "       'Crime, Mystery, Reality-TV', 'Drama, Family, History',\n",
       "       'Animation, Adventure, Family', 'Adventure, Comedy, Sci-Fi',\n",
       "       'Documentary, Biography', 'Action, Crime',\n",
       "       'Documentary, Adventure, Reality-TV', 'Horror',\n",
       "       'Drama, Romance, Thriller', 'Drama, Musical', 'Romance, Western',\n",
       "       'Action, Sport', 'Comedy, Family, Talk-Show',\n",
       "       'Adventure, Mystery, Thriller', 'Adventure, Western',\n",
       "       'Comedy, Crime, Reality-TV', 'Adventure, Sci-Fi',\n",
       "       'Action, Adventure, Romance', 'Documentary, Biography, Sport',\n",
       "       'Fantasy, Horror, Romance', 'Drama, History, Mystery',\n",
       "       'Action, Crime, Reality-TV', 'Drama, Family, Music',\n",
       "       'Crime, Drama, Western', 'Animation, Drama, Romance',\n",
       "       'Short, Crime, Drama', 'Documentary, Biography, Crime',\n",
       "       'Comedy, Talk-Show', 'Biography, Drama, Music',\n",
       "       'Animation, Comedy, Sport', 'Animation, Comedy, Reality-TV',\n",
       "       'Drama, History, Sci-Fi', 'Game-Show, Reality-TV, Thriller',\n",
       "       'Comedy, Fantasy, Sci-Fi', 'Animation, Drama, Mystery',\n",
       "       'Family, Comedy', 'Animation, Action, Sci-Fi', 'Fantasy',\n",
       "       'Comedy, Reality-TV, Romance', 'Documentary, Reality-TV, Sport',\n",
       "       'Crime, Reality-TV', 'Animation, Family, Fantasy',\n",
       "       'Family, Fantasy, Musical', 'Comedy, News, Talk-Show',\n",
       "       'Action, Reality-TV', 'Family, Fantasy, Music',\n",
       "       'Drama, Game-Show, Reality-TV', 'Family, Game-Show',\n",
       "       'Comedy, Crime, Horror', 'Adventure, Family',\n",
       "       'Crime, Horror, Mystery', 'Drama, Fantasy, Music', 'Family, Music',\n",
       "       'Adventure, Family, Mystery', 'Action, Game-Show, Reality-TV',\n",
       "       'Action, Romance, Sci-Fi', 'Short, Horror',\n",
       "       'Family, Game-Show, Music', 'Mystery, Thriller, Fantasy',\n",
       "       'Adventure, Family, Romance', 'Adventure, Mystery, Reality-TV',\n",
       "       'Documentary, Short', 'Adventure, Comedy, Horror',\n",
       "       'Comedy, Crime, Action', 'Documentary, Drama, Reality-TV',\n",
       "       'Documentary, Reality-TV, Romance', 'Horror, Sci-Fi',\n",
       "       'Short, News', 'Comedy, Family, Sport', 'Comedy, Drama, Game-Show',\n",
       "       'Action, Comedy, Sci-Fi', 'Action, Comedy, Reality-TV',\n",
       "       'Action, Family, Fantasy', 'Adventure, Drama, Romance',\n",
       "       'Biography', 'Short, Action, Adventure', 'Family, Sport',\n",
       "       'Documentary, Adventure, Drama', 'Adventure, Sci-Fi, Thriller',\n",
       "       'Adventure, Biography, Comedy', 'Animation, Adventure, Sci-Fi',\n",
       "       'Documentary, Drama', 'Comedy, Crime, Family', 'News',\n",
       "       'Family, Fantasy, Mystery', 'Animation, Drama, Family',\n",
       "       'Drama, Comedy', 'News, Talk-Show', 'Documentary, Horror, Mystery',\n",
       "       'Animation, Action, Horror', 'Adventure, Fantasy, Mystery',\n",
       "       'Fantasy, Mystery, Thriller', 'Comedy, Game-Show, Music',\n",
       "       'Comedy, Family, Game-Show', 'Animation, Action, Fantasy',\n",
       "       'Adventure, Comedy, Western', 'Reality-TV, Sport',\n",
       "       'Comedy, Romance, Sci-Fi', 'Crime, Fantasy, Mystery',\n",
       "       'History, Mystery, Thriller', 'Drama, Family, Sport',\n",
       "       'Drama, Fantasy, Thriller', 'Crime, Drama, Music',\n",
       "       'Comedy, Family, Reality-TV', 'Animation, Adventure',\n",
       "       'Action, Crime, Romance', 'Comedy, Game-Show, Mystery',\n",
       "       'Adventure, Reality-TV', 'Crime, Mystery, Sci-Fi',\n",
       "       'Short, Comedy, Talk-Show', 'Animation, Action',\n",
       "       'Documentary, Family, History', 'Action, Comedy, History',\n",
       "       'Drama, News, Talk-Show', 'Comedy, Romance, Thriller',\n",
       "       'Drama, Thriller, War', 'Crime, Fantasy, Romance',\n",
       "       'Sci-Fi, Action, Fantasy', 'Animation, Crime, History',\n",
       "       'Fantasy, Action, Adventure', 'Family, Fantasy, Adventure',\n",
       "       'Short, Drama, Sci-Fi', 'Biography, History',\n",
       "       'Fantasy, Sci-Fi, Thriller', 'Romance, Drama',\n",
       "       'Drama, Reality-TV, Talk-Show', 'Short, Thriller',\n",
       "       'Comedy, Fantasy, Thriller', 'Action, Biography, Drama',\n",
       "       'Family, Comedy, Drama', 'Horror, Reality-TV, Sci-Fi',\n",
       "       'Animation, Drama', 'Short', 'Animation, Fantasy, Horror',\n",
       "       'Animation, Drama, History', 'Documentary, Action, Adventure',\n",
       "       'Documentary, History, Mystery', 'Music',\n",
       "       'Short, Adventure, Comedy', 'Animation, Action, Family',\n",
       "       'Action, Western', 'Action, Family, Adventure',\n",
       "       'Documentary, Animation, Comedy', 'Short, Comedy, Musical',\n",
       "       'Family, Reality-TV', 'Animation, Action, Mystery',\n",
       "       'Short, Comedy, Crime', 'Comedy, News', 'Documentary, Family',\n",
       "       'Adventure, Family, Western', 'Action, Drama, Music',\n",
       "       'Short, Drama', 'Action, News, Reality-TV',\n",
       "       'Adventure, Family, Comedy', 'Crime, Fantasy, Horror', 'Animation',\n",
       "       'Adventure, Family, Sci-Fi', 'Action, Comedy, Horror',\n",
       "       'Music, Talk-Show', 'Action, Mystery, Sci-Fi',\n",
       "       'Mystery, Reality-TV', 'Action, Drama, Family',\n",
       "       'Documentary, Biography, Music', 'Short, Adventure, Drama',\n",
       "       'Mystery, Sci-Fi, Thriller', 'Family, Sci-Fi',\n",
       "       'Adventure, Crime, Fantasy', 'Adventure, Thriller',\n",
       "       'Short, Drama, Romance', 'Action, Romance, Thriller',\n",
       "       'Adventure, Crime, Reality-TV', 'Comedy, Drama, Talk-Show',\n",
       "       'Comedy, Music, Romance', 'Documentary, Biography, Comedy',\n",
       "       'History, Music, News', 'Documentary, Short, Comedy',\n",
       "       'Adventure, Fantasy, Game-Show', 'Reality-TV, Western',\n",
       "       'Fantasy, Comedy', 'Fantasy, Romance',\n",
       "       'Action, Adventure, History', 'Animation, Fantasy',\n",
       "       'Animation, Action, Romance', 'Short, Comedy, Mystery',\n",
       "       'Music, Musical, Talk-Show', 'Crime, Horror, Thriller',\n",
       "       'Action, Fantasy, Romance', 'Biography, Comedy, Game-Show',\n",
       "       'Animation, Family, Sci-Fi', 'Comedy, Romance, Talk-Show',\n",
       "       'Comedy, Fantasy, Mystery', 'Family, Musical',\n",
       "       'Mystery, Romance, Thriller', 'Fantasy, History, Mystery',\n",
       "       'Game-Show, Music', 'Adventure, Fantasy, Reality-TV',\n",
       "       'Short, Comedy, Music', 'Animation, Short, Family',\n",
       "       'Reality-TV, Talk-Show', 'Comedy, Game-Show, News',\n",
       "       'Mystery, Romance', 'Romance, Sci-Fi',\n",
       "       'Documentary, Adventure, Mystery', 'Action, Crime, Sci-Fi',\n",
       "       'Animation, Sci-Fi', 'Fantasy, Family, Adventure',\n",
       "       'Animation, Family, Musical', 'Short, History, Reality-TV',\n",
       "       'Animation, Adventure, Crime', 'Adventure, Crime',\n",
       "       'Animation, Family, Comedy', 'Documentary, Horror',\n",
       "       'Comedy, Horror, Sci-Fi', 'Drama, Reality-TV, Romance',\n",
       "       'Comedy, Romance, Sport', 'Action, Game-Show, Sport',\n",
       "       'Animation, Short', 'Family, Mystery, Sci-Fi',\n",
       "       'Crime, Drama, Sport', 'Family, Drama',\n",
       "       'Adventure, Comedy, Mystery', 'Fantasy, Sci-Fi',\n",
       "       'Biography, Crime, History', 'Documentary, Comedy, Family',\n",
       "       'Animation, Action, Thriller', 'Documentary, Comedy, Horror',\n",
       "       'Animation, Family, Talk-Show', 'Comedy, Music, Reality-TV',\n",
       "       'Drama, Music, Sci-Fi', 'Documentary, Crime, History',\n",
       "       'Drama, Action', 'Family, Sci-Fi, Thriller',\n",
       "       'Comedy, Family, Mystery', 'Adventure, Animation, Family',\n",
       "       'Biography, Drama, Mystery', 'Documentary, Thriller',\n",
       "       'Documentary, Adventure, History', 'Music, Reality-TV',\n",
       "       'Documentary, War', 'Action, Comedy, Adventure',\n",
       "       'Animation, Drama, Sci-Fi', 'Fantasy, History, Thriller',\n",
       "       'Fantasy, History', 'Documentary, Music',\n",
       "       'Game-Show, Horror, Reality-TV', 'Short, Action, Comedy',\n",
       "       'Documentary, Reality-TV, Talk-Show',\n",
       "       'Adventure, Biography, Crime', 'Action, Mystery, Romance',\n",
       "       'Comedy, History, Musical', 'Action, Drama, Game-Show',\n",
       "       'Fantasy, Romance, Sci-Fi', 'Animation, Family, Action', 'History',\n",
       "       'Action, Talk-Show', 'Action, Horror, Thriller',\n",
       "       'Short, Comedy, Horror', 'Sci-Fi, Animation, Action',\n",
       "       'Adventure, Action, Comedy', 'Documentary, Drama, Thriller',\n",
       "       'Action, Family', 'Animation, Comedy, Mystery',\n",
       "       'Documentary, Animation, Biography', 'Animation, Horror, Mystery',\n",
       "       'Action, Animation, Adventure', 'Adventure, History',\n",
       "       'Animation, Drama, Sport', 'Comedy, Sci-Fi, Western',\n",
       "       'Documentary, Music, Reality-TV', 'Mystery, Western',\n",
       "       'Action, Adventure, War', 'Adventure, Drama, Reality-TV',\n",
       "       'Action, Sci-Fi, Family', 'Musical, Family, Comedy',\n",
       "       'History, Comedy, Romance', 'Documentary, Western',\n",
       "       'Short, Comedy, Fantasy', 'Adventure, Crime, Mystery',\n",
       "       'Action, Game-Show, History', 'Action, Animation, Comedy',\n",
       "       'Documentary, Adventure, Biography',\n",
       "       'Documentary, Comedy, History', 'Documentary, Animation, Sci-Fi',\n",
       "       'Documentary, Comedy, Drama', 'Documentary, History, Sport',\n",
       "       'Drama, Crime', 'Animation, Drama, Music', 'Short, Action, Crime',\n",
       "       'Biography, Horror, Mystery', 'Action, Adventure, Thriller',\n",
       "       'Adventure, Family, Reality-TV', 'Family, Fantasy, Sci-Fi',\n",
       "       'Adventure, Crime, Family', 'Documentary, Game-Show',\n",
       "       'Game-Show, Reality-TV, Sport', 'Animation, Biography, Family',\n",
       "       'Animation, Action, History', 'Documentary, Comedy, Crime',\n",
       "       'History, Talk-Show', 'Action, Fantasy, Mystery',\n",
       "       'Adventure, Reality-TV, Talk-Show', 'Documentary, Mystery, Sci-Fi',\n",
       "       'Drama, Talk-Show', 'Comedy, Reality-TV, Sport',\n",
       "       'Crime, Documentary', 'Documentary, Romance',\n",
       "       'Documentary, Sport, Talk-Show', 'Fantasy, Mystery, Sci-Fi',\n",
       "       'Adventure, Comedy, Game-Show', 'Comedy, Crime, Sci-Fi',\n",
       "       'Comedy, News, Reality-TV', 'Action, Fantasy, History',\n",
       "       'Action, Adventure, Game-Show', 'Animation, Fantasy, Mystery',\n",
       "       'Action, Comedy, Sport', 'Action, Animation, Fantasy',\n",
       "       'Music, Romance', 'Action, Reality-TV, Sport',\n",
       "       'Adventure, Western, Family', 'Short, Horror, Mystery',\n",
       "       'Documentary, History, Music', 'Romance, Comedy, Drama',\n",
       "       'Comedy, Horror, Reality-TV', 'Action, Family, Sport',\n",
       "       'Drama, Crime, Thriller', 'Family, Fantasy, Horror',\n",
       "       'Family, Reality-TV, Talk-Show', 'Comedy, Game-Show, Sport',\n",
       "       'Crime, History, Mystery', 'Animation, Comedy, News',\n",
       "       'Documentary, Mystery', 'Documentary, Action, War',\n",
       "       'Crime, Family, Mystery', 'Drama, Musical, Romance',\n",
       "       'Short, Crime', 'Drama, News, Reality-TV', 'Comedy, Documentary',\n",
       "       'Action, Thriller', 'History, Romance',\n",
       "       'Adventure, Romance, Sci-Fi', 'Crime, Drama, Game-Show',\n",
       "       'Animation, Horror, Sci-Fi', 'Short, Animation',\n",
       "       'Adventure, Drama, War', 'Short, Romance', 'Comedy, News, Sport',\n",
       "       'Drama, Comedy, Action', 'Biography, Music',\n",
       "       'Documentary, Mystery, Thriller',\n",
       "       'Documentary, Family, Reality-TV', 'News, Sport, Talk-Show',\n",
       "       'Animation, Short, Horror', 'Short, Comedy, History',\n",
       "       'Comedy, Romance, Music', 'Game-Show, Romance',\n",
       "       'Adventure, Family, History', 'Crime, Family',\n",
       "       'Biography, Family, Reality-TV',\n",
       "       'Documentary, Biography, Reality-TV', 'Drama, Mystery, Sport',\n",
       "       'Western, Drama, Family', 'Crime, Fantasy', 'Fantasy, Mystery',\n",
       "       'Action, Romance', 'Sci-Fi, Drama', 'Action, Fantasy, Sci-Fi',\n",
       "       'Action, History', 'Drama, Sport, Western',\n",
       "       'Documentary, Talk-Show', 'Adventure, Family, Horror',\n",
       "       'Family, Romance', 'Drama, Mystery, Comedy',\n",
       "       'Action, Sci-Fi, Adventure', 'Family, Game-Show, Mystery',\n",
       "       'Sci-Fi, Thriller', 'Animation, Sport', 'News, Sport'],\n",
       "      dtype=object)"
      ]
     },
     "execution_count": 20,
     "metadata": {},
     "output_type": "execute_result"
    }
   ],
   "source": [
    "# Viewing The `Genre` column:\n",
    "df2_genre=df2['Genre'].unique()\n",
    "df2_genre"
   ]
  },
  {
   "cell_type": "code",
   "execution_count": 21,
   "metadata": {},
   "outputs": [
    {
     "data": {
      "text/plain": [
       "{'****',\n",
       " 'Action',\n",
       " 'Adventure',\n",
       " 'Animation',\n",
       " 'Biography',\n",
       " 'Comedy',\n",
       " 'Crime',\n",
       " 'Documentary',\n",
       " 'Drama',\n",
       " 'Family',\n",
       " 'Fantasy',\n",
       " 'Game-Show',\n",
       " 'History',\n",
       " 'Horror',\n",
       " 'Music',\n",
       " 'Musical',\n",
       " 'Mystery',\n",
       " 'News',\n",
       " 'Reality-TV',\n",
       " 'Romance',\n",
       " 'Sci-Fi',\n",
       " 'Short',\n",
       " 'Sport',\n",
       " 'Talk-Show',\n",
       " 'Thriller',\n",
       " 'War',\n",
       " 'Western'}"
      ]
     },
     "execution_count": 21,
     "metadata": {},
     "output_type": "execute_result"
    }
   ],
   "source": [
    "# Seprating the Genres into single Genre:\n",
    "unique_values_genre = {val for sub_list in df2_genre for val in sub_list.split(', ')}\n",
    "unique_values_genre"
   ]
  },
  {
   "cell_type": "code",
   "execution_count": 22,
   "metadata": {},
   "outputs": [
    {
     "data": {
      "text/plain": [
       "array(['(2022– )', '(2018– )', '(2021–2023)', ..., '(1980–2003)',\n",
       "       '(1994–2005)', '(1988)'], dtype=object)"
      ]
     },
     "execution_count": 22,
     "metadata": {},
     "output_type": "execute_result"
    }
   ],
   "source": [
    "# Seening the `Release Year` column:\n",
    "df2_yr=df2['Release Year'].unique()\n",
    "df2_yr"
   ]
  },
  {
   "cell_type": "code",
   "execution_count": 23,
   "metadata": {},
   "outputs": [
    {
     "data": {
      "text/plain": [
       "array(['Jenna Ortega, Hunter Doohan, Percy Hynes White, Emma Myers',\n",
       "       'Kevin Costner, Luke Grimes, Kelly Reilly, Wes Bentley',\n",
       "       'Jennifer Coolidge, Jon Gries, F. Murray Abraham, Adam DiMarco',\n",
       "       ..., 'Tom Ward, Dominic Selwood, Rob Bell, James S. Corum',\n",
       "       'Paula Castaño, Kimberly Reyes, Alejandra Miranda, Adriana Ricardo',\n",
       "       'Gregg Wallace, Michel Roux Jr., Sean Pertwee, Monica Galetti'],\n",
       "      dtype=object)"
      ]
     },
     "execution_count": 23,
     "metadata": {},
     "output_type": "execute_result"
    }
   ],
   "source": [
    "# Seenig the `Cast` column:\n",
    "df2_cast=df2['Cast'].unique()\n",
    "df2_cast"
   ]
  },
  {
   "cell_type": "code",
   "execution_count": 24,
   "metadata": {},
   "outputs": [
    {
     "data": {
      "text/plain": [
       "{'Hasan Minhaj',\n",
       " 'Brendan Fraser',\n",
       " 'Rosario Corso',\n",
       " 'Miyoshi Umeki',\n",
       " 'Eom Hyo-Seob',\n",
       " 'Tiffany Haddish',\n",
       " 'Fred Astaire',\n",
       " 'Go Soo',\n",
       " 'Iris Adrian',\n",
       " 'David Bradley',\n",
       " 'Pelin Akil',\n",
       " 'Marina Gregory',\n",
       " 'Christophe Kourotchkine',\n",
       " 'Raphael Rowe',\n",
       " 'Marie Göranzon',\n",
       " 'Boyd Flinders',\n",
       " 'Heidi Arena',\n",
       " \"Katarina 'Kato' Wittich\",\n",
       " 'McKell David',\n",
       " 'Cynthia Klitbo',\n",
       " 'Véronique Beaudet',\n",
       " 'Caitlyn Bairstow',\n",
       " 'Livia Brito',\n",
       " 'Nathan Saidden',\n",
       " 'Alex Newell',\n",
       " 'Cree',\n",
       " 'Yootha Joyce',\n",
       " 'Ron Nyman',\n",
       " 'Leyla Tanlar',\n",
       " 'Morven Christie',\n",
       " 'Hana Selimovic',\n",
       " 'Carmen Lebbos',\n",
       " 'Bhavna Limbachia',\n",
       " 'Geert Van Rampelberg',\n",
       " 'Patricia Routledge',\n",
       " 'Angunnguaq Larsen',\n",
       " 'Meike Droste',\n",
       " 'Ralph Garman',\n",
       " 'Andrew Stevens',\n",
       " 'Mabuki Andô',\n",
       " 'Stuart Townsend',\n",
       " 'Liam Hemsworth',\n",
       " 'Amir Hossein Amirpour',\n",
       " 'Nicky Butt',\n",
       " 'Michael Jeter',\n",
       " 'Jack Shepherd',\n",
       " 'Kevin Eubanks',\n",
       " 'Angela Ko',\n",
       " 'Adriyan Rae',\n",
       " 'Nicholas Ralph',\n",
       " 'Cyrus Arnold',\n",
       " 'Jamison Stern',\n",
       " 'Sue Aikens',\n",
       " 'Tyler Grey',\n",
       " 'Michelle Visage',\n",
       " 'Bobby Cannavale',\n",
       " 'Janet Waldo',\n",
       " 'Jama Williamson',\n",
       " 'David Richardson',\n",
       " 'Joanne Froggatt',\n",
       " 'Sonali Bendre',\n",
       " 'Deborah Finley',\n",
       " 'Patrice Fisher',\n",
       " 'James Bland',\n",
       " 'Imogen Poots',\n",
       " 'Rikako Yagi',\n",
       " 'Arturo Peniche',\n",
       " 'Jason Liebrecht',\n",
       " 'Nyasha Hatendi',\n",
       " 'Lauren Simon',\n",
       " 'Star:Colin Farrell',\n",
       " 'Andrea Canning',\n",
       " 'Kwon Kim',\n",
       " 'Nancy Grace',\n",
       " 'Daniel Ray Rodriguez',\n",
       " 'Felicity Huffman',\n",
       " 'Marco Paiva',\n",
       " 'Sharon Horgan',\n",
       " 'Camille Grammer',\n",
       " 'Sang-woo Lee',\n",
       " 'Jack Gwaltney',\n",
       " 'Georgia Flood',\n",
       " 'Uta Prelle',\n",
       " 'Tracy Nelson',\n",
       " 'Kyra Zagorsky',\n",
       " 'Jon Foster',\n",
       " 'Emma Caulfield Ford',\n",
       " 'Kim Seon-Ho',\n",
       " 'Woo Da-Vi',\n",
       " 'Morey Amsterdam',\n",
       " 'Dietrich Siegl',\n",
       " 'Stephen Brooks',\n",
       " 'Landon Liboiron',\n",
       " 'Parker Stevenson',\n",
       " 'Justin Long',\n",
       " 'Lyndsay Lamb',\n",
       " 'Sarah Baeumler',\n",
       " 'Jake Weber',\n",
       " 'Liliana Inouye',\n",
       " 'Jeon Jae Yeong',\n",
       " 'Benian Dönmez',\n",
       " \"D'Pharaoh Woon-A-Tai\",\n",
       " 'Joel Bosqued',\n",
       " 'George Eads',\n",
       " 'Filipe Bragança',\n",
       " 'Hamish Clark',\n",
       " 'Dillon Lane',\n",
       " 'Matthew Fort',\n",
       " 'Anna DeCinque',\n",
       " \"Colin O'Brien\",\n",
       " 'Rosita Nellie Holse Gjurup',\n",
       " 'Aylin Tezel',\n",
       " 'Atul Kulkarni',\n",
       " 'Joshua Parris',\n",
       " 'Robin Leach',\n",
       " 'Baldur Einarsson',\n",
       " 'Robert Grubb',\n",
       " 'T.P. McKenna',\n",
       " 'Natasitt Uareksit',\n",
       " 'Sumaya Rida',\n",
       " 'John Ten Eyck',\n",
       " 'Keisha Castle-Hughes',\n",
       " 'Rocky',\n",
       " 'Erik Stocklin',\n",
       " 'Anthony Zerbe',\n",
       " 'Tobias Menzies',\n",
       " 'Yûko Gotô',\n",
       " 'Diana Henry',\n",
       " 'Jay Overholts',\n",
       " 'Natalie Madueño',\n",
       " 'Andrea Valls',\n",
       " 'Michael Fox',\n",
       " 'Jun Gong',\n",
       " 'Madison Iseman',\n",
       " 'Paula Gallego',\n",
       " 'Tony Schiavone',\n",
       " 'Vinay Pathak',\n",
       " 'Nikolay Chindyaykin',\n",
       " 'Stephen Bear',\n",
       " 'Ronan Vibert',\n",
       " 'Doug Spearman',\n",
       " 'Joel Gosselin',\n",
       " 'Molly Price',\n",
       " 'Ron Rifkin',\n",
       " 'Gary Valentine',\n",
       " 'Kendra C. Johnson',\n",
       " 'Thando Thabethe',\n",
       " 'Jan-Michael Vincent',\n",
       " 'Edward Hong',\n",
       " 'Maartje van de Wetering',\n",
       " 'Rachel Weisz',\n",
       " 'Katelyn Nacon',\n",
       " 'Darren Whitfield',\n",
       " 'Tessa Wyatt',\n",
       " 'Amy Ryan',\n",
       " 'Asher Spence',\n",
       " 'Pam Ferris',\n",
       " 'Kyung-soo Do',\n",
       " 'Antonella Costa',\n",
       " 'James Franco',\n",
       " 'Victor Garber',\n",
       " 'Brandon Osorio',\n",
       " 'Anna Ishii',\n",
       " 'Anja Lundqvist',\n",
       " 'Tara Strand',\n",
       " 'Reece Shearsmith',\n",
       " 'Brian White',\n",
       " 'Ruby Rose Turner',\n",
       " 'Ariyon Bakare',\n",
       " 'Jocko Sims',\n",
       " 'Ji-Yeon Lim',\n",
       " 'Russell Curry',\n",
       " 'Ali Hassan',\n",
       " 'Brian Johnson',\n",
       " 'Jennifer Winget',\n",
       " 'Elias Holmen Sørensen',\n",
       " 'Patricia Kalember',\n",
       " 'Alexander-Klaus Stecher',\n",
       " 'Mackenzie Phillips',\n",
       " 'Courtney Brown',\n",
       " 'Allen Jaffe',\n",
       " 'Fabián Ríos',\n",
       " 'Emmanuelle Chriqui',\n",
       " 'Peter Tork',\n",
       " 'Vladimir Karamazov',\n",
       " 'Laurent Capelluto',\n",
       " 'Adam Rodriguez',\n",
       " 'Chang-Seok Ko',\n",
       " 'Reba McEntire',\n",
       " 'Heimo Korth',\n",
       " 'Lorenza Izzo',\n",
       " 'Antonio Resines',\n",
       " 'Alexandra Jarvis',\n",
       " 'Ai Katô',\n",
       " 'Michelle Calvó',\n",
       " 'Ellen Hillingsø',\n",
       " 'Patrick Schwarzenegger',\n",
       " 'Brennan Thicke',\n",
       " 'Dayton Allen',\n",
       " 'Erik de Vogel',\n",
       " 'Cassandra Freeman',\n",
       " 'Erica Dasher',\n",
       " 'Sian Clifford',\n",
       " 'Angus Deayton',\n",
       " \"Brían F. O'Byrne\",\n",
       " 'Ferenc Lengyel',\n",
       " 'Ernie Hudson',\n",
       " 'Ezgi Mola',\n",
       " 'Robert Vaughn',\n",
       " 'Lesley Joseph',\n",
       " 'Josie Dunn',\n",
       " 'Shane Xiao',\n",
       " 'Riddhi Dogra',\n",
       " 'N.G. Berrill',\n",
       " 'Seo Ji-hye',\n",
       " 'Ferny Nopjira Lerkkajornnamkul',\n",
       " 'Dylan Schombing',\n",
       " 'Brit Marling',\n",
       " 'Charlotte Best',\n",
       " 'Waller Newell',\n",
       " 'Alicia Pilgrim',\n",
       " 'Atilla Karagöz',\n",
       " 'Jack Farthing',\n",
       " 'Hiromi Tsuru',\n",
       " 'Nishant Pandey',\n",
       " 'Nyambi Nyambi',\n",
       " 'Eddie Marsan',\n",
       " 'Anirban Chakrabarti',\n",
       " 'Michael Dietrich',\n",
       " 'Wes Chatham',\n",
       " 'Ricardo Medina Jr.',\n",
       " 'Danny Trejo',\n",
       " 'Chris Snail',\n",
       " 'Sophia Mitri Schloss',\n",
       " 'Julián Román',\n",
       " 'Park Seo-joon',\n",
       " 'Jennifer Saunders',\n",
       " 'Grant Wilson',\n",
       " 'Nikola Pejakovic',\n",
       " 'Axel Milberg',\n",
       " 'Tsahi Halevi',\n",
       " 'Soo-bin Bae',\n",
       " 'Paras Patel',\n",
       " 'Paul Scheer',\n",
       " 'Gina Ravera',\n",
       " 'Meghann Fahy',\n",
       " 'Joey Beni',\n",
       " 'Michele Morgan',\n",
       " 'Jillian Michaels',\n",
       " 'Billy Gray',\n",
       " 'Deanna Russo',\n",
       " 'William Roache',\n",
       " 'Geoff Desmoulin',\n",
       " 'Laird Hamilton',\n",
       " 'Declan Whaley',\n",
       " 'Rachel Vanoven',\n",
       " 'Michael Learned',\n",
       " 'Arden Myrin',\n",
       " 'Jimmy Patton',\n",
       " 'Keith Ferguson',\n",
       " 'Kai Zen',\n",
       " \"Mike 'The Miz' Mizanin\",\n",
       " 'Edith Mooers',\n",
       " 'Johnny Lewis',\n",
       " 'Ewen Bremner',\n",
       " 'Elizabeth Henstridge',\n",
       " 'Dermot Morgan',\n",
       " 'Frankie Cordero',\n",
       " 'Don Mason',\n",
       " 'Oliver Stone',\n",
       " 'Bridgit Mendler',\n",
       " 'Cody Ryan',\n",
       " 'Adam Woodyatt',\n",
       " 'Perry King',\n",
       " 'Kathryn Dennis',\n",
       " 'Alycia Pascual-Pena',\n",
       " 'Aurélien Wiik',\n",
       " 'Thom Bray',\n",
       " 'Bella Heathcote',\n",
       " 'Barbara Anderson',\n",
       " 'Tom Eastwood',\n",
       " 'Lorenza Indovina',\n",
       " 'Kia Pegg',\n",
       " 'Miki Sakai',\n",
       " 'Arnold Vosloo',\n",
       " 'Tony Rosato',\n",
       " 'Alin Panc',\n",
       " 'Alex Hom',\n",
       " 'Florence Longpré',\n",
       " 'Nat Wolff',\n",
       " 'Chopper Bernet',\n",
       " 'Jaime Bergman',\n",
       " 'Jonica Booth',\n",
       " 'Daniel Francis',\n",
       " 'Aaron Paul',\n",
       " 'Anne Hegerty',\n",
       " 'Paula Castaño',\n",
       " 'Brent Jennings',\n",
       " 'Quad Webb',\n",
       " 'Karen Cliche',\n",
       " 'Ronald Lacey',\n",
       " 'Johnny Crawford',\n",
       " 'Nigel Bennett',\n",
       " 'Frank Aletter',\n",
       " 'Matt Berry',\n",
       " 'Ben Cajee',\n",
       " 'Blanca Suárez',\n",
       " 'Luci Christian',\n",
       " 'Nancy Lee Grahn',\n",
       " 'Nathan Watt',\n",
       " 'Vanessa Carlisle',\n",
       " 'Wolf Williams',\n",
       " 'David Paetkau',\n",
       " 'Patrick Cassidy',\n",
       " 'Maximilian Hale',\n",
       " 'Dorte Højsted',\n",
       " 'Tim Grimm',\n",
       " 'Nathan Page',\n",
       " 'Yigit Ucan',\n",
       " 'Jonathan Patrick Moore',\n",
       " 'Thomas Heinze',\n",
       " 'Philypa Phoenix',\n",
       " 'Axel Muñiz',\n",
       " 'David Dencik',\n",
       " 'Derynn Paige',\n",
       " 'Katie Douglas',\n",
       " 'Kwang-ryul Jun',\n",
       " 'Colin McLean',\n",
       " 'Charlotte Hope',\n",
       " 'Peyton Manning',\n",
       " 'Richard Denning',\n",
       " 'Shane Harper',\n",
       " 'Denholm Elliott',\n",
       " 'Helen Sadler',\n",
       " 'Kate Oxley',\n",
       " 'Penny Pax',\n",
       " 'Bruno Sanches',\n",
       " 'Darya Balabanova',\n",
       " 'Yukari Kokubun',\n",
       " 'Tom Mayhue',\n",
       " 'Stacey Cadman',\n",
       " 'Gavin Marck',\n",
       " 'MC Lyte',\n",
       " 'Julie Perreault',\n",
       " 'Charlotte Booker',\n",
       " 'Jelena Djokic',\n",
       " 'Regina King',\n",
       " 'Abdullah Saeed',\n",
       " 'Martin Delaney',\n",
       " 'Cassidy Civiero',\n",
       " 'Tahj Mowry',\n",
       " 'Silvia Navarro',\n",
       " 'Patrice Robitaille',\n",
       " 'Aliyah Odoffin',\n",
       " 'Merlin Griffiths',\n",
       " 'Hannah Vandenbygaart',\n",
       " 'Caroline Catz',\n",
       " 'Abel Folk',\n",
       " 'Corey Parker',\n",
       " \"Richard O'Brien\",\n",
       " 'Bianca Comparato',\n",
       " 'Terry Kiely',\n",
       " 'Allison Scagliotti',\n",
       " 'Barry Sullivan',\n",
       " 'McKenna Maduli',\n",
       " 'Shauna Rae',\n",
       " 'Noriko Hidaka',\n",
       " 'Ryôka Yuzuki',\n",
       " 'Shari Lewis',\n",
       " 'Sean Bridgers',\n",
       " 'Becci Gemmell',\n",
       " 'Iara Nemirovsky',\n",
       " 'Juan Pablo Gamboa',\n",
       " 'Olivia Munn',\n",
       " 'Lamorne Morris',\n",
       " 'Michael J. Jackson',\n",
       " 'David Sant',\n",
       " 'Pochi Ducasse',\n",
       " 'Ryu Eui-Hyun',\n",
       " 'Adrian Zmed',\n",
       " 'Tetona Jackson',\n",
       " 'Roz Ryan',\n",
       " 'Jessica Sula',\n",
       " 'Song Chae-Yoon',\n",
       " 'Leslie Daniels',\n",
       " 'Lennie James',\n",
       " 'Tolu Ogunmefun',\n",
       " 'Jon Bander',\n",
       " 'Viet Anh Do',\n",
       " 'Bob Featherer',\n",
       " 'Michael Sheen',\n",
       " 'Gia Rose',\n",
       " 'Iantha Richardson',\n",
       " 'Jaaved Jaaferi',\n",
       " 'Atsumi Tanezaki',\n",
       " 'Tom Brown',\n",
       " 'Todd Liebler',\n",
       " 'Tim Conway',\n",
       " 'Phuwin Tangsakyuen',\n",
       " 'Corey Holcomb',\n",
       " 'Rochenda Sandall',\n",
       " 'Nikki Anders',\n",
       " 'Dong-won Seo',\n",
       " 'Paul Wahlberg',\n",
       " 'Paulina Alexis',\n",
       " 'Arjay Smith',\n",
       " 'Geraldine McEwan',\n",
       " 'Harit Cheewagaroon',\n",
       " 'Timothy Van Patten',\n",
       " 'Jim Tucker',\n",
       " 'Lucy DeVito',\n",
       " 'Star:Jean Stoffer',\n",
       " 'Traci Melchor',\n",
       " 'David Coburn',\n",
       " 'Lindsay Pulsipher',\n",
       " 'Bill Chadney',\n",
       " 'Corbet Woodall',\n",
       " 'Tracy Lynn Cruz',\n",
       " 'Chico Bean',\n",
       " 'Matleena Kuusniemi',\n",
       " 'Adriana Ozores',\n",
       " 'Edoardo Ballerini',\n",
       " 'Dax Shepard',\n",
       " 'Donna Pescow',\n",
       " 'Terry Crews',\n",
       " 'Indra Ové',\n",
       " 'Geneva Carr',\n",
       " 'Roberto Enríquez',\n",
       " 'Kim Min-jae',\n",
       " 'Cagla Irmak',\n",
       " 'Claire Sweeney',\n",
       " 'Carolina Miranda',\n",
       " 'Tim Healy',\n",
       " 'Byron Stewart',\n",
       " 'Seohyun',\n",
       " 'Teala Dunn',\n",
       " 'Maryedith Burrell',\n",
       " 'Walter Brennan',\n",
       " 'Barbara Sukowa',\n",
       " 'András Ötvös',\n",
       " 'Pauline McLynn',\n",
       " 'Cynthia Martinez',\n",
       " 'Arnold Schwarzenegger',\n",
       " 'Mugihito',\n",
       " 'Kunal Kapoor',\n",
       " 'James Rolfe',\n",
       " 'Jane Kennedy',\n",
       " 'Suttinut Uengtrakul',\n",
       " 'Alistair Moffat',\n",
       " 'Rachel Brosnahan',\n",
       " 'Aleeza Chanowitz',\n",
       " 'Bill Kurtis',\n",
       " 'LL Cool J',\n",
       " 'Jamie Farr',\n",
       " 'Javier Gutiérrez',\n",
       " 'Ahn Kil-kang',\n",
       " 'Veerle Baetens',\n",
       " 'McLean Stevenson',\n",
       " 'Anna Friel',\n",
       " 'Victor Williams',\n",
       " 'Rick Gomez',\n",
       " 'Jack Huston',\n",
       " 'Jamie Harris',\n",
       " 'Dru Berrymore',\n",
       " 'A.J. LoCascio',\n",
       " 'Joe Sawyer',\n",
       " 'Bill Booth',\n",
       " 'Joseph Ashton',\n",
       " 'Matt Craven',\n",
       " 'Claire Porter',\n",
       " 'Cal Freestone',\n",
       " 'Chris Mulkey',\n",
       " 'Tay Whiteside',\n",
       " 'Landon McDonald',\n",
       " 'Jessica Forte',\n",
       " 'Ward Kerremans',\n",
       " 'Leigh-Allyn Baker',\n",
       " 'Stanley Lebor',\n",
       " 'Jason R. Moore',\n",
       " 'Jonathan Majors',\n",
       " 'Liliana Arriaga',\n",
       " 'Marco Ricca',\n",
       " 'Shaun Sipos',\n",
       " 'Laila Lockhart Kraner',\n",
       " 'Nina Kunzendorf',\n",
       " 'Diarmuid Noyes',\n",
       " 'Graham McTavish',\n",
       " 'Martha Lambiri-Fedorów',\n",
       " 'Scott Speedman',\n",
       " 'Valerie Nieto',\n",
       " 'Kit Hoover',\n",
       " 'Peter Barkworth',\n",
       " 'John Grant',\n",
       " 'Troy Aikman',\n",
       " 'Noriaki Sugiyama',\n",
       " 'Richard Eden',\n",
       " 'Erhan Ufak',\n",
       " 'Yuval David',\n",
       " 'Jessica Christensen',\n",
       " 'Willie Geist',\n",
       " 'Anoop Desai',\n",
       " 'Torrance Coombs',\n",
       " 'Kristopher Turner',\n",
       " 'Maria Casadevall',\n",
       " 'Scheana Shay',\n",
       " 'Munro Chambers',\n",
       " 'Yôsuke Kubozuka',\n",
       " 'Brad Loekle',\n",
       " 'Debbie Siegel',\n",
       " 'Sian Taylor',\n",
       " 'Eric Lutes',\n",
       " 'Bruce A. Young',\n",
       " 'Misuzu Togashi',\n",
       " 'Charls Carroll',\n",
       " \"Cameron Prud'Homme\",\n",
       " 'Tara Ferguson',\n",
       " 'Matthew Leitch',\n",
       " 'Mustafa Avkiran',\n",
       " 'Mark Benninghoffen',\n",
       " 'Jonathan Patrick Foo',\n",
       " 'Jessica McNamee',\n",
       " 'Wes Bentley',\n",
       " 'Caroline Lee-Johnson',\n",
       " 'Akio Ross',\n",
       " 'Oscar Montoya',\n",
       " 'Samuel Davison',\n",
       " 'Julia Bersana',\n",
       " 'Jarrett Joyce',\n",
       " 'Mariann Aalda',\n",
       " 'Facundo Arana',\n",
       " 'Vanessa Simmons',\n",
       " 'Elizabeth Potthast',\n",
       " 'Hozumi Gôda',\n",
       " 'Dax Holt',\n",
       " 'Sora Amamiya',\n",
       " 'Yassine Ouaich',\n",
       " 'Lydia Lamaison',\n",
       " 'Star:Anika Noni Rose',\n",
       " 'Brett Jones',\n",
       " 'Lumena Aleluia',\n",
       " 'Steve Cirbus',\n",
       " 'John Tenuto',\n",
       " 'Ilker Kizmaz',\n",
       " 'Kendra Wilkinson',\n",
       " 'Mireille Enos',\n",
       " 'Dean McDermott',\n",
       " 'Benjamin Flores Jr.',\n",
       " 'Billy Gardell',\n",
       " 'Désirée Nosbusch',\n",
       " 'Beth Karas',\n",
       " 'Ritvik Sahore',\n",
       " 'Jenny Drugan',\n",
       " 'Amaliya Louis',\n",
       " 'Alex Garfin',\n",
       " 'James Gandolfini',\n",
       " 'Erik Corona',\n",
       " 'Ethan Payne',\n",
       " 'Zuria Vega',\n",
       " 'Belén Cuesta',\n",
       " 'Bruce Weitz',\n",
       " 'Max Baer Jr.',\n",
       " 'Umut Tabak',\n",
       " 'Sung Hoon',\n",
       " 'Pramod Pathak',\n",
       " 'Bob Golding',\n",
       " 'Niko Nelson',\n",
       " 'Margaret Ashcroft',\n",
       " 'Gabriel Iglesias',\n",
       " 'Lee Min-ki',\n",
       " 'Geoffrey Hutchings',\n",
       " 'Jessica Knappett',\n",
       " 'Sterling Knight',\n",
       " 'Elena Solovieva',\n",
       " 'Robbie Amell',\n",
       " 'Natasha Liu Bordizzo',\n",
       " 'Annie Maynard',\n",
       " 'Can Verel',\n",
       " 'Rich Sommer',\n",
       " 'Tim Kalpakis',\n",
       " 'Jennifer Ferrin',\n",
       " 'Kristina Tonteri-Young',\n",
       " 'Allan Svensson',\n",
       " 'María Castro',\n",
       " 'Wotan Wilke Möhring',\n",
       " 'Jianbin Chen',\n",
       " 'Lou Diamond Phillips',\n",
       " 'Dafne Keen',\n",
       " 'Ashley Boettcher',\n",
       " 'Eileen Walsh',\n",
       " 'Erik Per Sullivan',\n",
       " 'Noni Hazlehurst',\n",
       " 'Kellie Bright',\n",
       " 'Ted Lewis',\n",
       " 'Jan Gunnar Røise',\n",
       " 'Jojo Smollett',\n",
       " 'Heather Gonzalez',\n",
       " 'Pia Oscarsson',\n",
       " 'Virginia Hawkins',\n",
       " 'Nick Landis',\n",
       " 'Lance Lewman',\n",
       " 'Mary Page Keller',\n",
       " 'Jin-Woong Min',\n",
       " 'Olgun Toker',\n",
       " 'Peyush Bansal',\n",
       " 'Daveed Diggs',\n",
       " 'Craig Parkinson',\n",
       " 'Ron McLarty',\n",
       " 'Dhruv Sehgal',\n",
       " 'Sibley Scoles',\n",
       " 'Edvin Ryding',\n",
       " 'Tamala Jones',\n",
       " 'Tony Pitts',\n",
       " 'Nathan Foad',\n",
       " 'Stephan James',\n",
       " 'Moris Cohen',\n",
       " 'Morag Hood',\n",
       " 'Jesse Vilinsky',\n",
       " 'Branscombe Richmond',\n",
       " 'A.J. Saudin',\n",
       " 'Rick Spilman',\n",
       " 'Christina Salway',\n",
       " 'Lindsey Coulson',\n",
       " 'Daniel Brochu',\n",
       " 'Sianoa Smit-McPhee',\n",
       " 'Ceyda Düvenci',\n",
       " 'William Morgan Sheppard',\n",
       " 'Aleksey Kravchenko',\n",
       " 'Vahina Giocante',\n",
       " 'Kristy Philipps',\n",
       " 'Eric Jungmann',\n",
       " 'Matthew Levy',\n",
       " 'Harry Goz',\n",
       " 'Thibaut Evrard',\n",
       " 'Cathy Jones',\n",
       " 'James Anthony Pearson',\n",
       " 'Willow Smith',\n",
       " 'Tom van Kalmthout',\n",
       " 'Alfred Hsing',\n",
       " 'David Conrad',\n",
       " 'Sifanur Gül',\n",
       " 'Jeffrey De Serrano',\n",
       " 'Laura Bach',\n",
       " 'Brett Hudson',\n",
       " 'Michael Cole',\n",
       " 'Sally Rogers',\n",
       " 'Cedric Smith',\n",
       " 'Mohammed Elouardani',\n",
       " 'Hanne Mathisen Haga',\n",
       " 'Vince Corazza',\n",
       " 'Hayden Daviau',\n",
       " 'Stefanie Scott',\n",
       " 'Kaiji Tang',\n",
       " 'Jean-Jacques Rausin',\n",
       " 'Lali Espósito',\n",
       " 'Shizuka Furuya',\n",
       " 'Aleksandar Jovanovic',\n",
       " 'Georgina Rylance',\n",
       " 'Aarti Mann',\n",
       " 'Ainsley Howard',\n",
       " 'Emma Grabinsky',\n",
       " 'Christophe Rull',\n",
       " 'Aurora Perrineau',\n",
       " 'Patrick Levis',\n",
       " 'Christina Galioto',\n",
       " 'Vincent Redetzki',\n",
       " 'Jan Pol',\n",
       " 'Paolo Mazzarelli',\n",
       " 'Garett Maggart',\n",
       " 'Mathias Käki Jørgensen',\n",
       " 'Traci Braxton',\n",
       " 'Tom Kerridge',\n",
       " 'Bryce Green',\n",
       " 'Alonzo Williams',\n",
       " 'Aisling Franciosi',\n",
       " 'Glen Murphy',\n",
       " 'Tom Hopper',\n",
       " 'Shelby Rabara',\n",
       " 'Joey Eden',\n",
       " 'Mark Adair-Rios',\n",
       " 'Thierry Wermuth',\n",
       " 'Elisa Eliot',\n",
       " 'Lori Rutherford',\n",
       " 'Stay Human',\n",
       " 'Philip Casnoff',\n",
       " 'Soo-hyang Im',\n",
       " 'Star:Adil Ray',\n",
       " 'Sonja Morgan',\n",
       " 'Louis Beschin',\n",
       " 'Bridget Regan',\n",
       " 'Michael Tucker',\n",
       " 'Yaphet Kotto',\n",
       " 'Henri Szeps',\n",
       " 'Adjoa Andoh',\n",
       " 'Peter Weck',\n",
       " 'Ivana Baquero',\n",
       " 'Michael Klesic',\n",
       " 'Steven Williams',\n",
       " 'Rikke Lylloff',\n",
       " 'Anya Chalotra',\n",
       " 'Natalie Minnevik',\n",
       " 'José Luis Reséndez',\n",
       " 'Gonzo Jimenez',\n",
       " 'David Hitt',\n",
       " 'R.L. Stine',\n",
       " 'Julian Firth',\n",
       " 'Natalie Podiakova',\n",
       " 'Kevin Jonas',\n",
       " 'Denis Lill',\n",
       " 'Anthony Botelho',\n",
       " 'Victoria Wood',\n",
       " 'Jason David Frank',\n",
       " 'Richard Brancatisano',\n",
       " 'Nao Tamura',\n",
       " 'Jocelyn Macnab',\n",
       " 'Keisuke Komoto',\n",
       " 'Tim Progosh',\n",
       " 'John Ward',\n",
       " 'Sarah Alexander',\n",
       " 'Denise Nicholas',\n",
       " 'Matt Baker',\n",
       " 'Audrey Meadows',\n",
       " 'Keegan Allen',\n",
       " 'Chris Evans',\n",
       " 'Hamza Fouad',\n",
       " 'Angeline Ball',\n",
       " 'Alexandra Nechita',\n",
       " 'Courtney Taylor',\n",
       " 'Luke Mably',\n",
       " 'Edward Mulhare',\n",
       " 'Sandeep Kulkarni',\n",
       " 'Joely Fisher',\n",
       " 'Sandy Sidhu',\n",
       " 'Macit Koper',\n",
       " 'Saniyya Sidney',\n",
       " 'Simon Phillips',\n",
       " 'Tony Hancock',\n",
       " 'Jereme Leonard',\n",
       " 'Caroline Schlitt',\n",
       " 'Kôichi Chiba',\n",
       " 'Razor Rizzotti',\n",
       " 'Fábio Lago',\n",
       " 'Kamil McFadden',\n",
       " 'Anna Lise Phillips',\n",
       " 'Lou Ferrigno',\n",
       " 'Mónica Huarte',\n",
       " 'Sofia Tjelta',\n",
       " 'Lauren German',\n",
       " 'Stephanie Vogt',\n",
       " 'Kaye Ballard',\n",
       " 'James May',\n",
       " 'Hannah Kasulka',\n",
       " 'Konsta Laakso',\n",
       " 'Valeria Villa',\n",
       " 'Bernard Behrens',\n",
       " 'Philip Baker Hall',\n",
       " 'Arlene McQuade',\n",
       " 'Krizia Bajos',\n",
       " 'Lukasz Simlat',\n",
       " 'Zahra Ahmadi',\n",
       " 'Zoe Wood',\n",
       " 'Halston Sage',\n",
       " 'Gabriel Soto',\n",
       " 'Frankie Adams',\n",
       " 'Roger Hazard',\n",
       " 'Son Woo-Hyun',\n",
       " 'Pat Cashman',\n",
       " 'Frank Deford',\n",
       " 'Flip Van der Kuil',\n",
       " 'Reg Varney',\n",
       " 'Stacie Chan',\n",
       " 'Danielle Rose Russell',\n",
       " 'Jefferson Davis',\n",
       " 'Brooklyn Lowe',\n",
       " 'Rachel La Scalla',\n",
       " 'Kazunari Tanaka',\n",
       " 'Jorge Caballero',\n",
       " 'Akane Fujita',\n",
       " 'Hal Linden',\n",
       " 'Zac Fine',\n",
       " 'Josh Owens',\n",
       " 'Félicité Chaton',\n",
       " 'Leslie Davis',\n",
       " 'Pauline Moran',\n",
       " 'Allan Avery',\n",
       " 'Yvette Gonzalez-Nacer',\n",
       " 'Dean Gladstone',\n",
       " 'John Barron',\n",
       " 'Mark Tallman',\n",
       " 'Rahul Tewari',\n",
       " 'Michael Warren',\n",
       " 'Christian Clemenson',\n",
       " 'Ruth Goodman',\n",
       " 'Matt Taibbi',\n",
       " 'Jock Mahoney',\n",
       " 'David Childress',\n",
       " 'Corentin Fila',\n",
       " 'Jay Pharoah',\n",
       " 'Debbie Rochon',\n",
       " 'Ulla Skoog',\n",
       " 'Tom Vermeir',\n",
       " 'Sharon Small',\n",
       " 'Felix Solis',\n",
       " 'Marvin Kaplan',\n",
       " 'Carla Campra',\n",
       " 'Maheep Kapoor',\n",
       " 'Joe Negri',\n",
       " 'Raphaël Personnaz',\n",
       " 'Terry Scott',\n",
       " 'Allison Munn',\n",
       " 'Helen Lawal',\n",
       " 'Faye McKeever',\n",
       " 'Ricky Montaner',\n",
       " 'Priya Bapat',\n",
       " 'Patricia Stevens',\n",
       " 'Brennley Brown',\n",
       " 'Charles Esten',\n",
       " 'Chaney Moore',\n",
       " 'Sidney Starr',\n",
       " 'Tomoya Nakamura',\n",
       " 'Geoffrey Arend',\n",
       " 'Gérard Darmon',\n",
       " 'Daniel Choi',\n",
       " 'Ryan Pinkston',\n",
       " 'Justin Cunningham',\n",
       " 'Lori Tan Chinn',\n",
       " 'Lucas Bryant',\n",
       " 'Austin North',\n",
       " 'Guido Caprino',\n",
       " 'Nino Frassica',\n",
       " 'Justin Briner',\n",
       " 'Arthur Batanides',\n",
       " 'Karen Hines',\n",
       " 'Chadwick Hopkins',\n",
       " 'Robin McLeavy',\n",
       " 'Hugo Becker',\n",
       " 'Jack Coleman',\n",
       " 'Anna Åström',\n",
       " 'Aubrey K. Miller',\n",
       " 'Noo-Ri Bae',\n",
       " 'Sidharth Shukla',\n",
       " 'Kristoff St. John',\n",
       " 'Sei Shiraishi',\n",
       " 'Cristina Serban Ionda',\n",
       " 'Cam Clarke',\n",
       " 'Catherine McDonald',\n",
       " 'Vivian Cabell',\n",
       " 'Michael Pongracz',\n",
       " 'Jeremy Wells',\n",
       " 'Roma Downey',\n",
       " 'Dylan Fuentes',\n",
       " 'John Roberts',\n",
       " 'Freddie Highmore',\n",
       " 'Choi Minho',\n",
       " 'Bruce Mitchell',\n",
       " 'Lucky Vanous',\n",
       " 'Ed Bishop',\n",
       " 'Mike Mitchell',\n",
       " 'Pedro Salamanca',\n",
       " 'Abby Bergman',\n",
       " 'Jung Suk-yong',\n",
       " 'Louis Hunter',\n",
       " 'Paget Brewster',\n",
       " 'Tasha Lawrence',\n",
       " 'Hajar Brown',\n",
       " 'Spencer Macpherson',\n",
       " 'Scott Gorman',\n",
       " 'Jim Henshaw',\n",
       " 'Susana Lozano',\n",
       " 'Andrzej Chyra',\n",
       " 'Wacinyeya Iwasaka Yracheta',\n",
       " 'Song Hye-Kyo',\n",
       " \"Con O'Neill\",\n",
       " 'Karlijn Sileghem',\n",
       " 'Christine Lee',\n",
       " 'Laurent Andruet',\n",
       " 'Linda Evans',\n",
       " 'Vanda Chaloupková',\n",
       " 'Sally Grace',\n",
       " 'Noah Reid',\n",
       " 'Theresa Caputo',\n",
       " 'Chloe Veitch',\n",
       " 'Alma Ekehed Thomsen',\n",
       " 'Troy Guthrie',\n",
       " 'Ren Meguro',\n",
       " 'David Ankrum',\n",
       " 'Dichen Lachman',\n",
       " 'Tori Allen-Martin',\n",
       " 'Lucas Englander',\n",
       " 'Baeyen Hoffman',\n",
       " 'Vincent Ebrahim',\n",
       " 'Zahra Newman',\n",
       " 'Jérôme Humm',\n",
       " 'Diana Amft',\n",
       " 'Lamont Bentley',\n",
       " 'Pedro Díez del Corral',\n",
       " 'Malika Lim',\n",
       " 'Wyatt White',\n",
       " 'Elsie Brockbank',\n",
       " 'Jason Forbes',\n",
       " 'Abdulmohsen Alnemr',\n",
       " 'África Zavala',\n",
       " 'Charlie Rowe',\n",
       " 'Joanna Kanska',\n",
       " 'Anthony Ramos',\n",
       " 'Yagiz Can Konyali',\n",
       " 'John Ennis',\n",
       " 'Risa Kubota',\n",
       " 'Lee Na-young',\n",
       " 'Michael McKinley',\n",
       " 'Will Akana',\n",
       " 'Jearnest Corchado',\n",
       " 'Lea Drinda',\n",
       " 'Shirley Bousquet',\n",
       " 'Lynn Van Royen',\n",
       " 'Tom Vitale',\n",
       " 'Darron',\n",
       " 'Hudson Yang',\n",
       " 'John Early',\n",
       " 'Frances Barber',\n",
       " 'Johan Hafezi',\n",
       " 'Chantel Riley',\n",
       " 'Wdeth Gabriel',\n",
       " 'Patch Darragh',\n",
       " 'Jessica Phillips',\n",
       " 'Justin Baldoni',\n",
       " 'Michael Lott',\n",
       " 'Adewale Akinnuoye-Agbaje',\n",
       " 'Tim Allen',\n",
       " 'Erich Bergen',\n",
       " 'Zyra Gorecki',\n",
       " 'Mason Wells',\n",
       " 'Dante Cimadamore',\n",
       " 'Aaron Evans',\n",
       " 'María del Carmen Félix',\n",
       " 'Gus Mercurio',\n",
       " 'Charissa Thompson',\n",
       " 'Nur Fettahoglu',\n",
       " 'Stephanie Gosk',\n",
       " 'Mike Tyson',\n",
       " 'Leonor Watling',\n",
       " 'Billy Dee Williams',\n",
       " 'Bruno The Bear',\n",
       " 'Hugh Jackman',\n",
       " 'Mia Lyhne',\n",
       " 'Denis Safarík',\n",
       " 'Afra Saraçoglu',\n",
       " 'Lucy Cohu',\n",
       " 'Dan Green',\n",
       " 'Gage Munroe',\n",
       " 'Kareem Abdul-Jabbar',\n",
       " 'Christie Brimberry',\n",
       " 'Wesley Mann',\n",
       " 'Dimitri Leonidas',\n",
       " 'Alicia Silverstone',\n",
       " 'Sarah Gordy',\n",
       " 'Ryan Hansen',\n",
       " 'Lorraine Kelly',\n",
       " 'Dong-il Sung',\n",
       " 'Michael Brandon',\n",
       " 'Mikael Fitoussi',\n",
       " 'Todd Schramke',\n",
       " 'Judy Prescott',\n",
       " 'Rhea Seehorn',\n",
       " 'Jane Wymark',\n",
       " 'Susie Feldman',\n",
       " 'Paul McGinnis',\n",
       " 'Ysa Penarejo',\n",
       " 'Nicolai Jørgensen',\n",
       " 'Cary-Hiroyuki Tagawa',\n",
       " 'Brian Regan',\n",
       " 'Gaia Girace',\n",
       " 'William Perrie',\n",
       " 'Jack Black',\n",
       " 'Chris Lindsay',\n",
       " 'Mads Ousdal',\n",
       " 'William Devane',\n",
       " 'Ankush Hazra',\n",
       " 'Indiana Massara',\n",
       " 'Robert Dean II',\n",
       " 'Saori Higashi',\n",
       " 'Matthew Ashforde',\n",
       " 'Aidan Drummond',\n",
       " 'Sandra Loncaric',\n",
       " 'Brad Womack',\n",
       " 'Christine Branstad',\n",
       " 'Nicki Vickery',\n",
       " 'Joshua Zeman',\n",
       " 'Lee Thompson Young',\n",
       " 'Massi Furlan',\n",
       " 'Danny Adams',\n",
       " 'Ranvir Shorey',\n",
       " 'Ashleigh Aston Moore',\n",
       " 'Penny Marshall',\n",
       " 'Kether Donohue',\n",
       " 'Hassan Javed',\n",
       " 'Tony Sperandeo',\n",
       " 'Jason Watkins',\n",
       " 'Alexandre Carrière',\n",
       " 'Takeru Satoh',\n",
       " 'Sidney James',\n",
       " ...}"
      ]
     },
     "execution_count": 24,
     "metadata": {},
     "output_type": "execute_result"
    }
   ],
   "source": [
    "# Seprating The `Costs` into singel Cast:\n",
    "unique_values_cast = {val for sub_list in df2_cast for val in sub_list.split(', ')}\n",
    "unique_values_cast"
   ]
  },
  {
   "cell_type": "markdown",
   "metadata": {},
   "source": [
    "###  Building a function to filter the dataset w.r.t. Genre:\n"
   ]
  },
  {
   "cell_type": "code",
   "execution_count": 25,
   "metadata": {},
   "outputs": [],
   "source": [
    "#for genre in unique_values_genre:\n",
    "def filter_by_genre(df2, genre):\n",
    "    \"\"\"\n",
    "    Filters a DataFrame by genre\n",
    "    \n",
    "    Parameters:\n",
    "        - df (DataFrame): The DataFrame to filter\n",
    "        - genre (str): The genre to filter by\n",
    "        \n",
    "    Returns:\n",
    "        - DataFrame: The filtered DataFrame\n",
    "    \"\"\"\n",
    "    filtered_data = df2['Series Title'].loc[df['Genre'].str.contains(genre)]\n",
    "    return filtered_data"
   ]
  },
  {
   "cell_type": "code",
   "execution_count": 26,
   "metadata": {},
   "outputs": [
    {
     "data": {
      "text/plain": [
       "4                                        Jack Ryan\n",
       "6                              Alice in Borderland\n",
       "7                                      The Recruit\n",
       "8                                           Willow\n",
       "9                                   The Last of Us\n",
       "                           ...                    \n",
       "49973                          House of the Dragon\n",
       "49980                                  The Witcher\n",
       "49981                                     The Boys\n",
       "49982           National Treasure: Edge of History\n",
       "49997    The Lord of the Rings: The Rings of Power\n",
       "Name: Series Title, Length: 11299, dtype: object"
      ]
     },
     "execution_count": 26,
     "metadata": {},
     "output_type": "execute_result"
    }
   ],
   "source": [
    "# Checking the function:\n",
    "filter_by_genre(df2, 'Action')"
   ]
  },
  {
   "cell_type": "markdown",
   "metadata": {},
   "source": [
    "# 9 Analyzing The Dataset:"
   ]
  },
  {
   "cell_type": "markdown",
   "metadata": {},
   "source": [
    "## 9.1 Analyzing w.r.t. Genre:"
   ]
  },
  {
   "cell_type": "code",
   "execution_count": 27,
   "metadata": {},
   "outputs": [
    {
     "data": {
      "text/html": [
       "<div>\n",
       "<style scoped>\n",
       "    .dataframe tbody tr th:only-of-type {\n",
       "        vertical-align: middle;\n",
       "    }\n",
       "\n",
       "    .dataframe tbody tr th {\n",
       "        vertical-align: top;\n",
       "    }\n",
       "\n",
       "    .dataframe thead th {\n",
       "        text-align: right;\n",
       "    }\n",
       "</style>\n",
       "<table border=\"1\" class=\"dataframe\">\n",
       "  <thead>\n",
       "    <tr style=\"text-align: right;\">\n",
       "      <th></th>\n",
       "      <th>****</th>\n",
       "      <th>Action</th>\n",
       "      <th>Adventure</th>\n",
       "      <th>Animation</th>\n",
       "      <th>Biography</th>\n",
       "      <th>Comedy</th>\n",
       "      <th>Crime</th>\n",
       "      <th>Documentary</th>\n",
       "      <th>Drama</th>\n",
       "      <th>Family</th>\n",
       "      <th>...</th>\n",
       "      <th>News</th>\n",
       "      <th>Reality-TV</th>\n",
       "      <th>Romance</th>\n",
       "      <th>Sci-Fi</th>\n",
       "      <th>Short</th>\n",
       "      <th>Sport</th>\n",
       "      <th>Talk-Show</th>\n",
       "      <th>Thriller</th>\n",
       "      <th>War</th>\n",
       "      <th>Western</th>\n",
       "    </tr>\n",
       "  </thead>\n",
       "  <tbody>\n",
       "    <tr>\n",
       "      <th>0</th>\n",
       "      <td>0</td>\n",
       "      <td>0</td>\n",
       "      <td>0</td>\n",
       "      <td>0</td>\n",
       "      <td>0</td>\n",
       "      <td>1</td>\n",
       "      <td>1</td>\n",
       "      <td>0</td>\n",
       "      <td>0</td>\n",
       "      <td>0</td>\n",
       "      <td>...</td>\n",
       "      <td>0</td>\n",
       "      <td>0</td>\n",
       "      <td>0</td>\n",
       "      <td>0</td>\n",
       "      <td>0</td>\n",
       "      <td>0</td>\n",
       "      <td>0</td>\n",
       "      <td>0</td>\n",
       "      <td>0</td>\n",
       "      <td>0</td>\n",
       "    </tr>\n",
       "    <tr>\n",
       "      <th>1</th>\n",
       "      <td>0</td>\n",
       "      <td>0</td>\n",
       "      <td>0</td>\n",
       "      <td>0</td>\n",
       "      <td>0</td>\n",
       "      <td>0</td>\n",
       "      <td>0</td>\n",
       "      <td>0</td>\n",
       "      <td>1</td>\n",
       "      <td>0</td>\n",
       "      <td>...</td>\n",
       "      <td>0</td>\n",
       "      <td>0</td>\n",
       "      <td>0</td>\n",
       "      <td>0</td>\n",
       "      <td>0</td>\n",
       "      <td>0</td>\n",
       "      <td>0</td>\n",
       "      <td>0</td>\n",
       "      <td>0</td>\n",
       "      <td>1</td>\n",
       "    </tr>\n",
       "    <tr>\n",
       "      <th>2</th>\n",
       "      <td>0</td>\n",
       "      <td>0</td>\n",
       "      <td>0</td>\n",
       "      <td>0</td>\n",
       "      <td>0</td>\n",
       "      <td>1</td>\n",
       "      <td>0</td>\n",
       "      <td>0</td>\n",
       "      <td>1</td>\n",
       "      <td>0</td>\n",
       "      <td>...</td>\n",
       "      <td>0</td>\n",
       "      <td>0</td>\n",
       "      <td>0</td>\n",
       "      <td>0</td>\n",
       "      <td>0</td>\n",
       "      <td>0</td>\n",
       "      <td>0</td>\n",
       "      <td>0</td>\n",
       "      <td>0</td>\n",
       "      <td>0</td>\n",
       "    </tr>\n",
       "    <tr>\n",
       "      <th>3</th>\n",
       "      <td>0</td>\n",
       "      <td>0</td>\n",
       "      <td>0</td>\n",
       "      <td>0</td>\n",
       "      <td>0</td>\n",
       "      <td>0</td>\n",
       "      <td>0</td>\n",
       "      <td>0</td>\n",
       "      <td>1</td>\n",
       "      <td>0</td>\n",
       "      <td>...</td>\n",
       "      <td>0</td>\n",
       "      <td>0</td>\n",
       "      <td>0</td>\n",
       "      <td>0</td>\n",
       "      <td>0</td>\n",
       "      <td>0</td>\n",
       "      <td>0</td>\n",
       "      <td>0</td>\n",
       "      <td>0</td>\n",
       "      <td>1</td>\n",
       "    </tr>\n",
       "    <tr>\n",
       "      <th>4</th>\n",
       "      <td>0</td>\n",
       "      <td>1</td>\n",
       "      <td>0</td>\n",
       "      <td>0</td>\n",
       "      <td>0</td>\n",
       "      <td>0</td>\n",
       "      <td>0</td>\n",
       "      <td>0</td>\n",
       "      <td>1</td>\n",
       "      <td>0</td>\n",
       "      <td>...</td>\n",
       "      <td>0</td>\n",
       "      <td>0</td>\n",
       "      <td>0</td>\n",
       "      <td>0</td>\n",
       "      <td>0</td>\n",
       "      <td>0</td>\n",
       "      <td>0</td>\n",
       "      <td>1</td>\n",
       "      <td>0</td>\n",
       "      <td>0</td>\n",
       "    </tr>\n",
       "    <tr>\n",
       "      <th>...</th>\n",
       "      <td>...</td>\n",
       "      <td>...</td>\n",
       "      <td>...</td>\n",
       "      <td>...</td>\n",
       "      <td>...</td>\n",
       "      <td>...</td>\n",
       "      <td>...</td>\n",
       "      <td>...</td>\n",
       "      <td>...</td>\n",
       "      <td>...</td>\n",
       "      <td>...</td>\n",
       "      <td>...</td>\n",
       "      <td>...</td>\n",
       "      <td>...</td>\n",
       "      <td>...</td>\n",
       "      <td>...</td>\n",
       "      <td>...</td>\n",
       "      <td>...</td>\n",
       "      <td>...</td>\n",
       "      <td>...</td>\n",
       "      <td>...</td>\n",
       "    </tr>\n",
       "    <tr>\n",
       "      <th>49995</th>\n",
       "      <td>0</td>\n",
       "      <td>0</td>\n",
       "      <td>0</td>\n",
       "      <td>0</td>\n",
       "      <td>0</td>\n",
       "      <td>0</td>\n",
       "      <td>1</td>\n",
       "      <td>0</td>\n",
       "      <td>1</td>\n",
       "      <td>0</td>\n",
       "      <td>...</td>\n",
       "      <td>0</td>\n",
       "      <td>0</td>\n",
       "      <td>0</td>\n",
       "      <td>0</td>\n",
       "      <td>0</td>\n",
       "      <td>0</td>\n",
       "      <td>0</td>\n",
       "      <td>0</td>\n",
       "      <td>0</td>\n",
       "      <td>0</td>\n",
       "    </tr>\n",
       "    <tr>\n",
       "      <th>49996</th>\n",
       "      <td>0</td>\n",
       "      <td>0</td>\n",
       "      <td>1</td>\n",
       "      <td>0</td>\n",
       "      <td>0</td>\n",
       "      <td>0</td>\n",
       "      <td>0</td>\n",
       "      <td>0</td>\n",
       "      <td>1</td>\n",
       "      <td>0</td>\n",
       "      <td>...</td>\n",
       "      <td>0</td>\n",
       "      <td>0</td>\n",
       "      <td>0</td>\n",
       "      <td>1</td>\n",
       "      <td>0</td>\n",
       "      <td>0</td>\n",
       "      <td>0</td>\n",
       "      <td>0</td>\n",
       "      <td>0</td>\n",
       "      <td>0</td>\n",
       "    </tr>\n",
       "    <tr>\n",
       "      <th>49997</th>\n",
       "      <td>0</td>\n",
       "      <td>1</td>\n",
       "      <td>1</td>\n",
       "      <td>0</td>\n",
       "      <td>0</td>\n",
       "      <td>0</td>\n",
       "      <td>0</td>\n",
       "      <td>0</td>\n",
       "      <td>1</td>\n",
       "      <td>0</td>\n",
       "      <td>...</td>\n",
       "      <td>0</td>\n",
       "      <td>0</td>\n",
       "      <td>0</td>\n",
       "      <td>0</td>\n",
       "      <td>0</td>\n",
       "      <td>0</td>\n",
       "      <td>0</td>\n",
       "      <td>0</td>\n",
       "      <td>0</td>\n",
       "      <td>0</td>\n",
       "    </tr>\n",
       "    <tr>\n",
       "      <th>49998</th>\n",
       "      <td>0</td>\n",
       "      <td>0</td>\n",
       "      <td>0</td>\n",
       "      <td>0</td>\n",
       "      <td>0</td>\n",
       "      <td>1</td>\n",
       "      <td>0</td>\n",
       "      <td>0</td>\n",
       "      <td>1</td>\n",
       "      <td>0</td>\n",
       "      <td>...</td>\n",
       "      <td>0</td>\n",
       "      <td>0</td>\n",
       "      <td>0</td>\n",
       "      <td>0</td>\n",
       "      <td>0</td>\n",
       "      <td>0</td>\n",
       "      <td>0</td>\n",
       "      <td>0</td>\n",
       "      <td>0</td>\n",
       "      <td>0</td>\n",
       "    </tr>\n",
       "    <tr>\n",
       "      <th>49999</th>\n",
       "      <td>0</td>\n",
       "      <td>0</td>\n",
       "      <td>0</td>\n",
       "      <td>0</td>\n",
       "      <td>0</td>\n",
       "      <td>0</td>\n",
       "      <td>0</td>\n",
       "      <td>0</td>\n",
       "      <td>1</td>\n",
       "      <td>0</td>\n",
       "      <td>...</td>\n",
       "      <td>0</td>\n",
       "      <td>0</td>\n",
       "      <td>0</td>\n",
       "      <td>0</td>\n",
       "      <td>0</td>\n",
       "      <td>0</td>\n",
       "      <td>0</td>\n",
       "      <td>0</td>\n",
       "      <td>0</td>\n",
       "      <td>0</td>\n",
       "    </tr>\n",
       "  </tbody>\n",
       "</table>\n",
       "<p>49744 rows × 27 columns</p>\n",
       "</div>"
      ],
      "text/plain": [
       "       ****  Action  Adventure  Animation  Biography  Comedy  Crime  \\\n",
       "0         0       0          0          0          0       1      1   \n",
       "1         0       0          0          0          0       0      0   \n",
       "2         0       0          0          0          0       1      0   \n",
       "3         0       0          0          0          0       0      0   \n",
       "4         0       1          0          0          0       0      0   \n",
       "...     ...     ...        ...        ...        ...     ...    ...   \n",
       "49995     0       0          0          0          0       0      1   \n",
       "49996     0       0          1          0          0       0      0   \n",
       "49997     0       1          1          0          0       0      0   \n",
       "49998     0       0          0          0          0       1      0   \n",
       "49999     0       0          0          0          0       0      0   \n",
       "\n",
       "       Documentary  Drama  Family  ...  News  Reality-TV  Romance  Sci-Fi  \\\n",
       "0                0      0       0  ...     0           0        0       0   \n",
       "1                0      1       0  ...     0           0        0       0   \n",
       "2                0      1       0  ...     0           0        0       0   \n",
       "3                0      1       0  ...     0           0        0       0   \n",
       "4                0      1       0  ...     0           0        0       0   \n",
       "...            ...    ...     ...  ...   ...         ...      ...     ...   \n",
       "49995            0      1       0  ...     0           0        0       0   \n",
       "49996            0      1       0  ...     0           0        0       1   \n",
       "49997            0      1       0  ...     0           0        0       0   \n",
       "49998            0      1       0  ...     0           0        0       0   \n",
       "49999            0      1       0  ...     0           0        0       0   \n",
       "\n",
       "       Short  Sport  Talk-Show  Thriller  War  Western  \n",
       "0          0      0          0         0    0        0  \n",
       "1          0      0          0         0    0        1  \n",
       "2          0      0          0         0    0        0  \n",
       "3          0      0          0         0    0        1  \n",
       "4          0      0          0         1    0        0  \n",
       "...      ...    ...        ...       ...  ...      ...  \n",
       "49995      0      0          0         0    0        0  \n",
       "49996      0      0          0         0    0        0  \n",
       "49997      0      0          0         0    0        0  \n",
       "49998      0      0          0         0    0        0  \n",
       "49999      0      0          0         0    0        0  \n",
       "\n",
       "[49744 rows x 27 columns]"
      ]
     },
     "execution_count": 27,
     "metadata": {},
     "output_type": "execute_result"
    }
   ],
   "source": [
    "# split the 'Genre' column into separate columns\n",
    "genre_df2 = df2['Genre'].str.get_dummies(sep=', ')\n",
    "genre_df2"
   ]
  },
  {
   "cell_type": "code",
   "execution_count": 28,
   "metadata": {},
   "outputs": [
    {
     "data": {
      "text/plain": [
       "Drama          38803\n",
       "Crime          13665\n",
       "Action         11299\n",
       "Adventure      10262\n",
       "Comedy          9957\n",
       "Mystery         8887\n",
       "Thriller        5362\n",
       "Fantasy         4616\n",
       "Horror          4289\n",
       "Sci-Fi          2748\n",
       "Romance         2544\n",
       "History         1851\n",
       "Western         1689\n",
       "Family          1613\n",
       "Animation       1491\n",
       "Documentary     1272\n",
       "Biography        933\n",
       "Sport            931\n",
       "Reality-TV       702\n",
       "Game-Show        262\n",
       "Short            212\n",
       "Music            172\n",
       "Talk-Show        121\n",
       "War               60\n",
       "News              49\n",
       "Musical           45\n",
       "****              17\n",
       "dtype: int64"
      ]
     },
     "execution_count": 28,
     "metadata": {},
     "output_type": "execute_result"
    }
   ],
   "source": [
    "# Calculating total number of sereies in each Genre:\n",
    "genre_df2.sum().sort_values(ascending=False)"
   ]
  },
  {
   "cell_type": "code",
   "execution_count": 29,
   "metadata": {},
   "outputs": [
    {
     "data": {
      "text/plain": [
       "Drama          78.005388\n",
       "Crime          27.470650\n",
       "Action         22.714297\n",
       "Adventure      20.629624\n",
       "Comedy         20.016484\n",
       "Mystery        17.865471\n",
       "Thriller       10.779189\n",
       "Fantasy         9.279511\n",
       "Horror          8.622145\n",
       "Sci-Fi          5.524284\n",
       "Romance         5.114185\n",
       "History         3.721052\n",
       "Western         3.395384\n",
       "Family          3.242602\n",
       "Animation       2.997346\n",
       "Documentary     2.557092\n",
       "Biography       1.875603\n",
       "Sport           1.871583\n",
       "Reality-TV      1.411225\n",
       "Game-Show       0.526697\n",
       "Short           0.426182\n",
       "Music           0.345770\n",
       "Talk-Show       0.243245\n",
       "War             0.120618\n",
       "News            0.098504\n",
       "Musical         0.090463\n",
       "****            0.034175\n",
       "dtype: float64"
      ]
     },
     "execution_count": 29,
     "metadata": {},
     "output_type": "execute_result"
    }
   ],
   "source": [
    "# CaLculating the percentage of each Genre:\n",
    "genre_df2_percentages = genre_df2.mean().sort_values(ascending=False) * 100\n",
    "genre_df2_percentages"
   ]
  },
  {
   "cell_type": "code",
   "execution_count": 30,
   "metadata": {},
   "outputs": [
    {
     "data": {
      "image/png": "[encoded data removed]",
      "text/plain": [
       "<Figure size 864x864 with 1 Axes>"
      ]
     },
     "metadata": {
      "needs_background": "light"
     },
     "output_type": "display_data"
    }
   ],
   "source": [
    "# Ploting these data using `barplot` to understand it better:\n",
    "plt.figure(figsize=(12, 12))\n",
    "graph=sns.barplot(x=genre_df2_percentages, y=genre_df2_percentages.index)\n",
    "\n",
    "# set the x-axis tick labels to the desired percentages\n",
    "for i in graph.containers:\n",
    "    graph.bar_label(i, labels=['{:.0f}%'.format(x) for x in genre_df2_percentages.values])\n",
    "\n",
    "plt.title(\"Series Genre Percentage\");\n",
    "plt.xlabel('count');\n",
    "plt.show()"
   ]
  },
  {
   "cell_type": "markdown",
   "metadata": {},
   "source": [
    "## 9.2 Analyzing w.r.t. Rating:\n"
   ]
  },
  {
   "cell_type": "code",
   "execution_count": 31,
   "metadata": {},
   "outputs": [
    {
     "data": {
      "text/html": [
       "<div>\n",
       "<style scoped>\n",
       "    .dataframe tbody tr th:only-of-type {\n",
       "        vertical-align: middle;\n",
       "    }\n",
       "\n",
       "    .dataframe tbody tr th {\n",
       "        vertical-align: top;\n",
       "    }\n",
       "\n",
       "    .dataframe thead th {\n",
       "        text-align: right;\n",
       "    }\n",
       "</style>\n",
       "<table border=\"1\" class=\"dataframe\">\n",
       "  <thead>\n",
       "    <tr style=\"text-align: right;\">\n",
       "      <th></th>\n",
       "      <th>Series Title</th>\n",
       "      <th>Release Year</th>\n",
       "      <th>Runtime</th>\n",
       "      <th>Genre</th>\n",
       "      <th>Rating</th>\n",
       "      <th>Cast</th>\n",
       "      <th>Synopsis</th>\n",
       "    </tr>\n",
       "  </thead>\n",
       "  <tbody>\n",
       "    <tr>\n",
       "      <th>0</th>\n",
       "      <td>Wednesday</td>\n",
       "      <td>(2022– )</td>\n",
       "      <td>45 min</td>\n",
       "      <td>Comedy, Crime, Fantasy</td>\n",
       "      <td>8.2</td>\n",
       "      <td>Jenna Ortega, Hunter Doohan, Percy Hynes White...</td>\n",
       "      <td>Follows Wednesday Addams' years as a student, ...</td>\n",
       "    </tr>\n",
       "    <tr>\n",
       "      <th>1</th>\n",
       "      <td>Yellowstone</td>\n",
       "      <td>(2018– )</td>\n",
       "      <td>60 min</td>\n",
       "      <td>Drama, Western</td>\n",
       "      <td>8.7</td>\n",
       "      <td>Kevin Costner, Luke Grimes, Kelly Reilly, Wes ...</td>\n",
       "      <td>A ranching family in Montana faces off against...</td>\n",
       "    </tr>\n",
       "  </tbody>\n",
       "</table>\n",
       "</div>"
      ],
      "text/plain": [
       "  Series Title Release Year Runtime                   Genre Rating  \\\n",
       "0    Wednesday     (2022– )  45 min  Comedy, Crime, Fantasy    8.2   \n",
       "1  Yellowstone     (2018– )  60 min          Drama, Western    8.7   \n",
       "\n",
       "                                                Cast  \\\n",
       "0  Jenna Ortega, Hunter Doohan, Percy Hynes White...   \n",
       "1  Kevin Costner, Luke Grimes, Kelly Reilly, Wes ...   \n",
       "\n",
       "                                            Synopsis  \n",
       "0  Follows Wednesday Addams' years as a student, ...  \n",
       "1  A ranching family in Montana faces off against...  "
      ]
     },
     "execution_count": 31,
     "metadata": {},
     "output_type": "execute_result"
    }
   ],
   "source": [
    "# Viewing the dataset:\n",
    "df2.head(2)"
   ]
  },
  {
   "cell_type": "code",
   "execution_count": 32,
   "metadata": {},
   "outputs": [
    {
     "data": {
      "text/plain": [
       "8.1    4345\n",
       "8.7    4122\n",
       "7.4    2806\n",
       "7.9    2745\n",
       "7.7    2632\n",
       "       ... \n",
       "1.4       1\n",
       "1.1       1\n",
       "2.1       1\n",
       "2.0       1\n",
       "1.8       1\n",
       "Name: Rating, Length: 86, dtype: int64"
      ]
     },
     "execution_count": 32,
     "metadata": {},
     "output_type": "execute_result"
    }
   ],
   "source": [
    "# Counting the series with respect to ratings:\n",
    "top_rating=df2['Rating'].value_counts()\n",
    "top_rating"
   ]
  },
  {
   "cell_type": "code",
   "execution_count": 33,
   "metadata": {},
   "outputs": [
    {
     "data": {
      "text/plain": [
       "8.1    8.734722\n",
       "8.7    8.286427\n",
       "7.4    5.640881\n",
       "7.9    5.518253\n",
       "7.7    5.291090\n",
       "         ...   \n",
       "1.4    0.002010\n",
       "1.1    0.002010\n",
       "2.1    0.002010\n",
       "2.0    0.002010\n",
       "1.8    0.002010\n",
       "Name: Rating, Length: 86, dtype: float64"
      ]
     },
     "execution_count": 33,
     "metadata": {},
     "output_type": "execute_result"
    }
   ],
   "source": [
    "# Calculating the percentage of Ratings:\n",
    "top_rating_per=top_rating/df2.shape[0]*100\n",
    "top_rating_per"
   ]
  },
  {
   "cell_type": "code",
   "execution_count": 34,
   "metadata": {},
   "outputs": [
    {
     "data": {
      "image/png": "[encoded data removed]",
      "text/plain": [
       "<Figure size 1728x1728 with 1 Axes>"
      ]
     },
     "metadata": {
      "needs_background": "light"
     },
     "output_type": "display_data"
    }
   ],
   "source": [
    "# Ploting these data using `barplot` to understand it better:\n",
    "plt.figure(figsize=(24, 24))\n",
    "graph=sns.barplot(y=top_rating, x=top_rating.index)\n",
    "\n",
    "# set the x-axis tick labels to the desired percentages\n",
    "for i in graph.containers:\n",
    "     graph.bar_label(i, labels=['{:.0f}%'.format(x) for x in top_rating_per.values])\n",
    "plt.title('Number Of Series vs Rating');\n",
    "plt.xlabel('Rating');\n",
    "plt.xticks(rotation=75)\n",
    "plt.ylabel('Number Of Series')\n",
    "plt.show()"
   ]
  },
  {
   "cell_type": "markdown",
   "metadata": {},
   "source": [
    "## 9.3 Analyzing w.r.t. Cast:\n"
   ]
  },
  {
   "cell_type": "code",
   "execution_count": 35,
   "metadata": {},
   "outputs": [
    {
     "data": {
      "text/html": [
       "<div>\n",
       "<style scoped>\n",
       "    .dataframe tbody tr th:only-of-type {\n",
       "        vertical-align: middle;\n",
       "    }\n",
       "\n",
       "    .dataframe tbody tr th {\n",
       "        vertical-align: top;\n",
       "    }\n",
       "\n",
       "    .dataframe thead th {\n",
       "        text-align: right;\n",
       "    }\n",
       "</style>\n",
       "<table border=\"1\" class=\"dataframe\">\n",
       "  <thead>\n",
       "    <tr style=\"text-align: right;\">\n",
       "      <th></th>\n",
       "      <th>Series Title</th>\n",
       "      <th>Release Year</th>\n",
       "      <th>Runtime</th>\n",
       "      <th>Genre</th>\n",
       "      <th>Rating</th>\n",
       "      <th>Cast</th>\n",
       "      <th>Synopsis</th>\n",
       "    </tr>\n",
       "  </thead>\n",
       "  <tbody>\n",
       "    <tr>\n",
       "      <th>0</th>\n",
       "      <td>Wednesday</td>\n",
       "      <td>(2022– )</td>\n",
       "      <td>45 min</td>\n",
       "      <td>Comedy, Crime, Fantasy</td>\n",
       "      <td>8.2</td>\n",
       "      <td>Jenna Ortega, Hunter Doohan, Percy Hynes White...</td>\n",
       "      <td>Follows Wednesday Addams' years as a student, ...</td>\n",
       "    </tr>\n",
       "    <tr>\n",
       "      <th>1</th>\n",
       "      <td>Yellowstone</td>\n",
       "      <td>(2018– )</td>\n",
       "      <td>60 min</td>\n",
       "      <td>Drama, Western</td>\n",
       "      <td>8.7</td>\n",
       "      <td>Kevin Costner, Luke Grimes, Kelly Reilly, Wes ...</td>\n",
       "      <td>A ranching family in Montana faces off against...</td>\n",
       "    </tr>\n",
       "    <tr>\n",
       "      <th>2</th>\n",
       "      <td>The White Lotus</td>\n",
       "      <td>(2021–2023)</td>\n",
       "      <td>60 min</td>\n",
       "      <td>Comedy, Drama</td>\n",
       "      <td>7.9</td>\n",
       "      <td>Jennifer Coolidge, Jon Gries, F. Murray Abraha...</td>\n",
       "      <td>Set in a tropical resort, it follows the explo...</td>\n",
       "    </tr>\n",
       "    <tr>\n",
       "      <th>3</th>\n",
       "      <td>1923</td>\n",
       "      <td>(2022–2023)</td>\n",
       "      <td>60 min</td>\n",
       "      <td>Drama, Western</td>\n",
       "      <td>8.6</td>\n",
       "      <td>Harrison Ford, Helen Mirren, Brandon Sklenar, ...</td>\n",
       "      <td>The Duttons face a new set of challenges in th...</td>\n",
       "    </tr>\n",
       "    <tr>\n",
       "      <th>4</th>\n",
       "      <td>Jack Ryan</td>\n",
       "      <td>(2018– )</td>\n",
       "      <td>60 min</td>\n",
       "      <td>Action, Drama, Thriller</td>\n",
       "      <td>8.0</td>\n",
       "      <td>John Krasinski, Wendell Pierce, Michael Kelly,...</td>\n",
       "      <td>Up-and-coming CIA analyst, Jack Ryan, is thrus...</td>\n",
       "    </tr>\n",
       "    <tr>\n",
       "      <th>...</th>\n",
       "      <td>...</td>\n",
       "      <td>...</td>\n",
       "      <td>...</td>\n",
       "      <td>...</td>\n",
       "      <td>...</td>\n",
       "      <td>...</td>\n",
       "      <td>...</td>\n",
       "    </tr>\n",
       "    <tr>\n",
       "      <th>49995</th>\n",
       "      <td>Law &amp; Order: Special Victims Unit</td>\n",
       "      <td>(1999– )</td>\n",
       "      <td>60 min</td>\n",
       "      <td>Crime, Drama, Mystery</td>\n",
       "      <td>8.1</td>\n",
       "      <td>Mariska Hargitay, Christopher Meloni, Ice-T, D...</td>\n",
       "      <td>This series follows the Special Victims Unit, ...</td>\n",
       "    </tr>\n",
       "    <tr>\n",
       "      <th>49996</th>\n",
       "      <td>Doctor Who</td>\n",
       "      <td>(2005– )</td>\n",
       "      <td>45 min</td>\n",
       "      <td>Adventure, Drama, Sci-Fi</td>\n",
       "      <td>8.6</td>\n",
       "      <td>Jodie Whittaker, Peter Capaldi, Pearl Mackie, ...</td>\n",
       "      <td>The further adventures in time and space of th...</td>\n",
       "    </tr>\n",
       "    <tr>\n",
       "      <th>49997</th>\n",
       "      <td>The Lord of the Rings: The Rings of Power</td>\n",
       "      <td>(2022– )</td>\n",
       "      <td>****</td>\n",
       "      <td>Action, Adventure, Drama</td>\n",
       "      <td>6.9</td>\n",
       "      <td>Morfydd Clark, Ismael Cruz Cordova, Charlie Vi...</td>\n",
       "      <td>Epic drama set thousands of years before the e...</td>\n",
       "    </tr>\n",
       "    <tr>\n",
       "      <th>49998</th>\n",
       "      <td>The Bear</td>\n",
       "      <td>(2022– )</td>\n",
       "      <td>30 min</td>\n",
       "      <td>Comedy, Drama</td>\n",
       "      <td>8.4</td>\n",
       "      <td>Jeremy Allen White, Ebon Moss-Bachrach, Ayo Ed...</td>\n",
       "      <td>A young chef from the fine dining world return...</td>\n",
       "    </tr>\n",
       "    <tr>\n",
       "      <th>49999</th>\n",
       "      <td>Supernatural</td>\n",
       "      <td>(2005–2020)</td>\n",
       "      <td>44 min</td>\n",
       "      <td>Drama, Fantasy, Horror</td>\n",
       "      <td>8.4</td>\n",
       "      <td>Jared Padalecki, Jensen Ackles, Jim Beaver, Mi...</td>\n",
       "      <td>Two brothers follow their father's footsteps a...</td>\n",
       "    </tr>\n",
       "  </tbody>\n",
       "</table>\n",
       "<p>49744 rows × 7 columns</p>\n",
       "</div>"
      ],
      "text/plain": [
       "                                    Series Title Release Year Runtime  \\\n",
       "0                                      Wednesday     (2022– )  45 min   \n",
       "1                                    Yellowstone     (2018– )  60 min   \n",
       "2                                The White Lotus  (2021–2023)  60 min   \n",
       "3                                           1923  (2022–2023)  60 min   \n",
       "4                                      Jack Ryan     (2018– )  60 min   \n",
       "...                                          ...          ...     ...   \n",
       "49995          Law & Order: Special Victims Unit     (1999– )  60 min   \n",
       "49996                                 Doctor Who     (2005– )  45 min   \n",
       "49997  The Lord of the Rings: The Rings of Power     (2022– )    ****   \n",
       "49998                                   The Bear     (2022– )  30 min   \n",
       "49999                               Supernatural  (2005–2020)  44 min   \n",
       "\n",
       "                          Genre Rating  \\\n",
       "0        Comedy, Crime, Fantasy    8.2   \n",
       "1                Drama, Western    8.7   \n",
       "2                 Comedy, Drama    7.9   \n",
       "3                Drama, Western    8.6   \n",
       "4       Action, Drama, Thriller    8.0   \n",
       "...                         ...    ...   \n",
       "49995     Crime, Drama, Mystery    8.1   \n",
       "49996  Adventure, Drama, Sci-Fi    8.6   \n",
       "49997  Action, Adventure, Drama    6.9   \n",
       "49998             Comedy, Drama    8.4   \n",
       "49999    Drama, Fantasy, Horror    8.4   \n",
       "\n",
       "                                                    Cast  \\\n",
       "0      Jenna Ortega, Hunter Doohan, Percy Hynes White...   \n",
       "1      Kevin Costner, Luke Grimes, Kelly Reilly, Wes ...   \n",
       "2      Jennifer Coolidge, Jon Gries, F. Murray Abraha...   \n",
       "3      Harrison Ford, Helen Mirren, Brandon Sklenar, ...   \n",
       "4      John Krasinski, Wendell Pierce, Michael Kelly,...   \n",
       "...                                                  ...   \n",
       "49995  Mariska Hargitay, Christopher Meloni, Ice-T, D...   \n",
       "49996  Jodie Whittaker, Peter Capaldi, Pearl Mackie, ...   \n",
       "49997  Morfydd Clark, Ismael Cruz Cordova, Charlie Vi...   \n",
       "49998  Jeremy Allen White, Ebon Moss-Bachrach, Ayo Ed...   \n",
       "49999  Jared Padalecki, Jensen Ackles, Jim Beaver, Mi...   \n",
       "\n",
       "                                                Synopsis  \n",
       "0      Follows Wednesday Addams' years as a student, ...  \n",
       "1      A ranching family in Montana faces off against...  \n",
       "2      Set in a tropical resort, it follows the explo...  \n",
       "3      The Duttons face a new set of challenges in th...  \n",
       "4      Up-and-coming CIA analyst, Jack Ryan, is thrus...  \n",
       "...                                                  ...  \n",
       "49995  This series follows the Special Victims Unit, ...  \n",
       "49996  The further adventures in time and space of th...  \n",
       "49997  Epic drama set thousands of years before the e...  \n",
       "49998  A young chef from the fine dining world return...  \n",
       "49999  Two brothers follow their father's footsteps a...  \n",
       "\n",
       "[49744 rows x 7 columns]"
      ]
     },
     "execution_count": 35,
     "metadata": {},
     "output_type": "execute_result"
    }
   ],
   "source": [
    "# Viewing the dataset:\n",
    "df2"
   ]
  },
  {
   "cell_type": "code",
   "execution_count": 36,
   "metadata": {},
   "outputs": [
    {
     "name": "stderr",
     "output_type": "stream",
     "text": [
      "/opt/conda/lib/python3.9/site-packages/pandas/core/indexing.py:1732: SettingWithCopyWarning: \n",
      "A value is trying to be set on a copy of a slice from a DataFrame\n",
      "\n",
      "See the caveats in the documentation: https://pandas.pydata.org/pandas-docs/stable/user_guide/indexing.html#returning-a-view-versus-a-copy\n",
      "  self._setitem_single_block(indexer, value, name)\n",
      "/opt/conda/lib/python3.9/site-packages/pandas/core/indexing.py:723: SettingWithCopyWarning: \n",
      "A value is trying to be set on a copy of a slice from a DataFrame\n",
      "\n",
      "See the caveats in the documentation: https://pandas.pydata.org/pandas-docs/stable/user_guide/indexing.html#returning-a-view-versus-a-copy\n",
      "  iloc._setitem_with_indexer(indexer, value, self.name)\n"
     ]
    }
   ],
   "source": [
    "# Replacing an unidentified name with proper name:\n",
    "df2.loc[df2['Cast'] == 'Joey Bada$$', 'Cast'] = 'Joey Bada'"
   ]
  },
  {
   "cell_type": "code",
   "execution_count": 37,
   "metadata": {},
   "outputs": [
    {
     "data": {
      "text/plain": [
       "0"
      ]
     },
     "execution_count": 37,
     "metadata": {},
     "output_type": "execute_result"
    }
   ],
   "source": [
    "# Calculating the appearence of `Joey Bada` in total series:\n",
    "df2_filtered_cast = df2.loc[(df['Cast'] == 'Joey Bada')]\n",
    "df2_filtered_cast.value_counts().sum()"
   ]
  },
  {
   "cell_type": "code",
   "execution_count": 38,
   "metadata": {},
   "outputs": [
    {
     "data": {
      "text/plain": [
       " Matt Smith        2403\n",
       " Olivia Colman      807\n",
       " Antony Starr       805\n",
       " Sophie Rundle      805\n",
       " Charlie Murphy     805\n",
       "                   ... \n",
       " Richard Cole         1\n",
       " Dani Romero          1\n",
       "Mike Whiteside        1\n",
       " Robert Kulp          1\n",
       " Sean Pertwee         1\n",
       "Name: Cast, Length: 29533, dtype: int64"
      ]
     },
     "execution_count": 38,
     "metadata": {},
     "output_type": "execute_result"
    }
   ],
   "source": [
    "# Number of series done by each casts\n",
    "cast_df2=df2['Cast'].str.split(',').explode().value_counts().sort_values(ascending=False)\n",
    "cast_df2"
   ]
  },
  {
   "cell_type": "code",
   "execution_count": 39,
   "metadata": {},
   "outputs": [
    {
     "data": {
      "text/plain": [
       " Matt Smith        2403\n",
       " Olivia Colman      807\n",
       " Antony Starr       805\n",
       " Sophie Rundle      805\n",
       " Charlie Murphy     805\n",
       "                   ... \n",
       "Henry Cavill        801\n",
       "Lisette Olivera     801\n",
       " Luke Grimes        801\n",
       "Kevin Costner       801\n",
       " Emma Myers         801\n",
       "Name: Cast, Length: 100, dtype: int64"
      ]
     },
     "execution_count": 39,
     "metadata": {},
     "output_type": "execute_result"
    }
   ],
   "source": [
    "# Top 100 casts:\n",
    "top_100_cast=cast_df2.head(100)\n",
    "top_100_cast"
   ]
  },
  {
   "cell_type": "code",
   "execution_count": 40,
   "metadata": {},
   "outputs": [
    {
     "data": {
      "text/plain": [
       " Matt Smith        4.830733\n",
       " Olivia Colman     1.622306\n",
       " Antony Starr      1.618286\n",
       " Sophie Rundle     1.618286\n",
       " Charlie Murphy    1.618286\n",
       "                     ...   \n",
       " Richard Cole      0.002010\n",
       " Dani Romero       0.002010\n",
       "Mike Whiteside     0.002010\n",
       " Robert Kulp       0.002010\n",
       " Sean Pertwee      0.002010\n",
       "Name: Cast, Length: 29533, dtype: float64"
      ]
     },
     "execution_count": 40,
     "metadata": {},
     "output_type": "execute_result"
    }
   ],
   "source": [
    "# Calculating the percentage of series done by each cast:\n",
    "cast_df2_per=cast_df2/df2.shape[0]*100\n",
    "cast_df2_per"
   ]
  },
  {
   "cell_type": "code",
   "execution_count": 41,
   "metadata": {},
   "outputs": [
    {
     "data": {
      "text/plain": [
       " Matt Smith        4.830733\n",
       " Olivia Colman     1.622306\n",
       " Antony Starr      1.618286\n",
       " Sophie Rundle     1.618286\n",
       " Charlie Murphy    1.618286\n",
       "                     ...   \n",
       "Henry Cavill       1.610244\n",
       "Lisette Olivera    1.610244\n",
       " Luke Grimes       1.610244\n",
       "Kevin Costner      1.610244\n",
       " Emma Myers        1.610244\n",
       "Name: Cast, Length: 100, dtype: float64"
      ]
     },
     "execution_count": 41,
     "metadata": {},
     "output_type": "execute_result"
    }
   ],
   "source": [
    "# Top 100 casts percentage of series:\n",
    "top_100_cast_per=cast_df2_per.head(100)\n",
    "top_100_cast_per"
   ]
  },
  {
   "cell_type": "code",
   "execution_count": 42,
   "metadata": {},
   "outputs": [
    {
     "data": {
      "image/png": "[encoded data removed]",
      "text/plain": [
       "<Figure size 1728x1728 with 1 Axes>"
      ]
     },
     "metadata": {
      "needs_background": "light"
     },
     "output_type": "display_data"
    }
   ],
   "source": [
    "# Ploting these data using `barplot` to understand it better:\n",
    "plt.figure(figsize=(24, 24))\n",
    "graph=sns.barplot(y=top_100_cast.index, x=top_100_cast)\n",
    "\n",
    "# set the x-axis tick labels to the desired percentages\n",
    "for i in graph.containers:\n",
    "     graph.bar_label(i, labels=['{:.0f}%'.format(x) for x in top_100_cast_per.values])\n",
    "plt.title('Series done by each cast');\n",
    "plt.ylabel('Cast Name');\n",
    "plt.xticks(rotation=75)\n",
    "plt.xlabel('Number Of Series')\n",
    "plt.show()"
   ]
  },
  {
   "cell_type": "markdown",
   "metadata": {},
   "source": [
    "## 9.4 Analyzing w.r.t. Series Title:\n"
   ]
  },
  {
   "cell_type": "code",
   "execution_count": 43,
   "metadata": {},
   "outputs": [
    {
     "data": {
      "text/html": [
       "<div>\n",
       "<style scoped>\n",
       "    .dataframe tbody tr th:only-of-type {\n",
       "        vertical-align: middle;\n",
       "    }\n",
       "\n",
       "    .dataframe tbody tr th {\n",
       "        vertical-align: top;\n",
       "    }\n",
       "\n",
       "    .dataframe thead th {\n",
       "        text-align: right;\n",
       "    }\n",
       "</style>\n",
       "<table border=\"1\" class=\"dataframe\">\n",
       "  <thead>\n",
       "    <tr style=\"text-align: right;\">\n",
       "      <th></th>\n",
       "      <th>Series Title</th>\n",
       "      <th>Release Year</th>\n",
       "      <th>Runtime</th>\n",
       "      <th>Genre</th>\n",
       "      <th>Rating</th>\n",
       "      <th>Cast</th>\n",
       "      <th>Synopsis</th>\n",
       "    </tr>\n",
       "  </thead>\n",
       "  <tbody>\n",
       "    <tr>\n",
       "      <th>0</th>\n",
       "      <td>Wednesday</td>\n",
       "      <td>(2022– )</td>\n",
       "      <td>45 min</td>\n",
       "      <td>Comedy, Crime, Fantasy</td>\n",
       "      <td>8.2</td>\n",
       "      <td>Jenna Ortega, Hunter Doohan, Percy Hynes White...</td>\n",
       "      <td>Follows Wednesday Addams' years as a student, ...</td>\n",
       "    </tr>\n",
       "    <tr>\n",
       "      <th>1</th>\n",
       "      <td>Yellowstone</td>\n",
       "      <td>(2018– )</td>\n",
       "      <td>60 min</td>\n",
       "      <td>Drama, Western</td>\n",
       "      <td>8.7</td>\n",
       "      <td>Kevin Costner, Luke Grimes, Kelly Reilly, Wes ...</td>\n",
       "      <td>A ranching family in Montana faces off against...</td>\n",
       "    </tr>\n",
       "  </tbody>\n",
       "</table>\n",
       "</div>"
      ],
      "text/plain": [
       "  Series Title Release Year Runtime                   Genre Rating  \\\n",
       "0    Wednesday     (2022– )  45 min  Comedy, Crime, Fantasy    8.2   \n",
       "1  Yellowstone     (2018– )  60 min          Drama, Western    8.7   \n",
       "\n",
       "                                                Cast  \\\n",
       "0  Jenna Ortega, Hunter Doohan, Percy Hynes White...   \n",
       "1  Kevin Costner, Luke Grimes, Kelly Reilly, Wes ...   \n",
       "\n",
       "                                            Synopsis  \n",
       "0  Follows Wednesday Addams' years as a student, ...  \n",
       "1  A ranching family in Montana faces off against...  "
      ]
     },
     "execution_count": 43,
     "metadata": {},
     "output_type": "execute_result"
    }
   ],
   "source": [
    "# Viewing the dataset:\n",
    "df2.head(2)"
   ]
  },
  {
   "cell_type": "code",
   "execution_count": 44,
   "metadata": {},
   "outputs": [
    {
     "data": {
      "text/plain": [
       "The Office                              804\n",
       "The Twilight Zone                       804\n",
       "His Dark Materials                      802\n",
       "Yellowstone                             802\n",
       "Doctor Who                              802\n",
       "                                       ... \n",
       "FBoy Island                               1\n",
       "Mortal Kombat                             1\n",
       "Guida astrologica per cuori infranti      1\n",
       "Welcome to Earth                          1\n",
       "MasterChef: The Professionals             1\n",
       "Name: Series Title, Length: 9406, dtype: int64"
      ]
     },
     "execution_count": 44,
     "metadata": {},
     "output_type": "execute_result"
    }
   ],
   "source": [
    "# Counting the occuring:\n",
    "df2['Series Title'].value_counts()"
   ]
  },
  {
   "cell_type": "code",
   "execution_count": 45,
   "metadata": {},
   "outputs": [],
   "source": [
    "#for genre in unique_values_genre:\n",
    "def filter_by_series(df2, series):\n",
    "    \"\"\"\n",
    "    Filters a DataFrame by genre\n",
    "    \n",
    "    Parameters:\n",
    "        - df (DataFrame): The DataFrame to filter\n",
    "        - series (str): The series to filter by\n",
    "        \n",
    "    Returns:\n",
    "        - DataFrame: The filtered DataFrame\n",
    "    \"\"\"\n",
    "    filtered_data = df2['Series Title'].loc[df['Series Title'].str.contains(series)]\n",
    "    return filtered_data"
   ]
  },
  {
   "cell_type": "code",
   "execution_count": 46,
   "metadata": {},
   "outputs": [
    {
     "data": {
      "text/plain": [
       "The Office                   804\n",
       "The Office: Australia          1\n",
       "The Office: The 3rd Floor      1\n",
       "Name: Series Title, dtype: int64"
      ]
     },
     "execution_count": 46,
     "metadata": {},
     "output_type": "execute_result"
    }
   ],
   "source": [
    "# Checking working of the function:\n",
    "filter_by_series(df2,'The Office').value_counts()"
   ]
  },
  {
   "cell_type": "code",
   "execution_count": 47,
   "metadata": {},
   "outputs": [
    {
     "data": {
      "text/html": [
       "<div>\n",
       "<style scoped>\n",
       "    .dataframe tbody tr th:only-of-type {\n",
       "        vertical-align: middle;\n",
       "    }\n",
       "\n",
       "    .dataframe tbody tr th {\n",
       "        vertical-align: top;\n",
       "    }\n",
       "\n",
       "    .dataframe thead th {\n",
       "        text-align: right;\n",
       "    }\n",
       "</style>\n",
       "<table border=\"1\" class=\"dataframe\">\n",
       "  <thead>\n",
       "    <tr style=\"text-align: right;\">\n",
       "      <th></th>\n",
       "      <th>Series Title</th>\n",
       "      <th>Release Year</th>\n",
       "      <th>Runtime</th>\n",
       "      <th>Genre</th>\n",
       "      <th>Rating</th>\n",
       "      <th>Cast</th>\n",
       "      <th>Synopsis</th>\n",
       "    </tr>\n",
       "  </thead>\n",
       "  <tbody>\n",
       "    <tr>\n",
       "      <th>34</th>\n",
       "      <td>The Office</td>\n",
       "      <td>(2005–2013)</td>\n",
       "      <td>22 min</td>\n",
       "      <td>Comedy</td>\n",
       "      <td>9.0</td>\n",
       "      <td>Steve Carell, Jenna Fischer, John Krasinski, R...</td>\n",
       "      <td>A mockumentary on a group of typical office wo...</td>\n",
       "    </tr>\n",
       "    <tr>\n",
       "      <th>665</th>\n",
       "      <td>The Office</td>\n",
       "      <td>(2001–2003)</td>\n",
       "      <td>30 min</td>\n",
       "      <td>Comedy, Drama</td>\n",
       "      <td>8.5</td>\n",
       "      <td>Ricky Gervais, Martin Freeman, Mackenzie Crook...</td>\n",
       "      <td>The story of an office that faces closure when...</td>\n",
       "    </tr>\n",
       "    <tr>\n",
       "      <th>5293</th>\n",
       "      <td>The Office</td>\n",
       "      <td>(2022–2023)</td>\n",
       "      <td>****</td>\n",
       "      <td>Comedy</td>\n",
       "      <td>5.2</td>\n",
       "      <td>Saleh Abuamrh, Fahad Albutairi, Nawaf Alshubai...</td>\n",
       "      <td>A Saudi remake of The Office, \"Al Maktab\" is a...</td>\n",
       "    </tr>\n",
       "    <tr>\n",
       "      <th>6494</th>\n",
       "      <td>The Office</td>\n",
       "      <td>(2019– )</td>\n",
       "      <td>22 min</td>\n",
       "      <td>Comedy</td>\n",
       "      <td>5.7</td>\n",
       "      <td>Gopal Datt, Sayandeep Sengupta, Samridhi Dewan...</td>\n",
       "      <td>The (mis)adventures of boss Jagdeep Chaddha an...</td>\n",
       "    </tr>\n",
       "    <tr>\n",
       "      <th>10034</th>\n",
       "      <td>The Office</td>\n",
       "      <td>(2005–2013)</td>\n",
       "      <td>22 min</td>\n",
       "      <td>Comedy</td>\n",
       "      <td>9.0</td>\n",
       "      <td>Steve Carell, Jenna Fischer, John Krasinski, R...</td>\n",
       "      <td>A mockumentary on a group of typical office wo...</td>\n",
       "    </tr>\n",
       "    <tr>\n",
       "      <th>...</th>\n",
       "      <td>...</td>\n",
       "      <td>...</td>\n",
       "      <td>...</td>\n",
       "      <td>...</td>\n",
       "      <td>...</td>\n",
       "      <td>...</td>\n",
       "      <td>...</td>\n",
       "    </tr>\n",
       "    <tr>\n",
       "      <th>49784</th>\n",
       "      <td>The Office</td>\n",
       "      <td>(2005–2013)</td>\n",
       "      <td>22 min</td>\n",
       "      <td>Comedy</td>\n",
       "      <td>9.0</td>\n",
       "      <td>Steve Carell, Jenna Fischer, John Krasinski, R...</td>\n",
       "      <td>A mockumentary on a group of typical office wo...</td>\n",
       "    </tr>\n",
       "    <tr>\n",
       "      <th>49834</th>\n",
       "      <td>The Office</td>\n",
       "      <td>(2005–2013)</td>\n",
       "      <td>22 min</td>\n",
       "      <td>Comedy</td>\n",
       "      <td>9.0</td>\n",
       "      <td>Steve Carell, Jenna Fischer, John Krasinski, R...</td>\n",
       "      <td>A mockumentary on a group of typical office wo...</td>\n",
       "    </tr>\n",
       "    <tr>\n",
       "      <th>49884</th>\n",
       "      <td>The Office</td>\n",
       "      <td>(2005–2013)</td>\n",
       "      <td>22 min</td>\n",
       "      <td>Comedy</td>\n",
       "      <td>9.0</td>\n",
       "      <td>Steve Carell, Jenna Fischer, John Krasinski, R...</td>\n",
       "      <td>A mockumentary on a group of typical office wo...</td>\n",
       "    </tr>\n",
       "    <tr>\n",
       "      <th>49934</th>\n",
       "      <td>The Office</td>\n",
       "      <td>(2005–2013)</td>\n",
       "      <td>22 min</td>\n",
       "      <td>Comedy</td>\n",
       "      <td>9.0</td>\n",
       "      <td>Steve Carell, Jenna Fischer, John Krasinski, R...</td>\n",
       "      <td>A mockumentary on a group of typical office wo...</td>\n",
       "    </tr>\n",
       "    <tr>\n",
       "      <th>49984</th>\n",
       "      <td>The Office</td>\n",
       "      <td>(2005–2013)</td>\n",
       "      <td>22 min</td>\n",
       "      <td>Comedy</td>\n",
       "      <td>9.0</td>\n",
       "      <td>Steve Carell, Jenna Fischer, John Krasinski, R...</td>\n",
       "      <td>A mockumentary on a group of typical office wo...</td>\n",
       "    </tr>\n",
       "  </tbody>\n",
       "</table>\n",
       "<p>804 rows × 7 columns</p>\n",
       "</div>"
      ],
      "text/plain": [
       "      Series Title Release Year Runtime          Genre Rating  \\\n",
       "34      The Office  (2005–2013)  22 min         Comedy    9.0   \n",
       "665     The Office  (2001–2003)  30 min  Comedy, Drama    8.5   \n",
       "5293    The Office  (2022–2023)    ****         Comedy    5.2   \n",
       "6494    The Office     (2019– )  22 min         Comedy    5.7   \n",
       "10034   The Office  (2005–2013)  22 min         Comedy    9.0   \n",
       "...            ...          ...     ...            ...    ...   \n",
       "49784   The Office  (2005–2013)  22 min         Comedy    9.0   \n",
       "49834   The Office  (2005–2013)  22 min         Comedy    9.0   \n",
       "49884   The Office  (2005–2013)  22 min         Comedy    9.0   \n",
       "49934   The Office  (2005–2013)  22 min         Comedy    9.0   \n",
       "49984   The Office  (2005–2013)  22 min         Comedy    9.0   \n",
       "\n",
       "                                                    Cast  \\\n",
       "34     Steve Carell, Jenna Fischer, John Krasinski, R...   \n",
       "665    Ricky Gervais, Martin Freeman, Mackenzie Crook...   \n",
       "5293   Saleh Abuamrh, Fahad Albutairi, Nawaf Alshubai...   \n",
       "6494   Gopal Datt, Sayandeep Sengupta, Samridhi Dewan...   \n",
       "10034  Steve Carell, Jenna Fischer, John Krasinski, R...   \n",
       "...                                                  ...   \n",
       "49784  Steve Carell, Jenna Fischer, John Krasinski, R...   \n",
       "49834  Steve Carell, Jenna Fischer, John Krasinski, R...   \n",
       "49884  Steve Carell, Jenna Fischer, John Krasinski, R...   \n",
       "49934  Steve Carell, Jenna Fischer, John Krasinski, R...   \n",
       "49984  Steve Carell, Jenna Fischer, John Krasinski, R...   \n",
       "\n",
       "                                                Synopsis  \n",
       "34     A mockumentary on a group of typical office wo...  \n",
       "665    The story of an office that faces closure when...  \n",
       "5293   A Saudi remake of The Office, \"Al Maktab\" is a...  \n",
       "6494   The (mis)adventures of boss Jagdeep Chaddha an...  \n",
       "10034  A mockumentary on a group of typical office wo...  \n",
       "...                                                  ...  \n",
       "49784  A mockumentary on a group of typical office wo...  \n",
       "49834  A mockumentary on a group of typical office wo...  \n",
       "49884  A mockumentary on a group of typical office wo...  \n",
       "49934  A mockumentary on a group of typical office wo...  \n",
       "49984  A mockumentary on a group of typical office wo...  \n",
       "\n",
       "[804 rows x 7 columns]"
      ]
     },
     "execution_count": 47,
     "metadata": {},
     "output_type": "execute_result"
    }
   ],
   "source": [
    "df2_filtered = df2.loc[(df['Series Title'] == 'The Office')]\n",
    "df2_filtered               "
   ]
  },
  {
   "cell_type": "markdown",
   "metadata": {},
   "source": [
    "## 9.5 Analyzing w.r.t. Release Year:"
   ]
  },
  {
   "cell_type": "code",
   "execution_count": 48,
   "metadata": {},
   "outputs": [
    {
     "data": {
      "text/plain": [
       "(2022– )       12925\n",
       "(2023– )        3387\n",
       "(2020– )        2726\n",
       "(2005– )        2456\n",
       "(2019– )        1891\n",
       "               ...  \n",
       "(1969–1997)        1\n",
       "(1960–1963)        1\n",
       "(1968–1969)        1\n",
       "(1993–2016)        1\n",
       "(1988)             1\n",
       "Name: Release Year, Length: 1063, dtype: int64"
      ]
     },
     "execution_count": 48,
     "metadata": {},
     "output_type": "execute_result"
    }
   ],
   "source": [
    "# Seeing the uninque values with occurence of `Release Year` Column:\n",
    "df2['Release Year'].value_counts()"
   ]
  },
  {
   "cell_type": "code",
   "execution_count": 49,
   "metadata": {},
   "outputs": [
    {
     "name": "stderr",
     "output_type": "stream",
     "text": [
      "/tmp/ipykernel_668/853030390.py:2: SettingWithCopyWarning: \n",
      "A value is trying to be set on a copy of a slice from a DataFrame.\n",
      "Try using .loc[row_indexer,col_indexer] = value instead\n",
      "\n",
      "See the caveats in the documentation: https://pandas.pydata.org/pandas-docs/stable/user_guide/indexing.html#returning-a-view-versus-a-copy\n",
      "  df2['Release Year'] = df2['Release Year'].str.extract(r'(\\d{4})', expand=False);\n"
     ]
    },
    {
     "data": {
      "text/html": [
       "<div>\n",
       "<style scoped>\n",
       "    .dataframe tbody tr th:only-of-type {\n",
       "        vertical-align: middle;\n",
       "    }\n",
       "\n",
       "    .dataframe tbody tr th {\n",
       "        vertical-align: top;\n",
       "    }\n",
       "\n",
       "    .dataframe thead th {\n",
       "        text-align: right;\n",
       "    }\n",
       "</style>\n",
       "<table border=\"1\" class=\"dataframe\">\n",
       "  <thead>\n",
       "    <tr style=\"text-align: right;\">\n",
       "      <th></th>\n",
       "      <th>Series Title</th>\n",
       "      <th>Release Year</th>\n",
       "      <th>Runtime</th>\n",
       "      <th>Genre</th>\n",
       "      <th>Rating</th>\n",
       "      <th>Cast</th>\n",
       "      <th>Synopsis</th>\n",
       "    </tr>\n",
       "  </thead>\n",
       "  <tbody>\n",
       "    <tr>\n",
       "      <th>0</th>\n",
       "      <td>Wednesday</td>\n",
       "      <td>2022</td>\n",
       "      <td>45 min</td>\n",
       "      <td>Comedy, Crime, Fantasy</td>\n",
       "      <td>8.2</td>\n",
       "      <td>Jenna Ortega, Hunter Doohan, Percy Hynes White...</td>\n",
       "      <td>Follows Wednesday Addams' years as a student, ...</td>\n",
       "    </tr>\n",
       "    <tr>\n",
       "      <th>1</th>\n",
       "      <td>Yellowstone</td>\n",
       "      <td>2018</td>\n",
       "      <td>60 min</td>\n",
       "      <td>Drama, Western</td>\n",
       "      <td>8.7</td>\n",
       "      <td>Kevin Costner, Luke Grimes, Kelly Reilly, Wes ...</td>\n",
       "      <td>A ranching family in Montana faces off against...</td>\n",
       "    </tr>\n",
       "    <tr>\n",
       "      <th>2</th>\n",
       "      <td>The White Lotus</td>\n",
       "      <td>2021</td>\n",
       "      <td>60 min</td>\n",
       "      <td>Comedy, Drama</td>\n",
       "      <td>7.9</td>\n",
       "      <td>Jennifer Coolidge, Jon Gries, F. Murray Abraha...</td>\n",
       "      <td>Set in a tropical resort, it follows the explo...</td>\n",
       "    </tr>\n",
       "    <tr>\n",
       "      <th>3</th>\n",
       "      <td>1923</td>\n",
       "      <td>2022</td>\n",
       "      <td>60 min</td>\n",
       "      <td>Drama, Western</td>\n",
       "      <td>8.6</td>\n",
       "      <td>Harrison Ford, Helen Mirren, Brandon Sklenar, ...</td>\n",
       "      <td>The Duttons face a new set of challenges in th...</td>\n",
       "    </tr>\n",
       "    <tr>\n",
       "      <th>4</th>\n",
       "      <td>Jack Ryan</td>\n",
       "      <td>2018</td>\n",
       "      <td>60 min</td>\n",
       "      <td>Action, Drama, Thriller</td>\n",
       "      <td>8.0</td>\n",
       "      <td>John Krasinski, Wendell Pierce, Michael Kelly,...</td>\n",
       "      <td>Up-and-coming CIA analyst, Jack Ryan, is thrus...</td>\n",
       "    </tr>\n",
       "    <tr>\n",
       "      <th>...</th>\n",
       "      <td>...</td>\n",
       "      <td>...</td>\n",
       "      <td>...</td>\n",
       "      <td>...</td>\n",
       "      <td>...</td>\n",
       "      <td>...</td>\n",
       "      <td>...</td>\n",
       "    </tr>\n",
       "    <tr>\n",
       "      <th>49995</th>\n",
       "      <td>Law &amp; Order: Special Victims Unit</td>\n",
       "      <td>1999</td>\n",
       "      <td>60 min</td>\n",
       "      <td>Crime, Drama, Mystery</td>\n",
       "      <td>8.1</td>\n",
       "      <td>Mariska Hargitay, Christopher Meloni, Ice-T, D...</td>\n",
       "      <td>This series follows the Special Victims Unit, ...</td>\n",
       "    </tr>\n",
       "    <tr>\n",
       "      <th>49996</th>\n",
       "      <td>Doctor Who</td>\n",
       "      <td>2005</td>\n",
       "      <td>45 min</td>\n",
       "      <td>Adventure, Drama, Sci-Fi</td>\n",
       "      <td>8.6</td>\n",
       "      <td>Jodie Whittaker, Peter Capaldi, Pearl Mackie, ...</td>\n",
       "      <td>The further adventures in time and space of th...</td>\n",
       "    </tr>\n",
       "    <tr>\n",
       "      <th>49997</th>\n",
       "      <td>The Lord of the Rings: The Rings of Power</td>\n",
       "      <td>2022</td>\n",
       "      <td>****</td>\n",
       "      <td>Action, Adventure, Drama</td>\n",
       "      <td>6.9</td>\n",
       "      <td>Morfydd Clark, Ismael Cruz Cordova, Charlie Vi...</td>\n",
       "      <td>Epic drama set thousands of years before the e...</td>\n",
       "    </tr>\n",
       "    <tr>\n",
       "      <th>49998</th>\n",
       "      <td>The Bear</td>\n",
       "      <td>2022</td>\n",
       "      <td>30 min</td>\n",
       "      <td>Comedy, Drama</td>\n",
       "      <td>8.4</td>\n",
       "      <td>Jeremy Allen White, Ebon Moss-Bachrach, Ayo Ed...</td>\n",
       "      <td>A young chef from the fine dining world return...</td>\n",
       "    </tr>\n",
       "    <tr>\n",
       "      <th>49999</th>\n",
       "      <td>Supernatural</td>\n",
       "      <td>2005</td>\n",
       "      <td>44 min</td>\n",
       "      <td>Drama, Fantasy, Horror</td>\n",
       "      <td>8.4</td>\n",
       "      <td>Jared Padalecki, Jensen Ackles, Jim Beaver, Mi...</td>\n",
       "      <td>Two brothers follow their father's footsteps a...</td>\n",
       "    </tr>\n",
       "  </tbody>\n",
       "</table>\n",
       "<p>49744 rows × 7 columns</p>\n",
       "</div>"
      ],
      "text/plain": [
       "                                    Series Title Release Year Runtime  \\\n",
       "0                                      Wednesday         2022  45 min   \n",
       "1                                    Yellowstone         2018  60 min   \n",
       "2                                The White Lotus         2021  60 min   \n",
       "3                                           1923         2022  60 min   \n",
       "4                                      Jack Ryan         2018  60 min   \n",
       "...                                          ...          ...     ...   \n",
       "49995          Law & Order: Special Victims Unit         1999  60 min   \n",
       "49996                                 Doctor Who         2005  45 min   \n",
       "49997  The Lord of the Rings: The Rings of Power         2022    ****   \n",
       "49998                                   The Bear         2022  30 min   \n",
       "49999                               Supernatural         2005  44 min   \n",
       "\n",
       "                          Genre Rating  \\\n",
       "0        Comedy, Crime, Fantasy    8.2   \n",
       "1                Drama, Western    8.7   \n",
       "2                 Comedy, Drama    7.9   \n",
       "3                Drama, Western    8.6   \n",
       "4       Action, Drama, Thriller    8.0   \n",
       "...                         ...    ...   \n",
       "49995     Crime, Drama, Mystery    8.1   \n",
       "49996  Adventure, Drama, Sci-Fi    8.6   \n",
       "49997  Action, Adventure, Drama    6.9   \n",
       "49998             Comedy, Drama    8.4   \n",
       "49999    Drama, Fantasy, Horror    8.4   \n",
       "\n",
       "                                                    Cast  \\\n",
       "0      Jenna Ortega, Hunter Doohan, Percy Hynes White...   \n",
       "1      Kevin Costner, Luke Grimes, Kelly Reilly, Wes ...   \n",
       "2      Jennifer Coolidge, Jon Gries, F. Murray Abraha...   \n",
       "3      Harrison Ford, Helen Mirren, Brandon Sklenar, ...   \n",
       "4      John Krasinski, Wendell Pierce, Michael Kelly,...   \n",
       "...                                                  ...   \n",
       "49995  Mariska Hargitay, Christopher Meloni, Ice-T, D...   \n",
       "49996  Jodie Whittaker, Peter Capaldi, Pearl Mackie, ...   \n",
       "49997  Morfydd Clark, Ismael Cruz Cordova, Charlie Vi...   \n",
       "49998  Jeremy Allen White, Ebon Moss-Bachrach, Ayo Ed...   \n",
       "49999  Jared Padalecki, Jensen Ackles, Jim Beaver, Mi...   \n",
       "\n",
       "                                                Synopsis  \n",
       "0      Follows Wednesday Addams' years as a student, ...  \n",
       "1      A ranching family in Montana faces off against...  \n",
       "2      Set in a tropical resort, it follows the explo...  \n",
       "3      The Duttons face a new set of challenges in th...  \n",
       "4      Up-and-coming CIA analyst, Jack Ryan, is thrus...  \n",
       "...                                                  ...  \n",
       "49995  This series follows the Special Victims Unit, ...  \n",
       "49996  The further adventures in time and space of th...  \n",
       "49997  Epic drama set thousands of years before the e...  \n",
       "49998  A young chef from the fine dining world return...  \n",
       "49999  Two brothers follow their father's footsteps a...  \n",
       "\n",
       "[49744 rows x 7 columns]"
      ]
     },
     "execution_count": 49,
     "metadata": {},
     "output_type": "execute_result"
    }
   ],
   "source": [
    "# Clean the `Release Year` column into proper year:\n",
    "df2['Release Year'] = df2['Release Year'].str.extract(r'(\\d{4})', expand=False);\n",
    "df2"
   ]
  },
  {
   "cell_type": "code",
   "execution_count": 50,
   "metadata": {},
   "outputs": [
    {
     "data": {
      "text/plain": [
       "2022    14742\n",
       "2020     4653\n",
       "2005     4142\n",
       "2023     3392\n",
       "2019     3023\n",
       "        ...  \n",
       "1940        2\n",
       "1948        2\n",
       "1930        1\n",
       "1947        1\n",
       "2024        1\n",
       "Name: Release Year, Length: 80, dtype: int64"
      ]
     },
     "execution_count": 50,
     "metadata": {},
     "output_type": "execute_result"
    }
   ],
   "source": [
    "# Now Counting the  unique values of `Release Year` column with occurence:\n",
    "yearwise_series=df2['Release Year'].value_counts()\n",
    "yearwise_series"
   ]
  },
  {
   "cell_type": "code",
   "execution_count": 51,
   "metadata": {},
   "outputs": [
    {
     "data": {
      "text/plain": [
       "2022    29.635735\n",
       "2020     9.353892\n",
       "2005     8.326632\n",
       "2023     6.818913\n",
       "2019     6.077115\n",
       "          ...    \n",
       "1940     0.004021\n",
       "1948     0.004021\n",
       "1930     0.002010\n",
       "1947     0.002010\n",
       "2024     0.002010\n",
       "Name: Release Year, Length: 80, dtype: float64"
      ]
     },
     "execution_count": 51,
     "metadata": {},
     "output_type": "execute_result"
    }
   ],
   "source": [
    "# Calculating the percentage of series produced yearwise:\n",
    "yearwise_series_per= yearwise_series/df2.shape[0]*100\n",
    "yearwise_series_per"
   ]
  },
  {
   "cell_type": "code",
   "execution_count": 52,
   "metadata": {},
   "outputs": [
    {
     "data": {
      "image/png": "[encoded data removed]",
      "text/plain": [
       "<Figure size 1728x1728 with 1 Axes>"
      ]
     },
     "metadata": {
      "needs_background": "light"
     },
     "output_type": "display_data"
    }
   ],
   "source": [
    "# Ploting these data using `barplot` to understand it better:\n",
    "plt.figure(figsize=(24, 24))\n",
    "graph=sns.barplot(y=yearwise_series, x=yearwise_series.index)\n",
    "\n",
    "# set the x-axis tick labels to the desired percentages\n",
    "for i in graph.containers:\n",
    "     graph.bar_label(i, labels=['{:.0f}%'.format(x) for x in yearwise_series_per.values])\n",
    "plt.title('Number Of Series per Year');\n",
    "plt.xlabel('Year');\n",
    "plt.xticks(rotation=75)\n",
    "plt.ylabel('Number Of Series')\n",
    "plt.show()"
   ]
  },
  {
   "cell_type": "markdown",
   "metadata": {},
   "source": [
    "## 9.6 analyzing w.r.t. Runtime:"
   ]
  },
  {
   "cell_type": "code",
   "execution_count": 53,
   "metadata": {},
   "outputs": [
    {
     "data": {
      "text/html": [
       "<div>\n",
       "<style scoped>\n",
       "    .dataframe tbody tr th:only-of-type {\n",
       "        vertical-align: middle;\n",
       "    }\n",
       "\n",
       "    .dataframe tbody tr th {\n",
       "        vertical-align: top;\n",
       "    }\n",
       "\n",
       "    .dataframe thead th {\n",
       "        text-align: right;\n",
       "    }\n",
       "</style>\n",
       "<table border=\"1\" class=\"dataframe\">\n",
       "  <thead>\n",
       "    <tr style=\"text-align: right;\">\n",
       "      <th></th>\n",
       "      <th>Series Title</th>\n",
       "      <th>Release Year</th>\n",
       "      <th>Runtime</th>\n",
       "      <th>Genre</th>\n",
       "      <th>Rating</th>\n",
       "      <th>Cast</th>\n",
       "      <th>Synopsis</th>\n",
       "    </tr>\n",
       "  </thead>\n",
       "  <tbody>\n",
       "    <tr>\n",
       "      <th>0</th>\n",
       "      <td>Wednesday</td>\n",
       "      <td>2022</td>\n",
       "      <td>45 min</td>\n",
       "      <td>Comedy, Crime, Fantasy</td>\n",
       "      <td>8.2</td>\n",
       "      <td>Jenna Ortega, Hunter Doohan, Percy Hynes White...</td>\n",
       "      <td>Follows Wednesday Addams' years as a student, ...</td>\n",
       "    </tr>\n",
       "    <tr>\n",
       "      <th>1</th>\n",
       "      <td>Yellowstone</td>\n",
       "      <td>2018</td>\n",
       "      <td>60 min</td>\n",
       "      <td>Drama, Western</td>\n",
       "      <td>8.7</td>\n",
       "      <td>Kevin Costner, Luke Grimes, Kelly Reilly, Wes ...</td>\n",
       "      <td>A ranching family in Montana faces off against...</td>\n",
       "    </tr>\n",
       "    <tr>\n",
       "      <th>2</th>\n",
       "      <td>The White Lotus</td>\n",
       "      <td>2021</td>\n",
       "      <td>60 min</td>\n",
       "      <td>Comedy, Drama</td>\n",
       "      <td>7.9</td>\n",
       "      <td>Jennifer Coolidge, Jon Gries, F. Murray Abraha...</td>\n",
       "      <td>Set in a tropical resort, it follows the explo...</td>\n",
       "    </tr>\n",
       "  </tbody>\n",
       "</table>\n",
       "</div>"
      ],
      "text/plain": [
       "      Series Title Release Year Runtime                   Genre Rating  \\\n",
       "0        Wednesday         2022  45 min  Comedy, Crime, Fantasy    8.2   \n",
       "1      Yellowstone         2018  60 min          Drama, Western    8.7   \n",
       "2  The White Lotus         2021  60 min           Comedy, Drama    7.9   \n",
       "\n",
       "                                                Cast  \\\n",
       "0  Jenna Ortega, Hunter Doohan, Percy Hynes White...   \n",
       "1  Kevin Costner, Luke Grimes, Kelly Reilly, Wes ...   \n",
       "2  Jennifer Coolidge, Jon Gries, F. Murray Abraha...   \n",
       "\n",
       "                                            Synopsis  \n",
       "0  Follows Wednesday Addams' years as a student, ...  \n",
       "1  A ranching family in Montana faces off against...  \n",
       "2  Set in a tropical resort, it follows the explo...  "
      ]
     },
     "execution_count": 53,
     "metadata": {},
     "output_type": "execute_result"
    }
   ],
   "source": [
    "# Viewing the dataset\n",
    "df2.head(3)"
   ]
  },
  {
   "cell_type": "code",
   "execution_count": 54,
   "metadata": {},
   "outputs": [
    {
     "name": "stderr",
     "output_type": "stream",
     "text": [
      "/tmp/ipykernel_668/10518460.py:2: SettingWithCopyWarning: \n",
      "A value is trying to be set on a copy of a slice from a DataFrame.\n",
      "Try using .loc[row_indexer,col_indexer] = value instead\n",
      "\n",
      "See the caveats in the documentation: https://pandas.pydata.org/pandas-docs/stable/user_guide/indexing.html#returning-a-view-versus-a-copy\n",
      "  df2['Runtime'] = df2['Runtime'].str.replace('min','')\n"
     ]
    },
    {
     "data": {
      "text/html": [
       "<div>\n",
       "<style scoped>\n",
       "    .dataframe tbody tr th:only-of-type {\n",
       "        vertical-align: middle;\n",
       "    }\n",
       "\n",
       "    .dataframe tbody tr th {\n",
       "        vertical-align: top;\n",
       "    }\n",
       "\n",
       "    .dataframe thead th {\n",
       "        text-align: right;\n",
       "    }\n",
       "</style>\n",
       "<table border=\"1\" class=\"dataframe\">\n",
       "  <thead>\n",
       "    <tr style=\"text-align: right;\">\n",
       "      <th></th>\n",
       "      <th>Series Title</th>\n",
       "      <th>Release Year</th>\n",
       "      <th>Runtime</th>\n",
       "      <th>Genre</th>\n",
       "      <th>Rating</th>\n",
       "      <th>Cast</th>\n",
       "      <th>Synopsis</th>\n",
       "    </tr>\n",
       "  </thead>\n",
       "  <tbody>\n",
       "    <tr>\n",
       "      <th>0</th>\n",
       "      <td>Wednesday</td>\n",
       "      <td>2022</td>\n",
       "      <td>45</td>\n",
       "      <td>Comedy, Crime, Fantasy</td>\n",
       "      <td>8.2</td>\n",
       "      <td>Jenna Ortega, Hunter Doohan, Percy Hynes White...</td>\n",
       "      <td>Follows Wednesday Addams' years as a student, ...</td>\n",
       "    </tr>\n",
       "    <tr>\n",
       "      <th>1</th>\n",
       "      <td>Yellowstone</td>\n",
       "      <td>2018</td>\n",
       "      <td>60</td>\n",
       "      <td>Drama, Western</td>\n",
       "      <td>8.7</td>\n",
       "      <td>Kevin Costner, Luke Grimes, Kelly Reilly, Wes ...</td>\n",
       "      <td>A ranching family in Montana faces off against...</td>\n",
       "    </tr>\n",
       "    <tr>\n",
       "      <th>2</th>\n",
       "      <td>The White Lotus</td>\n",
       "      <td>2021</td>\n",
       "      <td>60</td>\n",
       "      <td>Comedy, Drama</td>\n",
       "      <td>7.9</td>\n",
       "      <td>Jennifer Coolidge, Jon Gries, F. Murray Abraha...</td>\n",
       "      <td>Set in a tropical resort, it follows the explo...</td>\n",
       "    </tr>\n",
       "    <tr>\n",
       "      <th>3</th>\n",
       "      <td>1923</td>\n",
       "      <td>2022</td>\n",
       "      <td>60</td>\n",
       "      <td>Drama, Western</td>\n",
       "      <td>8.6</td>\n",
       "      <td>Harrison Ford, Helen Mirren, Brandon Sklenar, ...</td>\n",
       "      <td>The Duttons face a new set of challenges in th...</td>\n",
       "    </tr>\n",
       "    <tr>\n",
       "      <th>4</th>\n",
       "      <td>Jack Ryan</td>\n",
       "      <td>2018</td>\n",
       "      <td>60</td>\n",
       "      <td>Action, Drama, Thriller</td>\n",
       "      <td>8.0</td>\n",
       "      <td>John Krasinski, Wendell Pierce, Michael Kelly,...</td>\n",
       "      <td>Up-and-coming CIA analyst, Jack Ryan, is thrus...</td>\n",
       "    </tr>\n",
       "  </tbody>\n",
       "</table>\n",
       "</div>"
      ],
      "text/plain": [
       "      Series Title Release Year Runtime                    Genre Rating  \\\n",
       "0        Wednesday         2022     45    Comedy, Crime, Fantasy    8.2   \n",
       "1      Yellowstone         2018     60            Drama, Western    8.7   \n",
       "2  The White Lotus         2021     60             Comedy, Drama    7.9   \n",
       "3             1923         2022     60            Drama, Western    8.6   \n",
       "4        Jack Ryan         2018     60   Action, Drama, Thriller    8.0   \n",
       "\n",
       "                                                Cast  \\\n",
       "0  Jenna Ortega, Hunter Doohan, Percy Hynes White...   \n",
       "1  Kevin Costner, Luke Grimes, Kelly Reilly, Wes ...   \n",
       "2  Jennifer Coolidge, Jon Gries, F. Murray Abraha...   \n",
       "3  Harrison Ford, Helen Mirren, Brandon Sklenar, ...   \n",
       "4  John Krasinski, Wendell Pierce, Michael Kelly,...   \n",
       "\n",
       "                                            Synopsis  \n",
       "0  Follows Wednesday Addams' years as a student, ...  \n",
       "1  A ranching family in Montana faces off against...  \n",
       "2  Set in a tropical resort, it follows the explo...  \n",
       "3  The Duttons face a new set of challenges in th...  \n",
       "4  Up-and-coming CIA analyst, Jack Ryan, is thrus...  "
      ]
     },
     "execution_count": 54,
     "metadata": {},
     "output_type": "execute_result"
    }
   ],
   "source": [
    "# Changing the `Runtime` column into numbers (in Minutes):\n",
    "df2['Runtime'] = df2['Runtime'].str.replace('min','')\n",
    "\n",
    "df2.head(5)"
   ]
  },
  {
   "cell_type": "code",
   "execution_count": 55,
   "metadata": {},
   "outputs": [
    {
     "data": {
      "text/plain": [
       "'99 '"
      ]
     },
     "execution_count": 55,
     "metadata": {},
     "output_type": "execute_result"
    }
   ],
   "source": [
    "df2['Runtime'].max()"
   ]
  },
  {
   "cell_type": "markdown",
   "metadata": {},
   "source": [
    "#### Note: Runtime is in `Minutes`."
   ]
  },
  {
   "cell_type": "code",
   "execution_count": 56,
   "metadata": {},
   "outputs": [
    {
     "data": {
      "text/plain": [
       "60      10458\n",
       "****     8712\n",
       "30       4140\n",
       "44       3406\n",
       "50       2689\n",
       "        ...  \n",
       "79          1\n",
       "276         1\n",
       "185         1\n",
       "289         1\n",
       "101         1\n",
       "Name: Runtime, Length: 236, dtype: int64"
      ]
     },
     "execution_count": 56,
     "metadata": {},
     "output_type": "execute_result"
    }
   ],
   "source": [
    "# Seeing the unique values with occurence in `Runtime` column:\n",
    "df2['Runtime'].value_counts()"
   ]
  },
  {
   "cell_type": "code",
   "execution_count": 57,
   "metadata": {},
   "outputs": [
    {
     "name": "stderr",
     "output_type": "stream",
     "text": [
      "/tmp/ipykernel_668/2738625309.py:2: SettingWithCopyWarning: \n",
      "A value is trying to be set on a copy of a slice from a DataFrame.\n",
      "Try using .loc[row_indexer,col_indexer] = value instead\n",
      "\n",
      "See the caveats in the documentation: https://pandas.pydata.org/pandas-docs/stable/user_guide/indexing.html#returning-a-view-versus-a-copy\n",
      "  df2['Runtime'] = pd.to_numeric(df2['Runtime'], errors='coerce')\n",
      "/opt/conda/lib/python3.9/site-packages/pandas/core/generic.py:6392: SettingWithCopyWarning: \n",
      "A value is trying to be set on a copy of a slice from a DataFrame\n",
      "\n",
      "See the caveats in the documentation: https://pandas.pydata.org/pandas-docs/stable/user_guide/indexing.html#returning-a-view-versus-a-copy\n",
      "  return self._update_inplace(result)\n"
     ]
    },
    {
     "data": {
      "text/plain": [
       "49.57536984231897"
      ]
     },
     "execution_count": 57,
     "metadata": {},
     "output_type": "execute_result"
    }
   ],
   "source": [
    "# Convert non-numeric values to NaN\n",
    "df2['Runtime'] = pd.to_numeric(df2['Runtime'], errors='coerce')\n",
    "\n",
    "# Replace NaN values with the mean of the remaining non-NaN values\n",
    "df2['Runtime'].fillna(df2['Runtime'].mean(), inplace=True)\n",
    "\n",
    "df2_mean_runtime=df2['Runtime'].mean()\n",
    "df2_mean_runtime\n"
   ]
  },
  {
   "cell_type": "markdown",
   "metadata": {},
   "source": [
    "#### Note: The Avearage watch time (Runtime) of these series = `49.58 min` "
   ]
  },
  {
   "cell_type": "markdown",
   "metadata": {},
   "source": [
    "## Boxplot w.r.t. Runtime:"
   ]
  },
  {
   "cell_type": "code",
   "execution_count": 58,
   "metadata": {},
   "outputs": [
    {
     "data": {
      "image/png": "[encoded data removed]",
      "text/plain": [
       "<Figure size 864x432 with 1 Axes>"
      ]
     },
     "metadata": {
      "needs_background": "light"
     },
     "output_type": "display_data"
    }
   ],
   "source": [
    "plt.figure(figsize=(12,6))\n",
    "sns.boxplot(data=df2, x='Runtime')\n",
    "plt.title('Series Title w.r.t. Runtime');\n",
    "plt.show()"
   ]
  },
  {
   "cell_type": "markdown",
   "metadata": {},
   "source": [
    "## Barplot w.r.t. Runtime:"
   ]
  },
  {
   "cell_type": "code",
   "execution_count": 59,
   "metadata": {},
   "outputs": [
    {
     "data": {
      "image/png": "[encoded data removed]",
      "text/plain": [
       "<Figure size 2016x2016 with 1 Axes>"
      ]
     },
     "metadata": {
      "needs_background": "light"
     },
     "output_type": "display_data"
    }
   ],
   "source": [
    "# Let's see the `Runtime` column:\n",
    "runtime_df2=df2['Runtime'].value_counts().sort_values(ascending=False)\n",
    "\n",
    "# Ploting these data using `barplot` to understand it better:\n",
    "plt.figure(figsize=(28, 28))\n",
    "graph=sns.barplot(x=runtime_df2, y=runtime_df2.index)\n",
    "\n",
    "plt.title('Runtime vs Total No. of Series');\n",
    "plt.ylabel('Runtime');\n",
    "plt.xticks(rotation=75)\n",
    "plt.xlabel('Total Number Of Series')\n",
    "plt.show()"
   ]
  },
  {
   "cell_type": "markdown",
   "metadata": {},
   "source": [
    "# Let's Ask some interesting question:"
   ]
  },
  {
   "cell_type": "markdown",
   "metadata": {},
   "source": [
    "## Question 1:\n",
    "What is the maximum Runtime?"
   ]
  },
  {
   "cell_type": "markdown",
   "metadata": {},
   "source": [
    "## Answer:\n",
    "To answer this question firstly we see the `Runtime` column with value_counts and then plot a histogram to visualize the occurrence with the rating. So, let's see,"
   ]
  },
  {
   "cell_type": "code",
   "execution_count": 60,
   "metadata": {},
   "outputs": [
    {
     "data": {
      "image/png": "[encoded data removed]",
      "text/plain": [
       "<Figure size 432x288 with 1 Axes>"
      ]
     },
     "metadata": {
      "needs_background": "light"
     },
     "output_type": "display_data"
    },
    {
     "name": "stdout",
     "output_type": "stream",
     "text": [
      "The maximum runtime is: 900.0 minutes or 15.0 Hrs.\n"
     ]
    }
   ],
   "source": [
    "# Plot the histogram of the 'Runtime' column\n",
    "plt.hist(x=df2['Runtime'].value_counts().index,bins=10,alpha=.6)\n",
    "plt.xlabel('Runtime')\n",
    "plt.title('Histogram of IMDB TV and Series Runtimes')\n",
    "plt.show()\n",
    "\n",
    "# Find the maximum runtime\n",
    "max_runtime = df2['Runtime'].max()\n",
    "print(\"The maximum runtime is:\", max_runtime, \"minutes or\",max_runtime/60,\"Hrs.\")"
   ]
  },
  {
   "cell_type": "markdown",
   "metadata": {},
   "source": [
    "## Note:\n",
    "* Form the histogram and the calculation shows that the maximum runtime = `900 min` or `15 Hrs`."
   ]
  },
  {
   "cell_type": "markdown",
   "metadata": {},
   "source": [
    "## Question 2: \n",
    "Which actor has done maximum no. of the series?"
   ]
  },
  {
   "cell_type": "markdown",
   "metadata": {},
   "source": [
    "## Answer:\n",
    "Well this one is little bit tricky because we can see the `Cast` column isn't clean. So first we separate all the Casts in single form and then count the occurrence in the Cast column it means we are counting the presence of a cast in the entire Cast dataset.After that we plot a Bar chart to see how many series done by that cast."
   ]
  },
  {
   "cell_type": "code",
   "execution_count": 61,
   "metadata": {},
   "outputs": [
    {
     "data": {
      "image/png": "[encoded data removed]",
      "text/plain": [
       "<Figure size 1152x288 with 1 Axes>"
      ]
     },
     "metadata": {
      "needs_background": "light"
     },
     "output_type": "display_data"
    },
    {
     "data": {
      "text/plain": [
       " Matt Smith    2403\n",
       "Name: Cast, dtype: int64"
      ]
     },
     "execution_count": 61,
     "metadata": {},
     "output_type": "execute_result"
    }
   ],
   "source": [
    "top_cast_df2=df2['Cast'].str.split(',').explode().value_counts().sort_values(ascending=False)\n",
    "\n",
    "# Ploting these data using `barplot` to understand it better:\n",
    "plt.figure(figsize=(16, 4))\n",
    "sns.barplot(x=top_cast_df2.head(5).index, y=top_cast_df2.head(5))\n",
    "\n",
    "plt.title('Series done by each cast');\n",
    "plt.ylabel('Number of Series');\n",
    "plt.xticks(rotation=75)\n",
    "plt.xlabel('Cast Name')\n",
    "plt.show()\n",
    "\n",
    "# Find the actor with maximum no. of series\n",
    "top_cast_df2.head(1)"
   ]
  },
  {
   "cell_type": "markdown",
   "metadata": {},
   "source": [
    "## Note:\n",
    "*  With the help of the bar plot and the calculation we can clearly see that `Matt Smith` appeared the most in total `2403` series."
   ]
  },
  {
   "cell_type": "markdown",
   "metadata": {},
   "source": [
    "## Question 3:\n",
    "In which year maximum number of series have produced?"
   ]
  },
  {
   "cell_type": "markdown",
   "metadata": {},
   "source": [
    "## Answer:\n",
    "Release Year column is pretty much cleaned so we just `value_counts()` and arrange it into descending form so that we could select the top 5 years with maximum number of series. After that we plot a Horizontal bar plot to visualize the same."
   ]
  },
  {
   "cell_type": "code",
   "execution_count": 62,
   "metadata": {},
   "outputs": [
    {
     "data": {
      "image/png": "[encoded data removed]",
      "text/plain": [
       "<Figure size 1152x288 with 1 Axes>"
      ]
     },
     "metadata": {
      "needs_background": "light"
     },
     "output_type": "display_data"
    },
    {
     "data": {
      "text/plain": [
       "2022    14742\n",
       "Name: Release Year, dtype: int64"
      ]
     },
     "execution_count": 62,
     "metadata": {},
     "output_type": "execute_result"
    }
   ],
   "source": [
    "top_year_df2=df2['Release Year'].value_counts().sort_values(ascending=False)\n",
    "\n",
    "# Ploting these data using `barplot` to understand it better:\n",
    "plt.figure(figsize=(16, 4))\n",
    "sns.barplot(y=top_year_df2.head(5).index, x=top_year_df2.head(5))\n",
    "\n",
    "plt.title('Year with maximum number of series');\n",
    "plt.ylabel('Year');\n",
    "plt.xticks(rotation=75)\n",
    "plt.xlabel('Number Of Series')\n",
    "plt.show()\n",
    "\n",
    "# Find the actor with maximum no. of series\n",
    "top_year_df2.head(1)"
   ]
  },
  {
   "cell_type": "markdown",
   "metadata": {},
   "source": [
    "## Note:\n",
    "* In the bar plot we can see the year and to be very precise I have calculated the maximum number of series has produced in `2022` i.e., `14742`."
   ]
  },
  {
   "cell_type": "markdown",
   "metadata": {},
   "source": [
    "## Question 5:\n",
    "Which series have maximum no. of seasions?"
   ]
  },
  {
   "cell_type": "markdown",
   "metadata": {},
   "source": [
    "## Answer:\n",
    "This one is very similar to Release Year column. For this we just need to value_counts() for the `Series Title` and sort it to descending form and we just need to take top 5 series names so that we can visualize it properly. We are using a pie plot which is very popular for this type of situations."
   ]
  },
  {
   "cell_type": "code",
   "execution_count": 79,
   "metadata": {},
   "outputs": [
    {
     "data": {
      "image/png": "[encoded data removed]",
      "text/plain": [
       "<Figure size 1152x288 with 1 Axes>"
      ]
     },
     "metadata": {},
     "output_type": "display_data"
    },
    {
     "data": {
      "text/plain": [
       "The Office            804\n",
       "The Twilight Zone     804\n",
       "His Dark Materials    802\n",
       "Yellowstone           802\n",
       "Doctor Who            802\n",
       "Name: Series Title, dtype: int64"
      ]
     },
     "execution_count": 79,
     "metadata": {},
     "output_type": "execute_result"
    }
   ],
   "source": [
    "top_series_df2=df2['Series Title'].value_counts().sort_values(ascending=False).head(5)\n",
    "\n",
    "# Ploting these data using `barplot` to understand it better:\n",
    "plt.figure(figsize=(16, 4))\n",
    "plt.pie(top_series_df2,labels=top_series_df2.index, autopct='%.2f%%')\n",
    "plt.title('Series with maximum seasions');\n",
    "plt.show()\n",
    "\n",
    "# Find the actor with maximum no. of series\n",
    "top_series_df2.head(5)"
   ]
  },
  {
   "cell_type": "markdown",
   "metadata": {},
   "source": [
    "## Note:\n",
    "* There are two Series `The Office` and `The Twilight Zone` which appear the most total `804` times."
   ]
  },
  {
   "cell_type": "markdown",
   "metadata": {},
   "source": [
    "## Question 6:\n",
    "What is total number of Genres and name?"
   ]
  },
  {
   "cell_type": "markdown",
   "metadata": {},
   "source": [
    "## Answer:\n",
    "Again this one is tricky a bit let's clean the `Genre` column in separate Genre and then count the number of series within different genre. We are using a bar plot for entire genre to visualize it clearly. Let's see,"
   ]
  },
  {
   "cell_type": "code",
   "execution_count": 66,
   "metadata": {},
   "outputs": [
    {
     "data": {
      "image/png": "[encoded data removed]",
      "text/plain": [
       "<Figure size 1152x288 with 1 Axes>"
      ]
     },
     "metadata": {
      "needs_background": "light"
     },
     "output_type": "display_data"
    },
    {
     "data": {
      "text/plain": [
       "52"
      ]
     },
     "execution_count": 66,
     "metadata": {},
     "output_type": "execute_result"
    }
   ],
   "source": [
    "genre=df2['Genre'].str.split(',').explode().value_counts().sort_values(ascending=False)\n",
    "\n",
    "# Ploting these data using `barplot` to understand it better:\n",
    "plt.figure(figsize=(16, 4))\n",
    "sns.barplot(x=genre.index, y=genre)\n",
    "\n",
    "plt.title('Genre name');\n",
    "plt.ylabel('Total no.of series');\n",
    "plt.xticks(rotation=75)\n",
    "plt.xlabel('Genre with total number of series')\n",
    "plt.show()\n",
    "\n",
    "# total no. genre\n",
    "len(genre)"
   ]
  },
  {
   "cell_type": "markdown",
   "metadata": {},
   "source": [
    "## Note:\n",
    "* This is clear with the calculation that the total number of Genre = `52`. Also we can see in the bar plot."
   ]
  },
  {
   "cell_type": "markdown",
   "metadata": {},
   "source": [
    "## Question 7: \n",
    "Which genre have the most series, list top 5 genre name with number of series?"
   ]
  },
  {
   "cell_type": "markdown",
   "metadata": {},
   "source": [
    "## Answer:\n",
    "We will use the same code as the above one and separate the `head(5)` and visualize it with the help of Pie plot to understand it batter. "
   ]
  },
  {
   "cell_type": "code",
   "execution_count": 67,
   "metadata": {},
   "outputs": [
    {
     "data": {
      "image/png": "[encoded data removed]",
      "text/plain": [
       "<Figure size 1152x288 with 1 Axes>"
      ]
     },
     "metadata": {},
     "output_type": "display_data"
    },
    {
     "data": {
      "text/plain": [
       " Drama    25876\n",
       "Name: Genre, dtype: int64"
      ]
     },
     "execution_count": 67,
     "metadata": {},
     "output_type": "execute_result"
    }
   ],
   "source": [
    "top_genre=df2['Genre'].str.split(',').explode().value_counts().sort_values(ascending= False).head(5)\n",
    "\n",
    "# Ploting these data using `barplot` to understand it better:\n",
    "plt.figure(figsize=(16, 4))\n",
    "plt.pie(top_genre,labels=top_genre.index, autopct='%.2f%%')\n",
    "\n",
    "plt.title('Series in every genre');\n",
    "plt.show()\n",
    "\n",
    "# total no. genre\n",
    "top_genre.head(1)"
   ]
  },
  {
   "cell_type": "markdown",
   "metadata": {},
   "source": [
    "## Note:\n",
    "* We can see the `Drama` genre has the most number of series i.e., `37.61%` or `25876` and the genre wise top 5 series are shown with their percentage on the above Pie chart."
   ]
  },
  {
   "cell_type": "markdown",
   "metadata": {},
   "source": [
    "## Question 8:\n",
    "What is the maximum rating and how many series have that rating?"
   ]
  },
  {
   "cell_type": "markdown",
   "metadata": {},
   "source": [
    "## Answer:\n",
    "Yes this is interesting we are going to use `groupby()` to count the number of series with the respective ratings. Since we need the maximum rating give to  the series with the number of series. It is clear we need to sort and then we visualize with a colorful bar plot."
   ]
  },
  {
   "cell_type": "code",
   "execution_count": 68,
   "metadata": {},
   "outputs": [
    {
     "data": {
      "image/png": "[encoded data removed]",
      "text/plain": [
       "<Figure size 432x288 with 1 Axes>"
      ]
     },
     "metadata": {
      "needs_background": "light"
     },
     "output_type": "display_data"
    },
    {
     "name": "stdout",
     "output_type": "stream",
     "text": [
      "The Maximum rating given is    Rating  counts\n",
      "85    9.7       1\n"
     ]
    }
   ],
   "source": [
    "# Group the data by the 'Rating' column and count the number of series for each rating\n",
    "rating_counts = df2.groupby('Rating')['Series Title'].count().reset_index(name='counts')\n",
    "\n",
    "# Sort the data frame in descending order based on the rating values\n",
    "rating_counts = rating_counts.sort_values(by='Rating', ascending=False).head(2)\n",
    "\n",
    "# Plot the data using a bar plot\n",
    "rating_counts.plot.bar(x='Rating', y='counts', color='b')\n",
    "\n",
    "# Add labels and title\n",
    "plt.xlabel('Rating')\n",
    "plt.ylabel('Number of Series')\n",
    "plt.title('Number of IMDB TV and Series by Rating')\n",
    "plt.show()\n",
    "\n",
    "# Printing the maximum rating\n",
    "print('The Maximum rating given is',rating_counts.head(1))"
   ]
  },
  {
   "cell_type": "code",
   "execution_count": 69,
   "metadata": {},
   "outputs": [
    {
     "data": {
      "text/html": [
       "<div>\n",
       "<style scoped>\n",
       "    .dataframe tbody tr th:only-of-type {\n",
       "        vertical-align: middle;\n",
       "    }\n",
       "\n",
       "    .dataframe tbody tr th {\n",
       "        vertical-align: top;\n",
       "    }\n",
       "\n",
       "    .dataframe thead th {\n",
       "        text-align: right;\n",
       "    }\n",
       "</style>\n",
       "<table border=\"1\" class=\"dataframe\">\n",
       "  <thead>\n",
       "    <tr style=\"text-align: right;\">\n",
       "      <th></th>\n",
       "      <th>Series Title</th>\n",
       "      <th>Release Year</th>\n",
       "      <th>Runtime</th>\n",
       "      <th>Genre</th>\n",
       "      <th>Rating</th>\n",
       "      <th>Cast</th>\n",
       "      <th>Synopsis</th>\n",
       "    </tr>\n",
       "  </thead>\n",
       "  <tbody>\n",
       "    <tr>\n",
       "      <th>2790</th>\n",
       "      <td>His Dark Materials</td>\n",
       "      <td>2003</td>\n",
       "      <td>49.57537</td>\n",
       "      <td>Adventure, Drama, Fantasy</td>\n",
       "      <td>9.7</td>\n",
       "      <td>Terence Stamp, Kenneth Cranham, Bill Paterson,...</td>\n",
       "      <td>A young girl sets out on a quest that takes he...</td>\n",
       "    </tr>\n",
       "  </tbody>\n",
       "</table>\n",
       "</div>"
      ],
      "text/plain": [
       "            Series Title Release Year   Runtime                      Genre  \\\n",
       "2790  His Dark Materials         2003  49.57537  Adventure, Drama, Fantasy   \n",
       "\n",
       "     Rating                                               Cast  \\\n",
       "2790    9.7  Terence Stamp, Kenneth Cranham, Bill Paterson,...   \n",
       "\n",
       "                                               Synopsis  \n",
       "2790  A young girl sets out on a quest that takes he...  "
      ]
     },
     "execution_count": 69,
     "metadata": {},
     "output_type": "execute_result"
    }
   ],
   "source": [
    "# Let's locate the entire row:\n",
    "df2.loc[(df2['Rating'] == '9.7')]"
   ]
  },
  {
   "cell_type": "markdown",
   "metadata": {},
   "source": [
    "## Note:\n",
    "* The maximum rating is `9.7` and only `1` i.e., `His Dark Materials`."
   ]
  },
  {
   "cell_type": "markdown",
   "metadata": {},
   "source": [
    "## Question 9:\n",
    "Which ratings is given to the maximum number of series, list top 5?"
   ]
  },
  {
   "cell_type": "markdown",
   "metadata": {},
   "source": [
    "## Answer:\n",
    "To find the most frequent rating we just need to value count and short it. After that we take head(5) elements to visualize it in a pie chat so that we can understand."
   ]
  },
  {
   "cell_type": "code",
   "execution_count": 70,
   "metadata": {},
   "outputs": [
    {
     "data": {
      "image/png": "[encoded data removed]",
      "text/plain": [
       "<Figure size 432x288 with 1 Axes>"
      ]
     },
     "metadata": {},
     "output_type": "display_data"
    },
    {
     "name": "stdout",
     "output_type": "stream",
     "text": [
      "8.1    4346\n",
      "8.7    4123\n",
      "7.4    2807\n",
      "7.9    2746\n",
      "7.7    2632\n",
      "Name: Rating, dtype: int64\n"
     ]
    }
   ],
   "source": [
    "top_5_rating=df['Rating'].value_counts().sort_values(ascending=False).head(5)\n",
    "plt.pie(top_5_rating,labels=top_5_rating.index, autopct='%.2f%%')\n",
    "plt.show()\n",
    "\n",
    "#showing these ratings\n",
    "print(top_5_rating)"
   ]
  },
  {
   "cell_type": "markdown",
   "metadata": {},
   "source": [
    "## Note:\n",
    "* The rating  `8.1` is given to the `26.10%` or `4346` series which is the highest and top 5 most rated series are listed above."
   ]
  },
  {
   "cell_type": "markdown",
   "metadata": {},
   "source": [
    "## Question 10:\n",
    "Write a function to filter the *Series Title* when we entre the *rating*."
   ]
  },
  {
   "cell_type": "markdown",
   "metadata": {},
   "source": [
    "## Answer:\n",
    "We have done a similar concept in above during cleaning the data set it is very useful to define a function.\n",
    "* First we need to write a proper name with appropriate variables. \n",
    "* Here we need only one i.e., Rating because our dataset is defined to it just fix (we can change it also).\n",
    "* Now in this function we use `loc` method to filter the `series titles`.\n",
    "* Then we return these names.\n",
    "Let's see,"
   ]
  },
  {
   "cell_type": "code",
   "execution_count": 71,
   "metadata": {},
   "outputs": [],
   "source": [
    "def filter_by_rating(df2, rating):\n",
    "    \"\"\"\n",
    "    Filters a DataFrame by genre\n",
    "    \n",
    "    Parameters:\n",
    "        - df (DataFrame): The DataFrame to filter\n",
    "        - rating (str): The rating to filter by\n",
    "        \n",
    "    Returns:\n",
    "        - DataFrame: The filtered DataFrame\n",
    "    \"\"\"\n",
    "    filtered_data = df2['Series Title'].loc[df['Rating'].str.contains(rating)]\n",
    "    return filtered_data"
   ]
  },
  {
   "cell_type": "markdown",
   "metadata": {},
   "source": [
    "## Let's check it:"
   ]
  },
  {
   "cell_type": "code",
   "execution_count": 72,
   "metadata": {},
   "outputs": [
    {
     "data": {
      "text/plain": [
       "17                     Andor\n",
       "48                  The Bear\n",
       "49              Supernatural\n",
       "66       The Handmaid's Tale\n",
       "69                  Euphoria\n",
       "                ...         \n",
       "49948               The Bear\n",
       "49949           Supernatural\n",
       "49967                  Andor\n",
       "49998               The Bear\n",
       "49999           Supernatural\n",
       "Name: Series Title, Length: 2620, dtype: object"
      ]
     },
     "execution_count": 72,
     "metadata": {},
     "output_type": "execute_result"
    }
   ],
   "source": [
    "filter_by_rating(df2, '8.4')"
   ]
  },
  {
   "cell_type": "markdown",
   "metadata": {},
   "source": [
    "* Yes, its working properly!"
   ]
  },
  {
   "cell_type": "markdown",
   "metadata": {},
   "source": [
    "# Conclusion:"
   ]
  },
  {
   "cell_type": "markdown",
   "metadata": {},
   "source": [
    "* It is very intresting dataset to explore. \n",
    "* I have just screatched a litle bit there is more to explore.\n"
   ]
  },
  {
   "cell_type": "markdown",
   "metadata": {},
   "source": [
    "# Application:"
   ]
  },
  {
   "cell_type": "markdown",
   "metadata": {},
   "source": [
    "* We can use this data to build a `Recommandation System` for the TV & Series lovers.\n",
    "* We can find the previous trends to and help Series makers.\n",
    "* It is very helpful to predict the most active Actor and Series."
   ]
  },
  {
   "cell_type": "markdown",
   "metadata": {},
   "source": [
    "```\n",
    "Thanking You!\n",
    "```"
   ]
  },
  {
   "cell_type": "markdown",
   "metadata": {},
   "source": [
    "# Let's Save our work using `Jovian`:"
   ]
  },
  {
   "cell_type": "code",
   "execution_count": 73,
   "metadata": {},
   "outputs": [
    {
     "name": "stdout",
     "output_type": "stream",
     "text": [
      "Requirement already satisfied: jovian in /opt/conda/lib/python3.9/site-packages (0.2.45)\r\n",
      "Requirement already satisfied: pyyaml in /opt/conda/lib/python3.9/site-packages (from jovian) (6.0)\r\n",
      "Requirement already satisfied: requests in /opt/conda/lib/python3.9/site-packages (from jovian) (2.26.0)\r\n",
      "Requirement already satisfied: click in /opt/conda/lib/python3.9/site-packages (from jovian) (8.0.3)\r\n",
      "Requirement already satisfied: uuid in /opt/conda/lib/python3.9/site-packages (from jovian) (1.30)\r\n",
      "Requirement already satisfied: certifi>=2017.4.17 in /opt/conda/lib/python3.9/site-packages (from requests->jovian) (2021.10.8)\r\n",
      "Requirement already satisfied: charset-normalizer~=2.0.0 in /opt/conda/lib/python3.9/site-packages (from requests->jovian) (2.0.0)\r\n",
      "Requirement already satisfied: idna<4,>=2.5 in /opt/conda/lib/python3.9/site-packages (from requests->jovian) (3.1)\r\n",
      "Requirement already satisfied: urllib3<1.27,>=1.21.1 in /opt/conda/lib/python3.9/site-packages (from requests->jovian) (1.26.7)\r\n"
     ]
    }
   ],
   "source": [
    "# Install jovian\n",
    "!pip install jovian"
   ]
  },
  {
   "cell_type": "code",
   "execution_count": 74,
   "metadata": {},
   "outputs": [],
   "source": [
    "#Import Jovian\n",
    "import jovian"
   ]
  },
  {
   "cell_type": "code",
   "execution_count": 80,
   "metadata": {},
   "outputs": [
    {
     "data": {
      "application/javascript": [
       "window.require && require([\"base/js/namespace\"],function(Jupyter){Jupyter.notebook.save_checkpoint()})"
      ],
      "text/plain": [
       "<IPython.core.display.Javascript object>"
      ]
     },
     "metadata": {},
     "output_type": "display_data"
    },
    {
     "name": "stdout",
     "output_type": "stream",
     "text": [
      "[jovian] Updating notebook \"sonihariom555/50000-imdv-tv-web-series\" on https://jovian.com\u001b[0m\n",
      "[jovian] Committed successfully! https://jovian.com/sonihariom555/50000-imdv-tv-web-series\u001b[0m\n"
     ]
    },
    {
     "data": {
      "text/plain": [
       "'https://jovian.com/sonihariom555/50000-imdv-tv-web-series'"
      ]
     },
     "execution_count": 80,
     "metadata": {},
     "output_type": "execute_result"
    }
   ],
   "source": [
    "# Commiting the jovian\n",
    "jovian.commit(project='50,000 IMDV TV & WEB SERIES')"
   ]
  },
  {
   "cell_type": "code",
   "execution_count": null,
   "metadata": {},
   "outputs": [],
   "source": []
  }
 ],
 "metadata": {
  "language_info": {
   "codemirror_mode": {
    "name": "ipython",
    "version": 3
   },
   "file_extension": ".py",
   "mimetype": "text/x-python",
   "name": "python",
   "nbconvert_exporter": "python",
   "pygments_lexer": "ipython3",
   "version": "3.9.7"
  }
 },
 "nbformat": 4,
 "nbformat_minor": 2
}