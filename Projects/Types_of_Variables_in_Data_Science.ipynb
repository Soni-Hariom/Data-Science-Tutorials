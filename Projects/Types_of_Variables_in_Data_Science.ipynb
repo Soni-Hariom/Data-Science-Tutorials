{
 "cells": [
  {
   "cell_type": "markdown",
   "id": "55d224f5",
   "metadata": {},
   "source": [
    "# Types of Variables in Data Science"
   ]
  },
  {
   "cell_type": "markdown",
   "id": "4142bdc0",
   "metadata": {},
   "source": [
    "<img src = 'https://miro.medium.com/max/720/1*ETVwXIb60iCU-iF7MZ0DTA.webp' width=\"500\" height=\"500\">"
   ]
  },
  {
   "cell_type": "markdown",
   "id": "d3ad157c",
   "metadata": {},
   "source": [
    "## CONTENTS:\n",
    "* What is variable?\n",
    "* Types of variable?\n",
    "* Examples"
   ]
  },
  {
   "cell_type": "markdown",
   "id": "781031ce",
   "metadata": {},
   "source": [
    "## What is variable?\n",
    "* A *variable* is any characteristic, number, or quantity that can be measured or counted.\n",
    "* Note that this variable is different from the programming languages' variables."
   ]
  },
  {
   "cell_type": "markdown",
   "id": "35fd81b6",
   "metadata": {},
   "source": [
    "* **Here the values of columns' heading with ` DateTime, Hours, Day, Month, Year, Number of week day` are the variables.**"
   ]
  },
  {
   "cell_type": "markdown",
   "id": "fd0126fb",
   "metadata": {},
   "source": [
    "## Types of variables"
   ]
  },
  {
   "cell_type": "markdown",
   "id": "fa3d56b0",
   "metadata": {},
   "source": [
    "* **Variables:**\n",
    "    * **Numerical:**\n",
    "        * Discrete\n",
    "        * Continuous\n",
    "    * **Categorical**\n",
    "        * Ordinal\n",
    "        * Nominal\n",
    "    * **Date and Times**\n",
    "    * **Mixed**"
   ]
  },
  {
   "cell_type": "markdown",
   "id": "5a8ec455",
   "metadata": {},
   "source": [
    "## 1. Numerical Variables:"
   ]
  },
  {
   "cell_type": "markdown",
   "id": "b62f6b6e",
   "metadata": {},
   "source": [
    "* A numerical variable is a variable where the measurement or number has a numerical meaning.\n",
    "\n",
    "| Age  |  Weight(in Kg)  |  Income   |  No. of vehicles  |  Percentage |\n",
    "|------|-----------------|-----------|-------------------|-------------|\n",
    "|  23  |     92.3        |  59,00,000|  2                |    90.83    |     \n",
    "|  13  |     35.3        |  5000     |  1                |    62.00    |     \n",
    "|  35  |     65.5        |  3,50,000 |  5                |    68.35    |     \n",
    "|  33  |     69.3        |  9,00,000 |  1                |    70.53    |     \n",
    "|  63  |     73.9        | 100,00,000|  9                |    80.20    |     \n",
    "|  43  |     80.2        |  19,00,000|  1                |    52.89    |     \n",
    "|  53  |     70.5        |  5,00,000 |  3                |    95.00    |     "
   ]
  },
  {
   "cell_type": "markdown",
   "id": "47d166b6",
   "metadata": {},
   "source": [
    "**Note:**\n",
    "* These are all numerical variable in the table.\n",
    "* Numerical variables is mainly two types."
   ]
  },
  {
   "cell_type": "markdown",
   "id": "8fdfba09",
   "metadata": {},
   "source": [
    "## (i) Discrete Variable:\n",
    "The value which can be counted as whole value (fixed) called as *discrete variable*.   \n",
    "\n",
    "### Example: \n",
    "* 1, 32, 55, 100,...  \n",
    "* In the above example discrete variables are: `Age, Income, No. of Vehicle`.\n",
    "\n",
    "**Note: It is integer value (not 56.94,3.14,..)**"
   ]
  },
  {
   "cell_type": "markdown",
   "id": "729bb0de",
   "metadata": {},
   "source": [
    "## (ii) Continuous Variable:\n",
    "The value contain range, measurements called as *continuous variable*.\n",
    "\n",
    "### Example:\n",
    "* 1.02, 1.00, 3.14, 93.99,.....\n",
    "* In the above example continuous variables are: `Weight, Percentage`.\n",
    "\n",
    "**Note: It is a floating value.**"
   ]
  },
  {
   "cell_type": "markdown",
   "id": "03a5ffb5",
   "metadata": {},
   "source": [
    "## 2. Categorical Variable:"
   ]
  },
  {
   "cell_type": "markdown",
   "id": "65820a15",
   "metadata": {},
   "source": [
    "* The values of a categorical variable are selected from group of categories, also called *labels*.\n",
    "\n",
    "| Grade  |    Quality    |   Days   |   Products   |   Language  |\n",
    "|--------|---------------|----------|--------------|-------------|\n",
    "|  A     |   Poor        | Monday   |  Laptop      |  Python     |\n",
    "|  B     |   Good        | Sunday   |  Bag         |  Java       |\n",
    "|  C     |   very Good   | Tuesday  |  Mouse       |  C++        |\n",
    "|  D     |   Excellent   | Thursday |  Torch       |  Nodejs     |\n",
    "|  E     |   Very Poor   | Saturday |  Pentab      |  Go         |\n",
    "|  F     |   Excellent   | Tuesday  |  Mobile      |  Python     |\n",
    "|  G     |   Excellent   | Friday   |  Shirt       |  C++        |"
   ]
  },
  {
   "cell_type": "markdown",
   "id": "fc1191e9",
   "metadata": {},
   "source": [
    "**Note:**\n",
    "* These are all categorical variable in the table.\n",
    "* Categorical variables is mainly two types."
   ]
  },
  {
   "cell_type": "markdown",
   "id": "6d7cf2d5",
   "metadata": {
    "heading_collapsed": true
   },
   "source": [
    "## (i) Ordinal Variable:\n",
    "* Ordinal variables are categorical variable in which the categories can be meaningfully ordered.\n",
    "* When the ordinal variable convert into the number then it has mathematical value.\n",
    "\n",
    "**Example:** \n",
    "* Rating of products.\n",
    "* In the above example ordinal variables are: `Grade, Quality, Months`."
   ]
  },
  {
   "cell_type": "markdown",
   "id": "373659a5",
   "metadata": {},
   "source": [
    "## (ii) Nominal Variable:\n",
    "* Nominal variable is same like ordinal variable but there is nothing that indicates an intrinsic order of the labels and in principle.\n",
    "* All labels are equal no order.\n",
    "* No mathematical value.\n",
    "\n",
    "**Example:** \n",
    "* Color: Red, Green, Blue (note all the color have the same value)\n",
    "* In the above example nominal variables are: `Products, Language, Days`. "
   ]
  },
  {
   "cell_type": "markdown",
   "id": "ae381b68",
   "metadata": {},
   "source": [
    "**Note that the difference between the Ordinal and Nominal variables is quite trick. In Ordinal variable we can change it into numbers as required in increasing or deceasing order where as in Nominal variable has no numerical value or have same weights for all we can't really distinguish.**"
   ]
  },
  {
   "cell_type": "markdown",
   "id": "cd44b4ae",
   "metadata": {},
   "source": [
    "## 3. Date and Time Variable:"
   ]
  },
  {
   "cell_type": "markdown",
   "id": "85a7a97d",
   "metadata": {},
   "source": [
    "* DateTime variable can contain date only, time only, or date and time both.\n",
    "\n",
    "| Date Only | Time only |       DateTime       |\n",
    "|-----------|-----------|----------------------|\n",
    "|  Jan-2010 |  10.15 AM | 07-Dec-2020 12.00.00 |\n",
    "|  Apr-2006 |  14.45 PM | 28-Nov-1999 23.45.03 |\n",
    "|  Mar-2030 |  20.30 PM | 13-Oct-2050 11.03.02 |\n",
    "|  Jun-2025 |  03.16 AM | 06-Dec-2000 03.30.33 |\n",
    "|  Aug-2091 |  23.45 PM | 23-Feb-2020 10.10.00 |"
   ]
  },
  {
   "cell_type": "markdown",
   "id": "4ab189c4",
   "metadata": {},
   "source": [
    "**Example:**\n",
    "* **App login/logout:** When we login or logout from an app then the date and time are saving as data in the app server.\n",
    "* **Clicks on Ads:** When we click on add the date, time, and duration, etc are stored as data.\n",
    "* **Money Withdraw:** When we go in ATM or online banking our transactional data and time were stored as data.\n",
    "* **System Power On/Off:** If you are working in IT field as System Admin the time and data data of systems are needed.\n",
    "* **Baby Born Report:** If you are working in medical or Jyotishi field then date and time of Baby birth is needed.\n",
    "* **Death Reports:** In the Medical & Government data the death date and timing is needed."
   ]
  },
  {
   "cell_type": "markdown",
   "id": "afa9e41c",
   "metadata": {},
   "source": [
    "## 4. Mixed Variable:"
   ]
  },
  {
   "cell_type": "markdown",
   "id": "e0a63a18",
   "metadata": {},
   "source": [
    "* The variable which contains number and categories (labels) called Mixed Variable.\n",
    "\n",
    "|  Student ID  |  Percentage  |\n",
    "|--------------|--------------|\n",
    "|    023       |  A++         |    \n",
    "|    659       |  85          |    \n",
    "|    568       |  Failed      |    \n",
    "|    244       |  60          |    \n",
    "|    024       |  A           |    \n",
    "|    525       | 75           |    "
   ]
  },
  {
   "cell_type": "markdown",
   "id": "f3572ffc",
   "metadata": {},
   "source": [
    "# Saving our work:"
   ]
  },
  {
   "cell_type": "code",
   "execution_count": 1,
   "id": "c3f188f1",
   "metadata": {},
   "outputs": [],
   "source": [
    "!pip install jovian --upgrade --quiet"
   ]
  },
  {
   "cell_type": "code",
   "execution_count": 2,
   "id": "f56b0e56",
   "metadata": {},
   "outputs": [],
   "source": [
    "import jovian"
   ]
  },
  {
   "cell_type": "code",
   "execution_count": null,
   "id": "2e61bcfa",
   "metadata": {},
   "outputs": [
    {
     "data": {
      "application/javascript": [
       "window.require && require([\"base/js/namespace\"],function(Jupyter){Jupyter.notebook.save_checkpoint()})"
      ],
      "text/plain": [
       "<IPython.core.display.Javascript object>"
      ]
     },
     "metadata": {},
     "output_type": "display_data"
    }
   ],
   "source": [
    "jovian.commit(project='Types of Variables in Data Science')"
   ]
  },
  {
   "cell_type": "code",
   "execution_count": null,
   "id": "8e4fd885",
   "metadata": {},
   "outputs": [],
   "source": []
  }
 ],
 "metadata": {
  "language_info": {
   "codemirror_mode": {
    "name": "ipython",
    "version": 3
   },
   "file_extension": ".py",
   "mimetype": "text/x-python",
   "name": "python",
   "nbconvert_exporter": "python",
   "pygments_lexer": "ipython3",
   "version": "3.9.7"
  }
 },
 "nbformat": 4,
 "nbformat_minor": 5
}