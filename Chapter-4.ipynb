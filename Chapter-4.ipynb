{
 "cells": [
  {
   "cell_type": "markdown",
   "id": "bbe4c46b",
   "metadata": {},
   "source": [
    "# Function In Python - (Writing Reusable Code)"
   ]
  },
  {
   "cell_type": "markdown",
   "id": "5161d8a1",
   "metadata": {},
   "source": [
    "> Contents:"
   ]
  },
  {
   "cell_type": "markdown",
   "id": "b509f023",
   "metadata": {},
   "source": [
    "* Creating and using functions in Python\n",
    "* Local variables, return values, and optional arguments\n",
    "* Reusing functions and using Python library functions\n",
    "* Exception handling using Python library functions\n",
    "* Documenting functions using docstrings"
   ]
  },
  {
   "cell_type": "markdown",
   "id": "eeed5a38",
   "metadata": {},
   "source": [
    "## A Brief Introduction Of Defining A Function"
   ]
  },
  {
   "cell_type": "markdown",
   "id": "92bf9ffd",
   "metadata": {},
   "source": [
    "![](https://i.imgur.com/TvNf5Jp.png)"
   ]
  },
  {
   "cell_type": "markdown",
   "id": "43e0bfdc",
   "metadata": {},
   "source": [
    "> ### Creating And Using Functions :"
   ]
  },
  {
   "cell_type": "markdown",
   "id": "179b1b2b",
   "metadata": {},
   "source": [
    "A function is a reusable set of instructions that takes one or more inputs to perform some operations and often return an output. Python contains many in-built functions like `print`, `len`, etc, and provides the ability to define new ones."
   ]
  },
  {
   "cell_type": "code",
   "execution_count": 4,
   "id": "4beb673b",
   "metadata": {},
   "outputs": [
    {
     "name": "stdout",
     "output_type": "stream",
     "text": [
      "Type Today's day : Monday\n",
      "Today is :  Monday\n"
     ]
    }
   ],
   "source": [
    "today=input(\"Type Today's day : \")\n",
    "print('Today is : ',today)"
   ]
  },
  {
   "cell_type": "markdown",
   "id": "cfa5b3e7",
   "metadata": {},
   "source": [
    "**You can define a new function using the `def` keyword.**"
   ]
  },
  {
   "cell_type": "code",
   "execution_count": 5,
   "id": "d5dd31d1",
   "metadata": {},
   "outputs": [],
   "source": [
    "def Greeting():\n",
    "    print(\"Hi, I'm your vertual assistent.\")\n",
    "    print(\"My name is : So'ham\")\n",
    "    name = input(\"What is your name? \\n\")\n",
    "    print(\"Hi, \",name,\"!\")\n",
    "    status=input(\"How may I help you? \\n\")\n",
    "    print(\"I do my best.\")"
   ]
  },
  {
   "cell_type": "markdown",
   "id": "3339b36c",
   "metadata": {},
   "source": [
    "**Note:-** The round brackets or parentheses `()` and colon `:` after the function's name. Both are essential parts of syntax. The function's *body* contains an indented block of statements. The statements inside a function's body are not executed when the function is defined. To execute the statements, we need to *call* or *invoke* the function. "
   ]
  },
  {
   "cell_type": "code",
   "execution_count": 6,
   "id": "794ce171",
   "metadata": {},
   "outputs": [
    {
     "name": "stdout",
     "output_type": "stream",
     "text": [
      "Hi, I'm your vertual assistent.\n",
      "My name is : So'ham\n",
      "What is your name? \n",
      "Hariom\n",
      "Hi,  Hariom !\n",
      "How may I help you? \n",
      "Nope\n",
      "I do my best.\n"
     ]
    }
   ],
   "source": [
    "Greeting()"
   ]
  },
  {
   "cell_type": "markdown",
   "id": "6e6853c2",
   "metadata": {},
   "source": [
    "> ### Function arguments :"
   ]
  },
  {
   "cell_type": "markdown",
   "id": "6306bc67",
   "metadata": {},
   "source": [
    "Functions can accept zero or more values as *inputs* (also known as *arguments* or *parameters*). Arguments help us write flexible functions that can perform the same operations om different values. Further, functions can return a result that can be stored in a variable or used in other expressions.  \n",
    "\n",
    "Here's function that filters out the even numbers from a list and return a new list using the `return` keyword."
   ]
  },
  {
   "cell_type": "code",
   "execution_count": 7,
   "id": "2afba31d",
   "metadata": {},
   "outputs": [],
   "source": [
    "def filter_even(number_list):\n",
    "    result_list = []\n",
    "    for number in number_list:\n",
    "        if number % 2 == 0:\n",
    "            result_list.append(number)\n",
    "    return result_list"
   ]
  },
  {
   "cell_type": "markdown",
   "id": "0252f62a",
   "metadata": {},
   "source": [
    "> **Caution:-** Can you understand  what the function does by looking at the code? If not, try executing each line of the function's body separately within a code cell with a code cell with an actual list of numbers in place of `number_list`"
   ]
  },
  {
   "cell_type": "code",
   "execution_count": 8,
   "id": "f2769383",
   "metadata": {},
   "outputs": [],
   "source": [
    "even_list = filter_even([1, 2, 3, 4, 5, 6, 7, 8, 9, 10])"
   ]
  },
  {
   "cell_type": "code",
   "execution_count": 9,
   "id": "76eeac6b",
   "metadata": {},
   "outputs": [
    {
     "data": {
      "text/plain": [
       "[2, 4, 6, 8, 10]"
      ]
     },
     "execution_count": 9,
     "metadata": {},
     "output_type": "execute_result"
    }
   ],
   "source": [
    "even_list"
   ]
  },
  {
   "cell_type": "markdown",
   "id": "d0c73441",
   "metadata": {},
   "source": [
    "### Writing Great Function In Python :"
   ]
  },
  {
   "cell_type": "markdown",
   "id": "564f6292",
   "metadata": {},
   "source": [
    "As a programmer, you will spend most of your time writing and using functions. Python offers many features to make your functions powerful and flexible. Let's explore some of these by solving a problem: "
   ]
  },
  {
   "cell_type": "markdown",
   "id": "de1a4d19",
   "metadata": {},
   "source": [
    "> **Problem:-** Radha is planning to buy a house that costs `$1,260,000`. She considering two options to finance her purchase:\n",
    ">\n",
    "> * **Option-1:-** Make an immediate down payment of `$300,000`, and take lone 8-year lone with an interest rate of 10% (compounded monthly) for the remaining amount.\n",
    "> * **Option-2:-** Take a 10-year lone with an interest rate of 8% (compounded monthly) for the entire amount.\n",
    ">\n",
    ">Both these loans have to be paid back in equal monthly installments (EMIs). Which loan has a lower EMI among the tow? "
   ]
  },
  {
   "cell_type": "markdown",
   "id": "b744de00",
   "metadata": {},
   "source": [
    "**Solution:-** Since we need to compare the EMIs for two loan options, defining a function to calculate the EMI for a loan would be a great idea. The inputs to the function would be cast of the house, the down payment, duration of the loan, rate of interest etc. We'll build this function step by step.  "
   ]
  },
  {
   "cell_type": "markdown",
   "id": "1694dd36",
   "metadata": {},
   "source": [
    "> **First:-** Let's write a simple function that calculate the EMI on the entire cost of the House, assuming that the loan must be paid back in one year, and there is no interest or down payment."
   ]
  },
  {
   "cell_type": "code",
   "execution_count": 11,
   "id": "3d0d6a28",
   "metadata": {},
   "outputs": [],
   "source": [
    "def loan_emi(amount):\n",
    "    emi = amount / 12\n",
    "    print('The EMI is Rs.{}'.format(emi))"
   ]
  },
  {
   "cell_type": "code",
   "execution_count": 12,
   "id": "b65a2b83",
   "metadata": {},
   "outputs": [
    {
     "name": "stdout",
     "output_type": "stream",
     "text": [
      "The EMI is Rs.10025.0\n"
     ]
    }
   ],
   "source": [
    "loan_emi(120300)"
   ]
  },
  {
   "cell_type": "markdown",
   "id": "1cd54547",
   "metadata": {},
   "source": [
    "### Local variables and scope"
   ]
  },
  {
   "cell_type": "markdown",
   "id": "45659540",
   "metadata": {},
   "source": [
    "Let's add a second argument to account for the duration of the loan in months,"
   ]
  },
  {
   "cell_type": "code",
   "execution_count": 13,
   "id": "6aa11f59",
   "metadata": {},
   "outputs": [],
   "source": [
    "def loan_emi(amount, duration):\n",
    "    emi = amount / duration\n",
    "    print('The EMI is Rs.{}'.format(emi))"
   ]
  },
  {
   "cell_type": "markdown",
   "id": "3188c0d4",
   "metadata": {},
   "source": [
    "> **Note :-** That the variable `emi` defined inside the function is not accessible outside. The same is true for the parameters `amount` and `duration`. These are all *local variables* variables that lie within the scope of the function.  "
   ]
  },
  {
   "cell_type": "markdown",
   "id": "5f050325",
   "metadata": {},
   "source": [
    "> **Scope :-** Scope refers to the region within the code where a particular variable is visible. Every function (or class definition) defines a scope within Python. Variables define in this scope are called *local variables*. Variables that are available every where are called *global variables*. Scope rules allow you to use the same variable names in different functions without sharing values from one to the others."
   ]
  },
  {
   "cell_type": "code",
   "execution_count": 14,
   "id": "bf985690",
   "metadata": {},
   "outputs": [
    {
     "ename": "NameError",
     "evalue": "name 'emi' is not defined",
     "output_type": "error",
     "traceback": [
      "\u001b[0;31m---------------------------------------------------------------------------\u001b[0m",
      "\u001b[0;31mNameError\u001b[0m                                 Traceback (most recent call last)",
      "\u001b[0;32m/tmp/ipykernel_209/1358411353.py\u001b[0m in \u001b[0;36m<module>\u001b[0;34m\u001b[0m\n\u001b[0;32m----> 1\u001b[0;31m \u001b[0memi\u001b[0m\u001b[0;34m\u001b[0m\u001b[0;34m\u001b[0m\u001b[0m\n\u001b[0m",
      "\u001b[0;31mNameError\u001b[0m: name 'emi' is not defined"
     ]
    }
   ],
   "source": [
    "emi"
   ]
  },
  {
   "cell_type": "code",
   "execution_count": 15,
   "id": "3e34de51",
   "metadata": {},
   "outputs": [
    {
     "ename": "NameError",
     "evalue": "name 'amount' is not defined",
     "output_type": "error",
     "traceback": [
      "\u001b[0;31m---------------------------------------------------------------------------\u001b[0m",
      "\u001b[0;31mNameError\u001b[0m                                 Traceback (most recent call last)",
      "\u001b[0;32m/tmp/ipykernel_209/628052274.py\u001b[0m in \u001b[0;36m<module>\u001b[0;34m\u001b[0m\n\u001b[0;32m----> 1\u001b[0;31m \u001b[0mamount\u001b[0m\u001b[0;34m\u001b[0m\u001b[0;34m\u001b[0m\u001b[0m\n\u001b[0m",
      "\u001b[0;31mNameError\u001b[0m: name 'amount' is not defined"
     ]
    }
   ],
   "source": [
    "amount"
   ]
  },
  {
   "cell_type": "code",
   "execution_count": 16,
   "id": "050aecb5",
   "metadata": {},
   "outputs": [
    {
     "ename": "NameError",
     "evalue": "name 'duration' is not defined",
     "output_type": "error",
     "traceback": [
      "\u001b[0;31m---------------------------------------------------------------------------\u001b[0m",
      "\u001b[0;31mNameError\u001b[0m                                 Traceback (most recent call last)",
      "\u001b[0;32m/tmp/ipykernel_209/3792379043.py\u001b[0m in \u001b[0;36m<module>\u001b[0;34m\u001b[0m\n\u001b[0;32m----> 1\u001b[0;31m \u001b[0mduration\u001b[0m\u001b[0;34m\u001b[0m\u001b[0;34m\u001b[0m\u001b[0m\n\u001b[0m",
      "\u001b[0;31mNameError\u001b[0m: name 'duration' is not defined"
     ]
    }
   ],
   "source": [
    "duration"
   ]
  },
  {
   "cell_type": "markdown",
   "id": "6e358ed6",
   "metadata": {},
   "source": [
    "> We can now compare a 6-year loan Vs a 10-year loan (assuming no down payment or interest)."
   ]
  },
  {
   "cell_type": "code",
   "execution_count": 17,
   "id": "4e5b1977",
   "metadata": {},
   "outputs": [
    {
     "name": "stdout",
     "output_type": "stream",
     "text": [
      "The EMI is Rs.13125.0\n"
     ]
    }
   ],
   "source": [
    "loan_emi(1260000, 8*12)"
   ]
  },
  {
   "cell_type": "code",
   "execution_count": 18,
   "id": "2b6c9b26",
   "metadata": {},
   "outputs": [
    {
     "name": "stdout",
     "output_type": "stream",
     "text": [
      "The EMI is Rs.10500.0\n"
     ]
    }
   ],
   "source": [
    "loan_emi(1260000, 10*12)"
   ]
  },
  {
   "cell_type": "markdown",
   "id": "1198a86b",
   "metadata": {},
   "source": [
    "### Return values"
   ]
  },
  {
   "cell_type": "markdown",
   "id": "e26978ad",
   "metadata": {},
   "source": [
    "As you might expect, the EMI for the 6-year loan is higher compared to the 10-year loan. Right now, we're printing out the result. It would be better to return it and store the results in variables for easier comparison. We can do this using the `return` statement."
   ]
  },
  {
   "cell_type": "code",
   "execution_count": 19,
   "id": "c5bfc9fd",
   "metadata": {},
   "outputs": [],
   "source": [
    "def loan_emi(amount, duration):\n",
    "    emi = amount / duration\n",
    "    return emi"
   ]
  },
  {
   "cell_type": "code",
   "execution_count": 20,
   "id": "152e897b",
   "metadata": {},
   "outputs": [],
   "source": [
    "emi1= loan_emi(126000, 8*12)"
   ]
  },
  {
   "cell_type": "code",
   "execution_count": 21,
   "id": "69539e61",
   "metadata": {},
   "outputs": [],
   "source": [
    "emi2= loan_emi(1260000,10*12)"
   ]
  },
  {
   "cell_type": "code",
   "execution_count": 22,
   "id": "3a61e982",
   "metadata": {},
   "outputs": [
    {
     "data": {
      "text/plain": [
       "1312.5"
      ]
     },
     "execution_count": 22,
     "metadata": {},
     "output_type": "execute_result"
    }
   ],
   "source": [
    "emi1"
   ]
  },
  {
   "cell_type": "code",
   "execution_count": 23,
   "id": "ab075646",
   "metadata": {},
   "outputs": [
    {
     "data": {
      "text/plain": [
       "10500.0"
      ]
     },
     "execution_count": 23,
     "metadata": {},
     "output_type": "execute_result"
    }
   ],
   "source": [
    "emi2"
   ]
  },
  {
   "cell_type": "markdown",
   "id": "4ee5b137",
   "metadata": {},
   "source": [
    "### Optional arguments"
   ]
  },
  {
   "cell_type": "markdown",
   "id": "139a87fa",
   "metadata": {},
   "source": [
    "Next, let's add another argument to account for the immediate down payment. We'll make this an *optional argument* with default value of 0."
   ]
  },
  {
   "cell_type": "code",
   "execution_count": 24,
   "id": "6dbfaa42",
   "metadata": {},
   "outputs": [],
   "source": [
    "def loan_emi(amount, duration, down_payment=0):\n",
    "    loan_amount = amount - down_payment\n",
    "    emi = loan_amount / duration\n",
    "    return emi"
   ]
  },
  {
   "cell_type": "code",
   "execution_count": 25,
   "id": "68cd45e2",
   "metadata": {},
   "outputs": [],
   "source": [
    "emi1 = loan_emi(1260000, 8*12, 3e5)"
   ]
  },
  {
   "cell_type": "code",
   "execution_count": 26,
   "id": "4ea5cb01",
   "metadata": {},
   "outputs": [
    {
     "data": {
      "text/plain": [
       "10000.0"
      ]
     },
     "execution_count": 26,
     "metadata": {},
     "output_type": "execute_result"
    }
   ],
   "source": [
    "emi1"
   ]
  },
  {
   "cell_type": "code",
   "execution_count": 27,
   "id": "dd17df46",
   "metadata": {},
   "outputs": [],
   "source": [
    "emi2 = loan_emi(1260000,10*12)"
   ]
  },
  {
   "cell_type": "code",
   "execution_count": 28,
   "id": "bdaf5858",
   "metadata": {},
   "outputs": [
    {
     "data": {
      "text/plain": [
       "10500.0"
      ]
     },
     "execution_count": 28,
     "metadata": {},
     "output_type": "execute_result"
    }
   ],
   "source": [
    "emi2"
   ]
  },
  {
   "cell_type": "markdown",
   "id": "ba9c36ca",
   "metadata": {},
   "source": [
    "> Next, let's add the interest calculation into the function. Here is the formula used to calculate the EMI for a loan;"
   ]
  },
  {
   "cell_type": "markdown",
   "id": "4fb69759",
   "metadata": {},
   "source": [
    "<img src=\"https://i.imgur.com/iKujHGK.png\" style=\"width:240px\">"
   ]
  },
  {
   "cell_type": "markdown",
   "id": "8b603d26",
   "metadata": {},
   "source": [
    "> Where:\n",
    "\n",
    "* `p` is the loan amount (principal)\n",
    "* `n` is the number of months\n",
    "* `r` is the rate of interest per month"
   ]
  },
  {
   "cell_type": "markdown",
   "id": "1163013b",
   "metadata": {},
   "source": [
    "The deviation of this formula is beyond the scope of this tutorial. [See this video](https://youtu.be/Coxza9ugW4E)."
   ]
  },
  {
   "cell_type": "code",
   "execution_count": 29,
   "id": "7cf40f71",
   "metadata": {},
   "outputs": [],
   "source": [
    "def loan_emi(amount, duration, rate, down_payment=0):\n",
    "    loan_amount = amount - down_payment\n",
    "    emi = loan_amount * rate *  ((1+rate)**duration)/(((1+rate)**duration)-1)\n",
    "    return emi"
   ]
  },
  {
   "cell_type": "markdown",
   "id": "1f053483",
   "metadata": {},
   "source": [
    "**Note:-** While defining the function, required arguments like `cost`, `duration` and `rate` must appear before optional argument like `down_payment`."
   ]
  },
  {
   "cell_type": "markdown",
   "id": "f0aed1a1",
   "metadata": {},
   "source": [
    "Let's calculate the EMI for optional 1"
   ]
  },
  {
   "cell_type": "code",
   "execution_count": 30,
   "id": "76bb50d3",
   "metadata": {},
   "outputs": [
    {
     "data": {
      "text/plain": [
       "14567.19753389219"
      ]
     },
     "execution_count": 30,
     "metadata": {},
     "output_type": "execute_result"
    }
   ],
   "source": [
    "loan_emi(1260000, 8*12, 0.1/12, 3e5)"
   ]
  },
  {
   "cell_type": "markdown",
   "id": "58f403c0",
   "metadata": {},
   "source": [
    "* While calculating the EMI for Option-2, we need not include the `down_payment` argument."
   ]
  },
  {
   "cell_type": "code",
   "execution_count": 31,
   "id": "6ee15971",
   "metadata": {},
   "outputs": [
    {
     "data": {
      "text/plain": [
       "15287.276888775077"
      ]
     },
     "execution_count": 31,
     "metadata": {},
     "output_type": "execute_result"
    }
   ],
   "source": [
    "loan_emi(1260000,10*12,.08/12)"
   ]
  },
  {
   "cell_type": "markdown",
   "id": "4732a3b6",
   "metadata": {},
   "source": [
    "### Named arguments"
   ]
  },
  {
   "cell_type": "markdown",
   "id": "221b727d",
   "metadata": {},
   "source": [
    "Invoking a function with many arguments can often get confusing and is prone to human errors. Python provides the option of invoking functions with named arguments for better clarity. You can also split functions with *named* arguments for better clairty. You can also split function invocation into multiple lines."
   ]
  },
  {
   "cell_type": "code",
   "execution_count": 32,
   "id": "ab038489",
   "metadata": {},
   "outputs": [],
   "source": [
    "emi1 = loan_emi(\n",
    "    amount = 1260000,\n",
    "    duration = 8*12,\n",
    "    rate = .1/12,\n",
    "    down_payment=300000\n",
    ")"
   ]
  },
  {
   "cell_type": "code",
   "execution_count": 33,
   "id": "293a3652",
   "metadata": {},
   "outputs": [
    {
     "data": {
      "text/plain": [
       "14567.19753389219"
      ]
     },
     "execution_count": 33,
     "metadata": {},
     "output_type": "execute_result"
    }
   ],
   "source": [
    "emi1"
   ]
  },
  {
   "cell_type": "code",
   "execution_count": 34,
   "id": "00ab52ac",
   "metadata": {},
   "outputs": [],
   "source": [
    "emi2 = loan_emi(amount=1260000, duration=10*12,rate=.08/12)"
   ]
  },
  {
   "cell_type": "code",
   "execution_count": 35,
   "id": "bb127f61",
   "metadata": {},
   "outputs": [
    {
     "data": {
      "text/plain": [
       "15287.276888775077"
      ]
     },
     "execution_count": 35,
     "metadata": {},
     "output_type": "execute_result"
    }
   ],
   "source": [
    "emi2"
   ]
  },
  {
   "cell_type": "markdown",
   "id": "83937996",
   "metadata": {},
   "source": [
    "### Modules and library functions"
   ]
  },
  {
   "cell_type": "markdown",
   "id": "f3c453a2",
   "metadata": {},
   "source": [
    "We can already see that the EMI for Option-1 is lower than the EMI for Option-2. However, it would be nice to round up the amount to full dollars, rather than showing digits after the decimal. To achive this, we might want to write a function that can take anumber and round it up to the next integer (e.g., 1.2 is raounded up to 2). That would be a great exercise to try out!\n",
    "\n",
    "However, since rounding number is a fairly common operation, Python provides a function for it (along with thousands of functions) as part of the [Python Standard Library](https://docs.python.org/3/library/). Function are organized into *modules* that need to be imported to use the functions they contain."
   ]
  },
  {
   "cell_type": "markdown",
   "id": "db380288",
   "metadata": {},
   "source": [
    "> **Modules :-** Modules are files containing Python code (variables, functions, classes, etc.). They provide a way of organizing the code for large Python projects into files and folders. The key benefit of using modules is *namespaces:* you must import the module to use its functions within a Python script or notebook. Namespaces provide encapsulation and avoid naming confilicts between your code and a module or across modules."
   ]
  },
  {
   "cell_type": "markdown",
   "id": "dd3676db",
   "metadata": {},
   "source": [
    "We can use the `ceil` function (short for *ceiling*) from the `math` module to round up mumbers. Let's import the module and use it to round up the number `1.2`."
   ]
  },
  {
   "cell_type": "code",
   "execution_count": 36,
   "id": "935c10ab",
   "metadata": {},
   "outputs": [],
   "source": [
    "import math"
   ]
  },
  {
   "cell_type": "code",
   "execution_count": 37,
   "id": "151c7804",
   "metadata": {},
   "outputs": [
    {
     "name": "stdout",
     "output_type": "stream",
     "text": [
      "Help on built-in function ceil in module math:\n",
      "\n",
      "ceil(x, /)\n",
      "    Return the ceiling of x as an Integral.\n",
      "    \n",
      "    This is the smallest integer >= x.\n",
      "\n"
     ]
    }
   ],
   "source": [
    "help(math.ceil)"
   ]
  },
  {
   "cell_type": "code",
   "execution_count": 38,
   "id": "bdfb121c",
   "metadata": {},
   "outputs": [
    {
     "data": {
      "text/plain": [
       "2"
      ]
     },
     "execution_count": 38,
     "metadata": {},
     "output_type": "execute_result"
    }
   ],
   "source": [
    "math.ceil(1.2)"
   ]
  },
  {
   "cell_type": "markdown",
   "id": "cf030e41",
   "metadata": {},
   "source": [
    "* Let's now use the `math.ceil()` function within the `home_loan_emi` function to round up the EMI amount."
   ]
  },
  {
   "cell_type": "markdown",
   "id": "a8eebccf",
   "metadata": {},
   "source": [
    "> Using functions to build other functions is a great way to reuse code and implement complex business logic while still keeping the code small, understandable, and manageble. Ideally, a function should do one thing and one thing only. If you find yourself writing a function that does too many things, consider spilitting it into multiple smaller, independent functions. As a rule of thumb, try to limit your functions to 10 lines of code or less. Good programmers always write short, simple, and readable functions."
   ]
  },
  {
   "cell_type": "code",
   "execution_count": 39,
   "id": "c40118f4",
   "metadata": {},
   "outputs": [],
   "source": [
    "def loan_emi(amount, duration, rate, down_payment=0):\n",
    "    loan_amount = amount - down_payment\n",
    "    emi = loan_amount * rate * ((1+rate)**duration)/(((1+rate)**duration)-1)\n",
    "    emi = math.ceil(emi)\n",
    "    return emi"
   ]
  },
  {
   "cell_type": "code",
   "execution_count": 40,
   "id": "91584486",
   "metadata": {},
   "outputs": [],
   "source": [
    "emi1 = loan_emi(1260000, 8*12, .1/12, 3e5)"
   ]
  },
  {
   "cell_type": "code",
   "execution_count": 41,
   "id": "48be6f44",
   "metadata": {},
   "outputs": [
    {
     "data": {
      "text/plain": [
       "14568"
      ]
     },
     "execution_count": 41,
     "metadata": {},
     "output_type": "execute_result"
    }
   ],
   "source": [
    "emi1"
   ]
  },
  {
   "cell_type": "code",
   "execution_count": 42,
   "id": "ae15e897",
   "metadata": {},
   "outputs": [],
   "source": [
    "emi2 = loan_emi(amount=1260000,duration=10*12,rate=.08/12,down_payment=0)"
   ]
  },
  {
   "cell_type": "code",
   "execution_count": 43,
   "id": "a577d502",
   "metadata": {},
   "outputs": [
    {
     "data": {
      "text/plain": [
       "15288"
      ]
     },
     "execution_count": 43,
     "metadata": {},
     "output_type": "execute_result"
    }
   ],
   "source": [
    "emi2"
   ]
  },
  {
   "cell_type": "markdown",
   "id": "2c53406c",
   "metadata": {},
   "source": [
    "**Let's compare the EMI's and display a message for the option with lower EMI.**"
   ]
  },
  {
   "cell_type": "code",
   "execution_count": 44,
   "id": "b6377a0b",
   "metadata": {},
   "outputs": [
    {
     "name": "stdout",
     "output_type": "stream",
     "text": [
      "Option-1 has the lower EMI : Rs.14568\n"
     ]
    }
   ],
   "source": [
    "if emi1<emi2:\n",
    "    print(\"Option-1 has the lower EMI : Rs.{}\".format(emi1))\n",
    "else:\n",
    "    print(\"Option-2 has the lower EMI : Rs.{}\".formate(emi2))"
   ]
  },
  {
   "cell_type": "markdown",
   "id": "dfade02e",
   "metadata": {},
   "source": [
    "### Reusing and improving functions"
   ]
  },
  {
   "cell_type": "markdown",
   "id": "a767cdec",
   "metadata": {},
   "source": [
    "Now we know for sure that \"Option-1\" has the lower EMI among the two options. But what's even better is that we now have a handy funcion `loan_emi()` that we can use to solve many other similar problems with just a few lines of code. Let's try it with a couple more questions."
   ]
  },
  {
   "cell_type": "markdown",
   "id": "712e5800",
   "metadata": {},
   "source": [
    "> **Question :-** Shanu is currently paying back a home loan for house he bought a few years ago. The cost of house was `$800,000`. Shanu made a down payment of `25%` of the price. He financed the remaining amount using a 6-year loan with an interest rate of `7%` per annum (compounded mothly). Shanu is now buying a car worth `$60,000`, which he is planning to finance using a 1-year loan with an interest rate of `12%` per annum. Both loans are paid back in EMI's. What is the total mothaly payment Shanu makes towards loan repayment?"
   ]
  },
  {
   "cell_type": "markdown",
   "id": "de2409a1",
   "metadata": {},
   "source": [
    "* This question is straightforward to solve, using the `loan_emi` function we've already defined."
   ]
  },
  {
   "cell_type": "code",
   "execution_count": 45,
   "id": "4d08d538",
   "metadata": {},
   "outputs": [],
   "source": [
    "cost_of_house = 800000  # in $\n",
    "home_loan_duration = 6*12 # months\n",
    "home_loan_rate = 0.07/12 # monthly\n",
    "home_down_payment = .25*800000\n",
    "\n",
    "emi_house = loan_emi(amount = cost_of_house,\n",
    "                    duration = home_loan_duration,\n",
    "                    rate = home_loan_rate,\n",
    "                    down_payment = home_down_payment)"
   ]
  },
  {
   "cell_type": "code",
   "execution_count": 46,
   "id": "cb114c19",
   "metadata": {},
   "outputs": [
    {
     "name": "stdout",
     "output_type": "stream",
     "text": [
      " House's EMI installment monthly : $ 10230\n"
     ]
    }
   ],
   "source": [
    "print(\" House's EMI installment monthly : $ {}\".format(emi_house))"
   ]
  },
  {
   "cell_type": "code",
   "execution_count": 47,
   "id": "a6cf1eb6",
   "metadata": {},
   "outputs": [
    {
     "name": "stdout",
     "output_type": "stream",
     "text": [
      "Car's EMI installment monthly : $5331\n"
     ]
    }
   ],
   "source": [
    "cost_of_car = 60000  # in $\n",
    "car_loan_duration = 1*12  # months\n",
    "car_loan_rate = .12/12  #monthly\n",
    "\n",
    "emi_car = loan_emi(amount = cost_of_car,\n",
    "                   duration = car_loan_duration,\n",
    "                   rate = car_loan_rate\n",
    "                )\n",
    "print(\"Car's EMI installment monthly : ${}\".format(emi_car))"
   ]
  },
  {
   "cell_type": "code",
   "execution_count": 48,
   "id": "98edaf12",
   "metadata": {},
   "outputs": [
    {
     "name": "stdout",
     "output_type": "stream",
     "text": [
      "Shanu makes a total monthly payment of $ 15561 towards loan repayments.\n"
     ]
    }
   ],
   "source": [
    "print(\"Shanu makes a total monthly payment of $ {} towards loan repayments.\".format(emi_house + emi_car))"
   ]
  },
  {
   "cell_type": "markdown",
   "id": "f57e627b",
   "metadata": {},
   "source": [
    "### Exceptions and `try - except`"
   ]
  },
  {
   "cell_type": "markdown",
   "id": "9803ca27",
   "metadata": {},
   "source": [
    "> **Question :-** If you borrow `$100,000` using `10-year` loan with an interest loan of `9%` per annum, what is the total amount you ended up paying as interest?"
   ]
  },
  {
   "cell_type": "markdown",
   "id": "b0e18afa",
   "metadata": {},
   "source": [
    "* One way to solve this problem is to comapare the EMIs for two loans:\n",
    "1. With the given rate of interest\n",
    "2. With a 0% rate of interest  \n",
    "\n",
    "The total interest paid is then simply the sum of monthly differences over the duration of the loan."
   ]
  },
  {
   "cell_type": "code",
   "execution_count": 49,
   "id": "08e1aac9",
   "metadata": {},
   "outputs": [
    {
     "name": "stdout",
     "output_type": "stream",
     "text": [
      "EMI with interest : $1267\n"
     ]
    }
   ],
   "source": [
    "emi_with_interest = loan_emi(amount=100000,\n",
    "                            duration=10*12,\n",
    "                             rate=.09/12\n",
    "                            )\n",
    "print(\"EMI with interest : ${}\".format(emi_with_interest))"
   ]
  },
  {
   "cell_type": "code",
   "execution_count": 50,
   "id": "c798c22d",
   "metadata": {},
   "outputs": [
    {
     "ename": "ZeroDivisionError",
     "evalue": "float division by zero",
     "output_type": "error",
     "traceback": [
      "\u001b[0;31m---------------------------------------------------------------------------\u001b[0m",
      "\u001b[0;31mZeroDivisionError\u001b[0m                         Traceback (most recent call last)",
      "\u001b[0;32m/tmp/ipykernel_209/3727310005.py\u001b[0m in \u001b[0;36m<module>\u001b[0;34m\u001b[0m\n\u001b[0;32m----> 1\u001b[0;31m emi_without_interest = loan_emi(amount = 100000,\n\u001b[0m\u001b[1;32m      2\u001b[0m                                \u001b[0mduration\u001b[0m\u001b[0;34m=\u001b[0m\u001b[0;36m10\u001b[0m\u001b[0;34m*\u001b[0m\u001b[0;36m12\u001b[0m\u001b[0;34m,\u001b[0m\u001b[0;34m\u001b[0m\u001b[0;34m\u001b[0m\u001b[0m\n\u001b[1;32m      3\u001b[0m                                rate=0.0/12)\n\u001b[1;32m      4\u001b[0m \u001b[0mprint\u001b[0m\u001b[0;34m(\u001b[0m\u001b[0;34m\"EMI without interest : ${}\"\u001b[0m\u001b[0;34m.\u001b[0m\u001b[0mformat\u001b[0m\u001b[0;34m(\u001b[0m\u001b[0memi_without_interest\u001b[0m\u001b[0;34m)\u001b[0m\u001b[0;34m)\u001b[0m\u001b[0;34m\u001b[0m\u001b[0;34m\u001b[0m\u001b[0m\n",
      "\u001b[0;32m/tmp/ipykernel_209/2460208759.py\u001b[0m in \u001b[0;36mloan_emi\u001b[0;34m(amount, duration, rate, down_payment)\u001b[0m\n\u001b[1;32m      1\u001b[0m \u001b[0;32mdef\u001b[0m \u001b[0mloan_emi\u001b[0m\u001b[0;34m(\u001b[0m\u001b[0mamount\u001b[0m\u001b[0;34m,\u001b[0m \u001b[0mduration\u001b[0m\u001b[0;34m,\u001b[0m \u001b[0mrate\u001b[0m\u001b[0;34m,\u001b[0m \u001b[0mdown_payment\u001b[0m\u001b[0;34m=\u001b[0m\u001b[0;36m0\u001b[0m\u001b[0;34m)\u001b[0m\u001b[0;34m:\u001b[0m\u001b[0;34m\u001b[0m\u001b[0;34m\u001b[0m\u001b[0m\n\u001b[1;32m      2\u001b[0m     \u001b[0mloan_amount\u001b[0m \u001b[0;34m=\u001b[0m \u001b[0mamount\u001b[0m \u001b[0;34m-\u001b[0m \u001b[0mdown_payment\u001b[0m\u001b[0;34m\u001b[0m\u001b[0;34m\u001b[0m\u001b[0m\n\u001b[0;32m----> 3\u001b[0;31m     \u001b[0memi\u001b[0m \u001b[0;34m=\u001b[0m \u001b[0mloan_amount\u001b[0m \u001b[0;34m*\u001b[0m \u001b[0mrate\u001b[0m \u001b[0;34m*\u001b[0m \u001b[0;34m(\u001b[0m\u001b[0;34m(\u001b[0m\u001b[0;36m1\u001b[0m\u001b[0;34m+\u001b[0m\u001b[0mrate\u001b[0m\u001b[0;34m)\u001b[0m\u001b[0;34m**\u001b[0m\u001b[0mduration\u001b[0m\u001b[0;34m)\u001b[0m\u001b[0;34m/\u001b[0m\u001b[0;34m(\u001b[0m\u001b[0;34m(\u001b[0m\u001b[0;34m(\u001b[0m\u001b[0;36m1\u001b[0m\u001b[0;34m+\u001b[0m\u001b[0mrate\u001b[0m\u001b[0;34m)\u001b[0m\u001b[0;34m**\u001b[0m\u001b[0mduration\u001b[0m\u001b[0;34m)\u001b[0m\u001b[0;34m-\u001b[0m\u001b[0;36m1\u001b[0m\u001b[0;34m)\u001b[0m\u001b[0;34m\u001b[0m\u001b[0;34m\u001b[0m\u001b[0m\n\u001b[0m\u001b[1;32m      4\u001b[0m     \u001b[0memi\u001b[0m \u001b[0;34m=\u001b[0m \u001b[0mmath\u001b[0m\u001b[0;34m.\u001b[0m\u001b[0mceil\u001b[0m\u001b[0;34m(\u001b[0m\u001b[0memi\u001b[0m\u001b[0;34m)\u001b[0m\u001b[0;34m\u001b[0m\u001b[0;34m\u001b[0m\u001b[0m\n\u001b[1;32m      5\u001b[0m     \u001b[0;32mreturn\u001b[0m \u001b[0memi\u001b[0m\u001b[0;34m\u001b[0m\u001b[0;34m\u001b[0m\u001b[0m\n",
      "\u001b[0;31mZeroDivisionError\u001b[0m: float division by zero"
     ]
    }
   ],
   "source": [
    "emi_without_interest = loan_emi(amount = 100000,\n",
    "                               duration=10*12,\n",
    "                               rate=0.0/12)\n",
    "print(\"EMI without interest : ${}\".format(emi_without_interest))"
   ]
  },
  {
   "cell_type": "markdown",
   "id": "6b5ce2ba",
   "metadata": {},
   "source": [
    "**Coution :-** Something seems to be wrong if you look at the error message above carefully, Python tells us precisely what is wrong. Python *throws* a `ZeroDivisionError` with a message including that we're trying to divide a number by zero. `ZeroDivisionError` is an *exception* that stops further execution of the program."
   ]
  },
  {
   "cell_type": "markdown",
   "id": "4c1efd82",
   "metadata": {},
   "source": [
    "> **Exception :-** Even if a statement or expression is  syntactically correct, it may cause an error when the Python interpreter tries to execute it. Errors detected during execution are called *exceptions*. Exceptions typically stop further execution of the program unless handled within the program using `try-exception` statements."
   ]
  },
  {
   "cell_type": "markdown",
   "id": "e6118270",
   "metadata": {},
   "source": [
    "Python provides many built-in exceptions *thrown* when built-in operators, functions or methods are used incorrectly:[See This Doc.](https://docs.python.org/3/library/exceptions.html#built-in-exceptions.) You can also define your custom exception by extending the `Exception` class (more on that later).  \n",
    "\n",
    "You can use the `try` and `except` statements to *handle* an exception.  \n",
    "**Here is An Example -**"
   ]
  },
  {
   "cell_type": "code",
   "execution_count": 51,
   "id": "082fc0fe",
   "metadata": {},
   "outputs": [
    {
     "name": "stdout",
     "output_type": "stream",
     "text": [
      "Now computing thr result..\n",
      "Failed to compute result because you were trying to divide by zero\n",
      "None\n"
     ]
    }
   ],
   "source": [
    "try:\n",
    "    print(\"Now computing thr result..\")\n",
    "    result = 5/0\n",
    "    print(\"Computing was completed successfully\")\n",
    "except ZeroDivisionError:\n",
    "    print(\"Failed to compute result because you were trying to divide by zero\")\n",
    "    result = None\n",
    "print(result)"
   ]
  },
  {
   "cell_type": "markdown",
   "id": "ec7bd98c",
   "metadata": {},
   "source": [
    "When an exception occurs inside a `try` block, the block's remaining statements  are skipped. The `except` block is executing  if the type of exception thrown matches that of the exception being handled. After executing the `except` block, the program execution returns to the normal flow.  \n",
    "\n",
    "You can also handle more than one type of exception using multiple `except` statements. Learn more about exceptions: [Click Here](https://www.w3schools.com/python/python_try_except.asp) \n",
    "\n",
    "Let's enhance the `loan_emi` function to use `try-except` to handle the scenario where the interest rate is 0%. It's common practice to make changes/enhancements to functions over time as new scenarios and use cases come up. It makes functions more robust and versatile.\n"
   ]
  },
  {
   "cell_type": "code",
   "execution_count": 52,
   "id": "c5f6d6cf",
   "metadata": {},
   "outputs": [],
   "source": [
    "import math\n",
    "\n",
    "def loan_emi(amount, duration, rate, down_payment=0):\n",
    "    loan_amount = amount - down_payment\n",
    "    try:\n",
    "        emi = loan_amount * rate * ((1+rate)**duration) / (((1+rate)**duration)-1)\n",
    "    except ZeroDivisionError:\n",
    "        emi = loan_amount / duration\n",
    "    emi = math.ceil(emi)\n",
    "    return emi"
   ]
  },
  {
   "cell_type": "markdown",
   "id": "af2186f3",
   "metadata": {},
   "source": [
    "**We can use the updated `loan_emi` function to solve our problem,**"
   ]
  },
  {
   "cell_type": "markdown",
   "id": "fef5a89b",
   "metadata": {},
   "source": [
    "> **Question :-** If you borrow `$ 100,000` using a 10-year loan with an interest rate of 9% per annum, what is the total amount you end up paying as interest?"
   ]
  },
  {
   "cell_type": "code",
   "execution_count": 53,
   "id": "048e9cb2",
   "metadata": {},
   "outputs": [
    {
     "data": {
      "text/plain": [
       "1267"
      ]
     },
     "execution_count": 53,
     "metadata": {},
     "output_type": "execute_result"
    }
   ],
   "source": [
    "emi_with_interest = loan_emi(amount=100000, duration=10*12, rate=0.09/12)\n",
    "emi_with_interest"
   ]
  },
  {
   "cell_type": "code",
   "execution_count": 54,
   "id": "abc2ae94",
   "metadata": {},
   "outputs": [
    {
     "data": {
      "text/plain": [
       "834"
      ]
     },
     "execution_count": 54,
     "metadata": {},
     "output_type": "execute_result"
    }
   ],
   "source": [
    "emi_without_interest = loan_emi(amount=100000, duration=10*12, rate=0)\n",
    "emi_without_interest"
   ]
  },
  {
   "cell_type": "code",
   "execution_count": 55,
   "id": "ef146df7",
   "metadata": {},
   "outputs": [],
   "source": [
    "total_interest = (emi_with_interest - emi_without_interest) * 10*12"
   ]
  },
  {
   "cell_type": "code",
   "execution_count": 56,
   "id": "beeda0de",
   "metadata": {},
   "outputs": [
    {
     "name": "stdout",
     "output_type": "stream",
     "text": [
      "The total interest paid is $ 51960.\n"
     ]
    }
   ],
   "source": [
    "print(\"The total interest paid is $ {}.\".format(total_interest))"
   ]
  },
  {
   "cell_type": "markdown",
   "id": "7e7cb966",
   "metadata": {},
   "source": [
    "### Documenting function using Docstrings"
   ]
  },
  {
   "cell_type": "markdown",
   "id": "6c287039",
   "metadata": {},
   "source": [
    "We can add some documentation within our function using a *docstring*. A docstring is simply a string that appears as the first statement within the function body, and is used by the `help` function. A good docstring describes what the function does, and provides some explanation about the arguments."
   ]
  },
  {
   "cell_type": "code",
   "execution_count": 57,
   "id": "9303a795",
   "metadata": {},
   "outputs": [],
   "source": [
    "def loan_emi(amount, duration, rate, down_payment=0):\n",
    "    \"\"\"Calculate the equal monthly installment (EMI) for a loan.\n",
    "    \n",
    "    Arguments:\n",
    "        amount = Total amount to be spent (Loan + Down Payment)\n",
    "        duration = Duration of the loan (in months)\n",
    "        rate = Rate of interest (monthly)\n",
    "        down_payment (Optional) = Optional initial payment (deducted from amount)\n",
    "     \"\"\"\n",
    "    \n",
    "    loan_amount = amount - down_payment\n",
    "    try:\n",
    "        emi = loan_amount * rate * ((1+rate)**duration) / (((1+rate)**duration)-1)\n",
    "    except ZeroDivisionError:\n",
    "        emi = loan_amount / duration\n",
    "    emi = math.ceil(emi)\n",
    "    return(emi)"
   ]
  },
  {
   "cell_type": "markdown",
   "id": "eeca412c",
   "metadata": {},
   "source": [
    "* In the docstring above, we've provided some additional information that the `duration` and `rate` are measured in months. You might even consider naming the arguments `duration_months` and `rate_monthly`, to avoid any confusion whatsoever. Can you think of some other ways to improve the function?"
   ]
  },
  {
   "cell_type": "code",
   "execution_count": 58,
   "id": "3b418596",
   "metadata": {},
   "outputs": [
    {
     "name": "stdout",
     "output_type": "stream",
     "text": [
      "Help on function loan_emi in module __main__:\n",
      "\n",
      "loan_emi(amount, duration, rate, down_payment=0)\n",
      "    Calculate the equal monthly installment (EMI) for a loan.\n",
      "    \n",
      "    Arguments:\n",
      "        amount = Total amount to be spent (Loan + Down Payment)\n",
      "        duration = Duration of the loan (in months)\n",
      "        rate = Rate of interest (monthly)\n",
      "        down_payment (Optional) = Optional initial payment (deducted from amount)\n",
      "\n"
     ]
    }
   ],
   "source": [
    "help(loan_emi)"
   ]
  },
  {
   "cell_type": "markdown",
   "id": "42d45910",
   "metadata": {},
   "source": [
    "### Save And Upload Your Notebook"
   ]
  },
  {
   "cell_type": "markdown",
   "id": "5dd5e662",
   "metadata": {},
   "source": [
    "**Step-1** Install The Library  \n",
    "            `!pip install jovian --upgrade --quiet`  \n",
    "**Step-2** Import The Jovian Module  \n",
    "            `import jovian`  \n",
    "**Step-3** Save your project  \n",
    "            `jovian.commit(project='Chapter-4', environment=None)`  \n",
    "**Note :-** For further updated version of notebook use `jovian.commit()` command to save."
   ]
  },
  {
   "cell_type": "markdown",
   "id": "c011d274",
   "metadata": {},
   "source": [
    "### Exercise:-"
   ]
  },
  {
   "cell_type": "markdown",
   "id": "ec2498e4",
   "metadata": {},
   "source": [
    "## Exercise - Data Analysis for Vacation Planning\n",
    "\n",
    "You're planning a vacation, and you need to decide which city you want to visit. You have shortlisted four cities and identified the return flight cost, daily hotel cost, and weekly car rental cost. While renting a car, you need to pay for entire weeks, even if you return the car sooner.\n",
    "\n",
    "\n",
    "| City | Return Flight (`$`) | Hotel per day (`$`) | Weekly Car Rental  (`$`) | \n",
    "|------|--------------------------|------------------|------------------------|\n",
    "| Paris|       200                |       20         |          200           |\n",
    "| London|      250                |       30         |          120           |\n",
    "| Dubai|       370                |       15         |          80           |\n",
    "| Mumbai|      450                |       10         |          70           |         \n",
    "\n",
    "\n",
    "Answer the following questions using the data above:\n",
    "\n",
    "1. If you're planning a 1-week long trip, which city should you visit to spend the least amount of money?\n",
    "2. How does the answer to the previous question change if you change the trip's duration to four days, ten days or two weeks?\n",
    "3. If your total budget for the trip is `$1000`, which city should you visit to maximize the duration of your trip? Which city should you visit if you want to minimize the duration?\n",
    "4. How does the answer to the previous question change if your budget is `$600`, `$2000`, or `$1500`?\n",
    "\n",
    "*Hint: To answer these questions, it will help to define a function `cost_of_trip` with relevant inputs like flight cost, hotel rate, car rental rate, and duration of the trip. You may find the `math.ceil` function useful for calculating the total cost of car rental.*"
   ]
  },
  {
   "cell_type": "markdown",
   "id": "0ee3371e",
   "metadata": {},
   "source": [
    "**Answer:-**"
   ]
  },
  {
   "cell_type": "code",
   "execution_count": 60,
   "id": "7e7f9af5",
   "metadata": {},
   "outputs": [],
   "source": [
    "# First we build a simple function with var name `Cost_of_trip` to calculate cost of trip weekly.\n",
    "import math\n",
    "def cost_of_trip(return_flight_exp, trip_duration, hotel_per_day_exp, weekly_car_rental_exp):\n",
    "    cost = return_flight_exp + trip_duration * hotel_per_day_exp + weekly_car_rental_exp\n",
    "    cost = math.ceil(cost)\n",
    "    return cost"
   ]
  },
  {
   "cell_type": "code",
   "execution_count": 61,
   "id": "753cbeb4",
   "metadata": {},
   "outputs": [
    {
     "name": "stdout",
     "output_type": "stream",
     "text": [
      "Cost of One week trip of Paris $ 540\n"
     ]
    }
   ],
   "source": [
    "# Now we calculate 1-week trip cost for Paris\n",
    "\n",
    "cost_of_trip_paris = cost_of_trip(return_flight_exp=200,\n",
    "                                  trip_duration=7,\n",
    "                                  hotel_per_day_exp=20,\n",
    "                                  weekly_car_rental_exp=200)\n",
    "print('Cost of One week trip of Paris $ {}'.format(cost_of_trip_paris))"
   ]
  },
  {
   "cell_type": "code",
   "execution_count": 62,
   "id": "09e96a08",
   "metadata": {},
   "outputs": [
    {
     "name": "stdout",
     "output_type": "stream",
     "text": [
      "Cost of One week trip of London $ 700\n"
     ]
    }
   ],
   "source": [
    "# Now we calculate 1-week trip cost for london\n",
    "\n",
    "cost_of_trip_london = cost_of_trip(return_flight_exp=370,\n",
    "                                  trip_duration=7,\n",
    "                                  hotel_per_day_exp=30,\n",
    "                                  weekly_car_rental_exp=120)\n",
    "print('Cost of One week trip of London $ {}'.format(cost_of_trip_london))"
   ]
  },
  {
   "cell_type": "code",
   "execution_count": 63,
   "id": "bdc0ab22",
   "metadata": {},
   "outputs": [
    {
     "name": "stdout",
     "output_type": "stream",
     "text": [
      "Cost of One week trip of Dubai $ 435\n"
     ]
    }
   ],
   "source": [
    "# Now we calculate 1-week trip cost for Dubai\n",
    "\n",
    "initial_cost_of_trip_dubai = cost_of_trip(return_flight_exp=250,\n",
    "                                  trip_duration=7,\n",
    "                                  hotel_per_day_exp=15,\n",
    "                                  weekly_car_rental_exp=80)\n",
    "print('Cost of One week trip of Dubai $ {}'.format(initial_cost_of_trip_dubai))"
   ]
  },
  {
   "cell_type": "code",
   "execution_count": 64,
   "id": "8c0e9b81",
   "metadata": {},
   "outputs": [
    {
     "name": "stdout",
     "output_type": "stream",
     "text": [
      "Cost of One week trip of Mumbai $ 590\n"
     ]
    }
   ],
   "source": [
    "# Now we calculate 1-week trip cost for Mumbai\n",
    "\n",
    "cost_of_trip_mumbai = cost_of_trip(return_flight_exp=450,\n",
    "                                  trip_duration=7,\n",
    "                                  hotel_per_day_exp=10,\n",
    "                                  weekly_car_rental_exp=70)\n",
    "print('Cost of One week trip of Mumbai $ {}'.format(cost_of_trip_mumbai))"
   ]
  },
  {
   "cell_type": "code",
   "execution_count": 75,
   "id": "73aa6323",
   "metadata": {},
   "outputs": [
    {
     "name": "stdout",
     "output_type": "stream",
     "text": [
      "435\n"
     ]
    }
   ],
   "source": [
    "# Now we calculate minimum cost for 1-week trip.\n",
    "\n",
    "min_cost=min(cost_of_trip_paris, cost_of_trip_london, initial_cost_of_trip_dubai, cost_of_trip_mumbai)\n",
    "print(min_cost)"
   ]
  },
  {
   "cell_type": "code",
   "execution_count": 76,
   "id": "36bf7cfd",
   "metadata": {},
   "outputs": [
    {
     "name": "stdout",
     "output_type": "stream",
     "text": [
      "The minimum cost for 1-week long trip is $ 435 in 'Dubai'\n"
     ]
    }
   ],
   "source": [
    "print(\"The minimum cost for 1-week long trip is $ {} in 'Dubai'\".format(min_cost))"
   ]
  },
  {
   "cell_type": "code",
   "execution_count": 67,
   "id": "c1b8d40d",
   "metadata": {},
   "outputs": [],
   "source": [
    "# Second we build the same function with one extra var name `extended_durtion` to calculate cost of trip.\n",
    "\n",
    "import math\n",
    "\n",
    "def cost_of_trip(return_flight_exp, trip_duration, hotel_per_day_exp, weekly_car_rental_exp, extended_durtion):\n",
    "    cost = return_flight_exp + trip_duration * hotel_per_day_exp + weekly_car_rental_exp * extended_durtion\n",
    "    cost = math.ceil(cost)\n",
    "    return cost"
   ]
  },
  {
   "cell_type": "code",
   "execution_count": 68,
   "id": "091130e4",
   "metadata": {},
   "outputs": [
    {
     "name": "stdout",
     "output_type": "stream",
     "text": [
      "Extended cost of trip of Dubai $ 575\n"
     ]
    }
   ],
   "source": [
    "# Cost of Dubai trip for `extended_durtion = four_days`.\n",
    "\n",
    "cost_of_trip_dubai = cost_of_trip(return_flight_exp=250,\n",
    "                                  trip_duration=7+4,\n",
    "                                  hotel_per_day_exp=15,\n",
    "                                  weekly_car_rental_exp=80,\n",
    "                                  extended_durtion=2)\n",
    "print('Extended cost of trip of Dubai $ {}'.format(cost_of_trip_dubai))"
   ]
  },
  {
   "cell_type": "code",
   "execution_count": 69,
   "id": "3644ef6e",
   "metadata": {},
   "outputs": [
    {
     "name": "stdout",
     "output_type": "stream",
     "text": [
      "Extended cost of trip of Dubai $ 745\n"
     ]
    }
   ],
   "source": [
    "# Cost of Dubai trip for `extended_durtion = ten_days`.\n",
    "\n",
    "cost_of_trip_dubai = cost_of_trip(return_flight_exp=250,\n",
    "                                  trip_duration=7+10,\n",
    "                                  hotel_per_day_exp=15,\n",
    "                                  weekly_car_rental_exp=80,\n",
    "                                  extended_durtion=3)\n",
    "print('Extended cost of trip of Dubai $ {}'.format(cost_of_trip_dubai))"
   ]
  },
  {
   "cell_type": "code",
   "execution_count": 70,
   "id": "f0f61028",
   "metadata": {},
   "outputs": [
    {
     "name": "stdout",
     "output_type": "stream",
     "text": [
      "Extended cost of trip of Dubai $ 805\n"
     ]
    }
   ],
   "source": [
    "# Cost of Dubai trip for `extended_durtion = two_weeks`.\n",
    "\n",
    "cost_of_trip_dubai = cost_of_trip(return_flight_exp=250,\n",
    "                                  trip_duration=7+14,\n",
    "                                  hotel_per_day_exp=15,\n",
    "                                  weekly_car_rental_exp=80,\n",
    "                                  extended_durtion=3)\n",
    "print('Extended cost of trip of Dubai $ {}'.format(cost_of_trip_dubai))"
   ]
  },
  {
   "cell_type": "code",
   "execution_count": 71,
   "id": "0e138190",
   "metadata": {},
   "outputs": [
    {
     "name": "stdout",
     "output_type": "stream",
     "text": [
      "Total trip weeks in Dubai: 2\n"
     ]
    }
   ],
   "source": [
    "# To mximize the day of trip we should vist the minimum cost of trip city i.e.: Dubai\n",
    "\n",
    "day_in_dubai = 1000  / initial_cost_of_trip_dubai\n",
    "day_in_dubai=int(day_in_dubai)\n",
    "print(\"Total trip weeks in Dubai:\",day_in_dubai)"
   ]
  },
  {
   "cell_type": "code",
   "execution_count": 72,
   "id": "7b39da8f",
   "metadata": {},
   "outputs": [
    {
     "name": "stdout",
     "output_type": "stream",
     "text": [
      "Total trip weeks in London: 1\n"
     ]
    }
   ],
   "source": [
    "# To minimize the day of trip we should vist the maximum cost of trip city i.e.: Londan\n",
    "\n",
    "day_in_london = 1000  / cost_of_trip_london\n",
    "day_in_london=int(day_in_london)\n",
    "print(\"Total trip weeks in London:\",day_in_london)"
   ]
  },
  {
   "cell_type": "code",
   "execution_count": 73,
   "id": "d8d67dec",
   "metadata": {},
   "outputs": [
    {
     "name": "stdout",
     "output_type": "stream",
     "text": [
      "Total trip weeks in Dubai: 1\n"
     ]
    }
   ],
   "source": [
    "# When buget chnges then chnge in min & max then the no. of min weeks.\n",
    "\n",
    "# Buget = $600\n",
    "\n",
    "# To mximize the day of trip we should vist the minimum cost of trip city i.e.: Dubai\n",
    "\n",
    "day_in_dubai = 600 / initial_cost_of_trip_dubai\n",
    "day_in_dubai=int(day_in_dubai)\n",
    "print(\"Total trip weeks in Dubai:\",day_in_dubai)"
   ]
  },
  {
   "cell_type": "code",
   "execution_count": 77,
   "id": "3bc794f1",
   "metadata": {},
   "outputs": [
    {
     "name": "stdout",
     "output_type": "stream",
     "text": [
      "Total trip weeks in Mumbai: 1\n"
     ]
    }
   ],
   "source": [
    "# To minimize the day of trip we should vist the maximum cost of trip city i.e.: Londan\n",
    "# But London is out of buget i.e.: $700. Therefore we vist second mximum cost of trip city i.e.: Mumbai\n",
    "\n",
    "day_in_mumbai = 600  // cost_of_trip_mumbai\n",
    "day_in_mumbai=int(day_in_mumbai)\n",
    "print(\"Total trip weeks in Mumbai:\",day_in_mumbai)"
   ]
  },
  {
   "cell_type": "code",
   "execution_count": 78,
   "id": "b88a5dde",
   "metadata": {},
   "outputs": [
    {
     "name": "stdout",
     "output_type": "stream",
     "text": [
      "Total trip weeks in Dubai: 4\n"
     ]
    }
   ],
   "source": [
    "# Buget = $2000\n",
    "\n",
    "# To mximize the day of trip we should vist the minimum cost of trip city i.e.: Dubai\n",
    "\n",
    "day_in_dubai = 2000 / initial_cost_of_trip_dubai\n",
    "day_in_dubai=int(day_in_dubai)\n",
    "print(\"Total trip weeks in Dubai:\",day_in_dubai)"
   ]
  },
  {
   "cell_type": "code",
   "execution_count": 79,
   "id": "06ce0c9e",
   "metadata": {},
   "outputs": [
    {
     "name": "stdout",
     "output_type": "stream",
     "text": [
      "Total trip weeks in Mumbai: 3\n"
     ]
    }
   ],
   "source": [
    "# To minimize the day of trip we should vist the maximum cost of trip city i.e.: Londan\n",
    "# But London is out of buget i.e.: $700. Therefore we vist second mximum cost of trip city i.e.: Mumbai\n",
    "\n",
    "day_in_mumbai = 2000  // cost_of_trip_mumbai\n",
    "day_in_mumbai=int(day_in_mumbai)\n",
    "print(\"Total trip weeks in Mumbai:\",day_in_mumbai)"
   ]
  },
  {
   "cell_type": "code",
   "execution_count": 80,
   "id": "0a9aa329",
   "metadata": {},
   "outputs": [
    {
     "name": "stdout",
     "output_type": "stream",
     "text": [
      "Total trip weeks in Dubai: 3\n"
     ]
    }
   ],
   "source": [
    "# Buget = $1500\n",
    "\n",
    "# To mximize the day of trip we should vist the minimum cost of trip city i.e.: Dubai\n",
    "\n",
    "day_in_dubai = 1500 / initial_cost_of_trip_dubai\n",
    "day_in_dubai=int(day_in_dubai)\n",
    "print(\"Total trip weeks in Dubai:\",day_in_dubai)"
   ]
  },
  {
   "cell_type": "code",
   "execution_count": 82,
   "id": "3b5a8d49",
   "metadata": {},
   "outputs": [
    {
     "name": "stdout",
     "output_type": "stream",
     "text": [
      "Total trip weeks in Mumbai: 2\n"
     ]
    }
   ],
   "source": [
    "# To minimize the day of trip we should vist the maximum cost of trip city i.e.: Londan\n",
    "# But London is out of buget i.e.: $700. Therefore we vist second mximum cost of trip city i.e.: Mumbai\n",
    "\n",
    "day_in_mumbai = 1500  // cost_of_trip_mumbai\n",
    "day_in_mumbai=int(day_in_mumbai)\n",
    "print(\"Total trip weeks in Mumbai:\",day_in_mumbai)"
   ]
  },
  {
   "cell_type": "markdown",
   "id": "7f113715",
   "metadata": {},
   "source": [
    "  ### OR"
   ]
  },
  {
   "cell_type": "code",
   "execution_count": 93,
   "id": "f9d19bc6",
   "metadata": {},
   "outputs": [],
   "source": [
    "# We import important packges\n",
    "import math"
   ]
  },
  {
   "cell_type": "code",
   "execution_count": 103,
   "id": "88108f19",
   "metadata": {},
   "outputs": [],
   "source": [
    "# First we define our data\n",
    "\n",
    "Paris = [200,20,200,'Paris']\n",
    "London = [250,30,120,'London']\n",
    "Dubai = [370,15,80,'Dubai']\n",
    "Mumbai = [450,10,70,'Mumbai']\n",
    "Cities = [Paris,London,Dubai,Mumbai]"
   ]
  },
  {
   "cell_type": "code",
   "execution_count": 104,
   "id": "6bf6311e",
   "metadata": {},
   "outputs": [],
   "source": [
    "# Definig the first function to calculate `cost_of_trip`\n",
    "\n",
    "def cost_of_trip(return_flight_cost, hotel_cost, car_rent_cost, num_of_days=0):\n",
    "    cost = return_flight_cost + (hotel_cost * num_of_days) + (car_rent_cost * math.ceil(num_of_days/7))\n",
    "    return cost"
   ]
  },
  {
   "cell_type": "code",
   "execution_count": 115,
   "id": "2271bf16",
   "metadata": {},
   "outputs": [],
   "source": [
    "# Defining the second function to calculate `days_to_visit`\n",
    "\n",
    "def days_to_visit(days):\n",
    "    costs = []\n",
    "    for city in Cities:\n",
    "        cost = cost_of_trip(city[0],city[1],city[2],days)\n",
    "        costs.append((cost,city[3]))\n",
    "    min_cost = min(costs)\n",
    "    return min_cost"
   ]
  },
  {
   "cell_type": "markdown",
   "id": "8639fdb6",
   "metadata": {},
   "source": [
    "> **1. If you are planning a 1-week long trip, which city should you visit to spend the minimum amount of money?**"
   ]
  },
  {
   "cell_type": "code",
   "execution_count": 116,
   "id": "07b42b00",
   "metadata": {},
   "outputs": [
    {
     "data": {
      "text/plain": [
       "(540, 'Paris')"
      ]
     },
     "execution_count": 116,
     "metadata": {},
     "output_type": "execute_result"
    }
   ],
   "source": [
    "days_to_visit(7)"
   ]
  },
  {
   "cell_type": "markdown",
   "id": "0a7b6918",
   "metadata": {},
   "source": [
    "> **2. How does the answer to the previous question change if you change the trip's duration to 4,10,14 days?**"
   ]
  },
  {
   "cell_type": "code",
   "execution_count": 117,
   "id": "04986bf7",
   "metadata": {},
   "outputs": [
    {
     "data": {
      "text/plain": [
       "(480, 'Paris')"
      ]
     },
     "execution_count": 117,
     "metadata": {},
     "output_type": "execute_result"
    }
   ],
   "source": [
    "days_to_visit(4)"
   ]
  },
  {
   "cell_type": "code",
   "execution_count": 118,
   "id": "2e9d7e58",
   "metadata": {},
   "outputs": [
    {
     "data": {
      "text/plain": [
       "(680, 'Dubai')"
      ]
     },
     "execution_count": 118,
     "metadata": {},
     "output_type": "execute_result"
    }
   ],
   "source": [
    "days_to_visit(10)"
   ]
  },
  {
   "cell_type": "code",
   "execution_count": 119,
   "id": "e2ad645b",
   "metadata": {},
   "outputs": [
    {
     "data": {
      "text/plain": [
       "(730, 'Mumbai')"
      ]
     },
     "execution_count": 119,
     "metadata": {},
     "output_type": "execute_result"
    }
   ],
   "source": [
    "days_to_visit(14)"
   ]
  },
  {
   "cell_type": "markdown",
   "id": "8dcca7c7",
   "metadata": {},
   "source": [
    "> **3. If your total budget for the trip is $600, which city should you visit to maximize the duration of trip? Which city should you should visit if you want to minimize the duration?**"
   ]
  },
  {
   "cell_type": "code",
   "execution_count": 125,
   "id": "aaffca98",
   "metadata": {},
   "outputs": [],
   "source": [
    "# Definig the third function to maximize the number of days in limited amount trip\n",
    "\n",
    "def given_budget(budget, less_days = False):\n",
    "    days = 1\n",
    "    cost = 0\n",
    "    while cost < budget :\n",
    "        # copy of city cost\n",
    "        cost_before = cost\n",
    "        try:\n",
    "            #copy of costs dictionary, if exists\n",
    "            costs_before = costs.copy()\n",
    "        except:\n",
    "            # if costs dictionary doesn't exists, create an empty dictionary\n",
    "            costs_before = {}\n",
    "        costs = {}\n",
    "        for city in Cities:\n",
    "            cost = cost_of_trip(city[0],city[1],city[2],days)\n",
    "            costs[cost] = city[3]\n",
    "        if less_days:\n",
    "            cost = max(list(costs.keys()))\n",
    "            '''The while loop breaks only after cost>600 condition is met.\n",
    "            when the condition is met, the costs dictionary updates to values that are greater than 600\n",
    "            so we check if it is exceeding, if it does, we return the values from the previous dictionary cost_before. '''   \n",
    "            if cost>=budget:\n",
    "                       return costs_before[cost_before], days-1\n",
    "        else:\n",
    "            cost =min(list(costs.keys()))\n",
    "            if cost>=budget:\n",
    "                       return costs_before[cost_before],days-1\n",
    "        days+=1"
   ]
  },
  {
   "cell_type": "code",
   "execution_count": 123,
   "id": "f3203117",
   "metadata": {},
   "outputs": [
    {
     "data": {
      "text/plain": [
       "('Paris', 7)"
      ]
     },
     "execution_count": 123,
     "metadata": {},
     "output_type": "execute_result"
    }
   ],
   "source": [
    "city_to_stay_maximum_days = given_budget(600)\n",
    "city_to_stay_maximum_days"
   ]
  },
  {
   "cell_type": "code",
   "execution_count": 126,
   "id": "228e5d8e",
   "metadata": {},
   "outputs": [
    {
     "data": {
      "text/plain": [
       "('Mumbai', 7)"
      ]
     },
     "execution_count": 126,
     "metadata": {},
     "output_type": "execute_result"
    }
   ],
   "source": [
    "city_to_stay_minimum_days=given_budget(600,less_days=True)\n",
    "city_to_stay_minimum_days"
   ]
  },
  {
   "cell_type": "markdown",
   "id": "8fdebf14",
   "metadata": {},
   "source": [
    "> **4. How does the answer to the previous questions question changes if your budget is $1000, $2000, $1500?**"
   ]
  },
  {
   "cell_type": "code",
   "execution_count": 128,
   "id": "ab7d5b37",
   "metadata": {},
   "outputs": [
    {
     "data": {
      "text/plain": [
       "('Mumbai', 26)"
      ]
     },
     "execution_count": 128,
     "metadata": {},
     "output_type": "execute_result"
    }
   ],
   "source": [
    "# Budget = $1000\n",
    "\n",
    "city_to_stay_maximum_days = given_budget(1000)\n",
    "city_to_stay_maximum_days"
   ]
  },
  {
   "cell_type": "code",
   "execution_count": 130,
   "id": "7617d166",
   "metadata": {},
   "outputs": [
    {
     "data": {
      "text/plain": [
       "('Mumbai', 26)"
      ]
     },
     "execution_count": 130,
     "metadata": {},
     "output_type": "execute_result"
    }
   ],
   "source": [
    "city_to_stay_minimum_days = given_budget(1000)\n",
    "city_to_stay_minimum_days"
   ]
  },
  {
   "cell_type": "code",
   "execution_count": 131,
   "id": "630ac1ce",
   "metadata": {},
   "outputs": [
    {
     "data": {
      "text/plain": [
       "('Mumbai', 77)"
      ]
     },
     "execution_count": 131,
     "metadata": {},
     "output_type": "execute_result"
    }
   ],
   "source": [
    "# Budget = $2000\n",
    "\n",
    "city_to_stay_maximum_days = given_budget(2000)\n",
    "city_to_stay_maximum_days"
   ]
  },
  {
   "cell_type": "code",
   "execution_count": 132,
   "id": "ec01c339",
   "metadata": {},
   "outputs": [
    {
     "data": {
      "text/plain": [
       "('Mumbai', 77)"
      ]
     },
     "execution_count": 132,
     "metadata": {},
     "output_type": "execute_result"
    }
   ],
   "source": [
    "city_to_stay_minimum_days = given_budget(2000)\n",
    "city_to_stay_minimum_days"
   ]
  },
  {
   "cell_type": "code",
   "execution_count": 133,
   "id": "09938bf1",
   "metadata": {},
   "outputs": [
    {
     "data": {
      "text/plain": [
       "('Mumbai', 49)"
      ]
     },
     "execution_count": 133,
     "metadata": {},
     "output_type": "execute_result"
    }
   ],
   "source": [
    "# Budget = $1500\n",
    "\n",
    "city_to_stay_maximum_days = given_budget(1500)\n",
    "city_to_stay_maximum_days"
   ]
  },
  {
   "cell_type": "code",
   "execution_count": 134,
   "id": "d25074a2",
   "metadata": {},
   "outputs": [
    {
     "data": {
      "text/plain": [
       "('Mumbai', 49)"
      ]
     },
     "execution_count": 134,
     "metadata": {},
     "output_type": "execute_result"
    }
   ],
   "source": [
    "city_to_stay_minimum_days = given_budget(1500)\n",
    "city_to_stay_minimum_days"
   ]
  },
  {
   "cell_type": "markdown",
   "id": "9a28e137",
   "metadata": {},
   "source": [
    "## Summary and Further Reading\n",
    "\n",
    "With this, we complete our discussion of functions in Python. We've covered the following topics in this tutorial:\n",
    "\n",
    "* Creating and using functions\n",
    "* Functions with one or more arguments\n",
    "* Local variables and scope\n",
    "* Returning values using `return`\n",
    "* Using default arguments to make a function flexible\n",
    "* Using named arguments while invoking a function\n",
    "* Importing modules and using library functions\n",
    "* Reusing and improving functions to handle new use cases\n",
    "* Handling exceptions with `try`-`except`\n",
    "* Documenting functions using docstrings\n",
    "\n",
    "This tutorial on functions in Python is by no means exhaustive. Here are a few more topics to learn about:\n",
    "\n",
    "* Functions with an arbitrary number of arguments using (`*args` and `**kwargs`)\n",
    "* Defining functions inside functions (and closures)\n",
    "* A function that invokes itself (recursion)\n",
    "* Functions that accept other functions as arguments or return other functions\n",
    "* Functions that enhance other functions (decorators)\n",
    "\n",
    "Following are some resources to learn about more functions in Python:\n",
    "\n",
    "* Python Tutorial at W3Schools: https://www.w3schools.com/python/\n",
    "* Practical Python Programming: https://dabeaz-course.github.io/practical-python/Notes/Contents.html\n",
    "* Python official documentation: https://docs.python.org/3/tutorial/index.html\n",
    "\n",
    "You are ready to move on to the next tutorial: [\"Reading from and writing to files using Python\"](https://jovian.ml/aakashns/python-os-and-filesystem)."
   ]
  },
  {
   "cell_type": "markdown",
   "id": "1ad40e00",
   "metadata": {},
   "source": [
    "## Questions for Revision\n",
    "\n",
    "Try answering the following questions to test your understanding of the topics covered in this notebook:\n",
    "\n",
    "1. What is a function?\n",
    "2. What are the benefits of using functions?\n",
    "3. What are some built-in functions in Python?\n",
    "4. How do you define a function in Python? Give an example.\n",
    "5. What is the body of a function?\n",
    "6. When are the statements in the body of a function executed?\n",
    "7. What is meant by calling or invoking a function? Give an example.\n",
    "8. What are function arguments? How are they useful?\n",
    "9. How do you store the result of a function in a variable?\n",
    "10. What is the purpose of the `return` keyword in Python?\n",
    "11. Can you return multiple values from a function?\n",
    "12. Can a `return` statement be used inside an `if` block or a `for` loop?\n",
    "13. Can the `return` keyword be used outside a function?\n",
    "14. What is scope in a programming region? \n",
    "15. How do you define a variable inside a function?\n",
    "16. What are local & global variables?\n",
    "17. Can you access the variables defined inside a function outside its body? Why or why not?\n",
    "18. What do you mean by the statement \"a function defines a scope within Python\"?\n",
    "19. Do for and while loops define a scope, like functions?\n",
    "20. Do if-else blocks define a scope, like functions?\n",
    "21. What are optional function arguments & default values? Give an example.\n",
    "22. Why should the required arguments appear before the optional arguments in a function definition?\n",
    "23. How do you invoke a function with named arguments? Illustrate with an example.\n",
    "24. Can you split a function invocation into multiple lines?\n",
    "25. Write a function that takes a number and rounds it up to the nearest integer.\n",
    "26. What are modules in Python?\n",
    "27. What is a Python library?\n",
    "28. What is the Python Standard Library?\n",
    "29. Where can you learn about the modules and functions available in the Python standard library?\n",
    "30. How do you install a third-party library?\n",
    "31. What is a module namespace? How is it useful?\n",
    "32. What problems would you run into if Python modules did not provide namespaces?\n",
    "33. How do you import a module?\n",
    "34. How do you use a function from an imported module? Illustrate with an example.\n",
    "35. Can you invoke a function inside the body of another function? Give an example.\n",
    "36. What is the single responsibility principle, and how does it apply while writing functions?\n",
    "37. What some characteristics of well-written functions?\n",
    "38. Can you use if statements or while loops within a function? Illustrate with an example.\n",
    "39. What are exceptions in Python? When do they occur?\n",
    "40. How are exceptions different from syntax errors?\n",
    "41. What are the different types of in-built exceptions in Python? Where can you learn about them?\n",
    "42. How do you prevent the termination of a program due to an exception?\n",
    "43. What is the purpose of the `try`-`except` statements in Python?\n",
    "44. What is the syntax of the `try`-`except` statements? Give an example.\n",
    "45. What happens if an exception occurs inside a `try` block?\n",
    "46. How do you handle two different types of exceptions using `except`? Can you have multiple `except` blocks under a single `try` block?\n",
    "47. How do you create an `except` block to handle any type of exception?\n",
    "48. Illustrate the usage of `try`-`except` inside a function with an example.\n",
    "49. What is a docstring? Why is it useful?\n",
    "50. How do you display the docstring for a function?\n",
    "51. What are *args and **kwargs? How are they useful? Give an example.\n",
    "52. Can you define functions inside functions? \n",
    "53. What is function closure in Python? How is it useful? Give an example.\n",
    "54. What is recursion? Illustrate with an example.\n",
    "55. Can functions accept other functions as arguments? Illustrate with an example.\n",
    "56. Can functions return other functions as results? Illustrate with an example.\n",
    "57. What are decorators? How are they useful?\n",
    "58. Implement a function decorator which prints the arguments and result of wrapped functions.\n",
    "59. What are some in-built decorators in Python?\n",
    "60. What are some popular Python libraries?"
   ]
  },
  {
   "cell_type": "code",
   "execution_count": null,
   "id": "1db817ad",
   "metadata": {},
   "outputs": [],
   "source": []
  }
 ],
 "metadata": {
  "kernelspec": {
   "display_name": "Python 3 (ipykernel)",
   "language": "python",
   "name": "python3"
  },
  "language_info": {
   "codemirror_mode": {
    "name": "ipython",
    "version": 3
   },
   "file_extension": ".py",
   "mimetype": "text/x-python",
   "name": "python",
   "nbconvert_exporter": "python",
   "pygments_lexer": "ipython3",
   "version": "3.9.12"
  }
 },
 "nbformat": 4,
 "nbformat_minor": 5
}
