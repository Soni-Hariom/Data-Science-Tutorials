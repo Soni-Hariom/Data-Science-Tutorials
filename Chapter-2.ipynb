{
 "cells": [
  {
   "cell_type": "markdown",
   "id": "5313ea99",
   "metadata": {},
   "source": [
    "# Variables and Data Type in Python"
   ]
  },
  {
   "cell_type": "markdown",
   "id": "2a383adb",
   "metadata": {},
   "source": [
    "> Content:"
   ]
  },
  {
   "cell_type": "markdown",
   "id": "0b576d88",
   "metadata": {},
   "source": [
    "* Storing information using variables\n",
    "* Primitive data types in Python: Integer, Float, Boolean, None and String\n",
    "* Built-in data structures in Python: List, Tuple, and Dictionary\n",
    "* Methods and operators supported by built-in data types"
   ]
  },
  {
   "cell_type": "markdown",
   "id": "8b2c364b",
   "metadata": {},
   "source": [
    "## A Quick Tour Of Variables And Data Types in Python"
   ]
  },
  {
   "cell_type": "markdown",
   "id": "7360f5b5",
   "metadata": {},
   "source": [
    "![](https://i.imgur.com/6cg2E9Q.png)"
   ]
  },
  {
   "cell_type": "markdown",
   "id": "bce36c5f",
   "metadata": {},
   "source": [
    "## 1. Storing Information Using Variables"
   ]
  },
  {
   "cell_type": "markdown",
   "id": "a9f1129c",
   "metadata": {},
   "source": [
    "Computers are useful for two purposes:  \n",
    "1. Storing data\n",
    "2. Performing operations on stored data  \n",
    "While working with a programming language such as Python, data is stored in variables. You can think of variables are containers for storing data. The data stored within a variable is called *Value*. Creating variables in Python is pretty easy, as we've already seen in [chapter-1](https://hub.binder.jovian.ai/user/sonihariom555/api-git-fdc2a01-1986d626ced9_17-c38tdfvc/notebooks/Chapter-1.ipynb#)."
   ]
  },
  {
   "cell_type": "markdown",
   "id": "71fff432",
   "metadata": {},
   "source": [
    "**Creating Variables:-** A variable is creating using an assignment statement. It begins with the variable's name, followed by the assignment operator `=` followed by the value to be stored within the variable.  \n",
    "  \n",
    "*Example:-* `my_favorite_color = \"yellow\"`\n",
    "  \n",
    "**Note:-** The assignment operator `=` is different from the *Equality comparison Operator `==`*."
   ]
  },
  {
   "cell_type": "markdown",
   "id": "f3f127fa",
   "metadata": {},
   "source": [
    "*Example:- `my_favorite_color == \"yellow\"`*( It checks whether it's yellow or not the `Output` is either `True` or `False` only)"
   ]
  },
  {
   "cell_type": "markdown",
   "id": "46e5f103",
   "metadata": {},
   "source": [
    "* You can also assign value to multiple variables in a single statement by separating the variable names and values with commas."
   ]
  },
  {
   "cell_type": "code",
   "execution_count": 4,
   "id": "ef169ad8",
   "metadata": {},
   "outputs": [],
   "source": [
    "Color1, Color2, Color3 = \"Red\", \"Green\", \"White\""
   ]
  },
  {
   "cell_type": "code",
   "execution_count": 5,
   "id": "e51b8464",
   "metadata": {},
   "outputs": [
    {
     "data": {
      "text/plain": [
       "'White'"
      ]
     },
     "execution_count": 5,
     "metadata": {},
     "output_type": "execute_result"
    }
   ],
   "source": [
    "Color3"
   ]
  },
  {
   "cell_type": "code",
   "execution_count": 6,
   "id": "7fc79b43",
   "metadata": {},
   "outputs": [
    {
     "name": "stdout",
     "output_type": "stream",
     "text": [
      "Green\n"
     ]
    }
   ],
   "source": [
    "print(Color2)"
   ]
  },
  {
   "cell_type": "code",
   "execution_count": 7,
   "id": "da73b3a9",
   "metadata": {},
   "outputs": [
    {
     "name": "stdout",
     "output_type": "stream",
     "text": [
      "Color1\n"
     ]
    }
   ],
   "source": [
    "print(\"Color1\")"
   ]
  },
  {
   "cell_type": "markdown",
   "id": "3a3187b7",
   "metadata": {},
   "source": [
    "* Note that the difference between `print(Color2)` and `print(\"Color2\")`"
   ]
  },
  {
   "cell_type": "code",
   "execution_count": 8,
   "id": "8dfddd04",
   "metadata": {},
   "outputs": [
    {
     "name": "stdout",
     "output_type": "stream",
     "text": [
      "Red\n"
     ]
    }
   ],
   "source": [
    "print(Color1)"
   ]
  },
  {
   "cell_type": "markdown",
   "id": "a8ed5c1c",
   "metadata": {},
   "source": [
    "* You can assign the same value to multiple variables by adding multiple assignment operations within a single statement.\n",
    "* Notice the different experiments with `print` and `normal`outputs"
   ]
  },
  {
   "cell_type": "code",
   "execution_count": 9,
   "id": "544d44d9",
   "metadata": {},
   "outputs": [],
   "source": [
    "C1=C2=C3=C4=C5= \"Megenta\""
   ]
  },
  {
   "cell_type": "code",
   "execution_count": 10,
   "id": "8925125d",
   "metadata": {},
   "outputs": [
    {
     "data": {
      "text/plain": [
       "'Megenta'"
      ]
     },
     "execution_count": 10,
     "metadata": {},
     "output_type": "execute_result"
    }
   ],
   "source": [
    "C1"
   ]
  },
  {
   "cell_type": "code",
   "execution_count": 11,
   "id": "476ec758",
   "metadata": {},
   "outputs": [
    {
     "name": "stdout",
     "output_type": "stream",
     "text": [
      "Megenta\n"
     ]
    }
   ],
   "source": [
    "print(C2)"
   ]
  },
  {
   "cell_type": "code",
   "execution_count": 12,
   "id": "55a72364",
   "metadata": {},
   "outputs": [
    {
     "name": "stdout",
     "output_type": "stream",
     "text": [
      "Megenta Megenta Megenta\n"
     ]
    }
   ],
   "source": [
    "print(C3,C4,C5)"
   ]
  },
  {
   "cell_type": "code",
   "execution_count": 13,
   "id": "2054c32e",
   "metadata": {},
   "outputs": [
    {
     "data": {
      "text/plain": [
       "('Megenta', 'Megenta', 'Megenta')"
      ]
     },
     "execution_count": 13,
     "metadata": {},
     "output_type": "execute_result"
    }
   ],
   "source": [
    "C3,C4,C5"
   ]
  },
  {
   "cell_type": "markdown",
   "id": "6002425c",
   "metadata": {},
   "source": [
    "* You can change the value stored within a variable by assigning a new value to it using another assignment statement. Be careful while reassigning variables: When you assign a new value to the variable, the old value is lost and no longer accessible."
   ]
  },
  {
   "cell_type": "code",
   "execution_count": 14,
   "id": "3c12cc3e",
   "metadata": {},
   "outputs": [],
   "source": [
    "new_color= 'Pink'"
   ]
  },
  {
   "cell_type": "code",
   "execution_count": 15,
   "id": "b143cde8",
   "metadata": {},
   "outputs": [
    {
     "data": {
      "text/plain": [
       "'Pink'"
      ]
     },
     "execution_count": 15,
     "metadata": {},
     "output_type": "execute_result"
    }
   ],
   "source": [
    "new_color"
   ]
  },
  {
   "cell_type": "code",
   "execution_count": 16,
   "id": "ef9285cf",
   "metadata": {},
   "outputs": [],
   "source": [
    "new_color=\"Voilet\""
   ]
  },
  {
   "cell_type": "code",
   "execution_count": 17,
   "id": "110f548c",
   "metadata": {},
   "outputs": [
    {
     "name": "stdout",
     "output_type": "stream",
     "text": [
      "Voilet\n"
     ]
    }
   ],
   "source": [
    "print(new_color)"
   ]
  },
  {
   "cell_type": "markdown",
   "id": "4443f57b",
   "metadata": {},
   "source": [
    "* While reassigning a variable, you can also use the variable's previous value to compute the new value."
   ]
  },
  {
   "cell_type": "code",
   "execution_count": 18,
   "id": "20627c09",
   "metadata": {},
   "outputs": [],
   "source": [
    "count_num=19"
   ]
  },
  {
   "cell_type": "code",
   "execution_count": 19,
   "id": "0323a879",
   "metadata": {},
   "outputs": [
    {
     "data": {
      "text/plain": [
       "19"
      ]
     },
     "execution_count": 19,
     "metadata": {},
     "output_type": "execute_result"
    }
   ],
   "source": [
    "count_num"
   ]
  },
  {
   "cell_type": "code",
   "execution_count": 20,
   "id": "4c350038",
   "metadata": {},
   "outputs": [],
   "source": [
    "count_num=count_num+1"
   ]
  },
  {
   "cell_type": "code",
   "execution_count": 21,
   "id": "e80220f1",
   "metadata": {},
   "outputs": [
    {
     "name": "stdout",
     "output_type": "stream",
     "text": [
      "20\n"
     ]
    }
   ],
   "source": [
    "print(count_num)"
   ]
  },
  {
   "cell_type": "markdown",
   "id": "16b22531",
   "metadata": {},
   "source": [
    "**Shorthand Syntax:-**\n",
    "The pattern `var = var O something` (Where O = Operations = +,-,*,/) is very common. So Python provides a short form syntax called `shorthand syntax`"
   ]
  },
  {
   "cell_type": "code",
   "execution_count": 22,
   "id": "012c051b",
   "metadata": {},
   "outputs": [
    {
     "data": {
      "text/plain": [
       "20"
      ]
     },
     "execution_count": 22,
     "metadata": {},
     "output_type": "execute_result"
    }
   ],
   "source": [
    "count_num"
   ]
  },
  {
   "cell_type": "code",
   "execution_count": 23,
   "id": "2be020d6",
   "metadata": {},
   "outputs": [],
   "source": [
    "count_num=105"
   ]
  },
  {
   "cell_type": "code",
   "execution_count": 24,
   "id": "54ce222b",
   "metadata": {},
   "outputs": [
    {
     "name": "stdout",
     "output_type": "stream",
     "text": [
      "105\n"
     ]
    }
   ],
   "source": [
    "print(count_num)"
   ]
  },
  {
   "cell_type": "code",
   "execution_count": 25,
   "id": "7f46e121",
   "metadata": {},
   "outputs": [],
   "source": [
    "# same as `count_num= count_num - 5`\n",
    "count_num -=5"
   ]
  },
  {
   "cell_type": "code",
   "execution_count": 26,
   "id": "7ec8502e",
   "metadata": {},
   "outputs": [
    {
     "data": {
      "text/plain": [
       "100"
      ]
     },
     "execution_count": 26,
     "metadata": {},
     "output_type": "execute_result"
    }
   ],
   "source": [
    "count_num"
   ]
  },
  {
   "cell_type": "code",
   "execution_count": 27,
   "id": "55af8165",
   "metadata": {},
   "outputs": [
    {
     "data": {
      "text/plain": [
       "200"
      ]
     },
     "execution_count": 27,
     "metadata": {},
     "output_type": "execute_result"
    }
   ],
   "source": [
    "# value of count_num=100 + 100 = 200 \n",
    "count_num += 100\n",
    "count_num"
   ]
  },
  {
   "cell_type": "code",
   "execution_count": 28,
   "id": "f2a514ca",
   "metadata": {},
   "outputs": [
    {
     "data": {
      "text/plain": [
       "2000"
      ]
     },
     "execution_count": 28,
     "metadata": {},
     "output_type": "execute_result"
    }
   ],
   "source": [
    "# value of count_num = 200*10 = 2000\n",
    "count_num *= 10\n",
    "count_num"
   ]
  },
  {
   "cell_type": "code",
   "execution_count": 29,
   "id": "10294619",
   "metadata": {},
   "outputs": [
    {
     "data": {
      "text/plain": [
       "10.0"
      ]
     },
     "execution_count": 29,
     "metadata": {},
     "output_type": "execute_result"
    }
   ],
   "source": [
    "# value of count_num =2000/200 = 10\n",
    "count_num /=200\n",
    "count_num"
   ]
  },
  {
   "cell_type": "code",
   "execution_count": 30,
   "id": "ccc84bc8",
   "metadata": {},
   "outputs": [
    {
     "data": {
      "text/plain": [
       "100.0"
      ]
     },
     "execution_count": 30,
     "metadata": {},
     "output_type": "execute_result"
    }
   ],
   "source": [
    "# value of count_num = 10^2 = 100\n",
    "count_num **=2\n",
    "count_num"
   ]
  },
  {
   "cell_type": "code",
   "execution_count": 31,
   "id": "7febfe69",
   "metadata": {},
   "outputs": [
    {
     "data": {
      "text/plain": [
       "33.0"
      ]
     },
     "execution_count": 31,
     "metadata": {},
     "output_type": "execute_result"
    }
   ],
   "source": [
    "# value of count_num = 100//3 =33\n",
    "count_num //= 3\n",
    "count_num"
   ]
  },
  {
   "cell_type": "code",
   "execution_count": 33,
   "id": "53373b14",
   "metadata": {},
   "outputs": [
    {
     "ename": "SyntaxError",
     "evalue": "invalid syntax (3839510572.py, line 2)",
     "output_type": "error",
     "traceback": [
      "\u001b[0;36m  File \u001b[0;32m\"/tmp/ipykernel_101/3839510572.py\"\u001b[0;36m, line \u001b[0;32m2\u001b[0m\n\u001b[0;31m    count_num ++= 2\u001b[0m\n\u001b[0m               ^\u001b[0m\n\u001b[0;31mSyntaxError\u001b[0m\u001b[0;31m:\u001b[0m invalid syntax\n"
     ]
    }
   ],
   "source": [
    "# value error ++,--,==,+- etc.\n",
    "count_num ++= 2\n",
    "count_num"
   ]
  },
  {
   "cell_type": "markdown",
   "id": "5519b79b",
   "metadata": {},
   "source": [
    "**types Of Variables:-**\n",
    "There two types of variables\n",
    "1. **Short types:-** `a,b,x,y,z,i,j`,etc...  \n",
    "2. **Descriptive Type;-** `count_num, profit_margin, num, color`, etc...  "
   ]
  },
  {
   "cell_type": "markdown",
   "id": "df42c8fa",
   "metadata": {},
   "source": [
    "**Rules For Defining A Variable:-** The following rule must follow to naming Python variable:\n",
    "* A variable's name must start with a letter or the underscore character `_`. It cannot begin with a number.\n",
    "* A variable name can only contain lowercase (small-`a-z`) or uppercase (capital- `A-Z`) letters, digits(`0-9`), or underscores(`_`).\n",
    "* Variable names are case-sensitive, ie. `a_variable`, `A_Variable` and `A_VARIABLE` are all different variables.\n"
   ]
  },
  {
   "cell_type": "markdown",
   "id": "30c504f4",
   "metadata": {},
   "source": [
    "**Some valid variables:-**"
   ]
  },
  {
   "cell_type": "code",
   "execution_count": 34,
   "id": "38e8ce05",
   "metadata": {},
   "outputs": [],
   "source": [
    "a_variable=123458\n",
    "Is_Today_Saturday = False\n",
    "my_fav_place= \"Home\"\n",
    "The_3_Idiots=\"H,I,J\"\n",
    "The_3_musketeers= [\"Athos\",\"Prothos\",\"Aramis\"]\n",
    "acer='A laptop brand'\n",
    "pi=3.14"
   ]
  },
  {
   "cell_type": "markdown",
   "id": "e573575e",
   "metadata": {},
   "source": [
    "**Some invalid variables:-**"
   ]
  },
  {
   "cell_type": "code",
   "execution_count": 35,
   "id": "294f4e6a",
   "metadata": {},
   "outputs": [
    {
     "ename": "SyntaxError",
     "evalue": "invalid syntax (1292570214.py, line 1)",
     "output_type": "error",
     "traceback": [
      "\u001b[0;36m  File \u001b[0;32m\"/tmp/ipykernel_101/1292570214.py\"\u001b[0;36m, line \u001b[0;32m1\u001b[0m\n\u001b[0;31m    99acer= \"A website\"\u001b[0m\n\u001b[0m      ^\u001b[0m\n\u001b[0;31mSyntaxError\u001b[0m\u001b[0;31m:\u001b[0m invalid syntax\n"
     ]
    }
   ],
   "source": [
    "99acer= \"A website\"\n",
    "3_musketeers= [\"Athos\",\"Prothos\",\"Aramis\"]\n",
    "A Variable =23\n",
    "ny-name= 'Hariom'\n",
    "@youtube= \"chennel\"\n",
    "is_today_$unday= True"
   ]
  },
  {
   "cell_type": "markdown",
   "id": "10d9add3",
   "metadata": {},
   "source": [
    "* Here Python prints a syntax error due to invalid variables name.\n",
    "> **Syntax:-** The syntax of a programming language refer to the rules that govern the structure of a valid instruction or *statement*. If a statement does not follow these rules, Python stops execution and informs you that there is a *syntax error*. You can think of syntax as the rules of grammar for a programming language."
   ]
  },
  {
   "cell_type": "markdown",
   "id": "6ae12b4d",
   "metadata": {},
   "source": [
    "![](https://wpclipart.com/computer/laptop/laptop_2/laptop_error.png)"
   ]
  },
  {
   "cell_type": "markdown",
   "id": "8debac83",
   "metadata": {},
   "source": [
    "## 2. Built-in Data Types In Python"
   ]
  },
  {
   "cell_type": "markdown",
   "id": "180675ce",
   "metadata": {},
   "source": [
    "Any data or information stored within a Python variable has a type. You can view the type  of data stored within a variable using the `type()` function."
   ]
  },
  {
   "cell_type": "markdown",
   "id": "70936f10",
   "metadata": {},
   "source": [
    "* Example:-"
   ]
  },
  {
   "cell_type": "code",
   "execution_count": 36,
   "id": "0d0bbe80",
   "metadata": {},
   "outputs": [
    {
     "data": {
      "text/plain": [
       "123458"
      ]
     },
     "execution_count": 36,
     "metadata": {},
     "output_type": "execute_result"
    }
   ],
   "source": [
    "a_variable"
   ]
  },
  {
   "cell_type": "code",
   "execution_count": 37,
   "id": "a5f5b958",
   "metadata": {},
   "outputs": [
    {
     "data": {
      "text/plain": [
       "int"
      ]
     },
     "execution_count": 37,
     "metadata": {},
     "output_type": "execute_result"
    }
   ],
   "source": [
    "type(a_variable)"
   ]
  },
  {
   "cell_type": "code",
   "execution_count": 38,
   "id": "cc2ac3a5",
   "metadata": {},
   "outputs": [
    {
     "data": {
      "text/plain": [
       "'A laptop brand'"
      ]
     },
     "execution_count": 38,
     "metadata": {},
     "output_type": "execute_result"
    }
   ],
   "source": [
    "acer"
   ]
  },
  {
   "cell_type": "code",
   "execution_count": 39,
   "id": "1b67df7d",
   "metadata": {},
   "outputs": [
    {
     "data": {
      "text/plain": [
       "str"
      ]
     },
     "execution_count": 39,
     "metadata": {},
     "output_type": "execute_result"
    }
   ],
   "source": [
    "type(acer)"
   ]
  },
  {
   "cell_type": "code",
   "execution_count": 40,
   "id": "9a0949ec",
   "metadata": {},
   "outputs": [
    {
     "data": {
      "text/plain": [
       "False"
      ]
     },
     "execution_count": 40,
     "metadata": {},
     "output_type": "execute_result"
    }
   ],
   "source": [
    "Is_Today_Saturday"
   ]
  },
  {
   "cell_type": "code",
   "execution_count": 41,
   "id": "8e3a0022",
   "metadata": {},
   "outputs": [
    {
     "data": {
      "text/plain": [
       "bool"
      ]
     },
     "execution_count": 41,
     "metadata": {},
     "output_type": "execute_result"
    }
   ],
   "source": [
    "type(Is_Today_Saturday)"
   ]
  },
  {
   "cell_type": "code",
   "execution_count": 42,
   "id": "cd36b1b6",
   "metadata": {},
   "outputs": [
    {
     "data": {
      "text/plain": [
       "['Athos', 'Prothos', 'Aramis']"
      ]
     },
     "execution_count": 42,
     "metadata": {},
     "output_type": "execute_result"
    }
   ],
   "source": [
    "The_3_musketeers"
   ]
  },
  {
   "cell_type": "code",
   "execution_count": 43,
   "id": "7985a7a2",
   "metadata": {},
   "outputs": [
    {
     "data": {
      "text/plain": [
       "list"
      ]
     },
     "execution_count": 43,
     "metadata": {},
     "output_type": "execute_result"
    }
   ],
   "source": [
    "type(The_3_musketeers)"
   ]
  },
  {
   "cell_type": "code",
   "execution_count": 44,
   "id": "d59a884c",
   "metadata": {},
   "outputs": [
    {
     "data": {
      "text/plain": [
       "'H,I,J'"
      ]
     },
     "execution_count": 44,
     "metadata": {},
     "output_type": "execute_result"
    }
   ],
   "source": [
    "The_3_Idiots"
   ]
  },
  {
   "cell_type": "code",
   "execution_count": 45,
   "id": "187340b2",
   "metadata": {},
   "outputs": [
    {
     "data": {
      "text/plain": [
       "str"
      ]
     },
     "execution_count": 45,
     "metadata": {},
     "output_type": "execute_result"
    }
   ],
   "source": [
    "type(The_3_Idiots)"
   ]
  },
  {
   "cell_type": "code",
   "execution_count": 46,
   "id": "cfe1578f",
   "metadata": {},
   "outputs": [
    {
     "data": {
      "text/plain": [
       "3.14"
      ]
     },
     "execution_count": 46,
     "metadata": {},
     "output_type": "execute_result"
    }
   ],
   "source": [
    "pi"
   ]
  },
  {
   "cell_type": "code",
   "execution_count": 47,
   "id": "bb2e760b",
   "metadata": {},
   "outputs": [
    {
     "data": {
      "text/plain": [
       "float"
      ]
     },
     "execution_count": 47,
     "metadata": {},
     "output_type": "execute_result"
    }
   ],
   "source": [
    "type(pi)"
   ]
  },
  {
   "cell_type": "markdown",
   "id": "183cb00d",
   "metadata": {},
   "source": [
    "* Python has several built-in data types for storing different kinds of information in variables. Following are some commonly used data types:\n",
    "1. Integer\n",
    "2. Float\n",
    "3. Boolean\n",
    "4. None\n",
    "5. String\n",
    "6. List\n",
    "7. Tuple\n",
    "8. Dictionary  \n",
    "* Further we can classify these data types in two parts according to their property\n",
    "\n",
    " \n",
    "|         Primitive Data          |            Data Structures or Containers         |\n",
    "|- - - - - - - - -  - - -  --  -  |- - - - - - - - - - - - - - - - - -- - - - - - - -|\n",
    "| Holds A Single Value            | Holds multiple Piece Of Data Together            |\n",
    "|- - - - - - - - -  - - -  --  -  |- - - - - - - - - - - - - - - - - -- - - - - - - -|\n",
    "|       Integer                   |               List                               |\n",
    "|          Float                  |               Tuple                              |\n",
    "|          Boolean                |              Dictionary                          |\n",
    "|          None                   |                                                  |\n",
    "|           String                |                                               |\n",
    "\n",
    "\n",
    "> Conclusion:  \n",
    "1. Primitive Data Types:- They represent a single value  \n",
    "(*Example- Integer, Float, Boolean, none, and string*).\n",
    "2. Data Structures or Containers types:- They holds multiple pieces of data together   \n",
    "(*Example- List, Tuple, Dictionary*). "
   ]
  },
  {
   "cell_type": "markdown",
   "id": "c1583ac2",
   "metadata": {},
   "source": [
    "### 1. Integer"
   ]
  },
  {
   "cell_type": "markdown",
   "id": "9bf28e83",
   "metadata": {},
   "source": [
    "Integers represent positive or negative whole numbers, from `-∞` to `+∞`. Note that the integer should not include decimal points. Integers have th type `int`."
   ]
  },
  {
   "cell_type": "code",
   "execution_count": 48,
   "id": "04615b09",
   "metadata": {},
   "outputs": [],
   "source": [
    "Current_Year=2022"
   ]
  },
  {
   "cell_type": "code",
   "execution_count": 49,
   "id": "dc6451ff",
   "metadata": {},
   "outputs": [
    {
     "data": {
      "text/plain": [
       "2022"
      ]
     },
     "execution_count": 49,
     "metadata": {},
     "output_type": "execute_result"
    }
   ],
   "source": [
    "Current_Year"
   ]
  },
  {
   "cell_type": "code",
   "execution_count": 50,
   "id": "6c557d57",
   "metadata": {},
   "outputs": [
    {
     "data": {
      "text/plain": [
       "int"
      ]
     },
     "execution_count": 50,
     "metadata": {},
     "output_type": "execute_result"
    }
   ],
   "source": [
    "type(Current_Year)"
   ]
  },
  {
   "cell_type": "markdown",
   "id": "5b467a68",
   "metadata": {},
   "source": [
    "* Unlike some other programming languages, integers in Python can be arbitrarily large or small. There is no lowest or highest value for integers, and there is just one `int` type (as opposed to `short`, `int`, `long`, `long long`, `unsigned int`, etc.. in C/C++/Java)."
   ]
  },
  {
   "cell_type": "markdown",
   "id": "a29fc93b",
   "metadata": {},
   "source": [
    "*Example:-*"
   ]
  },
  {
   "cell_type": "code",
   "execution_count": 51,
   "id": "8196401d",
   "metadata": {},
   "outputs": [
    {
     "data": {
      "text/plain": [
       "34878655664778896321742"
      ]
     },
     "execution_count": 51,
     "metadata": {},
     "output_type": "execute_result"
    }
   ],
   "source": [
    "a_negative_large_num =-1234578935778893624861256736447621478863253\n",
    "34878655664778896321742"
   ]
  },
  {
   "cell_type": "code",
   "execution_count": 52,
   "id": "7d4cacc6",
   "metadata": {},
   "outputs": [
    {
     "data": {
      "text/plain": [
       "-1234578935778893624861256736447621478863253"
      ]
     },
     "execution_count": 52,
     "metadata": {},
     "output_type": "execute_result"
    }
   ],
   "source": [
    "a_negative_large_num"
   ]
  },
  {
   "cell_type": "code",
   "execution_count": 53,
   "id": "a3f3bd3b",
   "metadata": {},
   "outputs": [
    {
     "data": {
      "text/plain": [
       "int"
      ]
     },
     "execution_count": 53,
     "metadata": {},
     "output_type": "execute_result"
    }
   ],
   "source": [
    "type(a_negative_large_num)"
   ]
  },
  {
   "cell_type": "markdown",
   "id": "04c99d5b",
   "metadata": {},
   "source": [
    "### 2. Float"
   ]
  },
  {
   "cell_type": "markdown",
   "id": "97fc4193",
   "metadata": {},
   "source": [
    "Floats (or floating-point numbers) are numbers with a decimal point. There are no limits on the value or the number of digits before or after decimal point. Floating-point numbers have the type `float`."
   ]
  },
  {
   "cell_type": "code",
   "execution_count": 54,
   "id": "ae4df5fd",
   "metadata": {},
   "outputs": [],
   "source": [
    "pi = 3.141592653 "
   ]
  },
  {
   "cell_type": "code",
   "execution_count": 55,
   "id": "c9929aeb",
   "metadata": {},
   "outputs": [
    {
     "data": {
      "text/plain": [
       "3.141592653"
      ]
     },
     "execution_count": 55,
     "metadata": {},
     "output_type": "execute_result"
    }
   ],
   "source": [
    "pi"
   ]
  },
  {
   "cell_type": "code",
   "execution_count": 56,
   "id": "c7c2489f",
   "metadata": {},
   "outputs": [
    {
     "data": {
      "text/plain": [
       "float"
      ]
     },
     "execution_count": 56,
     "metadata": {},
     "output_type": "execute_result"
    }
   ],
   "source": [
    "type(pi)"
   ]
  },
  {
   "cell_type": "markdown",
   "id": "732fef42",
   "metadata": {},
   "source": [
    "* Note that a whole number is treated as a float if written with a decimal point, even thought the decimal portion of the number is zero."
   ]
  },
  {
   "cell_type": "code",
   "execution_count": 57,
   "id": "278ef918",
   "metadata": {},
   "outputs": [],
   "source": [
    "a_num = 10"
   ]
  },
  {
   "cell_type": "code",
   "execution_count": 58,
   "id": "08c69f4d",
   "metadata": {},
   "outputs": [
    {
     "data": {
      "text/plain": [
       "10"
      ]
     },
     "execution_count": 58,
     "metadata": {},
     "output_type": "execute_result"
    }
   ],
   "source": [
    "a_num"
   ]
  },
  {
   "cell_type": "code",
   "execution_count": 59,
   "id": "0e7aacc2",
   "metadata": {},
   "outputs": [
    {
     "data": {
      "text/plain": [
       "int"
      ]
     },
     "execution_count": 59,
     "metadata": {},
     "output_type": "execute_result"
    }
   ],
   "source": [
    "type(a_num)"
   ]
  },
  {
   "cell_type": "code",
   "execution_count": 60,
   "id": "05c3724f",
   "metadata": {},
   "outputs": [],
   "source": [
    "a_num = 10.0"
   ]
  },
  {
   "cell_type": "code",
   "execution_count": 61,
   "id": "025ff2aa",
   "metadata": {},
   "outputs": [
    {
     "data": {
      "text/plain": [
       "10.0"
      ]
     },
     "execution_count": 61,
     "metadata": {},
     "output_type": "execute_result"
    }
   ],
   "source": [
    "a_num"
   ]
  },
  {
   "cell_type": "code",
   "execution_count": 62,
   "id": "c1239dbc",
   "metadata": {},
   "outputs": [
    {
     "data": {
      "text/plain": [
       "float"
      ]
     },
     "execution_count": 62,
     "metadata": {},
     "output_type": "execute_result"
    }
   ],
   "source": [
    "type(a_num)"
   ]
  },
  {
   "cell_type": "code",
   "execution_count": 63,
   "id": "ec26c071",
   "metadata": {},
   "outputs": [],
   "source": [
    "a_number = 2."
   ]
  },
  {
   "cell_type": "code",
   "execution_count": 64,
   "id": "aac5235a",
   "metadata": {},
   "outputs": [
    {
     "data": {
      "text/plain": [
       "2.0"
      ]
     },
     "execution_count": 64,
     "metadata": {},
     "output_type": "execute_result"
    }
   ],
   "source": [
    "a_number"
   ]
  },
  {
   "cell_type": "code",
   "execution_count": 65,
   "id": "b88bc102",
   "metadata": {},
   "outputs": [
    {
     "data": {
      "text/plain": [
       "float"
      ]
     },
     "execution_count": 65,
     "metadata": {},
     "output_type": "execute_result"
    }
   ],
   "source": [
    "type(a_number)"
   ]
  },
  {
   "cell_type": "markdown",
   "id": "354042b7",
   "metadata": {},
   "source": [
    "* Note division of any integer is always a float."
   ]
  },
  {
   "cell_type": "code",
   "execution_count": 66,
   "id": "c3b10815",
   "metadata": {},
   "outputs": [],
   "source": [
    "a_div = 10/2"
   ]
  },
  {
   "cell_type": "code",
   "execution_count": 67,
   "id": "83fda663",
   "metadata": {},
   "outputs": [
    {
     "data": {
      "text/plain": [
       "5.0"
      ]
     },
     "execution_count": 67,
     "metadata": {},
     "output_type": "execute_result"
    }
   ],
   "source": [
    "a_div"
   ]
  },
  {
   "cell_type": "code",
   "execution_count": 68,
   "id": "7d8bd5b1",
   "metadata": {},
   "outputs": [
    {
     "data": {
      "text/plain": [
       "float"
      ]
     },
     "execution_count": 68,
     "metadata": {},
     "output_type": "execute_result"
    }
   ],
   "source": [
    "type(a_div)"
   ]
  },
  {
   "cell_type": "markdown",
   "id": "b6d34788",
   "metadata": {},
   "source": [
    "* Floating point numbers can also be written using the scientific notation with an \"e\" to indicate the power of 10."
   ]
  },
  {
   "cell_type": "code",
   "execution_count": 69,
   "id": "ceb6cfb7",
   "metadata": {},
   "outputs": [],
   "source": [
    "one_hundredth = 1e-2"
   ]
  },
  {
   "cell_type": "code",
   "execution_count": 70,
   "id": "ece3865b",
   "metadata": {},
   "outputs": [
    {
     "data": {
      "text/plain": [
       "0.01"
      ]
     },
     "execution_count": 70,
     "metadata": {},
     "output_type": "execute_result"
    }
   ],
   "source": [
    "one_hundredth"
   ]
  },
  {
   "cell_type": "code",
   "execution_count": 71,
   "id": "6bb7c1d4",
   "metadata": {},
   "outputs": [
    {
     "data": {
      "text/plain": [
       "float"
      ]
     },
     "execution_count": 71,
     "metadata": {},
     "output_type": "execute_result"
    }
   ],
   "source": [
    "type(one_hundredth)"
   ]
  },
  {
   "cell_type": "markdown",
   "id": "9bf4529f",
   "metadata": {},
   "source": [
    "**Note:-** Here is some experiment to see the similarity between `**` and `e`"
   ]
  },
  {
   "cell_type": "code",
   "execution_count": 72,
   "id": "0ddb14fd",
   "metadata": {},
   "outputs": [],
   "source": [
    "one_hundred = 1e+2\n",
    "one_tenth = 1e-1"
   ]
  },
  {
   "cell_type": "code",
   "execution_count": 73,
   "id": "e9ad867b",
   "metadata": {},
   "outputs": [
    {
     "data": {
      "text/plain": [
       "100.0"
      ]
     },
     "execution_count": 73,
     "metadata": {},
     "output_type": "execute_result"
    }
   ],
   "source": [
    "one_hundred  "
   ]
  },
  {
   "cell_type": "code",
   "execution_count": 74,
   "id": "ed861d3c",
   "metadata": {},
   "outputs": [
    {
     "data": {
      "text/plain": [
       "0.1"
      ]
     },
     "execution_count": 74,
     "metadata": {},
     "output_type": "execute_result"
    }
   ],
   "source": [
    "one_tenth"
   ]
  },
  {
   "cell_type": "code",
   "execution_count": 75,
   "id": "96745de1",
   "metadata": {},
   "outputs": [],
   "source": [
    "one_hundred = 10**2\n",
    "one_tenth = 10**-1"
   ]
  },
  {
   "cell_type": "code",
   "execution_count": 76,
   "id": "4aa13852",
   "metadata": {},
   "outputs": [
    {
     "data": {
      "text/plain": [
       "100"
      ]
     },
     "execution_count": 76,
     "metadata": {},
     "output_type": "execute_result"
    }
   ],
   "source": [
    "one_hundred"
   ]
  },
  {
   "cell_type": "code",
   "execution_count": 77,
   "id": "99ba78da",
   "metadata": {},
   "outputs": [
    {
     "data": {
      "text/plain": [
       "0.1"
      ]
     },
     "execution_count": 77,
     "metadata": {},
     "output_type": "execute_result"
    }
   ],
   "source": [
    "one_tenth"
   ]
  },
  {
   "cell_type": "markdown",
   "id": "42c8d455",
   "metadata": {},
   "source": [
    "**Conclusion:-** We noticed that `e = 10^` and `** = ^`"
   ]
  },
  {
   "cell_type": "code",
   "execution_count": 78,
   "id": "d7b620af",
   "metadata": {},
   "outputs": [],
   "source": [
    "avogadro_number = 6.02214076e23"
   ]
  },
  {
   "cell_type": "code",
   "execution_count": 79,
   "id": "e9e6b21e",
   "metadata": {},
   "outputs": [
    {
     "data": {
      "text/plain": [
       "6.02214076e+23"
      ]
     },
     "execution_count": 79,
     "metadata": {},
     "output_type": "execute_result"
    }
   ],
   "source": [
    "avogadro_number"
   ]
  },
  {
   "cell_type": "code",
   "execution_count": 80,
   "id": "a0e40482",
   "metadata": {},
   "outputs": [
    {
     "data": {
      "text/plain": [
       "float"
      ]
     },
     "execution_count": 80,
     "metadata": {},
     "output_type": "execute_result"
    }
   ],
   "source": [
    "type(avogadro_number)"
   ]
  },
  {
   "cell_type": "markdown",
   "id": "63964426",
   "metadata": {},
   "source": [
    "* You can convert `floats` into `integer` and vice-versa using `float` and `int` functions. The operation of converting one type of value into another is called casting."
   ]
  },
  {
   "cell_type": "code",
   "execution_count": 81,
   "id": "dbde1d50",
   "metadata": {},
   "outputs": [],
   "source": [
    "current_year=2022"
   ]
  },
  {
   "cell_type": "code",
   "execution_count": 82,
   "id": "47ff94ad",
   "metadata": {},
   "outputs": [
    {
     "data": {
      "text/plain": [
       "2022"
      ]
     },
     "execution_count": 82,
     "metadata": {},
     "output_type": "execute_result"
    }
   ],
   "source": [
    "current_year"
   ]
  },
  {
   "cell_type": "code",
   "execution_count": 83,
   "id": "cc49d051",
   "metadata": {},
   "outputs": [
    {
     "data": {
      "text/plain": [
       "2022.0"
      ]
     },
     "execution_count": 83,
     "metadata": {},
     "output_type": "execute_result"
    }
   ],
   "source": [
    "float(current_year)"
   ]
  },
  {
   "cell_type": "code",
   "execution_count": 84,
   "id": "682471fb",
   "metadata": {},
   "outputs": [
    {
     "data": {
      "text/plain": [
       "3.141592653"
      ]
     },
     "execution_count": 84,
     "metadata": {},
     "output_type": "execute_result"
    }
   ],
   "source": [
    "pi"
   ]
  },
  {
   "cell_type": "code",
   "execution_count": 85,
   "id": "1347c1aa",
   "metadata": {},
   "outputs": [
    {
     "data": {
      "text/plain": [
       "3"
      ]
     },
     "execution_count": 85,
     "metadata": {},
     "output_type": "execute_result"
    }
   ],
   "source": [
    "int(pi)"
   ]
  },
  {
   "cell_type": "code",
   "execution_count": 86,
   "id": "345e2192",
   "metadata": {},
   "outputs": [
    {
     "data": {
      "text/plain": [
       "602214075999999987023872"
      ]
     },
     "execution_count": 86,
     "metadata": {},
     "output_type": "execute_result"
    }
   ],
   "source": [
    "int(avogadro_number)"
   ]
  },
  {
   "cell_type": "markdown",
   "id": "620f4fa2",
   "metadata": {},
   "source": [
    "* While performing arithmetic operations, integers are automatically converted to `float` if any of the operands is a `float`. Also, the division operator `/` always returns a `float`, even if both operands are integers. Use `//` operator if you want the result of the division to be an `int`."
   ]
  },
  {
   "cell_type": "code",
   "execution_count": 87,
   "id": "d5bac976",
   "metadata": {},
   "outputs": [
    {
     "data": {
      "text/plain": [
       "float"
      ]
     },
     "execution_count": 87,
     "metadata": {},
     "output_type": "execute_result"
    }
   ],
   "source": [
    "type(45*3.0)"
   ]
  },
  {
   "cell_type": "code",
   "execution_count": 88,
   "id": "86715752",
   "metadata": {},
   "outputs": [
    {
     "data": {
      "text/plain": [
       "int"
      ]
     },
     "execution_count": 88,
     "metadata": {},
     "output_type": "execute_result"
    }
   ],
   "source": [
    "type(45*3)"
   ]
  },
  {
   "cell_type": "code",
   "execution_count": 89,
   "id": "7a79ea28",
   "metadata": {},
   "outputs": [
    {
     "data": {
      "text/plain": [
       "float"
      ]
     },
     "execution_count": 89,
     "metadata": {},
     "output_type": "execute_result"
    }
   ],
   "source": [
    "type(10/3)"
   ]
  },
  {
   "cell_type": "code",
   "execution_count": 90,
   "id": "01a805f3",
   "metadata": {},
   "outputs": [
    {
     "data": {
      "text/plain": [
       "int"
      ]
     },
     "execution_count": 90,
     "metadata": {},
     "output_type": "execute_result"
    }
   ],
   "source": [
    "type(10//3)"
   ]
  },
  {
   "cell_type": "markdown",
   "id": "9bc7d983",
   "metadata": {},
   "source": [
    "### 3. Boolean"
   ]
  },
  {
   "cell_type": "markdown",
   "id": "8e783c4a",
   "metadata": {},
   "source": [
    "Booleans represent one of 2 values: `True` and `False`. Booleans have the type `bool`."
   ]
  },
  {
   "cell_type": "code",
   "execution_count": 91,
   "id": "48a165b9",
   "metadata": {},
   "outputs": [],
   "source": [
    "is_today_sunday = True"
   ]
  },
  {
   "cell_type": "code",
   "execution_count": 92,
   "id": "55970aae",
   "metadata": {},
   "outputs": [
    {
     "data": {
      "text/plain": [
       "True"
      ]
     },
     "execution_count": 92,
     "metadata": {},
     "output_type": "execute_result"
    }
   ],
   "source": [
    "is_today_sunday"
   ]
  },
  {
   "cell_type": "code",
   "execution_count": 93,
   "id": "7e580350",
   "metadata": {},
   "outputs": [
    {
     "data": {
      "text/plain": [
       "bool"
      ]
     },
     "execution_count": 93,
     "metadata": {},
     "output_type": "execute_result"
    }
   ],
   "source": [
    "type(is_today_sunday)"
   ]
  },
  {
   "cell_type": "markdown",
   "id": "78faa78b",
   "metadata": {},
   "source": [
    "* Boolean are generally the result of a comparison.   \n",
    "Eg.:- `==`, `>=`, `<=`, etc..."
   ]
  },
  {
   "cell_type": "code",
   "execution_count": 94,
   "id": "a5168d28",
   "metadata": {},
   "outputs": [],
   "source": [
    "cost_of_bread = 25\n",
    "is_bread_expemsive = cost_of_bread>=20"
   ]
  },
  {
   "cell_type": "code",
   "execution_count": 95,
   "id": "a94223f2",
   "metadata": {},
   "outputs": [
    {
     "data": {
      "text/plain": [
       "True"
      ]
     },
     "execution_count": 95,
     "metadata": {},
     "output_type": "execute_result"
    }
   ],
   "source": [
    "is_bread_expemsive"
   ]
  },
  {
   "cell_type": "markdown",
   "id": "7f0d1f46",
   "metadata": {},
   "source": [
    "* Booleans are automatically converted to `int`'s when used in arithmetic operations. `True` is converted to `1` and `False` is converted to`0`."
   ]
  },
  {
   "cell_type": "code",
   "execution_count": 96,
   "id": "0de9a95f",
   "metadata": {},
   "outputs": [
    {
     "data": {
      "text/plain": [
       "5"
      ]
     },
     "execution_count": 96,
     "metadata": {},
     "output_type": "execute_result"
    }
   ],
   "source": [
    "5 + False"
   ]
  },
  {
   "cell_type": "code",
   "execution_count": 97,
   "id": "96723433",
   "metadata": {},
   "outputs": [
    {
     "data": {
      "text/plain": [
       "2.0"
      ]
     },
     "execution_count": 97,
     "metadata": {},
     "output_type": "execute_result"
    }
   ],
   "source": [
    "3. - True"
   ]
  },
  {
   "cell_type": "code",
   "execution_count": 98,
   "id": "3aacb84c",
   "metadata": {},
   "outputs": [
    {
     "data": {
      "text/plain": [
       "1"
      ]
     },
     "execution_count": 98,
     "metadata": {},
     "output_type": "execute_result"
    }
   ],
   "source": [
    "True+False"
   ]
  },
  {
   "cell_type": "code",
   "execution_count": 99,
   "id": "da71368c",
   "metadata": {},
   "outputs": [
    {
     "data": {
      "text/plain": [
       "0"
      ]
     },
     "execution_count": 99,
     "metadata": {},
     "output_type": "execute_result"
    }
   ],
   "source": [
    "False+False"
   ]
  },
  {
   "cell_type": "code",
   "execution_count": 100,
   "id": "c3d4667a",
   "metadata": {},
   "outputs": [
    {
     "data": {
      "text/plain": [
       "2"
      ]
     },
     "execution_count": 100,
     "metadata": {},
     "output_type": "execute_result"
    }
   ],
   "source": [
    "True+True"
   ]
  },
  {
   "cell_type": "markdown",
   "id": "c981c28a",
   "metadata": {},
   "source": [
    "* Any value in Python can be converted to a Boolean using the `bool` function."
   ]
  },
  {
   "cell_type": "code",
   "execution_count": 101,
   "id": "825590fc",
   "metadata": {},
   "outputs": [],
   "source": [
    "num = 1"
   ]
  },
  {
   "cell_type": "code",
   "execution_count": 102,
   "id": "fea4277d",
   "metadata": {},
   "outputs": [
    {
     "data": {
      "text/plain": [
       "int"
      ]
     },
     "execution_count": 102,
     "metadata": {},
     "output_type": "execute_result"
    }
   ],
   "source": [
    "type(num)"
   ]
  },
  {
   "cell_type": "code",
   "execution_count": 103,
   "id": "28ff2324",
   "metadata": {},
   "outputs": [],
   "source": [
    "new_num = bool(num)"
   ]
  },
  {
   "cell_type": "code",
   "execution_count": 104,
   "id": "125d7d5a",
   "metadata": {},
   "outputs": [
    {
     "data": {
      "text/plain": [
       "True"
      ]
     },
     "execution_count": 104,
     "metadata": {},
     "output_type": "execute_result"
    }
   ],
   "source": [
    "new_num"
   ]
  },
  {
   "cell_type": "code",
   "execution_count": 105,
   "id": "788eaf9c",
   "metadata": {},
   "outputs": [
    {
     "data": {
      "text/plain": [
       "bool"
      ]
     },
     "execution_count": 105,
     "metadata": {},
     "output_type": "execute_result"
    }
   ],
   "source": [
    "type(new_num)"
   ]
  },
  {
   "cell_type": "markdown",
   "id": "2240197b",
   "metadata": {},
   "source": [
    "* Only the following values evaluate to `False` (they are often called *falsy* values):\n",
    "1. The value `False` itself\n",
    "2. The integer `0`\n",
    "3. The float `0.0`\n",
    "4. The empty value `None`\n",
    "5. The empty text `\"\"`\n",
    "6. The empty list `[]`\n",
    "7. The empty tuple `()`\n",
    "8. The empty dictionary `{}`\n",
    "9. The empty set `set()`\n",
    "10. The empty range `range(0)`\n",
    "Everything else evaluate to `True` (a value that evaluates to `True` is often called a *truthy* value)"
   ]
  },
  {
   "cell_type": "code",
   "execution_count": 106,
   "id": "1edbce73",
   "metadata": {},
   "outputs": [
    {
     "data": {
      "text/plain": [
       "False"
      ]
     },
     "execution_count": 106,
     "metadata": {},
     "output_type": "execute_result"
    }
   ],
   "source": [
    "bool(False)"
   ]
  },
  {
   "cell_type": "code",
   "execution_count": 107,
   "id": "bff14466",
   "metadata": {},
   "outputs": [
    {
     "data": {
      "text/plain": [
       "False"
      ]
     },
     "execution_count": 107,
     "metadata": {},
     "output_type": "execute_result"
    }
   ],
   "source": [
    "bool(0)"
   ]
  },
  {
   "cell_type": "code",
   "execution_count": 108,
   "id": "7c21224e",
   "metadata": {},
   "outputs": [
    {
     "data": {
      "text/plain": [
       "False"
      ]
     },
     "execution_count": 108,
     "metadata": {},
     "output_type": "execute_result"
    }
   ],
   "source": [
    "bool(0.0)"
   ]
  },
  {
   "cell_type": "code",
   "execution_count": 109,
   "id": "6d300ebf",
   "metadata": {},
   "outputs": [
    {
     "data": {
      "text/plain": [
       "False"
      ]
     },
     "execution_count": 109,
     "metadata": {},
     "output_type": "execute_result"
    }
   ],
   "source": [
    "bool(None)"
   ]
  },
  {
   "cell_type": "code",
   "execution_count": 110,
   "id": "7d5cc4a4",
   "metadata": {},
   "outputs": [
    {
     "data": {
      "text/plain": [
       "False"
      ]
     },
     "execution_count": 110,
     "metadata": {},
     "output_type": "execute_result"
    }
   ],
   "source": [
    "bool(\"\")"
   ]
  },
  {
   "cell_type": "code",
   "execution_count": 111,
   "id": "5d8d354c",
   "metadata": {},
   "outputs": [
    {
     "data": {
      "text/plain": [
       "False"
      ]
     },
     "execution_count": 111,
     "metadata": {},
     "output_type": "execute_result"
    }
   ],
   "source": [
    "bool([])"
   ]
  },
  {
   "cell_type": "code",
   "execution_count": 112,
   "id": "a6727b40",
   "metadata": {},
   "outputs": [
    {
     "data": {
      "text/plain": [
       "False"
      ]
     },
     "execution_count": 112,
     "metadata": {},
     "output_type": "execute_result"
    }
   ],
   "source": [
    "bool({})"
   ]
  },
  {
   "cell_type": "code",
   "execution_count": 113,
   "id": "f19d634e",
   "metadata": {},
   "outputs": [
    {
     "data": {
      "text/plain": [
       "False"
      ]
     },
     "execution_count": 113,
     "metadata": {},
     "output_type": "execute_result"
    }
   ],
   "source": [
    "bool(())"
   ]
  },
  {
   "cell_type": "code",
   "execution_count": 114,
   "id": "fdab6f36",
   "metadata": {},
   "outputs": [
    {
     "data": {
      "text/plain": [
       "False"
      ]
     },
     "execution_count": 114,
     "metadata": {},
     "output_type": "execute_result"
    }
   ],
   "source": [
    "bool(set())"
   ]
  },
  {
   "cell_type": "code",
   "execution_count": 115,
   "id": "277a9761",
   "metadata": {},
   "outputs": [
    {
     "data": {
      "text/plain": [
       "False"
      ]
     },
     "execution_count": 115,
     "metadata": {},
     "output_type": "execute_result"
    }
   ],
   "source": [
    "bool(range(0))"
   ]
  },
  {
   "cell_type": "code",
   "execution_count": 116,
   "id": "14dae208",
   "metadata": {},
   "outputs": [
    {
     "data": {
      "text/plain": [
       "True"
      ]
     },
     "execution_count": 116,
     "metadata": {},
     "output_type": "execute_result"
    }
   ],
   "source": [
    "bool(True)"
   ]
  },
  {
   "cell_type": "code",
   "execution_count": 117,
   "id": "1de8cf06",
   "metadata": {},
   "outputs": [
    {
     "data": {
      "text/plain": [
       "(True, True, True, True, True, True)"
      ]
     },
     "execution_count": 117,
     "metadata": {},
     "output_type": "execute_result"
    }
   ],
   "source": [
    "bool(True), bool(1), bool(3.14), bool(\"Hariom\"), bool([1,2,3]), bool(range(10))"
   ]
  },
  {
   "cell_type": "markdown",
   "id": "abcc053f",
   "metadata": {},
   "source": [
    "### 4. None"
   ]
  },
  {
   "cell_type": "markdown",
   "id": "4a01aae3",
   "metadata": {},
   "source": [
    "The none type includes a single value `None`, used to indicate the absence of a value. `None` has the type `None Type`. It is often used to declare a variable whose value may be assigned later."
   ]
  },
  {
   "cell_type": "code",
   "execution_count": 118,
   "id": "7136b20b",
   "metadata": {},
   "outputs": [],
   "source": [
    "nothing_value=None"
   ]
  },
  {
   "cell_type": "code",
   "execution_count": 119,
   "id": "cea875d9",
   "metadata": {},
   "outputs": [
    {
     "data": {
      "text/plain": [
       "NoneType"
      ]
     },
     "execution_count": 119,
     "metadata": {},
     "output_type": "execute_result"
    }
   ],
   "source": [
    "type(nothing_value)"
   ]
  },
  {
   "cell_type": "code",
   "execution_count": 120,
   "id": "dd5fca99",
   "metadata": {},
   "outputs": [],
   "source": [
    "x=None"
   ]
  },
  {
   "cell_type": "code",
   "execution_count": 121,
   "id": "b18bf028",
   "metadata": {},
   "outputs": [
    {
     "data": {
      "text/plain": [
       "NoneType"
      ]
     },
     "execution_count": 121,
     "metadata": {},
     "output_type": "execute_result"
    }
   ],
   "source": [
    "type(x)"
   ]
  },
  {
   "cell_type": "code",
   "execution_count": 122,
   "id": "40af445f",
   "metadata": {},
   "outputs": [],
   "source": [
    "x=pi"
   ]
  },
  {
   "cell_type": "code",
   "execution_count": 123,
   "id": "ab140526",
   "metadata": {},
   "outputs": [
    {
     "data": {
      "text/plain": [
       "3.141592653"
      ]
     },
     "execution_count": 123,
     "metadata": {},
     "output_type": "execute_result"
    }
   ],
   "source": [
    "x"
   ]
  },
  {
   "cell_type": "code",
   "execution_count": 124,
   "id": "e79afb47",
   "metadata": {},
   "outputs": [
    {
     "data": {
      "text/plain": [
       "float"
      ]
     },
     "execution_count": 124,
     "metadata": {},
     "output_type": "execute_result"
    }
   ],
   "source": [
    "type(x)"
   ]
  },
  {
   "cell_type": "markdown",
   "id": "dd848f14",
   "metadata": {},
   "source": [
    "### 5. String"
   ]
  },
  {
   "cell_type": "markdown",
   "id": "23c5cdcc",
   "metadata": {},
   "source": [
    "A string is used to represent text (a string of characters) in Python. Strings must be surrounded using quotations (either the single quote `'` or the double quote `\"`). Strings have the type `str`"
   ]
  },
  {
   "cell_type": "code",
   "execution_count": 125,
   "id": "f2a59eb2",
   "metadata": {},
   "outputs": [],
   "source": [
    "today=\"Sunday\""
   ]
  },
  {
   "cell_type": "code",
   "execution_count": 126,
   "id": "7710be49",
   "metadata": {},
   "outputs": [
    {
     "data": {
      "text/plain": [
       "'Sunday'"
      ]
     },
     "execution_count": 126,
     "metadata": {},
     "output_type": "execute_result"
    }
   ],
   "source": [
    "today"
   ]
  },
  {
   "cell_type": "code",
   "execution_count": 127,
   "id": "a0278805",
   "metadata": {},
   "outputs": [
    {
     "data": {
      "text/plain": [
       "str"
      ]
     },
     "execution_count": 127,
     "metadata": {},
     "output_type": "execute_result"
    }
   ],
   "source": [
    "type(today)"
   ]
  },
  {
   "cell_type": "markdown",
   "id": "3268e2d7",
   "metadata": {},
   "source": [
    "* you can use single quotes `'` inside a string written with double quotes `\"`, and vice-versa."
   ]
  },
  {
   "cell_type": "code",
   "execution_count": 128,
   "id": "74e72fdb",
   "metadata": {},
   "outputs": [],
   "source": [
    "my_fav_movie_name = \"One Flew Over The Cuckoo's Nest\""
   ]
  },
  {
   "cell_type": "code",
   "execution_count": 129,
   "id": "ef70c3c9",
   "metadata": {},
   "outputs": [
    {
     "data": {
      "text/plain": [
       "\"One Flew Over The Cuckoo's Nest\""
      ]
     },
     "execution_count": 129,
     "metadata": {},
     "output_type": "execute_result"
    }
   ],
   "source": [
    "my_fav_movie_name"
   ]
  },
  {
   "cell_type": "code",
   "execution_count": 130,
   "id": "d063f103",
   "metadata": {},
   "outputs": [],
   "source": [
    "my_fav_pun = 'Thanks for explaning the word \"many\" to me, it means a lot to me.'"
   ]
  },
  {
   "cell_type": "code",
   "execution_count": 131,
   "id": "fdf1ad7b",
   "metadata": {},
   "outputs": [
    {
     "data": {
      "text/plain": [
       "'Thanks for explaning the word \"many\" to me, it means a lot to me.'"
      ]
     },
     "execution_count": 131,
     "metadata": {},
     "output_type": "execute_result"
    }
   ],
   "source": [
    "my_fav_pun"
   ]
  },
  {
   "cell_type": "markdown",
   "id": "32e75c40",
   "metadata": {},
   "source": [
    "* To use a double quote within a string written with double quotes, *escape* the inner quotes by prefixing them with the `\\` character."
   ]
  },
  {
   "cell_type": "code",
   "execution_count": 132,
   "id": "5ccbaa82",
   "metadata": {},
   "outputs": [],
   "source": [
    "another_pun = \"The first tyme I got a universal remote control, I thought to my self \\\"This change everything\\\".\""
   ]
  },
  {
   "cell_type": "code",
   "execution_count": 133,
   "id": "c4e6e486",
   "metadata": {},
   "outputs": [
    {
     "data": {
      "text/plain": [
       "'The first tyme I got a universal remote control, I thought to my self \"This change everything\".'"
      ]
     },
     "execution_count": 133,
     "metadata": {},
     "output_type": "execute_result"
    }
   ],
   "source": [
    "another_pun"
   ]
  },
  {
   "cell_type": "code",
   "execution_count": 134,
   "id": "e8f377a9",
   "metadata": {},
   "outputs": [
    {
     "name": "stdout",
     "output_type": "stream",
     "text": [
      "The first tyme I got a universal remote control, I thought to my self \"This change everything\".\n"
     ]
    }
   ],
   "source": [
    "print(another_pun)"
   ]
  },
  {
   "cell_type": "markdown",
   "id": "f686fb3d",
   "metadata": {},
   "source": [
    "* String creating using single or double quotes must begin and end on the same line. To create multi line strings, use three single quotes `'''` or three double quotes `\"\"\"` to begin and end the string. Line breaks are represented using the newline character `\\n`."
   ]
  },
  {
   "cell_type": "code",
   "execution_count": 135,
   "id": "d43a0a57",
   "metadata": {},
   "outputs": [],
   "source": [
    "yet_another_pun = '''Son: \"Dad, can you tell me what a solar eclipse is?\" \\n  Dad: \"No sun.\"'''"
   ]
  },
  {
   "cell_type": "code",
   "execution_count": 136,
   "id": "9e81f3ce",
   "metadata": {},
   "outputs": [
    {
     "data": {
      "text/plain": [
       "'Son: \"Dad, can you tell me what a solar eclipse is?\" \\n  Dad: \"No sun.\"'"
      ]
     },
     "execution_count": 136,
     "metadata": {},
     "output_type": "execute_result"
    }
   ],
   "source": [
    "yet_another_pun"
   ]
  },
  {
   "cell_type": "markdown",
   "id": "ee328ddf",
   "metadata": {},
   "source": [
    "* Multiline strings are best displayed using the `print` function."
   ]
  },
  {
   "cell_type": "code",
   "execution_count": 137,
   "id": "612ad912",
   "metadata": {},
   "outputs": [
    {
     "name": "stdout",
     "output_type": "stream",
     "text": [
      "Son: \"Dad, can you tell me what a solar eclipse is?\" \n",
      "  Dad: \"No sun.\"\n"
     ]
    }
   ],
   "source": [
    "print(yet_another_pun)"
   ]
  },
  {
   "cell_type": "code",
   "execution_count": 138,
   "id": "6a4d6486",
   "metadata": {},
   "outputs": [],
   "source": [
    "a_music_pun = \"\"\"\n",
    "Tow windmills are standing in a field and one asks the other,\n",
    "\"What kind of music do you like?\"\n",
    "\n",
    "The other says,\n",
    "\"I'm a big metal fan.\"\n",
    "\n",
    "\"\"\""
   ]
  },
  {
   "cell_type": "code",
   "execution_count": 139,
   "id": "e9c248b5",
   "metadata": {},
   "outputs": [
    {
     "data": {
      "text/plain": [
       "'\\nTow windmills are standing in a field and one asks the other,\\n\"What kind of music do you like?\"\\n\\nThe other says,\\n\"I\\'m a big metal fan.\"\\n\\n'"
      ]
     },
     "execution_count": 139,
     "metadata": {},
     "output_type": "execute_result"
    }
   ],
   "source": [
    "a_music_pun"
   ]
  },
  {
   "cell_type": "code",
   "execution_count": 140,
   "id": "2bd27b76",
   "metadata": {},
   "outputs": [
    {
     "name": "stdout",
     "output_type": "stream",
     "text": [
      "\n",
      "Tow windmills are standing in a field and one asks the other,\n",
      "\"What kind of music do you like?\"\n",
      "\n",
      "The other says,\n",
      "\"I'm a big metal fan.\"\n",
      "\n",
      "\n"
     ]
    }
   ],
   "source": [
    "print(a_music_pun)"
   ]
  },
  {
   "cell_type": "markdown",
   "id": "69c013b5",
   "metadata": {},
   "source": [
    "* **You can check the length of a string using the `len` function.**"
   ]
  },
  {
   "cell_type": "code",
   "execution_count": 141,
   "id": "85b0cf62",
   "metadata": {},
   "outputs": [
    {
     "data": {
      "text/plain": [
       "4"
      ]
     },
     "execution_count": 141,
     "metadata": {},
     "output_type": "execute_result"
    }
   ],
   "source": [
    "len(my_fav_place)"
   ]
  },
  {
   "cell_type": "code",
   "execution_count": 142,
   "id": "251805b3",
   "metadata": {},
   "outputs": [
    {
     "data": {
      "text/plain": [
       "138"
      ]
     },
     "execution_count": 142,
     "metadata": {},
     "output_type": "execute_result"
    }
   ],
   "source": [
    "len(a_music_pun)"
   ]
  },
  {
   "cell_type": "code",
   "execution_count": 143,
   "id": "af9374db",
   "metadata": {},
   "outputs": [
    {
     "data": {
      "text/plain": [
       "95"
      ]
     },
     "execution_count": 143,
     "metadata": {},
     "output_type": "execute_result"
    }
   ],
   "source": [
    "len(another_pun)"
   ]
  },
  {
   "cell_type": "markdown",
   "id": "6b8e7e62",
   "metadata": {},
   "source": [
    "**Note:-** That special characters like `\\n` and escaped characters like `\\\"` count as a single character, even though they are written and sometimes printed as two characters."
   ]
  },
  {
   "cell_type": "code",
   "execution_count": 144,
   "id": "602a8b6a",
   "metadata": {},
   "outputs": [],
   "source": [
    "multiline_string=\"\"\"a\n",
    "b\"\"\""
   ]
  },
  {
   "cell_type": "code",
   "execution_count": 145,
   "id": "77cdb881",
   "metadata": {},
   "outputs": [
    {
     "data": {
      "text/plain": [
       "'a\\nb'"
      ]
     },
     "execution_count": 145,
     "metadata": {},
     "output_type": "execute_result"
    }
   ],
   "source": [
    "multiline_string"
   ]
  },
  {
   "cell_type": "code",
   "execution_count": 146,
   "id": "10faddb6",
   "metadata": {},
   "outputs": [
    {
     "name": "stdout",
     "output_type": "stream",
     "text": [
      "a\n",
      "b\n"
     ]
    }
   ],
   "source": [
    "print(multiline_string)"
   ]
  },
  {
   "cell_type": "code",
   "execution_count": 147,
   "id": "8c596129",
   "metadata": {},
   "outputs": [
    {
     "data": {
      "text/plain": [
       "3"
      ]
     },
     "execution_count": 147,
     "metadata": {},
     "output_type": "execute_result"
    }
   ],
   "source": [
    "len(multiline_string)"
   ]
  },
  {
   "cell_type": "markdown",
   "id": "1c0f970f",
   "metadata": {},
   "source": [
    "* A string can be converted into a list of characters using `list` function."
   ]
  },
  {
   "cell_type": "code",
   "execution_count": 148,
   "id": "df36693d",
   "metadata": {},
   "outputs": [
    {
     "data": {
      "text/plain": [
       "['a', '\\n', 'b']"
      ]
     },
     "execution_count": 148,
     "metadata": {},
     "output_type": "execute_result"
    }
   ],
   "source": [
    "list(multiline_string)"
   ]
  },
  {
   "cell_type": "code",
   "execution_count": 149,
   "id": "ed4b0a1e",
   "metadata": {},
   "outputs": [
    {
     "data": {
      "text/plain": [
       "['H', 'o', 'm', 'e']"
      ]
     },
     "execution_count": 149,
     "metadata": {},
     "output_type": "execute_result"
    }
   ],
   "source": [
    "list(my_fav_place)"
   ]
  },
  {
   "cell_type": "markdown",
   "id": "5f5f9bdd",
   "metadata": {},
   "source": [
    " * You can access individual characters within a string using the `[]` indexing notation. Note the character indices go from `0` to `n-1` is the length oof the string."
   ]
  },
  {
   "cell_type": "code",
   "execution_count": 150,
   "id": "9f7cefb7",
   "metadata": {},
   "outputs": [
    {
     "data": {
      "text/plain": [
       "'Sunday'"
      ]
     },
     "execution_count": 150,
     "metadata": {},
     "output_type": "execute_result"
    }
   ],
   "source": [
    "today"
   ]
  },
  {
   "cell_type": "code",
   "execution_count": 151,
   "id": "c29f978b",
   "metadata": {},
   "outputs": [
    {
     "data": {
      "text/plain": [
       "['S', 'u', 'n', 'd', 'a', 'y']"
      ]
     },
     "execution_count": 151,
     "metadata": {},
     "output_type": "execute_result"
    }
   ],
   "source": [
    "list(today)"
   ]
  },
  {
   "cell_type": "code",
   "execution_count": 152,
   "id": "6d259f71",
   "metadata": {},
   "outputs": [
    {
     "data": {
      "text/plain": [
       "'S'"
      ]
     },
     "execution_count": 152,
     "metadata": {},
     "output_type": "execute_result"
    }
   ],
   "source": [
    "today[0]"
   ]
  },
  {
   "cell_type": "code",
   "execution_count": 153,
   "id": "6b065054",
   "metadata": {},
   "outputs": [
    {
     "data": {
      "text/plain": [
       "'y'"
      ]
     },
     "execution_count": 153,
     "metadata": {},
     "output_type": "execute_result"
    }
   ],
   "source": [
    "today[5]"
   ]
  },
  {
   "cell_type": "markdown",
   "id": "d6c2fbd9",
   "metadata": {},
   "source": [
    "* You can access a part of a string using by providing a `Start:End` range instead of a single index in `[]`."
   ]
  },
  {
   "cell_type": "code",
   "execution_count": 154,
   "id": "738662e8",
   "metadata": {},
   "outputs": [
    {
     "data": {
      "text/plain": [
       "'day'"
      ]
     },
     "execution_count": 154,
     "metadata": {},
     "output_type": "execute_result"
    }
   ],
   "source": [
    "today[3:6]"
   ]
  },
  {
   "cell_type": "code",
   "execution_count": 155,
   "id": "1759cb43",
   "metadata": {},
   "outputs": [
    {
     "data": {
      "text/plain": [
       "'Sun'"
      ]
     },
     "execution_count": 155,
     "metadata": {},
     "output_type": "execute_result"
    }
   ],
   "source": [
    "today[0:3]"
   ]
  },
  {
   "cell_type": "markdown",
   "id": "1ef45e1d",
   "metadata": {},
   "source": [
    "* You can also check whether a string contains a some text using the `in` operator."
   ]
  },
  {
   "cell_type": "code",
   "execution_count": 156,
   "id": "a94d4d5d",
   "metadata": {},
   "outputs": [
    {
     "data": {
      "text/plain": [
       "True"
      ]
     },
     "execution_count": 156,
     "metadata": {},
     "output_type": "execute_result"
    }
   ],
   "source": [
    "'day' in today"
   ]
  },
  {
   "cell_type": "code",
   "execution_count": 157,
   "id": "5d1db035",
   "metadata": {},
   "outputs": [
    {
     "data": {
      "text/plain": [
       "True"
      ]
     },
     "execution_count": 157,
     "metadata": {},
     "output_type": "execute_result"
    }
   ],
   "source": [
    "\"Sun\" in today"
   ]
  },
  {
   "cell_type": "code",
   "execution_count": 158,
   "id": "bded8ea5",
   "metadata": {},
   "outputs": [
    {
     "data": {
      "text/plain": [
       "False"
      ]
     },
     "execution_count": 158,
     "metadata": {},
     "output_type": "execute_result"
    }
   ],
   "source": [
    "\"Mon\" in today"
   ]
  },
  {
   "cell_type": "markdown",
   "id": "de5f4c0b",
   "metadata": {},
   "source": [
    "* Two or more string can be joined or *concatenated* using the `+` operator. Be careful while concatenating strings, sometimes you may need to add a space character `\" \"` between words."
   ]
  },
  {
   "cell_type": "code",
   "execution_count": 159,
   "id": "b503b80e",
   "metadata": {},
   "outputs": [],
   "source": [
    "full_name = \"Derek o'Brien\""
   ]
  },
  {
   "cell_type": "code",
   "execution_count": 160,
   "id": "6614d655",
   "metadata": {},
   "outputs": [],
   "source": [
    "greeting = \"Hello,\""
   ]
  },
  {
   "cell_type": "code",
   "execution_count": 161,
   "id": "7e6d7c63",
   "metadata": {},
   "outputs": [
    {
     "ename": "SyntaxError",
     "evalue": "invalid syntax (1694694890.py, line 1)",
     "output_type": "error",
     "traceback": [
      "\u001b[0;36m  File \u001b[0;32m\"/tmp/ipykernel_101/1694694890.py\"\u001b[0;36m, line \u001b[0;32m1\u001b[0m\n\u001b[0;31m    greeting full_namenamefull_name\u001b[0m\n\u001b[0m             ^\u001b[0m\n\u001b[0;31mSyntaxError\u001b[0m\u001b[0;31m:\u001b[0m invalid syntax\n"
     ]
    }
   ],
   "source": [
    "greeting full_namenamefull_name"
   ]
  },
  {
   "cell_type": "code",
   "execution_count": 162,
   "id": "7880cdd1",
   "metadata": {},
   "outputs": [
    {
     "data": {
      "text/plain": [
       "\"Hello, Derek o'Brien!\""
      ]
     },
     "execution_count": 162,
     "metadata": {},
     "output_type": "execute_result"
    }
   ],
   "source": [
    "# Adding additional space\n",
    "greeting + \" \" + full_name + \"!\""
   ]
  },
  {
   "cell_type": "markdown",
   "id": "d77ad5c6",
   "metadata": {},
   "source": [
    "**Strings in Python have many built-in methods that are used to manipulate them. Let's try out some common string methods.**"
   ]
  },
  {
   "cell_type": "markdown",
   "id": "b2e16135",
   "metadata": {},
   "source": [
    "> **Methods:-** Methods are functions associated with data types and are accessed using `.` notation  \n",
    "Eg.:- `variable_name.method()` or `\"a string\".method()`.  \n",
    "Methods are a powerful technique for associating common operations with values of specific data types.  \n",
    "**Methods that are used to change the case of the characters.**  \n",
    "1. `.lower()`\n",
    "2. `.upper()`\n",
    "3. `.capitalize()`\n",
    "4. `.replace()`\n",
    "5. `.split()`\n",
    "6. `.strip()`\n",
    "7. `.format()` etc..."
   ]
  },
  {
   "cell_type": "code",
   "execution_count": 163,
   "id": "16f02678",
   "metadata": {},
   "outputs": [
    {
     "data": {
      "text/plain": [
       "'Sunday'"
      ]
     },
     "execution_count": 163,
     "metadata": {},
     "output_type": "execute_result"
    }
   ],
   "source": [
    "today"
   ]
  },
  {
   "cell_type": "markdown",
   "id": "dc86d2d4",
   "metadata": {},
   "source": [
    "**1. `.lower() :-`**  All character changes into lower case."
   ]
  },
  {
   "cell_type": "code",
   "execution_count": 164,
   "id": "e5dc9f82",
   "metadata": {},
   "outputs": [
    {
     "data": {
      "text/plain": [
       "'sunday'"
      ]
     },
     "execution_count": 164,
     "metadata": {},
     "output_type": "execute_result"
    }
   ],
   "source": [
    "today.lower()    # all character changes into lower case."
   ]
  },
  {
   "cell_type": "markdown",
   "id": "eaca0f81",
   "metadata": {},
   "source": [
    "**2. `.upper() :-`** All character changes into upper case."
   ]
  },
  {
   "cell_type": "code",
   "execution_count": 165,
   "id": "7343f9e1",
   "metadata": {},
   "outputs": [
    {
     "data": {
      "text/plain": [
       "'SUNDAY'"
      ]
     },
     "execution_count": 165,
     "metadata": {},
     "output_type": "execute_result"
    }
   ],
   "source": [
    "today.upper()    # all character changes into upper case."
   ]
  },
  {
   "cell_type": "markdown",
   "id": "ad2806d1",
   "metadata": {},
   "source": [
    "**3. `.capitalize() :- `** Only first latter changes into upper case."
   ]
  },
  {
   "cell_type": "code",
   "execution_count": 166,
   "id": "f60a2769",
   "metadata": {},
   "outputs": [
    {
     "data": {
      "text/plain": [
       "'Sunday'"
      ]
     },
     "execution_count": 166,
     "metadata": {},
     "output_type": "execute_result"
    }
   ],
   "source": [
    "today.capitalize()    # only first latter changes into upper case."
   ]
  },
  {
   "cell_type": "code",
   "execution_count": 167,
   "id": "1666903b",
   "metadata": {},
   "outputs": [
    {
     "data": {
      "text/plain": [
       "'Monday'"
      ]
     },
     "execution_count": 167,
     "metadata": {},
     "output_type": "execute_result"
    }
   ],
   "source": [
    "\"monday\".capitalize()"
   ]
  },
  {
   "cell_type": "markdown",
   "id": "81b1ac12",
   "metadata": {},
   "source": [
    "**4. `.replace(\"text\",\"replacing text\") :- `** The `.replace` method replaces a part of string with another string. It takes the portion to be replaced and the replaced and the replacement text as *inputs* or *arguments*. "
   ]
  },
  {
   "cell_type": "code",
   "execution_count": 168,
   "id": "0fcf34db",
   "metadata": {},
   "outputs": [
    {
     "data": {
      "text/plain": [
       "'Sunday'"
      ]
     },
     "execution_count": 168,
     "metadata": {},
     "output_type": "execute_result"
    }
   ],
   "source": [
    "today"
   ]
  },
  {
   "cell_type": "code",
   "execution_count": 169,
   "id": "6cba8019",
   "metadata": {},
   "outputs": [],
   "source": [
    "another_day = today.replace(\"Sun\",\"Wednes\")    # only replace the quoted text."
   ]
  },
  {
   "cell_type": "code",
   "execution_count": 170,
   "id": "baa78124",
   "metadata": {},
   "outputs": [
    {
     "data": {
      "text/plain": [
       "'Wednesday'"
      ]
     },
     "execution_count": 170,
     "metadata": {},
     "output_type": "execute_result"
    }
   ],
   "source": [
    "another_day"
   ]
  },
  {
   "cell_type": "markdown",
   "id": "87ee1bd4",
   "metadata": {},
   "source": [
    "* Note:-`.replace` returns a new string, and the original string is not modified."
   ]
  },
  {
   "cell_type": "code",
   "execution_count": 171,
   "id": "47939028",
   "metadata": {},
   "outputs": [
    {
     "data": {
      "text/plain": [
       "'Sunday'"
      ]
     },
     "execution_count": 171,
     "metadata": {},
     "output_type": "execute_result"
    }
   ],
   "source": [
    "today    # original string is not modified."
   ]
  },
  {
   "cell_type": "markdown",
   "id": "32410557",
   "metadata": {},
   "source": [
    "**5. `.split() :- `** The `.split` method splits a string into a list of strings at every occurrence of provided character(s)."
   ]
  },
  {
   "cell_type": "code",
   "execution_count": 172,
   "id": "553dcadf",
   "metadata": {},
   "outputs": [
    {
     "data": {
      "text/plain": [
       "['Sun', 'Mon', 'Tue', 'Wed', 'Thu', 'Fri', 'Sat']"
      ]
     },
     "execution_count": 172,
     "metadata": {},
     "output_type": "execute_result"
    }
   ],
   "source": [
    "\"Sun,Mon,Tue,Wed,Thu,Fri,Sat\".split(\",\")"
   ]
  },
  {
   "cell_type": "markdown",
   "id": "da5a8f39",
   "metadata": {},
   "source": [
    "**6. `.strip() :- `** The `.strip()` method removes whitespace characters from the beginning and the end of a string."
   ]
  },
  {
   "cell_type": "code",
   "execution_count": 173,
   "id": "104e9e3b",
   "metadata": {},
   "outputs": [],
   "source": [
    "a_long_line = '''                   This is a long line with some space before and after         the sentences.                             '''"
   ]
  },
  {
   "cell_type": "code",
   "execution_count": 174,
   "id": "6eefa65a",
   "metadata": {},
   "outputs": [],
   "source": [
    "a_long_line_striped = a_long_line.strip()"
   ]
  },
  {
   "cell_type": "code",
   "execution_count": 175,
   "id": "79cf12e4",
   "metadata": {},
   "outputs": [
    {
     "data": {
      "text/plain": [
       "'This is a long line with some space before and after         the sentences.'"
      ]
     },
     "execution_count": 175,
     "metadata": {},
     "output_type": "execute_result"
    }
   ],
   "source": [
    "a_long_line_striped"
   ]
  },
  {
   "cell_type": "markdown",
   "id": "6b0e1147",
   "metadata": {},
   "source": [
    "**7. `.formate() :- `** The `.formate()` method combines values of other data types (e.g.:- integers, floats, booleans, lists, etc...) with strings. You can use `.format()`  to construct output messages for display.   "
   ]
  },
  {
   "cell_type": "code",
   "execution_count": 176,
   "id": "9f6ec226",
   "metadata": {},
   "outputs": [
    {
     "name": "stdout",
     "output_type": "stream",
     "text": [
      "If a grocery store sells ice bags at $ {} per bag, \n",
      "with a profit margin of {}%,\n",
      "then the total profit it makes by selling {} ice bags is ${}.\n"
     ]
    }
   ],
   "source": [
    "# Input variables\n",
    "cost_of_ice_bag = 1.25\n",
    "profit_margin =.2\n",
    "number_of_bags = 500\n",
    "\n",
    "# Template for output message\n",
    "output_template = \"\"\"If a grocery store sells ice bags at $ {} per bag, \n",
    "with a profit margin of {}%,\n",
    "then the total profit it makes by selling {} ice bags is ${}.\"\"\"\n",
    "\n",
    "print(output_template)"
   ]
  },
  {
   "cell_type": "code",
   "execution_count": 177,
   "id": "3216f284",
   "metadata": {},
   "outputs": [
    {
     "name": "stdout",
     "output_type": "stream",
     "text": [
      "If a grocery store sells ice bags at $ 1.25 per bag, \n",
      "with a profit margin of 20.0%,\n",
      "then the total profit it makes by selling 500 ice bags is $125.0.\n"
     ]
    }
   ],
   "source": [
    "# Inserting values into the string.\n",
    "total_profit = cost_of_ice_bag * profit_margin * number_of_bags\n",
    "output_message = output_template.format(cost_of_ice_bag, profit_margin * 100, number_of_bags, total_profit)\n",
    "\n",
    "print(output_message)"
   ]
  },
  {
   "cell_type": "markdown",
   "id": "0fd03a62",
   "metadata": {},
   "source": [
    "* **Notice how the placeholders `{}` in the `output_template` string are replaced with the arguments provided to the `.format` method.**"
   ]
  },
  {
   "cell_type": "markdown",
   "id": "2af3a2ff",
   "metadata": {},
   "source": [
    "* **It is also possible to use the string concatenation operator `+` to combine strings with other values. However, those values must first be converted to strings using the `str` function.**"
   ]
  },
  {
   "cell_type": "code",
   "execution_count": 178,
   "id": "af3962b5",
   "metadata": {
    "scrolled": true
   },
   "outputs": [
    {
     "ename": "TypeError",
     "evalue": "can only concatenate str (not \"float\") to str",
     "output_type": "error",
     "traceback": [
      "\u001b[0;31m---------------------------------------------------------------------------\u001b[0m",
      "\u001b[0;31mTypeError\u001b[0m                                 Traceback (most recent call last)",
      "\u001b[0;32m/tmp/ipykernel_101/3840813251.py\u001b[0m in \u001b[0;36m<module>\u001b[0;34m\u001b[0m\n\u001b[0;32m----> 1\u001b[0;31m \u001b[0;34m\"If a grocery store sells ice bags at $\"\u001b[0m \u001b[0;34m+\u001b[0m \u001b[0mcost_of_ice_bag\u001b[0m \u001b[0;34m+\u001b[0m \u001b[0;34m\", with a profit margin of\"\u001b[0m \u001b[0;34m+\u001b[0m \u001b[0mprofit_margin\u001b[0m\u001b[0;34m\u001b[0m\u001b[0;34m\u001b[0m\u001b[0m\n\u001b[0m",
      "\u001b[0;31mTypeError\u001b[0m: can only concatenate str (not \"float\") to str"
     ]
    }
   ],
   "source": [
    "\"If a grocery store sells ice bags at $\" + cost_of_ice_bag + \", with a profit margin of\" + profit_margin"
   ]
  },
  {
   "cell_type": "markdown",
   "id": "230e82a6",
   "metadata": {},
   "source": [
    "* Note:-We get *errors* when we concatenate direct the variables without using `str` "
   ]
  },
  {
   "cell_type": "code",
   "execution_count": 179,
   "id": "ae90885a",
   "metadata": {},
   "outputs": [
    {
     "data": {
      "text/plain": [
       "'If a grocery store sells ice bags at $1.25, with a profit margin of 20.0%.'"
      ]
     },
     "execution_count": 179,
     "metadata": {},
     "output_type": "execute_result"
    }
   ],
   "source": [
    "\"If a grocery store sells ice bags at $\" + str(cost_of_ice_bag )+ \", with a profit margin of \" + str(profit_margin * 100) + \"%.\""
   ]
  },
  {
   "cell_type": "code",
   "execution_count": 180,
   "id": "d0ed9d29",
   "metadata": {},
   "outputs": [],
   "source": [
    "# Chaging into string type data\n",
    "\n",
    "number_as_string = str(23)"
   ]
  },
  {
   "cell_type": "code",
   "execution_count": 181,
   "id": "355164d6",
   "metadata": {},
   "outputs": [
    {
     "data": {
      "text/plain": [
       "'23'"
      ]
     },
     "execution_count": 181,
     "metadata": {},
     "output_type": "execute_result"
    }
   ],
   "source": [
    "number_as_string"
   ]
  },
  {
   "cell_type": "code",
   "execution_count": 182,
   "id": "df7ed810",
   "metadata": {},
   "outputs": [
    {
     "data": {
      "text/plain": [
       "str"
      ]
     },
     "execution_count": 182,
     "metadata": {},
     "output_type": "execute_result"
    }
   ],
   "source": [
    "type(number_as_string)"
   ]
  },
  {
   "cell_type": "code",
   "execution_count": 183,
   "id": "57267cb6",
   "metadata": {},
   "outputs": [],
   "source": [
    "# Directly changing float into string type data\n",
    "\n",
    "float_as_string = str(22.2358)"
   ]
  },
  {
   "cell_type": "code",
   "execution_count": 184,
   "id": "eef749e5",
   "metadata": {},
   "outputs": [
    {
     "data": {
      "text/plain": [
       "'22.2358'"
      ]
     },
     "execution_count": 184,
     "metadata": {},
     "output_type": "execute_result"
    }
   ],
   "source": [
    "float_as_string"
   ]
  },
  {
   "cell_type": "code",
   "execution_count": 185,
   "id": "a7f0439f",
   "metadata": {},
   "outputs": [
    {
     "data": {
      "text/plain": [
       "str"
      ]
     },
     "execution_count": 185,
     "metadata": {},
     "output_type": "execute_result"
    }
   ],
   "source": [
    "type(float_as_string)"
   ]
  },
  {
   "cell_type": "code",
   "execution_count": 186,
   "id": "cdaab6e2",
   "metadata": {},
   "outputs": [],
   "source": [
    "# Boolean into string\n",
    "\n",
    "bool_as_str=str(True)"
   ]
  },
  {
   "cell_type": "code",
   "execution_count": 187,
   "id": "a96c5f4f",
   "metadata": {},
   "outputs": [
    {
     "data": {
      "text/plain": [
       "'True'"
      ]
     },
     "execution_count": 187,
     "metadata": {},
     "output_type": "execute_result"
    }
   ],
   "source": [
    "bool_as_str"
   ]
  },
  {
   "cell_type": "code",
   "execution_count": 188,
   "id": "27a87a87",
   "metadata": {},
   "outputs": [
    {
     "data": {
      "text/plain": [
       "str"
      ]
     },
     "execution_count": 188,
     "metadata": {},
     "output_type": "execute_result"
    }
   ],
   "source": [
    "type(bool_as_str)"
   ]
  },
  {
   "cell_type": "code",
   "execution_count": 189,
   "id": "25425494",
   "metadata": {},
   "outputs": [
    {
     "data": {
      "text/plain": [
       "\"['Athos', 'Porthos', 'Aramis']\""
      ]
     },
     "execution_count": 189,
     "metadata": {},
     "output_type": "execute_result"
    }
   ],
   "source": [
    "# List type data into string\n",
    "\n",
    "the_3_musketeers = [\"Athos\", \"Porthos\",\"Aramis\"]\n",
    "new_the_3_musketeers = str(the_3_musketeers)\n",
    "new_the_3_musketeers\n"
   ]
  },
  {
   "cell_type": "code",
   "execution_count": 190,
   "id": "7f514075",
   "metadata": {},
   "outputs": [
    {
     "data": {
      "text/plain": [
       "list"
      ]
     },
     "execution_count": 190,
     "metadata": {},
     "output_type": "execute_result"
    }
   ],
   "source": [
    "type(the_3_musketeers)"
   ]
  },
  {
   "cell_type": "code",
   "execution_count": 191,
   "id": "25a93c01",
   "metadata": {},
   "outputs": [
    {
     "data": {
      "text/plain": [
       "str"
      ]
     },
     "execution_count": 191,
     "metadata": {},
     "output_type": "execute_result"
    }
   ],
   "source": [
    "type(new_the_3_musketeers)"
   ]
  },
  {
   "cell_type": "markdown",
   "id": "dd52f159",
   "metadata": {},
   "source": [
    "* Note that all string methods return new values and *DO NOT* change the existing string. You can find here- [Full list of string methods](https://www.w3schools.com/python/python_ref_string.asp)"
   ]
  },
  {
   "cell_type": "markdown",
   "id": "efee94e4",
   "metadata": {},
   "source": [
    "* **String also support the comparison operators `==` and `!=` for checking whether two strings are equal.**"
   ]
  },
  {
   "cell_type": "code",
   "execution_count": 192,
   "id": "216bbc04",
   "metadata": {},
   "outputs": [],
   "source": [
    "full_name=\"Hariom Kumar Verma\""
   ]
  },
  {
   "cell_type": "code",
   "execution_count": 193,
   "id": "38b33852",
   "metadata": {},
   "outputs": [
    {
     "data": {
      "text/plain": [
       "False"
      ]
     },
     "execution_count": 193,
     "metadata": {},
     "output_type": "execute_result"
    }
   ],
   "source": [
    "full_name==\"Verma\""
   ]
  },
  {
   "cell_type": "code",
   "execution_count": 194,
   "id": "d4c9c2bf",
   "metadata": {},
   "outputs": [
    {
     "data": {
      "text/plain": [
       "True"
      ]
     },
     "execution_count": 194,
     "metadata": {},
     "output_type": "execute_result"
    }
   ],
   "source": [
    "full_name == \"Hariom Kumar Verma\""
   ]
  },
  {
   "cell_type": "code",
   "execution_count": 195,
   "id": "c695f2bb",
   "metadata": {},
   "outputs": [
    {
     "data": {
      "text/plain": [
       "True"
      ]
     },
     "execution_count": 195,
     "metadata": {},
     "output_type": "execute_result"
    }
   ],
   "source": [
    "full_name != \"Hariom\""
   ]
  },
  {
   "cell_type": "markdown",
   "id": "03197cf5",
   "metadata": {},
   "source": [
    "* **We have looked at the primitive data types in Python. We are now ready to explore *non-primitive* data structures, also known as *Containers*.**"
   ]
  },
  {
   "cell_type": "markdown",
   "id": "4f1bfcc5",
   "metadata": {},
   "source": [
    "### 1. List :- "
   ]
  },
  {
   "cell_type": "markdown",
   "id": "2deeda59",
   "metadata": {},
   "source": [
    "A list in Python is an ordered collection of values. Lists can hold values of different data types and support operations to add,remove, and change values. Lists have the type `list`."
   ]
  },
  {
   "cell_type": "markdown",
   "id": "b939e4a2",
   "metadata": {},
   "source": [
    "* To create a list, enclose a sequences of values within square brackets `[` and `]` , separately by commas."
   ]
  },
  {
   "cell_type": "code",
   "execution_count": 196,
   "id": "fde0327b",
   "metadata": {},
   "outputs": [],
   "source": [
    "fruits = ['Apple','Banana','Cherry']"
   ]
  },
  {
   "cell_type": "code",
   "execution_count": 197,
   "id": "6d13b98b",
   "metadata": {},
   "outputs": [
    {
     "data": {
      "text/plain": [
       "['Apple', 'Banana', 'Cherry']"
      ]
     },
     "execution_count": 197,
     "metadata": {},
     "output_type": "execute_result"
    }
   ],
   "source": [
    "fruits"
   ]
  },
  {
   "cell_type": "code",
   "execution_count": 198,
   "id": "5c8bd4a3",
   "metadata": {},
   "outputs": [
    {
     "data": {
      "text/plain": [
       "list"
      ]
     },
     "execution_count": 198,
     "metadata": {},
     "output_type": "execute_result"
    }
   ],
   "source": [
    "type(fruits)"
   ]
  },
  {
   "cell_type": "markdown",
   "id": "e3cd0e95",
   "metadata": {},
   "source": [
    "* let's try to creating a list containing values of different data type, including another list."
   ]
  },
  {
   "cell_type": "code",
   "execution_count": 199,
   "id": "c72ce998",
   "metadata": {},
   "outputs": [],
   "source": [
    "a_list = [55,\"Hello\", None, 3.1415, 3>=2, fruits]"
   ]
  },
  {
   "cell_type": "code",
   "execution_count": 200,
   "id": "0c442ecf",
   "metadata": {},
   "outputs": [
    {
     "data": {
      "text/plain": [
       "[55, 'Hello', None, 3.1415, True, ['Apple', 'Banana', 'Cherry']]"
      ]
     },
     "execution_count": 200,
     "metadata": {},
     "output_type": "execute_result"
    }
   ],
   "source": [
    "a_list"
   ]
  },
  {
   "cell_type": "code",
   "execution_count": 201,
   "id": "065b31c9",
   "metadata": {},
   "outputs": [],
   "source": [
    "# Empty list\n",
    "\n",
    "empty_list = []"
   ]
  },
  {
   "cell_type": "code",
   "execution_count": 202,
   "id": "e26fac6a",
   "metadata": {},
   "outputs": [
    {
     "data": {
      "text/plain": [
       "[]"
      ]
     },
     "execution_count": 202,
     "metadata": {},
     "output_type": "execute_result"
    }
   ],
   "source": [
    "empty_list"
   ]
  },
  {
   "cell_type": "markdown",
   "id": "8bb9c2c5",
   "metadata": {},
   "source": [
    "* To determine the number of values in a list, use the `len` function. You can use `len` to determine the number of values in several other data types."
   ]
  },
  {
   "cell_type": "code",
   "execution_count": 203,
   "id": "32d5000b",
   "metadata": {},
   "outputs": [
    {
     "data": {
      "text/plain": [
       "['Apple', 'Banana', 'Cherry']"
      ]
     },
     "execution_count": 203,
     "metadata": {},
     "output_type": "execute_result"
    }
   ],
   "source": [
    "fruits"
   ]
  },
  {
   "cell_type": "code",
   "execution_count": 204,
   "id": "7d7d2e05",
   "metadata": {},
   "outputs": [
    {
     "data": {
      "text/plain": [
       "3"
      ]
     },
     "execution_count": 204,
     "metadata": {},
     "output_type": "execute_result"
    }
   ],
   "source": [
    "len(fruits)"
   ]
  },
  {
   "cell_type": "code",
   "execution_count": 205,
   "id": "c1f6f2c4",
   "metadata": {},
   "outputs": [
    {
     "data": {
      "text/plain": [
       "[55, 'Hello', None, 3.1415, True, ['Apple', 'Banana', 'Cherry']]"
      ]
     },
     "execution_count": 205,
     "metadata": {},
     "output_type": "execute_result"
    }
   ],
   "source": [
    "a_list"
   ]
  },
  {
   "cell_type": "code",
   "execution_count": 206,
   "id": "9157f96b",
   "metadata": {},
   "outputs": [
    {
     "data": {
      "text/plain": [
       "6"
      ]
     },
     "execution_count": 206,
     "metadata": {},
     "output_type": "execute_result"
    }
   ],
   "source": [
    "len(a_list)"
   ]
  },
  {
   "cell_type": "markdown",
   "id": "b6f075da",
   "metadata": {},
   "source": [
    "**Note:-** Here the last element counted as a single element of `a_list`"
   ]
  },
  {
   "cell_type": "code",
   "execution_count": 207,
   "id": "c04fe0c7",
   "metadata": {},
   "outputs": [
    {
     "data": {
      "text/plain": [
       "[]"
      ]
     },
     "execution_count": 207,
     "metadata": {},
     "output_type": "execute_result"
    }
   ],
   "source": [
    "empty_list"
   ]
  },
  {
   "cell_type": "code",
   "execution_count": 208,
   "id": "a2b9ea70",
   "metadata": {},
   "outputs": [
    {
     "data": {
      "text/plain": [
       "0"
      ]
     },
     "execution_count": 208,
     "metadata": {},
     "output_type": "execute_result"
    }
   ],
   "source": [
    "len(empty_list)"
   ]
  },
  {
   "cell_type": "code",
   "execution_count": 209,
   "id": "677bbb9f",
   "metadata": {},
   "outputs": [
    {
     "name": "stdout",
     "output_type": "stream",
     "text": [
      "Number of fruits:  3\n"
     ]
    }
   ],
   "source": [
    "print(\"Number of fruits: \", len(fruits))"
   ]
  },
  {
   "cell_type": "markdown",
   "id": "c6d88e46",
   "metadata": {},
   "source": [
    "* We can access an element from the list using its *index*, e.g.- `fruits[2]` returns the element at index 2 within the list `fruits`. The starting index of a list is `0` to `n-1`. Where `n` is total number of elements with `\",:,\\` counted.   "
   ]
  },
  {
   "cell_type": "code",
   "execution_count": 210,
   "id": "11701231",
   "metadata": {},
   "outputs": [
    {
     "data": {
      "text/plain": [
       "['Apple', 'Banana', 'Cherry']"
      ]
     },
     "execution_count": 210,
     "metadata": {},
     "output_type": "execute_result"
    }
   ],
   "source": [
    "fruits"
   ]
  },
  {
   "cell_type": "code",
   "execution_count": 211,
   "id": "2ef46a32",
   "metadata": {},
   "outputs": [
    {
     "data": {
      "text/plain": [
       "'Apple'"
      ]
     },
     "execution_count": 211,
     "metadata": {},
     "output_type": "execute_result"
    }
   ],
   "source": [
    "# From left to right indexing we use 0 to n-1\n",
    "\n",
    "fruits[0]"
   ]
  },
  {
   "cell_type": "code",
   "execution_count": 212,
   "id": "10b9535d",
   "metadata": {},
   "outputs": [
    {
     "data": {
      "text/plain": [
       "'Cherry'"
      ]
     },
     "execution_count": 212,
     "metadata": {},
     "output_type": "execute_result"
    }
   ],
   "source": [
    "fruits[2]"
   ]
  },
  {
   "cell_type": "code",
   "execution_count": 213,
   "id": "8840558d",
   "metadata": {},
   "outputs": [
    {
     "data": {
      "text/plain": [
       "'Cherry'"
      ]
     },
     "execution_count": 213,
     "metadata": {},
     "output_type": "execute_result"
    }
   ],
   "source": [
    "# From right to left we use negative indexing  starting -1 to -n.\n",
    "\n",
    "fruits[-1]"
   ]
  },
  {
   "cell_type": "code",
   "execution_count": 214,
   "id": "0959b55a",
   "metadata": {},
   "outputs": [
    {
     "data": {
      "text/plain": [
       "'Apple'"
      ]
     },
     "execution_count": 214,
     "metadata": {},
     "output_type": "execute_result"
    }
   ],
   "source": [
    "fruits[-3]"
   ]
  },
  {
   "cell_type": "code",
   "execution_count": 215,
   "id": "0f9cfc86",
   "metadata": {},
   "outputs": [
    {
     "data": {
      "text/plain": [
       "True"
      ]
     },
     "execution_count": 215,
     "metadata": {},
     "output_type": "execute_result"
    }
   ],
   "source": [
    "# Comparing the different indexing number with same output.\n",
    "\n",
    "fruits[0]==fruits[-3]"
   ]
  },
  {
   "cell_type": "code",
   "execution_count": 216,
   "id": "2ab80965",
   "metadata": {},
   "outputs": [
    {
     "ename": "IndexError",
     "evalue": "list index out of range",
     "output_type": "error",
     "traceback": [
      "\u001b[0;31m---------------------------------------------------------------------------\u001b[0m",
      "\u001b[0;31mIndexError\u001b[0m                                Traceback (most recent call last)",
      "\u001b[0;32m/tmp/ipykernel_101/1110469938.py\u001b[0m in \u001b[0;36m<module>\u001b[0;34m\u001b[0m\n\u001b[1;32m      1\u001b[0m \u001b[0;31m# An error for invalid index number.\u001b[0m\u001b[0;34m\u001b[0m\u001b[0;34m\u001b[0m\u001b[0;34m\u001b[0m\u001b[0m\n\u001b[1;32m      2\u001b[0m \u001b[0;34m\u001b[0m\u001b[0m\n\u001b[0;32m----> 3\u001b[0;31m \u001b[0mfruits\u001b[0m\u001b[0;34m[\u001b[0m\u001b[0;36m3\u001b[0m\u001b[0;34m]\u001b[0m\u001b[0;34m\u001b[0m\u001b[0;34m\u001b[0m\u001b[0m\n\u001b[0m",
      "\u001b[0;31mIndexError\u001b[0m: list index out of range"
     ]
    }
   ],
   "source": [
    "# An error for invalid index number.\n",
    "\n",
    "fruits[3]"
   ]
  },
  {
   "cell_type": "markdown",
   "id": "f992207e",
   "metadata": {},
   "source": [
    "* You can also access a range of values from the list. The result is itself a list. Let us look at some examples."
   ]
  },
  {
   "cell_type": "code",
   "execution_count": 217,
   "id": "9513931e",
   "metadata": {},
   "outputs": [
    {
     "data": {
      "text/plain": [
       "[55, 'Hello', None, 3.1415, True, ['Apple', 'Banana', 'Cherry']]"
      ]
     },
     "execution_count": 217,
     "metadata": {},
     "output_type": "execute_result"
    }
   ],
   "source": [
    "a_list"
   ]
  },
  {
   "cell_type": "code",
   "execution_count": 218,
   "id": "ac58a26d",
   "metadata": {},
   "outputs": [
    {
     "ename": "NameError",
     "evalue": "name 'a_listlist' is not defined",
     "output_type": "error",
     "traceback": [
      "\u001b[0;31m---------------------------------------------------------------------------\u001b[0m",
      "\u001b[0;31mNameError\u001b[0m                                 Traceback (most recent call last)",
      "\u001b[0;32m/tmp/ipykernel_101/3252556482.py\u001b[0m in \u001b[0;36m<module>\u001b[0;34m\u001b[0m\n\u001b[0;32m----> 1\u001b[0;31m \u001b[0mlen\u001b[0m\u001b[0;34m(\u001b[0m\u001b[0ma_listlist\u001b[0m\u001b[0;34m)\u001b[0m\u001b[0;34m\u001b[0m\u001b[0;34m\u001b[0m\u001b[0m\n\u001b[0m",
      "\u001b[0;31mNameError\u001b[0m: name 'a_listlist' is not defined"
     ]
    }
   ],
   "source": [
    "len(a_listlist)"
   ]
  },
  {
   "cell_type": "code",
   "execution_count": 219,
   "id": "2217f2c6",
   "metadata": {},
   "outputs": [
    {
     "data": {
      "text/plain": [
       "[None, 3.1415, True]"
      ]
     },
     "execution_count": 219,
     "metadata": {},
     "output_type": "execute_result"
    }
   ],
   "source": [
    "a_list[2:5]"
   ]
  },
  {
   "cell_type": "markdown",
   "id": "60d983a1",
   "metadata": {},
   "source": [
    "**Note :-** The range `2:5` includes the element at the *start index*- `2 = None` but does not include the element at the *End index*- `5 = ['Apple', 'Banana', 'Cherry']`.  \n",
    "So the result has three values (index - `2`, `3`, `4`).  \n",
    "Here are some experiments:"
   ]
  },
  {
   "cell_type": "code",
   "execution_count": 220,
   "id": "296b3433",
   "metadata": {},
   "outputs": [],
   "source": [
    "new_list=[None, 3.1415, \"hello world\", True, False, 99, fruits ]"
   ]
  },
  {
   "cell_type": "code",
   "execution_count": 221,
   "id": "1e31108d",
   "metadata": {},
   "outputs": [
    {
     "data": {
      "text/plain": [
       "[None, 3.1415, 'hello world', True, False, 99, ['Apple', 'Banana', 'Cherry']]"
      ]
     },
     "execution_count": 221,
     "metadata": {},
     "output_type": "execute_result"
    }
   ],
   "source": [
    "new_list"
   ]
  },
  {
   "cell_type": "code",
   "execution_count": 222,
   "id": "5396c6c9",
   "metadata": {},
   "outputs": [
    {
     "data": {
      "text/plain": [
       "7"
      ]
     },
     "execution_count": 222,
     "metadata": {},
     "output_type": "execute_result"
    }
   ],
   "source": [
    "len(new_list)"
   ]
  },
  {
   "cell_type": "code",
   "execution_count": 223,
   "id": "3af9f05a",
   "metadata": {},
   "outputs": [
    {
     "data": {
      "text/plain": [
       "['Apple', 'Banana', 'Cherry']"
      ]
     },
     "execution_count": 223,
     "metadata": {},
     "output_type": "execute_result"
    }
   ],
   "source": [
    "new_list[6]"
   ]
  },
  {
   "cell_type": "code",
   "execution_count": 224,
   "id": "da066216",
   "metadata": {},
   "outputs": [
    {
     "ename": "IndexError",
     "evalue": "list index out of range",
     "output_type": "error",
     "traceback": [
      "\u001b[0;31m---------------------------------------------------------------------------\u001b[0m",
      "\u001b[0;31mIndexError\u001b[0m                                Traceback (most recent call last)",
      "\u001b[0;32m/tmp/ipykernel_101/105393148.py\u001b[0m in \u001b[0;36m<module>\u001b[0;34m\u001b[0m\n\u001b[1;32m      1\u001b[0m \u001b[0;31m# See what happens when we perform beyond index number.\u001b[0m\u001b[0;34m\u001b[0m\u001b[0;34m\u001b[0m\u001b[0;34m\u001b[0m\u001b[0m\n\u001b[1;32m      2\u001b[0m \u001b[0;34m\u001b[0m\u001b[0m\n\u001b[0;32m----> 3\u001b[0;31m \u001b[0mnew_list\u001b[0m\u001b[0;34m[\u001b[0m\u001b[0;36m7\u001b[0m\u001b[0;34m]\u001b[0m\u001b[0;34m\u001b[0m\u001b[0;34m\u001b[0m\u001b[0m\n\u001b[0m",
      "\u001b[0;31mIndexError\u001b[0m: list index out of range"
     ]
    }
   ],
   "source": [
    "# See what happens when we perform beyond index number.\n",
    "\n",
    "new_list[7]"
   ]
  },
  {
   "cell_type": "code",
   "execution_count": 225,
   "id": "ff037056",
   "metadata": {},
   "outputs": [
    {
     "data": {
      "text/plain": [
       "['hello world', True, False, 99]"
      ]
     },
     "execution_count": 225,
     "metadata": {},
     "output_type": "execute_result"
    }
   ],
   "source": [
    "new_list[2:6]"
   ]
  },
  {
   "cell_type": "code",
   "execution_count": 226,
   "id": "585aa65c",
   "metadata": {},
   "outputs": [
    {
     "data": {
      "text/plain": [
       "['hello world', True, False, 99, ['Apple', 'Banana', 'Cherry']]"
      ]
     },
     "execution_count": 226,
     "metadata": {},
     "output_type": "execute_result"
    }
   ],
   "source": [
    "# Notice the output when we perform slicing beyond the index number\n",
    "\n",
    "new_list[2:10]"
   ]
  },
  {
   "cell_type": "markdown",
   "id": "0776ec0c",
   "metadata": {},
   "source": [
    "> It include all the elements after index-2 to index- 6 after giving end slicing number-10 "
   ]
  },
  {
   "cell_type": "code",
   "execution_count": 227,
   "id": "78a129b6",
   "metadata": {},
   "outputs": [
    {
     "data": {
      "text/plain": [
       "[]"
      ]
     },
     "execution_count": 227,
     "metadata": {},
     "output_type": "execute_result"
    }
   ],
   "source": [
    "new_list[10:2]"
   ]
  },
  {
   "cell_type": "markdown",
   "id": "2c1bfbd9",
   "metadata": {},
   "source": [
    "> * Conclusion :- It always returns the empty list because our staring index is not valid. "
   ]
  },
  {
   "cell_type": "code",
   "execution_count": 228,
   "id": "209a18dc",
   "metadata": {},
   "outputs": [
    {
     "data": {
      "text/plain": [
       "[None, 3.1415, 'hello world', True, False]"
      ]
     },
     "execution_count": 228,
     "metadata": {},
     "output_type": "execute_result"
    }
   ],
   "source": [
    "# Without defining Start index.\n",
    "\n",
    "new_list[:5]"
   ]
  },
  {
   "cell_type": "markdown",
   "id": "3712d0d6",
   "metadata": {},
   "source": [
    "> * Conclusion :-  It start from `index-0` to the given end index number"
   ]
  },
  {
   "cell_type": "code",
   "execution_count": 229,
   "id": "ee6dd113",
   "metadata": {},
   "outputs": [
    {
     "data": {
      "text/plain": [
       "['hello world', True, False, 99, ['Apple', 'Banana', 'Cherry']]"
      ]
     },
     "execution_count": 229,
     "metadata": {},
     "output_type": "execute_result"
    }
   ],
   "source": [
    "# Without defining End index.\n",
    "\n",
    "new_list[2:]"
   ]
  },
  {
   "cell_type": "markdown",
   "id": "e3473539",
   "metadata": {},
   "source": [
    "> * Conclusion :- It start from given index number to the last element of the list."
   ]
  },
  {
   "cell_type": "code",
   "execution_count": 230,
   "id": "3ce7b87f",
   "metadata": {},
   "outputs": [
    {
     "data": {
      "text/plain": [
       "[None, 3.1415, 'hello world', True, False, 99, ['Apple', 'Banana', 'Cherry']]"
      ]
     },
     "execution_count": 230,
     "metadata": {},
     "output_type": "execute_result"
    }
   ],
   "source": [
    "new_list"
   ]
  },
  {
   "cell_type": "code",
   "execution_count": 231,
   "id": "5bbed58f",
   "metadata": {},
   "outputs": [
    {
     "data": {
      "text/plain": [
       "[]"
      ]
     },
     "execution_count": 231,
     "metadata": {},
     "output_type": "execute_result"
    }
   ],
   "source": [
    "# Trying with negative indexing.\n",
    "\n",
    "new_list[-2:-4]"
   ]
  },
  {
   "cell_type": "code",
   "execution_count": 232,
   "id": "f24b9da8",
   "metadata": {},
   "outputs": [
    {
     "data": {
      "text/plain": [
       "['hello world', True, False, 99]"
      ]
     },
     "execution_count": 232,
     "metadata": {},
     "output_type": "execute_result"
    }
   ],
   "source": [
    "new_list[-5:-1]"
   ]
  },
  {
   "cell_type": "markdown",
   "id": "8c61056c",
   "metadata": {},
   "source": [
    "> Note :- Here if `starting index no. < ending index no.` then output is empty list-`[]`.     "
   ]
  },
  {
   "cell_type": "markdown",
   "id": "1c26dcd8",
   "metadata": {},
   "source": [
    "> *Conclusion :-* When we indexing in negative term our Starting index number must be grater than Ending indexing number."
   ]
  },
  {
   "cell_type": "code",
   "execution_count": 233,
   "id": "41f75ce9",
   "metadata": {},
   "outputs": [
    {
     "data": {
      "text/plain": [
       "['hello world', True, False, 99, ['Apple', 'Banana', 'Cherry']]"
      ]
     },
     "execution_count": 233,
     "metadata": {},
     "output_type": "execute_result"
    }
   ],
   "source": [
    "new_list[-5:]"
   ]
  },
  {
   "cell_type": "markdown",
   "id": "2008c803",
   "metadata": {},
   "source": [
    "> Conclusion :- From index `-5 = 'hello world'` to the end of the list."
   ]
  },
  {
   "cell_type": "code",
   "execution_count": 234,
   "id": "b927d93e",
   "metadata": {},
   "outputs": [
    {
     "data": {
      "text/plain": [
       "[None, 3.1415, 'hello world', True, False, 99, ['Apple', 'Banana', 'Cherry']]"
      ]
     },
     "execution_count": 234,
     "metadata": {},
     "output_type": "execute_result"
    }
   ],
   "source": [
    "new_list[-10:]"
   ]
  },
  {
   "cell_type": "markdown",
   "id": "c719517e",
   "metadata": {},
   "source": [
    "> Conclusion :- From staring to end."
   ]
  },
  {
   "cell_type": "code",
   "execution_count": 235,
   "id": "c4a6ef7d",
   "metadata": {},
   "outputs": [
    {
     "data": {
      "text/plain": [
       "[None, 3.1415, 'hello world', True, False, 99]"
      ]
     },
     "execution_count": 235,
     "metadata": {},
     "output_type": "execute_result"
    }
   ],
   "source": [
    "new_list[:-1]"
   ]
  },
  {
   "cell_type": "code",
   "execution_count": 236,
   "id": "8226dcfa",
   "metadata": {},
   "outputs": [
    {
     "data": {
      "text/plain": [
       "[]"
      ]
     },
     "execution_count": 236,
     "metadata": {},
     "output_type": "execute_result"
    }
   ],
   "source": [
    "new_list[:-10]  # This list is direction less. Therefore comands output is empty."
   ]
  },
  {
   "cell_type": "markdown",
   "id": "7f819b50",
   "metadata": {},
   "source": [
    "* **You can also change the value at a specific index within a list using the assignment  operation.**"
   ]
  },
  {
   "cell_type": "code",
   "execution_count": 549,
   "id": "90bd84be",
   "metadata": {},
   "outputs": [],
   "source": [
    "fruits=[\"Apple\",'Banana',\"Orange\"]"
   ]
  },
  {
   "cell_type": "code",
   "execution_count": 550,
   "id": "848800c2",
   "metadata": {},
   "outputs": [
    {
     "data": {
      "text/plain": [
       "['Apple', 'Banana', 'Orange']"
      ]
     },
     "execution_count": 550,
     "metadata": {},
     "output_type": "execute_result"
    }
   ],
   "source": [
    "fruits"
   ]
  },
  {
   "cell_type": "code",
   "execution_count": 551,
   "id": "25c1121c",
   "metadata": {},
   "outputs": [],
   "source": [
    "fruits[1]='Blueberry' # this comand replace the value of the 1th position element with '' element."
   ]
  },
  {
   "cell_type": "code",
   "execution_count": 552,
   "id": "7861927b",
   "metadata": {},
   "outputs": [
    {
     "data": {
      "text/plain": [
       "['Apple', 'Blueberry', 'Orange']"
      ]
     },
     "execution_count": 552,
     "metadata": {},
     "output_type": "execute_result"
    }
   ],
   "source": [
    "fruits"
   ]
  },
  {
   "cell_type": "code",
   "execution_count": 553,
   "id": "26c99a17",
   "metadata": {},
   "outputs": [],
   "source": [
    "fruits[0]=\"Mango\""
   ]
  },
  {
   "cell_type": "code",
   "execution_count": 554,
   "id": "f84b7642",
   "metadata": {},
   "outputs": [
    {
     "data": {
      "text/plain": [
       "['Mango', 'Blueberry', 'Orange']"
      ]
     },
     "execution_count": 554,
     "metadata": {},
     "output_type": "execute_result"
    }
   ],
   "source": [
    "fruits"
   ]
  },
  {
   "cell_type": "code",
   "execution_count": 555,
   "id": "1a9a07d2",
   "metadata": {},
   "outputs": [],
   "source": [
    "# fruits[0:2]=\"Cherry\" # This one is meanning less see the output."
   ]
  },
  {
   "cell_type": "code",
   "execution_count": 556,
   "id": "084a8978",
   "metadata": {},
   "outputs": [
    {
     "data": {
      "text/plain": [
       "['Mango', 'Blueberry', 'Orange']"
      ]
     },
     "execution_count": 556,
     "metadata": {},
     "output_type": "execute_result"
    }
   ],
   "source": [
    "fruits"
   ]
  },
  {
   "cell_type": "markdown",
   "id": "e3960ecb",
   "metadata": {},
   "source": [
    "* **A new value can be added to the end of a list using the `.append` method.**"
   ]
  },
  {
   "cell_type": "code",
   "execution_count": 557,
   "id": "7a347ba6",
   "metadata": {},
   "outputs": [
    {
     "data": {
      "text/plain": [
       "['Mango', 'Blueberry', 'Orange']"
      ]
     },
     "execution_count": 557,
     "metadata": {},
     "output_type": "execute_result"
    }
   ],
   "source": [
    "fruits"
   ]
  },
  {
   "cell_type": "code",
   "execution_count": 558,
   "id": "8793aedb",
   "metadata": {},
   "outputs": [],
   "source": [
    "fruits.append('Dates')"
   ]
  },
  {
   "cell_type": "code",
   "execution_count": 559,
   "id": "f6e9fdd7",
   "metadata": {},
   "outputs": [
    {
     "data": {
      "text/plain": [
       "['Mango', 'Blueberry', 'Orange', 'Dates']"
      ]
     },
     "execution_count": 559,
     "metadata": {},
     "output_type": "execute_result"
    }
   ],
   "source": [
    "fruits"
   ]
  },
  {
   "cell_type": "code",
   "execution_count": 560,
   "id": "803cafb6",
   "metadata": {},
   "outputs": [],
   "source": [
    "fruits.append('Cherry')  #You can see how the 'Cherry' added as a last element in the list."
   ]
  },
  {
   "cell_type": "code",
   "execution_count": 561,
   "id": "6ef7cef0",
   "metadata": {},
   "outputs": [
    {
     "data": {
      "text/plain": [
       "['Mango', 'Blueberry', 'Orange', 'Dates', 'Cherry']"
      ]
     },
     "execution_count": 561,
     "metadata": {},
     "output_type": "execute_result"
    }
   ],
   "source": [
    "fruits"
   ]
  },
  {
   "cell_type": "markdown",
   "id": "ee01d0f2",
   "metadata": {},
   "source": [
    "* **A new value can also be inserted at a specific index using the `.insert` method.**"
   ]
  },
  {
   "cell_type": "code",
   "execution_count": 562,
   "id": "e06b83b1",
   "metadata": {},
   "outputs": [
    {
     "data": {
      "text/plain": [
       "['Mango', 'Blueberry', 'Orange', 'Dates', 'Cherry']"
      ]
     },
     "execution_count": 562,
     "metadata": {},
     "output_type": "execute_result"
    }
   ],
   "source": [
    "fruits"
   ]
  },
  {
   "cell_type": "code",
   "execution_count": 563,
   "id": "2ee83a19",
   "metadata": {},
   "outputs": [],
   "source": [
    "fruits.insert(1,'banana')"
   ]
  },
  {
   "cell_type": "code",
   "execution_count": 564,
   "id": "9b9075e6",
   "metadata": {},
   "outputs": [
    {
     "data": {
      "text/plain": [
       "['Mango', 'banana', 'Blueberry', 'Orange', 'Dates', 'Cherry']"
      ]
     },
     "execution_count": 564,
     "metadata": {},
     "output_type": "execute_result"
    }
   ],
   "source": [
    "fruits"
   ]
  },
  {
   "cell_type": "code",
   "execution_count": 565,
   "id": "cce367be",
   "metadata": {},
   "outputs": [],
   "source": [
    "fruits.insert(0,'apple') # This is always insert the '' element at the given index number, see the output."
   ]
  },
  {
   "cell_type": "code",
   "execution_count": 566,
   "id": "b5979661",
   "metadata": {},
   "outputs": [
    {
     "data": {
      "text/plain": [
       "['apple', 'Mango', 'banana', 'Blueberry', 'Orange', 'Dates', 'Cherry']"
      ]
     },
     "execution_count": 566,
     "metadata": {},
     "output_type": "execute_result"
    }
   ],
   "source": [
    "fruits"
   ]
  },
  {
   "cell_type": "markdown",
   "id": "7f6ef685",
   "metadata": {},
   "source": [
    "* **You can remove a value from a list using the `.remove` method.**"
   ]
  },
  {
   "cell_type": "code",
   "execution_count": 567,
   "id": "58a0ec8e",
   "metadata": {},
   "outputs": [
    {
     "data": {
      "text/plain": [
       "['apple', 'Mango', 'banana', 'Blueberry', 'Orange', 'Dates', 'Cherry']"
      ]
     },
     "execution_count": 567,
     "metadata": {},
     "output_type": "execute_result"
    }
   ],
   "source": [
    "fruits"
   ]
  },
  {
   "cell_type": "code",
   "execution_count": 568,
   "id": "99d914d5",
   "metadata": {},
   "outputs": [],
   "source": [
    "fruits.remove('banana')"
   ]
  },
  {
   "cell_type": "code",
   "execution_count": 569,
   "id": "bedd963f",
   "metadata": {},
   "outputs": [
    {
     "data": {
      "text/plain": [
       "['apple', 'Mango', 'Blueberry', 'Orange', 'Dates', 'Cherry']"
      ]
     },
     "execution_count": 569,
     "metadata": {},
     "output_type": "execute_result"
    }
   ],
   "source": [
    "fruits"
   ]
  },
  {
   "cell_type": "code",
   "execution_count": 570,
   "id": "0d76d1a6",
   "metadata": {},
   "outputs": [],
   "source": [
    "# fruits.remove('apple','Dates') # This will show error because \"list.remove()\" takes only one value."
   ]
  },
  {
   "cell_type": "code",
   "execution_count": 571,
   "id": "3059a9ff",
   "metadata": {},
   "outputs": [],
   "source": [
    "fruits.remove('Dates')"
   ]
  },
  {
   "cell_type": "code",
   "execution_count": 572,
   "id": "9c070f10",
   "metadata": {},
   "outputs": [
    {
     "data": {
      "text/plain": [
       "['apple', 'Mango', 'Blueberry', 'Orange', 'Cherry']"
      ]
     },
     "execution_count": 572,
     "metadata": {},
     "output_type": "execute_result"
    }
   ],
   "source": [
    "fruits"
   ]
  },
  {
   "cell_type": "markdown",
   "id": "0688f214",
   "metadata": {},
   "source": [
    "* **To remove an element from a specific index, use the `.pop` method. The method also returns the removed element.**"
   ]
  },
  {
   "cell_type": "code",
   "execution_count": 573,
   "id": "6286738f",
   "metadata": {},
   "outputs": [
    {
     "data": {
      "text/plain": [
       "['apple', 'Mango', 'Blueberry', 'Orange', 'Cherry']"
      ]
     },
     "execution_count": 573,
     "metadata": {},
     "output_type": "execute_result"
    }
   ],
   "source": [
    "fruits"
   ]
  },
  {
   "cell_type": "code",
   "execution_count": 574,
   "id": "b6d6bc50",
   "metadata": {},
   "outputs": [
    {
     "data": {
      "text/plain": [
       "'Mango'"
      ]
     },
     "execution_count": 574,
     "metadata": {},
     "output_type": "execute_result"
    }
   ],
   "source": [
    "fruits.pop(1) # The the output. The output will be removed from the list."
   ]
  },
  {
   "cell_type": "code",
   "execution_count": 575,
   "id": "f3e810d6",
   "metadata": {},
   "outputs": [
    {
     "data": {
      "text/plain": [
       "['apple', 'Blueberry', 'Orange', 'Cherry']"
      ]
     },
     "execution_count": 575,
     "metadata": {},
     "output_type": "execute_result"
    }
   ],
   "source": [
    "fruits"
   ]
  },
  {
   "cell_type": "code",
   "execution_count": 576,
   "id": "2ac19089",
   "metadata": {},
   "outputs": [],
   "source": [
    "# fruits.pop(0:1)  # This will show error because pop takes only one index at a time."
   ]
  },
  {
   "cell_type": "markdown",
   "id": "43e374c5",
   "metadata": {},
   "source": [
    "* **If no index is provided, the `pop` method removes the last element of the list.**"
   ]
  },
  {
   "cell_type": "code",
   "execution_count": 577,
   "id": "b2334571",
   "metadata": {},
   "outputs": [
    {
     "data": {
      "text/plain": [
       "['apple', 'Blueberry', 'Orange', 'Cherry']"
      ]
     },
     "execution_count": 577,
     "metadata": {},
     "output_type": "execute_result"
    }
   ],
   "source": [
    "fruits"
   ]
  },
  {
   "cell_type": "code",
   "execution_count": 578,
   "id": "8fd3f769",
   "metadata": {},
   "outputs": [
    {
     "data": {
      "text/plain": [
       "'Cherry'"
      ]
     },
     "execution_count": 578,
     "metadata": {},
     "output_type": "execute_result"
    }
   ],
   "source": [
    "fruits.pop()"
   ]
  },
  {
   "cell_type": "code",
   "execution_count": 579,
   "id": "6e1bfc6a",
   "metadata": {},
   "outputs": [
    {
     "data": {
      "text/plain": [
       "['apple', 'Blueberry', 'Orange']"
      ]
     },
     "execution_count": 579,
     "metadata": {},
     "output_type": "execute_result"
    }
   ],
   "source": [
    "fruits"
   ]
  },
  {
   "cell_type": "code",
   "execution_count": 580,
   "id": "9800554d",
   "metadata": {},
   "outputs": [
    {
     "data": {
      "text/plain": [
       "'Orange'"
      ]
     },
     "execution_count": 580,
     "metadata": {},
     "output_type": "execute_result"
    }
   ],
   "source": [
    "fruits.pop() # See the output. How pop method remove the last element when we doesn't provide index number."
   ]
  },
  {
   "cell_type": "code",
   "execution_count": 581,
   "id": "cf1fe264",
   "metadata": {},
   "outputs": [
    {
     "data": {
      "text/plain": [
       "['apple', 'Blueberry']"
      ]
     },
     "execution_count": 581,
     "metadata": {},
     "output_type": "execute_result"
    }
   ],
   "source": [
    "fruits"
   ]
  },
  {
   "cell_type": "markdown",
   "id": "3d3f3816",
   "metadata": {},
   "source": [
    "* **We can check weather a list contains a value using the `in` operator.**"
   ]
  },
  {
   "cell_type": "code",
   "execution_count": 582,
   "id": "f5b793bc",
   "metadata": {},
   "outputs": [
    {
     "data": {
      "text/plain": [
       "['apple', 'Blueberry']"
      ]
     },
     "execution_count": 582,
     "metadata": {},
     "output_type": "execute_result"
    }
   ],
   "source": [
    "fruits"
   ]
  },
  {
   "cell_type": "code",
   "execution_count": 583,
   "id": "3190c271",
   "metadata": {},
   "outputs": [
    {
     "data": {
      "text/plain": [
       "False"
      ]
     },
     "execution_count": 583,
     "metadata": {},
     "output_type": "execute_result"
    }
   ],
   "source": [
    "'Banana' in fruits"
   ]
  },
  {
   "cell_type": "code",
   "execution_count": 584,
   "id": "42278636",
   "metadata": {},
   "outputs": [
    {
     "data": {
      "text/plain": [
       "False"
      ]
     },
     "execution_count": 584,
     "metadata": {},
     "output_type": "execute_result"
    }
   ],
   "source": [
    "'Apple' in fruits #Python is case sensetive therefore output will be False."
   ]
  },
  {
   "cell_type": "code",
   "execution_count": 585,
   "id": "cca43e4b",
   "metadata": {},
   "outputs": [
    {
     "data": {
      "text/plain": [
       "True"
      ]
     },
     "execution_count": 585,
     "metadata": {},
     "output_type": "execute_result"
    }
   ],
   "source": [
    "'apple' in fruits"
   ]
  },
  {
   "cell_type": "markdown",
   "id": "349f3378",
   "metadata": {},
   "source": [
    "* **To combine two or more lists, use the `+` operator is also called *Concatenation*.**"
   ]
  },
  {
   "cell_type": "code",
   "execution_count": 586,
   "id": "921eb64e",
   "metadata": {},
   "outputs": [
    {
     "data": {
      "text/plain": [
       "['apple', 'Blueberry']"
      ]
     },
     "execution_count": 586,
     "metadata": {},
     "output_type": "execute_result"
    }
   ],
   "source": [
    "fruits"
   ]
  },
  {
   "cell_type": "code",
   "execution_count": 587,
   "id": "a76e6ed4",
   "metadata": {},
   "outputs": [],
   "source": [
    "fruits = fruits + [\"banana\",\"orange\"] + ['dates', 'guava']"
   ]
  },
  {
   "cell_type": "code",
   "execution_count": 588,
   "id": "baa6a302",
   "metadata": {},
   "outputs": [
    {
     "data": {
      "text/plain": [
       "['apple', 'Blueberry', 'banana', 'orange', 'dates', 'guava']"
      ]
     },
     "execution_count": 588,
     "metadata": {},
     "output_type": "execute_result"
    }
   ],
   "source": [
    "fruits"
   ]
  },
  {
   "cell_type": "code",
   "execution_count": 589,
   "id": "aef775ef",
   "metadata": {},
   "outputs": [],
   "source": [
    "# fruits - ['apple'] # There isn't such command for removing the elements."
   ]
  },
  {
   "cell_type": "markdown",
   "id": "5db87fdd",
   "metadata": {},
   "source": [
    "* **To create a copy of a list, use the `.copy` method. Modifying the copied list does not affect the original.**"
   ]
  },
  {
   "cell_type": "code",
   "execution_count": 590,
   "id": "ae44693e",
   "metadata": {},
   "outputs": [],
   "source": [
    "fruits_copy = fruits.copy()"
   ]
  },
  {
   "cell_type": "code",
   "execution_count": 591,
   "id": "eda5bf8d",
   "metadata": {},
   "outputs": [
    {
     "data": {
      "text/plain": [
       "['apple', 'Blueberry', 'banana', 'orange', 'dates', 'guava']"
      ]
     },
     "execution_count": 591,
     "metadata": {},
     "output_type": "execute_result"
    }
   ],
   "source": [
    "fruits_copy"
   ]
  },
  {
   "cell_type": "code",
   "execution_count": 592,
   "id": "db298f76",
   "metadata": {},
   "outputs": [
    {
     "data": {
      "text/plain": [
       "['apple', 'Blueberry', 'orange', 'dates']"
      ]
     },
     "execution_count": 592,
     "metadata": {},
     "output_type": "execute_result"
    }
   ],
   "source": [
    "# Modify the copy\n",
    "fruits_copy.remove('banana')\n",
    "fruits_copy.pop()\n",
    "fruits_copy"
   ]
  },
  {
   "cell_type": "code",
   "execution_count": 593,
   "id": "d972b5df",
   "metadata": {},
   "outputs": [
    {
     "data": {
      "text/plain": [
       "['apple', 'Blueberry', 'banana', 'orange', 'dates', 'guava']"
      ]
     },
     "execution_count": 593,
     "metadata": {},
     "output_type": "execute_result"
    }
   ],
   "source": [
    "fruits # See the differences between 'fruits' and 'fruits-copy' with modify version."
   ]
  },
  {
   "cell_type": "markdown",
   "id": "cf9cc8f5",
   "metadata": {},
   "source": [
    "* Note:- You can not create a copy of a list by simply creating a new variable using \"assignment\" operator `=`. The new variable will point to the same list, and any modifications perform using either variable will affect the other."
   ]
  },
  {
   "cell_type": "code",
   "execution_count": 594,
   "id": "0d71cb62",
   "metadata": {},
   "outputs": [
    {
     "data": {
      "text/plain": [
       "['apple', 'Blueberry', 'orange', 'dates']"
      ]
     },
     "execution_count": 594,
     "metadata": {},
     "output_type": "execute_result"
    }
   ],
   "source": [
    "fruits_copy"
   ]
  },
  {
   "cell_type": "code",
   "execution_count": 595,
   "id": "87dc4daf",
   "metadata": {},
   "outputs": [],
   "source": [
    "not_a_fruits_copy = fruits_copy"
   ]
  },
  {
   "cell_type": "code",
   "execution_count": 596,
   "id": "b2b4e70c",
   "metadata": {},
   "outputs": [
    {
     "data": {
      "text/plain": [
       "['apple', 'Blueberry', 'orange', 'dates']"
      ]
     },
     "execution_count": 596,
     "metadata": {},
     "output_type": "execute_result"
    }
   ],
   "source": [
    "not_a_fruits_copy"
   ]
  },
  {
   "cell_type": "code",
   "execution_count": 597,
   "id": "bac59b39",
   "metadata": {},
   "outputs": [
    {
     "data": {
      "text/plain": [
       "'dates'"
      ]
     },
     "execution_count": 597,
     "metadata": {},
     "output_type": "execute_result"
    }
   ],
   "source": [
    "not_a_fruits_copy.pop()"
   ]
  },
  {
   "cell_type": "code",
   "execution_count": 598,
   "id": "8536dceb",
   "metadata": {},
   "outputs": [
    {
     "data": {
      "text/plain": [
       "['apple', 'Blueberry', 'orange']"
      ]
     },
     "execution_count": 598,
     "metadata": {},
     "output_type": "execute_result"
    }
   ],
   "source": [
    "not_a_fruits_copy"
   ]
  },
  {
   "cell_type": "code",
   "execution_count": 599,
   "id": "dfe9f5c9",
   "metadata": {},
   "outputs": [
    {
     "data": {
      "text/plain": [
       "['apple', 'Blueberry', 'orange']"
      ]
     },
     "execution_count": 599,
     "metadata": {},
     "output_type": "execute_result"
    }
   ],
   "source": [
    "fruits_copy"
   ]
  },
  {
   "cell_type": "code",
   "execution_count": 600,
   "id": "b10041bc",
   "metadata": {},
   "outputs": [],
   "source": [
    "fruits_copy = fruits_copy +['guava']"
   ]
  },
  {
   "cell_type": "code",
   "execution_count": 601,
   "id": "f3c07ac8",
   "metadata": {},
   "outputs": [
    {
     "data": {
      "text/plain": [
       "['apple', 'Blueberry', 'orange', 'guava']"
      ]
     },
     "execution_count": 601,
     "metadata": {},
     "output_type": "execute_result"
    }
   ],
   "source": [
    "fruits_copy"
   ]
  },
  {
   "cell_type": "code",
   "execution_count": 602,
   "id": "249da2f2",
   "metadata": {},
   "outputs": [
    {
     "data": {
      "text/plain": [
       "['apple', 'Blueberry', 'orange']"
      ]
     },
     "execution_count": 602,
     "metadata": {},
     "output_type": "execute_result"
    }
   ],
   "source": [
    "not_a_fruits_copy"
   ]
  },
  {
   "cell_type": "markdown",
   "id": "c8d54752",
   "metadata": {},
   "source": [
    "* Just like strings, there are several in-built methods to manipulate a list. However, unlike strings, most list methods modify the original list rather than returning a new one. Check out some common list operators [here](https://www.w3schools.com/python/python_ref_list.asp).  \n",
    "\n",
    "Following are some exercises you can try out with list methods (use the below cell.)  \n",
    "* Reverse the order of elements in a list.\n",
    "* Add the elements of one list at the end of another list.\n",
    "* Sort a list of string in alphabetical order\n",
    "* Sort a list of numbers in decreasing order"
   ]
  },
  {
   "cell_type": "markdown",
   "id": "7f71fc5c",
   "metadata": {},
   "source": [
    "1. Command for reverse the order of elements in a list:-"
   ]
  },
  {
   "cell_type": "code",
   "execution_count": 603,
   "id": "16086565",
   "metadata": {},
   "outputs": [
    {
     "data": {
      "text/plain": [
       "['Hariom', 'Nirbhay', 'Vivek']"
      ]
     },
     "execution_count": 603,
     "metadata": {},
     "output_type": "execute_result"
    }
   ],
   "source": [
    "# We use the .reverse() method to reverse the list.\n",
    "name_list=['Hariom','Nirbhay',\"Vivek\"]\n",
    "name_list"
   ]
  },
  {
   "cell_type": "code",
   "execution_count": 604,
   "id": "fc31bde6",
   "metadata": {},
   "outputs": [
    {
     "data": {
      "text/plain": [
       "['Vivek', 'Nirbhay', 'Hariom']"
      ]
     },
     "execution_count": 604,
     "metadata": {},
     "output_type": "execute_result"
    }
   ],
   "source": [
    "name_list.reverse()\n",
    "name_list"
   ]
  },
  {
   "cell_type": "code",
   "execution_count": 605,
   "id": "7aca855d",
   "metadata": {},
   "outputs": [
    {
     "data": {
      "text/plain": [
       "['Hariom', 'Nirbhay', 'Vivek']"
      ]
     },
     "execution_count": 605,
     "metadata": {},
     "output_type": "execute_result"
    }
   ],
   "source": [
    "name_list.reverse()\n",
    "name_list"
   ]
  },
  {
   "cell_type": "markdown",
   "id": "18b13e95",
   "metadata": {},
   "source": [
    "2. Command to add the elements of one list at the end of the another list:-"
   ]
  },
  {
   "cell_type": "code",
   "execution_count": 606,
   "id": "71516cfa",
   "metadata": {},
   "outputs": [
    {
     "data": {
      "text/plain": [
       "['Arti', 'Arya', 'Manisha']"
      ]
     },
     "execution_count": 606,
     "metadata": {},
     "output_type": "execute_result"
    }
   ],
   "source": [
    "# We can add the elements of one list at the end of the another list using \".extend\" method\n",
    "new_name_list = ['Arti','Arya','Manisha']\n",
    "new_name_list"
   ]
  },
  {
   "cell_type": "code",
   "execution_count": 607,
   "id": "111b113b",
   "metadata": {},
   "outputs": [
    {
     "data": {
      "text/plain": [
       "['Hariom', 'Nirbhay', 'Vivek']"
      ]
     },
     "execution_count": 607,
     "metadata": {},
     "output_type": "execute_result"
    }
   ],
   "source": [
    "name_list"
   ]
  },
  {
   "cell_type": "code",
   "execution_count": 608,
   "id": "3e51a49e",
   "metadata": {},
   "outputs": [
    {
     "data": {
      "text/plain": [
       "['Hariom', 'Nirbhay', 'Vivek', 'Arti', 'Arya', 'Manisha']"
      ]
     },
     "execution_count": 608,
     "metadata": {},
     "output_type": "execute_result"
    }
   ],
   "source": [
    "# extention of name_list using '.extend' list. \n",
    "name_list.extend(new_name_list)\n",
    "name_list"
   ]
  },
  {
   "cell_type": "markdown",
   "id": "1319a493",
   "metadata": {},
   "source": [
    "3. Command to sort the list in alphabetic order:-"
   ]
  },
  {
   "cell_type": "code",
   "execution_count": 609,
   "id": "40e4d067",
   "metadata": {},
   "outputs": [
    {
     "data": {
      "text/plain": [
       "['Hariom', 'Nirbhay', 'Vivek', 'Arti', 'Arya', 'Manisha']"
      ]
     },
     "execution_count": 609,
     "metadata": {},
     "output_type": "execute_result"
    }
   ],
   "source": [
    "# We can short the list in alphabetic order using `.sort` method.\n",
    "name_list"
   ]
  },
  {
   "cell_type": "code",
   "execution_count": 610,
   "id": "f70725e3",
   "metadata": {},
   "outputs": [
    {
     "data": {
      "text/plain": [
       "['Arti', 'Arya', 'Hariom', 'Manisha', 'Nirbhay', 'Vivek']"
      ]
     },
     "execution_count": 610,
     "metadata": {},
     "output_type": "execute_result"
    }
   ],
   "source": [
    "name_list.sort()\n",
    "name_list"
   ]
  },
  {
   "cell_type": "code",
   "execution_count": 611,
   "id": "d5d01024",
   "metadata": {},
   "outputs": [
    {
     "data": {
      "text/plain": [
       "['apple', 'Blueberry', 'banana', 'orange', 'dates', 'guava']"
      ]
     },
     "execution_count": 611,
     "metadata": {},
     "output_type": "execute_result"
    }
   ],
   "source": [
    "fruits"
   ]
  },
  {
   "cell_type": "code",
   "execution_count": 612,
   "id": "7e7e7c4d",
   "metadata": {},
   "outputs": [
    {
     "data": {
      "text/plain": [
       "['Blueberry', 'apple', 'banana', 'dates', 'guava', 'orange']"
      ]
     },
     "execution_count": 612,
     "metadata": {},
     "output_type": "execute_result"
    }
   ],
   "source": [
    "fruits.sort()\n",
    "fruits"
   ]
  },
  {
   "cell_type": "markdown",
   "id": "1d82f6de",
   "metadata": {},
   "source": [
    "4. Command to sort a list of numbers into decreasing order:-"
   ]
  },
  {
   "cell_type": "code",
   "execution_count": 617,
   "id": "2ec9d763",
   "metadata": {},
   "outputs": [
    {
     "data": {
      "text/plain": [
       "[7, 8, 6, 4, 3, 2, 5]"
      ]
     },
     "execution_count": 617,
     "metadata": {},
     "output_type": "execute_result"
    }
   ],
   "source": [
    "# We can sort the list of numbers using `list.sort(reverse=True)` command for decreasing or decending order sorting.\n",
    "num_list = [7,8,6,4,3,2,5]\n",
    "num_list"
   ]
  },
  {
   "cell_type": "code",
   "execution_count": 620,
   "id": "97c2c87b",
   "metadata": {},
   "outputs": [
    {
     "data": {
      "text/plain": [
       "[8, 7, 6, 5, 4, 3, 2]"
      ]
     },
     "execution_count": 620,
     "metadata": {},
     "output_type": "execute_result"
    }
   ],
   "source": [
    "num_list.sort(reverse=True)\n",
    "num_list"
   ]
  },
  {
   "cell_type": "markdown",
   "id": "5683d658",
   "metadata": {},
   "source": [
    "### 2. Tuple"
   ]
  },
  {
   "cell_type": "markdown",
   "id": "b813adad",
   "metadata": {},
   "source": [
    "A tuple is an ordered collection of values, similar to a list. However, it is **not possible to add, remove, or modify values** in a tuple. A tuple is created by enclosing values within parentheses `(` and `)` separated by commas `,`."
   ]
  },
  {
   "cell_type": "markdown",
   "id": "c67da78f",
   "metadata": {},
   "source": [
    "> Any data structure that can not be modify after creation is called *immutable*. You can think of *tuples* as immutable lists."
   ]
  },
  {
   "cell_type": "markdown",
   "id": "b274b2fa",
   "metadata": {},
   "source": [
    "* Let's try some experiment with tuples."
   ]
  },
  {
   "cell_type": "code",
   "execution_count": 621,
   "id": "f3128873",
   "metadata": {},
   "outputs": [
    {
     "data": {
      "text/plain": [
       "['Blueberry', 'apple', 'banana', 'dates', 'guava', 'orange']"
      ]
     },
     "execution_count": 621,
     "metadata": {},
     "output_type": "execute_result"
    }
   ],
   "source": [
    "fruits"
   ]
  },
  {
   "cell_type": "code",
   "execution_count": 622,
   "id": "ca956dbc",
   "metadata": {},
   "outputs": [],
   "source": [
    "t_fruits =('Apple','Mango','Banana')"
   ]
  },
  {
   "cell_type": "code",
   "execution_count": 623,
   "id": "9b84f94c",
   "metadata": {},
   "outputs": [
    {
     "data": {
      "text/plain": [
       "3"
      ]
     },
     "execution_count": 623,
     "metadata": {},
     "output_type": "execute_result"
    }
   ],
   "source": [
    "# Check the number of elements in tuple using ---- `len()` command\n",
    "len(t_fruits)"
   ]
  },
  {
   "cell_type": "code",
   "execution_count": 624,
   "id": "bf4e2fbd",
   "metadata": {},
   "outputs": [
    {
     "data": {
      "text/plain": [
       "'Banana'"
      ]
     },
     "execution_count": 624,
     "metadata": {},
     "output_type": "execute_result"
    }
   ],
   "source": [
    "# Get an element (positive index) ---- `[+index]`\n",
    "t_fruits[2]"
   ]
  },
  {
   "cell_type": "code",
   "execution_count": 625,
   "id": "729442a8",
   "metadata": {},
   "outputs": [
    {
     "data": {
      "text/plain": [
       "'Mango'"
      ]
     },
     "execution_count": 625,
     "metadata": {},
     "output_type": "execute_result"
    }
   ],
   "source": [
    "# Get an element (negative index) ---- `[-index]` \n",
    "t_fruits[-2]"
   ]
  },
  {
   "cell_type": "code",
   "execution_count": 627,
   "id": "63ff1016",
   "metadata": {},
   "outputs": [
    {
     "data": {
      "text/plain": [
       "('Apple', 'Mango')"
      ]
     },
     "execution_count": 627,
     "metadata": {},
     "output_type": "execute_result"
    }
   ],
   "source": [
    "# Get the element between the index ---- `[start index : end index]`\n",
    "# Note ending index element excluded where as starting index element included.\n",
    "\n",
    "t_fruits[0:2]"
   ]
  },
  {
   "cell_type": "code",
   "execution_count": 634,
   "id": "6b35b75f",
   "metadata": {},
   "outputs": [
    {
     "data": {
      "text/plain": [
       "('Apple', 'Mango')"
      ]
     },
     "execution_count": 634,
     "metadata": {},
     "output_type": "execute_result"
    }
   ],
   "source": [
    "t_fruits[-3:-1]"
   ]
  },
  {
   "cell_type": "code",
   "execution_count": 635,
   "id": "2adcd2ee",
   "metadata": {},
   "outputs": [
    {
     "data": {
      "text/plain": [
       "False"
      ]
     },
     "execution_count": 635,
     "metadata": {},
     "output_type": "execute_result"
    }
   ],
   "source": [
    "# Check weather an element exist or not\n",
    "\n",
    "'Cherry' in t_fruits"
   ]
  },
  {
   "cell_type": "code",
   "execution_count": 636,
   "id": "6084c007",
   "metadata": {},
   "outputs": [
    {
     "data": {
      "text/plain": [
       "True"
      ]
     },
     "execution_count": 636,
     "metadata": {},
     "output_type": "execute_result"
    }
   ],
   "source": [
    "\"Mango\" in t_fruits"
   ]
  },
  {
   "cell_type": "code",
   "execution_count": 637,
   "id": "d0973954",
   "metadata": {},
   "outputs": [
    {
     "ename": "TypeError",
     "evalue": "'tuple' object does not support item assignment",
     "output_type": "error",
     "traceback": [
      "\u001b[0;31m---------------------------------------------------------------------------\u001b[0m",
      "\u001b[0;31mTypeError\u001b[0m                                 Traceback (most recent call last)",
      "\u001b[0;32m/tmp/ipykernel_101/399166132.py\u001b[0m in \u001b[0;36m<module>\u001b[0;34m\u001b[0m\n\u001b[1;32m      1\u001b[0m \u001b[0;31m# Try to change an element\u001b[0m\u001b[0;34m\u001b[0m\u001b[0;34m\u001b[0m\u001b[0;34m\u001b[0m\u001b[0m\n\u001b[1;32m      2\u001b[0m \u001b[0;34m\u001b[0m\u001b[0m\n\u001b[0;32m----> 3\u001b[0;31m \u001b[0mt_fruits\u001b[0m\u001b[0;34m[\u001b[0m\u001b[0;36m0\u001b[0m\u001b[0;34m]\u001b[0m\u001b[0;34m=\u001b[0m\u001b[0;34m'Cherry'\u001b[0m\u001b[0;34m\u001b[0m\u001b[0;34m\u001b[0m\u001b[0m\n\u001b[0m",
      "\u001b[0;31mTypeError\u001b[0m: 'tuple' object does not support item assignment"
     ]
    }
   ],
   "source": [
    "# Try to change an element\n",
    "\n",
    "t_fruits[0]='Cherry'"
   ]
  },
  {
   "cell_type": "code",
   "execution_count": 638,
   "id": "1d472836",
   "metadata": {},
   "outputs": [
    {
     "ename": "AttributeError",
     "evalue": "'tuple' object has no attribute 'pop'",
     "output_type": "error",
     "traceback": [
      "\u001b[0;31m---------------------------------------------------------------------------\u001b[0m",
      "\u001b[0;31mAttributeError\u001b[0m                            Traceback (most recent call last)",
      "\u001b[0;32m/tmp/ipykernel_101/46526350.py\u001b[0m in \u001b[0;36m<module>\u001b[0;34m\u001b[0m\n\u001b[0;32m----> 1\u001b[0;31m \u001b[0mt_fruits\u001b[0m\u001b[0;34m.\u001b[0m\u001b[0mpop\u001b[0m\u001b[0;34m(\u001b[0m\u001b[0;34m)\u001b[0m\u001b[0;34m\u001b[0m\u001b[0;34m\u001b[0m\u001b[0m\n\u001b[0m",
      "\u001b[0;31mAttributeError\u001b[0m: 'tuple' object has no attribute 'pop'"
     ]
    }
   ],
   "source": [
    "t_fruits.pop()"
   ]
  },
  {
   "cell_type": "markdown",
   "id": "0a22e23c",
   "metadata": {},
   "source": [
    "> Conclusion :-  Unchangeable or immutable"
   ]
  },
  {
   "cell_type": "markdown",
   "id": "86b9e4d1",
   "metadata": {},
   "source": [
    "* **You can also skip the parentheses `(` and `)` while creating a tuple. Python automatically converts comma-separated value into a tuple.**"
   ]
  },
  {
   "cell_type": "code",
   "execution_count": 639,
   "id": "3bb83d7a",
   "metadata": {},
   "outputs": [],
   "source": [
    "the_3_musketeers = 'Athos','porthos','Aramis'"
   ]
  },
  {
   "cell_type": "code",
   "execution_count": 640,
   "id": "798ac778",
   "metadata": {},
   "outputs": [
    {
     "data": {
      "text/plain": [
       "('Athos', 'porthos', 'Aramis')"
      ]
     },
     "execution_count": 640,
     "metadata": {},
     "output_type": "execute_result"
    }
   ],
   "source": [
    "the_3_musketeers"
   ]
  },
  {
   "cell_type": "code",
   "execution_count": 641,
   "id": "7ca5d15d",
   "metadata": {},
   "outputs": [],
   "source": [
    "num_tuple = 1,2,3,4,5,6,7,8,9"
   ]
  },
  {
   "cell_type": "code",
   "execution_count": 642,
   "id": "895791dc",
   "metadata": {},
   "outputs": [
    {
     "data": {
      "text/plain": [
       "(1, 2, 3, 4, 5, 6, 7, 8, 9)"
      ]
     },
     "execution_count": 642,
     "metadata": {},
     "output_type": "execute_result"
    }
   ],
   "source": [
    "num_tuple"
   ]
  },
  {
   "cell_type": "markdown",
   "id": "97cd7493",
   "metadata": {},
   "source": [
    "* **You can also create a tuple with just one element by typing a comma after it. Just wrapping it with parentheses `(` and `)` won't make it a tuple.**"
   ]
  },
  {
   "cell_type": "code",
   "execution_count": 646,
   "id": "5312f24c",
   "metadata": {},
   "outputs": [],
   "source": [
    "single_element_tuple = 5,"
   ]
  },
  {
   "cell_type": "code",
   "execution_count": 647,
   "id": "e0ba9b1c",
   "metadata": {},
   "outputs": [
    {
     "data": {
      "text/plain": [
       "(5,)"
      ]
     },
     "execution_count": 647,
     "metadata": {},
     "output_type": "execute_result"
    }
   ],
   "source": [
    "single_element_tuple"
   ]
  },
  {
   "cell_type": "code",
   "execution_count": 648,
   "id": "14763f8d",
   "metadata": {},
   "outputs": [],
   "source": [
    "another_single_element_tuple = (1,)"
   ]
  },
  {
   "cell_type": "code",
   "execution_count": 649,
   "id": "d3a37073",
   "metadata": {},
   "outputs": [
    {
     "data": {
      "text/plain": [
       "(1,)"
      ]
     },
     "execution_count": 649,
     "metadata": {},
     "output_type": "execute_result"
    }
   ],
   "source": [
    "another_single_element_tuple"
   ]
  },
  {
   "cell_type": "code",
   "execution_count": 650,
   "id": "a49e0f37",
   "metadata": {},
   "outputs": [],
   "source": [
    "# Not a tuple it's a variable\n",
    "\n",
    "not_a_tuple = (6)"
   ]
  },
  {
   "cell_type": "code",
   "execution_count": 651,
   "id": "4cc71fab",
   "metadata": {},
   "outputs": [
    {
     "data": {
      "text/plain": [
       "6"
      ]
     },
     "execution_count": 651,
     "metadata": {},
     "output_type": "execute_result"
    }
   ],
   "source": [
    "not_a_tuple"
   ]
  },
  {
   "cell_type": "markdown",
   "id": "9a8b1de9",
   "metadata": {},
   "source": [
    "* **Tuples are often used to create multiple variables with a single statement.**"
   ]
  },
  {
   "cell_type": "code",
   "execution_count": 657,
   "id": "580a13b7",
   "metadata": {},
   "outputs": [
    {
     "name": "stdout",
     "output_type": "stream",
     "text": [
      "Point x is: 5 \n",
      "Point y is: 6\n"
     ]
    }
   ],
   "source": [
    "point = (5,6)\n",
    "point_x,point_y = point\n",
    "print(\"Point x is:\",point_x , '\\n' \"Point y is:\",point_y)"
   ]
  },
  {
   "cell_type": "code",
   "execution_count": 660,
   "id": "de0820e2",
   "metadata": {},
   "outputs": [
    {
     "name": "stdout",
     "output_type": "stream",
     "text": [
      "Sisters names: Arya , Arti \n",
      " Brothers name: Nirbhay , Shyam , Vivek\n"
     ]
    }
   ],
   "source": [
    "name = ('Arya','Arti','Nirbhay','Shyam','Vivek')\n",
    "sis_1,sis_2,bro_1,bro_2,bro_3 = name\n",
    "print(\"Sisters names:\",sis_1,',', sis_2 , '\\n','Brothers name:',bro_1,',', bro_2, ',' ,bro_3)"
   ]
  },
  {
   "cell_type": "markdown",
   "id": "39ddca73",
   "metadata": {},
   "source": [
    "* **We can convert a list into tuple using the `tuple` function, and vice-versa (from tuple to list using `list` function).**"
   ]
  },
  {
   "cell_type": "code",
   "execution_count": 661,
   "id": "a6c940af",
   "metadata": {},
   "outputs": [
    {
     "data": {
      "text/plain": [
       "('one', 'two', 'three', 'four', 'five')"
      ]
     },
     "execution_count": 661,
     "metadata": {},
     "output_type": "execute_result"
    }
   ],
   "source": [
    "# From list to tuple \n",
    "\n",
    "tuple(['one','two','three','four','five'])"
   ]
  },
  {
   "cell_type": "code",
   "execution_count": 662,
   "id": "66bf7933",
   "metadata": {},
   "outputs": [],
   "source": [
    "# Let stroe tuple into a variable.\n",
    "\n",
    "numb = tuple([1,2,3,4,5,6,7,8,9,10])"
   ]
  },
  {
   "cell_type": "code",
   "execution_count": 663,
   "id": "c57904b8",
   "metadata": {},
   "outputs": [
    {
     "data": {
      "text/plain": [
       "(1, 2, 3, 4, 5, 6, 7, 8, 9, 10)"
      ]
     },
     "execution_count": 663,
     "metadata": {},
     "output_type": "execute_result"
    }
   ],
   "source": [
    "# This is tuple\n",
    "\n",
    "numb"
   ]
  },
  {
   "cell_type": "code",
   "execution_count": 667,
   "id": "13af4a3c",
   "metadata": {},
   "outputs": [],
   "source": [
    "# This is list\n",
    "\n",
    "list_numb=list(numb)"
   ]
  },
  {
   "cell_type": "code",
   "execution_count": 668,
   "id": "bece3ef3",
   "metadata": {},
   "outputs": [
    {
     "data": {
      "text/plain": [
       "[1, 2, 3, 4, 5, 6, 7, 8, 9, 10]"
      ]
     },
     "execution_count": 668,
     "metadata": {},
     "output_type": "execute_result"
    }
   ],
   "source": [
    "list_numb"
   ]
  },
  {
   "cell_type": "markdown",
   "id": "60aa1473",
   "metadata": {},
   "source": [
    "* **Tuples have just two built-in methods: `.count` and `.index`. It's your work to figure it out what they do. Well you can look for documentation and examples online, there is an easier way to check a methods documentation, using the `help` function.**"
   ]
  },
  {
   "cell_type": "code",
   "execution_count": 691,
   "id": "5c5de542",
   "metadata": {},
   "outputs": [],
   "source": [
    "A_tuple = 23,'hello',False,None,22/7, 3.14,\"Name\",23,23,23"
   ]
  },
  {
   "cell_type": "code",
   "execution_count": 692,
   "id": "16300c9e",
   "metadata": {},
   "outputs": [
    {
     "data": {
      "text/plain": [
       "(23, 'hello', False, None, 3.142857142857143, 3.14, 'Name', 23, 23, 23)"
      ]
     },
     "execution_count": 692,
     "metadata": {},
     "output_type": "execute_result"
    }
   ],
   "source": [
    "A_tuple"
   ]
  },
  {
   "cell_type": "code",
   "execution_count": 683,
   "id": "cf843077",
   "metadata": {},
   "outputs": [
    {
     "name": "stdout",
     "output_type": "stream",
     "text": [
      "Help on built-in function count:\n",
      "\n",
      "count(value, /) method of builtins.tuple instance\n",
      "    Return number of occurrences of value.\n",
      "\n"
     ]
    }
   ],
   "source": [
    "help(A_tuple.count)"
   ]
  },
  {
   "cell_type": "markdown",
   "id": "9f5ebe33",
   "metadata": {},
   "source": [
    "* **Within a Jupyter notebook, you can also start a code cell with `?` and type the name of a function or method. When you execute this cell, you will see the function or method's documentation in a pop-up window.**"
   ]
  },
  {
   "cell_type": "code",
   "execution_count": 684,
   "id": "20ccf630",
   "metadata": {},
   "outputs": [],
   "source": [
    "?A_tuple.index"
   ]
  },
  {
   "cell_type": "code",
   "execution_count": 688,
   "id": "b7790a13",
   "metadata": {},
   "outputs": [
    {
     "name": "stdout",
     "output_type": "stream",
     "text": [
      "Object `A_tuple.pop()` not found.\n"
     ]
    }
   ],
   "source": [
    "?A_tuple.pop() # Invalid command because tuple is immutable."
   ]
  },
  {
   "cell_type": "markdown",
   "id": "438ec406",
   "metadata": {},
   "source": [
    "1. **`.count()`:-  method returns the number of times a specified value appears in the tuple.**  \n",
    "syntax:- tuple.count(value)"
   ]
  },
  {
   "cell_type": "code",
   "execution_count": 685,
   "id": "0c8c2d57",
   "metadata": {},
   "outputs": [
    {
     "data": {
      "text/plain": [
       "0"
      ]
     },
     "execution_count": 685,
     "metadata": {},
     "output_type": "execute_result"
    }
   ],
   "source": [
    "# Trying `.count` method\n",
    "\n",
    "A_tuple.count(5)"
   ]
  },
  {
   "cell_type": "code",
   "execution_count": 680,
   "id": "90817af0",
   "metadata": {},
   "outputs": [
    {
     "data": {
      "text/plain": [
       "1"
      ]
     },
     "execution_count": 680,
     "metadata": {},
     "output_type": "execute_result"
    }
   ],
   "source": [
    "A_tuple.count('hello')"
   ]
  },
  {
   "cell_type": "code",
   "execution_count": 686,
   "id": "2134871d",
   "metadata": {},
   "outputs": [
    {
     "data": {
      "text/plain": [
       "4"
      ]
     },
     "execution_count": 686,
     "metadata": {},
     "output_type": "execute_result"
    }
   ],
   "source": [
    "A_tuple.count(23)"
   ]
  },
  {
   "cell_type": "markdown",
   "id": "9b159154",
   "metadata": {},
   "source": [
    "> * **Conclusion:-** `.count` method count the occurence of an element in tuples. "
   ]
  },
  {
   "cell_type": "markdown",
   "id": "acf7a016",
   "metadata": {},
   "source": [
    "2. **`index()`:-  method finds the first occurrence of the specified value.  \n",
    "   `index()`:- method raises an exception if the value is not found.**\n",
    "   \n",
    "   syntax:- tuple.index(value)\n"
   ]
  },
  {
   "cell_type": "code",
   "execution_count": 689,
   "id": "08ec4498",
   "metadata": {},
   "outputs": [
    {
     "data": {
      "text/plain": [
       "0"
      ]
     },
     "execution_count": 689,
     "metadata": {},
     "output_type": "execute_result"
    }
   ],
   "source": [
    "# Trying `.index()` method\n",
    "\n",
    "A_tuple.index(23)"
   ]
  },
  {
   "cell_type": "code",
   "execution_count": 693,
   "id": "c9e47b65",
   "metadata": {},
   "outputs": [
    {
     "data": {
      "text/plain": [
       "6"
      ]
     },
     "execution_count": 693,
     "metadata": {},
     "output_type": "execute_result"
    }
   ],
   "source": [
    "A_tuple.index('Name')"
   ]
  },
  {
   "cell_type": "code",
   "execution_count": 695,
   "id": "949c222a",
   "metadata": {},
   "outputs": [
    {
     "data": {
      "text/plain": [
       "2"
      ]
     },
     "execution_count": 695,
     "metadata": {},
     "output_type": "execute_result"
    }
   ],
   "source": [
    "A_tuple.index(False)"
   ]
  },
  {
   "cell_type": "markdown",
   "id": "c6bff9cb",
   "metadata": {},
   "source": [
    "> * **Conclusion:-** `.index()` method provides the index number of an element in tuple. "
   ]
  },
  {
   "cell_type": "markdown",
   "id": "11735984",
   "metadata": {},
   "source": [
    "### 3. Dictinory"
   ]
  },
  {
   "cell_type": "markdown",
   "id": "749da3cf",
   "metadata": {},
   "source": [
    "A dictionary is an unordered collection of items. Each item stored in a dictionary has a key and value. You can use a key to retrieve the corresponding value from the dictionary. Dictionaries have the type `dict`.  \n",
    "* Dictionaries are often used to store many  pieces of information   \n",
    "  e.g.:- Details about a person in a single variable.  \n",
    "\n",
    "* dictionaries are created by enclosing key-value pairs within braces or curly brackets `{` and `}`."
   ]
  },
  {
   "cell_type": "code",
   "execution_count": 698,
   "id": "f21f4abc",
   "metadata": {},
   "outputs": [],
   "source": [
    "person_1= {\n",
    "    'name':'Hariom',\n",
    "     'sex':'Male',\n",
    "     'age': 23,\n",
    "     'married': False\n",
    "} "
   ]
  },
  {
   "cell_type": "code",
   "execution_count": 699,
   "id": "4b07b474",
   "metadata": {},
   "outputs": [
    {
     "data": {
      "text/plain": [
       "{'name': 'Hariom', 'sex': 'Male', 'age': 23, 'married': False}"
      ]
     },
     "execution_count": 699,
     "metadata": {},
     "output_type": "execute_result"
    }
   ],
   "source": [
    "person_1"
   ]
  },
  {
   "cell_type": "markdown",
   "id": "c6539ca2",
   "metadata": {},
   "source": [
    "* **Dictionary can also be created using the `dict` function.**"
   ]
  },
  {
   "cell_type": "code",
   "execution_count": 700,
   "id": "a4467e15",
   "metadata": {},
   "outputs": [],
   "source": [
    "person_2 = dict(name='Amit', sex='Male', age=27,married=True)"
   ]
  },
  {
   "cell_type": "code",
   "execution_count": 701,
   "id": "050389ff",
   "metadata": {},
   "outputs": [
    {
     "data": {
      "text/plain": [
       "{'name': 'Amit', 'sex': 'Male', 'age': 27, 'married': True}"
      ]
     },
     "execution_count": 701,
     "metadata": {},
     "output_type": "execute_result"
    }
   ],
   "source": [
    "person_2"
   ]
  },
  {
   "cell_type": "code",
   "execution_count": 702,
   "id": "6b9560cc",
   "metadata": {},
   "outputs": [
    {
     "data": {
      "text/plain": [
       "dict"
      ]
     },
     "execution_count": 702,
     "metadata": {},
     "output_type": "execute_result"
    }
   ],
   "source": [
    "# type of person_1\n",
    "\n",
    "type(person_1)"
   ]
  },
  {
   "cell_type": "code",
   "execution_count": 703,
   "id": "85327528",
   "metadata": {},
   "outputs": [
    {
     "data": {
      "text/plain": [
       "dict"
      ]
     },
     "execution_count": 703,
     "metadata": {},
     "output_type": "execute_result"
    }
   ],
   "source": [
    "type(person_2)"
   ]
  },
  {
   "cell_type": "markdown",
   "id": "4d272d46",
   "metadata": {},
   "source": [
    "* **Keys can be used to access values using square brackets `[` and `]`.**"
   ]
  },
  {
   "cell_type": "code",
   "execution_count": 704,
   "id": "8c412a83",
   "metadata": {},
   "outputs": [
    {
     "data": {
      "text/plain": [
       "'Hariom'"
      ]
     },
     "execution_count": 704,
     "metadata": {},
     "output_type": "execute_result"
    }
   ],
   "source": [
    "person_1['name']"
   ]
  },
  {
   "cell_type": "code",
   "execution_count": 706,
   "id": "b3b9c1a3",
   "metadata": {},
   "outputs": [
    {
     "data": {
      "text/plain": [
       "True"
      ]
     },
     "execution_count": 706,
     "metadata": {},
     "output_type": "execute_result"
    }
   ],
   "source": [
    "person_2[\"married\"]"
   ]
  },
  {
   "cell_type": "markdown",
   "id": "f8e1902c",
   "metadata": {},
   "source": [
    "* Note :- If key isn't present in the dictionary, then a `KeyError` is thrown."
   ]
  },
  {
   "cell_type": "code",
   "execution_count": 707,
   "id": "9c621b4c",
   "metadata": {},
   "outputs": [
    {
     "ename": "KeyError",
     "evalue": "'address'",
     "output_type": "error",
     "traceback": [
      "\u001b[0;31m---------------------------------------------------------------------------\u001b[0m",
      "\u001b[0;31mKeyError\u001b[0m                                  Traceback (most recent call last)",
      "\u001b[0;32m/tmp/ipykernel_101/3564132190.py\u001b[0m in \u001b[0;36m<module>\u001b[0;34m\u001b[0m\n\u001b[0;32m----> 1\u001b[0;31m \u001b[0mperson_1\u001b[0m\u001b[0;34m[\u001b[0m\u001b[0;34m'address'\u001b[0m\u001b[0;34m]\u001b[0m\u001b[0;34m\u001b[0m\u001b[0;34m\u001b[0m\u001b[0m\n\u001b[0m",
      "\u001b[0;31mKeyError\u001b[0m: 'address'"
     ]
    }
   ],
   "source": [
    "person_1['address']"
   ]
  },
  {
   "cell_type": "markdown",
   "id": "f37296eb",
   "metadata": {},
   "source": [
    "* **You can also use the `.get()` method to access the value associated with a key.**"
   ]
  },
  {
   "cell_type": "code",
   "execution_count": 708,
   "id": "ef89e3f8",
   "metadata": {},
   "outputs": [
    {
     "data": {
      "text/plain": [
       "'Amit'"
      ]
     },
     "execution_count": 708,
     "metadata": {},
     "output_type": "execute_result"
    }
   ],
   "source": [
    "person_2.get('name')"
   ]
  },
  {
   "cell_type": "code",
   "execution_count": 709,
   "id": "80d8cc47",
   "metadata": {},
   "outputs": [
    {
     "data": {
      "text/plain": [
       "False"
      ]
     },
     "execution_count": 709,
     "metadata": {},
     "output_type": "execute_result"
    }
   ],
   "source": [
    "person_1.get('married')"
   ]
  },
  {
   "cell_type": "markdown",
   "id": "2be61d1c",
   "metadata": {},
   "source": [
    "* **The `.get()` method also accept a default value, returned if the key is not present in the dictionary.**"
   ]
  },
  {
   "cell_type": "code",
   "execution_count": 710,
   "id": "70d585a7",
   "metadata": {},
   "outputs": [
    {
     "data": {
      "text/plain": [
       "'unknown'"
      ]
     },
     "execution_count": 710,
     "metadata": {},
     "output_type": "execute_result"
    }
   ],
   "source": [
    "person_2.get(\"address\",'unknown')"
   ]
  },
  {
   "cell_type": "code",
   "execution_count": 712,
   "id": "c59fc75f",
   "metadata": {},
   "outputs": [
    {
     "data": {
      "text/plain": [
       "23"
      ]
     },
     "execution_count": 712,
     "metadata": {},
     "output_type": "execute_result"
    }
   ],
   "source": [
    "person_1.get(\"age\",'unknown')"
   ]
  },
  {
   "cell_type": "markdown",
   "id": "3ba2a06c",
   "metadata": {},
   "source": [
    "* **We can check whether a key is present in dictionary or not using `in` operator.**"
   ]
  },
  {
   "cell_type": "code",
   "execution_count": 713,
   "id": "d10dbb24",
   "metadata": {},
   "outputs": [
    {
     "data": {
      "text/plain": [
       "True"
      ]
     },
     "execution_count": 713,
     "metadata": {},
     "output_type": "execute_result"
    }
   ],
   "source": [
    "'name' in person_1"
   ]
  },
  {
   "cell_type": "code",
   "execution_count": 714,
   "id": "493a4bd1",
   "metadata": {},
   "outputs": [
    {
     "data": {
      "text/plain": [
       "False"
      ]
     },
     "execution_count": 714,
     "metadata": {},
     "output_type": "execute_result"
    }
   ],
   "source": [
    "\"father's name\" in person_2"
   ]
  },
  {
   "cell_type": "markdown",
   "id": "b9c81f9b",
   "metadata": {},
   "source": [
    "* **You can change the value associated with a key using the assignment operator `=`.**"
   ]
  },
  {
   "cell_type": "code",
   "execution_count": 715,
   "id": "03339b08",
   "metadata": {},
   "outputs": [
    {
     "data": {
      "text/plain": [
       "True"
      ]
     },
     "execution_count": 715,
     "metadata": {},
     "output_type": "execute_result"
    }
   ],
   "source": [
    "person_2['married']"
   ]
  },
  {
   "cell_type": "code",
   "execution_count": 716,
   "id": "6daf64aa",
   "metadata": {},
   "outputs": [],
   "source": [
    "person_2['married']=False"
   ]
  },
  {
   "cell_type": "code",
   "execution_count": 717,
   "id": "8df50abb",
   "metadata": {},
   "outputs": [
    {
     "data": {
      "text/plain": [
       "{'name': 'Amit', 'sex': 'Male', 'age': 27, 'married': False}"
      ]
     },
     "execution_count": 717,
     "metadata": {},
     "output_type": "execute_result"
    }
   ],
   "source": [
    "person_2"
   ]
  },
  {
   "cell_type": "code",
   "execution_count": 718,
   "id": "d9070ff2",
   "metadata": {},
   "outputs": [
    {
     "data": {
      "text/plain": [
       "False"
      ]
     },
     "execution_count": 718,
     "metadata": {},
     "output_type": "execute_result"
    }
   ],
   "source": [
    "person_2['married']"
   ]
  },
  {
   "cell_type": "markdown",
   "id": "25ee0dc8",
   "metadata": {},
   "source": [
    "* **The assignment operator can also be used to add new key-value pairs to the dictionary.**"
   ]
  },
  {
   "cell_type": "code",
   "execution_count": 719,
   "id": "d06896b4",
   "metadata": {},
   "outputs": [
    {
     "data": {
      "text/plain": [
       "{'name': 'Hariom', 'sex': 'Male', 'age': 23, 'married': False}"
      ]
     },
     "execution_count": 719,
     "metadata": {},
     "output_type": "execute_result"
    }
   ],
   "source": [
    "person_1"
   ]
  },
  {
   "cell_type": "code",
   "execution_count": 720,
   "id": "98eb1e87",
   "metadata": {},
   "outputs": [],
   "source": [
    "person_1[\"address\"]=\"New Delhi-110092\""
   ]
  },
  {
   "cell_type": "code",
   "execution_count": 721,
   "id": "acb3c524",
   "metadata": {},
   "outputs": [
    {
     "data": {
      "text/plain": [
       "{'name': 'Hariom',\n",
       " 'sex': 'Male',\n",
       " 'age': 23,\n",
       " 'married': False,\n",
       " 'address': 'New Delhi-110092'}"
      ]
     },
     "execution_count": 721,
     "metadata": {},
     "output_type": "execute_result"
    }
   ],
   "source": [
    "person_1"
   ]
  },
  {
   "cell_type": "markdown",
   "id": "8e40e78b",
   "metadata": {},
   "source": [
    "* **To remove a key and the associated value from dictionary, we use `.pop('keyname')` method.**"
   ]
  },
  {
   "cell_type": "code",
   "execution_count": 722,
   "id": "15ab8555",
   "metadata": {},
   "outputs": [
    {
     "data": {
      "text/plain": [
       "{'name': 'Hariom',\n",
       " 'sex': 'Male',\n",
       " 'age': 23,\n",
       " 'married': False,\n",
       " 'address': 'New Delhi-110092'}"
      ]
     },
     "execution_count": 722,
     "metadata": {},
     "output_type": "execute_result"
    }
   ],
   "source": [
    "person_1"
   ]
  },
  {
   "cell_type": "code",
   "execution_count": 723,
   "id": "62bb6111",
   "metadata": {},
   "outputs": [
    {
     "data": {
      "text/plain": [
       "'New Delhi-110092'"
      ]
     },
     "execution_count": 723,
     "metadata": {},
     "output_type": "execute_result"
    }
   ],
   "source": [
    "person_1.pop(\"address\")"
   ]
  },
  {
   "cell_type": "code",
   "execution_count": 724,
   "id": "4e00dbaa",
   "metadata": {},
   "outputs": [
    {
     "data": {
      "text/plain": [
       "{'name': 'Hariom', 'sex': 'Male', 'age': 23, 'married': False}"
      ]
     },
     "execution_count": 724,
     "metadata": {},
     "output_type": "execute_result"
    }
   ],
   "source": [
    "person_1"
   ]
  },
  {
   "cell_type": "code",
   "execution_count": 725,
   "id": "ab3ada77",
   "metadata": {},
   "outputs": [
    {
     "data": {
      "text/plain": [
       "{'name': 'Amit', 'sex': 'Male', 'age': 27, 'married': False}"
      ]
     },
     "execution_count": 725,
     "metadata": {},
     "output_type": "execute_result"
    }
   ],
   "source": [
    "person_2"
   ]
  },
  {
   "cell_type": "code",
   "execution_count": 727,
   "id": "980fb809",
   "metadata": {},
   "outputs": [],
   "source": [
    "# person_2.remove('married') # not working"
   ]
  },
  {
   "cell_type": "code",
   "execution_count": 728,
   "id": "2694c6d7",
   "metadata": {},
   "outputs": [
    {
     "data": {
      "text/plain": [
       "False"
      ]
     },
     "execution_count": 728,
     "metadata": {},
     "output_type": "execute_result"
    }
   ],
   "source": [
    "person_2.pop('married')"
   ]
  },
  {
   "cell_type": "code",
   "execution_count": 729,
   "id": "900a9277",
   "metadata": {},
   "outputs": [
    {
     "data": {
      "text/plain": [
       "{'name': 'Amit', 'sex': 'Male', 'age': 27}"
      ]
     },
     "execution_count": 729,
     "metadata": {},
     "output_type": "execute_result"
    }
   ],
   "source": [
    "person_2"
   ]
  },
  {
   "cell_type": "markdown",
   "id": "5e4583ed",
   "metadata": {},
   "source": [
    "* **Dictionaries also provide methods to view the list of keys, values, or key-value pairs inside it. using `.keys()`, `.values()` and `.items()` methods.**"
   ]
  },
  {
   "cell_type": "code",
   "execution_count": 730,
   "id": "f8056ba3",
   "metadata": {},
   "outputs": [
    {
     "data": {
      "text/plain": [
       "{'name': 'Hariom', 'sex': 'Male', 'age': 23, 'married': False}"
      ]
     },
     "execution_count": 730,
     "metadata": {},
     "output_type": "execute_result"
    }
   ],
   "source": [
    "person_1"
   ]
  },
  {
   "cell_type": "code",
   "execution_count": 731,
   "id": "2a4874f5",
   "metadata": {},
   "outputs": [
    {
     "data": {
      "text/plain": [
       "dict_keys(['name', 'sex', 'age', 'married'])"
      ]
     },
     "execution_count": 731,
     "metadata": {},
     "output_type": "execute_result"
    }
   ],
   "source": [
    "person_1.keys()"
   ]
  },
  {
   "cell_type": "code",
   "execution_count": 732,
   "id": "eaaf9237",
   "metadata": {},
   "outputs": [
    {
     "data": {
      "text/plain": [
       "dict_values(['Hariom', 'Male', 23, False])"
      ]
     },
     "execution_count": 732,
     "metadata": {},
     "output_type": "execute_result"
    }
   ],
   "source": [
    "person_1.values()"
   ]
  },
  {
   "cell_type": "code",
   "execution_count": 733,
   "id": "438dec8e",
   "metadata": {},
   "outputs": [
    {
     "data": {
      "text/plain": [
       "dict_items([('name', 'Hariom'), ('sex', 'Male'), ('age', 23), ('married', False)])"
      ]
     },
     "execution_count": 733,
     "metadata": {},
     "output_type": "execute_result"
    }
   ],
   "source": [
    "person_1.items()"
   ]
  },
  {
   "cell_type": "code",
   "execution_count": 736,
   "id": "64e71e01",
   "metadata": {},
   "outputs": [
    {
     "data": {
      "text/plain": [
       "'\\nperson_1.item()[1]\\nperson_1.item(1)\\n\\n'"
      ]
     },
     "execution_count": 736,
     "metadata": {},
     "output_type": "execute_result"
    }
   ],
   "source": [
    "# Error commands:-\n",
    "'''\n",
    "person_1.item()[1]\n",
    "person_1.item(1)\n",
    "\n",
    "'''"
   ]
  },
  {
   "cell_type": "markdown",
   "id": "5f4079b2",
   "metadata": {},
   "source": [
    "> * **Conclusion :-** The result of `.keys()`, `.values()` and `.items()` look like lists. However, they don't support the indexing operator `[]` for retrieving elements.  "
   ]
  },
  {
   "cell_type": "markdown",
   "id": "3c119426",
   "metadata": {},
   "source": [
    "* Question:- Can you figure out how to access an element at a specific index from these results?  \n",
    " *Hint :- Use the `list` function.*"
   ]
  },
  {
   "cell_type": "code",
   "execution_count": 737,
   "id": "df4a5d39",
   "metadata": {},
   "outputs": [
    {
     "data": {
      "text/plain": [
       "{'name': 'Hariom', 'sex': 'Male', 'age': 23, 'married': False}"
      ]
     },
     "execution_count": 737,
     "metadata": {},
     "output_type": "execute_result"
    }
   ],
   "source": [
    "person_1"
   ]
  },
  {
   "cell_type": "code",
   "execution_count": 739,
   "id": "4a7b59f9",
   "metadata": {},
   "outputs": [],
   "source": [
    "list_person_1 = list(person_1)"
   ]
  },
  {
   "cell_type": "code",
   "execution_count": 740,
   "id": "95875f83",
   "metadata": {},
   "outputs": [
    {
     "data": {
      "text/plain": [
       "['name', 'sex', 'age', 'married']"
      ]
     },
     "execution_count": 740,
     "metadata": {},
     "output_type": "execute_result"
    }
   ],
   "source": [
    "list_person_1"
   ]
  },
  {
   "cell_type": "code",
   "execution_count": 741,
   "id": "ed7c1e31",
   "metadata": {},
   "outputs": [
    {
     "data": {
      "text/plain": [
       "'married'"
      ]
     },
     "execution_count": 741,
     "metadata": {},
     "output_type": "execute_result"
    }
   ],
   "source": [
    "list_person_1[3]"
   ]
  },
  {
   "cell_type": "markdown",
   "id": "29cfd6b1",
   "metadata": {},
   "source": [
    "* Dictionaries provide many other methods. You can learn more about them [Here](https://www.w3schools.com/python/python_ref_dictionary.asp).  \n",
    "\n",
    "Here are some experiments you can try out with dictionaries (use the empty cell below):\n",
    "\n",
    "1. What happens if you use the same key multiple times while creating a dictionary?\n",
    "2. How can you create a copy of a dictionary (modifying the copy should not change the original)?\n",
    "3. Can the value associated with a key itself be a dictionary?\n",
    "4. How can you add the key-value pairs from one dictionary into another dictionary? *Hint:- See the `.update()` method.*\n",
    "5. Can the dictionary's keys be something other than a string. *e.g.:- a_number, boolean, lists, etc...?"
   ]
  },
  {
   "cell_type": "markdown",
   "id": "5b119c34",
   "metadata": {},
   "source": [
    "* Experimenting with the 1st condition:- "
   ]
  },
  {
   "cell_type": "code",
   "execution_count": 743,
   "id": "0bb47ec2",
   "metadata": {},
   "outputs": [
    {
     "ename": "SyntaxError",
     "evalue": "keyword argument repeated: name (3653023934.py, line 1)",
     "output_type": "error",
     "traceback": [
      "\u001b[0;36m  File \u001b[0;32m\"/tmp/ipykernel_101/3653023934.py\"\u001b[0;36m, line \u001b[0;32m1\u001b[0m\n\u001b[0;31m    p1 = dict(name='Rony', name='Tony',name='Mony', name= 'Jony')\u001b[0m\n\u001b[0m                           ^\u001b[0m\n\u001b[0;31mSyntaxError\u001b[0m\u001b[0;31m:\u001b[0m keyword argument repeated: name\n"
     ]
    }
   ],
   "source": [
    "p1 = dict(name='Rony', name='Tony',name='Mony', name= 'Jony')"
   ]
  },
  {
   "cell_type": "markdown",
   "id": "82168a5a",
   "metadata": {},
   "source": [
    "> * **Conclusion :-** It gives an `SyntaxError` it means we can't repeat the same key multiple times in dictionary."
   ]
  },
  {
   "cell_type": "markdown",
   "id": "91f6f3d4",
   "metadata": {},
   "source": [
    "* Creating a copy of dictionary using `.copy` method :-"
   ]
  },
  {
   "cell_type": "code",
   "execution_count": 744,
   "id": "0f8c61f8",
   "metadata": {},
   "outputs": [],
   "source": [
    "p1 = dict(name ='Soham',age =23,cls=12, subject='PCM',address='New Delhi')"
   ]
  },
  {
   "cell_type": "code",
   "execution_count": 745,
   "id": "67af5f74",
   "metadata": {},
   "outputs": [
    {
     "data": {
      "text/plain": [
       "{'name': 'Soham',\n",
       " 'age': 23,\n",
       " 'cls': 12,\n",
       " 'subject': 'PCM',\n",
       " 'address': 'New Delhi'}"
      ]
     },
     "execution_count": 745,
     "metadata": {},
     "output_type": "execute_result"
    }
   ],
   "source": [
    "p1"
   ]
  },
  {
   "cell_type": "code",
   "execution_count": 747,
   "id": "c78a19c5",
   "metadata": {},
   "outputs": [],
   "source": [
    "p1_copy = p1.copy()"
   ]
  },
  {
   "cell_type": "code",
   "execution_count": 748,
   "id": "7a4b6c71",
   "metadata": {},
   "outputs": [
    {
     "data": {
      "text/plain": [
       "{'name': 'Soham',\n",
       " 'age': 23,\n",
       " 'cls': 12,\n",
       " 'subject': 'PCM',\n",
       " 'address': 'New Delhi'}"
      ]
     },
     "execution_count": 748,
     "metadata": {},
     "output_type": "execute_result"
    }
   ],
   "source": [
    "p1_copy"
   ]
  },
  {
   "cell_type": "code",
   "execution_count": 750,
   "id": "8e9d05c0",
   "metadata": {},
   "outputs": [
    {
     "data": {
      "text/plain": [
       "{'name': 'Soham',\n",
       " 'age': 23,\n",
       " 'cls': 12,\n",
       " 'subject': 'PCB',\n",
       " 'address': 'New Delhi'}"
      ]
     },
     "execution_count": 750,
     "metadata": {},
     "output_type": "execute_result"
    }
   ],
   "source": [
    "p1_copy['subject']='PCB'\n",
    "p1_copy"
   ]
  },
  {
   "cell_type": "code",
   "execution_count": 753,
   "id": "2aab4c87",
   "metadata": {},
   "outputs": [
    {
     "data": {
      "text/plain": [
       "{'name': 'Soham', 'age': 23, 'cls': 12, 'subject': 'PCB'}"
      ]
     },
     "execution_count": 753,
     "metadata": {},
     "output_type": "execute_result"
    }
   ],
   "source": [
    "p1_copy.pop('address')\n",
    "p1_copy"
   ]
  },
  {
   "cell_type": "code",
   "execution_count": 754,
   "id": "0a254daf",
   "metadata": {},
   "outputs": [
    {
     "data": {
      "text/plain": [
       "{'name': 'Soham',\n",
       " 'age': 23,\n",
       " 'cls': 12,\n",
       " 'subject': 'PCM',\n",
       " 'address': 'New Delhi'}"
      ]
     },
     "execution_count": 754,
     "metadata": {},
     "output_type": "execute_result"
    }
   ],
   "source": [
    "p1"
   ]
  },
  {
   "cell_type": "markdown",
   "id": "f90eb662",
   "metadata": {},
   "source": [
    "* Experimenting with the 3rd question:- "
   ]
  },
  {
   "cell_type": "code",
   "execution_count": 755,
   "id": "e16ad087",
   "metadata": {},
   "outputs": [],
   "source": [
    "p3= dict(movie_name='Dj Dhruva', actor = dict(actor1=\"Allu Arjun\",actor2=\"Pooja Hegde\", actor3=\"Brahmanandam\"), realsing_year=2020, industry=\"South Indian cinema\")"
   ]
  },
  {
   "cell_type": "code",
   "execution_count": 756,
   "id": "5a99deef",
   "metadata": {},
   "outputs": [
    {
     "data": {
      "text/plain": [
       "{'movie_name': 'Dj Dhruva',\n",
       " 'actor': {'actor1': 'Allu Arjun',\n",
       "  'actor2': 'Pooja Hegde',\n",
       "  'actor3': 'Brahmanandam'},\n",
       " 'realsing_year': 2020,\n",
       " 'industry': 'South Indian cinema'}"
      ]
     },
     "execution_count": 756,
     "metadata": {},
     "output_type": "execute_result"
    }
   ],
   "source": [
    "p3"
   ]
  },
  {
   "cell_type": "code",
   "execution_count": 757,
   "id": "161fc723",
   "metadata": {},
   "outputs": [
    {
     "data": {
      "text/plain": [
       "{'actor1': 'Allu Arjun', 'actor2': 'Pooja Hegde', 'actor3': 'Brahmanandam'}"
      ]
     },
     "execution_count": 757,
     "metadata": {},
     "output_type": "execute_result"
    }
   ],
   "source": [
    "p3['actor']"
   ]
  },
  {
   "cell_type": "markdown",
   "id": "cbefb145",
   "metadata": {},
   "source": [
    "> * **Conclusion:-** We Can associated dictionary form value with a key itself. *e.g.:- actor in p3*"
   ]
  },
  {
   "cell_type": "markdown",
   "id": "3ef1e903",
   "metadata": {},
   "source": [
    "* We will use `.update()` method to add key-value pair as required in 4th question:-"
   ]
  },
  {
   "cell_type": "code",
   "execution_count": 758,
   "id": "94aded5c",
   "metadata": {},
   "outputs": [
    {
     "data": {
      "text/plain": [
       "{'movie_name': 'Dj Dhruva',\n",
       " 'actor': {'actor1': 'Allu Arjun',\n",
       "  'actor2': 'Pooja Hegde',\n",
       "  'actor3': 'Brahmanandam'},\n",
       " 'realsing_year': 2020,\n",
       " 'industry': 'South Indian cinema'}"
      ]
     },
     "execution_count": 758,
     "metadata": {},
     "output_type": "execute_result"
    }
   ],
   "source": [
    "p3"
   ]
  },
  {
   "cell_type": "code",
   "execution_count": 767,
   "id": "2a014508",
   "metadata": {},
   "outputs": [],
   "source": [
    "p3.update({\"earnings (crs)\":200}) # note here the syntax uses \"{}\"in \"()\"."
   ]
  },
  {
   "cell_type": "code",
   "execution_count": 768,
   "id": "e1bbd809",
   "metadata": {},
   "outputs": [
    {
     "data": {
      "text/plain": [
       "{'movie_name': 'Dj Dhruva',\n",
       " 'actor': {'actor1': 'Allu Arjun',\n",
       "  'actor2': 'Pooja Hegde',\n",
       "  'actor3': 'Brahmanandam'},\n",
       " 'realsing_year': 2020,\n",
       " 'industry': 'South Indian cinema',\n",
       " 'earnings': 200,\n",
       " 'earnings (crs)': 200}"
      ]
     },
     "execution_count": 768,
     "metadata": {},
     "output_type": "execute_result"
    }
   ],
   "source": [
    "p3"
   ]
  },
  {
   "cell_type": "code",
   "execution_count": 805,
   "id": "f2d9ac28",
   "metadata": {},
   "outputs": [],
   "source": [
    "# Now from one dictionary to another dictionary.\n",
    "\n",
    "d1=dict(name='Sonu', age=17, cls=10, subject='PCM')\n",
    "d2=dict(name='Seema', age=18, cls=11, subject='PCB')"
   ]
  },
  {
   "cell_type": "code",
   "execution_count": 806,
   "id": "d7356e60",
   "metadata": {},
   "outputs": [
    {
     "data": {
      "text/plain": [
       "{'name': 'Sonu', 'age': 17, 'cls': 10, 'subject': 'PCM'}"
      ]
     },
     "execution_count": 806,
     "metadata": {},
     "output_type": "execute_result"
    }
   ],
   "source": [
    "d1"
   ]
  },
  {
   "cell_type": "code",
   "execution_count": 807,
   "id": "ae5b5c36",
   "metadata": {},
   "outputs": [
    {
     "data": {
      "text/plain": [
       "{'name': 'Seema', 'age': 18, 'cls': 11, 'subject': 'PCB'}"
      ]
     },
     "execution_count": 807,
     "metadata": {},
     "output_type": "execute_result"
    }
   ],
   "source": [
    "d2"
   ]
  },
  {
   "cell_type": "code",
   "execution_count": 810,
   "id": "c0ec9f22",
   "metadata": {},
   "outputs": [
    {
     "data": {
      "text/plain": [
       "{'movie_name': 'Dj Dhruva',\n",
       " 'actor': {'actor1': 'Allu Arjun',\n",
       "  'actor2': 'Pooja Hegde',\n",
       "  'actor3': 'Brahmanandam'},\n",
       " 'realsing_year': 2020,\n",
       " 'industry': 'South Indian cinema',\n",
       " 'earnings': 200,\n",
       " 'earnings (crs)': 200}"
      ]
     },
     "execution_count": 810,
     "metadata": {},
     "output_type": "execute_result"
    }
   ],
   "source": [
    "p3"
   ]
  },
  {
   "cell_type": "code",
   "execution_count": 808,
   "id": "261fcf7f",
   "metadata": {},
   "outputs": [
    {
     "name": "stdout",
     "output_type": "stream",
     "text": [
      "{'name': 'Sonu', 'age': 17, 'cls': 10, 'subject': 'PCM', 'movie_name': 'Dj Dhruva', 'actor': {'actor1': 'Allu Arjun', 'actor2': 'Pooja Hegde', 'actor3': 'Brahmanandam'}, 'realsing_year': 2020, 'industry': 'South Indian cinema', 'earnings': 200, 'earnings (crs)': 200}\n"
     ]
    }
   ],
   "source": [
    "d1.update(p3)\n",
    "print(d1)"
   ]
  },
  {
   "cell_type": "markdown",
   "id": "c8ee3a3c",
   "metadata": {},
   "source": [
    "* Experimenting with dictionary keys other than string :-"
   ]
  },
  {
   "cell_type": "code",
   "execution_count": 817,
   "id": "168373b9",
   "metadata": {},
   "outputs": [
    {
     "ename": "SyntaxError",
     "evalue": "expression cannot contain assignment, perhaps you meant \"==\"? (2346368452.py, line 1)",
     "output_type": "error",
     "traceback": [
      "\u001b[0;36m  File \u001b[0;32m\"/tmp/ipykernel_101/2346368452.py\"\u001b[0;36m, line \u001b[0;32m1\u001b[0m\n\u001b[0;31m    dic1=dict(True=\"Boolean\",3.14=\"Pi\")\u001b[0m\n\u001b[0m              ^\u001b[0m\n\u001b[0;31mSyntaxError\u001b[0m\u001b[0;31m:\u001b[0m expression cannot contain assignment, perhaps you meant \"==\"?\n"
     ]
    }
   ],
   "source": [
    "dic1=dict(1=\"odd\",2=\"even\",True=\"Boolean\",3.14=\"Pi\",)"
   ]
  },
  {
   "cell_type": "markdown",
   "id": "63dcf5ae",
   "metadata": {},
   "source": [
    "> * **Conclusion:-**  The dictionary's keys can't be something other than a string, e.g., a number, boolean, list, etc.."
   ]
  },
  {
   "cell_type": "markdown",
   "id": "15775996",
   "metadata": {},
   "source": [
    "### Further Reading"
   ]
  },
  {
   "cell_type": "markdown",
   "id": "50df25dd",
   "metadata": {},
   "source": [
    "We have now completed our exploration of variables and common data types in Python. Following are some resources to learn more about data types in Python:  \n",
    "* Python official documentation: [Click Here](https://docs.python.org/3/tutorial/index.html)\n",
    "* Python tutorial at W3Schools; [Click Here](https://www.w3schools.com/python/)\n",
    "* Practical Python programming: [Click Here](https://dabeaz-course.github.io/practical-python/Notes/Contents.html)\n"
   ]
  },
  {
   "cell_type": "markdown",
   "id": "77f8a581",
   "metadata": {},
   "source": [
    ">`You are now ready to move on the next tutorial: Branching using conditional statements and loops in Python."
   ]
  },
  {
   "cell_type": "markdown",
   "id": "e95abe17",
   "metadata": {},
   "source": [
    "## Questions and Answer for Revision:-\n",
    "\n",
    "Try answering the following questions to test your understanding of the topics covered in this notebook\n",
    "1. What is a variable in Python?\n",
    "2. How do you create a variable?\n",
    "3. How do you check the value within a variable?\n",
    "4. How do you create multiple variables in a single statement?\n",
    "5. How do you create multiple variables with the same value?\n",
    "6. How do you change the value of a variable?\n",
    "7. How do you reassign a variable by modifying the previous value?\n",
    "8. What does the statement `counter += 4` do?\n",
    "9. What are the rules for naming a variable?\n",
    "10. Are variable names case-sensitive? Do `a_variable`, `A_Variable`, and `A_VARIABLE` represent the same variable or different ones?\n",
    "11. What is Syntax? Why is it important?\n",
    "12. What happens if you execute a statement with invalid syntax?\n",
    "13. How do you check the data type of a variable?\n",
    "14. What are the built-in data types in Python?\n",
    "15. What is a primitive data type? \n",
    "16. What are the primitive data types available in Python?\n",
    "17. What is a data structure or container data type?\n",
    "18. What are the container types available in Python?\n",
    "19. What kind of data does the Integer data type represent?\n",
    "20. What are the numerical limits of the integer data type?\n",
    "21. What kind of data does the float data type represent?\n",
    "22. How does Python decide if a given number is a float or an integer?\n",
    "23. How can you create a variable which stores a whole number, e.g., 4 but has the float data type?\n",
    "24. How do you create floats representing very large (e.g., 6.023 x 10^23) or very small numbers (0.000000123)?\n",
    "25. What does the expression `23e-12` represent?\n",
    "26. Can floats be used to store numbers with unlimited precision?\n",
    "27. What are the differences between integers and floats?\n",
    "28. How do you convert an integer to a float?\n",
    "29. How do you convert a float to an integer?\n",
    "30. What is the result obtained when you convert 1.99 to an integer?\n",
    "31. What are the data types of the results of the division operators `/` and `//`?\n",
    "32. What kind of data does the Boolean data type represent?\n",
    "33. Which types of Python operators return booleans as a result?\n",
    "34. What happens if you try to use a boolean in arithmetic operation?\n",
    "35. How can any value in Python be covered to a boolean?\n",
    "36. What are truthy and falsy values?\n",
    "37. What are the values in Python that evaluate to False?\n",
    "38. Give some examples of values that evaluate to True.\n",
    "39. What kind of data does the None data type represent?\n",
    "40. What is the purpose of None?\n",
    "41. What kind of data does the String data type represent?\n",
    "42. What are the different ways of creating strings in Python?\n",
    "43. What is the difference between strings creating using single quotes, i.e. `'` and `'` vs. those created using double quotes, i.e. `\"` and `\"`?\n",
    "44. How do you create multi-line strings in Python?\n",
    "45. What is the newline character, `\\n`?\n",
    "46. What are escaped characters? How are they useful?\n",
    "47. How do you check the length of a string?\n",
    "48. How do you convert a string into a list of characters?\n",
    "49. How do you access a specific character from a string?\n",
    "50. How do you access a range of characters from a string?\n",
    "51. How do you check if a specific character occurs in a string?\n",
    "52. How do you check if a smaller string occurs within a bigger string?\n",
    "53. How do you join two or more strings?\n",
    "54. What are \"methods\" in Python? How are they different from functions?\n",
    "55. What do the `.lower`, `.upper` and `.capitalize` methods on strings do?\n",
    "56. How do you replace a specific part of a string with something else?\n",
    "57. How do you split the string \"Sun,Mon,Tue,Wed,Thu,Fri,Sat\" into a list of days?\n",
    "58. How do you remove whitespace from the beginning and end of a string?\n",
    "59. What is the string `.format` method used for? Can you give an example?\n",
    "60. What are the benefits of using the `.format` method instead of string concatenation?\n",
    "61. How do you convert a value of another type to a string?\n",
    "62. How do you check if two strings have the same value?\n",
    "63. Where can you find the list of all the methods supported by strings?\n",
    "64. What is a list in Python?\n",
    "65. How do you create a list?\n",
    "66. Can a Python list contain values of different data types?\n",
    "67. Can a list contain another list as an element within it?\n",
    "68. Can you create a list without any values?\n",
    "69. How do you check the length of a list in Python?\n",
    "70. How do you retrieve a value from a list?\n",
    "71. What is the smallest and largest index you can use to access elements from a list containing five elements?\n",
    "72. What happens if you try to access an index equal to or larger than the size of a list?\n",
    "73. What happens if you try to access a negative index within a list?\n",
    "74. How do you access a range of elements from a list?\n",
    "75. How many elements does the list returned by the expression `a_list[2:5]` contain?\n",
    "76. What do the ranges `a_list[:2]` and `a_list[2:]` represent?\n",
    "77. How do you change the item stored at a specific index within a list?\n",
    "78. How do you insert a new item at the beginning, middle, or end of a list?\n",
    "79. How do you remove an item from al list?\n",
    "80. How do you remove the item at a given index from a list?\n",
    "81. How do you check if a list contains a value?\n",
    "82. How do you combine two or most lists to create a larger list?\n",
    "83. How do you create a copy of a list?\n",
    "84. Does the expression `a_new_list = a_list` create a copy of the list `a_list`?\n",
    "85. Where can you find the list of all the methods supported by lists?\n",
    "86. What is a Tuple in Python?\n",
    "87. How is a tuple different from a list?\n",
    "88. Can you add or remove elements in a tuple?\n",
    "89. How do you create a tuple with just one element?\n",
    "90. How do you convert a tuple to a list and vice versa?\n",
    "91. What are the `count` and `index` method of a Tuple used for?\n",
    "92. What is a dictionary in Python?\n",
    "93. How do you create a dictionary?\n",
    "94. What are keys and values?\n",
    "95. How do you access the value associated with a specific key in a dictionary?\n",
    "96. What happens if you try to access the value for a key that doesn't exist in a dictionary?\n",
    "97. What is the `.get` method of a dictionary used for?\n",
    "98. How do you change the value associated with a key in a dictionary?\n",
    "99. How do you add or remove a key-value pair in a dictionary?\n",
    "100. How do you access the keys, values, and key-value pairs within a dictionary?"
   ]
  },
  {
   "cell_type": "code",
   "execution_count": null,
   "id": "0d543b95",
   "metadata": {},
   "outputs": [],
   "source": []
  }
 ],
 "metadata": {
  "kernelspec": {
   "display_name": "Python 3 (ipykernel)",
   "language": "python",
   "name": "python3"
  },
  "language_info": {
   "codemirror_mode": {
    "name": "ipython",
    "version": 3
   },
   "file_extension": ".py",
   "mimetype": "text/x-python",
   "name": "python",
   "nbconvert_exporter": "python",
   "pygments_lexer": "ipython3",
   "version": "3.9.7"
  }
 },
 "nbformat": 4,
 "nbformat_minor": 5
}
