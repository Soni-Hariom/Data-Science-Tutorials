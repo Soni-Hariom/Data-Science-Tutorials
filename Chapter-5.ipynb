{
 "cells": [
  {
   "cell_type": "markdown",
   "id": "5d9f2df0",
   "metadata": {},
   "source": [
    "# NumPy"
   ]
  },
  {
   "cell_type": "markdown",
   "id": "57645c7a",
   "metadata": {},
   "source": [
    "> CONTENTS:\n",
    "* Working with numerical data in Python\n",
    "* Going from Python lists to Numpy arrays\n",
    "* Multi-dimensional Numpy arrays and their benefits\n",
    "* Array operations, broadcasting, indexing, and slicing\n",
    "* Working with CSV data files using Numpy"
   ]
  },
  {
   "cell_type": "markdown",
   "id": "e0170997",
   "metadata": {},
   "source": [
    "## Numerical Computing With Python and Numpy :\n",
    "\n",
    "![](https://i.imgur.com/mg8O3kd.png)\n",
    "\n",
    "This tutorial series is a beginner-friendly introduction to programming and data analysis using the Python programming language. These tutorials take a practical and coding-focused approach. The best way to learn the material is to execute the code and experiment with it yourself."
   ]
  },
  {
   "cell_type": "markdown",
   "id": "daab5efa",
   "metadata": {},
   "source": [
    "### Working with numerical data:"
   ]
  },
  {
   "cell_type": "markdown",
   "id": "a9ce0b03",
   "metadata": {},
   "source": [
    "The \"data\" in *Data Analysis* typically refers to numerical data, **e.g.- Stock Price, Sales, figures, Sensor Measurements, Sports Scores, Database Tables, etc.** The [NumPy](https://numpy.org) library provides specialized data structures, functions and other tools for numerical computing in Python. Let's work through an example to see why and how to use Numpy for working  with numerical data.\n",
    "> Suppose we want to use climate data like `temprature`, `rainfall`, and `humidity` to determine if a region is well suited for growing apples. A simple approach for doining this would be to formulate the relationship between the annual yield of apples (tons per hectare) and the climatic conditions like the average temperature (in degree Fahrenheit), rainfall (in millimeters) and average relative humidity (in percentage) as linear equation:\n",
    ">\n",
    ">` yield_of_apples = w1 * temprature + w2 * rainfall + w3 * humidity`\n",
    "        \n",
    "We are expressing the yield of apples as a weighted sum of the temperature, rainfall, and humidity. This equation is an approximation since the actual relationship may not necessarily be linear, and there may be other factors involved. But a simple linear model like this often works well in practice.  \n",
    "\n",
    "Based on some statical analysis of historical data, we might come up with reasonable values for the weights `w1`, `w2` & `w3`. Here's an example of values:"
   ]
  },
  {
   "cell_type": "code",
   "execution_count": 3,
   "id": "424a278f",
   "metadata": {},
   "outputs": [],
   "source": [
    "w1, w2, w3 = .3,.2,.5"
   ]
  },
  {
   "cell_type": "markdown",
   "id": "c572f1f1",
   "metadata": {},
   "source": [
    "**Given some climate data for a region, we can now predict the yield of apples. Here's some sample data:**\n",
    "\n",
    "<img src=\"https://i.imgur.com/TXPBiqv.png\" style=\"width:360px;\">\n",
    "\n",
    "**To begin, we can define some variables to record climate data for a region.**"
   ]
  },
  {
   "cell_type": "code",
   "execution_count": 4,
   "id": "5013f79b",
   "metadata": {},
   "outputs": [],
   "source": [
    "kanto_temp = 73\n",
    "kanto_rainfall = 67\n",
    "kanto_humidity = 43"
   ]
  },
  {
   "cell_type": "markdown",
   "id": "9688cb84",
   "metadata": {},
   "source": [
    "**We can now substitute these variables into the linear equation to predict the yield of apples.**"
   ]
  },
  {
   "cell_type": "code",
   "execution_count": 5,
   "id": "b7b42dc6",
   "metadata": {},
   "outputs": [
    {
     "name": "stdout",
     "output_type": "stream",
     "text": [
      "Kanto's expected yield of apples : 56.8 (in tones per hectare)\n"
     ]
    }
   ],
   "source": [
    "kanto_yield_apples = kanto_temp * w1 + kanto_rainfall * w2 + kanto_humidity * w3\n",
    "print(\"Kanto's expected yield of apples :\", kanto_yield_apples,\"(in tones per hectare)\")"
   ]
  },
  {
   "cell_type": "markdown",
   "id": "05ece9c1",
   "metadata": {},
   "source": [
    "> **To make slightly easier to perform the above computation for multiple regions, we can represent the climate data for each regions, we can represent the climate data for each region as a vector, i.e.- a list of numbers.**"
   ]
  },
  {
   "cell_type": "code",
   "execution_count": 6,
   "id": "7071adbd",
   "metadata": {},
   "outputs": [],
   "source": [
    "kanto = [73,67,43]\n",
    "johto = [91,88,64]\n",
    "hoenn = [87,134,58]\n",
    "sinnoh = [102,43,37]\n",
    "unova = [69,96,70]"
   ]
  },
  {
   "cell_type": "markdown",
   "id": "8fec2b5f",
   "metadata": {},
   "source": [
    "**The three numbers in each vector represent the *temperature, rainfall, and humidity* data, respectively.**  \n",
    "\n",
    "**We can also represent the set of weights used in the formula as a vector.**"
   ]
  },
  {
   "cell_type": "code",
   "execution_count": 7,
   "id": "156eacb1",
   "metadata": {},
   "outputs": [],
   "source": [
    "weights = [w1,w2,w3]"
   ]
  },
  {
   "cell_type": "markdown",
   "id": "72f033a2",
   "metadata": {},
   "source": [
    "**We can now write a function `crop_yield` to calculate the yield of apples(or any other crop) given the climate data and the respective weights.**"
   ]
  },
  {
   "cell_type": "code",
   "execution_count": 8,
   "id": "e7db1409",
   "metadata": {},
   "outputs": [],
   "source": [
    "def crop_yield(region,weight):\n",
    "    result = 0\n",
    "    for x,w in zip(region,weight):\n",
    "        result += x*w\n",
    "    return result"
   ]
  },
  {
   "cell_type": "code",
   "execution_count": 9,
   "id": "c118c9ce",
   "metadata": {},
   "outputs": [
    {
     "name": "stdout",
     "output_type": "stream",
     "text": [
      "Crop yield in Kanto region : 56.8\n"
     ]
    }
   ],
   "source": [
    "kanto_yield = crop_yield(region=kanto,weight=weights)\n",
    "print(\"Crop yield in Kanto region :\",kanto_yield)"
   ]
  },
  {
   "cell_type": "code",
   "execution_count": 10,
   "id": "3bfd425b",
   "metadata": {},
   "outputs": [
    {
     "name": "stdout",
     "output_type": "stream",
     "text": [
      "Crop yield in Johto region : 76.9\n"
     ]
    }
   ],
   "source": [
    "johto_yield = crop_yield(region=johto,weight=weights)\n",
    "print(\"Crop yield in Johto region :\",johto_yield)"
   ]
  },
  {
   "cell_type": "code",
   "execution_count": 11,
   "id": "e30043a4",
   "metadata": {},
   "outputs": [
    {
     "name": "stdout",
     "output_type": "stream",
     "text": [
      "Crop yield in Hoenn region : 81.9\n"
     ]
    }
   ],
   "source": [
    "hoenn_yield = crop_yield(region=hoenn,weight=weights)\n",
    "print(\"Crop yield in Hoenn region :\",hoenn_yield)"
   ]
  },
  {
   "cell_type": "code",
   "execution_count": 12,
   "id": "0bc5f642",
   "metadata": {},
   "outputs": [
    {
     "name": "stdout",
     "output_type": "stream",
     "text": [
      "Crop yield in Sinnoh region : 57.70\n"
     ]
    }
   ],
   "source": [
    "import math\n",
    "sinnoh_yield = crop_yield(region=sinnoh,weight=weights)\n",
    "print(\"Crop yield in Sinnoh region :\",\"%.2f\" % round(sinnoh_yield,1))"
   ]
  },
  {
   "cell_type": "code",
   "execution_count": 13,
   "id": "2104c776",
   "metadata": {},
   "outputs": [
    {
     "name": "stdout",
     "output_type": "stream",
     "text": [
      "Crop yield in Unova region : 74.9\n"
     ]
    }
   ],
   "source": [
    "unova_yield = crop_yield(region=unova,weight=weights)\n",
    "print(\"Crop yield in Unova region :\",unova_yield)"
   ]
  },
  {
   "cell_type": "markdown",
   "id": "da779454",
   "metadata": {},
   "source": [
    "> **The calculation performed by the `crop_yield` (element-wise multiplication of two vectors and taking a sum of the results) is also called the *dot product*. [Learn more about dot product here](https://www.khanacademy.org/math/linear-algebra/vectors-and-spaces/dot-cross-products/v/vector-dot-product-and-vector-length).**"
   ]
  },
  {
   "cell_type": "markdown",
   "id": "fb29c4dc",
   "metadata": {},
   "source": [
    "## Going from Python lists to NumPy\n",
    "The Numpy library provides a built-in function to compute the dot product of two vectors. However, we must first convert the lists into Numpy arrays."
   ]
  },
  {
   "cell_type": "markdown",
   "id": "c4173fed",
   "metadata": {},
   "source": [
    "**Let's install the Numpy library using `!pip install numpy --upgrade --quiet`. Here `pip` is a package manager.**"
   ]
  },
  {
   "cell_type": "code",
   "execution_count": null,
   "id": "420aa24d",
   "metadata": {},
   "outputs": [],
   "source": [
    "!pip install numpy --upgrade --quiet"
   ]
  },
  {
   "cell_type": "markdown",
   "id": "d700604f",
   "metadata": {},
   "source": [
    "**Next, let's `improt` the `numpy` module. It's common practice to import numpy with the *alias (short form to use again)* `np`.**"
   ]
  },
  {
   "cell_type": "code",
   "execution_count": 16,
   "id": "9fa72f56",
   "metadata": {},
   "outputs": [],
   "source": [
    "import numpy as np"
   ]
  },
  {
   "cell_type": "markdown",
   "id": "91391b61",
   "metadata": {},
   "source": [
    "**We can now use the `np.arry` function to create Numpy arrays.**"
   ]
  },
  {
   "cell_type": "code",
   "execution_count": 17,
   "id": "e7b8f2d9",
   "metadata": {},
   "outputs": [
    {
     "name": "stdout",
     "output_type": "stream",
     "text": [
      "[73 67 43]\n"
     ]
    }
   ],
   "source": [
    "kanto = np.array([73,67,43])\n",
    "print(kanto)"
   ]
  },
  {
   "cell_type": "code",
   "execution_count": 18,
   "id": "1e68e851",
   "metadata": {},
   "outputs": [
    {
     "data": {
      "text/plain": [
       "array([73, 67, 43])"
      ]
     },
     "execution_count": 18,
     "metadata": {},
     "output_type": "execute_result"
    }
   ],
   "source": [
    "# See the difference between `print(kanto)` and `kanto`\n",
    "kanto"
   ]
  },
  {
   "cell_type": "code",
   "execution_count": 19,
   "id": "02cef9b8",
   "metadata": {},
   "outputs": [
    {
     "data": {
      "text/plain": [
       "array([0.3, 0.2, 0.5])"
      ]
     },
     "execution_count": 19,
     "metadata": {},
     "output_type": "execute_result"
    }
   ],
   "source": [
    "weights = np.array([w1,w2,w3])\n",
    "weights"
   ]
  },
  {
   "cell_type": "markdown",
   "id": "0ceb24d0",
   "metadata": {},
   "source": [
    "**Numpy array have the type `ndarray`.**"
   ]
  },
  {
   "cell_type": "code",
   "execution_count": 20,
   "id": "a982a420",
   "metadata": {},
   "outputs": [
    {
     "data": {
      "text/plain": [
       "numpy.ndarray"
      ]
     },
     "execution_count": 20,
     "metadata": {},
     "output_type": "execute_result"
    }
   ],
   "source": [
    "type(kanto)"
   ]
  },
  {
   "cell_type": "code",
   "execution_count": 21,
   "id": "bdd1b0e1",
   "metadata": {},
   "outputs": [
    {
     "data": {
      "text/plain": [
       "numpy.ndarray"
      ]
     },
     "execution_count": 21,
     "metadata": {},
     "output_type": "execute_result"
    }
   ],
   "source": [
    "type(weights)"
   ]
  },
  {
   "cell_type": "markdown",
   "id": "5dc9985a",
   "metadata": {},
   "source": [
    "**Just like lists, Numpy arrays support the indexing notation `[]`.**"
   ]
  },
  {
   "cell_type": "code",
   "execution_count": 22,
   "id": "387af6b9",
   "metadata": {},
   "outputs": [
    {
     "data": {
      "text/plain": [
       "0.3"
      ]
     },
     "execution_count": 22,
     "metadata": {},
     "output_type": "execute_result"
    }
   ],
   "source": [
    "weights[0]"
   ]
  },
  {
   "cell_type": "code",
   "execution_count": 23,
   "id": "14685aa3",
   "metadata": {},
   "outputs": [
    {
     "data": {
      "text/plain": [
       "43"
      ]
     },
     "execution_count": 23,
     "metadata": {},
     "output_type": "execute_result"
    }
   ],
   "source": [
    "kanto[2]"
   ]
  },
  {
   "cell_type": "markdown",
   "id": "8abbfd95",
   "metadata": {},
   "source": [
    "## Operating on Numpy arrays"
   ]
  },
  {
   "cell_type": "markdown",
   "id": "183071ab",
   "metadata": {},
   "source": [
    "We can now compute the dot product of the two vectors using the `np.dot` function."
   ]
  },
  {
   "cell_type": "code",
   "execution_count": 24,
   "id": "dd60f68d",
   "metadata": {},
   "outputs": [
    {
     "data": {
      "text/plain": [
       "56.8"
      ]
     },
     "execution_count": 24,
     "metadata": {},
     "output_type": "execute_result"
    }
   ],
   "source": [
    "# Method-1 (Advance-Level)\n",
    "\n",
    "np.dot(kanto,weights)"
   ]
  },
  {
   "cell_type": "markdown",
   "id": "4c9a106b",
   "metadata": {},
   "source": [
    "> **Explanation :-** The `*` operator performs an element-wise multiplication of two arrays if they have the same size. The `sum` method calculates the sum of numbers in an array."
   ]
  },
  {
   "cell_type": "code",
   "execution_count": 25,
   "id": "d69d4a72",
   "metadata": {},
   "outputs": [],
   "source": [
    "# See the calculation:\n",
    "\n",
    "arr1 = np.array([1,2,3])\n",
    "arr2 = np.array([4,5,6])"
   ]
  },
  {
   "cell_type": "code",
   "execution_count": 26,
   "id": "0ec1d3b7",
   "metadata": {},
   "outputs": [
    {
     "data": {
      "text/plain": [
       "array([ 4, 10, 18])"
      ]
     },
     "execution_count": 26,
     "metadata": {},
     "output_type": "execute_result"
    }
   ],
   "source": [
    "# multiplication `*`\n",
    "\n",
    "arr1 * arr2"
   ]
  },
  {
   "cell_type": "code",
   "execution_count": 27,
   "id": "4634ecad",
   "metadata": {},
   "outputs": [
    {
     "data": {
      "text/plain": [
       "6"
      ]
     },
     "execution_count": 27,
     "metadata": {},
     "output_type": "execute_result"
    }
   ],
   "source": [
    "# Sumation `.sum()`\n",
    "\n",
    "arr1.sum()"
   ]
  },
  {
   "cell_type": "markdown",
   "id": "db34622c",
   "metadata": {},
   "source": [
    "### Benefits of using Numpy arrays:"
   ]
  },
  {
   "cell_type": "markdown",
   "id": "c7358ec9",
   "metadata": {},
   "source": [
    "Numpy array offer the following benefits over Python lists for operating on numerical data:"
   ]
  },
  {
   "cell_type": "markdown",
   "id": "118b9191",
   "metadata": {},
   "source": [
    "* **Ease Of Use:-** You can write small, concise, and intuitive mathematical expressions like `(kanto*weights).sum()` rather than using loops and custom functions like `crop_yield`.\n",
    "* **Performance:-** Numpy operations and functions are implemented initially in C++, which makes them much faster than using Python statements and loops that are interpreted at runtime"
   ]
  },
  {
   "cell_type": "markdown",
   "id": "4ee6814f",
   "metadata": {},
   "source": [
    "**Here is a comparison of dot products performed using Python loops vs Numpy array on two vectors with a million elements each.**"
   ]
  },
  {
   "cell_type": "code",
   "execution_count": 28,
   "id": "381d879e",
   "metadata": {},
   "outputs": [],
   "source": [
    "# Python lists\n",
    "arr1 = list(range(1000000))\n",
    "arr2 = list(range(1000000,2000000))\n",
    "\n",
    "# Numpy arrays\n",
    "arr1_np = np.array(arr1)\n",
    "arr2_np = np.array(arr2)"
   ]
  },
  {
   "cell_type": "code",
   "execution_count": 29,
   "id": "50aefc6f",
   "metadata": {},
   "outputs": [
    {
     "name": "stdout",
     "output_type": "stream",
     "text": [
      "CPU times: user 150 ms, sys: 0 ns, total: 150 ms\n",
      "Wall time: 149 ms\n"
     ]
    },
    {
     "data": {
      "text/plain": [
       "833332333333500000"
      ]
     },
     "execution_count": 29,
     "metadata": {},
     "output_type": "execute_result"
    }
   ],
   "source": [
    "%%time\n",
    "result = 0\n",
    "for x1, x2 in zip(arr1, arr2):\n",
    "    result += x1*x2\n",
    "result"
   ]
  },
  {
   "cell_type": "code",
   "execution_count": 30,
   "id": "1cc602f0",
   "metadata": {},
   "outputs": [
    {
     "name": "stdout",
     "output_type": "stream",
     "text": [
      "CPU times: user 2.85 ms, sys: 0 ns, total: 2.85 ms\n",
      "Wall time: 1.69 ms\n"
     ]
    },
    {
     "data": {
      "text/plain": [
       "833332333333500000"
      ]
     },
     "execution_count": 30,
     "metadata": {},
     "output_type": "execute_result"
    }
   ],
   "source": [
    "%%time\n",
    "np.dot(arr1_np,arr2_np)"
   ]
  },
  {
   "cell_type": "markdown",
   "id": "f75afdc1",
   "metadata": {},
   "source": [
    "* As you can see, using `np.dot` is 100 times faster than using a fokr loop. This makes Numpy especially useful while working with really large datasets with tens of thousands or millions of data points.  \n",
    "\n",
    "Let's save our work before continuing:"
   ]
  },
  {
   "cell_type": "markdown",
   "id": "366ecdf5",
   "metadata": {},
   "source": [
    "## Multi-dimensional Numpy arrays:"
   ]
  },
  {
   "cell_type": "markdown",
   "id": "3d59a8f3",
   "metadata": {},
   "source": [
    "We can now go one step further and represent the climate data for all the regions using a single 2-dimensional Numpy array."
   ]
  },
  {
   "cell_type": "code",
   "execution_count": 32,
   "id": "8e9791c8",
   "metadata": {},
   "outputs": [],
   "source": [
    "import numpy as np\n",
    "\n",
    "climate_data = np.array([[73,67,43],\n",
    "                         [91,88,64],\n",
    "                         [87,134,58],\n",
    "                         [102,43,37],\n",
    "                         [69,96,70]\n",
    "                        ])"
   ]
  },
  {
   "cell_type": "code",
   "execution_count": 33,
   "id": "e070222f",
   "metadata": {},
   "outputs": [
    {
     "data": {
      "text/plain": [
       "array([[ 73,  67,  43],\n",
       "       [ 91,  88,  64],\n",
       "       [ 87, 134,  58],\n",
       "       [102,  43,  37],\n",
       "       [ 69,  96,  70]])"
      ]
     },
     "execution_count": 33,
     "metadata": {},
     "output_type": "execute_result"
    }
   ],
   "source": [
    "climate_data"
   ]
  },
  {
   "cell_type": "markdown",
   "id": "a8b7505c",
   "metadata": {},
   "source": [
    "* If you've taken a linear algebra class in high school, you may recognize the above 2-D array as a matrix with five rows and three columns. Each row represents one region, and the columns represent temperature, rainfall, and humidity, respectively.\n",
    "\n",
    "Numpy arrays can have any number of dimensions and different lengths along each dimension. We can inspect the length along each dimension using the `.shape` property of an array.\n",
    "\n",
    "<img src=\"https://fgnt.github.io/python_crashkurs_doc/_images/numpy_array_t.png\" width=\"420\">"
   ]
  },
  {
   "cell_type": "code",
   "execution_count": 34,
   "id": "21ceb17e",
   "metadata": {},
   "outputs": [
    {
     "data": {
      "text/plain": [
       "(5, 3)"
      ]
     },
     "execution_count": 34,
     "metadata": {},
     "output_type": "execute_result"
    }
   ],
   "source": [
    "# 2-D array (or matrix)\n",
    "climate_data.shape"
   ]
  },
  {
   "cell_type": "code",
   "execution_count": 35,
   "id": "770454e1",
   "metadata": {},
   "outputs": [
    {
     "data": {
      "text/plain": [
       "array([0.3, 0.2, 0.5])"
      ]
     },
     "execution_count": 35,
     "metadata": {},
     "output_type": "execute_result"
    }
   ],
   "source": [
    "weights"
   ]
  },
  {
   "cell_type": "code",
   "execution_count": 36,
   "id": "f3ba8b63",
   "metadata": {},
   "outputs": [
    {
     "data": {
      "text/plain": [
       "(3,)"
      ]
     },
     "execution_count": 36,
     "metadata": {},
     "output_type": "execute_result"
    }
   ],
   "source": [
    "# 1-D array (or vector)\n",
    "weights.shape"
   ]
  },
  {
   "cell_type": "code",
   "execution_count": 37,
   "id": "a5f24d71",
   "metadata": {},
   "outputs": [],
   "source": [
    "# 3-D array\n",
    "arr3 = np.array([\n",
    "    [[11,12,13],\n",
    "    [13,14,15]],\n",
    "    [[15,16,17],\n",
    "    [17,18,19.5]]\n",
    "])"
   ]
  },
  {
   "cell_type": "code",
   "execution_count": 38,
   "id": "63795f6f",
   "metadata": {},
   "outputs": [
    {
     "data": {
      "text/plain": [
       "(2, 2, 3)"
      ]
     },
     "execution_count": 38,
     "metadata": {},
     "output_type": "execute_result"
    }
   ],
   "source": [
    "arr3.shape"
   ]
  },
  {
   "cell_type": "markdown",
   "id": "b0e3dd35",
   "metadata": {},
   "source": [
    "**All the elements in a numpy array have the same data type. You can check the data type of an array using the `.dtype` property.**"
   ]
  },
  {
   "cell_type": "code",
   "execution_count": 39,
   "id": "6fa52110",
   "metadata": {},
   "outputs": [
    {
     "data": {
      "text/plain": [
       "dtype('float64')"
      ]
     },
     "execution_count": 39,
     "metadata": {},
     "output_type": "execute_result"
    }
   ],
   "source": [
    "weights.dtype"
   ]
  },
  {
   "cell_type": "code",
   "execution_count": 40,
   "id": "2a74e14d",
   "metadata": {},
   "outputs": [
    {
     "data": {
      "text/plain": [
       "dtype('int64')"
      ]
     },
     "execution_count": 40,
     "metadata": {},
     "output_type": "execute_result"
    }
   ],
   "source": [
    "climate_data.dtype"
   ]
  },
  {
   "cell_type": "markdown",
   "id": "06d55c12",
   "metadata": {},
   "source": [
    "**If an array contains even a single floating point number, all the other elements are also converted to floats.**"
   ]
  },
  {
   "cell_type": "code",
   "execution_count": 41,
   "id": "c34b05fa",
   "metadata": {},
   "outputs": [
    {
     "data": {
      "text/plain": [
       "dtype('float64')"
      ]
     },
     "execution_count": 41,
     "metadata": {},
     "output_type": "execute_result"
    }
   ],
   "source": [
    "arr3.dtype"
   ]
  },
  {
   "cell_type": "markdown",
   "id": "e544212e",
   "metadata": {},
   "source": [
    "We can now compute the predicted yield of apples in all the regions, using a single matrix multiplication between `climate_data` (a 5×3 matrix) and `weights` (a vector of length 3). Here's what it looks like visually:\n",
    "\n",
    "<img src=\"https://i.imgur.com/LJ2WKSI.png\" width=\"240\">\n",
    "\n",
    "You can learn about matrices and matrix multiplication by watching the first 3-4 videos of this [playlist](https://www.youtube.com/watch?v=xyAuNHPsq-g&list=PLFD0EB975BA0CC1E0&index=1).  \n",
    "\n",
    "We can use the `np.matmul` function or the `@` operator to perform matrix multiplication."
   ]
  },
  {
   "cell_type": "code",
   "execution_count": 42,
   "id": "d5a2b0fd",
   "metadata": {},
   "outputs": [
    {
     "data": {
      "text/plain": [
       "array([56.8, 76.9, 81.9, 57.7, 74.9])"
      ]
     },
     "execution_count": 42,
     "metadata": {},
     "output_type": "execute_result"
    }
   ],
   "source": [
    "# Matrix multiplication or `.matmul` function.\n",
    "np.matmul(climate_data,weights)"
   ]
  },
  {
   "cell_type": "code",
   "execution_count": 43,
   "id": "f9a3d048",
   "metadata": {},
   "outputs": [
    {
     "data": {
      "text/plain": [
       "array([56.8, 76.9, 81.9, 57.7, 74.9])"
      ]
     },
     "execution_count": 43,
     "metadata": {},
     "output_type": "execute_result"
    }
   ],
   "source": [
    "# Matrix multiplication or dot product or @ operation.\n",
    "climate_data @ weights"
   ]
  },
  {
   "cell_type": "markdown",
   "id": "62013fb7",
   "metadata": {},
   "source": [
    "## Working with CSV (Comma Separated Value) data files:"
   ]
  },
  {
   "cell_type": "markdown",
   "id": "1c06ad6f",
   "metadata": {},
   "source": [
    "Numpy also provides helper functions reading from and writing to files. Let's download a file `climate.txt`, which contains 10,000 climate measurements (temperature, rainfall and humidity) in the following formate:\n",
    "\n",
    "```\n",
    "temperature, rainfall, humidity\n",
    "25.00, 76.00, 99.00\n",
    "39.00, 35.00, 70.00\n",
    "59.00, 45.00, 77.00\n",
    "84.00, 63.00, 38.00\n",
    "66.00, 50.00, 52.00\n",
    "41.00, 94.00, 77.00\n",
    "91.00, 57.00, 96.00\n",
    "49.00, 96.00, 99.00\n",
    "67.00, 20.00, 28.00\n",
    "...\n",
    "```\n",
    "\n",
    "This formate of storing data is known as *comma-separated-value* or CSV.\n",
    "\n",
    "> **CSVs :-** A comma-separated value (CSV) file is determined text file that uses a comma to separate values. Each line of the file is a data record. Each record consists of one or more fields,separated by commas.A CSV file typically stores tabular data (number and text) in plain text, in which case each line will have the same number of fields."
   ]
  },
  {
   "cell_type": "markdown",
   "id": "71d1ba2b",
   "metadata": {},
   "source": [
    "**To read this file into a numpy array, we can use the `genfromtext` function.**"
   ]
  },
  {
   "cell_type": "code",
   "execution_count": 44,
   "id": "aaa12d38",
   "metadata": {},
   "outputs": [
    {
     "data": {
      "text/plain": [
       "('climate.txt', <http.client.HTTPMessage at 0x7f5c22d8d430>)"
      ]
     },
     "execution_count": 44,
     "metadata": {},
     "output_type": "execute_result"
    }
   ],
   "source": [
    "import urllib.request\n",
    "\n",
    "urllib.request.urlretrieve('https://gist.github.com/BirajCoder/a4ffcb76fd6fb221d76ac2ee2b8584e9/raw/4054f90adfd361b7aa4255e99c2e874664094cea/climate.csv', \n",
    "    'climate.txt')"
   ]
  },
  {
   "cell_type": "code",
   "execution_count": 45,
   "id": "7d650465",
   "metadata": {},
   "outputs": [],
   "source": [
    "climate_data = np.genfromtxt('climate.txt',delimiter = ',',skip_header = 1)"
   ]
  },
  {
   "cell_type": "code",
   "execution_count": 46,
   "id": "ff958416",
   "metadata": {},
   "outputs": [
    {
     "data": {
      "text/plain": [
       "array([[25., 76., 99.],\n",
       "       [39., 65., 70.],\n",
       "       [59., 45., 77.],\n",
       "       ...,\n",
       "       [99., 62., 58.],\n",
       "       [70., 71., 91.],\n",
       "       [92., 39., 76.]])"
      ]
     },
     "execution_count": 46,
     "metadata": {},
     "output_type": "execute_result"
    }
   ],
   "source": [
    "climate_data"
   ]
  },
  {
   "cell_type": "code",
   "execution_count": 47,
   "id": "a093aedc",
   "metadata": {},
   "outputs": [
    {
     "data": {
      "text/plain": [
       "(10000, 3)"
      ]
     },
     "execution_count": 47,
     "metadata": {},
     "output_type": "execute_result"
    }
   ],
   "source": [
    "climate_data.shape"
   ]
  },
  {
   "cell_type": "markdown",
   "id": "819354eb",
   "metadata": {},
   "source": [
    "**We can now perform a matrix multiplication using the `@` operator to predict the yield of apples for the entire dataset using a given set of weights.**"
   ]
  },
  {
   "cell_type": "code",
   "execution_count": 48,
   "id": "2c02bb55",
   "metadata": {},
   "outputs": [
    {
     "data": {
      "text/plain": [
       "array([0.3, 0.2, 0.5])"
      ]
     },
     "execution_count": 48,
     "metadata": {},
     "output_type": "execute_result"
    }
   ],
   "source": [
    "weigths = np.array([.3,.2,.5])\n",
    "weights"
   ]
  },
  {
   "cell_type": "code",
   "execution_count": 49,
   "id": "d0ca7976",
   "metadata": {},
   "outputs": [],
   "source": [
    "yields = climate_data @ weights"
   ]
  },
  {
   "cell_type": "code",
   "execution_count": 50,
   "id": "7517efdf",
   "metadata": {},
   "outputs": [
    {
     "data": {
      "text/plain": [
       "array([72.2, 59.7, 65.2, ..., 71.1, 80.7, 73.4])"
      ]
     },
     "execution_count": 50,
     "metadata": {},
     "output_type": "execute_result"
    }
   ],
   "source": [
    "yields"
   ]
  },
  {
   "cell_type": "code",
   "execution_count": 51,
   "id": "7af9d9de",
   "metadata": {},
   "outputs": [
    {
     "data": {
      "text/plain": [
       "(10000,)"
      ]
     },
     "execution_count": 51,
     "metadata": {},
     "output_type": "execute_result"
    }
   ],
   "source": [
    "yields.shape"
   ]
  },
  {
   "cell_type": "markdown",
   "id": "71ddd352",
   "metadata": {},
   "source": [
    "**Let's add the `yields` to `climate_data` as a fourth column using the `np.concatenate` function.**"
   ]
  },
  {
   "cell_type": "code",
   "execution_count": 52,
   "id": "6b2cb78a",
   "metadata": {},
   "outputs": [],
   "source": [
    "climate_results = np.concatenate((climate_data,yields.reshape(10000,1)), axis=1)"
   ]
  },
  {
   "cell_type": "code",
   "execution_count": 53,
   "id": "2b0e40fd",
   "metadata": {},
   "outputs": [
    {
     "data": {
      "text/plain": [
       "array([[25. , 76. , 99. , 72.2],\n",
       "       [39. , 65. , 70. , 59.7],\n",
       "       [59. , 45. , 77. , 65.2],\n",
       "       ...,\n",
       "       [99. , 62. , 58. , 71.1],\n",
       "       [70. , 71. , 91. , 80.7],\n",
       "       [92. , 39. , 76. , 73.4]])"
      ]
     },
     "execution_count": 53,
     "metadata": {},
     "output_type": "execute_result"
    }
   ],
   "source": [
    "climate_results"
   ]
  },
  {
   "cell_type": "markdown",
   "id": "e7c29da7",
   "metadata": {},
   "source": [
    "> There are a couple of subtleties here:\n",
    ">  \n",
    "> * Since we wish to add new columns, we pass the argument `axis=1` to `np.concatenate`.The `axis` argument specifies the dimension of concatenation.\n",
    "> * The array should have the same number of dimensions, and the same length along each except the dimension used for concatenation. We use the `np.reshape` function to change the shape of `yields` from `(10000,)` to `(10000,1)`.\n"
   ]
  },
  {
   "cell_type": "markdown",
   "id": "6d3fb698",
   "metadata": {},
   "source": [
    "**Here is a visual explanation of `np.conacatenate` along `axis=1` (can you guess what `axis=0` result in?)**\n",
    "\n",
    "<img src=\"https://www.w3resource.com/w3r_images/python-numpy-image-exercise-58.png\" width=\"300\">\n",
    "\n",
    "**The best way to understand what a Numpy function does is to experiment with it and read the documentation to learn about it's arguments and return values. Use the cells below to experiment with `np.concatenate` and `np.reshape`.**"
   ]
  },
  {
   "cell_type": "code",
   "execution_count": 54,
   "id": "1e92f37a",
   "metadata": {},
   "outputs": [],
   "source": [
    "import numpy as np\n",
    "\n",
    "arr1 = np.array([[0,1,2],[5,7,9]])\n",
    "arr2 = np.array([[0,2,4],[6,8,10]])"
   ]
  },
  {
   "cell_type": "code",
   "execution_count": 55,
   "id": "b6f6b998",
   "metadata": {},
   "outputs": [
    {
     "data": {
      "text/plain": [
       "array([[0, 1, 2],\n",
       "       [5, 7, 9]])"
      ]
     },
     "execution_count": 55,
     "metadata": {},
     "output_type": "execute_result"
    }
   ],
   "source": [
    "arr1"
   ]
  },
  {
   "cell_type": "code",
   "execution_count": 56,
   "id": "8fd53eab",
   "metadata": {},
   "outputs": [
    {
     "data": {
      "text/plain": [
       "array([[ 0,  2,  4],\n",
       "       [ 6,  8, 10]])"
      ]
     },
     "execution_count": 56,
     "metadata": {},
     "output_type": "execute_result"
    }
   ],
   "source": [
    "arr2"
   ]
  },
  {
   "cell_type": "code",
   "execution_count": 57,
   "id": "d78e0d5e",
   "metadata": {},
   "outputs": [
    {
     "data": {
      "text/plain": [
       "array([[ 0,  1,  2,  0,  2,  4],\n",
       "       [ 5,  7,  9,  6,  8, 10]])"
      ]
     },
     "execution_count": 57,
     "metadata": {},
     "output_type": "execute_result"
    }
   ],
   "source": [
    "np.concatenate((arr1,arr2),1)"
   ]
  },
  {
   "cell_type": "code",
   "execution_count": 58,
   "id": "0437b960",
   "metadata": {},
   "outputs": [
    {
     "data": {
      "text/plain": [
       "array([[ 0,  1,  2],\n",
       "       [ 5,  7,  9],\n",
       "       [ 0,  2,  4],\n",
       "       [ 6,  8, 10]])"
      ]
     },
     "execution_count": 58,
     "metadata": {},
     "output_type": "execute_result"
    }
   ],
   "source": [
    "np.concatenate((arr1,arr2),0)"
   ]
  },
  {
   "cell_type": "code",
   "execution_count": 59,
   "id": "4f68ac64",
   "metadata": {},
   "outputs": [
    {
     "data": {
      "text/plain": [
       "array([[0, 1, 2],\n",
       "       [3, 4, 5]])"
      ]
     },
     "execution_count": 59,
     "metadata": {},
     "output_type": "execute_result"
    }
   ],
   "source": [
    "a=np.array([[0,1,2],[3,4,5]])\n",
    "a"
   ]
  },
  {
   "cell_type": "code",
   "execution_count": 60,
   "id": "49b3575b",
   "metadata": {},
   "outputs": [
    {
     "data": {
      "text/plain": [
       "array([[0, 1, 2],\n",
       "       [3, 4, 5]])"
      ]
     },
     "execution_count": 60,
     "metadata": {},
     "output_type": "execute_result"
    }
   ],
   "source": [
    "np.reshape(np.ravel(a, order='F'), (2, 3), order='F')"
   ]
  },
  {
   "cell_type": "code",
   "execution_count": 61,
   "id": "aa500a35",
   "metadata": {},
   "outputs": [
    {
     "data": {
      "text/plain": [
       "array([0, 1, 2, 3, 4, 5])"
      ]
     },
     "execution_count": 61,
     "metadata": {},
     "output_type": "execute_result"
    }
   ],
   "source": [
    "np.reshape(a, 6)"
   ]
  },
  {
   "cell_type": "code",
   "execution_count": 62,
   "id": "227ec441",
   "metadata": {},
   "outputs": [
    {
     "data": {
      "text/plain": [
       "array([0, 3, 1, 4, 2, 5])"
      ]
     },
     "execution_count": 62,
     "metadata": {},
     "output_type": "execute_result"
    }
   ],
   "source": [
    "np.reshape(a, 6, order='F')"
   ]
  },
  {
   "cell_type": "code",
   "execution_count": 63,
   "id": "5ef724bf",
   "metadata": {},
   "outputs": [
    {
     "data": {
      "text/plain": [
       "array([[0, 1],\n",
       "       [2, 3],\n",
       "       [4, 5]])"
      ]
     },
     "execution_count": 63,
     "metadata": {},
     "output_type": "execute_result"
    }
   ],
   "source": [
    "np.reshape(a, (3,-1))       # the unspecified value is inferred to be 2"
   ]
  },
  {
   "cell_type": "markdown",
   "id": "d2d682d4",
   "metadata": {},
   "source": [
    "**Let's write the final results from our computation above back to file using the `np.savetext` function.**"
   ]
  },
  {
   "cell_type": "code",
   "execution_count": 64,
   "id": "d905758d",
   "metadata": {},
   "outputs": [
    {
     "data": {
      "text/plain": [
       "array([[25. , 76. , 99. , 72.2],\n",
       "       [39. , 65. , 70. , 59.7],\n",
       "       [59. , 45. , 77. , 65.2],\n",
       "       ...,\n",
       "       [99. , 62. , 58. , 71.1],\n",
       "       [70. , 71. , 91. , 80.7],\n",
       "       [92. , 39. , 76. , 73.4]])"
      ]
     },
     "execution_count": 64,
     "metadata": {},
     "output_type": "execute_result"
    }
   ],
   "source": [
    "climate_results"
   ]
  },
  {
   "cell_type": "code",
   "execution_count": 65,
   "id": "58fdfd5c",
   "metadata": {},
   "outputs": [],
   "source": [
    "np.savetxt('climate_result..txt',\n",
    "          climate_results,\n",
    "          fmt = '%.2f',\n",
    "          delimiter = ',',\n",
    "          header = 'temperature, rainfall, humidity, yield_apples',\n",
    "          comments = '')"
   ]
  },
  {
   "cell_type": "markdown",
   "id": "05adee9c",
   "metadata": {},
   "source": [
    "**The results are written back in the CSV formate to the file `climate_results.txt`.**\n",
    "\n",
    "```\n",
    "temperature, rainfall, humidity, yield_apples\n",
    "25.00, 76.00, 99.00, 72.20\n",
    "39.00, 65.00, 70.00, 59.00\n",
    "59.00, 45.00, 77.00, 65.20\n",
    "84.00, 63.00, 38.00, 56.00\n",
    "...\n",
    "\n",
    "```\n",
    "\n",
    "**Numpy provides hundreds of functions for performing operations on arrays. Here are some commonly used function:**\n",
    "\n",
    "* Mathematics: `np.sum`, `np.exp`,`np.round`, arithmetic operators\n",
    "* Array manipulation: `np.reshape`, `np.stack`,`np.concatenate`, `np.split`\n",
    "* Linear Algebra: `np.matmul`,`np.dot`, `np.transpose`, `np.eigvals`\n",
    "* Statistics: `np.mean`, `np.median`, `np.std`, `np.max`\n",
    "\n",
    "> **How To Find The Function You Need?** The easiest way to find the right function for a specific operation or use-case is to do a web search. For instance, searching for \" How to join numpy arrays\" leads to [This Tutorial On Array Concatenation](https://cmdlinetips.com/2018/04/how-to-concatenate-arrays-in-numpy/).  \n",
    ">\n",
    "> **You can find a full list of array function - [Click Here](https://numpy.org/doc/stable/reference/routines.html).**\n"
   ]
  },
  {
   "cell_type": "markdown",
   "id": "a13e4bef",
   "metadata": {},
   "source": [
    "## Arithmetic Operations, Broadcasting and Comparison:"
   ]
  },
  {
   "cell_type": "markdown",
   "id": "5ecd0187",
   "metadata": {},
   "source": [
    "Numpy array support arithmetic operators like- `+`, `-`,`*`, `/`, etc. You can perform an arithmetic operation with a single number (also called scalar) or with another array of the same shape. Operators make it easy to write mathematical expressions with multi-dimensional arrays."
   ]
  },
  {
   "cell_type": "markdown",
   "id": "3191f8a4",
   "metadata": {},
   "source": [
    "### 1. Arithmetic Operations:"
   ]
  },
  {
   "cell_type": "code",
   "execution_count": 67,
   "id": "62fac952",
   "metadata": {},
   "outputs": [],
   "source": [
    "arr_1= np.array([[1,2,3,4],\n",
    "                [5,6,7,8],\n",
    "                [9,1,2,3,]])"
   ]
  },
  {
   "cell_type": "code",
   "execution_count": 68,
   "id": "a962fb88",
   "metadata": {},
   "outputs": [],
   "source": [
    "arr_2=np.array([[11,12,13,14],\n",
    "               [15,16,17,18],\n",
    "               [19,11,12,13]])"
   ]
  },
  {
   "cell_type": "code",
   "execution_count": 69,
   "id": "36c627f4",
   "metadata": {},
   "outputs": [
    {
     "data": {
      "text/plain": [
       "array([[ 6,  7,  8,  9],\n",
       "       [10, 11, 12, 13],\n",
       "       [14,  6,  7,  8]])"
      ]
     },
     "execution_count": 69,
     "metadata": {},
     "output_type": "execute_result"
    }
   ],
   "source": [
    "# Adding a scalar\n",
    "\n",
    "arr_1 + 5"
   ]
  },
  {
   "cell_type": "code",
   "execution_count": 70,
   "id": "3837d0a0",
   "metadata": {},
   "outputs": [
    {
     "data": {
      "text/plain": [
       "array([[-10, -10, -10, -10],\n",
       "       [-10, -10, -10, -10],\n",
       "       [-10, -10, -10, -10]])"
      ]
     },
     "execution_count": 70,
     "metadata": {},
     "output_type": "execute_result"
    }
   ],
   "source": [
    "# Element-wise substraction\n",
    "\n",
    "arr_1 - arr_2"
   ]
  },
  {
   "cell_type": "code",
   "execution_count": 71,
   "id": "e17869c5",
   "metadata": {},
   "outputs": [
    {
     "data": {
      "text/plain": [
       "array([[0, 1, 2, 3],\n",
       "       [4, 5, 6, 7],\n",
       "       [8, 0, 1, 2]])"
      ]
     },
     "execution_count": 71,
     "metadata": {},
     "output_type": "execute_result"
    }
   ],
   "source": [
    "# Scalar Substraction\n",
    "\n",
    "arr_1 - 1"
   ]
  },
  {
   "cell_type": "code",
   "execution_count": 72,
   "id": "13524d3e",
   "metadata": {},
   "outputs": [
    {
     "data": {
      "text/plain": [
       "array([[0.5, 1. , 1.5, 2. ],\n",
       "       [2.5, 3. , 3.5, 4. ],\n",
       "       [4.5, 0.5, 1. , 1.5]])"
      ]
     },
     "execution_count": 72,
     "metadata": {},
     "output_type": "execute_result"
    }
   ],
   "source": [
    "# Division by scalar\n",
    "\n",
    "arr_1 / 2"
   ]
  },
  {
   "cell_type": "code",
   "execution_count": 73,
   "id": "5e88bb61",
   "metadata": {},
   "outputs": [
    {
     "data": {
      "text/plain": [
       "array([[ 11,  24,  39,  56],\n",
       "       [ 75,  96, 119, 144],\n",
       "       [171,  11,  24,  39]])"
      ]
     },
     "execution_count": 73,
     "metadata": {},
     "output_type": "execute_result"
    }
   ],
   "source": [
    "# Element-wise multiplication\n",
    "\n",
    "arr_1 * arr_2"
   ]
  },
  {
   "cell_type": "code",
   "execution_count": 74,
   "id": "6f2db9bd",
   "metadata": {},
   "outputs": [
    {
     "data": {
      "text/plain": [
       "array([[3, 0, 1, 2],\n",
       "       [3, 0, 1, 2],\n",
       "       [3, 3, 0, 1]])"
      ]
     },
     "execution_count": 74,
     "metadata": {},
     "output_type": "execute_result"
    }
   ],
   "source": [
    "# Modulus with scalar\n",
    "\n",
    "arr_2 % 4"
   ]
  },
  {
   "cell_type": "code",
   "execution_count": 75,
   "id": "7148c339",
   "metadata": {},
   "outputs": [
    {
     "data": {
      "text/plain": [
       "array([[1, 2, 3, 4],\n",
       "       [0, 1, 2, 3],\n",
       "       [4, 1, 2, 3]])"
      ]
     },
     "execution_count": 75,
     "metadata": {},
     "output_type": "execute_result"
    }
   ],
   "source": [
    "arr_1%5"
   ]
  },
  {
   "cell_type": "markdown",
   "id": "2945cc68",
   "metadata": {},
   "source": [
    "### 2. Array Broadcasting:"
   ]
  },
  {
   "cell_type": "markdown",
   "id": "c3dbaf32",
   "metadata": {},
   "source": [
    "Numpy array also support *broadcasting*, allowing arithmetic operations between two arrays with different numbers of dimensions but compatible shapes. Let's look at an example to see how it works."
   ]
  },
  {
   "cell_type": "code",
   "execution_count": 76,
   "id": "479d315f",
   "metadata": {},
   "outputs": [
    {
     "data": {
      "text/plain": [
       "array([[1, 2, 3, 4],\n",
       "       [5, 6, 7, 8],\n",
       "       [9, 1, 2, 3]])"
      ]
     },
     "execution_count": 76,
     "metadata": {},
     "output_type": "execute_result"
    }
   ],
   "source": [
    "arr_1"
   ]
  },
  {
   "cell_type": "code",
   "execution_count": 77,
   "id": "caf0783a",
   "metadata": {},
   "outputs": [
    {
     "data": {
      "text/plain": [
       "(3, 4)"
      ]
     },
     "execution_count": 77,
     "metadata": {},
     "output_type": "execute_result"
    }
   ],
   "source": [
    "arr_1.shape"
   ]
  },
  {
   "cell_type": "code",
   "execution_count": 78,
   "id": "c0488b8e",
   "metadata": {},
   "outputs": [],
   "source": [
    "arr_3 = np.array([9,5,1,3])"
   ]
  },
  {
   "cell_type": "code",
   "execution_count": 79,
   "id": "e35cea11",
   "metadata": {},
   "outputs": [
    {
     "data": {
      "text/plain": [
       "(4,)"
      ]
     },
     "execution_count": 79,
     "metadata": {},
     "output_type": "execute_result"
    }
   ],
   "source": [
    "arr_3.shape"
   ]
  },
  {
   "cell_type": "code",
   "execution_count": 80,
   "id": "89af30a9",
   "metadata": {},
   "outputs": [
    {
     "data": {
      "text/plain": [
       "array([[10,  7,  4,  7],\n",
       "       [14, 11,  8, 11],\n",
       "       [18,  6,  3,  6]])"
      ]
     },
     "execution_count": 80,
     "metadata": {},
     "output_type": "execute_result"
    }
   ],
   "source": [
    "arr_1 + arr_3"
   ]
  },
  {
   "cell_type": "markdown",
   "id": "6a6cb622",
   "metadata": {},
   "source": [
    "* **Conclusion:-** When the expression `arr_1 + arr_3` is evaluated, `arr_3` (which has the shape `(4,)`) is replicated three times to match the shape `(3,4)` of `arr_1`. Numpy performs the replication without actually creating three copies of the smaller dimension array, thus improving performance and using lower memory.\n",
    "\n",
    "<img src=\"https://jakevdp.github.io/PythonDataScienceHandbook/figures/02.05-broadcasting.png\" width=\"360\">\n",
    "\n",
    "* **Broadcasting only works if one of the arrays can be replicated to match the other array's shape.**"
   ]
  },
  {
   "cell_type": "code",
   "execution_count": 81,
   "id": "d92b19c3",
   "metadata": {},
   "outputs": [],
   "source": [
    "arr_3 = np.array([7,8])"
   ]
  },
  {
   "cell_type": "code",
   "execution_count": 83,
   "id": "bff06915",
   "metadata": {},
   "outputs": [
    {
     "data": {
      "text/plain": [
       "(2,)"
      ]
     },
     "execution_count": 83,
     "metadata": {},
     "output_type": "execute_result"
    }
   ],
   "source": [
    "arr_3.shape"
   ]
  },
  {
   "cell_type": "code",
   "execution_count": 84,
   "id": "3b9a78c7",
   "metadata": {},
   "outputs": [
    {
     "ename": "ValueError",
     "evalue": "operands could not be broadcast together with shapes (3,4) (2,) ",
     "output_type": "error",
     "traceback": [
      "\u001b[0;31m---------------------------------------------------------------------------\u001b[0m",
      "\u001b[0;31mValueError\u001b[0m                                Traceback (most recent call last)",
      "\u001b[0;32m/tmp/ipykernel_77/3103267303.py\u001b[0m in \u001b[0;36m<module>\u001b[0;34m\u001b[0m\n\u001b[0;32m----> 1\u001b[0;31m \u001b[0marr_1\u001b[0m \u001b[0;34m+\u001b[0m \u001b[0marr_3\u001b[0m\u001b[0;34m\u001b[0m\u001b[0;34m\u001b[0m\u001b[0m\n\u001b[0m",
      "\u001b[0;31mValueError\u001b[0m: operands could not be broadcast together with shapes (3,4) (2,) "
     ]
    }
   ],
   "source": [
    "arr_1 + arr_3"
   ]
  },
  {
   "cell_type": "markdown",
   "id": "1ed4efd0",
   "metadata": {},
   "source": [
    "* **Conclusion:-** In the above example, even if `arr_3` is replicated thre times, it will not match the shape of `arr_1`. Hence `arr_1 + arr_3` cannot be evaluated successfully.  \n",
    "\n",
    "\n",
    "* To learn more about broadcasting : [click here](https://numpy.org/doc/stable/user/basics.broadcasting.html)."
   ]
  },
  {
   "cell_type": "markdown",
   "id": "353bcd69",
   "metadata": {},
   "source": [
    "### Array Comparison:\n",
    "Numpy array also support comparison operation like `==`, `!=`, `>` etc. The result is an array of booleans."
   ]
  },
  {
   "cell_type": "code",
   "execution_count": 91,
   "id": "2a88995e",
   "metadata": {},
   "outputs": [],
   "source": [
    "arr1 = np.array([[1,2,3],[3,4,5]])\n",
    "arr2 = np.array([[2,2,3],[1,2,3]])"
   ]
  },
  {
   "cell_type": "code",
   "execution_count": 92,
   "id": "2a1d98a5",
   "metadata": {},
   "outputs": [
    {
     "data": {
      "text/plain": [
       "array([[False,  True,  True],\n",
       "       [False, False, False]])"
      ]
     },
     "execution_count": 92,
     "metadata": {},
     "output_type": "execute_result"
    }
   ],
   "source": [
    "arr1 == arr2"
   ]
  },
  {
   "cell_type": "code",
   "execution_count": 93,
   "id": "8cfad99c",
   "metadata": {},
   "outputs": [
    {
     "data": {
      "text/plain": [
       "array([[ True, False, False],\n",
       "       [ True,  True,  True]])"
      ]
     },
     "execution_count": 93,
     "metadata": {},
     "output_type": "execute_result"
    }
   ],
   "source": [
    "arr1 != arr2"
   ]
  },
  {
   "cell_type": "code",
   "execution_count": 94,
   "id": "b05253b5",
   "metadata": {},
   "outputs": [
    {
     "data": {
      "text/plain": [
       "array([[False,  True,  True],\n",
       "       [ True,  True,  True]])"
      ]
     },
     "execution_count": 94,
     "metadata": {},
     "output_type": "execute_result"
    }
   ],
   "source": [
    "arr1 >= arr2"
   ]
  },
  {
   "cell_type": "code",
   "execution_count": 95,
   "id": "9ce69d3b",
   "metadata": {},
   "outputs": [
    {
     "data": {
      "text/plain": [
       "array([[ True, False, False],\n",
       "       [False, False, False]])"
      ]
     },
     "execution_count": 95,
     "metadata": {},
     "output_type": "execute_result"
    }
   ],
   "source": [
    "arr1 < arr2"
   ]
  },
  {
   "cell_type": "markdown",
   "id": "4ac9f707",
   "metadata": {},
   "source": [
    "**Note:-**\n",
    "1. All comparison is element-wise.\n",
    "2. Array comparison is frequently used to count the number of equal elements in two array using the `sum` method. Remember that `True` evaluates to `1` and `False` evaluates to `0` when booleans are used in arithmetic operations."
   ]
  },
  {
   "cell_type": "code",
   "execution_count": 96,
   "id": "6ed19673",
   "metadata": {},
   "outputs": [
    {
     "data": {
      "text/plain": [
       "2"
      ]
     },
     "execution_count": 96,
     "metadata": {},
     "output_type": "execute_result"
    }
   ],
   "source": [
    "(arr1==arr2).sum()"
   ]
  },
  {
   "cell_type": "markdown",
   "id": "1a3833a7",
   "metadata": {},
   "source": [
    "### Array indexing and slicing:\n",
    "Numpy extends Python's list indexing notation using `[]` to multiple dimensions in an intuitive fashion. You can provide a comma-separated list of indices or ranges to select a specific element or a sub-array (also called a slice) from a Numpy array. "
   ]
  },
  {
   "cell_type": "code",
   "execution_count": 97,
   "id": "52f34173",
   "metadata": {},
   "outputs": [],
   "source": [
    "arr3 = np.array([\n",
    "    [[11,12,13,14],\n",
    "     [13,14,15,16]],\n",
    "    \n",
    "    [[15,16,17,18],\n",
    "    [63,64,65,66]],\n",
    "    \n",
    "    [[19,20,27,26],\n",
    "    [71,72,73,74]]\n",
    "])"
   ]
  },
  {
   "cell_type": "code",
   "execution_count": 98,
   "id": "b23ce2a1",
   "metadata": {},
   "outputs": [
    {
     "data": {
      "text/plain": [
       "(3, 2, 4)"
      ]
     },
     "execution_count": 98,
     "metadata": {},
     "output_type": "execute_result"
    }
   ],
   "source": [
    "arr3.shape"
   ]
  },
  {
   "cell_type": "code",
   "execution_count": 99,
   "id": "ba83cd59",
   "metadata": {},
   "outputs": [
    {
     "data": {
      "text/plain": [
       "65"
      ]
     },
     "execution_count": 99,
     "metadata": {},
     "output_type": "execute_result"
    }
   ],
   "source": [
    "# Single element\n",
    "arr3[1,1,2]"
   ]
  },
  {
   "cell_type": "code",
   "execution_count": 100,
   "id": "e664281f",
   "metadata": {},
   "outputs": [
    {
     "data": {
      "text/plain": [
       "11"
      ]
     },
     "execution_count": 100,
     "metadata": {},
     "output_type": "execute_result"
    }
   ],
   "source": [
    "arr3[0,0,0]"
   ]
  },
  {
   "cell_type": "markdown",
   "id": "594e70a7",
   "metadata": {},
   "source": [
    "**Note:-** \n",
    "* Indexing is from Zero To N-1 as in list but it's a array or matrix form.  \n",
    "\n",
    "```\n",
    "arr_[x,y,z]\n",
    "\n",
    "* x = width index \n",
    "                or\n",
    "      index in first bracket\n",
    "* y = row index \n",
    "                or\n",
    "      index in second bracket\n",
    "* z = column index \n",
    "                or\n",
    "      index in third bracket\n",
    "     \n",
    "```  \n",
    "* This form of command's output is a single value of array / matrix."
   ]
  },
  {
   "cell_type": "code",
   "execution_count": 102,
   "id": "0df32304",
   "metadata": {},
   "outputs": [
    {
     "data": {
      "text/plain": [
       "array([[[11, 12, 13, 14],\n",
       "        [13, 14, 15, 16]],\n",
       "\n",
       "       [[15, 16, 17, 18],\n",
       "        [63, 64, 65, 66]],\n",
       "\n",
       "       [[19, 20, 27, 26],\n",
       "        [71, 72, 73, 74]]])"
      ]
     },
     "execution_count": 102,
     "metadata": {},
     "output_type": "execute_result"
    }
   ],
   "source": [
    "arr3"
   ]
  },
  {
   "cell_type": "code",
   "execution_count": 101,
   "id": "51601174",
   "metadata": {},
   "outputs": [
    {
     "data": {
      "text/plain": [
       "array([[[15, 16]],\n",
       "\n",
       "       [[19, 20]]])"
      ]
     },
     "execution_count": 101,
     "metadata": {},
     "output_type": "execute_result"
    }
   ],
   "source": [
    "# Sub-array using ranges\n",
    "\n",
    "arr3[1:, 0:1, :2]"
   ]
  },
  {
   "cell_type": "code",
   "execution_count": 103,
   "id": "5e8793e0",
   "metadata": {},
   "outputs": [
    {
     "data": {
      "text/plain": [
       "array([[63, 64, 65],\n",
       "       [71, 72, 73]])"
      ]
     },
     "execution_count": 103,
     "metadata": {},
     "output_type": "execute_result"
    }
   ],
   "source": [
    "# Mixing indices and ranges\n",
    "\n",
    "arr3[1:, 1, :3]"
   ]
  },
  {
   "cell_type": "code",
   "execution_count": null,
   "id": "07e54e74",
   "metadata": {},
   "outputs": [],
   "source": [
    "# Using fewer indices\n",
    "\n",
    "arr3[1]"
   ]
  },
  {
   "cell_type": "code",
   "execution_count": null,
   "id": "cf89076e",
   "metadata": {},
   "outputs": [],
   "source": [
    "# Using fewer indices\n",
    "\n",
    "arr3[:3, 1]"
   ]
  },
  {
   "cell_type": "code",
   "execution_count": 105,
   "id": "36cad400",
   "metadata": {},
   "outputs": [
    {
     "ename": "NameError",
     "evalue": "name 'arr' is not defined",
     "output_type": "error",
     "traceback": [
      "\u001b[0;31m---------------------------------------------------------------------------\u001b[0m",
      "\u001b[0;31mNameError\u001b[0m                                 Traceback (most recent call last)",
      "\u001b[0;32m/tmp/ipykernel_77/3207688357.py\u001b[0m in \u001b[0;36m<module>\u001b[0;34m\u001b[0m\n\u001b[1;32m      1\u001b[0m \u001b[0;31m# Using too many indices\u001b[0m\u001b[0;34m\u001b[0m\u001b[0;34m\u001b[0m\u001b[0;34m\u001b[0m\u001b[0m\n\u001b[1;32m      2\u001b[0m \u001b[0;34m\u001b[0m\u001b[0m\n\u001b[0;32m----> 3\u001b[0;31m \u001b[0marr\u001b[0m\u001b[0;34m[\u001b[0m\u001b[0;36m1\u001b[0m\u001b[0;34m,\u001b[0m\u001b[0;36m3\u001b[0m\u001b[0;34m,\u001b[0m\u001b[0;36m2\u001b[0m\u001b[0;34m,\u001b[0m\u001b[0;36m0\u001b[0m\u001b[0;34m]\u001b[0m\u001b[0;34m\u001b[0m\u001b[0;34m\u001b[0m\u001b[0m\n\u001b[0m",
      "\u001b[0;31mNameError\u001b[0m: name 'arr' is not defined"
     ]
    }
   ],
   "source": [
    "# Using too many indices\n",
    "\n",
    "arr[1,3,2,0]"
   ]
  },
  {
   "cell_type": "markdown",
   "id": "078d02b9",
   "metadata": {},
   "source": [
    "**The  notation and it's results can seem confusing at first, so take your time to experiment and become comfortable with it. Use the cells below to try out some examples of array indexing and slicing, with different combinations of indices and ranges. Here are some more examples demonstrated visually:**  \n",
    "\n",
    "<img src=\"https://scipy-lectures.org/_images/numpy_indexing.png\" width=\"360\">"
   ]
  },
  {
   "cell_type": "code",
   "execution_count": 106,
   "id": "5ed04db4",
   "metadata": {},
   "outputs": [],
   "source": [
    "a = np.array([[0,1,2,3,4,5],\n",
    "             [10,11,12,13,14,15],\n",
    "             [20,21,22,23,24,25],\n",
    "             [30,31,32,33,34,35],\n",
    "             [40,41,42,43,44,45],\n",
    "             [50,51,52,53,54,55]])"
   ]
  },
  {
   "cell_type": "code",
   "execution_count": 107,
   "id": "52cfc675",
   "metadata": {},
   "outputs": [
    {
     "data": {
      "text/plain": [
       "array([[ 0,  1,  2,  3,  4,  5],\n",
       "       [10, 11, 12, 13, 14, 15],\n",
       "       [20, 21, 22, 23, 24, 25],\n",
       "       [30, 31, 32, 33, 34, 35],\n",
       "       [40, 41, 42, 43, 44, 45],\n",
       "       [50, 51, 52, 53, 54, 55]])"
      ]
     },
     "execution_count": 107,
     "metadata": {},
     "output_type": "execute_result"
    }
   ],
   "source": [
    "a"
   ]
  },
  {
   "cell_type": "code",
   "execution_count": 108,
   "id": "25537ea8",
   "metadata": {},
   "outputs": [
    {
     "data": {
      "text/plain": [
       "array([0, 1, 2, 3, 4, 5])"
      ]
     },
     "execution_count": 108,
     "metadata": {},
     "output_type": "execute_result"
    }
   ],
   "source": [
    "a[0]"
   ]
  },
  {
   "cell_type": "code",
   "execution_count": 109,
   "id": "00db7aec",
   "metadata": {},
   "outputs": [
    {
     "data": {
      "text/plain": [
       "array([3, 4])"
      ]
     },
     "execution_count": 109,
     "metadata": {},
     "output_type": "execute_result"
    }
   ],
   "source": [
    "a[0,3:5]"
   ]
  },
  {
   "cell_type": "code",
   "execution_count": 110,
   "id": "3669b37f",
   "metadata": {},
   "outputs": [
    {
     "data": {
      "text/plain": [
       "array([[44, 45],\n",
       "       [54, 55]])"
      ]
     },
     "execution_count": 110,
     "metadata": {},
     "output_type": "execute_result"
    }
   ],
   "source": [
    "a[4:,4:]"
   ]
  },
  {
   "cell_type": "code",
   "execution_count": 111,
   "id": "dd245af0",
   "metadata": {},
   "outputs": [
    {
     "data": {
      "text/plain": [
       "array([ 2, 12, 22, 32, 42, 52])"
      ]
     },
     "execution_count": 111,
     "metadata": {},
     "output_type": "execute_result"
    }
   ],
   "source": [
    "a[:,2]"
   ]
  },
  {
   "cell_type": "code",
   "execution_count": 113,
   "id": "0f714a67",
   "metadata": {},
   "outputs": [
    {
     "data": {
      "text/plain": [
       "array([[22, 24],\n",
       "       [42, 44]])"
      ]
     },
     "execution_count": 113,
     "metadata": {},
     "output_type": "execute_result"
    }
   ],
   "source": [
    "a[2::2,2::2]"
   ]
  },
  {
   "cell_type": "code",
   "execution_count": 114,
   "id": "cf7c96ce",
   "metadata": {},
   "outputs": [
    {
     "data": {
      "text/plain": [
       "array([[ 0,  2,  4],\n",
       "       [20, 22, 24],\n",
       "       [40, 42, 44]])"
      ]
     },
     "execution_count": 114,
     "metadata": {},
     "output_type": "execute_result"
    }
   ],
   "source": [
    "a[::2,::2]"
   ]
  },
  {
   "cell_type": "markdown",
   "id": "1e9cb5cc",
   "metadata": {},
   "source": [
    "## Other ways of creating Numpy arrays\n",
    "Numpy also provides some handy to create arrays of desired shapes with fixed or random values. Check out the [Official Documentaion](https://numpy.org/doc/stable/reference/routines.array-creation.html) or use the `help` function or use the shortcut key `Shift + Tab` to learn more."
   ]
  },
  {
   "cell_type": "code",
   "execution_count": 115,
   "id": "51af167b",
   "metadata": {},
   "outputs": [
    {
     "data": {
      "text/plain": [
       "array([[0., 0.],\n",
       "       [0., 0.],\n",
       "       [0., 0.]])"
      ]
     },
     "execution_count": 115,
     "metadata": {},
     "output_type": "execute_result"
    }
   ],
   "source": [
    "# All zeros\n",
    "np.zeros((3,2))"
   ]
  },
  {
   "cell_type": "code",
   "execution_count": 116,
   "id": "f47b4c70",
   "metadata": {},
   "outputs": [
    {
     "data": {
      "text/plain": [
       "array([[[1., 1., 1.],\n",
       "        [1., 1., 1.]],\n",
       "\n",
       "       [[1., 1., 1.],\n",
       "        [1., 1., 1.]]])"
      ]
     },
     "execution_count": 116,
     "metadata": {},
     "output_type": "execute_result"
    }
   ],
   "source": [
    "# All ones\n",
    "np.ones([2,2,3])"
   ]
  },
  {
   "cell_type": "code",
   "execution_count": 117,
   "id": "25fdbb15",
   "metadata": {},
   "outputs": [
    {
     "data": {
      "text/plain": [
       "array([[1., 0.],\n",
       "       [0., 1.]])"
      ]
     },
     "execution_count": 117,
     "metadata": {},
     "output_type": "execute_result"
    }
   ],
   "source": [
    "# Identity Matrix\n",
    "np.eye(2)"
   ]
  },
  {
   "cell_type": "code",
   "execution_count": 118,
   "id": "029c16cc",
   "metadata": {},
   "outputs": [
    {
     "data": {
      "text/plain": [
       "array([[1., 0., 0.],\n",
       "       [0., 1., 0.],\n",
       "       [0., 0., 1.]])"
      ]
     },
     "execution_count": 118,
     "metadata": {},
     "output_type": "execute_result"
    }
   ],
   "source": [
    "np.eye(3)"
   ]
  },
  {
   "cell_type": "code",
   "execution_count": 120,
   "id": "4fe2c4e8",
   "metadata": {},
   "outputs": [
    {
     "data": {
      "text/plain": [
       "array([0.91739278, 0.03187741, 0.5090057 , 0.09318413, 0.03397519])"
      ]
     },
     "execution_count": 120,
     "metadata": {},
     "output_type": "execute_result"
    }
   ],
   "source": [
    "# Random vector\n",
    "np.random.rand(5)\n",
    "\n",
    "# note- this produce a random vector with 5 value i.e. columns."
   ]
  },
  {
   "cell_type": "code",
   "execution_count": 121,
   "id": "49a75746",
   "metadata": {},
   "outputs": [
    {
     "data": {
      "text/plain": [
       "array([[0.39610102, 0.38906641, 0.93856208],\n",
       "       [0.69755859, 0.70105902, 0.7077818 ]])"
      ]
     },
     "execution_count": 121,
     "metadata": {},
     "output_type": "execute_result"
    }
   ],
   "source": [
    "# Random matrix\n",
    "np.random.rand(2,3)"
   ]
  },
  {
   "cell_type": "markdown",
   "id": "3f96c03b",
   "metadata": {},
   "source": [
    "> **Difference between `.rand()` and `randn()` :-** \n",
    "> * `.rand()` - Used for number of random value i.e `columns`.\n",
    "> * `.randn()` - Used with two `arguments First` one is for number of `rows` and `argument Second` one for number of `columns`.   \n",
    "> * Note that the default random values are between 0 and 1. We will see further how to set required random values."
   ]
  },
  {
   "cell_type": "code",
   "execution_count": 122,
   "id": "022ff3ba",
   "metadata": {},
   "outputs": [
    {
     "data": {
      "text/plain": [
       "array([[42, 42, 42],\n",
       "       [42, 42, 42]])"
      ]
     },
     "execution_count": 122,
     "metadata": {},
     "output_type": "execute_result"
    }
   ],
   "source": [
    "# Fixed value\n",
    "np.full([2,3],42)"
   ]
  },
  {
   "cell_type": "code",
   "execution_count": 124,
   "id": "f5fc2581",
   "metadata": {},
   "outputs": [
    {
     "data": {
      "text/plain": [
       "array([10, 13, 16, 19, 22, 25, 28, 31, 34, 37, 40, 43, 46, 49, 52, 55, 58,\n",
       "       61, 64, 67, 70, 73, 76, 79, 82, 85, 88])"
      ]
     },
     "execution_count": 124,
     "metadata": {},
     "output_type": "execute_result"
    }
   ],
   "source": [
    "# Range with start(1st argument), end(2nd argument) and step(3rd argument)\n",
    "np.arange(10,90,3)\n"
   ]
  },
  {
   "cell_type": "code",
   "execution_count": 126,
   "id": "7442e337",
   "metadata": {},
   "outputs": [
    {
     "data": {
      "text/plain": [
       "array([ 3.,  6.,  9., 12., 15., 18., 21., 24., 27.])"
      ]
     },
     "execution_count": 126,
     "metadata": {},
     "output_type": "execute_result"
    }
   ],
   "source": [
    "# Equally spaced numbers in a range\n",
    "np.linspace(3,27,9)"
   ]
  },
  {
   "cell_type": "markdown",
   "id": "79ed554f",
   "metadata": {},
   "source": [
    "## Exercises:\n",
    "**Trying the following exercises to become familiar with Numpy arrays:**\n",
    "\n",
    "* Assignment On Numpy array functions : [click here](https://jovian.ai/aakashns/numpy-array-operations).\n",
    "* 100 Numpy Exercises: [click here](https://jovian.ai/aakashns/100-numpy-exercises)."
   ]
  },
  {
   "cell_type": "markdown",
   "id": "936a428c",
   "metadata": {},
   "source": [
    "## Summary and Further Reading:\n",
    "With this, we complete our discussion of numerical computing with Numpy. We've covered the following topics in this tutorial:\n",
    "\n",
    "* Going from Python lists to Numpy arrays\n",
    "* Operating on Numpy arrays\n",
    "* Benefits of using Numpy arrays over lists\n",
    "* Multi-dimensional Numpy arrays\n",
    "* Working with CSV data files\n",
    "* Arithmetic operations and broadcasting\n",
    "* Array indexing and slicing\n",
    "* Other ways of creating Numpy arrays"
   ]
  },
  {
   "cell_type": "markdown",
   "id": "c18c3f2f",
   "metadata": {},
   "source": [
    "**Check out the following resources for learning more about Numpy:**\n",
    "\n",
    "* Official Tutorial: [Click Here](https://numpy.org/devdocs/user/quickstart.html).\n",
    "* Numpy Tutorial On W3Schools: [Click Here](https://www.w3schools.com/python/numpy_intro.asp).\n",
    "* Advanced Numpy (exploring the internals): [Click Here](http://scipy-lectures.org/advanced/advanced_numpy/index.html).\n"
   ]
  },
  {
   "cell_type": "markdown",
   "id": "eb00af80",
   "metadata": {},
   "source": [
    "## Questions for Revision\n",
    "\n",
    "Try answering the following questions to test your understanding of the topics covered in this notebook:\n",
    "\n",
    "1. What is a vector?\n",
    "2. How do you represent vectors using a Python list? Give an example.\n",
    "3. What is a dot product of two vectors?\n",
    "4. Write a function to compute the dot product of two vectors.\n",
    "5. What is Numpy?\n",
    "6. How do you install Numpy?\n",
    "7. How do you import the `numpy` module?\n",
    "8. What does it mean to import a module with an alias? Give an example.\n",
    "9. What is the commonly used alias for `numpy`?\n",
    "10. What is a Numpy array?\n",
    "11. How do you create a Numpy array? Give an example.\n",
    "12. What is the type of Numpy arrays?\n",
    "13. How do you access the elements of a Numpy array?\n",
    "14. How do you compute the dot product of two vectors using Numpy?\n",
    "15. What happens if you try to compute the dot product of two vectors which have different sizes?\n",
    "16. How do you compute the element-wise product of two Numpy arrays?\n",
    "17. How do you compute the sum of all the elements in a Numpy array?\n",
    "18. What are the benefits of using Numpy arrays over Python lists for operating on numerical data?\n",
    "19. Why do Numpy array operations have better performance compared to Python functions and loops?\n",
    "20. Illustrate the performance difference between Numpy array operations and Python loops using an example.\n",
    "21. What are multi-dimensional Numpy arrays? \n",
    "22. Illustrate the creation of Numpy arrays with 2, 3, and 4 dimensions.\n",
    "23. How do you inspect the number of dimensions and the length along each dimension in a Numpy array?\n",
    "24. Can the elements of a Numpy array have different data types?\n",
    "25. How do you check the data type of the elements of a Numpy array?\n",
    "26. What is the data type of a Numpy array?\n",
    "27. What is the difference between a matrix and a 2D Numpy array?\n",
    "28. How do you perform matrix multiplication using Numpy?\n",
    "29. What is the `@` operator used for in Numpy?\n",
    "30. What is the CSV file format?\n",
    "31. How do you read data from a CSV file using Numpy?\n",
    "32. How do you concatenate two Numpy arrays?\n",
    "33. What is the purpose of the `axis` argument of `np.concatenate`?\n",
    "34. When are two Numpy arrays compatible for concatenation?\n",
    "35. Give an example of two Numpy arrays that can be concatenated.\n",
    "36. Give an example of two Numpy arrays that cannot be concatenated.\n",
    "37. What is the purpose of the `np.reshape` function?\n",
    "38. What does it mean to “reshape” a Numpy array?\n",
    "39. How do you write a numpy array into a CSV file?\n",
    "40. Give some examples of Numpy functions for performing mathematical operations.\n",
    "41. Give some examples of Numpy functions for performing array manipulation.\n",
    "42. Give some examples of Numpy functions for performing linear algebra.\n",
    "43. Give some examples of Numpy functions for performing statistical operations.\n",
    "44. How do you find the right Numpy function for a specific operation or use case?\n",
    "45. Where can you see a list of all the Numpy array functions and operations?\n",
    "46. What are the arithmetic operators supported by Numpy arrays? Illustrate with examples.\n",
    "47. What is array broadcasting? How is it useful? Illustrate with an example.\n",
    "48. Give some examples of arrays that are compatible for broadcasting?\n",
    "49. Give some examples of arrays that are not compatible for broadcasting?\n",
    "50. What are the comparison operators supported by Numpy arrays? Illustrate with examples.\n",
    "51. How do you access a specific subarray or slice from a Numpy array?\n",
    "52. Illustrate array indexing and slicing in multi-dimensional Numpy arrays with some examples.\n",
    "53. How do you create a Numpy array with a given shape containing all zeros?\n",
    "54. How do you create a Numpy array with a given shape containing all ones?\n",
    "55. How do you create an identity matrix of a given shape?\n",
    "56. How do you create a random vector of a given length?\n",
    "57. How do you create a Numpy array with a given shape with a fixed value for each element?\n",
    "58. How do you create a Numpy array with a given shape containing randomly initialized elements?\n",
    "59. What is the difference between `np.random.rand` and `np.random.randn`? Illustrate with examples.\n",
    "60. What is the difference between `np.arange` and `np.linspace`? Illustrate with examples."
   ]
  },
  {
   "cell_type": "code",
   "execution_count": null,
   "id": "b8cda8ba",
   "metadata": {},
   "outputs": [],
   "source": []
  }
 ],
 "metadata": {
  "kernelspec": {
   "display_name": "Python 3 (ipykernel)",
   "language": "python",
   "name": "python3"
  },
  "language_info": {
   "codemirror_mode": {
    "name": "ipython",
    "version": 3
   },
   "file_extension": ".py",
   "mimetype": "text/x-python",
   "name": "python",
   "nbconvert_exporter": "python",
   "pygments_lexer": "ipython3",
   "version": "3.9.12"
  }
 },
 "nbformat": 4,
 "nbformat_minor": 5
}
